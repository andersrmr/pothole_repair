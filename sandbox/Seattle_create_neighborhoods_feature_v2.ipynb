{
 "cells": [
  {
   "cell_type": "code",
   "execution_count": 14,
   "metadata": {
    "collapsed": false
   },
   "outputs": [],
   "source": [
    "import pandas as pd\n",
    "import numpy as np\n",
    "import fiona\n",
    "from shapely.geometry import shape, Polygon, MultiPolygon, Point, MultiPoint\n",
    "import cPickle as pickle"
   ]
  },
  {
   "cell_type": "code",
   "execution_count": 2,
   "metadata": {
    "collapsed": true
   },
   "outputs": [],
   "source": [
    "df = pd.read_pickle('df_first757_cleaned.pkl')"
   ]
  },
  {
   "cell_type": "code",
   "execution_count": 3,
   "metadata": {
    "collapsed": true
   },
   "outputs": [],
   "source": [
    "# Read in shapefile\n",
    "shapefilename = 'data/Neighborhoods'\n",
    "shp = fiona.open(shapefilename+'.shp')"
   ]
  },
  {
   "cell_type": "code",
   "execution_count": 4,
   "metadata": {
    "collapsed": false
   },
   "outputs": [],
   "source": [
    "# Get neighborhood polys and their indices\n",
    "polys = [shape(pol['geometry']) for pol in shp]\n",
    "shp.close()\n"
   ]
  },
  {
   "cell_type": "code",
   "execution_count": 5,
   "metadata": {
    "collapsed": true
   },
   "outputs": [],
   "source": [
    "neighborhood_index = [i+1 for i in range(len(polys))]"
   ]
  },
  {
   "cell_type": "code",
   "execution_count": 6,
   "metadata": {
    "collapsed": false
   },
   "outputs": [],
   "source": [
    "# Associate each neighborhood polygon with its index\n",
    "neighborhoods_tup = []\n",
    "for hood in xrange(len(polys)):\n",
    "    neighborhoods_tup.append((MultiPolygon(polys)[hood],\\\n",
    "    neighborhood_index[hood]))"
   ]
  },
  {
   "cell_type": "code",
   "execution_count": 7,
   "metadata": {
    "collapsed": true
   },
   "outputs": [],
   "source": [
    "# Get potholes\n",
    "all_potholes = MultiPoint([Point(x, y) for x, y in zip(df['longitude'],\\\n",
    "    df['latitude'])])"
   ]
  },
  {
   "cell_type": "code",
   "execution_count": 8,
   "metadata": {
    "collapsed": false
   },
   "outputs": [],
   "source": [
    "# Associate each pothole with its df index\n",
    "potholes_tup = []\n",
    "for hole in xrange(df.shape[0]):\n",
    "    potholes_tup.append((all_potholes[hole], df.index.tolist()[hole]))"
   ]
  },
  {
   "cell_type": "code",
   "execution_count": 9,
   "metadata": {
    "collapsed": false
   },
   "outputs": [],
   "source": [
    "# Keep the potholes, indices that fall within the neighborhoods\n",
    "city_holes_inds = []\n",
    "city_holes = []\n",
    "for hole in xrange(len(potholes_tup)):\n",
    "    for hood in xrange(len(neighborhoods_tup)):\n",
    "        if neighborhoods_tup[hood][0].contains(potholes_tup[hole][0]):\n",
    "            city_holes.append(potholes_tup[hole][0])\n",
    "            city_holes_inds.append(potholes_tup[hole][1])"
   ]
  },
  {
   "cell_type": "code",
   "execution_count": 15,
   "metadata": {
    "collapsed": false
   },
   "outputs": [],
   "source": [
    "city_potholes = (city_holes, city_holes_inds)\n",
    "with open('city_potholes.pkl', 'w') as f:\n",
    "        pickle.dump(city_potholes, f)"
   ]
  },
  {
   "cell_type": "code",
   "execution_count": null,
   "metadata": {
    "collapsed": true
   },
   "outputs": [],
   "source": []
  },
  {
   "cell_type": "code",
   "execution_count": 10,
   "metadata": {
    "collapsed": true
   },
   "outputs": [],
   "source": [
    "# Extract the neighborhood index associated with each pothole\n",
    "neighborhood_label = []\n",
    "for hole in xrange(len(city_holes)):\n",
    "    for hood in xrange(len(neighborhoods_tup)):\n",
    "        if neighborhoods_tup[hood][0].contains(city_holes[hole]):\n",
    "            neighborhood_label.append(neighborhoods_tup[hood][1])\n"
   ]
  },
  {
   "cell_type": "code",
   "execution_count": 11,
   "metadata": {
    "collapsed": true
   },
   "outputs": [],
   "source": [
    "# Add labels to dataframe\n",
    "df['neighborhood_label'] = pd.Series(neighborhood_label,\\\n",
    "    index = city_holes_inds)"
   ]
  },
  {
   "cell_type": "code",
   "execution_count": 12,
   "metadata": {
    "collapsed": false
   },
   "outputs": [
    {
     "data": {
      "text/html": [
       "<div>\n",
       "<table border=\"1\" class=\"dataframe\">\n",
       "  <thead>\n",
       "    <tr style=\"text-align: right;\">\n",
       "      <th></th>\n",
       "      <th>OBJECTID</th>\n",
       "      <th>WOKEY</th>\n",
       "      <th>LOCATION</th>\n",
       "      <th>ADDRDESC</th>\n",
       "      <th>INITDT_dt</th>\n",
       "      <th>FLDSTARTDT_dt</th>\n",
       "      <th>FLDENDDT_dt</th>\n",
       "      <th>DURATION</th>\n",
       "      <th>DURATION_td</th>\n",
       "      <th>latitude</th>\n",
       "      <th>longitude</th>\n",
       "      <th>address</th>\n",
       "      <th>address_detail</th>\n",
       "      <th>neighborhood_label</th>\n",
       "    </tr>\n",
       "  </thead>\n",
       "  <tbody>\n",
       "    <tr>\n",
       "      <th>0</th>\n",
       "      <td>1</td>\n",
       "      <td>2456</td>\n",
       "      <td>Holden pl SW bt  SW Kenyon Holden             ...</td>\n",
       "      <td>HOLDEN PL SW BETWEEN SW HOLDEN ST AND SW KENYO...</td>\n",
       "      <td>2010-03-29 07:00:00</td>\n",
       "      <td>2010-04-06 07:00:00</td>\n",
       "      <td>2010-04-06 07:00:00</td>\n",
       "      <td>8 days</td>\n",
       "      <td>8</td>\n",
       "      <td>47.531858</td>\n",
       "      <td>-122.363186</td>\n",
       "      <td>SW Kenyon St, Seattle, WA, USA</td>\n",
       "      <td>2438 SW Kenyon St, Seattle, WA 98106, USA</td>\n",
       "      <td>93</td>\n",
       "    </tr>\n",
       "    <tr>\n",
       "      <th>1</th>\n",
       "      <td>2</td>\n",
       "      <td>2514</td>\n",
       "      <td>NE Pacific Street, one block west of Montlake ...</td>\n",
       "      <td>MONTLAKE BLVD NE AND NE PACIFIC ST            ...</td>\n",
       "      <td>2010-03-30 07:00:00</td>\n",
       "      <td>2010-04-01 07:00:00</td>\n",
       "      <td>2010-04-01 07:00:00</td>\n",
       "      <td>2 days</td>\n",
       "      <td>2</td>\n",
       "      <td>47.649014</td>\n",
       "      <td>-122.304655</td>\n",
       "      <td>Montlake Blvd NE &amp; NE Pacific St, Seattle, WA ...</td>\n",
       "      <td>3705-3707 Montlake Blvd NE, Seattle, WA 98105,...</td>\n",
       "      <td>42</td>\n",
       "    </tr>\n",
       "    <tr>\n",
       "      <th>2</th>\n",
       "      <td>3</td>\n",
       "      <td>2649</td>\n",
       "      <td>32nd Ave NE and  NE 135th                     ...</td>\n",
       "      <td>NE 135TH ST BETWEEN 32ND AVE NE AND LAKE CITY ...</td>\n",
       "      <td>2010-03-31 07:00:00</td>\n",
       "      <td>2010-04-01 07:00:00</td>\n",
       "      <td>2010-04-01 07:00:00</td>\n",
       "      <td>1 days</td>\n",
       "      <td>1</td>\n",
       "      <td>47.707446</td>\n",
       "      <td>-122.301566</td>\n",
       "      <td>Lake City Way NE, Seattle, WA, USA</td>\n",
       "      <td>10754-10850 Lake City Way NE, Seattle, WA 9812...</td>\n",
       "      <td>104</td>\n",
       "    </tr>\n",
       "    <tr>\n",
       "      <th>3</th>\n",
       "      <td>4</td>\n",
       "      <td>1591</td>\n",
       "      <td>Charles st &amp; 6 Ave S pothole next to traffic l...</td>\n",
       "      <td>S CHARLES ST BETWEEN 6TH AVE S AND MAYNARD AVE...</td>\n",
       "      <td>2010-03-15 07:00:00</td>\n",
       "      <td>2010-03-16 07:00:00</td>\n",
       "      <td>2010-03-16 07:00:00</td>\n",
       "      <td>1 days</td>\n",
       "      <td>1</td>\n",
       "      <td>47.597085</td>\n",
       "      <td>-122.325065</td>\n",
       "      <td>Maynard Ave S, Seattle, WA, USA</td>\n",
       "      <td>608 Maynard Ave S, Seattle, WA 98104, USA</td>\n",
       "      <td>61</td>\n",
       "    </tr>\n",
       "    <tr>\n",
       "      <th>4</th>\n",
       "      <td>5</td>\n",
       "      <td>1680</td>\n",
       "      <td>N 80th St between Corliss Ave N and 2nd Ave NE...</td>\n",
       "      <td>N 80TH ST BETWEEN CORLISS (W LEG) AVE N AND CO...</td>\n",
       "      <td>2010-03-16 07:00:00</td>\n",
       "      <td>2010-03-17 07:00:00</td>\n",
       "      <td>2010-03-17 07:00:00</td>\n",
       "      <td>1 days</td>\n",
       "      <td>1</td>\n",
       "      <td>47.606209</td>\n",
       "      <td>-122.332071</td>\n",
       "      <td>Seattle, WA, USA</td>\n",
       "      <td>909 5th Ave, Seattle, WA 98164, USA</td>\n",
       "      <td>62</td>\n",
       "    </tr>\n",
       "  </tbody>\n",
       "</table>\n",
       "</div>"
      ],
      "text/plain": [
       "   OBJECTID  WOKEY                                           LOCATION  \\\n",
       "0         1   2456  Holden pl SW bt  SW Kenyon Holden             ...   \n",
       "1         2   2514  NE Pacific Street, one block west of Montlake ...   \n",
       "2         3   2649  32nd Ave NE and  NE 135th                     ...   \n",
       "3         4   1591  Charles st & 6 Ave S pothole next to traffic l...   \n",
       "4         5   1680  N 80th St between Corliss Ave N and 2nd Ave NE...   \n",
       "\n",
       "                                            ADDRDESC           INITDT_dt  \\\n",
       "0  HOLDEN PL SW BETWEEN SW HOLDEN ST AND SW KENYO... 2010-03-29 07:00:00   \n",
       "1  MONTLAKE BLVD NE AND NE PACIFIC ST            ... 2010-03-30 07:00:00   \n",
       "2  NE 135TH ST BETWEEN 32ND AVE NE AND LAKE CITY ... 2010-03-31 07:00:00   \n",
       "3  S CHARLES ST BETWEEN 6TH AVE S AND MAYNARD AVE... 2010-03-15 07:00:00   \n",
       "4  N 80TH ST BETWEEN CORLISS (W LEG) AVE N AND CO... 2010-03-16 07:00:00   \n",
       "\n",
       "        FLDSTARTDT_dt         FLDENDDT_dt  DURATION  DURATION_td   latitude  \\\n",
       "0 2010-04-06 07:00:00 2010-04-06 07:00:00    8 days            8  47.531858   \n",
       "1 2010-04-01 07:00:00 2010-04-01 07:00:00    2 days            2  47.649014   \n",
       "2 2010-04-01 07:00:00 2010-04-01 07:00:00    1 days            1  47.707446   \n",
       "3 2010-03-16 07:00:00 2010-03-16 07:00:00    1 days            1  47.597085   \n",
       "4 2010-03-17 07:00:00 2010-03-17 07:00:00    1 days            1  47.606209   \n",
       "\n",
       "    longitude                                            address  \\\n",
       "0 -122.363186                     SW Kenyon St, Seattle, WA, USA   \n",
       "1 -122.304655  Montlake Blvd NE & NE Pacific St, Seattle, WA ...   \n",
       "2 -122.301566                 Lake City Way NE, Seattle, WA, USA   \n",
       "3 -122.325065                    Maynard Ave S, Seattle, WA, USA   \n",
       "4 -122.332071                                   Seattle, WA, USA   \n",
       "\n",
       "                                      address_detail  neighborhood_label  \n",
       "0          2438 SW Kenyon St, Seattle, WA 98106, USA                  93  \n",
       "1  3705-3707 Montlake Blvd NE, Seattle, WA 98105,...                  42  \n",
       "2  10754-10850 Lake City Way NE, Seattle, WA 9812...                 104  \n",
       "3          608 Maynard Ave S, Seattle, WA 98104, USA                  61  \n",
       "4                909 5th Ave, Seattle, WA 98164, USA                  62  "
      ]
     },
     "execution_count": 12,
     "metadata": {},
     "output_type": "execute_result"
    }
   ],
   "source": [
    "df.head()"
   ]
  },
  {
   "cell_type": "code",
   "execution_count": null,
   "metadata": {
    "collapsed": true
   },
   "outputs": [],
   "source": []
  }
 ],
 "metadata": {
  "kernelspec": {
   "display_name": "Python 2",
   "language": "python",
   "name": "python2"
  },
  "language_info": {
   "codemirror_mode": {
    "name": "ipython",
    "version": 2
   },
   "file_extension": ".py",
   "mimetype": "text/x-python",
   "name": "python",
   "nbconvert_exporter": "python",
   "pygments_lexer": "ipython2",
   "version": "2.7.10"
  }
 },
 "nbformat": 4,
 "nbformat_minor": 0
}
