{
 "cells": [
  {
   "cell_type": "markdown",
   "metadata": {},
   "source": [
    "####First, create the neighborhoods feature"
   ]
  },
  {
   "cell_type": "code",
   "execution_count": 1,
   "metadata": {
    "collapsed": true
   },
   "outputs": [],
   "source": [
    "#Imports here\n",
    "import matplotlib.pyplot as plt\n",
    "import numpy as np\n",
    "import pandas as pd\n",
    "import fiona\n",
    "from mpl_toolkits.basemap import Basemap\n",
    "from shapely.geometry import Point, Polygon, MultiPoint, MultiPolygon\n",
    "from shapely.prepared import prep"
   ]
  },
  {
   "cell_type": "code",
   "execution_count": 2,
   "metadata": {
    "collapsed": false
   },
   "outputs": [],
   "source": [
    "df = pd.read_pickle('df_first757_cleaned.pkl')"
   ]
  },
  {
   "cell_type": "code",
   "execution_count": 3,
   "metadata": {
    "collapsed": false
   },
   "outputs": [
    {
     "data": {
      "text/html": [
       "<div>\n",
       "<table border=\"1\" class=\"dataframe\">\n",
       "  <thead>\n",
       "    <tr style=\"text-align: right;\">\n",
       "      <th></th>\n",
       "      <th>OBJECTID</th>\n",
       "      <th>WOKEY</th>\n",
       "      <th>LOCATION</th>\n",
       "      <th>ADDRDESC</th>\n",
       "      <th>INITDT_dt</th>\n",
       "      <th>FLDSTARTDT_dt</th>\n",
       "      <th>FLDENDDT_dt</th>\n",
       "      <th>DURATION</th>\n",
       "      <th>DURATION_td</th>\n",
       "      <th>latitude</th>\n",
       "      <th>longitude</th>\n",
       "      <th>address</th>\n",
       "      <th>address_detail</th>\n",
       "    </tr>\n",
       "  </thead>\n",
       "  <tbody>\n",
       "    <tr>\n",
       "      <th>0</th>\n",
       "      <td>1</td>\n",
       "      <td>2456</td>\n",
       "      <td>Holden pl SW bt  SW Kenyon Holden             ...</td>\n",
       "      <td>HOLDEN PL SW BETWEEN SW HOLDEN ST AND SW KENYO...</td>\n",
       "      <td>2010-03-29 07:00:00</td>\n",
       "      <td>2010-04-06 07:00:00</td>\n",
       "      <td>2010-04-06 07:00:00</td>\n",
       "      <td>8 days</td>\n",
       "      <td>8</td>\n",
       "      <td>47.531858</td>\n",
       "      <td>-122.363186</td>\n",
       "      <td>SW Kenyon St, Seattle, WA, USA</td>\n",
       "      <td>2438 SW Kenyon St, Seattle, WA 98106, USA</td>\n",
       "    </tr>\n",
       "    <tr>\n",
       "      <th>1</th>\n",
       "      <td>2</td>\n",
       "      <td>2514</td>\n",
       "      <td>NE Pacific Street, one block west of Montlake ...</td>\n",
       "      <td>MONTLAKE BLVD NE AND NE PACIFIC ST            ...</td>\n",
       "      <td>2010-03-30 07:00:00</td>\n",
       "      <td>2010-04-01 07:00:00</td>\n",
       "      <td>2010-04-01 07:00:00</td>\n",
       "      <td>2 days</td>\n",
       "      <td>2</td>\n",
       "      <td>47.649014</td>\n",
       "      <td>-122.304655</td>\n",
       "      <td>Montlake Blvd NE &amp; NE Pacific St, Seattle, WA ...</td>\n",
       "      <td>3705-3707 Montlake Blvd NE, Seattle, WA 98105,...</td>\n",
       "    </tr>\n",
       "    <tr>\n",
       "      <th>2</th>\n",
       "      <td>3</td>\n",
       "      <td>2649</td>\n",
       "      <td>32nd Ave NE and  NE 135th                     ...</td>\n",
       "      <td>NE 135TH ST BETWEEN 32ND AVE NE AND LAKE CITY ...</td>\n",
       "      <td>2010-03-31 07:00:00</td>\n",
       "      <td>2010-04-01 07:00:00</td>\n",
       "      <td>2010-04-01 07:00:00</td>\n",
       "      <td>1 days</td>\n",
       "      <td>1</td>\n",
       "      <td>47.707446</td>\n",
       "      <td>-122.301566</td>\n",
       "      <td>Lake City Way NE, Seattle, WA, USA</td>\n",
       "      <td>10754-10850 Lake City Way NE, Seattle, WA 9812...</td>\n",
       "    </tr>\n",
       "  </tbody>\n",
       "</table>\n",
       "</div>"
      ],
      "text/plain": [
       "   OBJECTID  WOKEY                                           LOCATION  \\\n",
       "0         1   2456  Holden pl SW bt  SW Kenyon Holden             ...   \n",
       "1         2   2514  NE Pacific Street, one block west of Montlake ...   \n",
       "2         3   2649  32nd Ave NE and  NE 135th                     ...   \n",
       "\n",
       "                                            ADDRDESC           INITDT_dt  \\\n",
       "0  HOLDEN PL SW BETWEEN SW HOLDEN ST AND SW KENYO... 2010-03-29 07:00:00   \n",
       "1  MONTLAKE BLVD NE AND NE PACIFIC ST            ... 2010-03-30 07:00:00   \n",
       "2  NE 135TH ST BETWEEN 32ND AVE NE AND LAKE CITY ... 2010-03-31 07:00:00   \n",
       "\n",
       "        FLDSTARTDT_dt         FLDENDDT_dt  DURATION  DURATION_td   latitude  \\\n",
       "0 2010-04-06 07:00:00 2010-04-06 07:00:00    8 days            8  47.531858   \n",
       "1 2010-04-01 07:00:00 2010-04-01 07:00:00    2 days            2  47.649014   \n",
       "2 2010-04-01 07:00:00 2010-04-01 07:00:00    1 days            1  47.707446   \n",
       "\n",
       "    longitude                                            address  \\\n",
       "0 -122.363186                     SW Kenyon St, Seattle, WA, USA   \n",
       "1 -122.304655  Montlake Blvd NE & NE Pacific St, Seattle, WA ...   \n",
       "2 -122.301566                 Lake City Way NE, Seattle, WA, USA   \n",
       "\n",
       "                                      address_detail  \n",
       "0          2438 SW Kenyon St, Seattle, WA 98106, USA  \n",
       "1  3705-3707 Montlake Blvd NE, Seattle, WA 98105,...  \n",
       "2  10754-10850 Lake City Way NE, Seattle, WA 9812...  "
      ]
     },
     "execution_count": 3,
     "metadata": {},
     "output_type": "execute_result"
    }
   ],
   "source": [
    "df.head(3)"
   ]
  },
  {
   "cell_type": "code",
   "execution_count": 4,
   "metadata": {
    "collapsed": false
   },
   "outputs": [],
   "source": [
    "shapefilename = 'data/Neighborhoods'\n",
    "shp = fiona.open(shapefilename+'.shp')\n",
    "coords = shp.bounds\n",
    "shp.close()"
   ]
  },
  {
   "cell_type": "code",
   "execution_count": 5,
   "metadata": {
    "collapsed": true
   },
   "outputs": [],
   "source": [
    "w, h = coords[2] - coords[0], coords[3] - coords[1]\n",
    "extra = 0.01"
   ]
  },
  {
   "cell_type": "code",
   "execution_count": 6,
   "metadata": {
    "collapsed": true
   },
   "outputs": [],
   "source": [
    "m = Basemap(\n",
    "    projection='tmerc', ellps='WGS84',\n",
    "    lon_0=np.mean([coords[0], coords[2]]),\n",
    "    lat_0=np.mean([coords[1], coords[3]]),\n",
    "    llcrnrlon=coords[0] - extra * w,\n",
    "    llcrnrlat=coords[1] - (extra * h), \n",
    "    urcrnrlon=coords[2] + extra * w,\n",
    "    urcrnrlat=coords[3] + (extra * h),\n",
    "    resolution='i',  suppress_ticks=True)\n",
    "\n",
    "_out = m.readshapefile(shapefilename, name='seattle', drawbounds=False, color='none', zorder=2)"
   ]
  },
  {
   "cell_type": "code",
   "execution_count": 7,
   "metadata": {
    "collapsed": false
   },
   "outputs": [],
   "source": [
    "# set up a map dataframe\n",
    "df_map = pd.DataFrame({\n",
    "    'poly': [Polygon(hood_points) for hood_points in m.seattle],\n",
    "    'name': [hood['S_HOOD'] for hood in m.seattle_info]\n",
    "})"
   ]
  },
  {
   "cell_type": "code",
   "execution_count": 8,
   "metadata": {
    "collapsed": false
   },
   "outputs": [
    {
     "data": {
      "text/html": [
       "<div>\n",
       "<table border=\"1\" class=\"dataframe\">\n",
       "  <thead>\n",
       "    <tr style=\"text-align: right;\">\n",
       "      <th></th>\n",
       "      <th>name</th>\n",
       "      <th>poly</th>\n",
       "    </tr>\n",
       "  </thead>\n",
       "  <tbody>\n",
       "    <tr>\n",
       "      <th>0</th>\n",
       "      <td>OOO</td>\n",
       "      <td>POLYGON ((12338.19322904486 22466.72127820574,...</td>\n",
       "    </tr>\n",
       "    <tr>\n",
       "      <th>1</th>\n",
       "      <td>OOO</td>\n",
       "      <td>POLYGON ((11322.23854830379 16906.90311193793,...</td>\n",
       "    </tr>\n",
       "    <tr>\n",
       "      <th>2</th>\n",
       "      <td>OOO</td>\n",
       "      <td>POLYGON ((3229.497971597746 19120.87266739659,...</td>\n",
       "    </tr>\n",
       "    <tr>\n",
       "      <th>3</th>\n",
       "      <td>OOO</td>\n",
       "      <td>POLYGON ((3002.014374016682 19226.97182663195,...</td>\n",
       "    </tr>\n",
       "    <tr>\n",
       "      <th>4</th>\n",
       "      <td>OOO</td>\n",
       "      <td>POLYGON ((11249.88175412699 18137.97426609295,...</td>\n",
       "    </tr>\n",
       "  </tbody>\n",
       "</table>\n",
       "</div>"
      ],
      "text/plain": [
       "  name                                               poly\n",
       "0  OOO  POLYGON ((12338.19322904486 22466.72127820574,...\n",
       "1  OOO  POLYGON ((11322.23854830379 16906.90311193793,...\n",
       "2  OOO  POLYGON ((3229.497971597746 19120.87266739659,...\n",
       "3  OOO  POLYGON ((3002.014374016682 19226.97182663195,...\n",
       "4  OOO  POLYGON ((11249.88175412699 18137.97426609295,..."
      ]
     },
     "execution_count": 8,
     "metadata": {},
     "output_type": "execute_result"
    }
   ],
   "source": [
    "df_map.head()"
   ]
  },
  {
   "cell_type": "code",
   "execution_count": 9,
   "metadata": {
    "collapsed": true
   },
   "outputs": [],
   "source": [
    "df_map['neighborhood_index'] = df_map.index+1"
   ]
  },
  {
   "cell_type": "code",
   "execution_count": 10,
   "metadata": {
    "collapsed": false
   },
   "outputs": [
    {
     "data": {
      "text/html": [
       "<div>\n",
       "<table border=\"1\" class=\"dataframe\">\n",
       "  <thead>\n",
       "    <tr style=\"text-align: right;\">\n",
       "      <th></th>\n",
       "      <th>name</th>\n",
       "      <th>poly</th>\n",
       "      <th>neighborhood_index</th>\n",
       "    </tr>\n",
       "  </thead>\n",
       "  <tbody>\n",
       "    <tr>\n",
       "      <th>0</th>\n",
       "      <td>OOO</td>\n",
       "      <td>POLYGON ((12338.19322904486 22466.72127820574,...</td>\n",
       "      <td>1</td>\n",
       "    </tr>\n",
       "    <tr>\n",
       "      <th>1</th>\n",
       "      <td>OOO</td>\n",
       "      <td>POLYGON ((11322.23854830379 16906.90311193793,...</td>\n",
       "      <td>2</td>\n",
       "    </tr>\n",
       "    <tr>\n",
       "      <th>2</th>\n",
       "      <td>OOO</td>\n",
       "      <td>POLYGON ((3229.497971597746 19120.87266739659,...</td>\n",
       "      <td>3</td>\n",
       "    </tr>\n",
       "    <tr>\n",
       "      <th>3</th>\n",
       "      <td>OOO</td>\n",
       "      <td>POLYGON ((3002.014374016682 19226.97182663195,...</td>\n",
       "      <td>4</td>\n",
       "    </tr>\n",
       "    <tr>\n",
       "      <th>4</th>\n",
       "      <td>OOO</td>\n",
       "      <td>POLYGON ((11249.88175412699 18137.97426609295,...</td>\n",
       "      <td>5</td>\n",
       "    </tr>\n",
       "  </tbody>\n",
       "</table>\n",
       "</div>"
      ],
      "text/plain": [
       "  name                                               poly  neighborhood_index\n",
       "0  OOO  POLYGON ((12338.19322904486 22466.72127820574,...                   1\n",
       "1  OOO  POLYGON ((11322.23854830379 16906.90311193793,...                   2\n",
       "2  OOO  POLYGON ((3229.497971597746 19120.87266739659,...                   3\n",
       "3  OOO  POLYGON ((3002.014374016682 19226.97182663195,...                   4\n",
       "4  OOO  POLYGON ((11249.88175412699 18137.97426609295,...                   5"
      ]
     },
     "execution_count": 10,
     "metadata": {},
     "output_type": "execute_result"
    }
   ],
   "source": [
    "df_map.head()"
   ]
  },
  {
   "cell_type": "code",
   "execution_count": 11,
   "metadata": {
    "collapsed": true
   },
   "outputs": [],
   "source": [
    "# Convert our latitude and longitude into Basemap cartesian map coordinates\n",
    "mapped_points = [Point(m(mapped_x, mapped_y)) for mapped_x, mapped_y in zip(df['longitude'], \n",
    "            df['latitude'])]\n",
    "all_points = MultiPoint(mapped_points)"
   ]
  },
  {
   "cell_type": "code",
   "execution_count": 12,
   "metadata": {
    "collapsed": false
   },
   "outputs": [],
   "source": [
    "#Associate each mapped pothole with its df index\n",
    "potholes_tup = []\n",
    "for hole in xrange(df.shape[0]):\n",
    "    potholes_tup.append((all_points[hole], df.index.tolist()[hole]))\n",
    "        "
   ]
  },
  {
   "cell_type": "code",
   "execution_count": 15,
   "metadata": {
    "collapsed": true
   },
   "outputs": [],
   "source": [
    "# Use prep to optimize polygons for faster computation\n",
    "\n",
    "hood_polygons = prep(MultiPolygon(list(df_map['poly'].values))) #I could put tuples in this list, \n",
    "                                                                #where the 2nd elem is the neighborhood index.\n",
    "                                                                #then they're associated with the hood_polygons"
   ]
  },
  {
   "cell_type": "code",
   "execution_count": 16,
   "metadata": {
    "collapsed": false
   },
   "outputs": [],
   "source": [
    "#Associate each neighborhood with its index\n",
    "neighborhoods_tup = []\n",
    "for hood in xrange(df_map.shape[0]):\n",
    "    neighborhoods_tup.append((MultiPolygon(list(df_map['poly'].values))[hood], df_map['neighborhood_index'][hood]))"
   ]
  },
  {
   "cell_type": "code",
   "execution_count": 21,
   "metadata": {
    "collapsed": false
   },
   "outputs": [],
   "source": [
    "#Keep the potholes, indices that fall within the neighborhoods\n",
    "city_points_inds = []\n",
    "city_points = []\n",
    "for pt in xrange(len(potholes_tup)):\n",
    "    for hood in xrange(len(neighborhoods_tup)):\n",
    "        if neighborhoods_tup[hood][0].contains(potholes_tup[pt][0]):\n",
    "            city_points.append(potholes_tup[pt][0])\n",
    "            city_points_inds.append(potholes_tup[pt][1])\n",
    "            "
   ]
  },
  {
   "cell_type": "code",
   "execution_count": 23,
   "metadata": {
    "collapsed": false
   },
   "outputs": [],
   "source": [
    "#Extract the neighborhood index associated with each pothole\n",
    "neighborhood_cat = []\n",
    "for pt in xrange(len(city_points)):\n",
    "    for hood in xrange(len(neighborhoods_tup)):\n",
    "        if neighborhoods_tup[hood][0].contains(city_points[pt]):\n",
    "            neighborhood_cat.append(neighborhoods_tup[hood][1])\n"
   ]
  },
  {
   "cell_type": "code",
   "execution_count": 19,
   "metadata": {
    "collapsed": true
   },
   "outputs": [],
   "source": [
    "#Now I just need to create the indexed Series and add it to the dataframe"
   ]
  },
  {
   "cell_type": "code",
   "execution_count": 24,
   "metadata": {
    "collapsed": false
   },
   "outputs": [],
   "source": [
    "df['neighborhood_cat'] = pd.Series(neighborhood_cat, index = city_points_inds)"
   ]
  },
  {
   "cell_type": "code",
   "execution_count": 25,
   "metadata": {
    "collapsed": false
   },
   "outputs": [
    {
     "data": {
      "text/html": [
       "<div>\n",
       "<table border=\"1\" class=\"dataframe\">\n",
       "  <thead>\n",
       "    <tr style=\"text-align: right;\">\n",
       "      <th></th>\n",
       "      <th>OBJECTID</th>\n",
       "      <th>WOKEY</th>\n",
       "      <th>LOCATION</th>\n",
       "      <th>ADDRDESC</th>\n",
       "      <th>INITDT_dt</th>\n",
       "      <th>FLDSTARTDT_dt</th>\n",
       "      <th>FLDENDDT_dt</th>\n",
       "      <th>DURATION</th>\n",
       "      <th>DURATION_td</th>\n",
       "      <th>latitude</th>\n",
       "      <th>longitude</th>\n",
       "      <th>address</th>\n",
       "      <th>address_detail</th>\n",
       "      <th>neighborhood_cat</th>\n",
       "    </tr>\n",
       "  </thead>\n",
       "  <tbody>\n",
       "    <tr>\n",
       "      <th>0</th>\n",
       "      <td>1</td>\n",
       "      <td>2456</td>\n",
       "      <td>Holden pl SW bt  SW Kenyon Holden             ...</td>\n",
       "      <td>HOLDEN PL SW BETWEEN SW HOLDEN ST AND SW KENYO...</td>\n",
       "      <td>2010-03-29 07:00:00</td>\n",
       "      <td>2010-04-06 07:00:00</td>\n",
       "      <td>2010-04-06 07:00:00</td>\n",
       "      <td>8 days</td>\n",
       "      <td>8</td>\n",
       "      <td>47.531858</td>\n",
       "      <td>-122.363186</td>\n",
       "      <td>SW Kenyon St, Seattle, WA, USA</td>\n",
       "      <td>2438 SW Kenyon St, Seattle, WA 98106, USA</td>\n",
       "      <td>93</td>\n",
       "    </tr>\n",
       "    <tr>\n",
       "      <th>1</th>\n",
       "      <td>2</td>\n",
       "      <td>2514</td>\n",
       "      <td>NE Pacific Street, one block west of Montlake ...</td>\n",
       "      <td>MONTLAKE BLVD NE AND NE PACIFIC ST            ...</td>\n",
       "      <td>2010-03-30 07:00:00</td>\n",
       "      <td>2010-04-01 07:00:00</td>\n",
       "      <td>2010-04-01 07:00:00</td>\n",
       "      <td>2 days</td>\n",
       "      <td>2</td>\n",
       "      <td>47.649014</td>\n",
       "      <td>-122.304655</td>\n",
       "      <td>Montlake Blvd NE &amp; NE Pacific St, Seattle, WA ...</td>\n",
       "      <td>3705-3707 Montlake Blvd NE, Seattle, WA 98105,...</td>\n",
       "      <td>42</td>\n",
       "    </tr>\n",
       "    <tr>\n",
       "      <th>2</th>\n",
       "      <td>3</td>\n",
       "      <td>2649</td>\n",
       "      <td>32nd Ave NE and  NE 135th                     ...</td>\n",
       "      <td>NE 135TH ST BETWEEN 32ND AVE NE AND LAKE CITY ...</td>\n",
       "      <td>2010-03-31 07:00:00</td>\n",
       "      <td>2010-04-01 07:00:00</td>\n",
       "      <td>2010-04-01 07:00:00</td>\n",
       "      <td>1 days</td>\n",
       "      <td>1</td>\n",
       "      <td>47.707446</td>\n",
       "      <td>-122.301566</td>\n",
       "      <td>Lake City Way NE, Seattle, WA, USA</td>\n",
       "      <td>10754-10850 Lake City Way NE, Seattle, WA 9812...</td>\n",
       "      <td>105</td>\n",
       "    </tr>\n",
       "  </tbody>\n",
       "</table>\n",
       "</div>"
      ],
      "text/plain": [
       "   OBJECTID  WOKEY                                           LOCATION  \\\n",
       "0         1   2456  Holden pl SW bt  SW Kenyon Holden             ...   \n",
       "1         2   2514  NE Pacific Street, one block west of Montlake ...   \n",
       "2         3   2649  32nd Ave NE and  NE 135th                     ...   \n",
       "\n",
       "                                            ADDRDESC           INITDT_dt  \\\n",
       "0  HOLDEN PL SW BETWEEN SW HOLDEN ST AND SW KENYO... 2010-03-29 07:00:00   \n",
       "1  MONTLAKE BLVD NE AND NE PACIFIC ST            ... 2010-03-30 07:00:00   \n",
       "2  NE 135TH ST BETWEEN 32ND AVE NE AND LAKE CITY ... 2010-03-31 07:00:00   \n",
       "\n",
       "        FLDSTARTDT_dt         FLDENDDT_dt  DURATION  DURATION_td   latitude  \\\n",
       "0 2010-04-06 07:00:00 2010-04-06 07:00:00    8 days            8  47.531858   \n",
       "1 2010-04-01 07:00:00 2010-04-01 07:00:00    2 days            2  47.649014   \n",
       "2 2010-04-01 07:00:00 2010-04-01 07:00:00    1 days            1  47.707446   \n",
       "\n",
       "    longitude                                            address  \\\n",
       "0 -122.363186                     SW Kenyon St, Seattle, WA, USA   \n",
       "1 -122.304655  Montlake Blvd NE & NE Pacific St, Seattle, WA ...   \n",
       "2 -122.301566                 Lake City Way NE, Seattle, WA, USA   \n",
       "\n",
       "                                      address_detail  neighborhood_cat  \n",
       "0          2438 SW Kenyon St, Seattle, WA 98106, USA                93  \n",
       "1  3705-3707 Montlake Blvd NE, Seattle, WA 98105,...                42  \n",
       "2  10754-10850 Lake City Way NE, Seattle, WA 9812...               105  "
      ]
     },
     "execution_count": 25,
     "metadata": {},
     "output_type": "execute_result"
    }
   ],
   "source": [
    "df.head(3)"
   ]
  },
  {
   "cell_type": "code",
   "execution_count": 26,
   "metadata": {
    "collapsed": false
   },
   "outputs": [
    {
     "name": "stdout",
     "output_type": "stream",
     "text": [
      "<class 'pandas.core.frame.DataFrame'>\n",
      "Int64Index: 757 entries, 0 to 1000\n",
      "Data columns (total 14 columns):\n",
      "OBJECTID            757 non-null int64\n",
      "WOKEY               757 non-null int64\n",
      "LOCATION            757 non-null object\n",
      "ADDRDESC            757 non-null object\n",
      "INITDT_dt           757 non-null datetime64[ns]\n",
      "FLDSTARTDT_dt       757 non-null datetime64[ns]\n",
      "FLDENDDT_dt         757 non-null datetime64[ns]\n",
      "DURATION            757 non-null timedelta64[ns]\n",
      "DURATION_td         757 non-null float64\n",
      "latitude            757 non-null float64\n",
      "longitude           757 non-null float64\n",
      "address             757 non-null object\n",
      "address_detail      757 non-null object\n",
      "neighborhood_cat    732 non-null float64\n",
      "dtypes: datetime64[ns](3), float64(4), int64(2), object(4), timedelta64[ns](1)\n",
      "memory usage: 88.7+ KB\n"
     ]
    }
   ],
   "source": [
    "df.info()"
   ]
  },
  {
   "cell_type": "markdown",
   "metadata": {},
   "source": [
    "Notice missing values where potholes fall outside the mapped/neighborhood boundaries.  Will drop them."
   ]
  },
  {
   "cell_type": "code",
   "execution_count": 28,
   "metadata": {
    "collapsed": false
   },
   "outputs": [
    {
     "data": {
      "text/plain": [
       "(25, 14)"
      ]
     },
     "execution_count": 28,
     "metadata": {},
     "output_type": "execute_result"
    }
   ],
   "source": [
    "df[pd.isnull(df.neighborhood_cat)].shape"
   ]
  },
  {
   "cell_type": "code",
   "execution_count": 31,
   "metadata": {
    "collapsed": false
   },
   "outputs": [],
   "source": [
    "df_neighborhoods = df[pd.isnull(df.neighborhood_cat) != True].copy()"
   ]
  },
  {
   "cell_type": "code",
   "execution_count": 32,
   "metadata": {
    "collapsed": false
   },
   "outputs": [
    {
     "name": "stdout",
     "output_type": "stream",
     "text": [
      "<class 'pandas.core.frame.DataFrame'>\n",
      "Int64Index: 732 entries, 0 to 1000\n",
      "Data columns (total 14 columns):\n",
      "OBJECTID            732 non-null int64\n",
      "WOKEY               732 non-null int64\n",
      "LOCATION            732 non-null object\n",
      "ADDRDESC            732 non-null object\n",
      "INITDT_dt           732 non-null datetime64[ns]\n",
      "FLDSTARTDT_dt       732 non-null datetime64[ns]\n",
      "FLDENDDT_dt         732 non-null datetime64[ns]\n",
      "DURATION            732 non-null timedelta64[ns]\n",
      "DURATION_td         732 non-null float64\n",
      "latitude            732 non-null float64\n",
      "longitude           732 non-null float64\n",
      "address             732 non-null object\n",
      "address_detail      732 non-null object\n",
      "neighborhood_cat    732 non-null float64\n",
      "dtypes: datetime64[ns](3), float64(4), int64(2), object(4), timedelta64[ns](1)\n",
      "memory usage: 85.8+ KB\n"
     ]
    }
   ],
   "source": [
    "df_neighborhoods.info()"
   ]
  },
  {
   "cell_type": "code",
   "execution_count": 33,
   "metadata": {
    "collapsed": true
   },
   "outputs": [],
   "source": [
    "df_neighborhoods.to_pickle('df_neighborhoods.pkl')"
   ]
  },
  {
   "cell_type": "code",
   "execution_count": null,
   "metadata": {
    "collapsed": true
   },
   "outputs": [],
   "source": []
  }
 ],
 "metadata": {
  "kernelspec": {
   "display_name": "Python 2",
   "language": "python",
   "name": "python2"
  },
  "language_info": {
   "codemirror_mode": {
    "name": "ipython",
    "version": 2
   },
   "file_extension": ".py",
   "mimetype": "text/x-python",
   "name": "python",
   "nbconvert_exporter": "python",
   "pygments_lexer": "ipython2",
   "version": "2.7.10"
  }
 },
 "nbformat": 4,
 "nbformat_minor": 0
}
