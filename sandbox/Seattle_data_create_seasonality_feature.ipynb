{
 "cells": [
  {
   "cell_type": "code",
   "execution_count": 1,
   "metadata": {
    "collapsed": true
   },
   "outputs": [],
   "source": [
    "import matplotlib.pyplot as plt\n",
    "import numpy as np\n",
    "import pandas as pd\n",
    "%matplotlib inline"
   ]
  },
  {
   "cell_type": "code",
   "execution_count": 2,
   "metadata": {
    "collapsed": true
   },
   "outputs": [],
   "source": [
    "df = pd.read_pickle('df_neighborhoods_dists.pkl')"
   ]
  },
  {
   "cell_type": "code",
   "execution_count": 3,
   "metadata": {
    "collapsed": false
   },
   "outputs": [
    {
     "data": {
      "text/html": [
       "<div>\n",
       "<table border=\"1\" class=\"dataframe\">\n",
       "  <thead>\n",
       "    <tr style=\"text-align: right;\">\n",
       "      <th></th>\n",
       "      <th>OBJECTID</th>\n",
       "      <th>WOKEY</th>\n",
       "      <th>LOCATION</th>\n",
       "      <th>ADDRDESC</th>\n",
       "      <th>INITDT_dt</th>\n",
       "      <th>FLDSTARTDT_dt</th>\n",
       "      <th>FLDENDDT_dt</th>\n",
       "      <th>DURATION</th>\n",
       "      <th>DURATION_td</th>\n",
       "      <th>latitude</th>\n",
       "      <th>longitude</th>\n",
       "      <th>address</th>\n",
       "      <th>address_detail</th>\n",
       "      <th>neighborhood_cat</th>\n",
       "      <th>Seattle_dist</th>\n",
       "      <th>Space_Needle_dist</th>\n",
       "      <th>Pike_Place_dist</th>\n",
       "      <th>Convention_Center_dist</th>\n",
       "      <th>Woodland_Park_dist</th>\n",
       "      <th>Queene_Anne_dist</th>\n",
       "    </tr>\n",
       "  </thead>\n",
       "  <tbody>\n",
       "    <tr>\n",
       "      <th>0</th>\n",
       "      <td>1</td>\n",
       "      <td>2456</td>\n",
       "      <td>Holden pl SW bt  SW Kenyon Holden             ...</td>\n",
       "      <td>HOLDEN PL SW BETWEEN SW HOLDEN ST AND SW KENYO...</td>\n",
       "      <td>2010-03-29 07:00:00</td>\n",
       "      <td>2010-04-06 07:00:00</td>\n",
       "      <td>2010-04-06 07:00:00</td>\n",
       "      <td>8 days</td>\n",
       "      <td>8</td>\n",
       "      <td>47.531858</td>\n",
       "      <td>-122.363186</td>\n",
       "      <td>SW Kenyon St, Seattle, WA, USA</td>\n",
       "      <td>2438 SW Kenyon St, Seattle, WA 98106, USA</td>\n",
       "      <td>93</td>\n",
       "      <td>5.338641</td>\n",
       "      <td>6.158729</td>\n",
       "      <td>5.467939</td>\n",
       "      <td>5.688451</td>\n",
       "      <td>9.453253</td>\n",
       "      <td>7.300465</td>\n",
       "    </tr>\n",
       "    <tr>\n",
       "      <th>1</th>\n",
       "      <td>2</td>\n",
       "      <td>2514</td>\n",
       "      <td>NE Pacific Street, one block west of Montlake ...</td>\n",
       "      <td>MONTLAKE BLVD NE AND NE PACIFIC ST            ...</td>\n",
       "      <td>2010-03-30 07:00:00</td>\n",
       "      <td>2010-04-01 07:00:00</td>\n",
       "      <td>2010-04-01 07:00:00</td>\n",
       "      <td>2 days</td>\n",
       "      <td>2</td>\n",
       "      <td>47.649014</td>\n",
       "      <td>-122.304655</td>\n",
       "      <td>Montlake Blvd NE &amp; NE Pacific St, Seattle, WA ...</td>\n",
       "      <td>3705-3707 Montlake Blvd NE, Seattle, WA 98105,...</td>\n",
       "      <td>42</td>\n",
       "      <td>3.222458</td>\n",
       "      <td>2.867154</td>\n",
       "      <td>3.231487</td>\n",
       "      <td>2.889531</td>\n",
       "      <td>2.654837</td>\n",
       "      <td>2.610214</td>\n",
       "    </tr>\n",
       "    <tr>\n",
       "      <th>2</th>\n",
       "      <td>3</td>\n",
       "      <td>2649</td>\n",
       "      <td>32nd Ave NE and  NE 135th                     ...</td>\n",
       "      <td>NE 135TH ST BETWEEN 32ND AVE NE AND LAKE CITY ...</td>\n",
       "      <td>2010-03-31 07:00:00</td>\n",
       "      <td>2010-04-01 07:00:00</td>\n",
       "      <td>2010-04-01 07:00:00</td>\n",
       "      <td>1 days</td>\n",
       "      <td>1</td>\n",
       "      <td>47.707446</td>\n",
       "      <td>-122.301566</td>\n",
       "      <td>Lake City Way NE, Seattle, WA, USA</td>\n",
       "      <td>10754-10850 Lake City Way NE, Seattle, WA 9812...</td>\n",
       "      <td>105</td>\n",
       "      <td>7.137526</td>\n",
       "      <td>6.405817</td>\n",
       "      <td>7.012778</td>\n",
       "      <td>6.783446</td>\n",
       "      <td>3.623119</td>\n",
       "      <td>5.502601</td>\n",
       "    </tr>\n",
       "  </tbody>\n",
       "</table>\n",
       "</div>"
      ],
      "text/plain": [
       "   OBJECTID  WOKEY                                           LOCATION  \\\n",
       "0         1   2456  Holden pl SW bt  SW Kenyon Holden             ...   \n",
       "1         2   2514  NE Pacific Street, one block west of Montlake ...   \n",
       "2         3   2649  32nd Ave NE and  NE 135th                     ...   \n",
       "\n",
       "                                            ADDRDESC           INITDT_dt  \\\n",
       "0  HOLDEN PL SW BETWEEN SW HOLDEN ST AND SW KENYO... 2010-03-29 07:00:00   \n",
       "1  MONTLAKE BLVD NE AND NE PACIFIC ST            ... 2010-03-30 07:00:00   \n",
       "2  NE 135TH ST BETWEEN 32ND AVE NE AND LAKE CITY ... 2010-03-31 07:00:00   \n",
       "\n",
       "        FLDSTARTDT_dt         FLDENDDT_dt  DURATION  DURATION_td   latitude  \\\n",
       "0 2010-04-06 07:00:00 2010-04-06 07:00:00    8 days            8  47.531858   \n",
       "1 2010-04-01 07:00:00 2010-04-01 07:00:00    2 days            2  47.649014   \n",
       "2 2010-04-01 07:00:00 2010-04-01 07:00:00    1 days            1  47.707446   \n",
       "\n",
       "    longitude                                            address  \\\n",
       "0 -122.363186                     SW Kenyon St, Seattle, WA, USA   \n",
       "1 -122.304655  Montlake Blvd NE & NE Pacific St, Seattle, WA ...   \n",
       "2 -122.301566                 Lake City Way NE, Seattle, WA, USA   \n",
       "\n",
       "                                      address_detail  neighborhood_cat  \\\n",
       "0          2438 SW Kenyon St, Seattle, WA 98106, USA                93   \n",
       "1  3705-3707 Montlake Blvd NE, Seattle, WA 98105,...                42   \n",
       "2  10754-10850 Lake City Way NE, Seattle, WA 9812...               105   \n",
       "\n",
       "   Seattle_dist  Space_Needle_dist  Pike_Place_dist  Convention_Center_dist  \\\n",
       "0      5.338641           6.158729         5.467939                5.688451   \n",
       "1      3.222458           2.867154         3.231487                2.889531   \n",
       "2      7.137526           6.405817         7.012778                6.783446   \n",
       "\n",
       "   Woodland_Park_dist  Queene_Anne_dist  \n",
       "0            9.453253          7.300465  \n",
       "1            2.654837          2.610214  \n",
       "2            3.623119          5.502601  "
      ]
     },
     "execution_count": 3,
     "metadata": {},
     "output_type": "execute_result"
    }
   ],
   "source": [
    "df.head(3)"
   ]
  },
  {
   "cell_type": "code",
   "execution_count": 4,
   "metadata": {
    "collapsed": false
   },
   "outputs": [
    {
     "name": "stdout",
     "output_type": "stream",
     "text": [
      "<class 'pandas.core.frame.DataFrame'>\n",
      "Int64Index: 732 entries, 0 to 1000\n",
      "Data columns (total 20 columns):\n",
      "OBJECTID                  732 non-null int64\n",
      "WOKEY                     732 non-null int64\n",
      "LOCATION                  732 non-null object\n",
      "ADDRDESC                  732 non-null object\n",
      "INITDT_dt                 732 non-null datetime64[ns]\n",
      "FLDSTARTDT_dt             732 non-null datetime64[ns]\n",
      "FLDENDDT_dt               732 non-null datetime64[ns]\n",
      "DURATION                  732 non-null timedelta64[ns]\n",
      "DURATION_td               732 non-null float64\n",
      "latitude                  732 non-null float64\n",
      "longitude                 732 non-null float64\n",
      "address                   732 non-null object\n",
      "address_detail            732 non-null object\n",
      "neighborhood_cat          732 non-null float64\n",
      "Seattle_dist              732 non-null float64\n",
      "Space_Needle_dist         732 non-null float64\n",
      "Pike_Place_dist           732 non-null float64\n",
      "Convention_Center_dist    732 non-null float64\n",
      "Woodland_Park_dist        732 non-null float64\n",
      "Queene_Anne_dist          732 non-null float64\n",
      "dtypes: datetime64[ns](3), float64(10), int64(2), object(4), timedelta64[ns](1)\n",
      "memory usage: 120.1+ KB\n"
     ]
    }
   ],
   "source": [
    "df.info()"
   ]
  },
  {
   "cell_type": "code",
   "execution_count": 12,
   "metadata": {
    "collapsed": true
   },
   "outputs": [],
   "source": [
    "def get_quarter(df):\n",
    "    quarters = [df.ix[row, 'INITDT_dt'].quarter for row in df.index.tolist()]\n",
    "    return pd.Series(quarters, index = df.index)"
   ]
  },
  {
   "cell_type": "code",
   "execution_count": 14,
   "metadata": {
    "collapsed": false
   },
   "outputs": [],
   "source": [
    "df['INIT_Quarter'] = get_quarter(df)"
   ]
  },
  {
   "cell_type": "markdown",
   "metadata": {},
   "source": [
    "####Add months to end of FY, assuming June."
   ]
  },
  {
   "cell_type": "code",
   "execution_count": 15,
   "metadata": {
    "collapsed": true
   },
   "outputs": [],
   "source": [
    "def get_days_till_FY(df):\n",
    "    days = [6 - df.ix[row, 'INITDT_dt'].month for row in df.index.tolist()]\n",
    "    return pd.Series(days, index = df.index)"
   ]
  },
  {
   "cell_type": "code",
   "execution_count": 17,
   "metadata": {
    "collapsed": false
   },
   "outputs": [],
   "source": [
    "df['days_end_FY'] = get_days_till_FY(df)"
   ]
  },
  {
   "cell_type": "code",
   "execution_count": 18,
   "metadata": {
    "collapsed": true
   },
   "outputs": [],
   "source": [
    "df.to_pickle('df_neighborhoods_dists_seasons.pkl')"
   ]
  },
  {
   "cell_type": "code",
   "execution_count": null,
   "metadata": {
    "collapsed": true
   },
   "outputs": [],
   "source": []
  }
 ],
 "metadata": {
  "kernelspec": {
   "display_name": "Python 2",
   "language": "python",
   "name": "python2"
  },
  "language_info": {
   "codemirror_mode": {
    "name": "ipython",
    "version": 2
   },
   "file_extension": ".py",
   "mimetype": "text/x-python",
   "name": "python",
   "nbconvert_exporter": "python",
   "pygments_lexer": "ipython2",
   "version": "2.7.10"
  }
 },
 "nbformat": 4,
 "nbformat_minor": 0
}
