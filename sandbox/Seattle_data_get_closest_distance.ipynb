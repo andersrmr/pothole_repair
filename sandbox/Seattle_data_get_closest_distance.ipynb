{
 "cells": [
  {
   "cell_type": "code",
   "execution_count": 19,
   "metadata": {
    "collapsed": false
   },
   "outputs": [],
   "source": [
    "import pandas as pd\n",
    "import numpy as np\n",
    "import fiona\n",
    "from shapely.geometry import shape, Polygon, MultiPolygon, Point, MultiPoint, MultiLineString\n",
    "import cPickle as pickle"
   ]
  },
  {
   "cell_type": "code",
   "execution_count": 4,
   "metadata": {
    "collapsed": true
   },
   "outputs": [],
   "source": [
    "pd.set_option('display.max_columns', 500)"
   ]
  },
  {
   "cell_type": "code",
   "execution_count": 5,
   "metadata": {
    "collapsed": false
   },
   "outputs": [
    {
     "name": "stdout",
     "output_type": "stream",
     "text": [
      " Volume in drive C is OS\n",
      " Volume Serial Number is 2C57-DBDD\n",
      "\n",
      " Directory of C:\\Users\\andersrmr\\Documents\\Python Scripts\\galvanize_prep\\pothole_repair\\sandbox\n",
      "\n",
      "09/22/2015  04:50 PM    <DIR>          .\n",
      "09/22/2015  04:50 PM    <DIR>          ..\n",
      "09/22/2015  04:44 PM    <DIR>          .ipynb_checkpoints\n",
      "09/18/2015  04:20 PM           335,717 bubble.png\n",
      "09/16/2015  11:59 PM           220,561 chloropleth.png\n",
      "09/22/2015  12:06 AM           183,495 city_potholes.pkl\n",
      "09/22/2015  03:05 PM    <DIR>          data\n",
      "09/21/2015  05:50 PM           216,553 df_1499to1999_cleaned.pkl\n",
      "09/22/2015  11:44 AM           203,160 df_1999to2499_cleaned.pkl\n",
      "09/21/2015  10:41 PM           893,024 df_1to1999_cleaned.pkl\n",
      "09/22/2015  12:06 AM           971,726 df_1to1999_features.pkl\n",
      "09/21/2015  11:50 PM           793,993 df_1to1999_geo_cleaned.pkl\n",
      "09/22/2015  11:51 AM           193,186 df_2499to2999_cleaned.pkl\n",
      "09/22/2015  11:55 AM           212,659 df_2999to3499_cleaned.pkl\n",
      "09/22/2015  12:00 PM           221,511 df_3499to3999_cleaned.pkl\n",
      "09/21/2015  05:42 PM           224,288 df_999to1499_cleaned.pkl\n",
      "09/15/2015  10:38 PM         7,473,338 df_all_cleaned.pkl\n",
      "09/21/2015  02:47 PM           455,756 df_first1000_cleaned.pkl\n",
      "09/17/2015  02:27 AM           520,206 df_neighborhoods_dists.pkl\n",
      "09/17/2015  03:13 AM           531,296 df_neighborhoods_dists_seasons.pkl\n",
      "09/17/2015  12:00 AM           277,906 hexbin.png\n",
      "09/22/2015  04:42 PM            13,575 Progress_notes\n",
      "09/19/2015  10:41 PM            19,137 Seattle_create_distances_feature.ipynb\n",
      "09/20/2015  05:26 AM            12,472 Seattle_create_neighborhoods_feature_v2.ipynb\n",
      "09/20/2015  05:27 AM         2,356,332 Seattle_data_create_neighborhood_feature.ipynb\n",
      "09/19/2015  10:42 PM            11,071 Seattle_data_create_seasonality_feature.ipynb\n",
      "09/17/2015  02:29 AM           204,924 Seattle_data_geocoding.ipynb\n",
      "09/17/2015  02:30 AM            88,906 Seattle_data_geocoding_v2.ipynb\n",
      "09/21/2015  11:32 AM            10,882 Seattle_data_geocoding_v3.ipynb\n",
      "09/22/2015  04:50 PM               969 Seattle_data_get_closest_distance.ipynb\n",
      "09/22/2015  04:45 PM            27,673 Seattle_data_get_socio_economic.ipynb\n",
      "09/20/2015  05:27 AM           233,442 Seattle_data_get_socio_economic_v2.ipynb\n",
      "09/20/2015  10:47 PM           135,105 Seattle_data_get_socio_economic_v3.ipynb\n",
      "09/20/2015  10:29 PM           641,706 Seattle_data_initial_modeling.ipynb\n",
      "09/22/2015  11:22 AM           439,791 Seattle_data_initial_modeling_v2.ipynb\n",
      "09/21/2015  08:52 AM           583,947 Seattle_data_pipeline.ipynb\n",
      "09/20/2015  03:34 AM           798,853 Seattle_mapping.ipynb\n",
      "              33 File(s)     19,507,160 bytes\n",
      "               4 Dir(s)  156,824,727,552 bytes free\n"
     ]
    }
   ],
   "source": [
    "ls"
   ]
  },
  {
   "cell_type": "code",
   "execution_count": 6,
   "metadata": {
    "collapsed": true
   },
   "outputs": [],
   "source": [
    "df = pd.read_pickle('df_1to1999_geo_cleaned.pkl')"
   ]
  },
  {
   "cell_type": "code",
   "execution_count": 7,
   "metadata": {
    "collapsed": false
   },
   "outputs": [
    {
     "data": {
      "text/html": [
       "<div>\n",
       "<table border=\"1\" class=\"dataframe\">\n",
       "  <thead>\n",
       "    <tr style=\"text-align: right;\">\n",
       "      <th></th>\n",
       "      <th>OBJECTID</th>\n",
       "      <th>WOKEY</th>\n",
       "      <th>LOCATION</th>\n",
       "      <th>ADDRDESC</th>\n",
       "      <th>INITDT_dt</th>\n",
       "      <th>FLDSTARTDT_dt</th>\n",
       "      <th>FLDENDDT_dt</th>\n",
       "      <th>DURATION</th>\n",
       "      <th>DURATION_td</th>\n",
       "      <th>latitude</th>\n",
       "      <th>longitude</th>\n",
       "      <th>address</th>\n",
       "    </tr>\n",
       "  </thead>\n",
       "  <tbody>\n",
       "    <tr>\n",
       "      <th>0</th>\n",
       "      <td>1</td>\n",
       "      <td>2456</td>\n",
       "      <td>Holden pl SW bt  SW Kenyon Holden             ...</td>\n",
       "      <td>HOLDEN PL SW BETWEEN SW HOLDEN ST AND SW KENYO...</td>\n",
       "      <td>2010-03-29 07:00:00</td>\n",
       "      <td>2010-04-06 07:00:00</td>\n",
       "      <td>2010-04-06 07:00:00</td>\n",
       "      <td>8 days</td>\n",
       "      <td>8</td>\n",
       "      <td>47.531858</td>\n",
       "      <td>-122.363186</td>\n",
       "      <td>SW Kenyon St, Seattle, WA, USA</td>\n",
       "    </tr>\n",
       "    <tr>\n",
       "      <th>1</th>\n",
       "      <td>2</td>\n",
       "      <td>2514</td>\n",
       "      <td>NE Pacific Street, one block west of Montlake ...</td>\n",
       "      <td>MONTLAKE BLVD NE AND NE PACIFIC ST            ...</td>\n",
       "      <td>2010-03-30 07:00:00</td>\n",
       "      <td>2010-04-01 07:00:00</td>\n",
       "      <td>2010-04-01 07:00:00</td>\n",
       "      <td>2 days</td>\n",
       "      <td>2</td>\n",
       "      <td>47.649014</td>\n",
       "      <td>-122.304655</td>\n",
       "      <td>Montlake Blvd NE &amp; NE Pacific St, Seattle, WA ...</td>\n",
       "    </tr>\n",
       "  </tbody>\n",
       "</table>\n",
       "</div>"
      ],
      "text/plain": [
       "   OBJECTID  WOKEY                                           LOCATION  \\\n",
       "0         1   2456  Holden pl SW bt  SW Kenyon Holden             ...   \n",
       "1         2   2514  NE Pacific Street, one block west of Montlake ...   \n",
       "\n",
       "                                            ADDRDESC           INITDT_dt  \\\n",
       "0  HOLDEN PL SW BETWEEN SW HOLDEN ST AND SW KENYO... 2010-03-29 07:00:00   \n",
       "1  MONTLAKE BLVD NE AND NE PACIFIC ST            ... 2010-03-30 07:00:00   \n",
       "\n",
       "        FLDSTARTDT_dt         FLDENDDT_dt  DURATION  DURATION_td   latitude  \\\n",
       "0 2010-04-06 07:00:00 2010-04-06 07:00:00    8 days            8  47.531858   \n",
       "1 2010-04-01 07:00:00 2010-04-01 07:00:00    2 days            2  47.649014   \n",
       "\n",
       "    longitude                                            address  \n",
       "0 -122.363186                     SW Kenyon St, Seattle, WA, USA  \n",
       "1 -122.304655  Montlake Blvd NE & NE Pacific St, Seattle, WA ...  "
      ]
     },
     "execution_count": 7,
     "metadata": {},
     "output_type": "execute_result"
    }
   ],
   "source": [
    "df.head(2)"
   ]
  },
  {
   "cell_type": "code",
   "execution_count": 8,
   "metadata": {
    "collapsed": false
   },
   "outputs": [
    {
     "name": "stdout",
     "output_type": "stream",
     "text": [
      "<class 'pandas.core.frame.DataFrame'>\n",
      "Int64Index: 1320 entries, 0 to 1998\n",
      "Data columns (total 12 columns):\n",
      "OBJECTID         1320 non-null int64\n",
      "WOKEY            1320 non-null int64\n",
      "LOCATION         1320 non-null object\n",
      "ADDRDESC         1320 non-null object\n",
      "INITDT_dt        1320 non-null datetime64[ns]\n",
      "FLDSTARTDT_dt    1320 non-null datetime64[ns]\n",
      "FLDENDDT_dt      1320 non-null datetime64[ns]\n",
      "DURATION         1320 non-null timedelta64[ns]\n",
      "DURATION_td      1320 non-null float64\n",
      "latitude         1320 non-null float64\n",
      "longitude        1320 non-null float64\n",
      "address          1320 non-null object\n",
      "dtypes: datetime64[ns](3), float64(3), int64(2), object(3), timedelta64[ns](1)\n",
      "memory usage: 134.1+ KB\n"
     ]
    }
   ],
   "source": [
    "df.info()"
   ]
  },
  {
   "cell_type": "markdown",
   "metadata": {},
   "source": [
    "####Now I want to find the line geometry in the streetmap shapefile that is closest to each pothole geometry and featurize the information of that line for each pothole."
   ]
  },
  {
   "cell_type": "code",
   "execution_count": 9,
   "metadata": {
    "collapsed": true
   },
   "outputs": [],
   "source": [
    "# Read in shapefile\n",
    "shapefilename = 'data/WGS84/Street_Network_Database'\n",
    "shp = fiona.open(shapefilename+'.shp')"
   ]
  },
  {
   "cell_type": "code",
   "execution_count": 10,
   "metadata": {
    "collapsed": true
   },
   "outputs": [],
   "source": [
    "# Get street segments and their indices\n",
    "segs = [shape(seg['geometry']) for seg in shp]\n",
    "#shp.close()"
   ]
  },
  {
   "cell_type": "code",
   "execution_count": 11,
   "metadata": {
    "collapsed": false
   },
   "outputs": [
    {
     "data": {
      "text/plain": [
       "33913"
      ]
     },
     "execution_count": 11,
     "metadata": {},
     "output_type": "execute_result"
    }
   ],
   "source": [
    "len(segs)"
   ]
  },
  {
   "cell_type": "code",
   "execution_count": 23,
   "metadata": {
    "collapsed": false
   },
   "outputs": [
    {
     "data": {
      "image/svg+xml": [
       "<svg xmlns=\"http://www.w3.org/2000/svg\" xmlns:xlink=\"http://www.w3.org/1999/xlink\" width=\"100.0\" height=\"100.0\" viewBox=\"-122.309203803 47.4975583364 0.000391571279977 0.000262383280017\" preserveAspectRatio=\"xMinYMin meet\"><g transform=\"matrix(1,0,0,-1,0,94.995379056)\"><polyline fill=\"none\" stroke=\"#66cc99\" stroke-width=\"7.83142559953e-06\" points=\"-122.308826734,47.497806217 -122.3091893,47.497572839\" opacity=\"0.8\" /></g></svg>"
      ],
      "text/plain": [
       "<shapely.geometry.linestring.LineString at 0xa656940>"
      ]
     },
     "execution_count": 23,
     "metadata": {},
     "output_type": "execute_result"
    }
   ],
   "source": [
    "segs[0]"
   ]
  },
  {
   "cell_type": "code",
   "execution_count": 12,
   "metadata": {
    "collapsed": false
   },
   "outputs": [
    {
     "data": {
      "text/plain": [
       "{'geometry': 'LineString',\n",
       " 'properties': OrderedDict([(u'F_INTR_ID', 'int:9'), (u'T_INTR_ID', 'int:9'), (u'SND_ID', 'int:9'), (u'SND_FEACOD', 'int:9'), (u'CITYCODE', 'int:9'), (u'STNAME_ID', 'int:9'), (u'ST_CODE', 'int:9'), (u'ARTERIAL_C', 'int:9'), (u'SEGMENT_TY', 'int:9'), (u'AGENCY_COD', 'int:9'), (u'ACCESS_COD', 'int:9'), (u'DIVIDED_CO', 'int:9'), (u'STRUCTURE_', 'int:9'), (u'LEGALLOC_C', 'int:9'), (u'VEHICLE_US', 'int:9'), (u'GIS_SEG_LE', 'float:19.11'), (u'L_ADRS_FRO', 'int:9'), (u'L_ADRS_TO', 'int:9'), (u'R_ADRS_FRO', 'int:9'), (u'R_ADRS_TO', 'int:9'), (u'ORD_PRE_DI', 'str:2'), (u'ORD_STREET', 'str:20'), (u'ORD_STRE_1', 'str:4'), (u'ORD_SUF_DI', 'str:2'), (u'ORD_STNAME', 'str:31'), (u'L_CITY', 'str:20'), (u'L_STATE', 'str:2'), (u'L_ZIP', 'str:5'), (u'R_CITY', 'str:20'), (u'R_STATE', 'str:2'), (u'R_ZIP', 'str:5'), (u'SNDSEG_UPD', 'date'), (u'COMPKEY', 'int:9'), (u'COMPTYPE', 'int:9'), (u'UNITID', 'str:16'), (u'UNITID2', 'str:16'), (u'SHAPE_Leng', 'float:19.11')])}"
      ]
     },
     "execution_count": 12,
     "metadata": {},
     "output_type": "execute_result"
    }
   ],
   "source": [
    "shp.schema"
   ]
  },
  {
   "cell_type": "markdown",
   "metadata": {},
   "source": [
    "Are the linestrings \"standalone\", or do I need to link them together, like I used MultiPolygon to link together the block group polygons?"
   ]
  },
  {
   "cell_type": "code",
   "execution_count": 22,
   "metadata": {
    "collapsed": false
   },
   "outputs": [
    {
     "name": "stdout",
     "output_type": "stream",
     "text": [
      "LINESTRING (-122.308826734 47.49780621700006, -122.3091893 47.49757283900004)\n",
      "LINESTRING (-122.312544808 47.48675669800008, -122.313017658 47.48586029900008)\n",
      "LINESTRING (-122.314404433 47.47963375800003, -122.3147574289999 47.47774685000007)\n",
      "LINESTRING (-122.313750409 47.48314825100005, -122.314084206 47.48134536900005)\n",
      "LINESTRING (-122.345808814 47.49211262200004, -122.348123865 47.49207631700006)\n",
      "LINESTRING (-122.348885266 47.49285460300007, -122.348866677 47.49206465800006)\n",
      "LINESTRING (-122.348123865 47.49207631700006, -122.348866677 47.49206465800006)\n",
      "LINESTRING (-122.348866677 47.49206465800006, -122.349902932 47.49204838900005, -122.349965621 47.49204733800008)\n",
      "LINESTRING (-122.307439424 47.49934315400003, -122.306882441 47.49933886600007, -122.3067667559999 47.49932199700004)\n",
      "LINESTRING (-122.304640944 47.49934098600005, -122.3026078029999 47.49933489900008, -122.302512829 47.49934902900003, -122.302419831 47.49936826400005, -122.3023294019999 47.49939247700007, -122.302242118 47.49942151900007, -122.3021585499999 47.49945519900007, -122.302079221 47.49949330800007)\n"
     ]
    }
   ],
   "source": [
    "# Associate each linestring with a dict of the desired features\n",
    "line_string_tup = []\n",
    "idx = 0\n",
    "for feature in shp:\n",
    "#     print MultiLineString(segs)[idx]\n",
    "    print segs[idx]\n",
    "    idx += 1\n",
    "    if idx == 10:\n",
    "        break\n",
    "#     print feature['properties']['GEOID']"
   ]
  },
  {
   "cell_type": "markdown",
   "metadata": {},
   "source": [
    "It takes a while to build each of the multilinestrings, while just going with the linestrings themselves is instant, obviously, since there is no function call.  Does it make a difference?  Only testing will tell.  First, try without multilinestring."
   ]
  },
  {
   "cell_type": "code",
   "execution_count": null,
   "metadata": {
    "collapsed": true
   },
   "outputs": [],
   "source": [
    "# Associate each linestring with a dict of the desired features\n",
    "line_string_tup = []\n",
    "idx = 0\n",
    "for feature in shp:\n",
    "    block_group_tup.append((MultiPolygon(polys)[idx],\\\n",
    "    feature['properties']['GEOID']))\n",
    "    idx += 1"
   ]
  },
  {
   "cell_type": "code",
   "execution_count": null,
   "metadata": {
    "collapsed": true
   },
   "outputs": [],
   "source": []
  },
  {
   "cell_type": "code",
   "execution_count": null,
   "metadata": {
    "collapsed": true
   },
   "outputs": [],
   "source": [
    "shp.close()"
   ]
  }
 ],
 "metadata": {
  "kernelspec": {
   "display_name": "Python 2",
   "language": "python",
   "name": "python2"
  },
  "language_info": {
   "codemirror_mode": {
    "name": "ipython",
    "version": 2
   },
   "file_extension": ".py",
   "mimetype": "text/x-python",
   "name": "python",
   "nbconvert_exporter": "python",
   "pygments_lexer": "ipython2",
   "version": "2.7.10"
  }
 },
 "nbformat": 4,
 "nbformat_minor": 0
}
