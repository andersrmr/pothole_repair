{
 "cells": [
  {
   "cell_type": "code",
   "execution_count": 1,
   "metadata": {
    "collapsed": false
   },
   "outputs": [],
   "source": [
    "import pandas as pd\n",
    "import numpy as np\n",
    "import fiona\n",
    "from shapely.geometry import shape, Polygon, MultiPolygon, Point, MultiPoint, MultiLineString\n",
    "import cPickle as pickle"
   ]
  },
  {
   "cell_type": "code",
   "execution_count": 2,
   "metadata": {
    "collapsed": true
   },
   "outputs": [],
   "source": [
    "pd.set_option('display.max_columns', 500)"
   ]
  },
  {
   "cell_type": "code",
   "execution_count": 3,
   "metadata": {
    "collapsed": false
   },
   "outputs": [
    {
     "name": "stdout",
     "output_type": "stream",
     "text": [
      " Volume in drive C is OS\n",
      " Volume Serial Number is 2C57-DBDD\n",
      "\n",
      " Directory of C:\\Users\\andersrmr\\Documents\\Python Scripts\\galvanize_prep\\pothole_repair\\sandbox\n",
      "\n",
      "09/23/2015  10:51 PM    <DIR>          .\n",
      "09/23/2015  10:51 PM    <DIR>          ..\n",
      "09/23/2015  02:07 PM    <DIR>          .ipynb_checkpoints\n",
      "09/23/2015  10:49 PM           520,602 all_potholes.pkl\n",
      "09/18/2015  04:20 PM           335,717 bubble.png\n",
      "09/16/2015  11:59 PM           220,561 chloropleth.png\n",
      "09/22/2015  12:06 AM           183,495 city_potholes.pkl\n",
      "09/23/2015  12:47 PM    <DIR>          data\n",
      "09/21/2015  05:50 PM           216,553 df_1499to1999_cleaned.pkl\n",
      "09/22/2015  11:44 AM           203,160 df_1999to2499_cleaned.pkl\n",
      "09/21/2015  10:41 PM           893,024 df_1to1999_cleaned.pkl\n",
      "09/22/2015  12:06 AM           971,726 df_1to1999_features.pkl\n",
      "09/21/2015  11:50 PM           793,993 df_1to1999_geo_cleaned.pkl\n",
      "09/23/2015  10:20 PM         1,094,412 df_1to2499_cleaned.pkl\n",
      "09/23/2015  10:22 PM         1,285,691 df_1to2999_cleaned.pkl\n",
      "09/23/2015  10:23 PM         1,496,813 df_1to3499_cleaned.pkl\n",
      "09/23/2015  10:23 PM         1,717,032 df_1to3999_cleaned.pkl\n",
      "09/23/2015  10:25 PM         1,931,543 df_1to4499_cleaned.pkl\n",
      "09/23/2015  10:27 PM         2,135,195 df_1to4999_cleaned.pkl\n",
      "09/23/2015  10:27 PM         2,341,571 df_1to5499_cleaned.pkl\n",
      "09/23/2015  10:28 PM         2,530,607 df_1to5999_cleaned.pkl\n",
      "09/23/2015  10:29 PM         2,742,128 df_1to6499_cleaned.pkl\n",
      "09/23/2015  10:29 PM         2,965,877 df_1to6999_cleaned.pkl\n",
      "09/23/2015  10:51 PM         3,132,611 df_1to6999_features.pkl\n",
      "09/23/2015  10:32 PM         2,627,077 df_1to6999_geo_cleaned.pkl\n",
      "09/22/2015  11:51 AM           193,186 df_2499to2999_cleaned.pkl\n",
      "09/22/2015  11:55 AM           212,659 df_2999to3499_cleaned.pkl\n",
      "09/22/2015  12:00 PM           221,511 df_3499to3999_cleaned.pkl\n",
      "09/23/2015  09:43 PM           215,718 df_3999to4499_cleaned.pkl\n",
      "09/23/2015  09:48 PM           204,843 df_4499to4999_cleaned.pkl\n",
      "09/23/2015  09:51 PM           208,268 df_4999to5499_cleaned.pkl\n",
      "09/23/2015  09:53 PM           190,592 df_5499to5999_cleaned.pkl\n",
      "09/23/2015  09:56 PM           212,598 df_5999to6499_cleaned.pkl\n",
      "09/23/2015  10:03 PM           225,053 df_6499to6999_cleaned.pkl\n",
      "09/21/2015  05:42 PM           224,288 df_999to1499_cleaned.pkl\n",
      "09/15/2015  10:38 PM         7,473,338 df_all_cleaned.pkl\n",
      "09/21/2015  02:47 PM           455,756 df_first1000_cleaned.pkl\n",
      "09/17/2015  02:27 AM           520,206 df_neighborhoods_dists.pkl\n",
      "09/17/2015  03:13 AM           531,296 df_neighborhoods_dists_seasons.pkl\n",
      "09/17/2015  12:00 AM           277,906 hexbin.png\n",
      "09/23/2015  03:20 PM            14,824 Progress_notes\n",
      "09/19/2015  10:41 PM            19,137 Seattle_create_distances_feature.ipynb\n",
      "09/20/2015  05:26 AM            12,472 Seattle_create_neighborhoods_feature_v2.ipynb\n",
      "09/20/2015  05:27 AM         2,356,332 Seattle_data_create_neighborhood_feature.ipynb\n",
      "09/19/2015  10:42 PM            11,071 Seattle_data_create_seasonality_feature.ipynb\n",
      "09/17/2015  02:29 AM           204,924 Seattle_data_geocoding.ipynb\n",
      "09/17/2015  02:30 AM            88,906 Seattle_data_geocoding_v2.ipynb\n",
      "09/22/2015  06:18 PM            10,882 Seattle_data_geocoding_v3.ipynb\n",
      "09/23/2015  05:43 PM            41,867 Seattle_data_get_closest_distance.ipynb\n",
      "09/22/2015  04:45 PM            27,673 Seattle_data_get_socio_economic.ipynb\n",
      "09/20/2015  05:27 AM           233,442 Seattle_data_get_socio_economic_v2.ipynb\n",
      "09/23/2015  04:23 PM           151,300 Seattle_data_get_socio_economic_v3.ipynb\n",
      "09/22/2015  06:18 PM           641,706 Seattle_data_initial_modeling.ipynb\n",
      "09/22/2015  11:22 AM           439,791 Seattle_data_initial_modeling_v2.ipynb\n",
      "09/21/2015  08:52 AM           583,947 Seattle_data_pipeline.ipynb\n",
      "09/22/2015  06:21 PM           798,853 Seattle_mapping.ipynb\n",
      "09/23/2015  03:37 PM             3,727 Untitled.ipynb\n",
      "              53 File(s)     47,347,460 bytes\n",
      "               4 Dir(s)  156,749,656,064 bytes free\n"
     ]
    }
   ],
   "source": [
    "ls"
   ]
  },
  {
   "cell_type": "code",
   "execution_count": 4,
   "metadata": {
    "collapsed": true
   },
   "outputs": [],
   "source": [
    "df = pd.read_pickle('df_1to6999_geo_cleaned.pkl')"
   ]
  },
  {
   "cell_type": "code",
   "execution_count": 5,
   "metadata": {
    "collapsed": false
   },
   "outputs": [
    {
     "data": {
      "text/html": [
       "<div>\n",
       "<table border=\"1\" class=\"dataframe\">\n",
       "  <thead>\n",
       "    <tr style=\"text-align: right;\">\n",
       "      <th></th>\n",
       "      <th>OBJECTID</th>\n",
       "      <th>WOKEY</th>\n",
       "      <th>LOCATION</th>\n",
       "      <th>ADDRDESC</th>\n",
       "      <th>INITDT_dt</th>\n",
       "      <th>FLDSTARTDT_dt</th>\n",
       "      <th>FLDENDDT_dt</th>\n",
       "      <th>DURATION</th>\n",
       "      <th>DURATION_td</th>\n",
       "      <th>latitude</th>\n",
       "      <th>longitude</th>\n",
       "      <th>address</th>\n",
       "    </tr>\n",
       "  </thead>\n",
       "  <tbody>\n",
       "    <tr>\n",
       "      <th>0</th>\n",
       "      <td>1</td>\n",
       "      <td>2456</td>\n",
       "      <td>Holden pl SW bt  SW Kenyon Holden             ...</td>\n",
       "      <td>HOLDEN PL SW BETWEEN SW HOLDEN ST AND SW KENYO...</td>\n",
       "      <td>2010-03-29 07:00:00</td>\n",
       "      <td>2010-04-06 07:00:00</td>\n",
       "      <td>2010-04-06 07:00:00</td>\n",
       "      <td>8 days</td>\n",
       "      <td>8</td>\n",
       "      <td>47.531858</td>\n",
       "      <td>-122.363186</td>\n",
       "      <td>SW Kenyon St, Seattle, WA, USA</td>\n",
       "    </tr>\n",
       "    <tr>\n",
       "      <th>1</th>\n",
       "      <td>2</td>\n",
       "      <td>2514</td>\n",
       "      <td>NE Pacific Street, one block west of Montlake ...</td>\n",
       "      <td>MONTLAKE BLVD NE AND NE PACIFIC ST            ...</td>\n",
       "      <td>2010-03-30 07:00:00</td>\n",
       "      <td>2010-04-01 07:00:00</td>\n",
       "      <td>2010-04-01 07:00:00</td>\n",
       "      <td>2 days</td>\n",
       "      <td>2</td>\n",
       "      <td>47.649014</td>\n",
       "      <td>-122.304655</td>\n",
       "      <td>Montlake Blvd NE &amp; NE Pacific St, Seattle, WA ...</td>\n",
       "    </tr>\n",
       "  </tbody>\n",
       "</table>\n",
       "</div>"
      ],
      "text/plain": [
       "   OBJECTID  WOKEY                                           LOCATION  \\\n",
       "0         1   2456  Holden pl SW bt  SW Kenyon Holden             ...   \n",
       "1         2   2514  NE Pacific Street, one block west of Montlake ...   \n",
       "\n",
       "                                            ADDRDESC           INITDT_dt  \\\n",
       "0  HOLDEN PL SW BETWEEN SW HOLDEN ST AND SW KENYO... 2010-03-29 07:00:00   \n",
       "1  MONTLAKE BLVD NE AND NE PACIFIC ST            ... 2010-03-30 07:00:00   \n",
       "\n",
       "        FLDSTARTDT_dt         FLDENDDT_dt  DURATION  DURATION_td   latitude  \\\n",
       "0 2010-04-06 07:00:00 2010-04-06 07:00:00    8 days            8  47.531858   \n",
       "1 2010-04-01 07:00:00 2010-04-01 07:00:00    2 days            2  47.649014   \n",
       "\n",
       "    longitude                                            address  \n",
       "0 -122.363186                     SW Kenyon St, Seattle, WA, USA  \n",
       "1 -122.304655  Montlake Blvd NE & NE Pacific St, Seattle, WA ...  "
      ]
     },
     "execution_count": 5,
     "metadata": {},
     "output_type": "execute_result"
    }
   ],
   "source": [
    "df.head(2)"
   ]
  },
  {
   "cell_type": "code",
   "execution_count": 6,
   "metadata": {
    "collapsed": false
   },
   "outputs": [
    {
     "data": {
      "text/html": [
       "<div>\n",
       "<table border=\"1\" class=\"dataframe\">\n",
       "  <thead>\n",
       "    <tr style=\"text-align: right;\">\n",
       "      <th></th>\n",
       "      <th>OBJECTID</th>\n",
       "      <th>WOKEY</th>\n",
       "      <th>LOCATION</th>\n",
       "      <th>ADDRDESC</th>\n",
       "      <th>INITDT_dt</th>\n",
       "      <th>FLDSTARTDT_dt</th>\n",
       "      <th>FLDENDDT_dt</th>\n",
       "      <th>DURATION</th>\n",
       "      <th>DURATION_td</th>\n",
       "      <th>latitude</th>\n",
       "      <th>longitude</th>\n",
       "      <th>address</th>\n",
       "    </tr>\n",
       "  </thead>\n",
       "  <tbody>\n",
       "    <tr>\n",
       "      <th>6992</th>\n",
       "      <td>6993</td>\n",
       "      <td>197859</td>\n",
       "      <td>: 2720 3RD AVE                                ...</td>\n",
       "      <td>CEDAR ST BETWEEN 3RD AVE AND 4TH AVE          ...</td>\n",
       "      <td>2013-05-02 07:00:00</td>\n",
       "      <td>2013-05-08 07:00:00</td>\n",
       "      <td>2013-05-08 07:00:00</td>\n",
       "      <td>6 days</td>\n",
       "      <td>6</td>\n",
       "      <td>47.610800</td>\n",
       "      <td>-122.337217</td>\n",
       "      <td>4th Ave, Seattle, WA, USA</td>\n",
       "    </tr>\n",
       "    <tr>\n",
       "      <th>6993</th>\n",
       "      <td>6994</td>\n",
       "      <td>250779</td>\n",
       "      <td>7510 14th NE                                  ...</td>\n",
       "      <td>14TH AVE NE BETWEEN NE 75TH ST AND NE 77TH ST ...</td>\n",
       "      <td>2014-01-25 08:00:00</td>\n",
       "      <td>2014-01-29 08:00:00</td>\n",
       "      <td>2014-02-13 08:00:00</td>\n",
       "      <td>19 days</td>\n",
       "      <td>19</td>\n",
       "      <td>47.684855</td>\n",
       "      <td>-122.294827</td>\n",
       "      <td>NE 77th St, Seattle, WA 98115, USA</td>\n",
       "    </tr>\n",
       "  </tbody>\n",
       "</table>\n",
       "</div>"
      ],
      "text/plain": [
       "      OBJECTID   WOKEY                                           LOCATION  \\\n",
       "6992      6993  197859  : 2720 3RD AVE                                ...   \n",
       "6993      6994  250779  7510 14th NE                                  ...   \n",
       "\n",
       "                                               ADDRDESC           INITDT_dt  \\\n",
       "6992  CEDAR ST BETWEEN 3RD AVE AND 4TH AVE          ... 2013-05-02 07:00:00   \n",
       "6993  14TH AVE NE BETWEEN NE 75TH ST AND NE 77TH ST ... 2014-01-25 08:00:00   \n",
       "\n",
       "           FLDSTARTDT_dt         FLDENDDT_dt  DURATION  DURATION_td  \\\n",
       "6992 2013-05-08 07:00:00 2013-05-08 07:00:00    6 days            6   \n",
       "6993 2014-01-29 08:00:00 2014-02-13 08:00:00   19 days           19   \n",
       "\n",
       "       latitude   longitude                             address  \n",
       "6992  47.610800 -122.337217           4th Ave, Seattle, WA, USA  \n",
       "6993  47.684855 -122.294827  NE 77th St, Seattle, WA 98115, USA  "
      ]
     },
     "execution_count": 6,
     "metadata": {},
     "output_type": "execute_result"
    }
   ],
   "source": [
    "df.tail(2)"
   ]
  },
  {
   "cell_type": "code",
   "execution_count": 7,
   "metadata": {
    "collapsed": false
   },
   "outputs": [
    {
     "name": "stdout",
     "output_type": "stream",
     "text": [
      "<class 'pandas.core.frame.DataFrame'>\n",
      "Int64Index: 4418 entries, 0 to 6993\n",
      "Data columns (total 12 columns):\n",
      "OBJECTID         4418 non-null int64\n",
      "WOKEY            4418 non-null int64\n",
      "LOCATION         4418 non-null object\n",
      "ADDRDESC         4418 non-null object\n",
      "INITDT_dt        4418 non-null datetime64[ns]\n",
      "FLDSTARTDT_dt    4418 non-null datetime64[ns]\n",
      "FLDENDDT_dt      4418 non-null datetime64[ns]\n",
      "DURATION         4418 non-null timedelta64[ns]\n",
      "DURATION_td      4418 non-null float64\n",
      "latitude         4418 non-null float64\n",
      "longitude        4418 non-null float64\n",
      "address          4418 non-null object\n",
      "dtypes: datetime64[ns](3), float64(3), int64(2), object(3), timedelta64[ns](1)\n",
      "memory usage: 448.7+ KB\n"
     ]
    }
   ],
   "source": [
    "df.info()"
   ]
  },
  {
   "cell_type": "markdown",
   "metadata": {},
   "source": [
    "####Now I want to find the line geometry in the streetmap shapefile that is closest to each pothole geometry and featurize the information of that line for each pothole."
   ]
  },
  {
   "cell_type": "code",
   "execution_count": 8,
   "metadata": {
    "collapsed": true
   },
   "outputs": [],
   "source": [
    "# Read in shapefile\n",
    "shapefilename = 'data/WGS84/Street_Network_Database'\n",
    "shp = fiona.open(shapefilename+'.shp')"
   ]
  },
  {
   "cell_type": "code",
   "execution_count": 9,
   "metadata": {
    "collapsed": true
   },
   "outputs": [],
   "source": [
    "# Get street segments and their indices\n",
    "segs = [shape(seg['geometry']) for seg in shp]\n",
    "#shp.close()"
   ]
  },
  {
   "cell_type": "code",
   "execution_count": 10,
   "metadata": {
    "collapsed": false
   },
   "outputs": [
    {
     "data": {
      "text/plain": [
       "list"
      ]
     },
     "execution_count": 10,
     "metadata": {},
     "output_type": "execute_result"
    }
   ],
   "source": [
    "type(segs)"
   ]
  },
  {
   "cell_type": "code",
   "execution_count": 11,
   "metadata": {
    "collapsed": false
   },
   "outputs": [
    {
     "data": {
      "text/plain": [
       "33913"
      ]
     },
     "execution_count": 11,
     "metadata": {},
     "output_type": "execute_result"
    }
   ],
   "source": [
    "len(segs)"
   ]
  },
  {
   "cell_type": "code",
   "execution_count": 12,
   "metadata": {
    "collapsed": false
   },
   "outputs": [
    {
     "data": {
      "image/svg+xml": [
       "<svg xmlns=\"http://www.w3.org/2000/svg\" xmlns:xlink=\"http://www.w3.org/1999/xlink\" width=\"100.0\" height=\"100.0\" viewBox=\"-122.309203803 47.4975583364 0.000391571279977 0.000262383280017\" preserveAspectRatio=\"xMinYMin meet\"><g transform=\"matrix(1,0,0,-1,0,94.995379056)\"><polyline fill=\"none\" stroke=\"#66cc99\" stroke-width=\"7.83142559953e-06\" points=\"-122.308826734,47.497806217 -122.3091893,47.497572839\" opacity=\"0.8\" /></g></svg>"
      ],
      "text/plain": [
       "<shapely.geometry.linestring.LineString at 0xa69d4e0>"
      ]
     },
     "execution_count": 12,
     "metadata": {},
     "output_type": "execute_result"
    }
   ],
   "source": [
    "segs[0]"
   ]
  },
  {
   "cell_type": "code",
   "execution_count": 13,
   "metadata": {
    "collapsed": false
   },
   "outputs": [
    {
     "name": "stdout",
     "output_type": "stream",
     "text": [
      "LINESTRING (-122.308826734 47.49780621700006, -122.3091893 47.49757283900004)\n"
     ]
    }
   ],
   "source": [
    "print segs[0]"
   ]
  },
  {
   "cell_type": "code",
   "execution_count": 14,
   "metadata": {
    "collapsed": false
   },
   "outputs": [
    {
     "name": "stdout",
     "output_type": "stream",
     "text": [
      "LINESTRING (-122.348866677 47.49206465800006, -122.349902932 47.49204838900005, -122.349965621 47.49204733800008)\n"
     ]
    }
   ],
   "source": [
    "print segs[7]"
   ]
  },
  {
   "cell_type": "code",
   "execution_count": 15,
   "metadata": {
    "collapsed": false
   },
   "outputs": [
    {
     "data": {
      "image/svg+xml": [
       "<svg xmlns=\"http://www.w3.org/2000/svg\" xmlns:xlink=\"http://www.w3.org/1999/xlink\" width=\"100.0\" height=\"100.0\" viewBox=\"-122.350009579 47.4920033802 0.00118685951998 0.000105235519982\" preserveAspectRatio=\"xMinYMin meet\"><g transform=\"matrix(1,0,0,-1,0,94.984111996)\"><polyline fill=\"none\" stroke=\"#66cc99\" stroke-width=\"2.37371903995e-05\" points=\"-122.348866677,47.492064658 -122.349902932,47.492048389 -122.349965621,47.492047338\" opacity=\"0.8\" /></g></svg>"
      ],
      "text/plain": [
       "<shapely.geometry.linestring.LineString at 0xa69d2e8>"
      ]
     },
     "execution_count": 15,
     "metadata": {},
     "output_type": "execute_result"
    }
   ],
   "source": [
    "segs[7]"
   ]
  },
  {
   "cell_type": "code",
   "execution_count": 16,
   "metadata": {
    "collapsed": false
   },
   "outputs": [
    {
     "data": {
      "text/plain": [
       "{'geometry': 'LineString',\n",
       " 'properties': OrderedDict([(u'F_INTR_ID', 'int:9'), (u'T_INTR_ID', 'int:9'), (u'SND_ID', 'int:9'), (u'SND_FEACOD', 'int:9'), (u'CITYCODE', 'int:9'), (u'STNAME_ID', 'int:9'), (u'ST_CODE', 'int:9'), (u'ARTERIAL_C', 'int:9'), (u'SEGMENT_TY', 'int:9'), (u'AGENCY_COD', 'int:9'), (u'ACCESS_COD', 'int:9'), (u'DIVIDED_CO', 'int:9'), (u'STRUCTURE_', 'int:9'), (u'LEGALLOC_C', 'int:9'), (u'VEHICLE_US', 'int:9'), (u'GIS_SEG_LE', 'float:19.11'), (u'L_ADRS_FRO', 'int:9'), (u'L_ADRS_TO', 'int:9'), (u'R_ADRS_FRO', 'int:9'), (u'R_ADRS_TO', 'int:9'), (u'ORD_PRE_DI', 'str:2'), (u'ORD_STREET', 'str:20'), (u'ORD_STRE_1', 'str:4'), (u'ORD_SUF_DI', 'str:2'), (u'ORD_STNAME', 'str:31'), (u'L_CITY', 'str:20'), (u'L_STATE', 'str:2'), (u'L_ZIP', 'str:5'), (u'R_CITY', 'str:20'), (u'R_STATE', 'str:2'), (u'R_ZIP', 'str:5'), (u'SNDSEG_UPD', 'date'), (u'COMPKEY', 'int:9'), (u'COMPTYPE', 'int:9'), (u'UNITID', 'str:16'), (u'UNITID2', 'str:16'), (u'SHAPE_Leng', 'float:19.11')])}"
      ]
     },
     "execution_count": 16,
     "metadata": {},
     "output_type": "execute_result"
    }
   ],
   "source": [
    "shp.schema"
   ]
  },
  {
   "cell_type": "markdown",
   "metadata": {},
   "source": [
    "Are the linestrings \"standalone\", or do I need to link them together, like I used MultiPolygon to link together the block group polygons?  Would MultiLineString do that?"
   ]
  },
  {
   "cell_type": "code",
   "execution_count": 17,
   "metadata": {
    "collapsed": false
   },
   "outputs": [
    {
     "name": "stdout",
     "output_type": "stream",
     "text": [
      "LINESTRING (-122.348866677 47.49206465800006, -122.349902932 47.49204838900005, -122.349965621 47.49204733800008)\n"
     ]
    }
   ],
   "source": [
    "print segs[7]"
   ]
  },
  {
   "cell_type": "code",
   "execution_count": 18,
   "metadata": {
    "collapsed": true
   },
   "outputs": [],
   "source": [
    "msegs = MultiLineString(segs)"
   ]
  },
  {
   "cell_type": "code",
   "execution_count": 19,
   "metadata": {
    "collapsed": false
   },
   "outputs": [
    {
     "data": {
      "text/plain": [
       "shapely.geometry.multilinestring.MultiLineString"
      ]
     },
     "execution_count": 19,
     "metadata": {},
     "output_type": "execute_result"
    }
   ],
   "source": [
    "type(msegs)"
   ]
  },
  {
   "cell_type": "code",
   "execution_count": 20,
   "metadata": {
    "collapsed": false
   },
   "outputs": [
    {
     "name": "stdout",
     "output_type": "stream",
     "text": [
      "LINESTRING (-122.308826734 47.49780621700006, -122.3091893 47.49757283900004)\n",
      "LINESTRING (-122.312544808 47.48675669800008, -122.313017658 47.48586029900008)\n",
      "LINESTRING (-122.314404433 47.47963375800003, -122.3147574289999 47.47774685000007)\n",
      "LINESTRING (-122.313750409 47.48314825100005, -122.314084206 47.48134536900005)\n",
      "LINESTRING (-122.345808814 47.49211262200004, -122.348123865 47.49207631700006)\n",
      "LINESTRING (-122.348885266 47.49285460300007, -122.348866677 47.49206465800006)\n",
      "LINESTRING (-122.348123865 47.49207631700006, -122.348866677 47.49206465800006)\n",
      "LINESTRING (-122.348866677 47.49206465800006, -122.349902932 47.49204838900005, -122.349965621 47.49204733800008)\n",
      "LINESTRING (-122.307439424 47.49934315400003, -122.306882441 47.49933886600007, -122.3067667559999 47.49932199700004)\n",
      "LINESTRING (-122.304640944 47.49934098600005, -122.3026078029999 47.49933489900008, -122.302512829 47.49934902900003, -122.302419831 47.49936826400005, -122.3023294019999 47.49939247700007, -122.302242118 47.49942151900007, -122.3021585499999 47.49945519900007, -122.302079221 47.49949330800007)\n"
     ]
    }
   ],
   "source": [
    "# Associate each linestring with a list of the desired features\n",
    "# street_feature_tup = []\n",
    "idx = 0\n",
    "for feature in shp:\n",
    "    print msegs[idx]\n",
    "#     print segs[idx]\n",
    "    idx += 1\n",
    "    if idx == 10:\n",
    "        break\n",
    "#     print feature['properties']['GEOID']"
   ]
  },
  {
   "cell_type": "markdown",
   "metadata": {},
   "source": [
    "It takes a while to build each of the multilinestrings, while just going with the linestrings themselves is instant, obviously, since there is no function call.  Does it make a difference?  Only testing will tell.  First, try without multilinestring."
   ]
  },
  {
   "cell_type": "code",
   "execution_count": 21,
   "metadata": {
    "collapsed": false
   },
   "outputs": [
    {
     "data": {
      "image/svg+xml": [
       "<svg xmlns=\"http://www.w3.org/2000/svg\" xmlns:xlink=\"http://www.w3.org/1999/xlink\" width=\"100.0\" height=\"100.0\" viewBox=\"-122.302823647 47.609960329 0.000142009000029 0.00169176600005\" preserveAspectRatio=\"xMinYMin meet\"><g transform=\"matrix(1,0,0,-1,0,95.221612424)\"><polyline fill=\"none\" stroke=\"#66cc99\" stroke-width=\"3.3835320001e-05\" points=\"-122.302760989,47.610022987 -122.302760089,47.610471515 -122.302744296,47.611589437\" opacity=\"0.8\" /></g></svg>"
      ],
      "text/plain": [
       "<shapely.geometry.linestring.LineString at 0x11c93dd8>"
      ]
     },
     "execution_count": 21,
     "metadata": {},
     "output_type": "execute_result"
    }
   ],
   "source": [
    "msegs[10000]"
   ]
  },
  {
   "cell_type": "code",
   "execution_count": 22,
   "metadata": {
    "collapsed": false
   },
   "outputs": [],
   "source": [
    "# Associate each linestring with a list of the desired features\n",
    "# **Change to street_feature_tup**\n",
    "\n",
    "#I could use a Polygon constructor on a linestring element\n",
    "\n",
    "street_feature_list = []\n",
    "# idx = 0\n",
    "for feature in shp:\n",
    "    feature_list = [feature['properties']['SND_FEACOD']]\n",
    "    feature_list.append(feature['properties']['ST_CODE'])\n",
    "    feature_list.append(feature['properties']['SEGMENT_TY'])\n",
    "    feature_list.append(feature['properties']['DIVIDED_CO'])\n",
    "    feature_list.append(feature['properties']['VEHICLE_US'])\n",
    "    street_feature_list.append(feature_list)\n",
    "#     street_feature_tup.append((segs[idx], feature_list))\n",
    "#     print street_feature_tup[idx], idx\n",
    "#     idx += 1\n",
    "#     if idx == 10:\n",
    "#         break"
   ]
  },
  {
   "cell_type": "markdown",
   "metadata": {},
   "source": [
    "I have to do this differently: Create the multistring on the fly and call a small helper function to get the features."
   ]
  },
  {
   "cell_type": "code",
   "execution_count": 23,
   "metadata": {
    "collapsed": false
   },
   "outputs": [
    {
     "data": {
      "text/plain": [
       "33913"
      ]
     },
     "execution_count": 23,
     "metadata": {},
     "output_type": "execute_result"
    }
   ],
   "source": [
    "len(street_feature_list)"
   ]
  },
  {
   "cell_type": "code",
   "execution_count": 24,
   "metadata": {
    "collapsed": false
   },
   "outputs": [
    {
     "data": {
      "image/svg+xml": [
       "<svg xmlns=\"http://www.w3.org/2000/svg\" xmlns:xlink=\"http://www.w3.org/1999/xlink\" width=\"100.0\" height=\"100.0\" viewBox=\"-122.317961106 47.4986561012 6.49805200226e-05 0.000785261520008\" preserveAspectRatio=\"xMinYMin meet\"><g transform=\"matrix(1,0,0,-1,0,94.998097464)\"><polyline fill=\"none\" stroke=\"#66cc99\" stroke-width=\"1.57052304002e-05\" points=\"-122.317925209,47.499412279 -122.317932022,47.498685185\" opacity=\"0.8\" /></g></svg>"
      ],
      "text/plain": [
       "<shapely.geometry.linestring.LineString at 0x11c93ef0>"
      ]
     },
     "execution_count": 24,
     "metadata": {},
     "output_type": "execute_result"
    }
   ],
   "source": [
    "msegs[500]"
   ]
  },
  {
   "cell_type": "code",
   "execution_count": 25,
   "metadata": {
    "collapsed": false
   },
   "outputs": [
    {
     "data": {
      "text/plain": [
       "[1, 0, 1, 1, 1]"
      ]
     },
     "execution_count": 25,
     "metadata": {},
     "output_type": "execute_result"
    }
   ],
   "source": [
    "street_feature_list[500]"
   ]
  },
  {
   "cell_type": "code",
   "execution_count": 26,
   "metadata": {
    "collapsed": true
   },
   "outputs": [],
   "source": [
    "def get_line_features(feature):\n",
    "    feature_list = []\n",
    "    feature_list = [feature['properties']['SND_FEACOD']]\n",
    "    feature_list.append(feature['properties']['ST_CODE'])\n",
    "    feature_list.append(feature['properties']['SEGMENT_TY'])\n",
    "    feature_list.append(feature['properties']['DIVIDED_CO'])\n",
    "    feature_list.append(feature['properties']['VEHICLE_US'])\n",
    "    return feature_list"
   ]
  },
  {
   "cell_type": "code",
   "execution_count": 46,
   "metadata": {
    "collapsed": true
   },
   "outputs": [],
   "source": [
    "# shp.close()"
   ]
  },
  {
   "cell_type": "code",
   "execution_count": 28,
   "metadata": {
    "collapsed": true
   },
   "outputs": [],
   "source": [
    "with open('all_potholes.pkl') as f:\n",
    "        all_potholes = pickle.load(f)\n"
   ]
  },
  {
   "cell_type": "code",
   "execution_count": 29,
   "metadata": {
    "collapsed": false
   },
   "outputs": [
    {
     "data": {
      "text/plain": [
       "33913"
      ]
     },
     "execution_count": 29,
     "metadata": {},
     "output_type": "execute_result"
    }
   ],
   "source": [
    "len(msegs)"
   ]
  },
  {
   "cell_type": "code",
   "execution_count": 30,
   "metadata": {
    "collapsed": false
   },
   "outputs": [
    {
     "data": {
      "text/plain": [
       "4418"
      ]
     },
     "execution_count": 30,
     "metadata": {},
     "output_type": "execute_result"
    }
   ],
   "source": [
    "len(all_potholes[0])"
   ]
  },
  {
   "cell_type": "code",
   "execution_count": 32,
   "metadata": {
    "collapsed": false
   },
   "outputs": [
    {
     "name": "stdout",
     "output_type": "stream",
     "text": [
      "0 [1, 0, 1, 1, 1] LINESTRING (-122.362891975 47.53187698800008, -122.363206979 47.53187733100003) 1.9507818301e-05\n",
      "1 [5, 0, 1, 1, 1] LINESTRING (-122.305972012 47.64970388300003, -122.305150593 47.64928674500004, -122.304591259 47.64899740500005) 1.49051117941e-05\n",
      "2 [5, 0, 1, 1, 1] LINESTRING (-122.301631466 47.70670120200003, -122.301626761 47.70680835000007, -122.3016197329999 47.70692463800003, -122.3016107939999 47.70704086500007, -122.301599941 47.70715701700004, -122.301587174 47.70727308100004, -122.301572495 47.70738904200005, -122.3015559089999 47.70750488400006, -122.301537413 47.70762059800006, -122.301517016 47.70773616400004, -122.301494712 47.70785156900007, -122.301470511 47.70796679900008, -122.301444415 47.70808184100008, -122.301416424 47.70819668100006, -122.301386543 47.70831130500005, -122.3013699749999 47.70837095800005, -122.301354772 47.70842569400003) 1.95450569415e-06\n",
      "3 [1, 0, 1, 1, 1] LINESTRING (-122.325062041 47.59751297700007, -122.325065332 47.59667434800008) 1.17753492331e-06\n",
      "4 [5, 0, 1, 1, 1] LINESTRING (-122.29564 47.66851920400006, -122.295063614 47.66851834900007) 2.41157278177e-06\n"
     ]
    }
   ],
   "source": [
    "# Compute closest distance from pothole to street geom;\n",
    "# Associate the street geom features with the closest pothole\n",
    "street_features = []\n",
    "idx = 0\n",
    "for hole in xrange(len(all_potholes[0])):\n",
    "    if idx == 5:\n",
    "        break\n",
    "    idx += 1\n",
    "    found = False\n",
    "    smallest_dist = 100.\n",
    "    for street in xrange(len(msegs)):\n",
    "        dist = all_potholes[0][hole].distance(msegs[street])\n",
    "        if dist < smallest_dist:\n",
    "            found = True\n",
    "            smallest_dist = dist\n",
    "            smallest_dist_street_feature = street_feature_list[street]\n",
    "            look_at_street = msegs[street]\n",
    "    street_features.append(smallest_dist_street_feature)\n",
    "    print hole, smallest_dist_street_feature, look_at_street, smallest_dist\n",
    "    if not found:   \n",
    "        street_features.append([])"
   ]
  },
  {
   "cell_type": "markdown",
   "metadata": {},
   "source": [
    "This entire job would take about 1 hr 45 min to complete.  Can I do it on an EC2 instance instead?"
   ]
  },
  {
   "cell_type": "code",
   "execution_count": 33,
   "metadata": {
    "collapsed": false
   },
   "outputs": [
    {
     "data": {
      "text/plain": [
       "[[1, 0, 1, 1, 1],\n",
       " [5, 0, 1, 1, 1],\n",
       " [5, 0, 1, 1, 1],\n",
       " [1, 0, 1, 1, 1],\n",
       " [5, 0, 1, 1, 1]]"
      ]
     },
     "execution_count": 33,
     "metadata": {},
     "output_type": "execute_result"
    }
   ],
   "source": [
    "street_features"
   ]
  },
  {
   "cell_type": "code",
   "execution_count": 34,
   "metadata": {
    "collapsed": true
   },
   "outputs": [],
   "source": [
    "shp.close()"
   ]
  },
  {
   "cell_type": "code",
   "execution_count": 36,
   "metadata": {
    "collapsed": false
   },
   "outputs": [
    {
     "name": "stdout",
     "output_type": "stream",
     "text": [
      "1\n",
      "5\n",
      "5\n",
      "1\n",
      "5\n"
     ]
    }
   ],
   "source": [
    "for elem in street_features:\n",
    "    print elem[0]"
   ]
  },
  {
   "cell_type": "code",
   "execution_count": 38,
   "metadata": {
    "collapsed": false
   },
   "outputs": [
    {
     "data": {
      "text/plain": [
       "[0, 0, 0, 0, 0]"
      ]
     },
     "execution_count": 38,
     "metadata": {},
     "output_type": "execute_result"
    }
   ],
   "source": [
    "[elem[1] for elem in street_features]"
   ]
  },
  {
   "cell_type": "code",
   "execution_count": 41,
   "metadata": {
    "collapsed": false
   },
   "outputs": [
    {
     "ename": "ValueError",
     "evalue": "Wrong number of items passed 5, placement implies 4418",
     "output_type": "error",
     "traceback": [
      "\u001b[1;31m---------------------------------------------------------------------------\u001b[0m",
      "\u001b[1;31mValueError\u001b[0m                                Traceback (most recent call last)",
      "\u001b[1;32m<ipython-input-41-1e575bcbcb33>\u001b[0m in \u001b[0;36m<module>\u001b[1;34m()\u001b[0m\n\u001b[0;32m      1\u001b[0m \u001b[1;31m# Add street geom features to dataframe\u001b[0m\u001b[1;33m\u001b[0m\u001b[1;33m\u001b[0m\u001b[0m\n\u001b[1;32m----> 2\u001b[1;33m \u001b[0mdf\u001b[0m\u001b[1;33m[\u001b[0m\u001b[1;34m'SND_FEACOD'\u001b[0m\u001b[1;33m]\u001b[0m \u001b[1;33m=\u001b[0m \u001b[0mpd\u001b[0m\u001b[1;33m.\u001b[0m\u001b[0mSeries\u001b[0m\u001b[1;33m(\u001b[0m\u001b[1;33m[\u001b[0m\u001b[0melem\u001b[0m\u001b[1;33m[\u001b[0m\u001b[1;36m0\u001b[0m\u001b[1;33m]\u001b[0m \u001b[1;32mfor\u001b[0m \u001b[0melem\u001b[0m \u001b[1;32min\u001b[0m \u001b[0mstreet_features\u001b[0m\u001b[1;33m]\u001b[0m\u001b[1;33m,\u001b[0m \u001b[0mindex\u001b[0m \u001b[1;33m=\u001b[0m \u001b[0mall_potholes\u001b[0m\u001b[1;33m[\u001b[0m\u001b[1;36m1\u001b[0m\u001b[1;33m]\u001b[0m\u001b[1;33m)\u001b[0m\u001b[1;33m\u001b[0m\u001b[0m\n\u001b[0m\u001b[0;32m      3\u001b[0m \u001b[0mdf\u001b[0m\u001b[1;33m[\u001b[0m\u001b[1;34m'ST_CODE'\u001b[0m\u001b[1;33m]\u001b[0m \u001b[1;33m=\u001b[0m \u001b[0mpd\u001b[0m\u001b[1;33m.\u001b[0m\u001b[0mSeries\u001b[0m\u001b[1;33m(\u001b[0m\u001b[1;33m[\u001b[0m\u001b[0melem\u001b[0m\u001b[1;33m[\u001b[0m\u001b[1;36m1\u001b[0m\u001b[1;33m]\u001b[0m \u001b[1;32mfor\u001b[0m \u001b[0melem\u001b[0m \u001b[1;32min\u001b[0m \u001b[0mstreet_features\u001b[0m\u001b[1;33m]\u001b[0m\u001b[1;33m,\u001b[0m \u001b[0mindex\u001b[0m \u001b[1;33m=\u001b[0m \u001b[0mall_potholes\u001b[0m\u001b[1;33m[\u001b[0m\u001b[1;36m1\u001b[0m\u001b[1;33m]\u001b[0m\u001b[1;33m)\u001b[0m\u001b[1;33m\u001b[0m\u001b[0m\n\u001b[0;32m      4\u001b[0m \u001b[0mdf\u001b[0m\u001b[1;33m[\u001b[0m\u001b[1;34m'SEGMENT_TY'\u001b[0m\u001b[1;33m]\u001b[0m \u001b[1;33m=\u001b[0m \u001b[0mpd\u001b[0m\u001b[1;33m.\u001b[0m\u001b[0mSeries\u001b[0m\u001b[1;33m(\u001b[0m\u001b[1;33m[\u001b[0m\u001b[0melem\u001b[0m\u001b[1;33m[\u001b[0m\u001b[1;36m2\u001b[0m\u001b[1;33m]\u001b[0m \u001b[1;32mfor\u001b[0m \u001b[0melem\u001b[0m \u001b[1;32min\u001b[0m \u001b[0mstreet_features\u001b[0m\u001b[1;33m]\u001b[0m\u001b[1;33m,\u001b[0m \u001b[0mindex\u001b[0m \u001b[1;33m=\u001b[0m \u001b[0mall_potholes\u001b[0m\u001b[1;33m[\u001b[0m\u001b[1;36m1\u001b[0m\u001b[1;33m]\u001b[0m\u001b[1;33m)\u001b[0m\u001b[1;33m\u001b[0m\u001b[0m\n\u001b[0;32m      5\u001b[0m \u001b[0mdf\u001b[0m\u001b[1;33m[\u001b[0m\u001b[1;34m'DIVIDED_CO'\u001b[0m\u001b[1;33m]\u001b[0m \u001b[1;33m=\u001b[0m \u001b[0mpd\u001b[0m\u001b[1;33m.\u001b[0m\u001b[0mSeries\u001b[0m\u001b[1;33m(\u001b[0m\u001b[1;33m[\u001b[0m\u001b[0melem\u001b[0m\u001b[1;33m[\u001b[0m\u001b[1;36m3\u001b[0m\u001b[1;33m]\u001b[0m \u001b[1;32mfor\u001b[0m \u001b[0melem\u001b[0m \u001b[1;32min\u001b[0m \u001b[0mstreet_features\u001b[0m\u001b[1;33m]\u001b[0m\u001b[1;33m,\u001b[0m \u001b[0mindex\u001b[0m \u001b[1;33m=\u001b[0m \u001b[0mall_potholes\u001b[0m\u001b[1;33m[\u001b[0m\u001b[1;36m1\u001b[0m\u001b[1;33m]\u001b[0m\u001b[1;33m)\u001b[0m\u001b[1;33m\u001b[0m\u001b[0m\n",
      "\u001b[1;32mC:\\Users\\andersrmr\\Anaconda\\lib\\site-packages\\pandas\\core\\series.pyc\u001b[0m in \u001b[0;36m__init__\u001b[1;34m(self, data, index, dtype, name, copy, fastpath)\u001b[0m\n\u001b[0;32m    218\u001b[0m                                        raise_cast_failure=True)\n\u001b[0;32m    219\u001b[0m \u001b[1;33m\u001b[0m\u001b[0m\n\u001b[1;32m--> 220\u001b[1;33m                 \u001b[0mdata\u001b[0m \u001b[1;33m=\u001b[0m \u001b[0mSingleBlockManager\u001b[0m\u001b[1;33m(\u001b[0m\u001b[0mdata\u001b[0m\u001b[1;33m,\u001b[0m \u001b[0mindex\u001b[0m\u001b[1;33m,\u001b[0m \u001b[0mfastpath\u001b[0m\u001b[1;33m=\u001b[0m\u001b[0mTrue\u001b[0m\u001b[1;33m)\u001b[0m\u001b[1;33m\u001b[0m\u001b[0m\n\u001b[0m\u001b[0;32m    221\u001b[0m \u001b[1;33m\u001b[0m\u001b[0m\n\u001b[0;32m    222\u001b[0m         \u001b[0mgeneric\u001b[0m\u001b[1;33m.\u001b[0m\u001b[0mNDFrame\u001b[0m\u001b[1;33m.\u001b[0m\u001b[0m__init__\u001b[0m\u001b[1;33m(\u001b[0m\u001b[0mself\u001b[0m\u001b[1;33m,\u001b[0m \u001b[0mdata\u001b[0m\u001b[1;33m,\u001b[0m \u001b[0mfastpath\u001b[0m\u001b[1;33m=\u001b[0m\u001b[0mTrue\u001b[0m\u001b[1;33m)\u001b[0m\u001b[1;33m\u001b[0m\u001b[0m\n",
      "\u001b[1;32mC:\\Users\\andersrmr\\Anaconda\\lib\\site-packages\\pandas\\core\\internals.pyc\u001b[0m in \u001b[0;36m__init__\u001b[1;34m(self, block, axis, do_integrity_check, fastpath)\u001b[0m\n\u001b[0;32m   3381\u001b[0m             block = make_block(block,\n\u001b[0;32m   3382\u001b[0m                                \u001b[0mplacement\u001b[0m\u001b[1;33m=\u001b[0m\u001b[0mslice\u001b[0m\u001b[1;33m(\u001b[0m\u001b[1;36m0\u001b[0m\u001b[1;33m,\u001b[0m \u001b[0mlen\u001b[0m\u001b[1;33m(\u001b[0m\u001b[0maxis\u001b[0m\u001b[1;33m)\u001b[0m\u001b[1;33m)\u001b[0m\u001b[1;33m,\u001b[0m\u001b[1;33m\u001b[0m\u001b[0m\n\u001b[1;32m-> 3383\u001b[1;33m                                ndim=1, fastpath=True)\n\u001b[0m\u001b[0;32m   3384\u001b[0m \u001b[1;33m\u001b[0m\u001b[0m\n\u001b[0;32m   3385\u001b[0m         \u001b[0mself\u001b[0m\u001b[1;33m.\u001b[0m\u001b[0mblocks\u001b[0m \u001b[1;33m=\u001b[0m \u001b[1;33m[\u001b[0m\u001b[0mblock\u001b[0m\u001b[1;33m]\u001b[0m\u001b[1;33m\u001b[0m\u001b[0m\n",
      "\u001b[1;32mC:\\Users\\andersrmr\\Anaconda\\lib\\site-packages\\pandas\\core\\internals.pyc\u001b[0m in \u001b[0;36mmake_block\u001b[1;34m(values, placement, klass, ndim, dtype, fastpath)\u001b[0m\n\u001b[0;32m   2099\u001b[0m \u001b[1;33m\u001b[0m\u001b[0m\n\u001b[0;32m   2100\u001b[0m     return klass(values, ndim=ndim, fastpath=fastpath,\n\u001b[1;32m-> 2101\u001b[1;33m                  placement=placement)\n\u001b[0m\u001b[0;32m   2102\u001b[0m \u001b[1;33m\u001b[0m\u001b[0m\n\u001b[0;32m   2103\u001b[0m \u001b[1;33m\u001b[0m\u001b[0m\n",
      "\u001b[1;32mC:\\Users\\andersrmr\\Anaconda\\lib\\site-packages\\pandas\\core\\internals.pyc\u001b[0m in \u001b[0;36m__init__\u001b[1;34m(self, values, placement, ndim, fastpath)\u001b[0m\n\u001b[0;32m     75\u001b[0m             raise ValueError('Wrong number of items passed %d,'\n\u001b[0;32m     76\u001b[0m                              ' placement implies %d' % (\n\u001b[1;32m---> 77\u001b[1;33m                                  len(self.values), len(self.mgr_locs)))\n\u001b[0m\u001b[0;32m     78\u001b[0m \u001b[1;33m\u001b[0m\u001b[0m\n\u001b[0;32m     79\u001b[0m     \u001b[1;33m@\u001b[0m\u001b[0mproperty\u001b[0m\u001b[1;33m\u001b[0m\u001b[0m\n",
      "\u001b[1;31mValueError\u001b[0m: Wrong number of items passed 5, placement implies 4418"
     ]
    }
   ],
   "source": [
    "# Add street geom features to dataframe\n",
    "df['SND_FEACOD'] = pd.Series([elem[0] for elem in street_features], index = all_potholes[1])\n",
    "df['ST_CODE'] = pd.Series([elem[1] for elem in street_features], index = all_potholes[1])\n",
    "df['SEGMENT_TY'] = pd.Series([elem[2] for elem in street_features], index = all_potholes[1])\n",
    "df['DIVIDED_CO'] = pd.Series([elem[3] for elem in street_features], index = all_potholes[1])\n",
    "df['VEHICLE_US'] = pd.Series([elem[4] for elem in street_features], index = all_potholes[1])"
   ]
  },
  {
   "cell_type": "code",
   "execution_count": null,
   "metadata": {
    "collapsed": true
   },
   "outputs": [],
   "source": []
  }
 ],
 "metadata": {
  "kernelspec": {
   "display_name": "Python 2",
   "language": "python",
   "name": "python2"
  },
  "language_info": {
   "codemirror_mode": {
    "name": "ipython",
    "version": 2
   },
   "file_extension": ".py",
   "mimetype": "text/x-python",
   "name": "python",
   "nbconvert_exporter": "python",
   "pygments_lexer": "ipython2",
   "version": "2.7.10"
  }
 },
 "nbformat": 4,
 "nbformat_minor": 0
}
