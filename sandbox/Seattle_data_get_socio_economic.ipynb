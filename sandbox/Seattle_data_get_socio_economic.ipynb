{
 "cells": [
  {
   "cell_type": "code",
   "execution_count": 1,
   "metadata": {
    "collapsed": true
   },
   "outputs": [],
   "source": [
    "import matplotlib.pyplot as plt\n",
    "import numpy as np\n",
    "import pandas as pd"
   ]
  },
  {
   "cell_type": "code",
   "execution_count": 2,
   "metadata": {
    "collapsed": true
   },
   "outputs": [],
   "source": [
    "%matplotlib inline"
   ]
  },
  {
   "cell_type": "code",
   "execution_count": 3,
   "metadata": {
    "collapsed": true
   },
   "outputs": [],
   "source": [
    "df = pd.read_pickle('df_1to1999_cleaned.pkl')"
   ]
  },
  {
   "cell_type": "code",
   "execution_count": 4,
   "metadata": {
    "collapsed": false
   },
   "outputs": [
    {
     "data": {
      "text/html": [
       "<div>\n",
       "<table border=\"1\" class=\"dataframe\">\n",
       "  <thead>\n",
       "    <tr style=\"text-align: right;\">\n",
       "      <th></th>\n",
       "      <th>OBJECTID</th>\n",
       "      <th>WOKEY</th>\n",
       "      <th>LOCATION</th>\n",
       "      <th>ADDRDESC</th>\n",
       "      <th>INITDT_dt</th>\n",
       "      <th>FLDSTARTDT_dt</th>\n",
       "      <th>FLDENDDT_dt</th>\n",
       "      <th>DURATION</th>\n",
       "      <th>DURATION_td</th>\n",
       "      <th>latitude</th>\n",
       "      <th>longitude</th>\n",
       "      <th>address</th>\n",
       "    </tr>\n",
       "  </thead>\n",
       "  <tbody>\n",
       "    <tr>\n",
       "      <th>0</th>\n",
       "      <td>1</td>\n",
       "      <td>2456</td>\n",
       "      <td>Holden pl SW bt  SW Kenyon Holden             ...</td>\n",
       "      <td>HOLDEN PL SW BETWEEN SW HOLDEN ST AND SW KENYO...</td>\n",
       "      <td>2010-03-29 07:00:00</td>\n",
       "      <td>2010-04-06 07:00:00</td>\n",
       "      <td>2010-04-06 07:00:00</td>\n",
       "      <td>8 days</td>\n",
       "      <td>8</td>\n",
       "      <td>47.531858</td>\n",
       "      <td>-122.363186</td>\n",
       "      <td>SW Kenyon St, Seattle, WA, USA</td>\n",
       "    </tr>\n",
       "    <tr>\n",
       "      <th>1</th>\n",
       "      <td>2</td>\n",
       "      <td>2514</td>\n",
       "      <td>NE Pacific Street, one block west of Montlake ...</td>\n",
       "      <td>MONTLAKE BLVD NE AND NE PACIFIC ST            ...</td>\n",
       "      <td>2010-03-30 07:00:00</td>\n",
       "      <td>2010-04-01 07:00:00</td>\n",
       "      <td>2010-04-01 07:00:00</td>\n",
       "      <td>2 days</td>\n",
       "      <td>2</td>\n",
       "      <td>47.649014</td>\n",
       "      <td>-122.304655</td>\n",
       "      <td>Montlake Blvd NE &amp; NE Pacific St, Seattle, WA ...</td>\n",
       "    </tr>\n",
       "  </tbody>\n",
       "</table>\n",
       "</div>"
      ],
      "text/plain": [
       "   OBJECTID  WOKEY                                           LOCATION  \\\n",
       "0         1   2456  Holden pl SW bt  SW Kenyon Holden             ...   \n",
       "1         2   2514  NE Pacific Street, one block west of Montlake ...   \n",
       "\n",
       "                                            ADDRDESC           INITDT_dt  \\\n",
       "0  HOLDEN PL SW BETWEEN SW HOLDEN ST AND SW KENYO... 2010-03-29 07:00:00   \n",
       "1  MONTLAKE BLVD NE AND NE PACIFIC ST            ... 2010-03-30 07:00:00   \n",
       "\n",
       "        FLDSTARTDT_dt         FLDENDDT_dt  DURATION  DURATION_td   latitude  \\\n",
       "0 2010-04-06 07:00:00 2010-04-06 07:00:00    8 days            8  47.531858   \n",
       "1 2010-04-01 07:00:00 2010-04-01 07:00:00    2 days            2  47.649014   \n",
       "\n",
       "    longitude                                            address  \n",
       "0 -122.363186                     SW Kenyon St, Seattle, WA, USA  \n",
       "1 -122.304655  Montlake Blvd NE & NE Pacific St, Seattle, WA ...  "
      ]
     },
     "execution_count": 4,
     "metadata": {},
     "output_type": "execute_result"
    }
   ],
   "source": [
    "df.head(2)"
   ]
  },
  {
   "cell_type": "code",
   "execution_count": 5,
   "metadata": {
    "collapsed": true
   },
   "outputs": [],
   "source": [
    "import requests\n",
    "from bs4 import BeautifulSoup\n",
    "import re"
   ]
  },
  {
   "cell_type": "code",
   "execution_count": 108,
   "metadata": {
    "collapsed": true
   },
   "outputs": [],
   "source": [
    "def get_home_values(df):\n",
    "    url = 'http://www.zillow.com/homes/for_sale/featured_sort'\n",
    "    for row in xrange(1):\n",
    "#     for row in xrange(df.shape[0]):\n",
    "        lat, lon = df.ix[row, 'latitude'], df.ix[row, 'longitude']\n",
    "        url = url+'/{0},{1},{2},{3}_rect/15_zm/'.format(lat+.003,lon+.003,lat-.003,lon+.003)\n",
    "        r = requests.get(url)\n",
    "#         soup = BeautifulSoup(r.content, 'html.parser')\n",
    "        soup = BeautifulSoup(r.text, 'html.parser')\n",
    "#         g_data = soup.find_all(\"div\", {\"class\": \"property-info\"})\n",
    "        g_data = soup.find_all(\"dt\", {\"class\": \"zestimate\"})\n",
    "        for item in g_data:\n",
    "            print item.text\n",
    "            \n",
    "        \n",
    "       "
   ]
  },
  {
   "cell_type": "code",
   "execution_count": 109,
   "metadata": {
    "collapsed": true
   },
   "outputs": [],
   "source": [
    "get_home_values(df)"
   ]
  },
  {
   "cell_type": "markdown",
   "metadata": {},
   "source": [
    "####This gives me nothing.  Let's look at the code line by line."
   ]
  },
  {
   "cell_type": "code",
   "execution_count": 110,
   "metadata": {
    "collapsed": false
   },
   "outputs": [],
   "source": [
    "url = 'http://www.zillow.com/homes/for_sale/featured_sort/47.5348578,-122.3601857,47.5288578,-122.3601857_rect/15_zm/'"
   ]
  },
  {
   "cell_type": "code",
   "execution_count": 111,
   "metadata": {
    "collapsed": false
   },
   "outputs": [],
   "source": [
    "r = requests.get(url)"
   ]
  },
  {
   "cell_type": "code",
   "execution_count": 112,
   "metadata": {
    "collapsed": false
   },
   "outputs": [],
   "source": [
    "soup = BeautifulSoup(r.text, 'html.parser')\n",
    "# print soup.prettify()"
   ]
  },
  {
   "cell_type": "code",
   "execution_count": 117,
   "metadata": {
    "collapsed": true
   },
   "outputs": [],
   "source": [
    "g_data = soup.find_all(\"div\", {\"class\": \"property-info\"}) #This gives me an empty list"
   ]
  },
  {
   "cell_type": "code",
   "execution_count": 118,
   "metadata": {
    "collapsed": false
   },
   "outputs": [
    {
     "data": {
      "text/plain": [
       "[]"
      ]
     },
     "execution_count": 118,
     "metadata": {},
     "output_type": "execute_result"
    }
   ],
   "source": [
    "g_data"
   ]
  },
  {
   "cell_type": "code",
   "execution_count": 115,
   "metadata": {
    "collapsed": false
   },
   "outputs": [],
   "source": [
    "g_data = soup.find_all(\"dt\", {\"class\": \"zestimate\"}) #This gives me an empty list"
   ]
  },
  {
   "cell_type": "code",
   "execution_count": 116,
   "metadata": {
    "collapsed": false
   },
   "outputs": [
    {
     "data": {
      "text/plain": [
       "[]"
      ]
     },
     "execution_count": 116,
     "metadata": {},
     "output_type": "execute_result"
    }
   ],
   "source": [
    "g_data"
   ]
  },
  {
   "cell_type": "code",
   "execution_count": 119,
   "metadata": {
    "collapsed": true
   },
   "outputs": [],
   "source": [
    "g_data = soup.find_all(\"div\", {\"id\": \"container\"}) #This gives me a list of one element that doesn't contain the property values\n",
    "                                                    # I am looking for."
   ]
  },
  {
   "cell_type": "code",
   "execution_count": 120,
   "metadata": {
    "collapsed": false
   },
   "outputs": [
    {
     "data": {
      "text/plain": [
       "<div class=\"search-content-container\" id=\"container\"><div class=\"active-view\"><div class=\"property-data-column yui3-u \" id=\"c-column\"><div class=\"inner-property-data-column\" id=\"inner-c-column\"><div class=\"search-list-col\" id=\"list-container-column\"><div class=\"active-view\"><div class=\"\" data-zmm-page=\"Search-List\" id=\"list-results-container\"><div class=\"photoex hide\" id=\"photoex-viewer\"><div class=\"photoex-photos hide\" id=\"photo-viewer\"></div><div class=\"mapsViews hide\" id=\"map-viewer\"></div></div><!-- Property results --><div class=\"list-container \" id=\"list-container\"><div id=\"inner-list-container\"><div class=\"nav-ad above-nav-ad\" id=\"nav-ad-container\"><div id=\"list-nav-ad-loading\"><span class=\"zsg-loading-spinner\"></span> Loading </div><div class=\"nav-ad-property-listing\" id=\"nav-ad-gpt-container\"><div class=\"google-ad-config\" data-frame-id=\"gpt-ad-da914a56-c153-4844-90df-3a1ce01e2a0b\" id=\"gpt-ad-da914a56-c153-4844-90df-3a1ce01e2a0b-config\" style=\"display: none;\">{\"targetDiv\":\"gpt-ad-da914a56-c153-4844-90df-3a1ce01e2a0b\",\"slot\":\"zillow/search_results/buy_general/n_right_p1\",\"network\":\"7449\",\"sizes\":\"[[375,124],[1,1]]\",\"targets\":{\"zusr\":\"true\",\"zncon\":\"yes\",\"vers\":\"ADS_NavAdInterval:10,ADS_ZipCountThreshold:2\",\"zpfc\":\"yes\",\"zguidh\":\"3519029400687784240\",\"premieragent\":\"no\",\"mover\":\"forsale\",\"zfc\":\"yes\",\"pis\":\"1\"},\"defer_ad\":false,\"explicit_defer_ad\":false,\"load_event\":\"hotelCalifornia:backToListClicked\"}</div><div class=\"deferred-iframe-target\" id=\"gpt-ad-da914a56-c153-4844-90df-3a1ce01e2a0b\"></div></div></div><div class=\"zsg-content-item\" id=\"list-core-content-container\" role=\"main\"><div class=\"map-list-loader-container loading\" id=\"list-loading-message\"><div class=\"map-list-loader\"><span class=\"zsg-loading-spinner\"></span> Updating results... </div></div><div class=\"list-loading-message-cover\"></div><div class=\"search-title-container zsg-content-item\"><h1 class=\"zsg-content_collapsed\" id=\"search-title\">Real Estate</h1><!-- <div class=\"map-result-count-message-wrapper\"> --><div id=\"map-result-count-message\"></div><!-- </div> --></div><div id=\"sort-control-container\"><ul class=\"zsg-tabs zsg-tabs_lg\" id=\"property-sort-control\"><li class=\"zsg-tab_active\"><a data-value=\"featured\" href=\"/homes/for_sale/featured_sort/48.62889862060547,-121.34300231933594,46.62889862060547,-123.34300231933594_rect/1_p/\">Featured</a></li><li class=\"\"><a data-value=\"days\" href=\"/homes/for_sale/48.62889862060547,-121.34300231933594,46.62889862060547,-123.34300231933594_rect/1_p/\">Newest</a></li><li class=\"second-unselected\"><a data-value=\"priced\" href=\"/homes/for_sale/priced_sort/48.62889862060547,-121.34300231933594,46.62889862060547,-123.34300231933594_rect/1_p/\">Cheapest</a></li><li class=\"hide\" id=\"property-sort-control-more-btn\"><a class=\"more-btn zsg-menu-launch\" data-horizontal-align=\"right\" href=\"#property-sort-options\">More</a><div class=\"zsg-menu\" id=\"property-sort-options\"><ul class=\"zsg-menu-linklist\"><li class=\"second-unselected\"><a data-value=\"priced\" href=\"#\">Cheapest</a></li><li class=\"\"><a data-value=\"pricea\" href=\"#\">Price (High to Low)</a></li><li class=\"\"><a data-value=\"beds\" href=\"#\">Bedrooms</a></li><li class=\"\"><a data-value=\"baths\" href=\"#\">Bathrooms</a></li><li class=\"\"><a data-value=\"size\" href=\"#\">Square Feet</a></li><li class=\"\"><a data-value=\"built\" href=\"#\">Year Built</a></li><li class=\"\"><a data-value=\"lot\" href=\"#\">Lot Area</a></li><li class=\"\"><a data-value=\"zest\" href=\"#\">Zestimate (High to Low)</a></li><li class=\"\"><a data-value=\"zesta\" href=\"#\">Zestimate (Low to High)</a></li></ul></div></li></ul></div><div class=\"loading searchupsellnew\" id=\"list-results\"></div><div class=\"zsg-content-item\" id=\"search-pagination-wrapper\"><ol class=\"zsg-pagination\"><li class=\"zsg-pagination_active\"><a>1</a></li><li><a href=\"/homes/for_sale/featured_sort/47.5348578,-122.3601857,47.5288578,-122.3601857_rect/15_zm/2_p/\" onclick=\"SearchMain.changePage(2);return false;\">2</a></li><li><a href=\"/homes/for_sale/featured_sort/47.5348578,-122.3601857,47.5288578,-122.3601857_rect/15_zm/3_p/\" onclick=\"SearchMain.changePage(3);return false;\">3</a></li><li><a href=\"/homes/for_sale/featured_sort/47.5348578,-122.3601857,47.5288578,-122.3601857_rect/15_zm/4_p/\" onclick=\"SearchMain.changePage(4);return false;\">4</a></li><li><a href=\"/homes/for_sale/featured_sort/47.5348578,-122.3601857,47.5288578,-122.3601857_rect/15_zm/5_p/\" onclick=\"SearchMain.changePage(5);return false;\">5</a></li><li class=\"zsg-pagination-ellipsis\"><span>...</span></li><li><a href=\"/homes/for_sale/featured_sort/47.5348578,-122.3601857,47.5288578,-122.3601857_rect/15_zm/20_p/\" onclick=\"SearchMain.changePage(20);return false;\">20</a></li><li class=\"zsg-pagination-next\"><a class=\"on\" onclick=\"SearchMain.changePage(2);return false;\">Next</a></li></ol></div></div><div class=\"zsg-content-item footer-save-search-upsell \" id=\"list-results-save-search-upsell\"><a class=\"zsg-lightbox-show za-track-event\" data-za-action=\"Saved Search\" data-za-category=\"Saved Search\" data-za-href=\"!ignore\" data-za-label=\"SearchList:SaveSearch\" data-za-label-submit=\"Save Search Filter submit\" href=\"#saved-search-lightbox\">Save this search</a> to get email alerts when listings hit the market. </div></div></div></div><div class=\"generic-box ad\"><div class=\"google-ad-config\" data-frame-id=\"gpt-ad-ccd1869f-feda-4f8c-8a6d-c2752fb42e6e\" id=\"gpt-ad-ccd1869f-feda-4f8c-8a6d-c2752fb42e6e-config\" style=\"display: none;\">{\"targetDiv\":\"gpt-ad-ccd1869f-feda-4f8c-8a6d-c2752fb42e6e\",\"slot\":\"zillow/search_results/buy_general/b_right_p1\",\"network\":\"7449\",\"sizes\":\"[300,250]\",\"targets\":{\"zusr\":\"true\",\"zncon\":\"yes\",\"vers\":\"ADS_NavAdInterval:10,ADS_ZipCountThreshold:2\",\"zpfc\":\"yes\",\"zguidh\":\"3519029400687784240\",\"premieragent\":\"no\",\"mover\":\"forsale\",\"zfc\":\"yes\",\"pis\":\"1\"},\"defer_ad\":false,\"explicit_defer_ad\":false,\"load_event\":\"hotelCalifornia:backToListClicked\"}</div><div class=\"deferred-iframe-target\" id=\"gpt-ad-ccd1869f-feda-4f8c-8a6d-c2752fb42e6e\"></div></div><footer class=\"search-page-footer zsg-footer\" id=\"footer\"><div class=\"zsg-subfooter\"><div class=\"zsg-subfooter-content\"><div class=\"zsg-g\"><div class=\"clearfix\" id=\"nearby-results\"></div></div><div class=\"clearfix\" id=\"why-use-zillow\"><h6 class=\"zsg-subfooter-header\">Why use Zillow?</h6><p> Zillow is perfect for searching homes for sale in the United States. By analyzing real estate information on millions of homes for sale across the United States, we calculate home values (Zestimates) and the Zillow Home Value Price Index. </p></div><p class=\"schools-disclaimer zsg-fineprint\"><strong>Disclaimer:</strong> School attendance zone boundaries are supplied by Maponics and are subject to change. Check with the applicable school district prior to making a decision based on these boundaries.</p></div></div><div class=\"zsg-footer-nav zsg-separator zsg-separator_narrow\"><nav class=\"zsg-footer-row zsg-footer-linklist-container\"><ul class=\"zsg-list_inline zsg-footer-linklist zsg-fineprint-header\" data-za-action=\"Footer\" data-za-category=\"Navigation\"><li><a class=\"za-track-event zsg-link_primary\" data-za-action=\"!inherit\" data-za-category=\"!inherit\" data-za-label=\"About\" href=\"/corp/About.htm\">About</a></li><li><a class=\"za-track-event\" data-za-action=\"!inherit\" data-za-category=\"!inherit\" data-za-label=\"Zestimates\" href=\"/zestimate/\">Zestimates</a></li><li><a class=\"za-track-event zsg-link_primary\" data-za-action=\"!inherit\" data-za-category=\"!inherit\" data-za-label=\"Jobs\" href=\"/jobs/\">Jobs</a></li><li><a class=\"za-track-event zsg-link_primary\" data-za-action=\"!inherit\" data-za-category=\"!inherit\" data-za-label=\"Help\" href=\"/help/\">Help</a></li><li><a class=\"za-track-event zsg-link_primary\" data-za-action=\"!inherit\" data-za-category=\"!inherit\" data-za-label=\"Advertise\" href=\"/advertise/\">Advertise</a></li><li><a class=\"za-track-event zsg-link_primary\" data-za-action=\"!inherit\" data-za-category=\"!inherit\" data-za-label=\"Terms\" href=\"/corp/Terms.htm\">Terms of use &amp; Privacy</a></li><li><a class=\"za-track-event zsg-link_primary\" data-za-action=\"!inherit\" data-za-category=\"!inherit\" data-za-label=\"Ad Choice\" href=\"/corp/Privacy.htm#behavioralAdvertising\">Ad Choice</a></li><li><div class=\"za-track-event zsg-link_primary\" data-za-action=\"!inherit\" data-za-category=\"!inherit\" data-za-label=\"Cookie Preferences\" id=\"teconsent\"></div></li><li><a class=\"za-track-event zsg-link_primary\" data-za-action=\"!inherit\" data-za-category=\"!inherit\" data-za-label=\"Blog\" href=\"/blog\">Blog</a></li><li><a class=\"za-track-event zsg-link_primary\" data-za-action=\"!inherit\" data-za-category=\"!inherit\" data-za-label=\"Mobile Site\" href=\"/mobile/\">Mobile Apps</a></li></ul><span class=\"zsg-icon-expando-down zsg-footer-nav-arrow zsg-footer-nav-arrow-open\"></span><span class=\"zsg-icon-expando-up zsg-footer-nav-arrow zsg-footer-nav-arrow-close\"></span></nav></div><div class=\"zsg-footer-copyright zsg-footer-row\"><ul class=\"zsg-list_inline\"><li></li><li>© 2006-2015 Zillow</li><li><div class=\"zsg-footer-follow\" data-za-action=\"Social Icon\" data-za-category=\"Homepage\"><span>Follow us</span><a class=\"za-track-event\" data-za-action=\"!inherit\" data-za-category=\"!inherit\" data-za-label=\"Facebook\" href=\"http://www.facebook.com/Zillow\" target=\"_blank\"><span class=\"zsg-icon-facebook\"></span></a><a class=\"za-track-event\" data-za-action=\"!inherit\" data-za-category=\"!inherit\" data-za-label=\"Twitter\" href=\"http://twitter.com/zillow\" target=\"_blank\"><span class=\"zsg-icon-twitter\"></span></a><a class=\"za-track-event\" data-za-action=\"!inherit\" data-za-category=\"!inherit\" data-za-label=\"Google+\" href=\"http://plus.google.com/+Zillow\" target=\"_blank\"><span class=\"zsg-icon-google-plus\"></span></a></div></li></ul></div></footer></div></div><div class=\"active-hdp-col\" id=\"detail-container-column\"></div><!-- / inner-c-column --></div></div><!-- end c-column --><div id=\"content\"><div class=\"map-parent-container\" data-zmm-page=\"Search-Bubble\" id=\"map-parent-container\"><div class=\"hide\" id=\"search-messaging-container\"><div class=\"hide map-message\" id=\"info-message-bar\"><div class=\"zsg-notification-bar\"><a class=\"zsg-notification-bar-close\" title=\"Close\"><span class=\"zsg-icon-x-thick\"></span></a><div class=\"search-message-bar\" id=\"info-message-wrapper\"><span class=\"message\"></span></div></div></div></div><div id=\"disabled-map-cover\"></div><div class=\"map-container\" id=\"map-container\"><input class=\"hidden\" id=\"list\" name=\"list\" type=\"hidden\"/><input class=\"hidden\" id=\"spt\" name=\"spt\" type=\"hidden\"/><div class=\"hide map-message\" id=\"showing-unmapped-message\"><ul><li><span class=\"map-info-message-body\"><strong>Displaying unmapped homes.</strong> <a class=\"zsg-link_darkbg\" id=\"mapped-result-count\">See mappable homes</a>.</span></li></ul></div><div class=\"loading hide map-message\" id=\"map-rollup-info-message\"><ul><li class=\"map-info-message-container\"><span class=\"map-info-message-body\"><strong>Only showing 500 homes.</strong> Zoom in, or use filters to narrow your search.</span><span class=\"schools-info-message hide\"> Zoom in to see schools on the map.</span></li></ul></div><div class=\"hidden zsg-hide\"><div class=\"map-control-container z-map-button zoom-control\"><div class=\"map-control z-map-button-icon round pair-top\" data-value=\"zoomIn\"><div class=\"zoom-in zsg-icon-plus\"></div></div><div class=\"map-control z-map-button-icon round\" data-value=\"zoomOut\"><div class=\"zoom-out zsg-icon-minus\"></div></div></div><div class=\"map-control-container z-map-button type-control\"><div class=\"map-control z-map-button-icon zsg-menu-launch\" data-horizontal-align=\"right\"><div class=\"map-mode\">Map<span class=\"arrow-down\"></span></div></div><div class=\"map-type-dropdown zsg-menu zsg-menu_shrinkwrap\"><ul><li><input checked=\"checked\" id=\"map-type-automatic\" type=\"radio\" value=\"4\"/><label for=\"map-type-automatic\">Automatic</label></li><li><input id=\"map-type-aerial\" type=\"radio\" value=\"3\"/><label for=\"map-type-aerial\">Aerial</label></li><li><input id=\"map-type-street\" type=\"radio\" value=\"1\"/><label for=\"map-type-street\">Street</label></li></ul></div></div><div class=\"map-control-container z-map-button schools-control\"><a class=\"map-control z-map-button-icon schools-enable-button square\" data-value=\"schoolsEnable\" href=\"#\" title=\"Enable Schools Info\"><div class=\"schools zsg-icon-school\"></div></a><div class=\"school-filter-view-container hide\"></div></div><div class=\"map-control-container z-map-button picasso-control\"><a class=\"map-control z-map-button-icon square\" data-alttitle=\"Disable drawn region\" href=\"#\" title=\"Draw a custom region\"><div class=\"picasso zsg-icon-draw\"></div></a></div><div class=\"map-control-container z-map-button location-control\"><a class=\"map-control z-map-button-icon commute-enable-button square pair-top\" data-value=\"commuteEnable\" href=\"#\" title=\"Enable Commute Info\"><div class=\"commute-enable zsg-icon-car\"></div></a><a class=\"map-control z-map-button-icon commute-add-button square\" data-value=\"commuteAdd\" href=\"#\" title=\"Drop a new pin\"><div class=\"commute-add zsg-icon-car-plus\"></div></a></div></div><!-- Picasso Message Bar --><div class=\"zsg-hide\"><div class=\"map-message-bar\" id=\"picasso-message-bar\"><div><strong>Draw a shape</strong> around the region(s) you would like to live in</div><a class=\"cancel-btn\" href=\"#\">Cancel</a><a class=\"apply-btn\" href=\"#\">Apply</a></div></div></div></div></div></div></div>"
      ]
     },
     "execution_count": 120,
     "metadata": {},
     "output_type": "execute_result"
    }
   ],
   "source": [
    "g_data[0]"
   ]
  },
  {
   "cell_type": "code",
   "execution_count": 121,
   "metadata": {
    "collapsed": false
   },
   "outputs": [
    {
     "data": {
      "text/plain": [
       "bs4.element.ResultSet"
      ]
     },
     "execution_count": 121,
     "metadata": {},
     "output_type": "execute_result"
    }
   ],
   "source": [
    "type(g_data)"
   ]
  },
  {
   "cell_type": "code",
   "execution_count": 123,
   "metadata": {
    "collapsed": false
   },
   "outputs": [
    {
     "data": {
      "text/plain": [
       "[]"
      ]
     },
     "execution_count": 123,
     "metadata": {},
     "output_type": "execute_result"
    }
   ],
   "source": [
    "g_data[0].find_all(\"dt\", {\"class\": \"zestimate\"}) #Nothing"
   ]
  },
  {
   "cell_type": "markdown",
   "metadata": {},
   "source": [
    "####This is just not working.  BeautifulSoup is not working.  I need to try another approach to getting the socio-economic data."
   ]
  },
  {
   "cell_type": "code",
   "execution_count": 17,
   "metadata": {
    "collapsed": false
   },
   "outputs": [
    {
     "name": "stdout",
     "output_type": "stream",
     "text": [
      "http://www.zillow.com/homes/for_sale/featured_sort/47.5348578,-122.3601857,47.5288578,-122.3601857_rect/15_zm/\n"
     ]
    }
   ],
   "source": [
    "get_home_values(df)"
   ]
  },
  {
   "cell_type": "code",
   "execution_count": 124,
   "metadata": {
    "collapsed": false
   },
   "outputs": [
    {
     "data": {
      "text/plain": [
       "22005"
      ]
     },
     "execution_count": 124,
     "metadata": {},
     "output_type": "execute_result"
    }
   ],
   "source": [
    "r.text.find('$')"
   ]
  },
  {
   "cell_type": "code",
   "execution_count": 125,
   "metadata": {
    "collapsed": false
   },
   "outputs": [
    {
     "data": {
      "text/plain": [
       "[0, 5, 10, 15]"
      ]
     },
     "execution_count": 125,
     "metadata": {},
     "output_type": "execute_result"
    }
   ],
   "source": [
    "[m.start() for m in re.finditer('test', 'test test test test')] #some Regex code to find re-occurences of textg"
   ]
  },
  {
   "cell_type": "code",
   "execution_count": 128,
   "metadata": {
    "collapsed": false
   },
   "outputs": [],
   "source": [
    "positions = [m.start() for m in re.finditer('\\$', r.text)] #I had to 'escape' the $"
   ]
  },
  {
   "cell_type": "code",
   "execution_count": 129,
   "metadata": {
    "collapsed": false
   },
   "outputs": [
    {
     "name": "stdout",
     "output_type": "stream",
     "text": [
      "$ui$TopNav\n",
      "$TopNav201\n",
      "$ui$TopNav\n",
      "$TopNav201\n",
      "$ui$TopNav\n",
      "$TopNav201\n",
      "$ui$TopNav\n",
      "$TopNav201\n",
      "$50,000+</\n",
      "$75,000+</\n",
      "$100,000+<\n",
      "$150,000+<\n",
      "$200,000+<\n",
      "$250,000+<\n",
      "$300,000+<\n",
      "$400,000+<\n",
      "$500,000+<\n",
      "$500+</a><\n",
      "$750+</a><\n",
      "$1,000+</a\n",
      "$1,250+</a\n",
      "$1,500+</a\n",
      "$1,750+</a\n",
      "$2,000+</a\n",
      "$2,500+</a\n",
      "$3,000+</a\n",
      "$100,000</\n",
      "$200,000</\n",
      "$300,000</\n",
      "$400,000</\n",
      "$500,000</\n",
      "$600,000</\n",
      "$700,000</\n",
      "$800,000</\n",
      "$900,000</\n",
      "$1,000</a>\n",
      "$1,500</a>\n",
      "$2,000</a>\n",
      "$2,500</a>\n",
      "$3,000</a>\n",
      "$3,500</a>\n",
      "$4,000</a>\n",
      "$4,500</a>\n",
      "$5,000</a>\n",
      "$</div><in\n",
      "$</div><in\n",
      "$</div><in\n",
      "$</div><in\n",
      "$<span cla\n",
      "$links$Log\n",
      "$LoginLink\n",
      "$links$Reg\n",
      "$RegisterL\n",
      "$/g,\"\")},r\n"
     ]
    }
   ],
   "source": [
    "for pos in positions:\n",
    "    print r.text[pos:pos+10]"
   ]
  },
  {
   "cell_type": "markdown",
   "metadata": {},
   "source": [
    "#### I don't get the property values I see when I go to \"inspect element\" at the web address.  Where are the property values?"
   ]
  },
  {
   "cell_type": "markdown",
   "metadata": {
    "collapsed": true
   },
   "source": [
    "#####socrata seattle.data.gov property values: Nothing here."
   ]
  },
  {
   "cell_type": "markdown",
   "metadata": {},
   "source": [
    "####Trying King County Dept of Assessments at http://info.kingcounty.gov/Assessor/eRealProperty/default.aspx"
   ]
  },
  {
   "cell_type": "code",
   "execution_count": null,
   "metadata": {
    "collapsed": true
   },
   "outputs": [],
   "source": []
  }
 ],
 "metadata": {
  "kernelspec": {
   "display_name": "Python 2",
   "language": "python",
   "name": "python2"
  },
  "language_info": {
   "codemirror_mode": {
    "name": "ipython",
    "version": 2
   },
   "file_extension": ".py",
   "mimetype": "text/x-python",
   "name": "python",
   "nbconvert_exporter": "python",
   "pygments_lexer": "ipython2",
   "version": "2.7.10"
  }
 },
 "nbformat": 4,
 "nbformat_minor": 0
}
