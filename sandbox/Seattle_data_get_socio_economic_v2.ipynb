{
 "cells": [
  {
   "cell_type": "code",
   "execution_count": 1,
   "metadata": {
    "collapsed": true
   },
   "outputs": [],
   "source": [
    "import matplotlib.pyplot as plt\n",
    "import numpy as np\n",
    "import pandas as pd\n",
    "%matplotlib inline"
   ]
  },
  {
   "cell_type": "code",
   "execution_count": 2,
   "metadata": {
    "collapsed": true
   },
   "outputs": [],
   "source": [
    "df = pd.read_pickle('df_neighborhoods_dists_seasons.pkl')"
   ]
  },
  {
   "cell_type": "markdown",
   "metadata": {},
   "source": [
    "1. Here, the first approach is to try to use the Census data by block groups.  Map each point to the member block group then assign the economic indicator associated with that block group.\n",
    "2. Second approach is to ask Giovanna for help making the scraping from zillow work."
   ]
  },
  {
   "cell_type": "markdown",
   "metadata": {},
   "source": [
    "Here is a link for some help on re-projecting the shape files, which are in different projections than before; but that doesn't matter.  I can just use the new projection with my basemap, right?\n",
    "http://geoinformaticstutorial.blogspot.com/2012/10/reprojecting-shapefile-with-gdalogr-and.html"
   ]
  },
  {
   "cell_type": "code",
   "execution_count": 3,
   "metadata": {
    "collapsed": true
   },
   "outputs": [],
   "source": [
    "import fiona\n",
    "from mpl_toolkits.basemap import Basemap\n",
    "from shapely.geometry import Point, Polygon, MultiPoint, MultiPolygon\n",
    "from shapely.prepared import prep"
   ]
  },
  {
   "cell_type": "code",
   "execution_count": 4,
   "metadata": {
    "collapsed": true
   },
   "outputs": [],
   "source": [
    "pd.set_option('display.max_columns', 500)"
   ]
  },
  {
   "cell_type": "markdown",
   "metadata": {},
   "source": [
    "Make sure I'm keeping the objectid which identifies the pothole"
   ]
  },
  {
   "cell_type": "code",
   "execution_count": 6,
   "metadata": {
    "collapsed": false
   },
   "outputs": [
    {
     "data": {
      "text/html": [
       "<div>\n",
       "<table border=\"1\" class=\"dataframe\">\n",
       "  <thead>\n",
       "    <tr style=\"text-align: right;\">\n",
       "      <th></th>\n",
       "      <th>OBJECTID</th>\n",
       "      <th>WOKEY</th>\n",
       "      <th>LOCATION</th>\n",
       "      <th>ADDRDESC</th>\n",
       "      <th>INITDT_dt</th>\n",
       "      <th>FLDSTARTDT_dt</th>\n",
       "      <th>FLDENDDT_dt</th>\n",
       "      <th>DURATION</th>\n",
       "      <th>DURATION_td</th>\n",
       "      <th>latitude</th>\n",
       "      <th>longitude</th>\n",
       "      <th>address</th>\n",
       "      <th>address_detail</th>\n",
       "      <th>neighborhood_cat</th>\n",
       "      <th>Seattle_dist</th>\n",
       "      <th>Space_Needle_dist</th>\n",
       "      <th>Pike_Place_dist</th>\n",
       "      <th>Convention_Center_dist</th>\n",
       "      <th>Woodland_Park_dist</th>\n",
       "      <th>Queene_Anne_dist</th>\n",
       "      <th>INIT_Quarter</th>\n",
       "      <th>days_end_FY</th>\n",
       "    </tr>\n",
       "  </thead>\n",
       "  <tbody>\n",
       "    <tr>\n",
       "      <th>0</th>\n",
       "      <td>1</td>\n",
       "      <td>2456</td>\n",
       "      <td>Holden pl SW bt  SW Kenyon Holden             ...</td>\n",
       "      <td>HOLDEN PL SW BETWEEN SW HOLDEN ST AND SW KENYO...</td>\n",
       "      <td>2010-03-29 07:00:00</td>\n",
       "      <td>2010-04-06 07:00:00</td>\n",
       "      <td>2010-04-06 07:00:00</td>\n",
       "      <td>8 days</td>\n",
       "      <td>8</td>\n",
       "      <td>47.531858</td>\n",
       "      <td>-122.363186</td>\n",
       "      <td>SW Kenyon St, Seattle, WA, USA</td>\n",
       "      <td>2438 SW Kenyon St, Seattle, WA 98106, USA</td>\n",
       "      <td>93</td>\n",
       "      <td>5.338641</td>\n",
       "      <td>6.158729</td>\n",
       "      <td>5.467939</td>\n",
       "      <td>5.688451</td>\n",
       "      <td>9.453253</td>\n",
       "      <td>7.300465</td>\n",
       "      <td>1</td>\n",
       "      <td>3</td>\n",
       "    </tr>\n",
       "    <tr>\n",
       "      <th>1</th>\n",
       "      <td>2</td>\n",
       "      <td>2514</td>\n",
       "      <td>NE Pacific Street, one block west of Montlake ...</td>\n",
       "      <td>MONTLAKE BLVD NE AND NE PACIFIC ST            ...</td>\n",
       "      <td>2010-03-30 07:00:00</td>\n",
       "      <td>2010-04-01 07:00:00</td>\n",
       "      <td>2010-04-01 07:00:00</td>\n",
       "      <td>2 days</td>\n",
       "      <td>2</td>\n",
       "      <td>47.649014</td>\n",
       "      <td>-122.304655</td>\n",
       "      <td>Montlake Blvd NE &amp; NE Pacific St, Seattle, WA ...</td>\n",
       "      <td>3705-3707 Montlake Blvd NE, Seattle, WA 98105,...</td>\n",
       "      <td>42</td>\n",
       "      <td>3.222458</td>\n",
       "      <td>2.867154</td>\n",
       "      <td>3.231487</td>\n",
       "      <td>2.889531</td>\n",
       "      <td>2.654837</td>\n",
       "      <td>2.610214</td>\n",
       "      <td>1</td>\n",
       "      <td>3</td>\n",
       "    </tr>\n",
       "    <tr>\n",
       "      <th>2</th>\n",
       "      <td>3</td>\n",
       "      <td>2649</td>\n",
       "      <td>32nd Ave NE and  NE 135th                     ...</td>\n",
       "      <td>NE 135TH ST BETWEEN 32ND AVE NE AND LAKE CITY ...</td>\n",
       "      <td>2010-03-31 07:00:00</td>\n",
       "      <td>2010-04-01 07:00:00</td>\n",
       "      <td>2010-04-01 07:00:00</td>\n",
       "      <td>1 days</td>\n",
       "      <td>1</td>\n",
       "      <td>47.707446</td>\n",
       "      <td>-122.301566</td>\n",
       "      <td>Lake City Way NE, Seattle, WA, USA</td>\n",
       "      <td>10754-10850 Lake City Way NE, Seattle, WA 9812...</td>\n",
       "      <td>105</td>\n",
       "      <td>7.137526</td>\n",
       "      <td>6.405817</td>\n",
       "      <td>7.012778</td>\n",
       "      <td>6.783446</td>\n",
       "      <td>3.623119</td>\n",
       "      <td>5.502601</td>\n",
       "      <td>1</td>\n",
       "      <td>3</td>\n",
       "    </tr>\n",
       "    <tr>\n",
       "      <th>3</th>\n",
       "      <td>4</td>\n",
       "      <td>1591</td>\n",
       "      <td>Charles st &amp; 6 Ave S pothole next to traffic l...</td>\n",
       "      <td>S CHARLES ST BETWEEN 6TH AVE S AND MAYNARD AVE...</td>\n",
       "      <td>2010-03-15 07:00:00</td>\n",
       "      <td>2010-03-16 07:00:00</td>\n",
       "      <td>2010-03-16 07:00:00</td>\n",
       "      <td>1 days</td>\n",
       "      <td>1</td>\n",
       "      <td>47.597085</td>\n",
       "      <td>-122.325065</td>\n",
       "      <td>Maynard Ave S, Seattle, WA, USA</td>\n",
       "      <td>608 Maynard Ave S, Seattle, WA 98104, USA</td>\n",
       "      <td>61</td>\n",
       "      <td>0.710334</td>\n",
       "      <td>1.974308</td>\n",
       "      <td>1.184267</td>\n",
       "      <td>1.035443</td>\n",
       "      <td>5.113765</td>\n",
       "      <td>3.183602</td>\n",
       "      <td>1</td>\n",
       "      <td>3</td>\n",
       "    </tr>\n",
       "    <tr>\n",
       "      <th>4</th>\n",
       "      <td>5</td>\n",
       "      <td>1680</td>\n",
       "      <td>N 80th St between Corliss Ave N and 2nd Ave NE...</td>\n",
       "      <td>N 80TH ST BETWEEN CORLISS (W LEG) AVE N AND CO...</td>\n",
       "      <td>2010-03-16 07:00:00</td>\n",
       "      <td>2010-03-17 07:00:00</td>\n",
       "      <td>2010-03-17 07:00:00</td>\n",
       "      <td>1 days</td>\n",
       "      <td>1</td>\n",
       "      <td>47.606209</td>\n",
       "      <td>-122.332071</td>\n",
       "      <td>Seattle, WA, USA</td>\n",
       "      <td>909 5th Ave, Seattle, WA 98164, USA</td>\n",
       "      <td>62</td>\n",
       "      <td>0.000000</td>\n",
       "      <td>1.273452</td>\n",
       "      <td>0.531474</td>\n",
       "      <td>0.358295</td>\n",
       "      <td>4.422391</td>\n",
       "      <td>2.473518</td>\n",
       "      <td>1</td>\n",
       "      <td>3</td>\n",
       "    </tr>\n",
       "    <tr>\n",
       "      <th>5</th>\n",
       "      <td>6</td>\n",
       "      <td>5642</td>\n",
       "      <td>52nd St. &amp; 18th Ave. NE                       ...</td>\n",
       "      <td>18TH AVE NE BETWEEN NE 52ND ST AND NE 55TH ST ...</td>\n",
       "      <td>2010-04-19 07:00:00</td>\n",
       "      <td>2010-04-22 07:00:00</td>\n",
       "      <td>2010-04-22 07:00:00</td>\n",
       "      <td>3 days</td>\n",
       "      <td>3</td>\n",
       "      <td>47.668522</td>\n",
       "      <td>-122.295630</td>\n",
       "      <td>NE 55th St, Seattle, WA 98105, USA</td>\n",
       "      <td>2914 NE 55th St, Seattle, WA 98105, USA</td>\n",
       "      <td>36</td>\n",
       "      <td>4.628992</td>\n",
       "      <td>4.156594</td>\n",
       "      <td>4.607589</td>\n",
       "      <td>4.291005</td>\n",
       "      <td>2.707355</td>\n",
       "      <td>3.612252</td>\n",
       "      <td>2</td>\n",
       "      <td>2</td>\n",
       "    </tr>\n",
       "    <tr>\n",
       "      <th>6</th>\n",
       "      <td>7</td>\n",
       "      <td>7585</td>\n",
       "      <td>...</td>\n",
       "      <td>3RD AVE NW BETWEEN NW 125TH ST AND NW 127TH ST...</td>\n",
       "      <td>2010-05-03 07:00:00</td>\n",
       "      <td>2010-05-04 07:00:00</td>\n",
       "      <td>2010-05-04 07:00:00</td>\n",
       "      <td>1 days</td>\n",
       "      <td>1</td>\n",
       "      <td>47.721476</td>\n",
       "      <td>-122.364984</td>\n",
       "      <td>NW 127th St, Seattle, WA 98177, USA</td>\n",
       "      <td>12701 7th Ave NW, Seattle, WA 98177, USA</td>\n",
       "      <td>112</td>\n",
       "      <td>8.110129</td>\n",
       "      <td>7.014027</td>\n",
       "      <td>7.793727</td>\n",
       "      <td>7.762688</td>\n",
       "      <td>3.695250</td>\n",
       "      <td>5.813108</td>\n",
       "      <td>2</td>\n",
       "      <td>1</td>\n",
       "    </tr>\n",
       "    <tr>\n",
       "      <th>9</th>\n",
       "      <td>10</td>\n",
       "      <td>7211</td>\n",
       "      <td>Republican and Minor Ave N                    ...</td>\n",
       "      <td>MINOR AVE N AND REPUBLICAN ST                 ...</td>\n",
       "      <td>2010-04-29 07:00:00</td>\n",
       "      <td>2010-05-03 07:00:00</td>\n",
       "      <td>2010-05-03 07:00:00</td>\n",
       "      <td>4 days</td>\n",
       "      <td>4</td>\n",
       "      <td>47.623131</td>\n",
       "      <td>-122.333003</td>\n",
       "      <td>Republican St &amp; Minor Ave N, Seattle, WA 98109...</td>\n",
       "      <td>500 Minor Ave N, Seattle, WA 98109, USA</td>\n",
       "      <td>49</td>\n",
       "      <td>1.169861</td>\n",
       "      <td>0.781462</td>\n",
       "      <td>1.021139</td>\n",
       "      <td>0.813571</td>\n",
       "      <td>3.281758</td>\n",
       "      <td>1.527051</td>\n",
       "      <td>2</td>\n",
       "      <td>2</td>\n",
       "    </tr>\n",
       "    <tr>\n",
       "      <th>10</th>\n",
       "      <td>11</td>\n",
       "      <td>3168</td>\n",
       "      <td>...</td>\n",
       "      <td>17TH AVE W BETWEEN W DRAVUS ST AND W BERTONA S...</td>\n",
       "      <td>2010-04-02 07:00:00</td>\n",
       "      <td>2010-04-06 07:00:00</td>\n",
       "      <td>2010-04-06 07:00:00</td>\n",
       "      <td>4 days</td>\n",
       "      <td>4</td>\n",
       "      <td>47.650311</td>\n",
       "      <td>-122.388604</td>\n",
       "      <td>W Bertona St, Seattle, WA, USA</td>\n",
       "      <td>2500 W Bertona St, Seattle, WA 98199, USA</td>\n",
       "      <td>50</td>\n",
       "      <td>4.031574</td>\n",
       "      <td>2.758997</td>\n",
       "      <td>3.544222</td>\n",
       "      <td>3.781162</td>\n",
       "      <td>2.061169</td>\n",
       "      <td>1.686262</td>\n",
       "      <td>2</td>\n",
       "      <td>2</td>\n",
       "    </tr>\n",
       "    <tr>\n",
       "      <th>12</th>\n",
       "      <td>13</td>\n",
       "      <td>6967</td>\n",
       "      <td>B/T Pike and Pine B/t 211 and 215             ...</td>\n",
       "      <td>PIKE ST BETWEEN 2ND AVE AND 3RD AVE           ...</td>\n",
       "      <td>2010-04-28 07:00:00</td>\n",
       "      <td>2010-05-03 07:00:00</td>\n",
       "      <td>2010-05-03 07:00:00</td>\n",
       "      <td>5 days</td>\n",
       "      <td>5</td>\n",
       "      <td>47.610741</td>\n",
       "      <td>-122.338703</td>\n",
       "      <td>3rd Ave, Seattle, WA, USA</td>\n",
       "      <td>299 Pine St, Seattle, WA 98101, USA</td>\n",
       "      <td>62</td>\n",
       "      <td>0.440475</td>\n",
       "      <td>0.836150</td>\n",
       "      <td>0.177650</td>\n",
       "      <td>0.331137</td>\n",
       "      <td>4.053555</td>\n",
       "      <td>2.052527</td>\n",
       "      <td>2</td>\n",
       "      <td>2</td>\n",
       "    </tr>\n",
       "  </tbody>\n",
       "</table>\n",
       "</div>"
      ],
      "text/plain": [
       "    OBJECTID  WOKEY                                           LOCATION  \\\n",
       "0          1   2456  Holden pl SW bt  SW Kenyon Holden             ...   \n",
       "1          2   2514  NE Pacific Street, one block west of Montlake ...   \n",
       "2          3   2649  32nd Ave NE and  NE 135th                     ...   \n",
       "3          4   1591  Charles st & 6 Ave S pothole next to traffic l...   \n",
       "4          5   1680  N 80th St between Corliss Ave N and 2nd Ave NE...   \n",
       "5          6   5642  52nd St. & 18th Ave. NE                       ...   \n",
       "6          7   7585                                                ...   \n",
       "9         10   7211  Republican and Minor Ave N                    ...   \n",
       "10        11   3168                                                ...   \n",
       "12        13   6967  B/T Pike and Pine B/t 211 and 215             ...   \n",
       "\n",
       "                                             ADDRDESC           INITDT_dt  \\\n",
       "0   HOLDEN PL SW BETWEEN SW HOLDEN ST AND SW KENYO... 2010-03-29 07:00:00   \n",
       "1   MONTLAKE BLVD NE AND NE PACIFIC ST            ... 2010-03-30 07:00:00   \n",
       "2   NE 135TH ST BETWEEN 32ND AVE NE AND LAKE CITY ... 2010-03-31 07:00:00   \n",
       "3   S CHARLES ST BETWEEN 6TH AVE S AND MAYNARD AVE... 2010-03-15 07:00:00   \n",
       "4   N 80TH ST BETWEEN CORLISS (W LEG) AVE N AND CO... 2010-03-16 07:00:00   \n",
       "5   18TH AVE NE BETWEEN NE 52ND ST AND NE 55TH ST ... 2010-04-19 07:00:00   \n",
       "6   3RD AVE NW BETWEEN NW 125TH ST AND NW 127TH ST... 2010-05-03 07:00:00   \n",
       "9   MINOR AVE N AND REPUBLICAN ST                 ... 2010-04-29 07:00:00   \n",
       "10  17TH AVE W BETWEEN W DRAVUS ST AND W BERTONA S... 2010-04-02 07:00:00   \n",
       "12  PIKE ST BETWEEN 2ND AVE AND 3RD AVE           ... 2010-04-28 07:00:00   \n",
       "\n",
       "         FLDSTARTDT_dt         FLDENDDT_dt  DURATION  DURATION_td   latitude  \\\n",
       "0  2010-04-06 07:00:00 2010-04-06 07:00:00    8 days            8  47.531858   \n",
       "1  2010-04-01 07:00:00 2010-04-01 07:00:00    2 days            2  47.649014   \n",
       "2  2010-04-01 07:00:00 2010-04-01 07:00:00    1 days            1  47.707446   \n",
       "3  2010-03-16 07:00:00 2010-03-16 07:00:00    1 days            1  47.597085   \n",
       "4  2010-03-17 07:00:00 2010-03-17 07:00:00    1 days            1  47.606209   \n",
       "5  2010-04-22 07:00:00 2010-04-22 07:00:00    3 days            3  47.668522   \n",
       "6  2010-05-04 07:00:00 2010-05-04 07:00:00    1 days            1  47.721476   \n",
       "9  2010-05-03 07:00:00 2010-05-03 07:00:00    4 days            4  47.623131   \n",
       "10 2010-04-06 07:00:00 2010-04-06 07:00:00    4 days            4  47.650311   \n",
       "12 2010-05-03 07:00:00 2010-05-03 07:00:00    5 days            5  47.610741   \n",
       "\n",
       "     longitude                                            address  \\\n",
       "0  -122.363186                     SW Kenyon St, Seattle, WA, USA   \n",
       "1  -122.304655  Montlake Blvd NE & NE Pacific St, Seattle, WA ...   \n",
       "2  -122.301566                 Lake City Way NE, Seattle, WA, USA   \n",
       "3  -122.325065                    Maynard Ave S, Seattle, WA, USA   \n",
       "4  -122.332071                                   Seattle, WA, USA   \n",
       "5  -122.295630                 NE 55th St, Seattle, WA 98105, USA   \n",
       "6  -122.364984                NW 127th St, Seattle, WA 98177, USA   \n",
       "9  -122.333003  Republican St & Minor Ave N, Seattle, WA 98109...   \n",
       "10 -122.388604                     W Bertona St, Seattle, WA, USA   \n",
       "12 -122.338703                          3rd Ave, Seattle, WA, USA   \n",
       "\n",
       "                                       address_detail  neighborhood_cat  \\\n",
       "0           2438 SW Kenyon St, Seattle, WA 98106, USA                93   \n",
       "1   3705-3707 Montlake Blvd NE, Seattle, WA 98105,...                42   \n",
       "2   10754-10850 Lake City Way NE, Seattle, WA 9812...               105   \n",
       "3           608 Maynard Ave S, Seattle, WA 98104, USA                61   \n",
       "4                 909 5th Ave, Seattle, WA 98164, USA                62   \n",
       "5             2914 NE 55th St, Seattle, WA 98105, USA                36   \n",
       "6            12701 7th Ave NW, Seattle, WA 98177, USA               112   \n",
       "9             500 Minor Ave N, Seattle, WA 98109, USA                49   \n",
       "10          2500 W Bertona St, Seattle, WA 98199, USA                50   \n",
       "12                299 Pine St, Seattle, WA 98101, USA                62   \n",
       "\n",
       "    Seattle_dist  Space_Needle_dist  Pike_Place_dist  Convention_Center_dist  \\\n",
       "0       5.338641           6.158729         5.467939                5.688451   \n",
       "1       3.222458           2.867154         3.231487                2.889531   \n",
       "2       7.137526           6.405817         7.012778                6.783446   \n",
       "3       0.710334           1.974308         1.184267                1.035443   \n",
       "4       0.000000           1.273452         0.531474                0.358295   \n",
       "5       4.628992           4.156594         4.607589                4.291005   \n",
       "6       8.110129           7.014027         7.793727                7.762688   \n",
       "9       1.169861           0.781462         1.021139                0.813571   \n",
       "10      4.031574           2.758997         3.544222                3.781162   \n",
       "12      0.440475           0.836150         0.177650                0.331137   \n",
       "\n",
       "    Woodland_Park_dist  Queene_Anne_dist  INIT_Quarter  days_end_FY  \n",
       "0             9.453253          7.300465             1            3  \n",
       "1             2.654837          2.610214             1            3  \n",
       "2             3.623119          5.502601             1            3  \n",
       "3             5.113765          3.183602             1            3  \n",
       "4             4.422391          2.473518             1            3  \n",
       "5             2.707355          3.612252             2            2  \n",
       "6             3.695250          5.813108             2            1  \n",
       "9             3.281758          1.527051             2            2  \n",
       "10            2.061169          1.686262             2            2  \n",
       "12            4.053555          2.052527             2            2  "
      ]
     },
     "execution_count": 6,
     "metadata": {},
     "output_type": "execute_result"
    }
   ],
   "source": [
    "df.head(10)"
   ]
  },
  {
   "cell_type": "code",
   "execution_count": null,
   "metadata": {
    "collapsed": true
   },
   "outputs": [],
   "source": [
    "df[df.]"
   ]
  },
  {
   "cell_type": "code",
   "execution_count": 7,
   "metadata": {
    "collapsed": true
   },
   "outputs": [],
   "source": [
    "shapefilename = 'data/tl_2013_53_bg'\n",
    "shp = fiona.open(shapefilename+'.shp')\n",
    "coords = shp.bounds\n",
    "shp.close()"
   ]
  },
  {
   "cell_type": "code",
   "execution_count": 8,
   "metadata": {
    "collapsed": true
   },
   "outputs": [],
   "source": [
    "w, h = coords[2] - coords[0], coords[3] - coords[1]\n",
    "extra = 0.01"
   ]
  },
  {
   "cell_type": "code",
   "execution_count": 9,
   "metadata": {
    "collapsed": true
   },
   "outputs": [],
   "source": [
    "m = Basemap(\n",
    "    projection='tmerc', ellps='GRS80',\n",
    "    lon_0=np.mean([coords[0], coords[2]]),\n",
    "    lat_0=np.mean([coords[1], coords[3]]),\n",
    "    llcrnrlon=coords[0] - extra * w,\n",
    "    llcrnrlat=coords[1] - (extra * h), \n",
    "    urcrnrlon=coords[2] + extra * w,\n",
    "    urcrnrlat=coords[3] + (extra * h),\n",
    "    resolution='i',  suppress_ticks=True)\n",
    "\n",
    "_out = m.readshapefile(shapefilename, name='seattle', drawbounds=False, color='none', zorder=2)"
   ]
  },
  {
   "cell_type": "code",
   "execution_count": 17,
   "metadata": {
    "collapsed": false
   },
   "outputs": [],
   "source": [
    "# set up a map dataframe\n",
    "df_map = pd.DataFrame({\n",
    "    'poly': [Polygon(hood_points) for hood_points in m.seattle],\n",
    "    'name': [hood['GEOID'] for hood in m.seattle_info],\n",
    "    'NAMELSAD': [hood['NAMELSAD'] for hood in m.seattle_info]\n",
    "})"
   ]
  },
  {
   "cell_type": "code",
   "execution_count": 39,
   "metadata": {
    "collapsed": false
   },
   "outputs": [
    {
     "data": {
      "text/plain": [
       "4967"
      ]
     },
     "execution_count": 39,
     "metadata": {},
     "output_type": "execute_result"
    }
   ],
   "source": [
    "len(m.seattle)"
   ]
  },
  {
   "cell_type": "code",
   "execution_count": 40,
   "metadata": {
    "collapsed": false
   },
   "outputs": [
    {
     "data": {
      "text/plain": [
       "4967"
      ]
     },
     "execution_count": 40,
     "metadata": {},
     "output_type": "execute_result"
    }
   ],
   "source": [
    "len(m.seattle_info)"
   ]
  },
  {
   "cell_type": "code",
   "execution_count": 18,
   "metadata": {
    "collapsed": false
   },
   "outputs": [
    {
     "data": {
      "text/plain": [
       "[(76372.1837724394, 296831.3160397418),\n",
       " (76414.9330148676, 296941.55881898897),\n",
       " (76437.82173002214, 296940.5970466098),\n",
       " (76459.99622778769, 296924.4075484186),\n",
       " (76469.50428969011, 296906.18873605307),\n",
       " (76468.93908165072, 296832.4849092442),\n",
       " (76484.99118619881, 296791.0488173624),\n",
       " (76537.96758157274, 296717.6577132871),\n",
       " (76575.63593977079, 296644.9099681652),\n",
       " (76566.34692615445, 296604.53832020087),\n",
       " (76560.40145943672, 296604.7879766279),\n",
       " (76543.52652917488, 296605.3852358076),\n",
       " (76506.18142248754, 296627.3345127087),\n",
       " (76475.77654463646, 296692.2044216575),\n",
       " (76460.93342195178, 296700.4011872138),\n",
       " (76422.56540890591, 296694.4399399185),\n",
       " (76404.01028229424, 296679.8504000776),\n",
       " (76378.84981576915, 296683.46923131176),\n",
       " (76371.54597815886, 296693.91094144015),\n",
       " (76366.31582283965, 296750.1503938583),\n",
       " (76372.1837724394, 296831.3160397418)]"
      ]
     },
     "execution_count": 18,
     "metadata": {},
     "output_type": "execute_result"
    }
   ],
   "source": [
    "m.seattle[0]"
   ]
  },
  {
   "cell_type": "code",
   "execution_count": 19,
   "metadata": {
    "collapsed": false
   },
   "outputs": [
    {
     "data": {
      "text/plain": [
       "{'ALAND': 918496330,\n",
       " 'AWATER': 32608372,\n",
       " 'BLKGRPCE': '1',\n",
       " 'COUNTYFP': '009',\n",
       " 'FUNCSTAT': 'S',\n",
       " 'GEOID': '530090002001',\n",
       " 'INTPTLAT': '+48.1797346',\n",
       " 'INTPTLON': '-124.4116596',\n",
       " 'MTFCC': 'G5030',\n",
       " 'NAMELSAD': 'Block Group 1',\n",
       " 'RINGNUM': 1,\n",
       " 'SHAPENUM': 1,\n",
       " 'STATEFP': '53',\n",
       " 'TRACTCE': '000200'}"
      ]
     },
     "execution_count": 19,
     "metadata": {},
     "output_type": "execute_result"
    }
   ],
   "source": [
    "m.seattle_info[0]"
   ]
  },
  {
   "cell_type": "code",
   "execution_count": 20,
   "metadata": {
    "collapsed": false
   },
   "outputs": [
    {
     "data": {
      "text/plain": [
       "(4967, 3)"
      ]
     },
     "execution_count": 20,
     "metadata": {},
     "output_type": "execute_result"
    }
   ],
   "source": [
    "df_map.shape"
   ]
  },
  {
   "cell_type": "markdown",
   "metadata": {},
   "source": [
    "I think that 'GEOID' gives a unique reference to the block group "
   ]
  },
  {
   "cell_type": "code",
   "execution_count": 21,
   "metadata": {
    "collapsed": false
   },
   "outputs": [
    {
     "data": {
      "text/plain": [
       "Block Group 1    1492\n",
       "Block Group 2    1441\n",
       "Block Group 3    1070\n",
       "Block Group 4     557\n",
       "Block Group 5     224\n",
       "Block Group 0     101\n",
       "Block Group 6      67\n",
       "Block Group 7      14\n",
       "Block Group 8       1\n",
       "dtype: int64"
      ]
     },
     "execution_count": 21,
     "metadata": {},
     "output_type": "execute_result"
    }
   ],
   "source": [
    "df_map.NAMELSAD.value_counts()"
   ]
  },
  {
   "cell_type": "code",
   "execution_count": 51,
   "metadata": {
    "collapsed": false
   },
   "outputs": [],
   "source": [
    "df_map_sub = df_map.loc[df_map.name == '530090002001']"
   ]
  },
  {
   "cell_type": "code",
   "execution_count": 22,
   "metadata": {
    "collapsed": false
   },
   "outputs": [
    {
     "data": {
      "text/plain": [
       "530099901000    39\n",
       "530579901000    28\n",
       "530090004002    19\n",
       "530559901000    19\n",
       "530579501001    14\n",
       "530090002001    12\n",
       "530559601003    10\n",
       "530099400002     9\n",
       "530579403001     6\n",
       "530559601001     6\n",
       "530579501002     3\n",
       "530559605002     3\n",
       "530579408001     3\n",
       "530299702001     3\n",
       "530299922010     3\n",
       "530579408002     3\n",
       "530579403002     3\n",
       "530250114022     2\n",
       "530439604001     2\n",
       "530619900020     2\n",
       "530099400001     2\n",
       "530319900000     2\n",
       "530250101001     2\n",
       "530210208003     2\n",
       "530019501001     2\n",
       "530330319041     2\n",
       "530319507021     2\n",
       "530359901000     2\n",
       "530339901000     2\n",
       "530330327022     2\n",
       "                ..\n",
       "530630104012     1\n",
       "530630104011     1\n",
       "530110407103     1\n",
       "530330302021     1\n",
       "530659501002     1\n",
       "530659501003     1\n",
       "530659501004     1\n",
       "530659501005     1\n",
       "530659501006     1\n",
       "530330203003     1\n",
       "530350929012     1\n",
       "530670122124     1\n",
       "530630112024     1\n",
       "530630112022     1\n",
       "530530724063     1\n",
       "530610413041     1\n",
       "530039603003     1\n",
       "530039603002     1\n",
       "530039603001     1\n",
       "530050103001     1\n",
       "530530724061     1\n",
       "530530724062     1\n",
       "530670122121     1\n",
       "530250101002     1\n",
       "530330320071     1\n",
       "530330320072     1\n",
       "530350929011     1\n",
       "530630112021     1\n",
       "530670122122     1\n",
       "530299721001     1\n",
       "dtype: int64"
      ]
     },
     "execution_count": 22,
     "metadata": {},
     "output_type": "execute_result"
    }
   ],
   "source": [
    "df_map.name.value_counts()"
   ]
  },
  {
   "cell_type": "code",
   "execution_count": 50,
   "metadata": {
    "collapsed": false
   },
   "outputs": [
    {
     "data": {
      "text/html": [
       "<div>\n",
       "<table border=\"1\" class=\"dataframe\">\n",
       "  <thead>\n",
       "    <tr style=\"text-align: right;\">\n",
       "      <th></th>\n",
       "      <th>NAMELSAD</th>\n",
       "      <th>name</th>\n",
       "      <th>poly</th>\n",
       "    </tr>\n",
       "  </thead>\n",
       "  <tbody>\n",
       "    <tr>\n",
       "      <th>0</th>\n",
       "      <td>Block Group 1</td>\n",
       "      <td>530090002001</td>\n",
       "      <td>POLYGON ((76372.1837724394 296831.3160397418, ...</td>\n",
       "    </tr>\n",
       "    <tr>\n",
       "      <th>1</th>\n",
       "      <td>Block Group 1</td>\n",
       "      <td>530090002001</td>\n",
       "      <td>POLYGON ((76083.27539311806 297518.1545957717,...</td>\n",
       "    </tr>\n",
       "    <tr>\n",
       "      <th>2</th>\n",
       "      <td>Block Group 1</td>\n",
       "      <td>530090002001</td>\n",
       "      <td>POLYGON ((32509.63250306045 301181.2920169401,...</td>\n",
       "    </tr>\n",
       "    <tr>\n",
       "      <th>3</th>\n",
       "      <td>Block Group 1</td>\n",
       "      <td>530090002001</td>\n",
       "      <td>POLYGON ((32258.78003364161 303634.5005146299,...</td>\n",
       "    </tr>\n",
       "    <tr>\n",
       "      <th>4</th>\n",
       "      <td>Block Group 1</td>\n",
       "      <td>530090002001</td>\n",
       "      <td>POLYGON ((32075.85014757153 301988.6861632536,...</td>\n",
       "    </tr>\n",
       "    <tr>\n",
       "      <th>5</th>\n",
       "      <td>Block Group 1</td>\n",
       "      <td>530090002001</td>\n",
       "      <td>POLYGON ((32157.64576375252 303870.6778457869,...</td>\n",
       "    </tr>\n",
       "    <tr>\n",
       "      <th>6</th>\n",
       "      <td>Block Group 1</td>\n",
       "      <td>530090002001</td>\n",
       "      <td>POLYGON ((31993.00067418558 302718.8730796358,...</td>\n",
       "    </tr>\n",
       "    <tr>\n",
       "      <th>7</th>\n",
       "      <td>Block Group 1</td>\n",
       "      <td>530090002001</td>\n",
       "      <td>POLYGON ((31882.36370828812 304145.6403083883,...</td>\n",
       "    </tr>\n",
       "    <tr>\n",
       "      <th>8</th>\n",
       "      <td>Block Group 1</td>\n",
       "      <td>530090002001</td>\n",
       "      <td>POLYGON ((29530.27996902668 295181.3982292833,...</td>\n",
       "    </tr>\n",
       "    <tr>\n",
       "      <th>9</th>\n",
       "      <td>Block Group 1</td>\n",
       "      <td>530090002001</td>\n",
       "      <td>POLYGON ((28159.23361576861 294014.3177715783,...</td>\n",
       "    </tr>\n",
       "    <tr>\n",
       "      <th>10</th>\n",
       "      <td>Block Group 1</td>\n",
       "      <td>530090002001</td>\n",
       "      <td>POLYGON ((27944.58254760178 295688.2945576758,...</td>\n",
       "    </tr>\n",
       "    <tr>\n",
       "      <th>11</th>\n",
       "      <td>Block Group 1</td>\n",
       "      <td>530090002001</td>\n",
       "      <td>POLYGON ((27626.69387607114 295898.4975407663,...</td>\n",
       "    </tr>\n",
       "    <tr>\n",
       "      <th>12</th>\n",
       "      <td>Block Group 2</td>\n",
       "      <td>530090014002</td>\n",
       "      <td>POLYGON ((131498.0786865129 281363.1123109144,...</td>\n",
       "    </tr>\n",
       "  </tbody>\n",
       "</table>\n",
       "</div>"
      ],
      "text/plain": [
       "         NAMELSAD          name  \\\n",
       "0   Block Group 1  530090002001   \n",
       "1   Block Group 1  530090002001   \n",
       "2   Block Group 1  530090002001   \n",
       "3   Block Group 1  530090002001   \n",
       "4   Block Group 1  530090002001   \n",
       "5   Block Group 1  530090002001   \n",
       "6   Block Group 1  530090002001   \n",
       "7   Block Group 1  530090002001   \n",
       "8   Block Group 1  530090002001   \n",
       "9   Block Group 1  530090002001   \n",
       "10  Block Group 1  530090002001   \n",
       "11  Block Group 1  530090002001   \n",
       "12  Block Group 2  530090014002   \n",
       "\n",
       "                                                 poly  \n",
       "0   POLYGON ((76372.1837724394 296831.3160397418, ...  \n",
       "1   POLYGON ((76083.27539311806 297518.1545957717,...  \n",
       "2   POLYGON ((32509.63250306045 301181.2920169401,...  \n",
       "3   POLYGON ((32258.78003364161 303634.5005146299,...  \n",
       "4   POLYGON ((32075.85014757153 301988.6861632536,...  \n",
       "5   POLYGON ((32157.64576375252 303870.6778457869,...  \n",
       "6   POLYGON ((31993.00067418558 302718.8730796358,...  \n",
       "7   POLYGON ((31882.36370828812 304145.6403083883,...  \n",
       "8   POLYGON ((29530.27996902668 295181.3982292833,...  \n",
       "9   POLYGON ((28159.23361576861 294014.3177715783,...  \n",
       "10  POLYGON ((27944.58254760178 295688.2945576758,...  \n",
       "11  POLYGON ((27626.69387607114 295898.4975407663,...  \n",
       "12  POLYGON ((131498.0786865129 281363.1123109144,...  "
      ]
     },
     "execution_count": 50,
     "metadata": {},
     "output_type": "execute_result"
    }
   ],
   "source": [
    "df_map.head(13)"
   ]
  },
  {
   "cell_type": "code",
   "execution_count": 26,
   "metadata": {
    "collapsed": true
   },
   "outputs": [],
   "source": [
    "# Convert our latitude and longitude into Basemap cartesian map coordinates\n",
    "mapped_points = [Point(m(mapped_x, mapped_y)) for mapped_x, mapped_y in zip(df['longitude'], \n",
    "            df['latitude'])]\n",
    "all_points = MultiPoint(mapped_points)"
   ]
  },
  {
   "cell_type": "code",
   "execution_count": 46,
   "metadata": {
    "collapsed": false
   },
   "outputs": [
    {
     "data": {
      "text/plain": [
       "732"
      ]
     },
     "execution_count": 46,
     "metadata": {},
     "output_type": "execute_result"
    }
   ],
   "source": [
    "len(mapped_points)"
   ]
  },
  {
   "cell_type": "code",
   "execution_count": 47,
   "metadata": {
    "collapsed": false
   },
   "outputs": [
    {
     "data": {
      "text/plain": [
       "732"
      ]
     },
     "execution_count": 47,
     "metadata": {},
     "output_type": "execute_result"
    }
   ],
   "source": [
    "len(all_points)"
   ]
  },
  {
   "cell_type": "code",
   "execution_count": 49,
   "metadata": {
    "collapsed": false
   },
   "outputs": [
    {
     "ename": "RuntimeError",
     "evalue": "",
     "output_type": "error",
     "traceback": [
      "\u001b[1;31m---------------------------------------------------------------------------\u001b[0m",
      "\u001b[1;31mRuntimeError\u001b[0m                              Traceback (most recent call last)",
      "\u001b[1;32m<ipython-input-49-7e1ed711fe67>\u001b[0m in \u001b[0;36m<module>\u001b[1;34m()\u001b[0m\n\u001b[1;32m----> 1\u001b[1;33m \u001b[0mMultiPoint\u001b[0m\u001b[1;33m(\u001b[0m\u001b[0mlist\u001b[0m\u001b[1;33m(\u001b[0m\u001b[0mPoint\u001b[0m\u001b[1;33m(\u001b[0m\u001b[0mm\u001b[0m\u001b[1;33m(\u001b[0m\u001b[0mdf\u001b[0m\u001b[1;33m[\u001b[0m\u001b[1;34m'longitude'\u001b[0m\u001b[1;33m]\u001b[0m\u001b[1;33m[\u001b[0m\u001b[1;36m0\u001b[0m\u001b[1;33m:\u001b[0m\u001b[1;36m1\u001b[0m\u001b[1;33m]\u001b[0m\u001b[1;33m,\u001b[0m \u001b[0mdf\u001b[0m\u001b[1;33m[\u001b[0m\u001b[1;34m'latitude'\u001b[0m\u001b[1;33m]\u001b[0m\u001b[1;33m[\u001b[0m\u001b[1;36m0\u001b[0m\u001b[1;33m:\u001b[0m\u001b[1;36m1\u001b[0m\u001b[1;33m]\u001b[0m\u001b[1;33m)\u001b[0m\u001b[1;33m)\u001b[0m\u001b[1;33m)\u001b[0m\u001b[1;33m)\u001b[0m\u001b[1;33m\u001b[0m\u001b[0m\n\u001b[0m",
      "\u001b[1;32mC:\\Users\\andersrmr\\Anaconda\\lib\\site-packages\\mpl_toolkits\\basemap\\__init__.pyc\u001b[0m in \u001b[0;36m__call__\u001b[1;34m(self, x, y, inverse)\u001b[0m\n\u001b[0;32m   1146\u001b[0m             \u001b[1;32mexcept\u001b[0m \u001b[0mTypeError\u001b[0m\u001b[1;33m:\u001b[0m\u001b[1;33m\u001b[0m\u001b[0m\n\u001b[0;32m   1147\u001b[0m                 \u001b[0my\u001b[0m \u001b[1;33m=\u001b[0m \u001b[1;33m[\u001b[0m\u001b[0m_dg2rad\u001b[0m\u001b[1;33m*\u001b[0m\u001b[0myy\u001b[0m \u001b[1;32mfor\u001b[0m \u001b[0myy\u001b[0m \u001b[1;32min\u001b[0m \u001b[0my\u001b[0m\u001b[1;33m]\u001b[0m\u001b[1;33m\u001b[0m\u001b[0m\n\u001b[1;32m-> 1148\u001b[1;33m         \u001b[0mxout\u001b[0m\u001b[1;33m,\u001b[0m\u001b[0myout\u001b[0m \u001b[1;33m=\u001b[0m \u001b[0mself\u001b[0m\u001b[1;33m.\u001b[0m\u001b[0mprojtran\u001b[0m\u001b[1;33m(\u001b[0m\u001b[0mx\u001b[0m\u001b[1;33m,\u001b[0m\u001b[0my\u001b[0m\u001b[1;33m,\u001b[0m\u001b[0minverse\u001b[0m\u001b[1;33m=\u001b[0m\u001b[0minverse\u001b[0m\u001b[1;33m)\u001b[0m\u001b[1;33m\u001b[0m\u001b[0m\n\u001b[0m\u001b[0;32m   1149\u001b[0m         \u001b[1;32mif\u001b[0m \u001b[0mself\u001b[0m\u001b[1;33m.\u001b[0m\u001b[0mcelestial\u001b[0m \u001b[1;32mand\u001b[0m \u001b[0minverse\u001b[0m\u001b[1;33m:\u001b[0m\u001b[1;33m\u001b[0m\u001b[0m\n\u001b[0;32m   1150\u001b[0m             \u001b[1;32mtry\u001b[0m\u001b[1;33m:\u001b[0m\u001b[1;33m\u001b[0m\u001b[0m\n",
      "\u001b[1;32mC:\\Users\\andersrmr\\Anaconda\\lib\\site-packages\\mpl_toolkits\\basemap\\proj.pyc\u001b[0m in \u001b[0;36m__call__\u001b[1;34m(self, *args, **kw)\u001b[0m\n\u001b[0;32m    284\u001b[0m             \u001b[0moutxy\u001b[0m \u001b[1;33m=\u001b[0m \u001b[0mself\u001b[0m\u001b[1;33m.\u001b[0m\u001b[0m_proj4\u001b[0m\u001b[1;33m(\u001b[0m\u001b[0mxy\u001b[0m\u001b[1;33m,\u001b[0m \u001b[0minverse\u001b[0m\u001b[1;33m=\u001b[0m\u001b[0minverse\u001b[0m\u001b[1;33m)\u001b[0m\u001b[1;33m\u001b[0m\u001b[0m\n\u001b[0;32m    285\u001b[0m         \u001b[1;32melse\u001b[0m\u001b[1;33m:\u001b[0m\u001b[1;33m\u001b[0m\u001b[0m\n\u001b[1;32m--> 286\u001b[1;33m             \u001b[0moutx\u001b[0m\u001b[1;33m,\u001b[0m\u001b[0mouty\u001b[0m \u001b[1;33m=\u001b[0m \u001b[0mself\u001b[0m\u001b[1;33m.\u001b[0m\u001b[0m_proj4\u001b[0m\u001b[1;33m(\u001b[0m\u001b[0mx\u001b[0m\u001b[1;33m,\u001b[0m \u001b[0my\u001b[0m\u001b[1;33m,\u001b[0m \u001b[0minverse\u001b[0m\u001b[1;33m=\u001b[0m\u001b[0minverse\u001b[0m\u001b[1;33m)\u001b[0m\u001b[1;33m\u001b[0m\u001b[0m\n\u001b[0m\u001b[0;32m    287\u001b[0m         \u001b[1;32mif\u001b[0m \u001b[0minverse\u001b[0m\u001b[1;33m:\u001b[0m\u001b[1;33m\u001b[0m\u001b[0m\n\u001b[0;32m    288\u001b[0m             \u001b[1;32mif\u001b[0m \u001b[0mself\u001b[0m\u001b[1;33m.\u001b[0m\u001b[0mprojection\u001b[0m \u001b[1;32min\u001b[0m \u001b[1;33m[\u001b[0m\u001b[1;34m'merc'\u001b[0m\u001b[1;33m,\u001b[0m\u001b[1;34m'mill'\u001b[0m\u001b[1;33m,\u001b[0m\u001b[1;34m'gall'\u001b[0m\u001b[1;33m]\u001b[0m\u001b[1;33m:\u001b[0m\u001b[1;33m\u001b[0m\u001b[0m\n",
      "\u001b[1;32mC:\\Users\\andersrmr\\Anaconda\\lib\\site-packages\\mpl_toolkits\\basemap\\pyproj.pyc\u001b[0m in \u001b[0;36m__call__\u001b[1;34m(self, *args, **kw)\u001b[0m\n\u001b[0;32m    386\u001b[0m             \u001b[0m_proj\u001b[0m\u001b[1;33m.\u001b[0m\u001b[0mProj\u001b[0m\u001b[1;33m.\u001b[0m\u001b[0m_inv\u001b[0m\u001b[1;33m(\u001b[0m\u001b[0mself\u001b[0m\u001b[1;33m,\u001b[0m \u001b[0minx\u001b[0m\u001b[1;33m,\u001b[0m \u001b[0miny\u001b[0m\u001b[1;33m,\u001b[0m \u001b[0mradians\u001b[0m\u001b[1;33m=\u001b[0m\u001b[0mradians\u001b[0m\u001b[1;33m,\u001b[0m \u001b[0merrcheck\u001b[0m\u001b[1;33m=\u001b[0m\u001b[0merrcheck\u001b[0m\u001b[1;33m)\u001b[0m\u001b[1;33m\u001b[0m\u001b[0m\n\u001b[0;32m    387\u001b[0m         \u001b[1;32melse\u001b[0m\u001b[1;33m:\u001b[0m\u001b[1;33m\u001b[0m\u001b[0m\n\u001b[1;32m--> 388\u001b[1;33m             \u001b[0m_proj\u001b[0m\u001b[1;33m.\u001b[0m\u001b[0mProj\u001b[0m\u001b[1;33m.\u001b[0m\u001b[0m_fwd\u001b[0m\u001b[1;33m(\u001b[0m\u001b[0mself\u001b[0m\u001b[1;33m,\u001b[0m \u001b[0minx\u001b[0m\u001b[1;33m,\u001b[0m \u001b[0miny\u001b[0m\u001b[1;33m,\u001b[0m \u001b[0mradians\u001b[0m\u001b[1;33m=\u001b[0m\u001b[0mradians\u001b[0m\u001b[1;33m,\u001b[0m \u001b[0merrcheck\u001b[0m\u001b[1;33m=\u001b[0m\u001b[0merrcheck\u001b[0m\u001b[1;33m)\u001b[0m\u001b[1;33m\u001b[0m\u001b[0m\n\u001b[0m\u001b[0;32m    389\u001b[0m         \u001b[1;31m# if inputs were lists, tuples or floats, convert back.\u001b[0m\u001b[1;33m\u001b[0m\u001b[1;33m\u001b[0m\u001b[0m\n\u001b[0;32m    390\u001b[0m         \u001b[0moutx\u001b[0m \u001b[1;33m=\u001b[0m \u001b[0m_convertback\u001b[0m\u001b[1;33m(\u001b[0m\u001b[0mxisfloat\u001b[0m\u001b[1;33m,\u001b[0m\u001b[0mxislist\u001b[0m\u001b[1;33m,\u001b[0m\u001b[0mxistuple\u001b[0m\u001b[1;33m,\u001b[0m\u001b[0minx\u001b[0m\u001b[1;33m)\u001b[0m\u001b[1;33m\u001b[0m\u001b[0m\n",
      "\u001b[1;32m_proj.pyx\u001b[0m in \u001b[0;36m_proj.Proj._fwd (src/_proj.c:1571)\u001b[1;34m()\u001b[0m\n",
      "\u001b[1;31mRuntimeError\u001b[0m: "
     ]
    }
   ],
   "source": [
    "MultiPoint(list(Point(m(df['longitude'][0:1], df['latitude'][0:1]))))"
   ]
  },
  {
   "cell_type": "code",
   "execution_count": 27,
   "metadata": {
    "collapsed": false
   },
   "outputs": [
    {
     "data": {
      "image/svg+xml": [
       "<svg xmlns=\"http://www.w3.org/2000/svg\" xmlns:xlink=\"http://www.w3.org/1999/xlink\" width=\"100.0\" height=\"100.0\" viewBox=\"204666.037456 217961.09867 2.0 2.0\" preserveAspectRatio=\"xMinYMin meet\"><g transform=\"matrix(1,0,0,-1,0,435924.197341)\"><circle cx=\"204667.037456\" cy=\"217962.09867\" r=\"0.06\" stroke=\"#555555\" stroke-width=\"0.02\" fill=\"#66cc99\" opacity=\"0.6\" /></g></svg>"
      ],
      "text/plain": [
       "<shapely.geometry.point.Point at 0x21c61f60>"
      ]
     },
     "execution_count": 27,
     "metadata": {},
     "output_type": "execute_result"
    }
   ],
   "source": [
    "all_points[0]"
   ]
  },
  {
   "cell_type": "code",
   "execution_count": 28,
   "metadata": {
    "collapsed": true
   },
   "outputs": [],
   "source": [
    "#Associate each mapped pothole with its df index\n",
    "potholes_tup = []\n",
    "for hole in xrange(df.shape[0]):\n",
    "    potholes_tup.append((all_points[hole], df.index.tolist()[hole]))\n",
    "        "
   ]
  },
  {
   "cell_type": "code",
   "execution_count": 29,
   "metadata": {
    "collapsed": false
   },
   "outputs": [],
   "source": [
    "# Use prep to optimize polygons for faster computation\n",
    "\n",
    "hood_polygons = prep(MultiPolygon(list(df_map['poly'].values))) #I could put tuples in this list, \n",
    "                                                                #where the 2nd elem is the neighborhood index.\n",
    "                                                                #then they're associated with the hood_polygons"
   ]
  },
  {
   "cell_type": "code",
   "execution_count": 52,
   "metadata": {
    "collapsed": false
   },
   "outputs": [],
   "source": [
    "hood_polygons = MultiPolygon(list(df_map_sub['poly'].values))"
   ]
  },
  {
   "cell_type": "code",
   "execution_count": 53,
   "metadata": {
    "collapsed": false
   },
   "outputs": [
    {
     "data": {
      "image/svg+xml": [
       "<svg xmlns=\"http://www.w3.org/2000/svg\" xmlns:xlink=\"http://www.w3.org/1999/xlink\" width=\"300\" height=\"300\" viewBox=\"25165.6241382 275505.229325 66314.7862269 41809.2555632\" preserveAspectRatio=\"xMinYMin meet\"><g transform=\"matrix(1,0,0,-1,0,592819.714212)\"><g><path fill-rule=\"evenodd\" fill=\"#66cc99\" stroke=\"#555555\" stroke-width=\"442.098574846\" opacity=\"0.6\" d=\"M 76372.1837724,296831.31604 L 76414.9330149,296941.558819 L 76437.82173,296940.597047 L 76459.9962278,296924.407548 L 76469.5042897,296906.188736 L 76468.9390817,296832.484909 L 76484.9911862,296791.048817 L 76537.9675816,296717.657713 L 76575.6359398,296644.909968 L 76566.3469262,296604.53832 L 76560.4014594,296604.787977 L 76543.5265292,296605.385236 L 76506.1814225,296627.334513 L 76475.7765446,296692.204422 L 76460.933422,296700.401187 L 76422.5654089,296694.43994 L 76404.0102823,296679.8504 L 76378.8498158,296683.469231 L 76371.5459782,296693.910941 L 76366.3158228,296750.150394 L 76372.1837724,296831.31604 z\" /><path fill-rule=\"evenodd\" fill=\"#66cc99\" stroke=\"#555555\" stroke-width=\"442.098574846\" opacity=\"0.6\" d=\"M 76083.2753931,297518.154596 L 76089.5614859,297526.020167 L 76097.4624803,297529.8084 L 76135.3177694,297530.776936 L 76167.7886261,297525.846821 L 76190.0525155,297524.241937 L 76198.7609305,297525.991652 L 76234.8749067,297528.036442 L 76263.7173245,297518.247781 L 76284.6168832,297503.670195 L 76296.8455206,297488.232211 L 76296.4715339,297479.338228 L 76291.1812165,297477.44463 L 76275.7482236,297476.868527 L 76259.2249992,297480.459059 L 76250.1553676,297482.511069 L 76237.3376592,297483.941136 L 76224.2305409,297480.260319 L 76168.0886344,297472.821344 L 76150.0969384,297473.355572 L 76125.3537296,297477.960586 L 76105.8734206,297485.574007 L 76089.2319713,297496.96603 L 76082.742541,297507.262598 L 76083.2753931,297518.154596 z\" /><path fill-rule=\"evenodd\" fill=\"#66cc99\" stroke=\"#555555\" stroke-width=\"442.098574846\" opacity=\"0.6\" d=\"M 32509.6325031,301181.292017 L 32535.0205037,301193.178617 L 32557.972144,301199.503008 L 32575.5984976,301199.071619 L 32586.1106195,301199.328615 L 32590.3666732,301199.562602 L 32607.5252086,301209.184392 L 32620.2174662,301214.347873 L 32629.6833347,301211.536621 L 32634.3890932,301195.36626 L 32636.2461452,301184.798301 L 32646.4849015,301181.057092 L 32646.5807187,301157.538025 L 32639.2366994,301131.157265 L 32636.5303591,301112.681062 L 32622.944996,301101.544083 L 32604.5787006,301103.572307 L 32593.1560658,301114.950562 L 32583.2420062,301129.708487 L 32568.494975,301126.653281 L 32548.3119524,301114.618923 L 32536.2097562,301115.332656 L 32533.6154699,301115.573212 L 32520.7548258,301129.474926 L 32517.5349023,301145.571448 L 32528.1191824,301157.749091 L 32516.5972137,301167.126503 L 32504.2541798,301171.97567 L 32509.6325031,301181.292017 z\" /><path fill-rule=\"evenodd\" fill=\"#66cc99\" stroke=\"#555555\" stroke-width=\"442.098574846\" opacity=\"0.6\" d=\"M 32258.7800336,303634.500515 L 32267.205672,303648.233772 L 32269.7146093,303650.783333 L 32284.6307767,303666.310458 L 32304.2355216,303681.826778 L 32305.4524134,303700.265727 L 32297.2078589,303721.516643 L 32288.7405556,303735.311969 L 32283.3462505,303752.520301 L 32281.6144076,303768.54306 L 32290.6115496,303774.335355 L 32313.4527355,303775.648456 L 32336.1742094,303773.067096 L 32347.7931441,303767.250124 L 32352.1492791,303760.569288 L 32359.7567507,303748.934343 L 32362.9205677,303730.277063 L 32368.156632,303723.329502 L 32371.44123,303719.042401 L 32384.5208599,303714.155709 L 32390.7100692,303696.462117 L 32398.4130447,303682.259285 L 32413.6481833,303675.816494 L 32429.7753826,303672.338265 L 32428.7072783,303661.358607 L 32423.1522604,303645.476133 L 32416.9532755,303636.089457 L 32407.3664748,303634.895513 L 32390.6462732,303641.412317 L 32384.847187,303643.038626 L 32383.7291388,303631.058469 L 32380.9245252,303609.132466 L 32368.9506957,303600.367951 L 32361.1501481,303611.120937 L 32353.4005948,303625.883354 L 32344.0087832,303631.589283 L 32333.0090244,303631.914649 L 32315.9131655,303626.414515 L 32293.6609092,303620.502812 L 32278.1995643,303617.930277 L 32263.4319473,303617.329179 L 32258.7800336,303634.500515 z\" /><path fill-rule=\"evenodd\" fill=\"#66cc99\" stroke=\"#555555\" stroke-width=\"442.098574846\" opacity=\"0.6\" d=\"M 32075.8501476,301988.686163 L 32077.5284554,301996.960733 L 32077.8266947,302007.42154 L 32079.4606159,302007.340069 L 32093.3190189,302007.540623 L 32102.1692427,302010.331217 L 32103.2101293,302020.754995 L 32118.8032759,302025.884066 L 32144.6510288,302030.613408 L 32151.2964298,302029.502028 L 32147.7349906,302008.839675 L 32146.9025443,302004.089112 L 32140.628548,301990.24858 L 32133.1173914,301985.942407 L 32137.0781489,301969.808567 L 32135.3633587,301959.30694 L 32116.9743951,301959.332143 L 32091.3469029,301963.507382 L 32080.3416886,301965.281983 L 32073.2816873,301975.998244 L 32075.8501476,301988.686163 z\" /><path fill-rule=\"evenodd\" fill=\"#66cc99\" stroke=\"#555555\" stroke-width=\"442.098574846\" opacity=\"0.6\" d=\"M 32157.6457638,303870.677846 L 32173.5312844,303883.258779 L 32194.5661212,303893.131182 L 32200.6950833,303926.481513 L 32236.9705249,303925.564082 L 32267.8137519,303914.219143 L 32267.6906481,303908.764547 L 32267.1107184,303888.176404 L 32277.3885582,303885.323658 L 32282.4160569,303880.169489 L 32281.9636654,303862.138193 L 32286.6707886,303846.07854 L 32286.0432697,303823.041019 L 32263.9632749,303805.642222 L 32229.184778,303832.116797 L 32222.1076848,303855.872858 L 32188.185224,303848.760494 L 32159.7705963,303855.081186 L 32159.5512422,303856.652339 L 32157.6457638,303870.677846 z\" /><path fill-rule=\"evenodd\" fill=\"#66cc99\" stroke=\"#555555\" stroke-width=\"442.098574846\" opacity=\"0.6\" d=\"M 31993.0006742,302718.87308 L 32025.6354885,302728.389438 L 32063.4828081,302739.429086 L 32074.0861244,302726.641445 L 32084.7382153,302711.845413 L 32087.3880721,302700.79179 L 32086.3193862,302689.812176 L 32097.8151448,302679.989061 L 32105.5379732,302664.670502 L 32103.2478919,302653.083135 L 32102.0407719,302646.791052 L 32100.3791899,302638.849979 L 32090.5588193,302628.529692 L 32065.4296917,302626.216742 L 32043.6492145,302634.324019 L 32024.0013773,302644.888207 L 32018.8571043,302670.108196 L 32028.6209029,302676.307774 L 32032.5892226,302688.702961 L 32026.93338,302693.219942 L 32024.7144925,302695.00228 L 32001.9899206,302700.593634 L 31993.0006742,302718.87308 z\" /><path fill-rule=\"evenodd\" fill=\"#66cc99\" stroke=\"#555555\" stroke-width=\"442.098574846\" opacity=\"0.6\" d=\"M 31882.3637083,304145.640308 L 31888.3723414,304176.544697 L 31896.6789521,304193.849595 L 31901.9569705,304196.706513 L 31918.356519,304197.225075 L 31931.2376394,304194.353117 L 31937.4342732,304197.721427 L 31945.3397882,304204.013429 L 31953.2938785,304208.29702 L 31981.7079003,304204.984143 L 32005.3893045,304200.793171 L 32008.3665887,304199.307247 L 32005.9010535,304182.713688 L 32005.2336774,304178.289233 L 31996.8518267,304157.97897 L 32006.9578743,304147.221726 L 32032.6448644,304138.473034 L 32042.8265531,304130.721077 L 32042.575619,304122.709631 L 32029.2888291,304109.9994 L 31992.4445706,304090.552377 L 31963.9023451,304091.308332 L 31951.0688164,304096.62959 L 31933.1618218,304107.664913 L 31917.6286321,304108.106032 L 31915.9467266,304110.195995 L 31906.407017,304108.443378 L 31890.178565,304115.828827 L 31883.6452681,304128.079567 L 31885.31048,304137.580632 L 31885.9557482,304141.560408 L 31882.3637083,304145.640308 z\" /><path fill-rule=\"evenodd\" fill=\"#66cc99\" stroke=\"#555555\" stroke-width=\"442.098574846\" opacity=\"0.6\" d=\"M 29530.279969,295181.398229 L 29536.3816395,295196.025693 L 29555.9627807,295211.871101 L 29600.515015,295209.85779 L 29645.5711476,295216.400871 L 29725.168713,295181.871006 L 29801.9920182,295126.195367 L 29891.746643,295115.788062 L 29990.7536106,295145.707414 L 30058.4976828,295195.917608 L 30089.754037,295230.571131 L 30125.5618485,295248.948688 L 30165.6396053,295264.772217 L 30267.6364263,295300.898581 L 30338.4221457,295340.483605 L 30400.4434139,295401.571112 L 30486.8546801,295483.839037 L 30533.5481031,295506.800644 L 30593.7022755,295547.031802 L 30635.5884131,295615.480978 L 30654.6488219,295676.15636 L 30724.2593761,295673.009761 L 30725.3558928,295674.069376 L 30728.5655298,295677.140775 L 30729.5932507,295678.315275 L 30764.885804,295713.327325 L 30789.9544332,295739.155007 L 30797.7626124,295785.01394 L 30808.4382493,295801.754105 L 30839.3239021,295850.025743 L 30866.299909,295869.294602 L 30893.1765703,295882.104793 L 30919.777498,295887.907919 L 30929.6715406,295887.524977 L 30950.6658805,295887.033207 L 31004.2373734,295907.537123 L 31048.9809678,295930.376965 L 31100.8000107,295971.029077 L 31128.2009414,296003.316708 L 31144.7602969,296042.386607 L 31206.3152948,296113.868981 L 31220.490326,296148.488888 L 31221.7691744,296195.008368 L 31211.0813483,296206.351931 L 31198.1576631,296217.6957 L 31158.5662177,296223.35009 L 31130.1622763,296235.132686 L 31130.8409626,296259.170596 L 31162.3059207,296280.333862 L 31206.4164824,296277.128486 L 31243.6240623,296267.024217 L 31282.7158507,296243.898739 L 31300.3577383,296243.464016 L 31329.1612902,296247.15295 L 31355.9329952,296259.41309 L 31375.3060564,296241.395643 L 31386.1728848,296221.685246 L 31396.3573511,296203.234794 L 31420.4486491,296196.126439 L 31505.7781904,296251.269366 L 31557.3918292,296280.456716 L 31619.0895826,296278.717897 L 31625.6175364,296276.609382 L 31736.7671791,295994.469344 L 31845.5968605,295869.024409 L 32027.8394254,295842.231184 L 32148.1368849,295900.658012 L 32128.4659198,296046.06523 L 32036.3620023,296112.276434 L 31685.4301499,296159.287885 L 31684.6592423,296269.431552 L 31698.5818318,296281.107775 L 31739.2221462,296312.96097 L 31783.9815266,296336.251 L 31833.5572053,296372.45161 L 31917.4777173,296456.310932 L 31981.0488162,296520.679158 L 32050.0573851,296622.444683 L 32091.9263838,296686.557012 L 32112.2642924,296717.862864 L 32145.0469745,296785.102349 L 32159.7648635,296839.756497 L 32156.2480247,296870.912369 L 32165.7275191,296895.180702 L 32197.1849986,296916.34939 L 32232.7833048,296926.390904 L 32246.5282589,296943.537717 L 32271.5450256,297050.948802 L 32288.4968738,297105.603444 L 32316.6856257,297168.948792 L 32349.8357108,297249.655238 L 32369.3192882,297317.779978 L 32379.4185054,297363.525957 L 32393.386974,297389.688661 L 32419.3400356,297448.576415 L 32472.8549103,297550.781791 L 32477.7419158,297568.146557 L 32480.0097819,297649.720441 L 32511.4370434,297668.885971 L 32526.1502741,297723.540889 L 32573.1840914,297825.846214 L 32587.9493003,297883.061791 L 32595.5669467,297917.898623 L 32620.220027,297932.720791 L 32636.9952209,297980.921228 L 32665.1242821,298041.707506 L 32677.5029727,298089.903628 L 32694.7479967,298153.571161 L 32706.6557415,298186.300378 L 32710.702366,298252.74119 L 32717.0342719,298323.191773 L 32735.635671,298355.699837 L 32756.9710153,298410.248916 L 32764.7123965,298452.100513 L 32793.0648826,298517.445147 L 32801.5185367,298540.650695 L 32824.0457721,298602.718716 L 32832.558674,298670.609269 L 32846.5226322,298696.772912 L 32861.0290621,298742.857603 L 32884.4199267,298790.841276 L 32889.9525556,298830.239517 L 32906.3946298,298867.31284 L 32923.508936,298928.424088 L 32945.6691791,299091.141934 L 32958.4403065,299154.809193 L 32967.1780511,299227.257738 L 32969.8536686,299249.635965 L 32984.8369681,299312.859063 L 33021.6391787,299366.974947 L 33032.2544966,299430.749331 L 33058.0424472,299485.077964 L 33085.69432,299528.950125 L 33136.7732451,299620.136249 L 33148.9277823,299659.428764 L 33163.8037873,299720.540067 L 33173.454787,299830.944734 L 33181.6153124,299885.814373 L 33183.304356,299945.351429 L 33175.7491558,299994.20326 L 33161.2691336,300029.580191 L 33164.3494528,300058.624819 L 33172.1535879,300082.308668 L 33176.376365,300095.360526 L 33197.5262413,300143.344705 L 33211.7786481,300178.409817 L 33210.915571,300227.04091 L 33225.7707644,300286.258802 L 33233.4554373,300325.550357 L 33224.4402747,300398.991653 L 33210.2597353,300443.380415 L 33200.747741,300500.798963 L 33171.4755495,300559.198573 L 33139.897678,300613.143792 L 33108.9437182,300693.135514 L 33119.156202,300741.328182 L 33113.4832811,300777.048225 L 33101.2930262,300814.986459 L 33099.8073391,300831.553558 L 33096.8801804,300865.577096 L 33096.2402479,300872.183917 L 33082.5592136,300910.084829 L 33077.8513576,300923.245865 L 33071.9650013,300930.670492 L 33068.8045031,300934.505045 L 33065.8036185,300938.554554 L 33054.3803109,300952.940726 L 33025.7048218,300955.813985 L 32997.4441639,300970.033814 L 32976.0082725,300992.718559 L 32951.8371548,300997.820108 L 32916.9633418,301013.817748 L 32897.7563711,301036.392054 L 32885.2440927,301063.314221 L 32870.0761019,301072.760641 L 32848.0865113,301075.302506 L 32811.3843143,301105.43343 L 32779.336592,301143.802764 L 32743.256561,301195.411572 L 32732.801681,301215.768218 L 32733.1262074,301226.78484 L 32736.3517176,301266.186345 L 32728.1797245,301295.010515 L 32724.3122694,301308.575923 L 32689.2687965,301318.119979 L 32678.1121607,301313.882958 L 32651.4638294,301308.076376 L 32647.301056,301317.198857 L 32647.8035291,301334.781728 L 32639.4504042,301352.470866 L 32628.6967666,301363.815809 L 32637.918969,301377.064355 L 32655.4665545,301372.067951 L 32672.7424149,301358.615515 L 32686.3247457,301371.201455 L 32680.9329317,301415.489338 L 32696.821594,301432.529686 L 32719.6311415,301458.475509 L 32732.1836961,301513.237873 L 32721.5028738,301529.03672 L 32703.8049161,301525.013626 L 32688.339102,301525.44867 L 32679.960943,301541.133055 L 32674.2448057,301574.404335 L 32656.6978528,301579.400706 L 32630.7002895,301595.627526 L 32606.9350827,301616.312524 L 32609.6406913,301631.779815 L 32627.3850373,301635.243076 L 32634.7762136,301664.073183 L 32659.3670278,301676.445571 L 32682.5259508,301715.41255 L 32676.607049,301740.112888 L 32686.3509057,301772.837902 L 32679.9603668,301782.071231 L 32647.3203866,301797.959894 L 32619.321075,301823.313305 L 32599.4685173,301823.855525 L 32579.7155506,301826.398823 L 32560.1137132,301837.96151 L 32554.0175915,301856.095752 L 32569.8581644,301870.686348 L 32574.9430702,301895.062045 L 32580.1584026,301923.554624 L 32576.3466311,301945.698522 L 32541.6743613,301968.598497 L 32513.7760313,301995.95349 L 32496.6285234,302016.421128 L 32485.3258617,302007.734147 L 32470.1136399,302014.732391 L 32468.577966,302039.214812 L 32457.7278488,302044.101365 L 32415.7906052,302045.18686 L 32391.8024891,302056.857238 L 32387.9186451,302074.547217 L 32397.018712,302085.349685 L 32410.023813,302075.897962 L 32421.079633,302078.133405 L 32436.0461546,302060.225853 L 32451.5105625,302059.790067 L 32447.846616,302086.384459 L 32458.6237467,302077.043804 L 32467.3984465,302076.829744 L 32475.014837,302111.666389 L 32452.081154,302160.951683 L 32402.1469592,302191.299305 L 32382.6464505,302204.863678 L 32388.0828838,302242.260583 L 32373.0440772,302255.714207 L 32338.6059153,302287.742332 L 32328.3276555,302314.554971 L 32337.6248911,302323.341529 L 32346.4488181,302331.594466 L 32379.9338338,302346.196996 L 32399.7344693,302352.120127 L 32426.6487967,302360.363636 L 32459.9077646,302365.950992 L 32469.0815641,302376.749857 L 32466.8047626,302378.869212 L 32462.9439791,302382.070437 L 32458.3050499,302386.090517 L 32427.4776667,302388.963172 L 32405.4466717,302392.066488 L 32390.3828565,302403.515376 L 32373.3622845,302427.989174 L 32364.4408498,302423.753017 L 32360.1947372,302417.723746 L 32350.681673,302404.601641 L 32326.118413,302394.235379 L 32299.4412096,302387.763616 L 32292.80626,302386.088261 L 32272.4544594,302393.008929 L 32257.8177262,302398.084645 L 32261.3782296,302448.613847 L 32273.052221,302497.62427 L 32273.9089483,302501.370642 L 32257.0110823,302528.290498 L 32272.5528754,302532.419428 L 32296.5386681,302520.748454 L 32311.2033169,302493.82857 L 32329.1457649,302504.301735 L 32323.6061249,302544.028613 L 32334.9866925,302557.280498 L 32350.5781833,302562.410139 L 32370.6452345,302569.211378 L 32394.3309837,302548.528883 L 32389.0949642,302518.1429 L 32357.917348,302507.994608 L 32355.2853948,302492.523711 L 32383.4327636,302471.73036 L 32405.5895153,302475.64157 L 32419.0506456,302484.332261 L 32438.8962691,302562.91401 L 32439.7672066,302593.851759 L 32422.8002155,302620.885972 L 32412.0041226,302635.799896 L 32395.157232,302659.262058 L 32377.4877624,302657.244807 L 32348.6172358,302651.550857 L 32358.8892234,302624.627057 L 32343.3278528,302618.604362 L 32330.2130698,302640.766349 L 32328.5637547,302643.523166 L 32304.3270629,302644.17368 L 32293.5236531,302652.95885 L 32282.6006297,302657.849492 L 32282.0965814,302640.266586 L 32285.8587758,302615.673034 L 32280.9987947,302600.313189 L 32256.7619068,302600.963898 L 32237.3851294,302616.974519 L 32233.7951177,302615.147482 L 32221.649577,302608.954844 L 32203.7016615,302598.370854 L 32181.4975007,302592.011063 L 32155.6103116,302614.810266 L 32163.2760521,302652.09594 L 32185.7582374,302667.022922 L 32177.5619684,302689.274449 L 32187.0607091,302715.547301 L 32206.9102566,302715.003521 L 32240.2949904,302723.146368 L 32258.2369289,302733.61929 L 32260.5688436,302740.078215 L 32259.312816,302773.128025 L 32257.7365933,302795.272358 L 32254.0999633,302823.87166 L 32258.6873148,302830.775378 L 32285.1033442,302827.564232 L 32314.0461805,302837.711916 L 32314.4504792,302853.293815 L 32308.3344803,302870.983746 L 32304.5725119,302895.577293 L 32293.1470321,302878.427236 L 32268.8370701,302879.081642 L 32260.8392573,302909.792858 L 32268.1052632,302931.607908 L 32273.1435236,302953.534 L 32295.2985726,302957.444714 L 32305.6402581,302951.357139 L 32310.4880338,302948.552347 L 32311.8638215,302919.397101 L 32320.5386983,302912.723969 L 32331.6871757,302916.849019 L 32336.6509361,302938.778858 L 32356.8252924,302949.252215 L 32378.7543952,302944.147615 L 32416.1931455,302941.056501 L 32444.8894923,302940.295642 L 32460.1788693,302933.404693 L 32464.7382028,302939.752729 L 32469.4502905,302950.662321 L 32476.0900767,302952.449022 L 32507.4178537,302967.159412 L 32529.9177562,302983.981211 L 32548.1637448,303003.578097 L 32557.9856619,303040.868132 L 32569.8095337,303069.031625 L 32576.8020439,303082.390916 L 32592.4417113,303088.521662 L 32623.2924846,303093.672273 L 32625.6220515,303094.113512 L 32641.3833724,303102.690066 L 32657.2935415,303121.734862 L 32687.7343265,303182.961849 L 32690.3653128,303198.432864 L 32679.7405072,303213.783584 L 32680.8613399,303255.741677 L 32684.7658148,303317.732336 L 32682.8633323,303328.859861 L 32677.6226023,303377.598305 L 32662.6593982,303395.505357 L 32643.4880128,303420.085641 L 32641.9583543,303444.679208 L 32635.5899633,303455.80622 L 32621.9333743,303438.655312 L 32604.245223,303439.201696 L 32600.8060612,303468.793857 L 32594.9865314,303475.993094 L 32594.1990217,303490.07411 L 32605.1742165,303498.220152 L 32616.9707063,303503.427804 L 32623.2652959,303502.780062 L 32633.4706667,303502.9406 L 32640.555686,303497.238597 L 32649.9461228,303485.51536 L 32651.9001197,303481.40614 L 32682.9511894,303492.119048 L 32732.1359124,303512.739487 L 32819.7115679,303567.445925 L 32958.0250762,303623.196116 L 32964.5951907,303625.098211 L 33026.9849624,303643.392656 L 33074.189692,303675.147031 L 33110.0921421,303696.653676 L 33188.1682005,303725.091361 L 33236.7800454,303747.750227 L 33246.1725206,303755.530249 L 33252.4128781,303759.789314 L 33254.0272694,303760.823523 L 33255.4189232,303761.868798 L 33267.8996007,303770.386954 L 33287.2298379,303777.450438 L 33299.3201831,303787.102463 L 33315.1761149,303802.139545 L 33335.522848,303819.182436 L 33370.038413,303845.774311 L 33393.9203805,303859.075675 L 33396.4587725,303860.732683 L 33403.7082388,303865.833313 L 33419.4919193,303879.425491 L 33459.8095123,303925.454879 L 33480.7653557,303939.793375 L 33490.1121136,303957.159977 L 33507.6541526,303980.694793 L 33518.5548623,304000.881764 L 33535.4565873,304028.014555 L 33548.4384049,304046.649527 L 33570.3898211,304066.065181 L 33589.8129225,304078.028378 L 33608.4960503,304088.579619 L 33618.3554544,304099.79167 L 33632.2061425,304120.946827 L 33640.7325664,304136.794145 L 33683.2688441,304185.612189 L 33694.5961986,304196.41719 L 33703.3654625,304220.164852 L 33714.9387791,304240.430178 L 33728.6369529,304257.023994 L 33748.2855912,304276.554451 L 33807.3209757,304309.95606 L 33834.7185604,304316.175318 L 33844.4334609,304321.488487 L 33850.4279935,304325.314541 L 33853.574276,304331.733538 L 33852.5562389,304348.723039 L 33853.131367,304397.839968 L 33860.5392409,304425.66718 L 33877.3633304,304446.786793 L 33889.7996342,304472.470199 L 33908.7489596,304518.447261 L 33915.2928746,304543.865651 L 33929.3652817,304574.037071 L 33948.0657191,304612.002817 L 33952.329536,304631.962227 L 33950.9169233,304662.009839 L 33965.4109682,304679.67904 L 33977.1288066,304704.39522 L 33982.9121628,304717.481427 L 34021.8964571,304807.37624 L 34107.4834251,305082.404957 L 34128.1677097,305164.960475 L 34139.6610256,305215.207898 L 34153.2388444,305274.490178 L 34163.3459577,305320.794447 L 34176.622915,305401.0425 L 34180.6596166,305413.435283 L 34185.9846344,305445.82355 L 34189.8251617,305478.28537 L 34195.373593,305519.689262 L 34199.5616154,305565.172422 L 34212.0210926,305670.980917 L 34212.4402366,305685.447434 L 34219.6718992,305708.268793 L 34221.8293258,305733.793251 L 34219.7979823,305764.874395 L 34222.6204987,305788.805733 L 34226.9079585,305810.77 L 34227.6276949,305835.808488 L 34226.5900269,305850.904389 L 34227.0810656,305869.824973 L 34226.8134119,305888.448827 L 34225.844766,305906.438769 L 34231.3434623,305918.313362 L 34231.1694545,305938.827068 L 34228.4706266,305972.950196 L 34231.1965911,305993.43166 L 34240.1163499,306023.301583 L 34243.5841443,306040.737396 L 34238.2562649,306060.837816 L 34232.8594346,306078.044204 L 34233.7337797,306080.675459 L 34239.3236586,306098.89765 L 34247.2254583,306120.237077 L 34251.9542834,306131.592615 L 34248.560712,306142.681942 L 34249.010333,306159.26433 L 34252.5746085,306180.150025 L 34260.3768607,306196.479561 L 34268.9957004,306215.777545 L 34268.5483164,306251.795054 L 34271.7707447,306262.77947 L 34278.5576882,306269.12966 L 34283.3083972,306280.92989 L 34285.1430672,306295.437724 L 34289.9212852,306307.793797 L 34292.177677,306335.319299 L 34299.781122,306344.637953 L 34300.2747187,306362.109685 L 34296.955745,306376.204195 L 34297.3528405,306390.226048 L 34299.9321983,306403.248263 L 34304.8566879,306423.06362 L 34303.37472,306447.208226 L 34299.7824296,306476.806539 L 34298.4892499,306491.246458 L 34296.962727,306508.483957 L 34292.8551353,306523.174758 L 34314.351407,306526.121637 L 34352.8527807,306531.458011 L 34378.4960384,306529.519204 L 34399.8461947,306528.016013 L 34577.5185607,306510.527052 L 34622.1621243,306506.200251 L 35111.6460645,306475.980725 L 35289.6440805,306465.073027 L 35371.5960142,306460.024797 L 35617.3778518,306444.890873 L 35699.26122,306439.962206 L 35828.160565,306432.049244 L 35977.2340511,306422.92278 L 36214.8311257,306410.780945 L 36343.7222181,306404.217371 L 36458.3651063,306398.357188 L 36514.5363136,306395.484503 L 36811.5701724,306380.335065 L 37026.9844864,306369.427922 L 37197.8043173,306360.826792 L 37227.5385192,306357.363093 L 37314.8172533,306347.178668 L 37316.5928408,306346.980209 L 37319.9955964,306346.590565 L 37334.4753473,306344.543697 L 37346.2256837,306342.964929 L 37347.6989854,306342.669858 L 37351.9071572,306342.017894 L 37353.3116972,306341.837629 L 37362.6621427,306341.379421 L 37439.5435894,306337.612517 L 37499.3513237,306334.571447 L 37937.3274806,306312.913876 L 38028.6057456,306308.450945 L 38083.2930683,306305.666349 L 38236.19461,306295.743649 L 38285.7343406,306292.655296 L 38539.7988069,306281.143877 L 38695.3014646,306274.226779 L 38848.2809851,306267.43692 L 39106.772634,306256.737986 L 39223.5484338,306251.944179 L 39346.2541092,306245.192781 L 39882.0745097,306221.154374 L 40140.52835,306209.72432 L 40198.1639966,306207.931386 L 40371.0816271,306202.778429 L 40428.6537785,306201.213767 L 40453.9594458,306199.987443 L 40529.6592093,306196.4311 L 40554.8960555,306195.31999 L 40772.9417478,306185.096236 L 41427.0156959,306154.701151 L 41644.998127,306144.736817 L 42172.3848971,306120.318642 L 42281.5643845,306115.396392 L 43393.046379,306064.231308 L 43415.5038254,306605.572399 L 43448.181904,307395.682314 L 43451.3541065,307463.38826 L 43460.7278621,307666.624406 L 43463.8313396,307734.445096 L 43474.9723535,307982.27818 L 43497.5397801,308488.516327 L 43508.1917404,308726.121952 L 43519.2658421,308974.069988 L 43528.1712122,309179.891786 L 43554.9001234,309797.579752 L 43563.7380913,310003.516432 L 43570.7425639,310222.355102 L 43584.042891,310642.127071 L 43591.6272383,310879.211997 L 43598.5652737,311098.16557 L 43598.630857,311119.667654 L 43598.6052389,311184.184584 L 43598.5967215,311205.690228 L 43603.4150184,311264.292015 L 43617.7215196,311440.104519 L 43622.3968007,311498.824609 L 43624.1789008,311522.027161 L 43629.541193,311591.968331 L 43631.2598164,311615.396783 L 43639.1747961,311777.253484 L 43648.1781745,311961.788936 L 43661.2317731,312263.23906 L 43662.4764385,312293.821554 L 43668.1891554,312425.253273 L 43669.1547669,312445.375093 L 43671.8345738,312505.862399 L 43672.731406,312526.098948 L 43672.827435,312528.100013 L 43673.131527,312534.43672 L 43673.1587652,312536.552512 L 43677.7614875,312643.300896 L 43691.586239,312963.879619 L 43696.1205638,313070.742772 L 43701.3536776,313778.718378 L 43703.5030739,314078.798496 L 43704.6986801,314238.30409 L 44155.7139999,314198.50673 L 44195.210888,314195.053848 L 44205.6098751,314342.306204 L 44222.9159389,314858.381694 L 44544.9252893,314850.534707 L 44552.2074945,314849.071854 L 44556.0436653,314845.434032 L 44559.3615801,314843.380977 L 44571.7068696,314834.433142 L 44602.1496296,314812.585224 L 44618.4992129,314794.197559 L 44619.9346954,314777.637918 L 44620.2090252,314774.05918 L 44624.2614192,314745.451801 L 44639.9744397,314719.96347 L 44661.6069822,314703.328823 L 44694.4947019,314698.412557 L 44711.6111284,314697.593699 L 44717.9834777,314697.288855 L 44766.756685,314653.394326 L 44805.4067732,314615.221345 L 44854.0806995,314570.775311 L 44886.3665745,314542.378376 L 44930.2586392,314506.629984 L 44946.0238728,314494.622573 L 44960.4805269,314475.435148 L 44968.7195879,314464.456054 L 44981.2771884,314450.596409 L 44996.5125463,314433.711801 L 45020.2052973,314411.966157 L 45040.4478716,314394.173896 L 45658.5686763,314219.15698 L 45864.5693957,314209.230261 L 46038.8597274,314180.652777 L 46123.3581594,314189.556512 L 46163.6282356,314177.389613 L 46202.6661731,314142.440012 L 46339.000738,314062.194929 L 46444.379961,314029.107504 L 46468.5882092,314002.44144 L 46476.5221151,313953.707284 L 46617.1341866,313806.970413 L 46784.658633,313740.409442 L 46914.1469163,313678.331996 L 47072.2470085,313627.491821 L 47236.0521883,313482.235542 L 47307.9132022,313440.614249 L 47371.1782873,313379.011048 L 47443.7625185,313352.621997 L 47518.0307073,313308.438438 L 47598.9238529,313294.360172 L 47615.6278329,313270.617427 L 47606.5537774,313187.14748 L 47632.3703153,313142.472486 L 47895.0303911,312889.3884 L 47925.2984526,312871.245365 L 48074.6048338,312816.060156 L 48307.630096,312787.569004 L 48350.488667,312724.489813 L 48373.4006432,312670.039641 L 48379.1903184,312628.9874 L 48412.7612654,312528.018951 L 48498.2680943,312447.665981 L 48510.5920246,312386.027858 L 48557.606762,312355.846015 L 48604.4200246,312264.616999 L 48603.6971649,312249.275367 L 48625.1725801,312217.846424 L 48674.8764517,312192.664258 L 48675.7080403,312181.928967 L 48720.1063092,312178.166546 L 48740.9318851,312175.514517 L 48759.5196049,312169.513993 L 48774.0436603,312178.189181 L 48789.4457357,312178.689568 L 48807.8511452,312167.238321 L 48822.121239,312165.786574 L 48858.5949214,312168.860547 L 48868.5525114,312172.068619 L 48884.9112661,312166.062014 L 48907.602388,312150.955453 L 48911.437013,312148.769472 L 48923.8941109,312141.943852 L 48937.0575789,312140.655895 L 48955.0261269,312153.06905 L 48977.6069656,312173.510131 L 48991.0666914,312181.678833 L 49005.242614,312178.226463 L 49017.4352887,312179.992627 L 49027.3927474,312183.200972 L 49040.5508928,312181.802081 L 49047.995328,312172.649936 L 49055.3945663,312159.377489 L 49060.7041039,312152.219877 L 49071.6384768,312150.925661 L 49085.9356949,312148.470553 L 49090.0862995,312140.364723 L 49094.0557898,312125.248132 L 49103.6310793,312112.430511 L 49119.7411502,312097.968606 L 49129.4097006,312088.712001 L 49161.7641864,312065.79862 L 49173.7028259,312058.997963 L 49175.5846222,312046.876449 L 49179.6485084,312033.761013 L 49185.9491093,312025.554197 L 49204.4716777,312014.99017 L 49217.3404951,312002.68646 L 49232.2660637,311986.720767 L 49240.8909642,311978.96186 L 49255.046605,311975.065452 L 49271.5463424,311973.621506 L 49289.1110226,311971.124813 L 49298.7330487,311960.867973 L 49315.0350955,311945.72918 L 49325.3517244,311942.347597 L 49327.3751528,311941.138356 L 49331.1829457,311939.956695 L 49353.2144668,311940.815673 L 49374.8645871,311925.648647 L 49384.5526945,311919.956953 L 49398.6421975,311871.943034 L 49410.3277059,311856.575742 L 49429.6196265,311837.063067 L 49443.8237483,311832.60781 L 49460.2560349,311829.719201 L 49471.9616349,311816.356612 L 49487.9868464,311796.886147 L 49504.0058958,311778.864441 L 49522.1726951,311771.77218 L 49539.9051756,311764.923204 L 49566.2297691,311760.679199 L 49599.2181036,311752.780063 L 49601.272961,311752.237953 L 49637.2143391,311739.186716 L 49687.5262195,311726.798445 L 49711.3330982,311711.643069 L 49732.7972595,311692.475307 L 49746.8202458,311668.308715 L 49881.780459,311535.968378 L 49965.6533564,311464.407574 L 50047.7295692,311417.889432 L 50121.1433649,311338.687952 L 50162.280683,311282.613533 L 50194.7774199,311186.388928 L 50174.9076677,311180.968636 L 50203.9249825,311170.696752 L 50231.0250511,311154.386951 L 50257.2122559,311147.144642 L 50281.2090981,311137.553851 L 50306.5717838,311141.269041 L 50321.1697067,311149.94471 L 50323.70608,311162.86156 L 50317.5563193,311177.521896 L 50326.334791,311179.339368 L 50337.4389225,311180.045285 L 50346.3123309,311182.304003 L 50362.5608114,311173.856048 L 50373.4776803,311170.559862 L 50381.9662409,311158.241296 L 50391.7450334,311154.441323 L 50408.7716807,311134.035719 L 50413.0667612,311127.372724 L 50415.9026117,311111.753399 L 50432.2189992,311104.750884 L 50435.3330716,311098.25457 L 50433.8765293,311086.178496 L 50444.7065374,311079.432671 L 50450.1527513,311076.726795 L 50466.6083268,311074.285883 L 50469.444367,311058.666592 L 50479.8246153,311045.479827 L 50481.1605207,311043.857542 L 50490.0614067,311045.112479 L 50507.3758232,311035.612406 L 50530.3210106,311030.528502 L 50535.1815275,311007.349821 L 50543.2915206,310980.565358 L 50564.8534627,310964.961913 L 50606.2339243,310947.317944 L 50658.5656614,310930.276604 L 50676.8671802,310913.266206 L 50688.8293154,310908.473448 L 50706.4169473,310907.985831 L 50714.2199731,310911.186474 L 50742.9767962,310915.970623 L 50753.8683665,310912.119337 L 50764.6990584,310905.374148 L 50775.298942,310890.506532 L 50781.4115717,310871.837648 L 50802.815005,310851.228964 L 50821.2040198,310837.668839 L 50833.8468058,310818.806448 L 50855.4115788,310801.644296 L 50871.5557595,310787.743536 L 50888.8329633,310774.235579 L 50919.1109096,310755.886957 L 50933.3913423,310752.99197 L 50949.1605774,310766.07111 L 50965.6312339,310765.525061 L 50969.6796643,310751.966425 L 50976.0325264,310743.202434 L 50978.9413728,310730.699726 L 50983.1907454,310723.036655 L 50980.7617981,310715.573894 L 50980.1984876,310695.545709 L 50990.5132898,310669.773338 L 51003.1844972,310649.907357 L 51014.9429162,310637.54873 L 51063.5864006,310605.085677 L 51089.6244102,310591.392469 L 51128.7986105,310575.749627 L 51154.1364137,310574.122054 L 51169.3429328,310567.173626 L 51179.01743,310557.920743 L 51189.6641921,310545.614373 L 51195.745984,310527.838836 L 51208.5773932,310512.979533 L 51252.1407207,310494.236188 L 51270.5961496,310485.242552 L 51282.2223221,310468.434193 L 51323.5756673,310451.688497 L 51384.9327702,310440.027183 L 51411.0845707,310430.341138 L 51435.457705,310435.110364 L 51453.8124248,310436.706282 L 51456.4283731,310437.030059 L 51486.8030368,310420.685688 L 51517.2642394,310407.79126 L 51555.6185508,310403.219607 L 51571.8794174,310391.766722 L 51606.7019469,310376.775689 L 51636.0979408,310364.934251 L 51657.777226,310353.340787 L 51710.8117837,310320.902189 L 51735.4452992,310296.136296 L 51764.3091351,310263.2634 L 51795.0789234,310221.834666 L 52703.1596613,309131.505776 L 52667.3462664,309114.114649 L 52687.14145,309114.64538 L 52710.0720457,309107.454935 L 52725.237875,309099.510347 L 52751.5926708,309098.846009 L 52757.7639286,309098.894257 L 52776.9503459,309099.119282 L 52806.4015376,309088.284784 L 52824.6804678,309073.734439 L 52853.9536914,309057.449345 L 52870.4619877,309056.01619 L 52890.3448295,309058.437554 L 52916.8130405,309060.219768 L 52975.1595591,309058.632014 L 52996.0231016,309056.55193 L 53021.1565284,309050.3749 L 53046.266393,309042.082287 L 53074.6962708,309034.861635 L 53096.4245775,309024.163339 L 53110.4117047,309014.826059 L 53121.3618734,309010.531387 L 53126.966428,309014.394201 L 53119.8258052,309033.552904 L 53114.6817309,309049.276929 L 53122.7333342,309061.048006 L 53148.1535967,309065.887846 L 53172.308325,309062.653432 L 53198.3118076,309047.969799 L 53195.8412809,309037.945805 L 53185.5206704,309023.717184 L 53180.3884276,308996.325002 L 53185.2623157,308973.149103 L 53205.6822943,308955.047338 L 53215.0618554,308948.931553 L 53239.2293869,308933.107583 L 53283.8028893,308913.331945 L 53352.444811,308888.433129 L 53379.8689119,308885.159924 L 53415.0374216,308882.197341 L 53443.6020229,308877.869047 L 53464.177903,308866.334247 L 53492.2253766,308845.987174 L 53523.6340968,308827.601733 L 53539.8753902,308817.158777 L 53549.2245621,308795.893353 L 53560.6785265,308773.528039 L 53574.5220318,308754.617468 L 53608.7317956,308719.614642 L 53661.9696561,308692.646104 L 53700.0505488,308677.073114 L 53731.4888245,308657.684911 L 53768.6273343,308649.063259 L 53794.9219158,308643.838941 L 53834.0288085,308626.325604 L 53852.4963777,308615.780906 L 53892.7572319,308599.106027 L 53908.1542936,308597.727269 L 53918.8568654,308586.426933 L 53929.7085626,308581.581433 L 53940.5421486,308574.731439 L 53949.1324553,308565.979583 L 53962.2326442,308563.147202 L 53973.9556924,308549.794568 L 53977.2548492,308547.191431 L 53984.5504869,308532.928928 L 53992.8791357,308515.276549 L 54003.7310269,308510.431197 L 54021.3435931,308511.958627 L 54036.6510409,308507.019305 L 54052.7837927,308492.572276 L 54070.0653915,308482.083031 L 54078.3274883,308459.754731 L 54093.5148223,308453.818441 L 54106.4483889,308442.52708 L 54116.7285336,308417.209223 L 54135.8021681,308389.146541 L 54179.6467759,308301.787462 L 54195.1115426,308264.755883 L 54216.5576978,308244.605608 L 54354.5950339,308139.651843 L 54374.93719,308118.104789 L 54389.8031204,308098.703869 L 54413.4299046,308077.451387 L 54431.9898701,308070.469597 L 54456.2566433,308072.806244 L 54469.2302059,308063.964967 L 54486.4064041,308047.911641 L 54509.6730926,308052.745509 L 54529.425198,308052.282227 L 54559.7978479,308033.839417 L 54567.9654608,308012.630478 L 54596.205104,307996.291353 L 54619.9199229,307980.16051 L 54645.9267495,307965.372654 L 54655.1335053,307937.654471 L 54665.5398022,307918.236681 L 54712.96314,307880.962743 L 54723.5614962,307864.098616 L 54739.6262934,307848.097266 L 54752.6186082,307841.261179 L 54752.1589401,307824.794082 L 54750.5814319,307808.266967 L 54764.5411805,307793.365143 L 54770.9845136,307749.17463 L 54806.4914874,307679.027375 L 54814.7348474,307657.815442 L 54820.9849061,307646.610337 L 54829.5524849,307637.30406 L 54843.6021912,307625.963368 L 54847.4737708,307608.2946 L 54859.0708356,307590.493663 L 54881.7726515,307573.2966 L 54883.7885433,307571.8671 L 54914.1471896,307551.421821 L 54941.2313848,307534.135108 L 54961.8072224,307524.054672 L 54986.9057633,307515.326295 L 55020.5343549,307494.842872 L 55049.4928532,307466.55283 L 55063.2882096,307449.654113 L 55071.4818933,307427.330884 L 55076.4750248,307408.162576 L 55092.3918103,307387.267338 L 55106.3633721,307375.819573 L 55128.1349148,307364.236643 L 55155.1464449,307346.954412 L 55165.7825231,307334.100205 L 55180.4803267,307307.690894 L 55180.5875496,307271.144763 L 55192.1432753,307250.784213 L 55211.3253078,307229.739557 L 55250.2786255,307202.106223 L 55286.6881548,307166.01161 L 55323.1950256,307132.029517 L 55357.7485146,307108.943629 L 55380.1026108,307080.847025 L 55404.2834574,307039.075282 L 55412.9515359,307022.18985 L 55418.7533182,307010.894713 L 55422.231342,307004.050931 L 55431.5803096,306985.797457 L 55438.1970916,306980.926514 L 55439.1361161,306980.326442 L 55446.7661297,306974.852037 L 55458.873817,306966.498672 L 55470.9815392,306958.145334 L 55504.3989306,306957.282248 L 55550.1520518,306959.530513 L 55576.6818642,306960.877329 L 55619.0860199,306963.056763 L 55638.6641675,306955.475661 L 55670.4172822,306949.119515 L 55746.4401647,306910.991346 L 55782.1145968,306887.96837 L 55823.2673576,306862.801012 L 55896.742667,306811.200233 L 55952.9637525,306774.092577 L 56013.1958892,306723.87915 L 56016.4431797,306721.725354 L 56065.1447118,306690.867284 L 56106.0825356,306657.690896 L 56144.749191,306623.616016 L 56189.3529729,306602.304408 L 56251.5255484,306583.086934 L 56477.7579441,306520.729169 L 56562.3977683,306516.42039 L 56572.7113163,306515.949741 L 56582.9455932,306515.371325 L 56644.4611627,306499.641805 L 56704.9664683,306495.99063 L 56737.7566063,306489.482025 L 56880.3175461,306488.44126 L 56885.1505761,306488.443785 L 56994.9029582,306504.943355 L 57067.7711858,306516.440621 L 57134.0674114,306525.675779 L 57352.9218437,306565.734246 L 57421.1288821,306582.683881 L 57487.9898053,306599.472705 L 57554.7233044,306628.188106 L 57730.4583095,306697.960045 L 57832.8181938,306741.770277 L 57888.4819789,306764.196552 L 57942.7120744,306738.674328 L 57937.6477624,306712.279247 L 57904.2009437,306697.755868 L 57868.8526883,306692.119746 L 57833.2321501,306675.578831 L 57818.0080384,306682.50874 L 57785.0233214,306681.444655 L 57737.1583434,306621.233946 L 57725.2606854,306588.465301 L 57715.6475196,306560.160359 L 57702.6293825,306535.46359 L 57683.4880288,306538.004339 L 57675.543858,306538.253913 L 57627.2439978,306553.594295 L 57581.3476242,306562.921539 L 57526.3507911,306563.41654 L 57501.0650749,306555.097054 L 57459.6248796,306533.252826 L 57429.6950215,306516.00985 L 57404.2268808,306503.688576 L 57392.0314718,306502.015273 L 57349.2748752,306505.185818 L 57319.0628281,306502.995563 L 57286.4898684,306484.870934 L 57272.1324565,306473.270034 L 57257.4224758,306450.656354 L 57252.7040508,306441.736086 L 57244.3867953,306410.921897 L 57241.7490533,306370.937007 L 57243.8501854,306359.923922 L 57260.8452195,306318.377109 L 57268.0662602,306307.131037 L 57291.7397917,306260.37872 L 57294.7028285,306250.32907 L 57298.1178796,306232.237876 L 57300.4840515,306209.069897 L 57302.9158999,306202.052293 L 57303.5267211,306159.914366 L 57306.8508425,306139.822081 L 57311.3840923,306126.693141 L 57321.7339527,306107.395245 L 57357.251101,306064.337799 L 57361.5837095,306058.23639 L 57371.4934917,306048.873436 L 57390.7968795,306038.414834 L 57422.7368977,306029.498258 L 57456.977334,306020.477267 L 57472.3527752,306020.112362 L 57481.0565041,306021.833268 L 57501.5832847,306038.278754 L 57512.49907,306051.039349 L 57518.1245287,306061.92382 L 57521.1023057,306071.814638 L 57519.7427414,306077.892158 L 57515.5416289,306081.982218 L 57508.7098615,306082.181402 L 57482.3496644,306069.900203 L 57457.9522223,306061.540347 L 57434.5529449,306057.145678 L 57419.1994557,306059.626338 L 57403.1324992,306066.038569 L 57368.0068055,306085.014989 L 57357.3718908,306096.416184 L 57351.7373184,306106.587311 L 57348.7285609,306115.636372 L 57343.1257946,306142.85063 L 57339.2634215,306173.99621 L 57336.4654924,306186.043558 L 57335.2595598,306197.127261 L 57328.90313,306227.383704 L 57327.7832161,306240.357339 L 57310.4010301,306310.997553 L 57278.7056088,306388.973357 L 57276.5184219,306398.096498 L 57277.793346,306426.111926 L 57285.4729575,306442.918442 L 57298.1069728,306457.494268 L 57306.8320441,306461.330537 L 57323.2164269,306461.921845 L 57361.5569008,306454.830145 L 57388.9851025,306453.025388 L 57399.4453614,306455.780241 L 57420.5141328,306466.184963 L 57442.7007277,306481.552023 L 57465.6461302,306493.988193 L 57518.0611539,306513.551045 L 57536.2596231,306518.070947 L 57566.3804467,306518.261245 L 57616.9782193,306515.849962 L 57622.9023378,306513.68688 L 57623.4456712,306507.646476 L 57608.1819337,306494.080746 L 57553.9670885,306490.529407 L 57542.6166114,306487.814753 L 57524.1214589,306478.406615 L 57497.63339,306460.004178 L 57469.7929247,306434.756408 L 57462.2958698,306421.951869 L 57455.4903638,306403.100163 L 57457.3811788,306389.088891 L 57461.2752433,306379.888222 L 57466.2348691,306377.768846 L 57477.679363,306400.531498 L 57497.8891837,306428.020108 L 57508.6795989,306439.672325 L 57530.0548932,306455.188002 L 57552.9041508,306465.512245 L 57584.975966,306472.632303 L 57605.9129099,306480.147215 L 57632.4983759,306497.431673 L 57644.846833,306504.11162 L 57654.3659464,306505.795672 L 57671.2025402,306498.346473 L 57695.0355606,306492.696072 L 57713.2773083,306480.170076 L 57737.8170314,306452.43019 L 57755.6165584,306426.890424 L 57764.2939931,306411.679826 L 57768.7774721,306397.439553 L 57773.6583448,306390.310948 L 57820.8877907,306371.010101 L 57843.1586984,306360.418239 L 57832.5200803,306389.75436 L 57845.948139,306392.375254 L 57854.3952323,306390.097869 L 57879.3902991,306372.364152 L 57908.8744475,306340.501575 L 57920.2524139,306324.166055 L 57925.3228687,306313.018542 L 57936.7872989,306293.671299 L 57936.540037,306288.223849 L 57950.7556783,306291.811869 L 57956.580399,306277.622318 L 57965.424329,306203.807382 L 57986.2299382,306146.15987 L 58010.8334068,306091.904992 L 58041.3001826,306032.482596 L 58056.9909612,306007.930888 L 58069.6647182,305984.073102 L 58097.0405826,305941.724299 L 58111.1454171,305924.819995 L 58162.6007017,305836.262098 L 58202.4384651,305762.045207 L 58218.6142937,305712.072678 L 58224.5927633,305666.795702 L 58220.8659896,305617.391248 L 58209.7168421,305566.65225 L 58198.3647099,305527.842361 L 58198.4927063,305491.297068 L 58218.3146291,305439.711132 L 58245.847185,305402.369326 L 58267.2441819,305382.238653 L 58299.911693,305318.708094 L 58314.3835174,305250.766364 L 58314.570231,305236.832824 L 58323.3184332,305231.31203 L 58335.6665546,305223.177342 L 58348.3807457,305214.914699 L 58355.3038703,305210.145045 L 58377.4481382,305194.994054 L 58386.5611802,305187.674433 L 58397.7106594,305177.700379 L 58402.8174659,305172.233254 L 58408.7141584,305164.502349 L 58414.0712221,305156.35029 L 58433.3171841,305123.172543 L 58448.1193629,305095.320528 L 58454.1909535,305083.237148 L 58464.3430321,305062.725383 L 58476.9190509,305034.974272 L 58479.0121026,305028.641086 L 58481.8799906,305019.710611 L 58486.1893927,305006.481662 L 58490.8007201,304993.350449 L 58491.1265064,304992.333097 L 58494.0649031,304984.959044 L 58497.8725049,304975.429037 L 58500.8423981,304970.392969 L 58504.3519513,304965.778073 L 58508.3910993,304961.362005 L 58517.2719837,304953.83035 L 58522.9892333,304950.34093 L 58529.0335555,304947.505112 L 58539.0504169,304943.709679 L 58547.751498,304940.419423 L 58566.5399269,304934.890211 L 58590.9337328,304928.327584 L 58650.0617235,304913.620789 L 58673.7034489,304906.869758 L 58701.2033561,304898.273299 L 58741.4715187,304885.868872 L 58754.7680999,304880.588702 L 58772.8474943,304872.530072 L 58779.8065737,304868.53917 L 58789.3772083,304863.093384 L 58805.5107462,304853.117663 L 58834.2846633,304833.212903 L 58840.0311936,304828.719905 L 58846.8558384,304823.398375 L 58851.1431331,304819.52836 L 58858.7239018,304812.835866 L 58873.1823388,304798.702898 L 58876.369507,304785.302267 L 58879.030586,304776.715605 L 58881.1671099,304768.041256 L 58882.6356617,304759.397103 L 58883.3620183,304750.786499 L 58882.6318319,304718.179418 L 58882.5765547,304716.956521 L 58881.4671439,304694.058349 L 58881.6813548,304667.535561 L 58882.3714081,304656.475809 L 58883.9571499,304645.486972 L 58886.4737601,304635.347258 L 58889.7376241,304625.28517 L 58897.3396742,304605.892243 L 58906.3771291,304586.991454 L 58911.5468693,304577.957242 L 58917.1820594,304569.3476 L 58923.0059062,304561.620635 L 58936.0398984,304547.218074 L 58943.0173282,304540.330199 L 58958.0163851,304526.618695 L 58962.9569338,304522.385075 L 58966.1122374,304519.791716 L 58974.5993174,304513.39267 L 58988.6219057,304504.404153 L 59004.9164414,304496.315628 L 59014.3807693,304493.437278 L 59028.5004999,304496.475607 L 59041.3835251,304500.126829 L 59045.4618883,304501.502197 L 59053.2424705,304504.158533 L 59067.3331151,304508.200861 L 59074.4546159,304509.438802 L 59081.3925197,304509.905249 L 59095.3464779,304509.275049 L 59099.4828936,304508.642647 L 59111.6142507,304505.532616 L 59125.5359391,304500.893579 L 59142.9841561,304493.644561 L 59154.1786358,304487.903349 L 59168.1524107,304479.4745 L 59174.6267451,304474.614835 L 59180.2745921,304469.569693 L 59185.3777887,304463.992151 L 59188.4970282,304458.949775 L 59193.2851207,304448.039311 L 59196.02322,304442.791348 L 59200.6158724,304435.788683 L 59205.7431614,304429.096085 L 59213.7982375,304419.709156 L 59218.9316239,304414.798682 L 59223.0319423,304411.717227 L 59229.4282045,304408.420745 L 59255.2090036,304399.570619 L 59304.532092,304386.650495 L 59386.0408825,304366.708935 L 59407.8500036,304360.489462 L 59472.5093275,304339.638224 L 59494.4128988,304333.860431 L 59515.4759264,304329.234608 L 59575.737188,304318.051752 L 59610.3535219,304312.147006 L 59660.2945302,304304.660746 L 59761.0215935,304286.977949 L 59887.0084498,304263.703828 L 60049.2211391,304233.901141 L 60111.0577723,304222.98741 L 60233.2570545,304201.451073 L 60259.8979587,304196.80011 L 60356.9758555,304178.957963 L 60444.7665385,304162.982847 L 60593.8910818,304136.457527 L 60599.6408885,304135.308228 L 60668.3174715,304122.645482 L 60700.3226741,304116.53052 L 60721.6347637,304112.455089 L 60766.3224286,304103.877712 L 60795.1609402,304098.462346 L 60831.8371605,304090.356272 L 60849.0269838,304085.575049 L 60899.9479463,304070.035426 L 60933.5008125,304058.616795 L 60942.8624713,304055.078001 L 61006.0893368,304033.640684 L 61147.1620135,303988.331068 L 61347.1907671,303924.122282 L 61732.7665204,303802.61207 L 61760.7750954,303793.56283 L 61779.0351572,303787.734164 L 61836.0372624,303768.366964 L 61892.8515327,303748.117595 L 61964.1209005,303721.765095 L 61976.9425528,303715.73433 L 61994.5742274,303707.483766 L 62015.60079,303698.636142 L 62028.5265481,303693.26922 L 62040.8683925,303688.151181 L 62066.0025001,303678.00648 L 62109.1102344,303660.599001 L 62125.8417021,303653.837165 L 62143.577749,303646.250802 L 62148.4670444,303644.138969 L 62169.5732371,303635.399791 L 62178.0255873,303631.458126 L 62198.3647385,303622.196308 L 62214.7943727,303613.665907 L 62226.4238065,303607.577524 L 62249.4549533,303593.628684 L 62272.1941054,303578.13345 L 62277.0339287,303574.910002 L 62303.1234424,303556.146482 L 62386.3416887,303494.066421 L 62406.0529054,303480.711826 L 62436.6864777,303462.08066 L 62440.4575435,303459.907534 L 62452.2904053,303453.365016 L 62499.587606,303431.429696 L 62536.7050082,303413.067239 L 62591.5105043,303386.008385 L 62602.2598362,303380.182817 L 62614.9888007,303372.041253 L 62639.8182949,303355.006446 L 62646.0393027,303351.053488 L 62669.7059345,303336.298465 L 62682.1084442,303329.17414 L 62678.9311105,303324.637062 L 62669.8692496,303314.903674 L 62663.0295218,303299.947277 L 62658.011062,303289.142752 L 62652.5916936,303274.345918 L 62647.5088354,303255.412551 L 62646.7367244,303241.411363 L 62640.0948425,303227.560109 L 62615.9771396,303205.46409 L 62606.9892532,303197.398388 L 62591.0921671,303187.858062 L 62590.4832766,303175.854686 L 62586.0435245,303152.993947 L 62586.8153858,303131.906219 L 62588.775198,303120.791002 L 62600.4999123,303093.423116 L 62607.6466849,303081.854168 L 62625.7661699,303052.753515 L 62626.3006961,303049.722097 L 62628.7951619,303035.57548 L 62628.9485791,303020.641944 L 62630.3740021,303012.558164 L 62634.9225124,302999.434041 L 62659.2045146,302966.717388 L 62675.1617558,302939.161311 L 62688.8521877,302920.840428 L 62696.8757066,302890.518548 L 62703.3847564,302861.266629 L 62712.4824541,302835.018528 L 62721.3027985,302822.595542 L 62726.9702143,302814.545817 L 62732.6178953,302804.380508 L 62755.2530892,302774.745282 L 62765.1377343,302764.502885 L 62792.3324378,302718.624379 L 62810.0184883,302693.108356 L 62837.8567019,302663.353476 L 62845.4653378,302642.073192 L 62850.9213732,302610.863303 L 62856.0205228,302591.699727 L 62867.5846305,302562.334681 L 62887.3660557,302523.692828 L 62934.6762171,302448.292813 L 62942.8403739,302421.084209 L 62945.3661878,302400.921236 L 62951.4458709,302383.719272 L 62959.4606643,302371.555358 L 62970.5796355,302352.235736 L 62974.4803921,302349.611706 L 62983.5243933,302343.862857 L 63004.3596899,302332.243103 L 63051.8114109,302316.8786 L 63105.7930891,302294.429465 L 63158.7903335,302269.908145 L 63192.7936561,302254.919454 L 63224.5397987,302241.033739 L 63235.4651596,302235.758743 L 63250.950303,302224.266134 L 63254.2523226,302221.557505 L 63274.7031538,302204.609065 L 63296.2375966,302191.956896 L 63321.0899391,302170.246179 L 63341.4429436,302147.732751 L 63349.4838265,302134.454404 L 63352.4553686,302124.297244 L 63362.0904,302110.057035 L 63373.5519485,302096.738318 L 63424.7613347,302033.534682 L 63460.6724495,301989.389857 L 63473.5943484,301978.791395 L 63552.6466643,301914.242742 L 63598.490814,301891.045663 L 63661.7276051,301859.057873 L 63716.2320583,301829.797009 L 63718.2327639,301826.25522 L 63835.1254879,301618.12192 L 63874.0191662,301548.78511 L 63890.7233676,301564.754099 L 63909.3211483,301551.232068 L 63930.429513,301535.59392 L 63957.3794784,301520.811177 L 63958.1126764,301518.885076 L 63965.7220438,301499.166227 L 63969.6605078,301488.966714 L 63984.1891583,301475.959252 L 63998.7473977,301463.618867 L 64011.8012638,301449.228678 L 64020.9966949,301441.804112 L 64039.1845235,301427.409579 L 64053.5138849,301419.980675 L 64064.4858153,301415.707912 L 64127.2961328,301378.954996 L 64159.3605426,301367.066011 L 64212.8873021,301352.557266 L 64258.6909432,301323.241393 L 64306.6027806,301297.84279 L 64348.2276413,301286.75764 L 64366.4953569,301274.142968 L 64407.2221524,301241.042709 L 64467.4235671,301187.25507 L 64513.8545842,301155.240386 L 64524.7260786,301143.621275 L 64538.4823392,301123.186385 L 64546.2373319,301105.021553 L 64548.3947919,301094.901195 L 64547.6677486,301066.640268 L 64547.6683786,301064.969392 L 64547.3260063,301053.845522 L 64558.2766537,301017.048894 L 64559.7903338,301007.513922 L 64562.7948952,300996.353665 L 64565.8325547,300989.313374 L 64589.3001495,300925.898985 L 64596.7494067,300905.854135 L 64605.8172413,300887.074525 L 64621.2686094,300864.560074 L 64635.0099422,300847.133689 L 64651.5764698,300834.706579 L 64663.7045557,300827.933494 L 64695.3049725,300810.498856 L 64717.1728846,300801.848047 L 64766.5701482,300791.425867 L 64845.1497097,300781.276547 L 64930.1120855,300758.928287 L 64941.9770974,300754.617993 L 64965.2834449,300741.449201 L 64972.0386099,300737.69838 L 65000.8774279,300709.916696 L 65017.470376,300696.375687 L 65035.0918177,300685.908304 L 65057.3458938,300679.24686 L 65062.8257524,300692.14931 L 65067.4910034,300700.075152 L 65069.5493821,300702.880573 L 65103.2593567,300750.183763 L 65110.4357813,300755.994002 L 65116.0149705,300757.641832 L 65119.1881539,300758.727324 L 65127.8221726,300760.463371 L 65135.6008589,300759.675164 L 65155.2332536,300757.696513 L 65168.0035,300755.351828 L 65180.6929974,300746.104621 L 65197.9244336,300733.538539 L 65234.8696623,300695.487542 L 65254.6340037,300677.909025 L 65283.1370596,300661.059768 L 65295.8635116,300657.71482 L 65304.260977,300657.456559 L 65308.6478327,300657.374847 L 65322.6481001,300660.991372 L 65329.6620331,300664.804034 L 65336.9263769,300672.615671 L 65344.4989561,300687.431229 L 65325.4330591,300703.976178 L 65292.7117665,300739.946994 L 65280.6764531,300757.296511 L 65270.6275411,300782.578593 L 65267.7789429,300795.625097 L 65267.128003,300819.713718 L 65270.4322211,300835.608218 L 65276.9373975,300846.46069 L 65300.7790349,300880.944079 L 65373.5294015,300948.028108 L 65422.1131931,300976.633357 L 65442.248679,300986.106516 L 65456.2920793,300990.723898 L 65483.8478932,300992.964649 L 65527.5493682,300985.027348 L 65529.024912,300984.739671 L 65557.0318599,300976.935984 L 65585.3077522,300975.246968 L 65587.0901428,300975.16859 L 65610.4215879,300979.489313 L 65635.8921819,300991.847419 L 65645.6807591,300999.54841 L 65670.2349704,301046.922822 L 65679.4401095,301061.666961 L 65689.3653452,301072.480875 L 65699.956938,301078.14166 L 65736.7121964,301086.55113 L 65739.043719,301087.116991 L 65748.6561118,301090.81591 L 65759.3843993,301099.589655 L 65763.2568803,301106.436927 L 65766.1824736,301115.442182 L 65772.8046454,301127.292476 L 65778.9216474,301131.033649 L 65783.9608514,301132.260264 L 65793.2452787,301204.700053 L 65795.7681328,301224.861815 L 65794.0382768,301278.626847 L 65793.5555088,301291.346295 L 65765.8627673,301416.31538 L 65765.4904926,301418.002562 L 65744.5377742,301481.30079 L 65729.9194542,301488.960778 L 65722.4691701,301497.196823 L 65718.5393724,301504.275634 L 65715.7343167,301518.322462 L 65717.2422886,301608.480621 L 65713.4582561,301620.565506 L 65698.7066584,301637.031138 L 65698.9813036,301641.585982 L 65699.6166798,301656.038522 L 65702.7435333,301667.930988 L 65720.4671197,301700.456922 L 65729.1535185,301720.347731 L 65734.1201345,301735.166817 L 65735.043772,301756.17859 L 65724.5605541,301788.496461 L 65719.7399322,301795.614452 L 65715.9032492,301804.805569 L 65715.8479385,301823.855394 L 65718.9307222,301834.747307 L 65721.7935651,301840.636417 L 65733.5573599,301854.376969 L 65746.0664977,301863.072308 L 65800.3965076,301868.592903 L 65816.1150415,301874.139858 L 65838.3806295,301891.540463 L 65847.7464095,301908.282686 L 65856.7604299,301917.020435 L 65874.4552559,301928.607043 L 65893.0937867,301943.048328 L 65904.9175575,301954.781568 L 65914.1345475,301971.530415 L 65918.0688665,301981.49389 L 65918.8600367,301999.503991 L 65915.9093696,302008.544653 L 65912.4819921,302011.814083 L 65891.1352255,302032.244808 L 65889.8533505,302040.321067 L 65892.1326237,302053.25333 L 65898.5475513,302062.105315 L 65893.7591253,302090.274094 L 65894.0716451,302114.320185 L 65899.7137091,302124.208616 L 65932.952441,302157.724227 L 65937.464095,302162.204333 L 65942.5834004,302168.662733 L 65951.1845855,302179.869262 L 65955.9306092,302189.685709 L 65958.0524467,302200.731306 L 65962.9469453,302210.541235 L 65975.0700899,302217.248963 L 65978.4152127,302218.884245 L 65988.3118348,302224.018973 L 65991.5875824,302225.768697 L 66033.84094,302247.750107 L 66035.2164857,302248.580807 L 66041.3976954,302250.425748 L 66068.8455811,302248.663603 L 66102.8354293,302241.71333 L 66113.9826184,302241.44675 L 66124.4887472,302245.218292 L 66128.2555885,302253.072859 L 66129.4278583,302278.083643 L 66127.487963,302293.206144 L 66128.7282267,302304.513252 L 66129.0377691,302308.17546 L 66144.2726355,302324.771818 L 66160.1077282,302331.316972 L 66167.0664966,302332.236809 L 66185.9928132,302334.6364 L 66229.099642,302335.418032 L 66244.8538242,302336.731744 L 66264.2705451,302338.441748 L 66284.1094428,302337.905544 L 66294.640744,302340.562397 L 66299.1411176,302346.491288 L 66303.1319951,302359.459945 L 66299.8671827,302371.521627 L 66286.5540074,302391.932641 L 66275.8596464,302404.208895 L 66237.8842243,302437.286399 L 66217.0708503,302452.902886 L 66187.5260183,302484.831106 L 66168.3830063,302489.3471 L 66149.7356923,302484.818992 L 66138.1633589,302477.084281 L 66121.8015217,302458.532458 L 66115.7251289,302455.680356 L 66074.4313567,302453.817548 L 66063.2152131,302454.198653 L 66054.0836663,302461.394292 L 66034.790595,302492.984593 L 66019.1982687,302527.531308 L 66019.9980157,302547.434632 L 66017.9570537,302558.55168 L 66007.3092887,302585.418294 L 65988.5212115,302601.392307 L 65976.4447048,302600.808905 L 65958.0671902,302592.259614 L 65956.028387,302591.569464 L 65945.7796546,302588.566678 L 65936.4638506,302589.86706 L 65929.6860568,302593.060934 L 65922.3856288,302601.290245 L 65912.8911241,302620.532013 L 65912.0930571,302639.614455 L 65914.1523889,302647.543918 L 65918.9030747,302657.471501 L 65920.9184306,302664.400404 L 65923.9938192,302712.384964 L 65930.7597779,302729.24146 L 65935.3872945,302738.060582 L 65944.4928242,302748.910725 L 65954.9933149,302752.570754 L 65962.0454115,302753.931758 L 65972.4081461,302756.149824 L 65985.9906966,302753.770944 L 66013.9707068,302735.38815 L 66026.2883028,302729.611903 L 66042.4118588,302724.114087 L 66050.9107749,302722.849737 L 66062.3070286,302726.582011 L 66073.7168968,302732.318691 L 66091.2160649,302759.842821 L 66092.5068435,302785.850918 L 66096.3310255,302796.710405 L 66106.3709882,302808.522237 L 66128.3502532,302817.804907 L 66157.1576222,302830.12954 L 66158.7513016,302846.099428 L 66139.5031669,302878.689977 L 66137.6905479,302896.703006 L 66139.7104653,302903.743149 L 66143.476963,302911.597717 L 66152.563345,302920.332614 L 66163.8545818,302925.072157 L 66203.0598857,302937.051911 L 66228.1510389,302939.292287 L 66245.460509,302943.879245 L 66253.4801614,302948.651142 L 66271.2979945,302963.129371 L 66272.4658781,302971.098037 L 66270.3807795,302981.214426 L 66265.6485166,302990.333103 L 66259.8633398,302997.493011 L 66246.5583619,303007.879014 L 66229.7673338,303013.405601 L 66214.6455005,303024.762529 L 66200.216603,303028.18055 L 66156.1585817,303029.334898 L 66152.1496636,303029.510899 L 66133.3406912,303033.121392 L 66111.1236484,303033.651345 L 66095.1145838,303023.104138 L 66082.8144112,303017.406556 L 66079.6572982,303016.654096 L 66067.1870801,303013.860101 L 66026.2654943,303016.994073 L 66004.4233573,303044.68667 L 65996.403554,303056.846119 L 65990.1098371,303071.046127 L 65984.2420552,303093.247379 L 65979.4849816,303120.412313 L 65976.9560238,303128.877535 L 65983.6550334,303132.370418 L 65997.9780693,303140.095284 L 66003.4697114,303143.195677 L 66010.0397463,303147.139806 L 66030.6709331,303157.929284 L 66046.5100174,303145.983365 L 66059.7030093,303131.369012 L 66082.3518711,303103.418411 L 66094.3208975,303099.885317 L 66099.3202846,303098.551897 L 66122.2833265,303099.771329 L 66137.1639216,303110.033976 L 66140.2731836,303108.003866 L 66143.8864502,303107.288284 L 66152.8692742,303106.893898 L 66157.9007787,303109.680473 L 66159.8895408,303110.929816 L 66163.3571569,303113.673665 L 66173.3877654,303123.592385 L 66182.0419834,303134.351257 L 66185.982218,303141.084334 L 66189.7719016,303151.165659 L 66191.2016487,303160.013925 L 66191.1476785,303167.256506 L 66189.595355,303172.559879 L 66180.6054276,303184.650255 L 66158.9246332,303207.5455 L 66153.1994281,303214.368751 L 66124.724948,303251.931478 L 66104.6670731,303276.203751 L 66101.2805058,303278.69162 L 66098.2162987,303280.051454 L 66094.6129119,303280.989416 L 66091.2371164,303282.028774 L 66087.3963765,303282.643001 L 66082.7146289,303282.737225 L 66063.8548061,303281.783339 L 66044.4069538,303279.295911 L 66043.1361143,303285.923632 L 66039.323619,303305.806797 L 66038.052795,303312.43452 L 66037.3328903,303316.364728 L 66036.1118902,303322.433322 L 66035.1829514,303328.3777 L 66034.542171,303332.415821 L 66034.0801453,303335.443597 L 66032.6296045,303344.752532 L 66032.0982301,303347.894743 L 66029.8320797,303364.034186 L 66029.1668914,303367.51644 L 66027.8765664,303373.699472 L 66026.0021324,303388.596442 L 66025.8673371,303399.072852 L 66026.6165189,303404.275185 L 66029.3231407,303413.401503 L 66029.5995653,303414.614629 L 66032.8717278,303421.376952 L 66035.0079105,303424.290593 L 66043.4285706,303436.507553 L 66045.2140884,303438.21133 L 66050.3754562,303794.426825 L 66060.7333925,303801.657586 L 66066.4060756,303807.200579 L 66078.4683048,303819.368971 L 66083.3644813,303824.166369 L 66088.9726588,303829.934991 L 66108.2701386,303840.89453 L 66136.226954,303844.122215 L 66160.9676086,303838.468829 L 66185.5492337,303825.80509 L 66207.7918318,303810.682233 L 66220.7674805,303801.312919 L 66255.8914689,303801.776021 L 66288.9115848,303803.445554 L 66320.2968931,303800.063178 L 66345.1148589,303797.860248 L 66361.7084603,303787.88697 L 66381.7881543,303774.30778 L 66431.495284,303744.391689 L 66445.9939427,303737.518039 L 66503.4495236,303777.436925 L 66516.7159644,303778.080452 L 66515.5956438,303766.099725 L 66507.1824244,303752.322427 L 66501.5628569,303734.412682 L 66501.3603104,303726.401662 L 66506.1198716,303712.82645 L 66516.6120368,303695.992416 L 66563.563097,303645.591762 L 66585.0136827,303625.938351 L 66599.9785025,303611.024807 L 66612.1630328,303602.248084 L 66648.0168701,303600.676727 L 66780.8534836,303585.500392 L 66822.827324,303592.907212 L 66848.5090283,303595.124205 L 66880.0781101,303599.311282 L 66909.5333575,303604.482163 L 66924.7690862,303599.13695 L 66951.4925946,303584.378001 L 66977.2805438,303563.533861 L 66987.3701043,303557.85712 L 67007.8921784,303557.738748 L 67038.6375311,303558.398379 L 67065.6702287,303554.096817 L 67073.5523759,303548.962357 L 67089.6837615,303550.484393 L 67098.4346961,303548.208015 L 67114.1809117,303535.82365 L 67124.3533061,303532.037113 L 67132.9729929,303526.759096 L 67135.6907362,303519.177334 L 67136.0868595,303506.127787 L 67142.8563152,303487.452947 L 67152.1043348,303476.132616 L 67165.0760184,303468.325215 L 67171.2429703,303454.577772 L 67166.599742,303443.642177 L 67164.9379871,303410.74446 L 67166.650048,303392.068057 L 67190.09728,303366.983304 L 67204.273359,303350.992151 L 67227.8273559,303353.860881 L 67267.1805272,303347.239562 L 67286.6089124,303335.697274 L 67302.0297918,303310.741088 L 67313.2458391,303289.978618 L 67323.4971165,303238.627144 L 67329.5182396,303216.420954 L 67342.1909452,303200.050359 L 67365.9867608,303186.312607 L 67401.622418,303176.290392 L 67418.0884339,303163.318631 L 67434.4213506,303143.892351 L 67474.4196705,303107.727151 L 67505.941986,303081.845717 L 67530.9093485,303059.146705 L 67568.4106308,303039.019446 L 67616.1779712,303017.219133 L 67624.9104852,303014.498905 L 67683.5525478,302991.333501 L 67709.0355348,302985.543455 L 67734.5607236,302982.424936 L 67776.9106273,302976.233573 L 67794.1771096,302966.235503 L 67820.1260338,302948.95296 L 67840.1359334,302931.929516 L 67862.505815,302921.263599 L 67915.0431975,302913.292509 L 67949.4971101,302915.355028 L 67983.058242,302908.88001 L 67996.1454248,302907.084453 L 68012.3653476,302910.610283 L 68025.9225201,302924.722371 L 68031.9732176,302932.144295 L 68051.8792175,302936.623473 L 68074.5545304,302932.962358 L 68099.0777253,302922.203594 L 68139.4560437,302898.05652 L 68171.1066003,302876.74028 L 68191.2806858,302865.168872 L 68195.3414326,302852.516967 L 68192.7463647,302839.041024 L 68184.8721693,302818.777711 L 68181.4539906,302801.773299 L 68178.507382,302747.768622 L 68183.783608,302727.155475 L 68205.7984029,302701.469547 L 68232.8974449,302674.67131 L 68265.7796991,302645.727958 L 68282.7287873,302623.27026 L 68353.9608196,302578.178519 L 68360.8737354,302574.647593 L 68377.1109576,302566.589782 L 68402.8827538,302546.867426 L 68424.343696,302527.221326 L 68469.8104272,302501.964528 L 68505.514832,302469.447096 L 68541.6124906,302449.387844 L 68622.0192573,302391.091766 L 68633.6052497,302387.246724 L 68652.5464928,302383.193463 L 68667.6757684,302375.296084 L 68682.2492166,302373.437629 L 68709.9679239,302367.666586 L 68730.8631914,302355.509067 L 68758.0659286,302332.718968 L 68781.6192825,302311.535501 L 68804.2345972,302306.432131 L 68841.9488538,302294.435743 L 68885.8298575,302265.130214 L 68909.8880549,302262.415082 L 68944.4994362,302268.041304 L 68964.3072734,302268.518232 L 68976.7114933,302268.091299 L 68994.1490398,302263.658941 L 69007.8876357,302256.268406 L 69015.141138,302227.996454 L 69029.9798066,302206.523951 L 69062.5111475,302191.635247 L 69087.8926174,302183.405712 L 69106.0411459,302176.492454 L 69164.4645327,302170.283125 L 69189.9262121,302165.614842 L 69220.9799318,302149.231795 L 69243.3792975,302139.127371 L 69283.5040068,302132.932862 L 69305.9151473,302121.38021 L 69325.8407206,302102.249944 L 69350.7812332,302070.093444 L 69358.6616479,302040.792481 L 69382.8545141,302005.104307 L 69410.947194,301990.74419 L 69427.4459009,301981.787226 L 69460.8892002,301975.883464 L 69490.7821885,301967.014928 L 69517.2465716,301952.837262 L 69582.0505225,301932.433352 L 69660.7415332,301866.76498 L 69695.0959184,301833.757357 L 69719.9235918,301822.992996 L 69758.4899312,301821.993027 L 69793.8404126,301827.481174 L 69825.5770176,301821.653455 L 69843.7296031,301813.071794 L 69877.0203462,301803.612951 L 69891.3858875,301776.260252 L 69914.0055808,301747.102844 L 69969.6400517,301696.91552 L 70034.101634,301661.606742 L 70062.5724506,301659.374353 L 70097.007715,301657.441396 L 70159.9026029,301661.630843 L 70221.2332866,301636.483816 L 70340.4657899,301582.552853 L 70405.0843219,301554.258776 L 70457.8077311,301519.238704 L 70477.1520536,301491.673048 L 70474.3121864,301448.245559 L 70471.9591787,301424.734266 L 70511.6581666,301405.090141 L 70559.8444924,301387.308059 L 70606.2392796,301365.928055 L 70691.9824682,301315.00791 L 70713.5394131,301305.948433 L 70765.4133869,301302.934324 L 70783.7699807,301299.025084 L 70806.8268842,301283.329933 L 70858.1916498,301259.844631 L 70886.3822821,301247.60436 L 70926.0717158,301229.411676 L 70941.0939745,301227.539945 L 70987.3432395,301199.263943 L 71047.8436587,301142.530266 L 71068.7589748,301113.340049 L 71091.2585253,301077.733134 L 71135.2882607,301032.40145 L 71189.948365,301005.881841 L 71201.397788,300997.036144 L 71288.5661538,300994.626058 L 71348.710909,300984.913424 L 71376.6650352,300967.116947 L 71395.8204264,300931.543711 L 71423.2990054,300892.271699 L 71465.7891058,300852.57798 L 71501.9458757,300826.522049 L 71534.9560974,300808.62075 L 71554.3940374,300783.060169 L 71565.5709789,300762.643547 L 71584.9233425,300735.081944 L 71626.4294002,300717.484891 L 71703.8436142,300669.723303 L 71766.1194064,300615.929333 L 71797.0225317,300580.076715 L 71835.5909983,300582.432692 L 71872.1649268,300569.50417 L 71926.9603806,300549.446384 L 71967.89599,300513.276238 L 71998.1961451,300518.883468 L 72036.4904338,300507.887164 L 72061.4677842,300502.13939 L 72082.9630535,300491.528836 L 72090.8670053,300472.812912 L 72113.802146,300454.121588 L 72146.8125148,300432.660037 L 72170.0201812,300425.540626 L 72221.4090953,300404.072398 L 72246.0341242,300384.863818 L 72255.507188,300361.069013 L 72266.8321056,300345.77109 L 72288.0410475,300326.708911 L 72309.7514201,300321.102097 L 72347.6626014,300315.025045 L 72381.5507091,300310.568239 L 72389.6687698,300300.308385 L 72434.8671435,300297.595713 L 72450.0192549,300302.182526 L 72484.9573945,300289.216743 L 72514.9247478,300281.809806 L 72529.8719243,300276.381606 L 72539.1325197,300247.584473 L 72556.9969045,300225.102273 L 72583.281555,300206.38125 L 72606.2620794,300188.692572 L 72630.9005151,300171.490047 L 72652.61173,300165.884571 L 72677.2931395,300149.682824 L 72713.5373345,300127.195689 L 72745.0682494,300112.817876 L 72776.3192248,300091.880949 L 72802.7333403,300076.162695 L 72839.6701963,300078.595327 L 72871.05455,300060.771823 L 72905.7276427,300039.800971 L 72928.4313679,300012.10161 L 72949.7907487,299996.488424 L 72974.6239606,299987.298351 L 73011.1105466,299968.701122 L 73029.2132325,299955.23197 L 73052.1233826,299934.095598 L 73069.7853259,299905.052652 L 73084.0401986,299871.143117 L 73106.9035032,299848.89524 L 73119.576748,299821.513108 L 73130.6160055,299794.200678 L 73154.5971025,299775.469426 L 73178.8071578,299774.326015 L 73208.2158438,299745.005643 L 73221.0367246,299721.070173 L 73249.3783885,299713.848051 L 73298.1370213,299716.002806 L 73321.762308,299720.342372 L 73355.3601633,299719.468069 L 73393.64621,299706.365676 L 73451.6601661,299677.721915 L 73508.19812,299654.59904 L 73536.1779032,299635.365194 L 73587.010337,299588.317434 L 73621.7550065,299568.907575 L 73653.3714586,299556.42494 L 73669.6190818,299536.020285 L 73682.6985219,299525.106 L 73717.8012195,299517.598746 L 73749.4870355,299510.237007 L 73770.9058292,299494.179188 L 73825.6531747,299469.131069 L 73889.0951705,299454.294666 L 73917.2046991,299438.064483 L 73940.2051759,299418.933014 L 73964.6378066,299389.717034 L 73982.3168956,299362.681444 L 74003.8089826,299350.074109 L 74033.8570332,299342.672237 L 74059.1194885,299343.492758 L 74087.8014712,299347.732194 L 74107.9465072,299347.210972 L 74126.2531133,299340.196746 L 74144.4748101,299331.181438 L 74149.1756528,299320.958138 L 74142.1371671,299307.669181 L 74137.6046706,299265.761856 L 74140.3313188,299240.586743 L 74147.893547,299211.865119 L 74176.0238582,299196.080979 L 74214.253671,299181.539012 L 74270.0775911,299134.397652 L 74314.0943576,299086.087116 L 74336.6119975,299048.489757 L 74372.9389613,299025.899324 L 74402.418873,298998.030741 L 74430.2034565,298968.78634 L 74476.8346988,298954.001493 L 74510.1482017,298944.570553 L 74533.722382,298945.910346 L 74546.8178447,298933.549733 L 74561.3654669,298911.549436 L 74575.343651,298869.080457 L 74591.0328935,298830.103014 L 74631.3648002,298768.475177 L 74691.3426871,298689.198243 L 74758.3835287,298623.767553 L 74811.2291912,298588.675357 L 74877.325076,298548.345342 L 74928.7954399,298526.454621 L 75008.9653512,298509.142082 L 75050.5580798,298493.016163 L 75072.0557029,298480.413054 L 75129.3634632,298466.296336 L 75131.146536,298466.220972 L 75136.3518641,298466.112336 L 75249.9634139,298463.427686 L 75342.4207656,298474.446486 L 75423.7358005,298480.702595 L 75494.3357591,298492.312449 L 75544.8299567,298494.859303 L 75604.4291888,298506.823292 L 75623.7330262,298509.238812 L 75674.9204615,298515.878338 L 75708.1870566,298529.956288 L 75741.8767315,298557.604018 L 75757.5802264,298568.190579 L 75781.5808937,298565.508218 L 75844.86926,298550.255646 L 75884.3711866,298551.598115 L 75908.0180462,298533.450469 L 75949.4197509,298523.353399 L 76005.6828864,298493.252013 L 76029.2414065,298472.992571 L 76048.8257868,298467.935784 L 76077.4911208,298471.740613 L 76110.9773346,298492.828028 L 76142.0882747,298506.99917 L 76172.9031565,298510.602612 L 76192.5950965,298508.10334 L 76212.9213509,298529.522366 L 76228.5111326,298535.660075 L 76232.6974291,298529.024379 L 76229.7122311,298500.527455 L 76237.8260026,298475.795679 L 76276.2721676,298439.653068 L 76310.2128065,298397.240702 L 76325.0568111,298376.792264 L 76328.7275091,298352.581642 L 76352.6809134,298343.444207 L 76385.4158187,298336.053708 L 76453.0170628,298320.626845 L 76510.039488,298319.12127 L 76547.1866106,298313.996475 L 76568.6916167,298297.946474 L 76590.3092583,298286.346675 L 76600.8092481,298270.536384 L 76604.5555162,298246.322863 L 76612.9010132,298230.603104 L 76634.3224773,298212.55222 L 76688.5497454,298186.998409 L 76716.0741882,298151.206372 L 76726.6871983,298139.846451 L 76761.4561963,298125.913325 L 76778.7705766,298116.388261 L 76823.9568201,298084.644468 L 76854.7829041,298090.255916 L 76887.7159511,298089.319633 L 76903.2317142,298095.462315 L 76916.1814169,298086.566279 L 76915.5552091,298064.541171 L 76906.0351075,298036.318293 L 76887.5516468,298003.79389 L 76880.6954281,297992.94447 L 76888.9534869,297975.112834 L 76892.9164844,297959.577437 L 76879.4428088,297948.89426 L 76872.8060706,297945.051985 L 76870.0346717,297925.121547 L 76862.6972452,297899.257296 L 76853.270321,297875.039908 L 76848.4750355,297860.0947 L 76848.0495561,297844.632034 L 76858.5511749,297828.822276 L 76880.171203,297817.223661 L 76893.3273906,297816.783123 L 76902.094759,297814.633416 L 76908.2080663,297798.896476 L 76905.7588694,297788.419011 L 76892.4857094,297784.298229 L 76868.3976043,297784.974642 L 76852.4981831,297767.93377 L 76819.0064407,297746.7308 L 76807.340371,297720.602748 L 76782.4244145,297692.691973 L 76746.7075106,297671.694131 L 76684.8875756,297658.363212 L 76662.611821,297645.488488 L 76661.8070253,297617.456825 L 76664.8989122,297568.76932 L 76672.3240071,297520.456753 L 76696.9676347,297460.284288 L 76707.1369027,297429.453189 L 76712.9271555,297400.69923 L 76737.445181,297333.961428 L 76799.6700877,297284.129051 L 76819.1372227,297272.620697 L 76825.2510628,297256.88369 L 76827.2001877,297248.337758 L 76822.4931214,297235.504886 L 76819.9460144,297224.474695 L 76810.9435542,297215.72001 L 76778.514935,297234.120371 L 76762.8891496,297223.639016 L 76760.2199505,297206.154472 L 76751.3626762,297204.410128 L 76725.1221074,297207.070592 L 76716.2648198,297205.326303 L 76709.491479,297196.478203 L 76708.7807872,297172.451967 L 76699.6843881,297159.692037 L 76679.5521976,297144.722471 L 76654.6664405,297119.37231 L 76638.296117,297082.304902 L 76615.419527,297049.854169 L 76605.4565018,297004.053625 L 76590.8478035,296953.993333 L 76565.7119077,296915.623593 L 76553.8566384,296906.320831 L 76542.6367343,296913.919776 L 76495.9667771,297034.601471 L 76475.1716802,297147.402934 L 76451.65065,297142.15441 L 76450.9331077,297171.141032 L 76443.0487448,297217.357205 L 76442.1451826,297225.970746 L 76437.7699207,297244.085344 L 76437.2986578,297254.128545 L 76427.8247408,297294.397521 L 76406.9206669,297369.115107 L 76372.4713166,297449.191152 L 76359.774591,297469.437594 L 76344.4319083,297494.027419 L 76313.1018733,297527.865087 L 76288.1772695,297547.62354 L 76275.607499,297554.94579 L 76244.2388548,297564.840657 L 76233.9898212,297567.165052 L 76196.9942956,297567.162058 L 76153.0638322,297563.330342 L 76073.0538438,297563.578966 L 76043.8129829,297560.354909 L 76001.7914229,297543.524858 L 75951.2571129,297527.833171 L 75931.3036794,297522.436628 L 75912.3835778,297523.901691 L 75812.7775989,297546.696828 L 75737.731486,297558.769165 L 75682.3164992,297570.348981 L 75652.9871017,297579.158848 L 75620.3515229,297588.999269 L 75572.785986,297601.362908 L 75532.4567083,297603.509539 L 75505.4987728,297596.182506 L 75480.9452008,297585.858458 L 75469.5311551,297578.20987 L 75453.3162347,297562.633688 L 75441.5173964,297545.868833 L 75436.869817,297538.046133 L 75433.8366875,297526.14589 L 75433.3862856,297515.473125 L 75468.9136467,297512.414729 L 75463.6592458,297497.267023 L 75464.4867566,297499.236812 L 75469.993918,297508.025617 L 75484.3512556,297523.680227 L 75512.6655638,297541.975845 L 75533.5955306,297549.334465 L 75563.1543563,297556.55194 L 75595.9248872,297558.733729 L 75619.7390096,297555.056526 L 75664.2249481,297540.261589 L 75712.091713,297524.433528 L 75749.6742114,297515.387527 L 75826.9001002,297493.20007 L 75885.70669,297482.592593 L 75988.3781681,297470.695573 L 76007.9894562,297466.19464 L 76081.5459528,297438.151155 L 76113.8166984,297430.222159 L 76153.3718225,297429.114646 L 76205.917804,297430.690711 L 76257.4556407,297431.30731 L 76268.4802373,297427.948019 L 76285.0282296,297412.551122 L 76300.553725,297394.078876 L 76319.1188983,297366.457804 L 76324.637759,297354.309045 L 76356.3601697,297271.340327 L 76364.2362103,297232.029334 L 76366.5754607,297207.986201 L 76368.8398733,297199.872295 L 76372.3975518,297181.791997 L 76364.402396,297173.99796 L 76355.5350995,297170.249956 L 76347.7600161,297169.463075 L 76349.3668195,297168.727304 L 76349.9935593,297167.698617 L 76350.2431464,297163.010535 L 76349.9454399,297161.24111 L 76349.9347077,297155.673002 L 76351.1503435,297150.944311 L 76350.8989087,297148.504714 L 76350.9260261,297145.607923 L 76350.2053563,297142.631195 L 76348.5882751,297139.580776 L 76346.3860471,297136.777698 L 76343.6173652,297134.666659 L 76333.2637633,297130.981163 L 76335.162684,297128.339798 L 76336.1053672,297127.743314 L 76337.0849741,297126.254308 L 76336.8709215,297124.704109 L 76334.5761419,297123.24138 L 76330.516575,297122.298325 L 76326.5817937,297119.011232 L 76323.5719341,297118.246795 L 76321.8669687,297116.647903 L 76321.443998,297115.440602 L 76321.7636761,297112.420139 L 76322.3857447,297111.280275 L 76322.3062904,297109.390304 L 76321.3860364,297106.978825 L 76319.7179887,297104.487412 L 76319.2716477,297102.724236 L 76319.6193692,297100.370822 L 76320.5386869,297099.218462 L 76321.012133,297098.084846 L 76320.9139835,297095.750176 L 76319.9843797,297093.116347 L 76320.1507618,297089.990958 L 76326.0111382,297085.957969 L 76326.9814038,297084.246612 L 76326.9019517,297082.356642 L 76324.6721184,297080.668442 L 76320.4545479,297079.509292 L 76316.9244813,297078.766727 L 76309.4423127,297079.638142 L 76305.9594574,297081.789251 L 76304.0511833,297084.208276 L 76301.9709158,297086.077677 L 76296.5059624,297092.432863 L 76293.4133774,297095.013057 L 76291.0036266,297097.898657 L 76288.1386575,297100.580655 L 76286.109341,297101.891064 L 76284.8600609,297102.277706 L 76281.8646902,297103.628735 L 76284.7056809,297080.900911 L 76350.014915,296998.190784 L 76350.0918698,296953.973201 L 76315.5757634,296894.392708 L 76293.9380064,296831.263918 L 76293.0677529,296771.605543 L 76304.873781,296659.292579 L 76298.6961441,296641.621517 L 76277.4758055,296632.712951 L 76233.619261,296636.116111 L 76233.0047462,296579.008506 L 76267.5641655,296457.163205 L 76278.9907758,296383.623373 L 76300.2937924,296348.425585 L 76364.9426616,296299.378192 L 76449.4180125,296206.509605 L 76525.4404146,296174.694463 L 76548.6790172,296166.034099 L 76703.575246,296108.190679 L 76804.097635,296092.391144 L 76851.3531011,296113.128869 L 76888.5272947,296129.612089 L 76953.7470609,296127.768899 L 76963.1165924,296127.487539 L 76965.7873776,296125.482304 L 76995.8346149,296099.832944 L 77005.9742956,296091.278004 L 77084.1806117,295983.53624 L 77165.4681413,295906.627538 L 77227.9042064,295861.35872 L 77282.0922873,295837.818821 L 77336.6764307,295827.293119 L 77367.1970915,295820.002104 L 77391.4050992,295823.778176 L 77404.570483,295823.450146 L 77446.0127515,295813.809404 L 77478.8564799,295810.431128 L 77514.5068247,295831.436906 L 77522.4831628,295831.660232 L 77547.462056,295832.509121 L 77603.2539101,295784.960984 L 77671.7291192,295721.960033 L 77753.0326677,295645.171277 L 77859.9695907,295545.596711 L 77972.6310895,295493.896716 L 78043.8536457,295448.382366 L 78093.6583117,295424.922198 L 78156.9398895,295412.148725 L 78247.7705942,295363.5922 L 78319.2092511,295328.541144 L 78379.6335599,295291.83386 L 78433.4849789,295252.839546 L 78507.1049301,295218.257025 L 78574.2443103,295185.393017 L 78634.8656324,295155.139778 L 78688.747409,295118.596916 L 78768.6293974,295080.52787 L 78778.3405749,295075.892087 L 78792.2847469,295069.187068 L 78801.3407916,295064.91267 L 78825.8178297,295057.212965 L 78850.0757509,295053.197592 L 78862.3884528,295050.235687 L 78884.3204605,295038.632825 L 78902.7112397,295031.409172 L 78923.0780929,295017.978281 L 78945.6839997,295006.459034 L 78983.0982152,294971.383063 L 79012.3458865,294951.235659 L 79053.9451203,294923.670672 L 79086.6318272,294902.044454 L 79116.7501632,294877.740919 L 79137.8480889,294862.164552 L 79157.5480076,294845.198544 L 79187.7950797,294811.423932 L 79224.9423892,294777.029037 L 79248.5158555,294751.104685 L 79274.7899771,294722.061499 L 79299.7164465,294694.633495 L 79325.2142878,294668.406945 L 79332.6507492,294660.971028 L 79349.3828595,294644.240254 L 79390.3208771,294618.598663 L 79433.8116307,294602.429035 L 79483.6288297,294578.98144 L 79522.7378204,294564.887391 L 79575.2164774,294558.926149 L 79615.2292093,294564.84116 L 79626.4445764,294567.717492 L 79631.8637857,294576.290886 L 79642.1008429,294598.69679 L 79647.7825129,294613.607173 L 79661.4392174,294635.871445 L 79674.8096532,294653.024775 L 79686.9432178,294660.095077 L 79700.6807197,294664.537561 L 79711.6642813,294665.419061 L 79713.2130048,294661.457121 L 79710.3722769,294654.0019 L 79704.2920318,294649.242256 L 79692.2091205,294643.394843 L 79682.7090895,294638.77686 L 79676.3426368,294628.906273 L 79669.1583923,294619.069566 L 79660.9997762,294605.48679 L 79656.2924893,294594.322471 L 79653.7444392,294574.159448 L 79656.8510853,294566.457888 L 79659.9393204,294558.31163 L 79665.5684041,294552.176079 L 79674.8061123,294550.457062 L 79686.5254672,294547.521619 L 79709.9549998,294541.428456 L 79720.8566036,294538.526952 L 79733.6515875,294541.783542 L 79743.9695042,294546.367751 L 79752.9142299,294557.356675 L 79760.0983879,294567.193485 L 79764.9113537,294580.914909 L 79767.8579041,294590.927182 L 79767.3340321,294599.858122 L 79767.6976757,294608.640949 L 79763.0612454,294618.96719 L 79754.237938,294630.691821 L 79745.2075079,294637.41359 L 79734.5922056,294645.426027 L 79725.6677128,294654.704855 L 79721.8491671,294664.997268 L 79716.4220608,294677.806347 L 79717.5259573,294682.883453 L 79722.682503,294685.119949 L 79729.2910884,294681.059839 L 79735.6925118,294671.996861 L 79738.932022,294669.301302 L 79754.7275359,294662.299393 L 79768.5001995,294647.808422 L 79778.8768847,294632.233068 L 79792.4425686,294612.739284 L 79804.5915666,294580.608512 L 79811.5125786,294562.503518 L 79817.707188,294548.437765 L 79824.7150123,294534.226994 L 79831.4605774,294513.679256 L 79839.3100022,294498.208654 L 79846.2627374,294482.663814 L 79860.5054113,294479.512943 L 79874.0913366,294480.287077 L 79890.8111378,294475.808751 L 79909.4254935,294463.12241 L 79893.9749112,294420.886055 L 79881.1894626,294304.481454 L 79822.5740151,294266.59297 L 79817.5809632,294192.741603 L 79840.4510809,294149.698933 L 79995.8303483,293986.357129 L 80044.8926458,293953.480199 L 80146.9440873,293910.617976 L 80287.560408,293833.089385 L 80372.0884177,293796.857581 L 80383.7095287,293780.675384 L 80430.4662049,293738.765366 L 80453.7760289,293711.632622 L 80477.4980186,293643.946349 L 80486.3596206,293618.635047 L 80518.3186952,293582.682037 L 80557.0177796,293553.021685 L 80650.5584238,293523.884054 L 80684.4472493,293513.020794 L 80855.8961857,293458.513681 L 80989.1910809,293416.16233 L 81155.276526,293363.33317 L 81263.5493661,293328.254441 L 81380.5018455,293290.482454 L 81472.00458,293262.333536 L 81508.6318166,293247.353805 L 81527.9503038,293235.312562 L 81549.0496244,293228.543655 L 81598.7822469,293220.710278 L 81637.5762034,293211.321931 L 81658.3841695,293202.894967 L 81750.8077281,293177.162876 L 81772.8581972,293179.042062 L 81890.2545283,293133.801473 L 81923.5487138,293133.772406 L 81977.6398029,293134.115844 L 82005.24004,293135.10023 L 82028.8657685,293137.249918 L 82070.1139334,293151.372735 L 82082.6535963,293150.190673 L 82118.7932693,293159.62325 L 82161.4202328,293158.322267 L 82203.197348,293156.276879 L 82284.5692568,293166.196584 L 82303.0592346,293168.446308 L 82360.9546172,293148.926587 L 82371.4471577,293145.044915 L 82376.6175753,293142.160618 L 82408.8568043,293141.843459 L 82432.7508053,293145.097434 L 82450.9978991,293148.693911 L 82456.3321011,293149.811998 L 82462.939531,293151.100721 L 82479.0344507,293160.353408 L 82498.6288092,293169.574342 L 82511.8483893,293166.806351 L 82520.4150959,293165.008237 L 82515.3216037,293144.280651 L 82508.0796045,293114.732045 L 82514.0750019,293093.773599 L 82522.6081142,293067.477383 L 82541.4619552,293022.161745 L 82560.2960113,292983.64004 L 82576.2778901,292959.155196 L 82592.9327999,292925.622634 L 82609.4286294,292913.700702 L 82642.1383185,292888.42083 L 82709.6680886,292873.076902 L 82736.773527,292867.403456 L 82777.2101004,292859.849154 L 82805.8534533,292849.8815 L 82838.7845148,292837.288931 L 82872.8919272,292824.314441 L 82990.0238119,292788.685378 L 83052.7498568,292777.88478 L 83085.3988872,292769.314183 L 83119.9570301,292761.890864 L 83172.4210503,292751.510247 L 83228.8437713,292746.8708 L 83502.7813131,292742.389344 L 83602.0063171,292757.168918 L 83659.2643404,292762.076651 L 83710.0032408,292769.70012 L 83754.6919028,292797.058076 L 83755.7465793,292797.349247 L 83847.8531349,292829.460547 L 83922.8979468,292845.006177 L 83976.2464905,292865.554856 L 84059.5722339,292861.277803 L 84105.4089659,292850.952332 L 84168.610387,292831.681452 L 84204.6874693,292817.632885 L 84245.0679739,292827.017915 L 84265.0792323,292835.559677 L 84267.0982449,292833.918694 L 84271.1498125,292830.970257 L 84280.1092287,292824.147766 L 84301.3785016,292799.453688 L 84323.255222,292798.899886 L 84349.3276424,292791.605748 L 84378.0958083,292799.347126 L 84402.3163242,292805.157326 L 84422.1356552,292807.137256 L 84410.52283,292783.443551 L 84378.8737703,292748.758757 L 84375.8530515,292718.369064 L 84384.440943,292711.561833 L 84392.9521778,292702.86463 L 84399.485037,292621.530575 L 84416.158229,292590.007895 L 84434.9296603,292556.952511 L 84451.5221053,292523.428788 L 84457.7417448,292507.809075 L 84470.5374586,292496.377017 L 84470.045927,292476.90923 L 84479.4135379,292419.513855 L 84487.6345995,292401.80858 L 84509.2085133,292388.238954 L 84517.6979216,292378.986085 L 84539.7497367,292380.87601 L 84542.4720925,292400.253344 L 84559.7709574,292393.316008 L 84561.4364904,292373.760799 L 84572.1571051,292364.417574 L 84578.4087971,292353.251063 L 84569.4370872,292346.933229 L 84560.6501297,292345.173607 L 84569.1396871,292335.920819 L 84608.013195,292315.414336 L 84664.6862761,292300.311611 L 84704.0918972,292289.249696 L 84784.6721014,292279.527161 L 84830.6559732,292278.221959 L 84850.4834932,292282.207598 L 84851.1582117,292306.233571 L 84862.0952146,292305.902155 L 84885.908059,292294.247841 L 84907.6944821,292289.579831 L 84925.2616466,292291.095983 L 84940.6966531,292295.148343 L 84953.7637086,292290.387953 L 84971.2498736,292289.903085 L 84977.6889477,292285.188233 L 84983.9415005,292274.022195 L 84999.4508697,292278.071704 L 85010.5789144,292284.302944 L 85021.2194262,292272.95943 L 85038.6181053,292268.469439 L 85058.7128525,292280.908152 L 85078.2437368,292273.882172 L 85082.3462903,292264.807647 L 85073.449437,292258.486029 L 85068.6841669,292245.649937 L 85068.1968149,292228.075164 L 85096.1129825,292207.347221 L 85166.0165037,292198.841462 L 85233.9541158,292196.986102 L 85259.9248728,292185.246217 L 85279.0794221,292165.207382 L 85296.0483562,292142.695716 L 85310.8915373,292124.724282 L 85341.3650368,292117.479881 L 85356.8001208,292121.533369 L 85380.6146278,292109.881175 L 85397.8055189,292098.385232 L 85419.8643044,292102.282741 L 85425.2390796,292104.404191 L 85429.9964186,292105.993793 L 85432.6578398,292107.333963 L 85435.3801647,292108.337603 L 85453.2432841,292120.867787 L 85466.2258073,292113.996257 L 85459.7072073,292105.684967 L 85454.808783,292098.755905 L 85445.8294009,292088.539562 L 85460.9752481,292083.5851 L 85511.8100788,292097.234157 L 85518.3837645,292099.530009 L 85519.7712367,292091.456311 L 85513.4854433,292079.683504 L 85487.027723,292073.84744 L 85480.0211807,292058.985769 L 85492.7935792,292043.214248 L 85519.067438,292044.49214 L 85545.2188929,292037.200619 L 85562.7057503,292036.717586 L 85558.7926072,292052.354101 L 85543.9548787,292072.329023 L 85535.5685362,292086.030326 L 85546.7770398,292094.263763 L 85559.9455885,292093.843644 L 85575.4657818,292100.010057 L 85584.5480902,292112.783636 L 85597.8504752,292119.373674 L 85608.7634567,292116.594832 L 85608.3065998,292101.58011 L 85605.4558728,292077.085306 L 85613.853963,292061.82465 L 85637.1944681,292034.714129 L 85643.2519727,292014.982336 L 85625.6618939,292012.908079 L 85615.129268,292028.811615 L 85608.8008415,292039.979913 L 85595.8116175,292044.846944 L 85586.9150745,292038.524536 L 85583.9879877,292012.139753 L 85581.3485035,292002.112803 L 85611.2247082,291965.273137 L 85656.7298241,291946.511085 L 85682.5231283,291930.326159 L 85697.3617364,291910.351628 L 85699.2171394,291897.248081 L 85714.4731316,291896.855517 L 85754.4760516,291915.286548 L 85769.7256786,291912.889969 L 85767.1930792,291899.963379 L 85768.939239,291882.298658 L 85790.8191991,291881.750588 L 85815.0111031,291883.113819 L 85836.8865705,291882.45475 L 85861.1026465,291886.267038 L 85863.6395145,291899.304839 L 85870.5537712,291910.050452 L 85888.230931,291916.130792 L 85902.8910621,291891.709789 L 85922.3954961,291882.126734 L 85974.3666205,291861.102391 L 86015.9652421,291859.983607 L 86064.0848409,291856.152709 L 86088.3751814,291859.962964 L 86106.2660091,291875.055199 L 86126.35945,291887.497626 L 86141.9779122,291896.11144 L 86168.2459095,291895.388174 L 86170.4028007,291895.30136 L 86198.5094398,291881.030174 L 86196.0762465,291870.549293 L 86139.0774808,291872.175318 L 86123.4242054,291858.997316 L 86118.7416796,291848.161585 L 86133.6972619,291834.7536 L 86164.7285426,291846.867231 L 86202.222557,291854.823484 L 86232.6938356,291847.472741 L 86287.1781079,291837.040363 L 86322.2272176,291836.075939 L 86362.2258125,291841.482665 L 86500.1823836,291848.63094 L 86546.5653732,291860.909083 L 86592.5580018,291861.622322 L 86642.7242735,291851.255479 L 86691.0508733,291854.436935 L 86748.2623615,291861.827637 L 86761.3658835,291861.635642 L 86853.4147727,291860.947631 L 86910.6303308,291868.451125 L 86946.1279156,291882.394054 L 86987.7260601,291881.28234 L 87033.6084055,291875.544953 L 87062.0273443,291872.735163 L 87090.6348774,291876.487876 L 87104.0906531,292052.334126 L 87104.3031871,292055.777599 L 87183.1787507,292053.618383 L 87189.5745173,291967.841851 L 87188.3251417,291921.791172 L 87205.4160564,291905.850783 L 87244.7724466,291902.715015 L 87267.0243631,291915.186137 L 87313.2164143,291920.90807 L 87390.1263726,291927.293478 L 87514.7954992,291915.288254 L 87624.4420694,291918.807999 L 87687.9891345,291917.046253 L 87707.9751857,291925.044109 L 87697.3346396,291938.386569 L 87695.4646606,291949.374003 L 87702.5676058,291966.795254 L 87709.4316766,291980.105973 L 87701.5772302,292012.823949 L 87702.0519982,292030.287506 L 87724.5079749,292049.767424 L 87744.1166546,292042.747709 L 87761.3119824,292031.259031 L 87778.1362179,292006.756866 L 87777.7372297,291991.183303 L 87801.3743242,291974.98315 L 87807.4436344,291955.365068 L 87799.8201951,291930.50382 L 87813.6219303,291942.201148 L 87816.6008808,291970.143205 L 87819.2543374,291988.076448 L 87839.2354939,291995.963574 L 87854.2743053,291984.561371 L 87866.9742186,291968.687164 L 87870.9093204,291964.632572 L 87875.4915854,291959.99536 L 87881.6246536,291958.748155 L 87886.4978069,291957.662643 L 87891.3798445,291956.799488 L 87901.6512183,291954.718864 L 87927.6221503,291940.987168 L 87935.8543453,291923.287228 L 87946.4210714,291909.948202 L 87939.3576938,291899.094969 L 87935.0050959,291892.698962 L 87928.2547286,291885.953315 L 87938.7138383,291868.053088 L 87962.4484605,291852.406543 L 87988.6186182,291849.245779 L 88028.0830456,291850.676614 L 88076.6709224,291862.3221 L 88107.9877153,291885.458505 L 88120.7188972,291892.745135 L 88130.255323,291898.377631 L 88153.1613771,291934.766866 L 88164.7540383,291956.463562 L 88182.5079596,291964.55208 L 88186.4153188,291965.398362 L 88208.3685617,291972.317237 L 88209.293783,291935.756532 L 88213.5846352,291925.67494 L 88229.2500846,291898.213959 L 88231.993454,291890.421173 L 88240.8786753,291864.789637 L 88255.5721294,291835.36317 L 88270.5051736,291811.940255 L 88286.9820483,291795.471056 L 88350.0123943,291739.619906 L 88375.6991503,291722.449785 L 88385.9292688,291715.583549 L 88407.8514847,291703.01775 L 88415.2376175,291695.81951 L 88423.7708137,291672.540783 L 88423.708785,291670.984318 L 88422.6489251,291642.520273 L 88419.2136789,291623.61587 L 88409.0400525,291603.866489 L 88406.9261419,291593.817644 L 88408.8666623,291580.823397 L 88418.33248,291558.509683 L 88433.7876606,291535.066499 L 88448.0368246,291505.65838 L 88454.4489385,291483.355075 L 88460.6263422,291455.159447 L 88459.9997417,291426.344098 L 88459.4955133,291406.209375 L 88466.3395848,291362.954611 L 88469.9813795,291347.776927 L 88472.4851805,291322.734211 L 88475.5027922,291310.58792 L 88476.0021017,291302.550647 L 88481.4944451,291268.369331 L 88492.6177645,291224.053345 L 88501.9704025,291200.742188 L 88505.4131651,291180.561614 L 88504.6107373,291158.545793 L 88506.5862641,291144.548051 L 88513.8882812,291133.34467 L 88517.092039,291107.160601 L 88520.9325709,291095.092931 L 88528.0708609,291079.776059 L 88537.6674553,291062.579659 L 88649.7848076,290903.224811 L 88658.445205,290884.952408 L 88667.0155016,290860.670593 L 88668.2582365,290850.710792 L 88671.3562592,290840.565802 L 88671.2984536,290818.52038 L 88673.0259888,290796.403907 L 88678.7194128,290767.225776 L 88682.3667386,290752.159446 L 88692.9506685,290718.555342 L 88695.3234458,290710.777629 L 88701.4904677,290693.495365 L 88717.635875,290668.578195 L 88727.2020718,290648.710977 L 88728.5644254,290641.75295 L 88734.7211923,290620.462472 L 88735.3618045,290593.489803 L 88737.5948263,290565.340265 L 88736.9801,290529.286681 L 88738.4116824,290520.321571 L 88743.1069003,290509.11094 L 88752.0071404,290496.842221 L 88765.5632134,290483.608855 L 88775.1736638,290474.207077 L 88792.3844909,290451.69756 L 88802.6776321,290431.356201 L 88813.651757,290385.042809 L 88814.1465759,290375.001466 L 88824.160846,290302.669963 L 88832.2122029,290278.409172 L 88840.616529,290261.149525 L 88847.379865,290255.090315 L 88852.7783173,290250.310251 L 88869.6388728,290235.832296 L 88895.9330921,290228.105893 L 88904.2500064,290221.762298 L 88913.6365094,290208.583751 L 88917.925774,290198.391613 L 88920.7507385,290181.35388 L 88918.9086398,290159.379474 L 88909.8095641,290123.551857 L 88907.149054,290101.609983 L 88914.2236726,290073.379527 L 88921.334342,290059.177956 L 88931.4158556,290042.853996 L 88948.4928231,289996.298487 L 88951.030167,289970.141392 L 88952.0977435,289957.627595 L 88956.7290893,289948.535432 L 88957.2191596,289936.489993 L 88965.4052011,289906.21115 L 88977.2420911,289877.791594 L 88976.3328099,289856.782291 L 88973.564639,289850.879299 L 88960.9852805,289836.235329 L 88954.4374909,289823.356034 L 88953.1470776,289813.385675 L 88952.6648446,289799.374547 L 88955.6543913,289788.343308 L 88966.6435843,289762.963924 L 88973.3328658,289743.76839 L 88975.722855,289732.649637 L 88995.4547523,289689.106746 L 88997.6613586,289678.997457 L 89017.3987354,289637.458778 L 89021.4359356,289630.283274 L 89024.3071715,289618.143275 L 89022.2963826,289588.158279 L 89021.2931273,289585.414346 L 89004.8909868,289542.082097 L 88997.6792201,289508.740466 L 88997.8285758,289448.716146 L 88986.9833595,289413.959939 L 88987.6561667,289385.872668 L 88985.6503289,289357.891808 L 88977.0728006,289337.075798 L 88972.4738104,289328.23904 L 88939.2408513,289272.102056 L 88932.5334843,289255.220441 L 88928.7477647,289244.347071 L 88913.66123,289211.652457 L 88902.7123895,289194.939408 L 88890.5922338,289171.257782 L 88885.6800121,289156.420546 L 88887.3709818,289148.336043 L 88884.8949813,289140.417135 L 88881.6653363,289130.4125 L 88880.4236022,289110.418587 L 88884.9710327,289097.321105 L 88898.0190143,289084.331243 L 88909.890417,289073.615193 L 88920.5396796,289060.275297 L 88928.4704258,289046.041272 L 88932.3136675,289033.973981 L 88933.3839908,289015.892538 L 88934.6286182,289007.825792 L 88935.0680181,288975.739149 L 88934.113965,288951.725164 L 88929.8694848,288906.796503 L 88926.6289752,288890.890655 L 88926.7952376,288853.804058 L 88931.3285586,288812.201268 L 88931.2158559,288790.603592 L 88922.9952742,288778.792888 L 88892.2374007,288760.639809 L 88883.2032312,288750.865805 L 88877.5119402,288737.061682 L 88873.0955147,288714.076091 L 88870.1911493,288684.126633 L 88851.6884092,288638.651079 L 88823.3278922,288583.323017 L 88818.3363233,288568.377611 L 88815.3793568,288538.987012 L 88810.5933214,288523.588036 L 88807.8823668,288496.637392 L 88807.433506,288466.590354 L 88803.5727716,288455.720011 L 88796.2047749,288442.873395 L 88782.6330825,288405.219303 L 88770.5906585,288383.53905 L 88760.7319935,288371.793638 L 88752.6696464,288363.985482 L 88743.3164522,288346.207022 L 88739.6544301,288340.339627 L 88736.6872738,288331.326768 L 88735.5740643,288316.449928 L 88734.879308,288308.348892 L 88738.2852613,288285.275087 L 88747.2023283,288248.954083 L 88749.3608922,288226.375287 L 88751.2355855,288217.281299 L 88748.4425211,288193.897179 L 88743.0245062,288186.986067 L 88733.3297313,288181.247141 L 88707.3621191,288174.93033 L 88700.2323072,288168.087313 L 88696.3763717,288159.221156 L 88691.1050043,288135.37883 L 88689.9282863,288126.406148 L 88688.0008063,288100.42654 L 88691.561504,288081.243862 L 88693.3550806,288077.609302 L 88703.4563298,288057.943883 L 88721.4540903,288034.401314 L 88726.9705269,288023.158223 L 88726.3738777,288008.149502 L 88722.5930387,288001.173314 L 88711.8333274,287981.780513 L 88545.5669149,287988.392966 L 88046.7679043,288008.259362 L 87880.5016432,288014.891174 L 87866.7575867,288012.321723 L 87825.3109279,288004.844827 L 87811.3967856,288003.618526 L 87668.4410222,287966.789338 L 87650.816622,287962.259657 L 87648.784914,287961.784041 L 87164.4494248,287918.568748 L 87002.2547547,287904.128396 L 86954.0386159,287898.933165 L 86809.1706777,287883.470018 L 86760.8841057,287878.390561 L 86736.9112428,287875.45441 L 86664.9180367,287866.649538 L 86640.8750794,287863.827946 L 86536.1110622,287850.214894 L 86482.7523248,287843.225571 L 86057.3174715,287787.938919 L 86011.9451792,287757.13677 L 85865.8109072,287658.56549 L 85842.2088273,287640.80779 L 85771.2528439,287587.541242 L 85747.5802215,287569.898088 L 85731.8302924,287554.608495 L 85709.7003705,287543.807395 L 85589.7804617,287485.499686 L 85557.3909019,287469.878833 L 85549.8562147,287466.062325 L 85517.8154358,287444.303057 L 85494.7476059,287428.752233 L 85421.6961041,287379.137462 L 85389.5843891,287357.493059 L 85380.0675022,287350.750084 L 85370.2483685,287343.907956 L 85354.5703458,287323.048589 L 85346.6173984,287312.567837 L 85307.67466,287263.917155 L 85190.7816769,287118.303118 L 85151.7664617,287069.767602 L 85133.6016937,287046.447925 L 85087.4595346,286987.621644 L 85078.3550385,286978.189902 L 85058.6732325,286957.938297 L 85044.4684659,286936.686075 L 85019.5585462,286899.608194 L 85001.7791329,286872.93261 L 84987.5040202,286851.7947 L 84934.2415936,286757.066213 L 84866.3005723,286690.324956 L 84454.7035195,286287.045354 L 84388.9352148,286222.670908 L 84306.560103,286192.042775 L 84251.8405757,286172.210557 L 84087.6930674,286113.050491 L 84032.9064757,286093.445685 L 83962.6855118,286066.560988 L 83873.1017062,286033.001764 L 83797.5297942,286004.777091 L 83393.3612414,285853.378873 L 83233.4202856,285793.625479 L 83224.7739644,285790.079703 L 83198.6115632,285779.451541 L 83189.8952637,285776.020021 L 83110.7826268,285785.58724 L 82873.4594163,285814.629027 L 82794.2775997,285824.314859 L 82637.643253,285845.846508 L 82364.0655023,285883.738356 L 82177.96862,285773.744772 L 82029.4754083,285686.161338 L 81937.4628812,285632.017329 L 81917.0547554,285619.934417 L 81579.5488722,285421.164388 L 81467.0430955,285354.949028 L 81374.2340071,285299.843688 L 81305.2805933,285259.017752 L 81082.6572875,285226.948947 L 80983.9922329,285212.848265 L 80966.2724381,285210.012457 L 80912.8986651,285201.736884 L 80895.1088879,285199.015527 L 80842.0601349,285191.395415 L 80682.9219645,285168.760344 L 80629.8071902,285161.367588 L 80608.9457097,285158.32799 L 80546.2820631,285149.101536 L 80525.350581,285146.176478 L 80503.9585518,285142.936359 L 80439.6425061,285133.444955 L 80418.1850458,285130.430567 L 80352.9692582,285122.647591 L 80350.4236741,285122.418326 L 80279.994593,285129.327988 L 80157.9354122,285141.372888 L 80092.8590045,285147.841556 L 80028.8297962,285154.379153 L 79836.6728531,285174.110512 L 79772.5741427,285180.765238 L 79719.8651978,285185.057222 L 79561.7386209,285197.936098 L 79509.0344422,285202.341205 L 79494.7544936,285205.158639 L 79451.7795724,285213.950834 L 79437.4298011,285216.882664 L 79376.3617947,285222.859771 L 79370.4183623,285223.439626 L 79169.485841,285245.561071 L 79102.5116311,285253.010578 L 79022.8454654,285261.988745 L 78783.633798,285289.161548 L 78703.8984522,285298.258442 L 78522.8698507,285320.022982 L 78460.3040333,285327.631248 L 78269.9938417,285580.204698 L 78105.2168584,285798.871157 L 78052.3424176,285869.003163 L 77942.0504604,285862.343207 L 77737.2785344,285847.257425 L 77122.8832283,285802.158048 L 76918.0350186,285787.215679 L 76811.149731,285780.10075 L 76746.1839965,285785.489824 L 76562.6654636,285800.851212 L 76231.9751366,285828.509346 L 76166.9402034,285834.019316 L 76149.2516457,285835.540392 L 76060.5017773,285842.936735 L 75981.5572533,285849.366273 L 75470.7789906,285784.059375 L 75391.5140785,285774.027726 L 74426.1676126,285650.988531 L 74049.9779539,285603.178623 L 73828.8763793,285574.999572 L 73717.2749939,285560.790598 L 73700.9178656,285555.023613 L 73585.365053,285514.477811 L 73121.6231571,285351.824713 L 72986.3459767,285303.774522 L 72580.4346881,285159.868173 L 72445.0826812,285112.055972 L 72391.8880842,285094.495449 L 72273.9983898,285055.633336 L 72232.3021565,285041.816774 L 72179.106135,285024.258182 L 72053.3233864,284978.831417 L 71785.0177603,284882.240215 L 71693.9639484,284781.87903 L 71614.1964286,284694.290818 L 71588.8320712,284666.416283 L 71504.5043422,284573.455321 L 71284.8833404,284331.799755 L 71245.196483,284314.562615 L 71145.1494292,284271.28363 L 71078.9079882,284243.823104 L 71061.3649889,284236.666001 L 70892.4093478,284166.491168 L 70880.1843733,284161.557167 L 70813.9449937,284134.210792 L 70811.935646,284136.078871 L 70760.7458652,284127.356636 L 70740.1516791,284123.895208 L 70659.7621767,284147.721694 L 70602.1976666,284133.036967 L 70582.5096891,284128.089356 L 70548.9879619,284134.649831 L 70539.5023463,284141.405007 L 70529.9422695,284148.163394 L 70532.3233448,284154.966654 L 70538.705628,284173.292908 L 70541.3095458,284174.85191 L 70551.2878394,284181.329435 L 70617.1841738,284223.277883 L 70636.4006163,284255.533061 L 70638.2772353,284274.943529 L 70645.710942,284354.370553 L 70701.5968355,284530.177949 L 70713.8679072,284577.98952 L 70702.4114773,284667.581729 L 70681.615169,284716.81046 L 70666.9420576,284734.814124 L 70581.6716481,284839.488431 L 70526.9526264,284906.656342 L 70494.803906,284931.201679 L 70379.0115685,285019.925415 L 70330.2928462,285070.354191 L 70320.3201353,285090.050553 L 70309.3115728,285111.684822 L 70266.9413908,285195.254916 L 70253.1865201,285229.370142 L 70197.9598109,285366.174564 L 70267.8582084,285416.41105 L 70348.3128806,285415.407075 L 70375.6765877,285477.606151 L 70445.5768004,285527.955884 L 70446.4763712,285555.872954 L 70438.7739238,285560.658576 L 70393.7175315,285588.543189 L 70307.9517749,285703.825226 L 70285.443036,285719.939094 L 70221.3611254,285725.141597 L 70186.9740957,285706.125273 L 70147.7195814,285641.542054 L 70120.6767789,285614.636847 L 70063.0594135,285591.496058 L 70036.310259,285569.70196 L 70002.7655925,285568.58225 L 69924.7183793,285609.917905 L 69820.5776991,285644.692169 L 69811.8613864,285653.643292 L 69694.3356314,285774.311684 L 69671.5080607,285782.979484 L 69619.5785699,285772.406784 L 69617.8707204,285772.591702 L 69565.8039642,285779.623196 L 69489.6023085,285803.065164 L 69458.2241218,285791.608547 L 69406.2640418,285730.138959 L 69364.3531668,285711.451597 L 69329.557683,285684.772636 L 69323.8499876,285735.807472 L 69328.7869456,285798.412345 L 69352.2890987,285857.321048 L 69374.2677202,285896.470047 L 69378.6424328,285978.924609 L 69357.6094138,286067.26372 L 69342.0482761,286109.478924 L 69335.3664527,286132.711068 L 69326.9040752,286242.672872 L 69300.4880657,286308.189015 L 69298.2349252,286311.293411 L 69255.1614876,286371.068184 L 69176.1873935,286598.013254 L 69083.0039341,286742.707 L 68942.339085,286929.438657 L 68915.1030514,286963.694942 L 68891.2535,286972.744607 L 68880.1849063,286987.590817 L 68875.2739509,287037.923949 L 68855.1880531,287066.748188 L 68817.6120616,287068.817505 L 68789.0276527,287092.551677 L 68753.6243543,287155.229675 L 68738.2842169,287166.139812 L 68711.1839954,287168.98218 L 68638.2736227,287218.023746 L 68485.1054121,287309.96787 L 68466.760149,287327.246177 L 68436.7783325,287377.21726 L 68416.6599661,287406.935767 L 68364.9964048,287447.042057 L 68325.8270372,287503.53764 L 68304.4087255,287537.656782 L 68297.7799292,287548.190941 L 68283.5613137,287564.288775 L 68272.3050883,287573.01856 L 68245.4021469,287582.092083 L 68185.9902342,287587.896397 L 68141.5255827,287604.748488 L 68102.4025455,287627.829496 L 68070.3016736,287639.134073 L 68023.4973513,287646.732543 L 67968.2113314,287651.357833 L 67932.7109686,287651.338367 L 67868.5057012,287625.721614 L 67867.6392925,287628.098221 L 67875.233824,287662.185597 L 67915.2880989,287746.545706 L 67905.497756,287782.167023 L 67879.886407,287807.225293 L 67667.1874211,287901.554212 L 67578.0752195,287941.178623 L 67572.1957023,287944.886907 L 67571.1081559,287945.60245 L 67562.4411137,287969.25787 L 67559.3049524,287977.74779 L 67463.3724251,287881.004456 L 67415.7877739,287836.292329 L 67382.9515767,287811.767797 L 67339.8379203,287787.578954 L 67149.9716757,287695.25984 L 66962.6184753,287604.285077 L 66862.0150499,287558.210517 L 66619.4216819,287440.693316 L 66480.772723,287380.913174 L 66422.279111,287359.96354 L 66260.2083259,287308.784659 L 66196.9906902,287290.716699 L 66038.3868506,287237.053275 L 65979.2262734,287214.577682 L 65947.6704402,287200.808938 L 65860.7799231,287158.272473 L 65843.2990098,287149.123792 L 65645.2595234,287046.738261 L 65585.1847161,287015.395682 L 65428.0444848,286939.295597 L 65413.8365319,286931.67552 L 65404.0586265,286926.423248 L 65362.7355756,286902.615197 L 65361.3516394,286901.673371 L 65329.6636362,286881.564609 L 65301.1134257,286859.870472 L 65262.1813416,286824.262826 L 65220.7108788,286778.407852 L 65216.5957114,286773.018996 L 65177.3120216,286722.612994 L 65173.747191,286717.868345 L 65161.7267167,286729.533979 L 65125.4422373,286764.540839 L 65113.3475108,286776.209848 L 65086.8765348,286810.452433 L 65080.6187349,286841.246589 L 65106.0647731,287013.223645 L 65119.2158114,287307.930116 L 65073.1240956,287472.909518 L 65045.4249593,287535.16435 L 64998.0030803,287613.656245 L 64982.3663541,287653.327666 L 64959.1429819,287712.156427 L 64964.6026151,287892.584888 L 64954.3984909,287948.948674 L 64885.2434505,288053.792218 L 64852.937747,288070.470995 L 64606.4220091,288137.554244 L 64499.0171369,288183.045081 L 64402.9270533,288197.520127 L 64335.8273059,288233.555088 L 64293.8895783,288263.470711 L 64222.8065756,288266.600449 L 64044.7543995,288326.684618 L 63866.8830223,288333.300467 L 63819.0974614,288345.544246 L 63807.0666926,288388.959258 L 63805.4693807,288435.589879 L 63836.411949,288501.391977 L 63932.03721,288647.325852 L 64030.4051734,288742.235915 L 64056.0916422,288929.126208 L 64060.6080394,288962.232074 L 64078.2716171,288987.406931 L 64079.6298992,288989.463437 L 64258.657488,289065.451106 L 64317.4179024,289126.465743 L 64358.3162058,289188.267236 L 64577.8951581,289374.422866 L 64623.4789093,289425.883597 L 64634.9393257,289455.899578 L 64635.0023949,289465.810241 L 64635.2933223,289514.807699 L 64635.2803202,289519.59791 L 64592.4704014,289585.41704 L 64543.6220363,289630.89564 L 64382.5107643,289727.6534 L 64354.4187489,289726.328393 L 64236.7748465,289655.432071 L 64198.6893823,289657.444118 L 64178.8200269,289668.455857 L 64173.5860499,289722.263965 L 64170.0319322,289726.207758 L 64151.755224,289746.283231 L 64115.9603066,289742.736934 L 64047.9511529,289700.177174 L 63934.2496617,289603.827822 L 63910.9579706,289594.718824 L 63855.0818809,289597.406483 L 63810.4447592,289624.995265 L 63750.188518,289699.054404 L 63720.3175424,289713.182594 L 63476.2668767,289719.505496 L 63401.1972178,289748.442474 L 63386.62058,289764.458447 L 63380.9034367,289805.479514 L 63408.5287085,289855.274553 L 63481.5284702,289951.630039 L 63495.7909959,289984.193682 L 63500.2269029,290027.216535 L 63471.1492164,290059.24477 L 63251.9258138,290166.40242 L 63162.6397449,290160.327338 L 63143.3347628,290184.016387 L 63125.4169543,290294.639285 L 63088.1327695,290370.25208 L 63056.4500839,290402.286676 L 63001.2899111,290422.662567 L 62989.6600923,290446.235203 L 62986.0676111,290479.588419 L 62965.0876686,290519.281134 L 62962.6109972,290523.957798 L 62871.626961,290538.347205 L 62862.9945881,290543.742199 L 62849.3515409,290552.143964 L 62840.4789452,290580.718753 L 62840.9546194,290646.974711 L 62823.7107466,290688.50756 L 62822.5641546,290691.23173 L 62737.9029197,290789.331499 L 62669.2657095,290848.626702 L 62612.2180316,290881.789003 L 62549.057032,290948.528901 L 62539.8464167,290969.433397 L 62541.0449865,290996.448118 L 62538.3810558,290998.57134 L 62504.5651739,291019.342351 L 62497.3079638,291023.78584 L 62478.7814509,291031.291429 L 62447.2855845,291037.144891 L 62417.9688981,291034.993054 L 62386.759892,291022.12047 L 62376.7420059,291018.109588 L 62370.4743196,291011.258842 L 62363.9855869,290994.392744 L 62362.098907,290980.441268 L 62339.6913655,290976.089411 L 62315.5966161,290975.711242 L 62305.186511,290972.943192 L 62291.8508612,290966.406402 L 62272.6877598,290957.900638 L 62244.2728655,290957.603246 L 62235.5043866,290954.873789 L 62228.4325695,290950.063939 L 62213.9922611,290935.444845 L 62206.9503516,290929.631169 L 62190.3949472,290926.133804 L 62180.7132278,290926.341166 L 62174.9051838,290926.487826 L 62156.2752462,290929.988978 L 62136.5148221,290931.535387 L 62126.8979184,290929.846311 L 62112.1134865,290924.265426 L 62094.215575,290910.691396 L 62083.5801841,290889.4428 L 62076.3061114,290818.030163 L 62072.0832259,290800.172478 L 62066.5298649,290789.280187 L 62048.8964043,290763.218686 L 62033.1494732,290756.121272 L 62007.8398791,290746.887019 L 61992.7231783,290737.19969 L 61966.5236659,290707.954728 L 61958.5884101,290702.18104 L 61942.9200377,290698.533492 L 61920.1542817,290691.191522 L 61906.8132804,290679.531774 L 61892.2233963,290659.907414 L 61869.9052033,290642.520487 L 61848.7912608,290632.097733 L 61809.3281214,290633.184967 L 61798.7981799,290629.420575 L 61770.477856,290611.187135 L 61741.0694338,290607.037593 L 61724.3595452,290598.424333 L 61711.9503422,290587.614656 L 61697.4530271,290575.115675 L 61685.2860143,290571.424341 L 61637.2610304,290572.782437 L 61625.867859,290568.054248 L 61600.2002779,290550.817398 L 61572.8755522,290536.550634 L 61561.5713619,290533.823656 L 61553.8582234,290533.053223 L 61531.6454902,290541.505737 L 61523.3408838,290555.911 L 61524.2864841,290578.815637 L 61537.9106276,290598.482187 L 61603.4012468,290641.125088 L 61606.3721014,290644.223173 L 61667.4944977,290709.339591 L 61667.641901,290772.937761 L 61621.6770443,290884.148235 L 61625.4490885,290911.939655 L 61712.938897,290991.699985 L 61712.5914948,291042.510119 L 61710.3938737,291046.72944 L 61644.5016851,291172.416823 L 61651.1562466,291187.938181 L 61591.9543269,291227.779433 L 61587.0365428,291264.646448 L 61564.230288,291291.505206 L 61557.9261198,291298.915107 L 61533.6128881,291318.712038 L 61467.5422848,291299.711451 L 61365.6889325,291240.534401 L 61325.7444873,291217.363197 L 61281.1815786,291222.691888 L 61243.6817441,291200.860317 L 61220.2720733,291189.094212 L 61154.2384049,291155.94851 L 61104.2687353,291132.000665 L 61085.1239065,291122.272628 L 61048.2820595,291086.822933 L 61012.1240584,291043.322627 L 60932.6824544,291057.228625 L 60911.7023808,291059.836305 L 60835.2914015,291069.820993 L 60798.0963344,291049.872195 L 60766.6982408,291016.18603 L 60752.098676,290976.402551 L 60695.3835931,290933.376949 L 60682.5461442,290919.692301 L 60671.345559,290907.605422 L 60665.590766,290892.267544 L 60642.9203766,290853.736135 L 60597.4691377,290827.585293 L 60445.5915084,290783.804186 L 60372.0714625,290775.174109 L 60359.8544645,290773.71566 L 60338.7129148,290762.742539 L 60281.0965801,290733.016842 L 60223.5124506,290690.702706 L 60189.5292584,290685.986097 L 60136.9065421,290687.896887 L 60097.6866775,290662.807394 L 60092.8100598,290658.792836 L 59965.5346358,290555.328419 L 59923.0621958,290520.917212 L 59918.2188811,290510.997384 L 59903.0720561,290497.417769 L 59890.7688837,290490.728581 L 59882.6822278,290484.964358 L 59875.1591791,290470.151922 L 59850.7135799,290443.733304 L 59843.2801149,290430.921987 L 59827.6231033,290399.319487 L 59818.3297244,290388.262499 L 59806.3519521,290373.872648 L 59788.5511466,290362.640177 L 59775.5180654,290354.647196 L 59749.0659252,290343.357204 L 59713.3077301,290332.373319 L 59703.0294999,290332.611539 L 59681.8993059,290340.243039 L 59662.910413,290340.760683 L 59652.4975316,290337.997374 L 59645.3174573,290329.185117 L 59632.2708322,290307.602871 L 59626.8623448,290301.718811 L 59612.6379362,290292.108699 L 59607.1845203,290285.224116 L 59605.5284174,290268.255002 L 59588.1404517,290244.639733 L 59586.9178807,290235.671603 L 59593.0655452,290221.471377 L 59590.9346876,290210.538894 L 59587.9865741,290204.655855 L 59580.6869465,290194.84647 L 59579.4040798,290182.873382 L 59583.3760501,290176.679821 L 59596.8683497,290153.349841 L 59596.4194088,290143.344443 L 59593.5406974,290137.346891 L 59582.8925415,290127.687748 L 59567.5298615,290110.999511 L 59566.2777439,290103.035263 L 59581.5560524,290079.625114 L 59585.3535188,290069.54057 L 59584.5300327,290049.526438 L 59576.4374814,290043.651446 L 59571.1530154,290038.875801 L 59568.0048537,290026.875022 L 59544.7837408,290009.536905 L 59543.6355099,290000.565443 L 59539.5199198,289988.60809 L 59527.0202362,289975.913057 L 59525.2741134,289956.942882 L 59526.3228829,289945.422131 L 59524.3914325,289938.936511 L 59514.25202,289922.348139 L 59513.7979781,289912.231574 L 59526.3428244,289867.77895 L 59525.3549734,289845.767084 L 59521.4379946,289834.914771 L 59495.8605704,289821.581359 L 59485.0474857,289809.924636 L 59460.8014165,289766.454949 L 59439.1403823,289744.034352 L 59438.1802962,289734.274687 L 59437.3644939,289726.068076 L 59427.0398594,289705.366513 L 59413.5188592,289698.175875 L 59410.7927463,289670.672284 L 59407.8133863,289660.780488 L 59422.3138281,289638.296063 L 59432.4391948,289618.013197 L 59436.2059918,289603.919724 L 59451.1864079,289575.509915 L 59459.6993356,289554.185544 L 59467.6931217,289539.568191 L 59470.8668689,289533.855994 L 59473.0532273,289527.742537 L 59478.8012672,289519.575511 L 59486.1171014,289511.449525 L 59501.2020041,289501.972335 L 59525.7339602,289495.301715 L 59541.6824662,289486.788441 L 59546.1808938,289480.682672 L 59550.2008797,289465.575395 L 59556.6035051,289455.373986 L 59580.0477785,289442.737103 L 59595.9811597,289432.219573 L 59603.2523916,289423.093208 L 59603.2182404,289404.046244 L 59608.9217193,289394.878822 L 59608.0240957,289374.868041 L 59605.1002318,289367.869936 L 59603.5788455,289353.902449 L 59613.914513,289336.61823 L 59616.2549487,289330.609331 L 59612.3329318,289319.645786 L 59602.1135113,289302.949408 L 59599.9189033,289273.973838 L 59595.6696029,289264.027533 L 59570.1667567,289260.715795 L 59560.5755525,289258.02703 L 59543.6786551,289245.417738 L 59543.4388436,289238.410627 L 59547.3870138,289233.332119 L 59544.8330289,289196.35225 L 59558.0276389,289182.949889 L 59557.6496929,289157.903031 L 59569.2968891,289146.575232 L 59587.5279121,289134.060968 L 59591.5801684,289127.97528 L 59591.1018208,289118.973769 L 59586.405882,289109.047498 L 59573.2808573,289102.395607 L 59567.0526649,289096.548293 L 59563.240551,289089.70144 L 59556.4065828,289081.987602 L 59547.0663377,289071.601342 L 59540.1858799,289056.203369 L 59538.4694415,289036.229325 L 59543.0710774,289024.103643 L 59543.2613277,289010.059374 L 59539.5082144,289001.204779 L 59528.5247001,288987.439024 L 59525.2464674,288972.547815 L 59502.7195276,288949.163094 L 59497.1006864,288940.280839 L 59493.1180051,288926.312408 L 59490.8138101,288876.622338 L 59489.6814726,288851.386536 L 59495.8603525,288836.182395 L 59497.2130371,288828.101281 L 59491.4145181,288815.216875 L 59491.2009357,288772.228088 L 59493.2672087,288760.104746 L 59497.7946184,288747.982376 L 59511.9121991,288730.194192 L 59517.3489384,288723.377992 L 59527.8345903,288706.086983 L 59533.0461939,288690.926302 L 59537.4686531,288674.798477 L 59536.3357451,288667.831436 L 59531.6547773,288659.909615 L 59527.5527592,288644.943961 L 59521.9835935,288637.173385 L 59523.2761706,288626.087328 L 59529.3361396,288609.886041 L 59534.4461366,288605.757997 L 59553.8862778,288600.207394 L 59559.7406035,288596.045988 L 59559.0072222,288578.032961 L 59555.339288,288551.128601 L 59557.4507109,288540.005831 L 59573.9565644,288525.563973 L 59580.4053613,288516.36318 L 59579.7322556,288501.355106 L 59577.2870312,288483.41886 L 59579.9929229,288467.256691 L 59593.1599349,288454.858361 L 59595.2469121,288444.850658 L 59593.3512716,288420.87446 L 59585.9304694,288410.067808 L 59583.0814189,288383.126717 L 59582.2441727,288366.120908 L 59586.8569346,288355.888537 L 59593.5046972,288347.792801 L 59596.753458,288340.406471 L 59602.0358302,288328.473171 L 59605.7747111,288315.383754 L 59604.4175385,288303.414012 L 59598.1569817,288288.545109 L 59594.4321558,288273.673892 L 59597.5848765,288257.491713 L 59602.5147725,288244.34889 L 59601.9722863,288212.291621 L 59602.8043278,288204.233912 L 59604.845246,288186.542078 L 59605.0087333,288185.198014 L 59608.465304,288174.126368 L 59613.8399237,288150.938128 L 59609.4391762,288130.973068 L 59602.6115704,288110.114279 L 59594.2074871,288097.346584 L 59583.5157635,288085.12706 L 59574.5064818,288073.834655 L 59561.8715472,288048.223579 L 59554.9845711,288029.372592 L 59544.1595167,287997.55368 L 59536.5586758,287982.744923 L 59526.8496516,287972.486508 L 59523.8062282,287966.16213 L 59516.3694941,287953.351135 L 59484.2220652,287910.123918 L 59477.0095975,287902.315656 L 59459.3304983,287870.692931 L 59446.5140314,287836.067225 L 59440.8340042,287824.180044 L 59434.3799989,287813.330142 L 59423.4391982,287800.565056 L 59403.8029617,287785.18249 L 59379.2742359,287773.806947 L 59361.4052109,287761.24147 L 59343.0008465,287751.707727 L 59322.5557483,287738.255422 L 59305.0046212,287727.792335 L 59270.4028824,287704.727337 L 59250.1371195,287695.277427 L 59232.7309012,287689.70941 L 59214.3414855,287682.180481 L 59145.8949123,287633.010004 L 59143.0606298,287631.354981 L 59108.9201969,287611.946177 L 59090.0268877,287596.531198 L 59077.7463414,287588.839644 L 59060.3550637,287585.27655 L 59040.5675362,287584.828842 L 59015.9081401,287590.504061 L 58949.014957,287632.387262 L 58939.2315089,287643.743752 L 58927.3354368,287676.137552 L 58924.0441191,287689.207365 L 58920.9745872,287697.254419 L 58912.81353,287706.532921 L 58901.7721437,287709.814179 L 58889.7769562,287710.130664 L 58858.8570006,287691.024106 L 58837.7820715,287683.505698 L 58825.3868781,287674.92866 L 58817.3804187,287671.055682 L 58807.1767656,287671.403163 L 58791.0543639,287677.809427 L 58780.7607178,287676.155882 L 58756.1556636,287664.786295 L 58738.6293058,287658.222571 L 58703.1971474,287653.24423 L 58687.6979952,287653.607379 L 58613.4113053,287663.745407 L 58575.0106268,287670.709418 L 58519.2605694,287693.270455 L 58423.0433046,287753.07856 L 58410.6505907,287764.442182 L 58402.9360881,287783.61563 L 58398.1151165,287790.850753 L 58384.8085321,287800.139079 L 58361.9578131,287807.852285 L 58349.0401125,287809.214045 L 58331.8134579,287807.650888 L 58316.8522949,287800.081692 L 58294.2208824,287774.589173 L 58263.7571264,287747.444581 L 58243.6613342,287721.949349 L 58228.7656173,287694.326044 L 58213.276957,287638.657587 L 58209.938416,287630.78753 L 58188.8834619,287592.30229 L 58178.0746625,287582.541076 L 58152.9038254,287575.209726 L 58113.8469053,287569.284394 L 58083.2950922,287560.079443 L 58063.6266985,287560.63228 L 58029.5986206,287568.628087 L 58008.9173341,287568.224232 L 57994.1306284,287564.546813 L 57977.365852,287555.05464 L 57963.7546246,287539.404801 L 57907.8641827,287444.788636 L 57869.7542499,287398.719236 L 57847.3050179,287377.341675 L 57832.1614171,287365.771547 L 57797.8170504,287348.607199 L 57787.3124392,287343.957167 L 57757.6521827,287334.713561 L 57712.8478305,287313.900279 L 57691.8943977,287307.49433 L 57679.8823011,287305.80889 L 57665.2511905,287307.249492 L 57613.2808684,287317.729065 L 57575.3248232,287314.765203 L 57562.2996548,287312.123204 L 57547.1342664,287298.438201 L 57540.6175806,287289.598086 L 57537.7698489,287282.708732 L 57533.300293,287259.740039 L 57531.903709,287228.834662 L 57528.1575318,287221.874513 L 57518.2453097,287212.185282 L 57510.521766,287211.30895 L 57494.7170523,287218.150087 L 57483.4528528,287223.115087 L 57463.8284181,287224.670478 L 57437.3864714,287212.386628 L 57387.387908,287208.742966 L 57379.5496633,287206.980813 L 57371.9165578,287208.105734 L 57341.4363525,287217.059071 L 57325.9358087,287217.425865 L 57314.5773499,287213.706444 L 57307.3317651,287206.904684 L 57298.9956989,287194.136772 L 57290.1866278,287187.405746 L 57279.8280568,287187.651483 L 57269.844676,287192.89317 L 57251.4333221,287206.425379 L 57243.8665959,287210.66661 L 57230.0220398,287208.062401 L 57201.4727497,287183.84395 L 57193.683732,287165.035929 L 57189.714803,287135.026667 L 57183.9891807,287122.252178 L 57171.3587265,287108.564756 L 57148.5052966,287098.124928 L 57140.6215263,287095.362561 L 57128.6701327,287096.683223 L 57110.1359294,287104.205948 L 57097.5175813,287110.569778 L 57086.2002729,287125.897994 L 57070.123081,287133.309643 L 57024.4429631,287147.631484 L 57012.6146015,287154.962334 L 57002.948497,287167.208223 L 56991.0099979,287188.580293 L 56986.1461502,287204.730498 L 56980.9360317,287214.880883 L 56968.8909358,287232.247503 L 56951.5114916,287243.840237 L 56945.5034033,287247.899893 L 56939.0569015,287257.103739 L 56937.4028531,287278.23295 L 56941.9636482,287285.044476 L 56950.1080335,287291.916494 L 56953.1668833,287301.803808 L 56952.8172861,287313.850665 L 56945.6587501,287327.097101 L 56936.5725091,287337.311707 L 56924.7575993,287341.634415 L 56907.5741493,287341.076009 L 56906.6404864,287340.227116 L 56895.9486692,287331.465389 L 56882.9099262,287308.773795 L 56880.834992,287300.847106 L 56870.236732,287276.039798 L 56854.6665162,287253.46294 L 56848.0417789,287240.618069 L 56831.6345169,287220.975547 L 56823.8251693,287218.210243 L 56816.9416603,287219.413344 L 56805.2172464,287225.737357 L 56788.9856119,287246.190482 L 56776.6108608,287259.562147 L 56768.6790383,287273.846463 L 56762.261938,287282.046612 L 56744.4732319,287289.536817 L 56700.086266,287297.787258 L 56686.5590928,287302.188089 L 56678.0327939,287303.354448 L 56667.8608688,287307.714601 L 56656.4089892,287320.042127 L 56647.4883976,287332.254899 L 56630.9854041,287346.70531 L 56625.820592,287349.613099 L 56614.1811711,287356.156486 L 56603.9023239,287356.511251 L 56587.4469758,287353.915601 L 56578.0324306,287355.233802 L 56562.0599669,287361.63964 L 56526.696051,287361.572874 L 56512.9585069,287362.975905 L 56462.8373873,287368.146433 L 56460.9118343,287368.456608 L 56438.8461206,287377.033091 L 56428.9141902,287383.387987 L 56422.3437449,287391.484127 L 56417.7517876,287403.723652 L 56416.7156089,287418.698178 L 56409.4221782,287428.943738 L 56399.4108802,287435.190899 L 56365.0656091,287436.192921 L 56353.0405327,287437.518614 L 56341.9542466,287439.804306 L 56334.2937859,287443.605474 L 56320.8782243,287450.452936 L 56301.1586527,287449.900115 L 56285.0187865,287444.394629 L 56286.7677324,287453.338566 L 56289.587941,287461.231263 L 56289.9022013,287469.794751 L 56291.2678732,287516.297711 L 56289.3437791,287531.424012 L 56289.8688634,287549.558282 L 56290.5643833,287576.373972 L 56289.1701901,287583.455451 L 56282.0753939,287599.707765 L 56275.2581349,287608.929318 L 56269.8137689,287622.098914 L 56267.1654488,287631.13115 L 56268.3304449,287655.14054 L 56285.1744541,287705.730761 L 56302.5366738,287746.382924 L 56311.1788237,287787.208296 L 56312.770069,287804.180162 L 56313.1428404,287850.17123 L 56307.8804331,287867.342929 L 56303.2677402,287877.46696 L 56299.2517781,287882.662316 L 56293.1870399,287901.875664 L 56290.7747546,287907.889394 L 56270.6674984,287936.541106 L 56263.671702,287951.675002 L 56264.4607144,287970.688499 L 56269.2377279,287980.608891 L 56286.4640429,288000.212621 L 56291.2069513,288011.025772 L 56300.6245001,288027.865 L 56308.7801762,288036.629378 L 56337.2225187,288056.837877 L 56339.1958326,288060.870053 L 56340.9407796,288064.8012 L 56341.8494396,288084.811853 L 56338.8745569,288094.861498 L 56334.0513029,288101.987293 L 56334.7328238,288116.995283 L 56333.3842284,288125.077291 L 56324.0723019,288148.337073 L 56311.1091432,288166.749717 L 56306.5876335,288178.874823 L 56306.4504347,288193.920001 L 56320.8549772,288210.532749 L 56327.9644054,288214.331668 L 56344.0240605,288227.972914 L 56353.6188621,288230.656404 L 56383.8073455,288231.847846 L 56390.7678282,288235.653599 L 56395.5898796,288246.574616 L 56396.2258444,288260.582077 L 56388.8832323,288269.71601 L 56359.8307711,288293.53787 L 56349.387314,288309.942242 L 56336.6756462,288332.242423 L 56333.7968807,288344.404315 L 56336.1614612,288360.338473 L 56352.1538118,288370.863579 L 56370.3474727,288372.376803 L 56382.2507037,288370.053921 L 56462.7765302,288362.83336 L 56472.4833119,288369.63372 L 56475.3610113,288375.518669 L 56475.8315445,288387.528445 L 56473.6476926,288393.643137 L 56473.3852391,288407.579974 L 56478.5413184,288427.509229 L 56476.8444218,288447.638143 L 56465.1330919,288473.903005 L 56457.9610101,288485.145716 L 56450.093849,288502.435563 L 56447.3297866,288515.483379 L 56441.9315856,288529.653376 L 56432.9442408,288541.981134 L 56419.596925,288550.273678 L 56400.0099079,288555.841782 L 56350.8238297,288550.165938 L 56331.9772731,288550.687667 L 56320.1198807,288554.011201 L 56300.0942301,288569.625551 L 56291.9385146,288578.907993 L 56284.1743185,288600.092436 L 56266.1131319,288614.61509 L 56263.6313233,288638.790191 L 56265.0353712,288669.695546 L 56269.5841256,288692.66005 L 56277.9742553,288716.452643 L 56281.9068063,288725.854373 L 56284.7353982,288732.298462 L 56292.0260578,288740.099449 L 56310.4043376,288750.627382 L 56333.5209964,288766.955734 L 56338.1156261,288772.874031 L 56339.5086591,288783.83933 L 56336.4194742,288793.003016 L 56324.6073595,288815.373881 L 56325.016379,288824.378681 L 56334.8993642,288835.069753 L 56352.6074156,288845.628234 L 56410.3543955,288869.073288 L 56434.2725842,288883.360399 L 56449.3917372,288896.041893 L 56453.1333982,288902.890188 L 56454.5262099,288913.855508 L 56451.6022226,288925.016817 L 56440.3815747,288942.347601 L 56427.147596,288954.75685 L 56401.3697003,288973.417135 L 56379.2474954,288983.890748 L 56354.2782693,288995.719159 L 56312.7588069,289010.97309 L 56269.3078688,289018.182905 L 56237.1459052,289025.994067 L 56204.0545578,289037.969453 L 56184.0145194,289051.579841 L 56171.6693842,289063.837948 L 56158.1633195,289088.291463 L 56149.002987,289111.544873 L 56145.7034685,289117.710466 L 56140.1082948,289143.921038 L 56139.8303725,289155.853484 L 56138.61893,289166.937167 L 56138.5445537,289184.987367 L 56129.9923739,289223.252203 L 56125.1870407,289232.382678 L 56116.5118465,289259.735927 L 56106.5872541,289294.052816 L 56103.3081276,289300.663122 L 56099.3454398,289308.641314 L 56087.3086045,289332.582675 L 56083.2765984,289340.675434 L 56076.4539303,289357.918518 L 56066.6744246,289387.215907 L 56062.5642111,289408.346078 L 56062.0806636,289417.391492 L 56058.1070088,289441.523268 L 56032.0047924,289564.471002 L 56031.5950998,289566.940445 L 56030.6572166,289572.553123 L 56023.3459975,289580.683703 L 55956.5291354,289585.61713 L 55909.7157607,289577.832571 L 55896.0413818,289577.229443 L 55888.3877833,289579.471559 L 55869.1524078,289591.041446 L 55846.0967037,289613.70256 L 55834.4239554,289621.029328 L 55794.5834908,289632.08925 L 55754.5699973,289649.172985 L 55736.1613066,289652.684854 L 55701.1488335,289674.7771 L 55678.7759943,289694.400045 L 55654.7038096,289711.092672 L 55630.7396689,289731.790927 L 55596.3323982,289768.784068 L 55586.7502002,289782.70021 L 55564.1675169,289815.701376 L 55541.5819479,289845.360749 L 55501.9208973,289917.574018 L 55490.9717241,289948.931281 L 55486.2150634,289965.635511 L 55484.6774376,289971.16427 L 55484.9342916,289975.16301 L 55486.3127282,290005.401342 L 55486.7738976,290015.517842 L 55463.6662136,290027.154407 L 55449.750413,290037.592171 L 55342.8382077,290118.109277 L 55321.7199512,290134.111795 L 55307.9957201,290147.103448 L 55278.2812574,290174.081467 L 55236.9740566,290211.72622 L 55200.3958677,290245.145018 L 55116.7085371,290321.376367 L 55005.0917692,290367.246524 L 54962.0319398,290395.838595 L 54868.8395793,290503.812348 L 54804.3319912,290578.615428 L 54767.1315388,290614.628118 L 54724.1385328,290656.030496 L 54668.1292889,290688.336535 L 54629.9920162,290710.356335 L 54499.5257372,290764.452227 L 54395.6422299,290837.275245 L 54353.7980925,290856.458895 L 54247.052587,290905.798422 L 54193.7319583,290929.965283 L 54142.8313551,290953.24193 L 54035.0851367,290988.817486 L 54031.3773043,290990.881371 L 53979.1703134,291019.789675 L 53920.2821244,291052.569923 L 53779.4637009,291130.99885 L 53742.6091021,291146.727562 L 53681.9984786,291172.793877 L 53639.35372,291156.593245 L 53637.4631271,291144.648375 L 53641.5361884,291137.554236 L 53651.4000835,291128.30029 L 53668.8229706,291114.800095 L 53679.2297041,291099.505434 L 53678.3108714,291079.494812 L 53669.4778353,291057.619503 L 53652.6422939,291027.087913 L 53643.8601539,291006.324339 L 53636.6373995,290998.412091 L 53625.4085666,290995.808439 L 53606.5644604,290996.228271 L 53588.4001816,290996.83975 L 53570.8587906,290988.287491 L 53569.138702,290970.318948 L 53563.6233107,290944.392203 L 53564.4312819,290887.315907 L 53563.0328948,290876.351081 L 53546.5127865,290818.622498 L 53540.6150636,290803.853792 L 53534.2723789,290794.007336 L 53517.7696695,290772.373121 L 53503.7097907,290748.732834 L 53501.6307311,290740.807213 L 53489.747394,290712.610765 L 53483.7159585,290698.182457 L 53473.8802545,290680.475401 L 53468.3449137,290673.599833 L 53440.3821661,290644.359822 L 53427.5364427,290627.682385 L 53408.5490505,290607.165245 L 53401.1466945,290595.362316 L 53397.0006759,290581.404448 L 53390.7670663,290575.563676 L 53366.5750408,290573.222045 L 53333.2690733,290559.156337 L 53324.1727076,290549.436654 L 53314.5016495,290525.594973 L 53310.222505,290508.74674 L 53308.5476434,290491.77878 L 53303.9792524,290484.858888 L 53282.3866648,290464.461867 L 53273.9654569,290451.591864 L 53271.8400159,290442.665784 L 53272.1064801,290430.621792 L 53278.1292264,290412.408674 L 53286.0065573,290397.229639 L 53289.7930365,290387.140512 L 53288.9474602,290367.126495 L 53277.5821904,290345.368029 L 53255.2449329,290325.005302 L 53246.8092658,290319.934336 L 53237.4602041,290314.459762 L 53224.557571,290307.923157 L 53210.9698694,290301.083868 L 53193.3105186,290291.646737 L 53178.0947187,290276.972634 L 53171.6941287,290269.134446 L 53155.7186077,290239.567047 L 53149.9347661,290225.684631 L 53143.470432,290214.841461 L 53140.2109247,290203.962282 L 53136.5066976,290198.005389 L 53132.2053939,290187.174135 L 53125.1564388,290173.349932 L 53109.0725521,290144.678853 L 53104.2326317,290131.867099 L 53094.2977883,290112.0484 L 53090.7962477,290105.636582 L 53054.2949649,290040.027189 L 53038.686632,290018.464313 L 53021.4536049,289998.870123 L 53017.7082182,289992.023939 L 53011.4275854,289985.183017 L 52971.6560837,289934.430022 L 52957.2736653,289913.590739 L 52944.499509,289896.910864 L 52927.5778054,289866.273438 L 52904.5820738,289834.91301 L 52888.2127424,289816.282034 L 52874.7577873,289802.641572 L 52853.5758964,289791.250794 L 52834.428026,289786.784977 L 52826.2636689,289777.914257 L 52816.9810228,289764.193197 L 52808.9422212,289756.430771 L 52774.1329651,289729.291187 L 52728.4319071,289708.55799 L 52701.8788489,289692.290472 L 52677.8381287,289673.902013 L 52653.9816533,289659.515761 L 52625.573051,289640.214692 L 52616.2265879,289644.544592 L 52570.7086167,289661.793535 L 52540.3829696,289675.334581 L 52527.669691,289681.045297 L 52508.4815175,289693.516092 L 52492.0006078,289708.090262 L 52461.8641224,289741.898953 L 52448.6980417,289773.365565 L 52436.2042065,289809.703092 L 52427.455199,289831.830775 L 52404.2452304,289818.529805 L 52290.0091403,289708.939673 L 52267.5230299,289653.159945 L 52241.4414348,289588.967897 L 52209.7103588,289562.357829 L 52129.0996685,289464.030266 L 52098.0551911,289394.163251 L 52097.3366328,289378.599498 L 52093.4692876,289289.986973 L 52075.0760798,289219.535937 L 52000.7181706,289090.39554 L 52005.7633914,289031.674033 L 51963.7586242,288913.517486 L 51936.1670334,288836.138703 L 51880.926611,288731.851319 L 51846.0759393,288697.588412 L 51840.0745528,288677.478238 L 51780.8692694,288603.677453 L 51769.1127343,288575.254957 L 51758.1133539,288548.691402 L 51741.33602,288455.216499 L 51717.2580625,288415.220186 L 51692.5380533,288374.250964 L 51614.5075226,288290.292422 L 51559.7106489,288252.274107 L 51548.9190642,288244.751865 L 51502.9521626,288183.152951 L 51471.0921379,288153.989709 L 51290.4867636,288081.465471 L 51276.8043383,288075.971436 L 51160.8317869,287915.56653 L 51128.2425685,287870.730204 L 51125.0537093,287866.310179 L 51042.6339234,287639.625169 L 51026.072058,287596.163519 L 51012.3567776,287533.630668 L 50945.8763137,287349.991364 L 50935.8945998,287332.628648 L 50903.3605864,287276.20424 L 50876.1294604,287247.274784 L 50831.7744593,287236.853133 L 50768.1694515,287255.399263 L 50664.489802,287304.325533 L 50602.0759603,287353.34429 L 50552.0370351,287480.889623 L 50540.843084,287590.144024 L 50532.6494177,287593.643777 L 50504.9136743,287605.292234 L 50435.3248223,287666.789868 L 50417.3111455,287677.318915 L 50377.5057072,287700.558028 L 50299.100414,287768.148889 L 50218.9774687,287837.26913 L 50159.5565548,287818.863191 L 50113.3296117,287798.618902 L 50066.1386124,287791.34329 L 50036.3418516,287782.70206 L 49960.0024763,287734.224426 L 49956.1259951,287726.271846 L 49914.4066033,287701.920017 L 49902.4936875,287683.200394 L 49898.068075,287676.276082 L 49874.4522442,287652.976177 L 49827.7943033,287618.716408 L 49822.3190991,287613.289319 L 49783.3885929,287602.400547 L 49755.6497463,287609.150854 L 49719.4457602,287599.138269 L 49712.0789514,287588.340252 L 49705.0660709,287583.541906 L 49674.9525552,287563.330515 L 49660.2139734,287549.644932 L 49621.1289344,287466.570609 L 49609.2780115,287452.416412 L 49580.7437489,287435.697007 L 49552.7776931,287427.975492 L 49522.162396,287408.233811 L 49472.7734642,287373.101139 L 49426.6052871,287330.24283 L 49407.1135347,287280.236694 L 49401.4303634,287270.363224 L 49384.9027309,287248.740068 L 49366.9191468,287208.690673 L 49324.1700382,287168.793149 L 49306.564548,287167.274329 L 49281.5164792,287154.961526 L 49257.189179,287118.104868 L 49259.9114155,287096.475671 L 49267.6174557,287069.71202 L 49267.7658908,287004.084244 L 49276.8749974,286991.404348 L 49290.5806989,286968.483207 L 49297.8824912,286920.236243 L 49300.2346823,286897.064601 L 49301.0410892,286837.533786 L 49302.1275771,286814.421159 L 49300.9336808,286790.412148 L 49299.9710997,286772.965574 L 49304.898951,286744.21476 L 49303.081595,286721.237511 L 49300.6434806,286705.753702 L 49299.9132931,286685.288213 L 49303.008409,286663.641707 L 49297.435856,286649.752353 L 49267.7189772,286604.56816 L 49256.9279433,286582.789164 L 49242.7653245,286560.721743 L 49239.6577696,286553.290719 L 49239.0442372,286541.732629 L 49241.7866861,286530.129475 L 49251.0106544,286519.895285 L 49262.4218835,286508.556445 L 49274.0996154,286483.724541 L 49279.8654263,286474.54291 L 49291.7066824,286459.618961 L 49298.8983875,286415.388014 L 49297.1257982,286394.971126 L 49289.5616717,286365.577141 L 49281.4974436,286362.276514 L 49273.2815554,286352.521162 L 49268.1923389,286334.598507 L 49261.7089996,286286.771438 L 49253.2654864,286236.918955 L 49242.0396195,286196.220437 L 49236.7546504,286177.304229 L 49228.8393003,286156.393858 L 49223.1879552,286145.627702 L 49214.0074308,286132.797886 L 49195.1310512,286115.295284 L 49160.6653482,286093.171986 L 49148.9022604,286082.579491 L 49143.3855007,286074.703795 L 49135.7360063,286057.903311 L 49131.4375592,286040.946547 L 49129.1181765,286028.019679 L 49124.0472025,286012.101643 L 49119.3773175,286003.183771 L 49105.197003,285985.573803 L 49090.5499296,285957.958676 L 49081.5644563,285946.122625 L 49069.0232601,285936.457838 L 49038.8985673,285925.830782 L 49031.4015517,285923.50668 L 49019.7538613,285913.800305 L 49014.0967427,285902.923167 L 49009.1050349,285887.112913 L 49000.967051,285842.259841 L 48999.3731719,285827.293755 L 48996.0612554,285812.296419 L 48992.3124923,285802.33295 L 48989.2580461,285794.453891 L 48984.2384249,285779.647648 L 48981.8201241,285764.608621 L 48982.7297257,285760.109749 L 48984.5974719,285750.552687 L 48990.1214248,285739.376695 L 49013.5781711,285722.239164 L 49034.0976235,285706.130049 L 49041.1182426,285693.435963 L 49047.5261145,285677.20533 L 49049.8026781,285668.409107 L 49050.2410229,285666.60609 L 49053.0176257,285644.52868 L 49042.2870904,285619.293363 L 49023.205136,285611.827708 L 49007.9609432,285606.634104 L 48990.8482107,285598.185395 L 48976.6525515,285583.473037 L 48968.4181372,285570.153721 L 48966.2465191,285566.801314 L 48951.6535277,285537.178505 L 48924.8367334,285498.321991 L 48906.5510567,285464.749389 L 48871.2616791,285410.690959 L 48856.8040132,285391.980275 L 48837.5885495,285370.483614 L 48812.492297,285355.723369 L 48801.0230051,285351.468131 L 48787.9878458,285348.845773 L 48757.3867577,285337.685088 L 48717.6319265,285320.713 L 48673.9158659,285297.241512 L 48671.544725,285296.015326 L 48668.8083321,285288.567176 L 48659.5403612,285280.309993 L 48648.8747751,285266.101901 L 48637.6723495,285246.793986 L 48624.2599312,285220.124774 L 48602.2082188,285174.69645 L 48596.7905265,285162.582903 L 48554.1586541,285147.974444 L 48500.0028583,285129.55979 L 48445.9506356,285146.903859 L 48429.7728257,285161.697946 L 48417.1095056,285173.431085 L 48398.8604329,285204.588192 L 48188.264803,285258.222925 L 48094.4482453,285282.333354 L 48044.6008106,285304.943805 L 48022.7299019,285347.970166 L 47995.5982896,285401.381494 L 47954.5412156,285449.094665 L 47950.6460075,285450.391219 L 47861.8587101,285481.400654 L 47800.622834,285479.144944 L 47714.809602,285439.827348 L 47640.1978632,285422.936758 L 47611.4347667,285406.459422 L 47529.0893272,285331.329617 L 47483.9716319,285236.739547 L 47466.0343817,285178.977774 L 47407.3100337,285120.567307 L 47362.8757444,285094.687817 L 47282.9534041,285072.925628 L 47213.7550852,285063.362054 L 47158.995188,285035.406389 L 47066.6439751,285019.244441 L 46945.1729321,285018.824983 L 46911.3537647,285018.743499 L 46861.1979913,285036.365245 L 46800.6952839,285105.390326 L 46789.1509817,285131.335702 L 46787.6956974,285154.355472 L 46780.4541627,285162.272235 L 46768.5779186,285236.698482 L 46761.2214831,285242.169573 L 46729.1249724,285429.407156 L 46671.2746549,285415.082747 L 46634.4271534,285406.121018 L 46603.0254866,285419.29751 L 46565.2249195,285424.976393 L 46502.2760822,285454.56824 L 46474.8222346,285467.559589 L 46445.726594,285471.046728 L 46394.7073081,285476.569454 L 46342.5032052,285458.528483 L 46310.2982113,285429.295368 L 46256.5898971,285335.006638 L 46185.9408215,285256.6693 L 46124.7094324,285234.041947 L 46031.7362841,285199.988053 L 46017.8862472,285180.140869 L 45968.8214708,284983.467231 L 45911.5311487,284822.946285 L 45794.576088,284644.741014 L 45723.2917085,284556.410785 L 45672.3331356,284512.802004 L 45622.8457949,284497.20095 L 45569.4952991,284507.297047 L 45542.3453269,284531.53128 L 45450.6697599,284721.14811 L 45444.7662578,284762.094061 L 45403.770647,284883.470091 L 45395.0853251,284897.139211 L 45365.4086957,284943.66584 L 45335.5286925,284965.356396 L 45307.5689674,284969.241082 L 45289.2554703,284962.419383 L 45251.4759611,284925.990243 L 45111.9749232,284697.72326 L 45103.2200532,284683.09626 L 45077.5881789,284649.435729 L 44970.9527861,284510.086635 L 44952.0187941,284485.468503 L 44931.3965062,284474.077571 L 44868.0866627,284589.161138 L 44865.623822,284598.636824 L 44848.7784976,284663.833818 L 44831.6404934,284784.307756 L 44764.4821736,284871.609527 L 44760.8604074,284902.309519 L 44753.5051909,284907.783239 L 44745.0203609,285018.600047 L 44744.0838183,285030.343268 L 44746.200121,285180.54525 L 44746.7381095,285350.988661 L 44741.9124834,285409.823028 L 44728.7460614,285432.841998 L 44725.4345369,285438.569836 L 44583.0141996,285547.269306 L 44553.997692,285579.17397 L 44529.8075455,285659.316723 L 44488.7739333,285706.944706 L 44372.6457203,285781.200386 L 44296.0551172,285810.908093 L 44267.6929285,285821.94814 L 44239.4028639,285869.084529 L 44156.1507619,285939.221355 L 44153.068835,285945.050115 L 44117.8270804,286010.790177 L 44114.1225328,286017.651317 L 44099.6413106,286023.910314 L 43917.1227674,286103.448176 L 43895.708809,286134.99527 L 43891.9158859,286154.116901 L 43883.3448109,286196.752383 L 43878.4036825,286268.629952 L 43866.8675901,286413.68944 L 43835.4147623,286458.52761 L 43772.4731257,286489.376812 L 43746.9721806,286497.72103 L 43610.3724098,286542.773815 L 43479.5843934,286604.823307 L 43367.0357416,286673.69484 L 43306.4190344,286696.862199 L 43066.6814906,286738.711806 L 43028.492224,286745.436301 L 42976.9435783,286742.770694 L 42926.270911,286706.860283 L 42893.2031915,286619.190464 L 42871.3074356,286601.40553 L 42863.9202036,286595.184344 L 42790.0450907,286553.251717 L 42778.2490613,286539.10741 L 42701.6585434,286448.168688 L 42658.6714287,286432.617564 L 42579.300573,286436.632698 L 42498.1786515,286464.91113 L 42493.6999725,286466.462276 L 42401.2703869,286503.305059 L 42384.9994517,286509.542802 L 42336.0538597,286528.596942 L 42319.7139063,286534.949605 L 42231.1106526,286567.489673 L 42180.809333,286559.757347 L 42160.6132837,286560.389653 L 42045.6282161,286564.111382 L 41817.3726266,286597.998231 L 41696.679393,286643.004228 L 41679.7974451,286645.819246 L 41621.5458261,286655.966427 L 41542.7821887,286646.150579 L 41518.4840388,286635.951044 L 41517.3767348,286628.427382 L 41515.9553701,286619.024591 L 41511.0817474,286607.670379 L 41508.2352712,286601.232965 L 41500.144228,286594.378628 L 41478.8662288,286578.686018 L 41475.1585425,286576.078332 L 41454.9237837,286566.575454 L 41438.1197099,286557.019435 L 41421.8999661,286542.532787 L 41410.0471898,286528.83941 L 41391.6726529,286511.447814 L 41389.3319544,286509.331685 L 41361.4095677,286492.06416 L 41336.4533301,286497.719048 L 41307.1877441,286497.56406 L 41275.8413758,286491.380826 L 41240.3349274,286482.500508 L 41217.6054504,286477.018035 L 41195.7315889,286467.594721 L 41181.4639734,286458.028994 L 41169.7012095,286446.225932 L 41160.9277746,286434.502148 L 41154.8087299,286423.653686 L 41151.8389587,286414.659582 L 41152.7686103,286379.627836 L 41148.6438384,286366.789377 L 41141.0875783,286350.884462 L 41129.0631584,286335.194192 L 41122.5452205,286325.36773 L 41110.7393668,286312.675436 L 41093.6936122,286298.117848 L 41085.7775964,286293.372665 L 41053.7746617,286149.279191 L 41044.6597556,286108.713133 L 41036.4669338,286104.426989 L 41023.6244801,286098.135802 L 40994.5081062,286084.047052 L 40952.6234372,286063.663831 L 40938.8781149,286064.993054 L 40927.5042055,286061.305656 L 40912.8628091,286051.758445 L 40905.9425538,286053.762477 L 40836.0699809,286073.835496 L 40824.5286176,286082.190176 L 40819.2127139,286097.376666 L 40817.8366486,286104.462572 L 40818.3177779,286114.467626 L 40823.0207609,286139.311943 L 40824.9026548,286156.715068 L 40826.0543898,286168.247815 L 40825.3301696,286187.336205 L 40824.1465864,286198.424133 L 40820.6536779,286206.503233 L 40820.472548,286227.571149 L 40829.6410854,286241.281134 L 40836.0152918,286248.105769 L 40839.7830369,286255.055747 L 40856.1903032,286310.6475 L 40857.3712886,286333.655549 L 40852.4417842,286339.798077 L 40824.0676033,286356.650543 L 40806.8210689,286372.076577 L 40793.9480271,286391.526447 L 40787.2650498,286404.661697 L 40757.9287218,286463.56786 L 40751.7943393,286478.793844 L 40747.8812863,286485.890408 L 40743.5296256,286504.039108 L 40735.8952687,286539.282279 L 40736.1079143,286579.384903 L 40733.9348272,286588.514843 L 40724.5143361,286606.796016 L 40717.7212414,286644.004409 L 40710.2543027,286667.205736 L 40702.5520758,286685.515714 L 40696.8949065,286693.587654 L 40692.2811052,286704.729287 L 40687.5492088,286711.865318 L 40677.5040676,286720.25986 L 40658.7177562,286720.718235 L 40649.7375287,286714.019236 L 40644.9798947,286705.111377 L 40640.9495196,286691.154403 L 40636.2400107,286683.247056 L 40619.2202128,286667.68678 L 40614.2970733,286656.892683 L 40610.192139,286642.939312 L 40603.7002777,286615.061306 L 40601.1207262,286597.134647 L 40591.9743312,286568.381597 L 40586.1565863,286554.510681 L 40568.6765376,286530.950078 L 40563.8223326,286520.041267 L 40561.2908168,286503.115127 L 40551.2711451,286490.337915 L 40543.4677078,286489.487911 L 40530.0396623,286498.936953 L 40522.7924024,286508.088445 L 40513.1631699,286520.474534 L 40496.5662507,286533.864691 L 40477.0038594,286555.420306 L 40472.3903212,286566.562126 L 40465.3895079,286580.827392 L 40456.1625533,286586.063023 L 40446.7428748,286587.296648 L 40435.4177387,286584.610757 L 40425.955225,286584.955079 L 40419.2163161,286586.059633 L 40407.4794888,286593.421889 L 40390.4810877,286613.962945 L 40376.8819455,286635.343133 L 40351.4977701,286646.037183 L 40346.2268183,286646.625406 L 40327.6694728,286648.74519 L 40320.9525998,286651.854462 L 40314.5785542,286662.078444 L 40310.9072192,286674.177859 L 40310.6184193,286685.222883 L 40307.4024926,286691.28339 L 40289.0290454,286701.86278 L 40261.7660004,286707.633666 L 40255.9701344,286712.815719 L 40252.9996519,286720.870091 L 40251.7382473,286748.898675 L 40247.0288902,286758.039692 L 40244.0857924,286768.209837 L 40243.8191328,286781.25947 L 40248.7649018,286794.057871 L 40264.7167444,286810.671411 L 40258.7635429,286821.878029 L 40256.4895389,286828.896008 L 40257.3575333,286846.905099 L 40262.21215,286857.813667 L 40270.3527101,286865.666806 L 40285.391983,286874.190309 L 40298.8203714,286884.90856 L 40298.8900157,286886.353734 L 40299.9721838,286908.809517 L 40302.9431735,286917.803226 L 40312.1866002,286931.508812 L 40331.9890033,286949.051193 L 40351.7596772,286967.486563 L 40358.380197,286979.424358 L 40360.4784424,286987.345884 L 40374.912965,287001.915689 L 40375.1759316,287008.922815 L 40373.2007842,287019.046255 L 40359.4840388,287019.372869 L 40352.0722785,287026.638363 L 40330.0503028,287034.273607 L 40318.0461678,287034.517796 L 40312.4209177,287024.649165 L 40303.2258274,287011.944089 L 40292.6240354,287007.218026 L 40277.2911023,287009.628383 L 40266.5233517,287016.944317 L 40247.6380204,287035.45983 L 40228.1311811,287041.08001 L 40200.7513447,287042.845642 L 40165.9756299,287036.722504 L 40138.4248146,287036.491014 L 40120.3673525,287035.021855 L 40109.0470287,287029.327939 L 40102.5981694,287022.507697 L 40098.6851125,287012.556669 L 40098.3449196,286971.456964 L 40090.1392975,286960.710126 L 40088.8847247,286934.697 L 40081.4236565,286923.914261 L 40078.6261713,286882.933068 L 40075.0012996,286861.936995 L 40072.0835427,286854.055061 L 40067.3953626,286848.152756 L 40051.772492,286844.560674 L 40043.2039272,286844.862546 L 40019.3932008,286849.465307 L 40010.167053,286854.70169 L 39979.1394243,286887.620691 L 39965.0114972,286897.996396 L 39951.51496,286904.441764 L 39939.6868836,286906.795319 L 39923.1705139,286903.246707 L 39889.3836532,286899.083095 L 39848.3617805,286904.294425 L 39836.3405423,286902.646177 L 39818.3603232,286896.60572 L 39805.7688455,286892.422259 L 39789.2261618,286889.878127 L 39764.4034198,286890.519491 L 39754.6944361,286885.751253 L 39749.0734297,286875.994301 L 39750.1801835,286864.909653 L 39750.2524548,286847.857935 L 39744.6965155,286840.994927 L 39737.7700921,286838.20945 L 39724.1011334,286839.538073 L 39718.2575369,286843.72019 L 39712.6072171,286851.904329 L 39708.9856066,286865.00469 L 39707.6135231,286889.139057 L 39705.4851667,286899.158795 L 39708.5537519,286910.15324 L 39714.5636771,286944.962316 L 39723.4780154,286968.82277 L 39725.0479859,286982.786679 L 39717.6315328,286989.941855 L 39690.3219044,286994.715031 L 39686.7431233,286996.336427 L 39676.0067912,287001.200629 L 39658.136921,287003.623768 L 39635.4872149,286998.255157 L 39610.5904401,286998.900802 L 39599.6783885,287003.21651 L 39590.6999042,287013.56728 L 39584.5183238,287044.731138 L 39569.4012352,287053.150027 L 39522.3869086,287059.433354 L 39501.114336,287064.027136 L 39490.9040925,287067.417733 L 39474.9665848,287072.75659 L 39461.5192964,287080.203655 L 39446.670388,287092.621295 L 39426.6300893,287104.175693 L 39413.7063731,287105.469086 L 39397.2645603,287101.918399 L 39384.3239184,287101.318417 L 39373.2409835,287103.637162 L 39364.9576677,287109.831921 L 39361.8972828,287115.996974 L 39363.1721556,287143.903513 L 39373.1635114,287180.748417 L 39378.6115653,287194.636203 L 39379.3111977,287210.647865 L 39374.5813354,287217.785063 L 39347.6116611,287229.563455 L 39328.4878614,287243.079622 L 39308.9806606,287265.640007 L 39286.9122793,287272.278847 L 39277.7134828,287276.512357 L 39270.2011616,287281.667143 L 39267.5356221,287289.818855 L 39248.2335414,287307.355332 L 39199.1256374,287322.768421 L 39166.3831546,287338.61562 L 39134.0554437,287344.525898 L 39118.6491872,287346.943013 L 39112.4935636,287343.118154 L 39116.8839973,287328.977197 L 39133.1535484,287310.472739 L 39138.6366307,287300.401739 L 39139.1203348,287290.349855 L 39134.4574592,287283.444179 L 39134.0216384,287274.439648 L 39137.9581641,287266.337771 L 39157.1783275,287254.821954 L 39170.4051349,287244.376236 L 39175.037899,287235.237851 L 39175.6669369,287228.187485 L 39171.6348189,287217.351297 L 39158.0595364,287203.634121 L 39141.9013895,287193.607653 L 39114.6713874,287176.87433 L 39097.2077381,287172.259685 L 39085.3319912,287173.614536 L 39073.549498,287179.979137 L 39065.8434585,287181.132179 L 39051.6479114,287171.568073 L 39028.3019222,287167.238415 L 39018.7864276,287166.47343 L 38931.7183291,287199.43818 L 38923.4128082,287185.131988 L 38922.4920715,287166.122429 L 38927.533463,287146.935525 L 38931.3953628,287138.837106 L 38940.1840856,287124.594402 L 38964.5150818,287093.77629 L 38968.2452149,287087.578556 L 38974.8765843,287076.560369 L 38978.6847771,287067.350317 L 38998.5835958,287032.847048 L 39011.1657379,287001.372385 L 39021.8460614,286983.026866 L 39028.8742329,286967.866733 L 39036.9853934,286939.617157 L 39046.1536117,286899.282257 L 39045.4972784,286867.222904 L 39040.1128765,286845.420912 L 39037.1138072,286837.431888 L 39027.0910034,286824.657227 L 39006.8576565,286815.274034 L 38977.9703052,286805.975646 L 38944.9433704,286794.426448 L 38919.3645101,286785.636688 L 38907.0949267,286778.876688 L 38897.1964829,286770.219025 L 38892.3875876,286760.312014 L 38891.4668718,286741.302464 L 38895.1612485,286728.197912 L 38900.6877005,286719.016032 L 38907.1938942,286711.569551 L 38910.5160788,286707.731541 L 38922.513898,286704.253374 L 38939.4650085,286702.875346 L 38957.7008663,286706.449403 L 38972.0044184,286707.428225 L 38978.3716183,286707.899923 L 38987.6663083,286702.547081 L 38997.1521886,286687.267947 L 39000.1954603,286679.209252 L 38998.5001085,286644.191654 L 38996.4222972,286638.275163 L 38996.1065208,286634.836197 L 38993.5730741,286613.34191 L 38991.6388011,286607.307042 L 38986.3690334,286572.462502 L 38986.4832772,286539.362992 L 38988.2889745,286487.238916 L 38987.8039279,286457.17697 L 38988.7652148,286426.153584 L 38990.2618424,286420.064044 L 38989.559453,286410.181001 L 38987.5500335,286384.09282 L 38984.5821503,286375.210875 L 38969.3073433,286341.853567 L 38968.7214698,286340.544802 L 38948.2506994,286300.084879 L 38942.4771107,286287.215976 L 38893.4773694,286209.472223 L 38876.1227738,286177.887219 L 38864.1435099,286160.193234 L 38849.9147151,286134.585427 L 38841.5064126,286119.727075 L 38832.2528556,286105.912521 L 38829.3815605,286099.031649 L 38813.7249917,286079.398731 L 38808.963995,286070.492272 L 38804.1149998,286056.687259 L 38800.4368384,286034.691311 L 38799.079857,286006.677257 L 38803.6424086,285994.533488 L 38808.3988288,285986.391731 L 38831.5567247,285969.781629 L 38860.2492447,285937.972303 L 38877.1964574,285916.426091 L 38884.2968144,285904.270946 L 38889.872666,285896.089596 L 38919.2095373,285845.195331 L 38928.317311,285835.95161 L 38960.2176986,285821.035984 L 39000.5261715,285800.922209 L 39030.3212105,285777.974716 L 39054.5456224,285763.319724 L 39113.7137282,285742.628491 L 39169.4344929,285710.850524 L 39194.7874366,285696.364447 L 39223.2670134,285678.607333 L 39249.4923877,285652.825218 L 39255.1173976,285645.644757 L 39263.1126685,285633.446913 L 39264.4647707,285624.355962 L 39261.562372,285618.367825 L 39256.2298104,285614.614304 L 39244.0290387,285610.85862 L 39203.5231642,285613.040302 L 39179.3911438,285612.647464 L 39172.8055188,285613.85741 L 39118.3634314,285610.362437 L 39083.5812878,285601.236784 L 39029.3585782,285580.683659 L 39021.6073203,285580.947341 L 39013.2735051,285586.142024 L 38997.7955878,285602.602351 L 38971.3996459,285626.388252 L 38926.3554146,285656.648428 L 38901.6766545,285677.343025 L 38884.9888753,285688.848049 L 38853.6208117,285714.769589 L 38832.2734186,285736.417485 L 38817.4478859,285747.832545 L 38793.0040594,285759.490663 L 38761.3188582,285760.356904 L 38731.8059626,285755.212407 L 38702.7450596,285740.909077 L 38692.7702293,285732.255304 L 38686.3218304,285722.427823 L 38674.9665308,285700.69248 L 38668.7555583,285678.819301 L 38665.2482703,285658.820813 L 38663.4818557,285640.855097 L 38660.0024154,285622.97239 L 38655.2184034,285612.061428 L 38645.4353539,285604.289844 L 38632.1742304,285598.692529 L 38617.6345524,285599.062887 L 38607.4910686,285602.340195 L 38588.5830891,285601.919493 L 38562.5437307,285597.610273 L 38538.5343493,285598.217019 L 38520.7851485,285604.760332 L 38514.1692005,285608.42393 L 38488.9554669,285622.683511 L 38471.7121113,285638.116713 L 38460.3375055,285654.49109 L 38454.185272,285667.715106 L 38446.0798409,285713.013754 L 38445.4063488,285732.992071 L 38448.7283596,285803.030759 L 38455.9308806,285826.861391 L 38467.7235319,285857.600836 L 38488.5228377,285897.040656 L 38499.1823471,285919.812261 L 38514.6485398,285972.436421 L 38519.320614,286016.446871 L 38517.6639587,286071.57273 L 38516.5278458,286083.550637 L 38509.9092571,286107.160074 L 38508.5717309,286111.904918 L 38488.4291642,286141.407333 L 38474.6466375,286158.901413 L 38461.1014329,286181.28687 L 38450.9874367,286203.617373 L 38439.8807747,286220.870346 L 38421.0517591,286240.503654 L 38409.6681789,286248.967287 L 38396.0569237,286259.210444 L 38341.9697559,286293.703218 L 38330.4287669,286305.071809 L 38326.492487,286313.17425 L 38325.0968925,286318.256261 L 38325.648191,286331.155225 L 38332.0309156,286338.088354 L 38353.1607794,286347.425906 L 38359.4949073,286353.358562 L 38362.3666989,286360.239219 L 38362.0815296,286371.284481 L 38356.3579959,286379.473623 L 38352.2534795,286382.569927 L 38340.1560017,286380.928373 L 38287.3810887,286356.300923 L 38261.5811383,286339.947415 L 38211.6309949,286301.254893 L 38166.5811972,286257.42195 L 38152.4120867,286245.407034 L 38145.9556686,286240.037661 L 38108.7788859,286220.002892 L 38053.372173,286193.499465 L 38018.9556166,286173.442584 L 37994.5752845,286151.004007 L 37983.6067406,286137.27396 L 37975.8748739,286119.486656 L 37969.2538318,286107.662563 L 37952.5827787,286087.189588 L 37936.3962674,286067.473111 L 37916.9960941,286040.001359 L 37903.4618748,286010.3503 L 37890.4094941,285970.647214 L 37881.0302334,285955.837219 L 37866.5638199,285939.268746 L 37853.0539691,285928.559564 L 37840.6893913,285919.9119 L 37829.8659836,285909.18362 L 37813.1429361,285884.590605 L 37800.2265129,285856.915418 L 37791.2450866,285841.083333 L 37780.255101,285828.468925 L 37755.1277013,285806.067488 L 37741.8689912,285797.463474 L 37713.0258172,285786.162951 L 37693.167888,285767.739845 L 37645.2060588,285717.923302 L 37626.8918614,285694.410975 L 37611.9751184,285654.798999 L 37600.4952938,285629.060001 L 37584.1201012,285602.444856 L 37575.2176388,285586.720619 L 37560.4262445,285565.042814 L 37547.5221071,285548.398989 L 37528.6229091,285512.880949 L 37509.2137567,285485.299279 L 37497.9508319,285465.567081 L 37489.6895884,285453.823214 L 37483.9349099,285442.960255 L 37481.8581416,285434.035497 L 37476.0060624,285421.171546 L 37455.2415109,285382.624417 L 37432.4540903,285356.210213 L 37428.336234,285349.836259 L 37415.9485306,285334.616116 L 37410.199029,285323.864388 L 37402.264381,285301.964601 L 37402.2154671,285281.018161 L 37404.0175017,285265.887419 L 37415.4103039,285208.503701 L 37417.0089694,285198.397211 L 37415.1670937,285177.42661 L 37408.4237401,285161.59747 L 37399.1449392,285148.900341 L 37373.119474,285126.543926 L 37309.2366235,285084.190301 L 37290.2432405,285066.729068 L 37283.8404353,285057.903548 L 37277.1940409,285044.075542 L 37260.5321627,285002.431975 L 37261.0362891,284994.384464 L 37264.0784313,284986.324803 L 37274.6779286,284973.997127 L 37292.8545028,284942.468904 L 37298.1628755,284927.278848 L 37309.8823797,284865.86755 L 37318.7345951,284837.579137 L 37340.6220092,284774.892991 L 37348.7038651,284747.645021 L 37373.3195699,284688.837753 L 37382.9544335,284673.548695 L 37411.3033012,284637.737364 L 37436.1230868,284599.980751 L 37447.0834441,284578.164421 L 37466.6879657,284539.101712 L 37476.5587489,284511.766989 L 37479.2350123,284497.708102 L 37487.435831,284471.346085 L 37506.9707834,284430.838379 L 37517.5124686,284403.471134 L 37567.654087,284282.917427 L 37575.3335725,284262.709575 L 37577.7388181,284241.532475 L 37574.5744835,284159.562932 L 37564.6037495,284112.6903 L 37553.2653656,284073.015657 L 37541.6827389,284048.284435 L 37527.4901344,284020.560131 L 37522.3647633,284005.766419 L 37523.6175781,283994.673987 L 37531.4662029,283979.472205 L 37534.7353067,283974.52177 L 37537.3663396,283970.270943 L 37540.1571909,283966.235203 L 37556.2156551,283941.719905 L 37560.9983491,283932.573009 L 37567.1207631,283900.295122 L 37568.1100342,283885.315502 L 37570.1338771,283873.182742 L 37573.1285999,283864.122798 L 37574.3255221,283834.981574 L 37576.785206,283814.916155 L 37577.4340491,283792.933054 L 37578.7098519,283783.84526 L 37578.1859179,283737.739043 L 37577.650861,283726.733566 L 37575.218795,283676.70867 L 37578.5468244,283657.603912 L 37583.0607872,283644.45868 L 37598.0859326,283617.096688 L 37608.6590371,283585.716854 L 37613.4577559,283561.526336 L 37622.5030725,283500.246393 L 37620.5467693,283423.121147 L 37622.9489626,283411.081481 L 37636.4567247,283381.676274 L 37647.9544893,283369.306002 L 37721.2962601,283303.23051 L 37755.713026,283269.132674 L 37796.0359901,283232.073916 L 37818.9097813,283206.337212 L 37841.6174973,283178.714396 L 37861.6376183,283151.110768 L 37862.488575,283150.178018 L 37889.4212925,283120.344561 L 37938.7975152,283055.881749 L 37941.6589229,283028.665744 L 37943.7380514,283017.644834 L 37937.9997541,282968.672038 L 37932.731491,282946.307813 L 37928.4704829,282933.92325 L 37908.8548065,282891.418422 L 37907.0492122,282889.611794 L 37869.5904157,282853.43332 L 37792.1290901,282799.474812 L 37785.385941,282792.893729 L 37760.6346516,282769.247286 L 37756.8181141,282761.409797 L 37756.3127347,282746.391477 L 37754.3461823,282727.432698 L 37755.4283468,282714.342985 L 37763.1080567,282697.14426 L 37781.2743244,282680.550537 L 37803.77027,282666.978052 L 37812.1995004,282663.67158 L 37831.919826,282662.15685 L 37844.0511449,282662.793519 L 37856.8585197,282663.508818 L 37865.2165723,282657.197315 L 37873.408375,282648.999613 L 37872.702403,282635.996762 L 37870.4315397,282623.069887 L 37864.8571297,282605.177691 L 37854.7123067,282582.381689 L 37841.0098081,282564.772716 L 37778.3549079,282497.392338 L 37761.8440137,282475.797047 L 37688.0662847,282391.686247 L 37676.3684967,282379.997354 L 37664.4503241,282365.310613 L 37654.2979378,282348.532388 L 37652.5514342,282332.571504 L 37658.8058093,282301.401903 L 37660.8459931,282295.731355 L 37663.3959586,282288.253183 L 37667.2052415,282262.105248 L 37670.1958963,282252.934244 L 37680.6130228,282236.716766 L 37691.8672496,282222.352938 L 37705.9069961,282209.970982 L 37744.4707973,282188.820869 L 37747.4453164,282187.004985 L 37764.4780979,282176.260694 L 37793.8836191,282143.409993 L 37796.9511661,282137.355342 L 37798.2766133,282129.26814 L 37795.9310116,282116.344905 L 37792.8088045,282104.350807 L 37790.8396999,282065.335044 L 37790.6420077,282024.338992 L 37791.9415453,282017.255905 L 37791.8325555,282013.472632 L 37789.8074466,281970.225316 L 37779.6449136,281922.470256 L 37763.6150672,281873.885813 L 37753.8156353,281852.075965 L 37737.9059693,281824.434275 L 37727.8296984,281810.772177 L 37701.5493926,281783.411334 L 37687.3338112,281773.738893 L 37627.4594977,281745.33576 L 37622.4184722,281738.449215 L 37613.7546194,281727.727241 L 37603.7437848,281716.959288 L 37597.9638836,281704.09151 L 37592.07595,281635.180379 L 37589.6326156,281620.256218 L 37588.0771943,281588.240339 L 37591.6990561,281575.138661 L 37599.5952252,281560.826481 L 37620.74107,281536.287822 L 37625.6279133,281527.693299 L 37629.5577059,281520.928126 L 37634.4554628,281504.867371 L 37646.8200661,281453.343971 L 37645.5080171,281426.330574 L 37631.1481624,281393.71093 L 37621.2072497,281369.010946 L 37603.7112615,281336.432253 L 37597.3834109,281324.593928 L 37580.8010246,281296.98519 L 37563.5379036,281278.435276 L 37525.1235519,281247.430208 L 37514.2433078,281235.70172 L 37502.2254959,281219.014234 L 37485.03644,281200.460916 L 37474.1787359,281190.737111 L 37458.1724966,281181.152107 L 37424.1150427,281169.101628 L 37411.5633051,281158.345977 L 37408.7372265,281152.466188 L 37409.2167266,281145.422866 L 37410.6933526,281140.448224 L 37420.3287668,281108.111252 L 37423.3930859,281081.999407 L 37426.8691779,281065.896144 L 37427.300095,281057.852329 L 37430.0967624,281044.67924 L 37436.5048621,281033.55921 L 37443.8960997,281027.294274 L 37473.3359531,281013.495013 L 37510.9645476,280991.386611 L 37524.7869376,280976.006467 L 37533.4607117,280960.765066 L 37535.6807782,280952.634354 L 37534.4170202,280926.621469 L 37529.6561874,280917.827048 L 37525.6872201,280906.877017 L 37477.4579501,280800.020297 L 37466.5531033,280769.350157 L 37450.0563043,280729.703184 L 37446.0871007,280718.753199 L 37430.5613081,280682.179079 L 37428.5496671,280676.148261 L 37428.1368512,280649.202587 L 37431.0310857,280638.030503 L 37438.8366431,280621.828328 L 37444.7764602,280602.596827 L 37442.2354349,280585.671724 L 37437.7421787,280579.315777 L 37432.9280402,280570.96971 L 37402.9864451,280540.667602 L 37386.8572388,280510.140023 L 37380.8814906,280493.270435 L 37380.2039422,280476.254775 L 37395.6155021,280439.737165 L 37394.9282273,280408.681971 L 37390.3547822,280386.841361 L 37388.9772051,280373.871157 L 37384.3453868,280352.367672 L 37383.7594806,280268.044663 L 37383.677359,280264.817224 L 37385.4329877,280231.749031 L 37381.1717141,280214.79611 L 37372.4071499,280200.513475 L 37365.9795418,280185.114415 L 37363.8758838,280177.19379 L 37359.3552657,280170.282061 L 37352.5332323,280154.456466 L 37340.1954107,280132.770384 L 37318.3771651,280071.319369 L 37314.0117285,280035.317233 L 37317.3199564,280014.20784 L 37315.3327589,279990.235834 L 37310.9793369,279971.393133 L 37300.2131075,279943.61356 L 37282.063459,279890.007158 L 37275.0950751,279871.180156 L 37263.002872,279851.487952 L 37250.1132074,279833.840253 L 37234.6313488,279818.21289 L 37228.5890255,279813.826645 L 37223.1971855,279810.523067 L 37218.0841674,279809.880229 L 37209.3654539,279808.855564 L 37187.0030576,279808.494323 L 37145.2510358,279816.653269 L 37107.0313917,279826.757865 L 37066.6350548,279845.882939 L 37040.0250673,279862.666137 L 36998.6632484,279900.335949 L 36996.4019181,279903.008856 L 36971.5335144,279926.393422 L 36967.7336198,279929.698363 L 36964.2427661,279933.211125 L 36916.5130276,279978.211577 L 36912.5244089,279985.314344 L 36912.2965379,280014.4085 L 36910.1134745,280035.574915 L 36909.4052322,280042.518012 L 36912.1685169,280062.440791 L 36916.8389849,280138.431146 L 36919.0226888,280166.405056 L 36914.8323312,280201.597867 L 36914.548006,280212.643219 L 36912.3000978,280218.658405 L 36811.6950772,280204.39079 L 36783.3645809,280204.210446 L 36749.1308297,280207.103514 L 36741.7882178,280208.241167 L 36696.1886908,280215.588222 L 36676.8268858,280223.105862 L 36651.1286338,280224.80367 L 36628.4980578,280220.446323 L 36590.7774655,280205.458602 L 36486.038474,280172.343494 L 36436.7508889,280151.569134 L 36408.273589,280148.38915 L 36336.5413526,280142.416115 L 36296.6953796,280134.442568 L 36242.077137,280126.967215 L 36234.9065196,280123.974191 L 36221.1142488,280118.518532 L 36194.5339773,280105.218252 L 36168.7274351,280087.868817 L 36120.1193683,280061.158008 L 36071.1303707,280043.492064 L 36015.5695235,280002.969801 L 35921.0792674,279957.997931 L 35905.2916065,279943.837385 L 35877.3395977,279934.616966 L 35871.3342453,279931.010273 L 35851.6344829,279919.381042 L 35830.0578743,279899.931966 L 35803.2345253,279874.053477 L 35803.3924468,279866.579868 L 35789.6957434,279850.86881 L 35765.3881875,279827.541871 L 35742.168309,279811.182028 L 35723.6149041,279801.614344 L 35684.3953368,279789.714033 L 35610.6200791,279775.714945 L 35590.668358,279774.239108 L 35557.809718,279770.163064 L 35513.5375045,279760.405322 L 35485.0263422,279758.122793 L 35425.9406041,279761.79364 L 35274.664248,279784.463954 L 35268.5456655,279780.083361 L 35263.3065469,279781.454185 L 35252.4718599,279784.547597 L 35207.3137969,279788.764568 L 35202.1847569,279798.487476 L 35184.8121141,279808.475696 L 35164.7027162,279819.043742 L 35144.3739141,279823.605265 L 35124.6926853,279826.12936 L 35112.5801849,279824.49405 L 35086.34082,279815.193407 L 35074.1796318,279807.988938 L 35060.352625,279801.869001 L 35050.2786144,279799.131047 L 35018.2395852,279795.017896 L 34951.9507042,279776.760105 L 34923.126818,279766.583946 L 34915.7461424,279757.80826 L 34907.1475017,279740.9577 L 34903.1783468,279730.120435 L 34901.1023546,279716.738845 L 34900.0570499,279710.661288 L 34899.55892,279708.122755 L 34896.0606202,279699.268199 L 34878.8880953,279673.700501 L 34869.3219532,279653.888727 L 34849.3473045,279580.319516 L 34846.6965065,279529.301842 L 34847.0924444,279502.315703 L 34843.3001128,279478.320726 L 34840.1508956,279467.443284 L 34826.4858758,279435.686338 L 34804.8229324,279396.298414 L 34798.0420647,279381.476046 L 34772.5690319,279336.034799 L 34765.9114758,279326.778053 L 34737.2420186,279299.991532 L 34729.7878977,279288.21093 L 34725.68912,279276.265769 L 34722.5020624,279246.335197 L 34715.6663291,279230.401258 L 34711.6691755,279223.577033 L 34706.2517471,279213.702349 L 34699.3723209,279196.879103 L 34689.1319797,279180.109283 L 34685.4568766,279166.137565 L 34683.8316907,279142.147767 L 34677.1975185,279130.32699 L 34672.8095578,279112.49009 L 34670.5406327,279084.520283 L 34648.8937261,279047.026339 L 34648.2447895,279033.797649 L 34647.4704297,279018.012154 L 34653.4035867,278998.777503 L 34662.7468666,278980.489918 L 34666.2920443,278964.381113 L 34666.6961111,278954.33233 L 34669.4682351,278942.273035 L 34673.6297603,278934.157177 L 34694.4970471,278908.507028 L 34697.5636746,278902.450684 L 34699.7374175,278893.429446 L 34700.7655518,278879.338484 L 34699.8568334,278862.333826 L 34689.8965408,278834.518379 L 34682.3062207,278801.683658 L 34671.5896656,278759.976213 L 34667.8456053,278736.981813 L 34659.7037557,278711.194429 L 34653.153349,278684.326097 L 34649.6855241,278665.441169 L 34647.7291717,278645.367777 L 34645.474206,278634.446527 L 34643.1071337,278604.475756 L 34640.7540065,278591.55353 L 34636.3609794,278503.514178 L 34637.0348849,278430.381178 L 34639.8328553,278417.317736 L 34639.1064796,278387.266501 L 34628.9981666,278356.449664 L 34611.9251533,278323.857232 L 34600.2049691,278295.236714 L 34591.652856,278279.38702 L 34575.7178649,278254.762007 L 34562.1198712,278238.156981 L 34547.8649361,278229.495949 L 34532.9859498,278224.877153 L 34464.4565422,278220.773788 L 34417.5108126,278223.857856 L 34411.7737905,278224.250881 L 34400.7726701,278228.579597 L 34394.2443951,278235.697471 L 34381.7154082,278259.156307 L 34369.533918,278274.463493 L 34363.2713011,278280.89977 L 34352.3795106,278292.020655 L 34342.2734816,278296.305554 L 34320.1933695,278301.846998 L 34302.2531419,278303.396509 L 34284.9312791,278300.792674 L 34265.6284762,278294.386004 L 34232.9906218,278278.271028 L 34204.1611794,278252.943033 L 34190.060278,278244.386707 L 34176.0504625,278240.729015 L 34166.642769,278240.968309 L 34163.3832018,278241.574177 L 34145.3392062,278245.580799 L 34128.2937301,278247.08688 L 34093.5895493,278245.226244 L 34091.192143,278245.121184 L 34069.8340006,278248.622304 L 34059.9009732,278254.905015 L 34048.1969583,278272.30673 L 34040.5250786,278280.484159 L 34037.9859087,278282.057597 L 34007.0720538,278299.512133 L 33989.2150838,278321.005201 L 33981.6449241,278325.1661 L 33962.1624583,278328.798311 L 33942.3524342,278330.329448 L 33923.118354,278323.809085 L 33893.5817088,278317.572538 L 33847.9915113,278317.808822 L 33827.4610431,278318.37288 L 33819.8472331,278321.644674 L 33815.2055605,278324.547413 L 33804.910967,278331.071253 L 33739.6588,278385.986989 L 33722.0579747,278394.430572 L 33687.2630393,278404.388963 L 33658.9222616,278404.223675 L 33651.277843,278408.388694 L 33639.0814929,278418.795239 L 33610.603066,278435.575028 L 33592.7309657,278440.020744 L 33569.9848049,278448.718133 L 33555.0492464,278458.145392 L 33533.2577132,278487.745665 L 33503.3816149,278518.635651 L 33483.8652207,278532.188933 L 33459.6945607,278546.863011 L 33448.5467991,278548.192143 L 33430.9348178,278539.699139 L 33409.2208774,278519.261847 L 33402.756577,278509.439718 L 33396.8168453,278493.574263 L 33394.1167971,278458.493828 L 33369.5490049,278380.139608 L 33367.7505084,278342.117448 L 33368.7756986,278328.026132 L 33368.6595215,278308.976474 L 33369.8380784,278297.997783 L 33368.3340878,278268.987352 L 33363.5924851,278241.027906 L 33360.5879297,278233.152613 L 33335.1092227,278222.818684 L 33282.7320307,278208.2386 L 33261.9545098,278203.802233 L 33209.3115663,278217.206123 L 33195.6275086,278218.660713 L 33168.4275955,278208.3009 L 33160.6912051,278207.567955 L 33151.4554078,278212.815018 L 33137.4881221,278225.204374 L 33129.9183412,278229.366414 L 33124.0945967,278232.550887 L 33112.1511217,278232.916938 L 33102.0514565,278222.159985 L 33099.8737888,278196.191483 L 33100.4667901,278155.154013 L 33096.5061488,278111.220899 L 33092.4045459,278096.26794 L 33086.4877583,278082.407411 L 33079.947911,278072.589287 L 33062.7596,278056.052994 L 33040.6367668,278042.545997 L 33016.3839364,278022.235134 L 33001.6082405,278001.568319 L 32990.6262801,277969.905151 L 32982.5133512,277963.062033 L 32974.6526554,277961.332518 L 32962.6778891,277962.591857 L 32953.5898932,277970.840684 L 32949.8520588,277979.939934 L 32957.2795846,278018.353097 L 32929.6870894,278059.162627 L 32903.8221757,278081.94593 L 32868.5818866,278082.904883 L 32861.3987362,278063.089499 L 32871.7847421,278038.729695 L 32862.6077439,278025.475976 L 32834.720663,278057.274259 L 32832.6084161,278062.950302 L 32816.2830689,278106.324582 L 32801.7366939,278141.810605 L 32764.9446813,278167.362737 L 32766.0968251,278208.871478 L 32753.914676,278246.803986 L 32729.9689896,278258.461287 L 32697.4331475,278279.346349 L 32678.7538037,278321.945945 L 32692.4594696,278339.098865 L 32712.6102622,278352.033273 L 32751.3703979,278395.13954 L 32768.9406954,278392.154743 L 32775.1650695,278378.920857 L 32790.4442244,278371.926115 L 32815.0527828,278384.306474 L 32838.4285924,278432.295834 L 32867.8716473,278539.604 L 32883.9772971,278644.784616 L 32870.3885937,278711.759697 L 32866.7054085,278724.979504 L 32836.2757817,278833.905922 L 32809.4282192,278903.318827 L 32768.1058683,279003.534464 L 32767.1881713,279006.142814 L 32766.2649857,279008.639999 L 32764.7804792,279013.393628 L 32753.7595343,279046.031514 L 32752.6511936,279085.646113 L 32765.3917942,279146.864025 L 32765.4584168,279228.432065 L 32773.7711111,279292.320256 L 32791.7766495,279384.480331 L 32806.1711192,279426.2267 L 32822.65179,279463.301189 L 32823.926702,279511.824427 L 32829.8258161,279564.688209 L 32846.2841014,279601.31809 L 32851.718295,279638.715203 L 32865.8342118,279749.008672 L 32866.640279,279859.179302 L 32859.7438597,280011.630353 L 32846.4532478,280089.066311 L 32838.092317,280164.92164 L 32830.5567179,280233.270012 L 32816.4581722,280282.218335 L 32800.123388,280331.277182 L 32797.2392976,280386.35784 L 32789.316867,280419.622973 L 32774.5329581,280444.089307 L 32763.9295299,280457.874112 L 32760.1901009,280482.017727 L 32765.4796862,280514.964492 L 32771.0650069,280556.923013 L 32782.7452795,280583.090731 L 32790.5668944,280624.938777 L 32782.424071,280730.871526 L 32778.5876335,280746.996509 L 32775.8042912,280758.723437 L 32774.5024738,280764.136716 L 32763.8997404,280777.92155 L 32733.814961,280807.267305 L 32723.5067768,280836.081635 L 32715.881651,280878.358683 L 32718.9965419,280930.802901 L 32723.0602617,280997.909885 L 32723.9510206,281012.90983 L 32727.8855344,281156.02311 L 32721.6837876,281251.273809 L 32702.8970466,281368.542501 L 32700.4124054,281439.204896 L 32674.7157124,281504.32858 L 32672.9285685,281508.985849 L 32669.4703873,281517.626027 L 32668.0693671,281548.229035 L 32653.4866954,281579.706633 L 32582.0448168,281709.386217 L 32558.8270889,281747.531701 L 32548.6729958,281780.907942 L 32524.3285976,281938.235884 L 32512.5266185,281989.635196 L 32496.667595,282054.162028 L 32477.7092869,282087.751239 L 32458.4302126,282110.324091 L 32427.6660901,282115.189641 L 32390.2610054,282118.712493 L 32370.0933578,282108.23267 L 32345.7976403,282106.426531 L 32326.2723797,282117.979727 L 32307.1150562,282142.998752 L 32281.6188024,282178.806891 L 32269.2015063,282210.178616 L 32258.4819259,282221.518923 L 32249.8525076,282228.298227 L 32241.8135083,282257.55877 L 32226.8618065,282275.46071 L 32214.0002645,282288.801652 L 32205.6455417,282307.156985 L 32215.4808275,282344.335885 L 32207.126587,282359.682375 L 32196.9459466,282390.943553 L 32184.6288346,282424.316481 L 32158.6126344,282440.53801 L 32130.7593498,282472.452039 L 32116.0312137,282499.369775 L 32095.2319588,282543.972778 L 32087.7168278,282592.820847 L 32085.1901304,282660.923432 L 32071.3292559,282718.889677 L 32063.9606285,282772.18811 L 32084.7705125,282804.699686 L 32107.8371923,282843.562902 L 32102.4869144,282887.846193 L 32095.1430889,282943.149263 L 32104.6622344,282969.422704 L 32137.4344514,282955.428978 L 32168.4935979,282961.133464 L 32191.1416076,282982.521865 L 32214.3582697,283025.946931 L 32229.9336208,283109.645471 L 32234.2962712,283188.661902 L 32229.8829205,283268.44743 L 32189.6617621,283331.062653 L 32140.5253564,283390.108291 L 32092.5924608,283493.001565 L 32027.0855402,283598.438335 L 31972.156599,283688.195802 L 31932.2145165,283757.820204 L 31927.3108406,283821.583603 L 31929.4653883,283901.155546 L 31934.8223831,284013.666004 L 31944.9336772,284059.411593 L 31966.0600632,284107.396791 L 31994.4724932,284177.308443 L 32016.8873816,284269.359643 L 32034.3277314,284343.938811 L 32053.9614394,284416.069018 L 32067.3722929,284499.763166 L 32077.7232021,284636.208201 L 32082.9573351,284746.273108 L 32076.4560017,284830.509003 L 32082.3074681,284965.059893 L 32096.1198172,285065.895748 L 32104.8319287,285140.684964 L 32114.4887562,285251.087796 L 32119.9703199,285322.471192 L 32121.3434356,285341.124839 L 32116.4387796,285403.32815 L 32106.8890161,285456.178113 L 32121.0509441,285488.79599 L 32132.8733257,285599.202896 L 32155.2780921,285691.143311 L 32192.2597171,285751.826643 L 32238.3790512,285823.646736 L 32270.8546081,285882.32508 L 32298.3600731,285919.073608 L 32354.3052371,285948.172061 L 32391.2285023,286004.736034 L 32431.0890901,286021.14818 L 32451.4426859,286029.611972 L 32504.8742182,286045.686533 L 32536.3095985,286066.862826 L 32620.5899211,286161.646045 L 32655.2229838,286215.761715 L 32685.0354676,286256.966494 L 32725.453698,286361.611877 L 32762.0742633,286409.166216 L 32769.1013019,286438.015181 L 32772.6464564,286474.9486 L 32798.2088076,286520.821695 L 32809.1018382,286597.6206 L 32816.9457586,286641.473306 L 32818.4976748,286669.813213 L 32821.5520025,286725.492535 L 32816.2010563,286793.846067 L 32815.6984815,286798.77422 L 32815.344842,286803.695002 L 32813.3338185,286829.425312 L 32809.1637048,286920.119511 L 32780.471983,286997.986403 L 32751.4619459,287069.405859 L 32726.5085688,287123.24028 L 32718.3057554,287132.450087 L 32696.5328379,287157.041775 L 32661.5953041,287169.024383 L 32643.6095267,287158.548477 L 32625.2250917,287132.490971 L 32598.7111077,287130.684084 L 32595.2278809,287131.190953 L 32591.6812059,287131.923845 L 32586.7032189,287132.393331 L 32559.129771,287136.322484 L 32523.3778662,287119.817978 L 32501.3093037,287120.354349 L 32481.9782762,287138.473906 L 32484.7570362,287158.395179 L 32506.7509942,287157.862428 L 32524.514264,287159.322417 L 32538.3489718,287180.924645 L 32523.5651718,287207.956738 L 32513.5031708,287230.854536 L 32504.9196464,287250.447368 L 32483.4020193,287271.126979 L 32497.0385224,287285.718281 L 32506.6780836,287314.548974 L 32508.0623068,287365.073595 L 32504.8321374,287379.720723 L 32492.4026634,287436.167588 L 32445.1358574,287483.977489 L 32432.1880849,287492.30862 L 32427.9907547,287494.968353 L 32423.7989393,287497.739255 L 32384.3822976,287523.207092 L 32353.9700699,287539.09071 L 32366.4811324,287558.083618 L 32376.9763565,287574.056204 L 32415.7033227,287620.500648 L 32427.2049332,287634.194631 L 32442.2535463,287699.866251 L 32422.822057,287741.504843 L 32420.8088699,287746.062217 L 32419.3196748,287749.144905 L 32409.4738198,287791.422722 L 32437.5217564,287848.314759 L 32475.5803509,287869.273031 L 32487.5769613,287901.998615 L 32486.7751495,287955.083325 L 32481.6750385,287995.231312 L 32477.7500475,288025.96018 L 32481.3190356,288078.382482 L 32485.8902225,288095.317487 L 32496.0719105,288133.593544 L 32493.7282298,288208.26245 L 32490.5955646,288217.332873 L 32471.2648616,288273.007809 L 32436.4266401,288371.130033 L 32411.2479972,288499.97655 L 32373.6525405,288655.293125 L 32278.7195469,288894.248712 L 32233.0329101,288999.151906 L 32123.5349634,289189.466321 L 32078.5979201,289241.73435 L 32074.1900443,289247.636698 L 32071.0970741,289251.467826 L 32068.1640208,289255.513895 L 32038.1362078,289295.452119 L 31971.9451945,289374.965339 L 31913.7727615,289425.106516 L 31856.1993907,289499.28975 L 31779.2028568,289589.48387 L 31679.9113031,289669.421165 L 31613.1754283,289728.795692 L 31557.0213955,289774.383057 L 31549.9154537,289778.52566 L 31545.7258196,289781.297295 L 31541.508529,289783.513103 L 31537.4511632,289785.943839 L 31460.9091238,289810.147216 L 31401.9492996,289833.81056 L 31325.8002186,289873.37521 L 31270.9721963,289915.556424 L 31202.2517697,289957.427449 L 31167.3596243,289971.424698 L 31144.1916637,290009.577962 L 31120.4518515,290030.263471 L 31091.8952957,290035.141549 L 31078.7836745,290040.02993 L 31077.0432613,290057.50164 L 31077.7722986,290084.099937 L 31095.6532293,290092.569728 L 31106.6538885,290090.238318 L 31126.0275969,290071.776288 L 31170.1846223,290073.030313 L 31212.5336307,290087.413449 L 31270.7278429,290118.838172 L 31345.0931358,290173.86372 L 31389.0629279,290247.788534 L 31412.9611851,290315.692211 L 31443.8649701,290393.945512 L 31455.8680558,290431.237969 L 31463.318539,290459.507467 L 31477.2293393,290485.672267 L 31493.485096,290593.406901 L 31479.8632192,290659.946983 L 31457.1721567,290718.134839 L 31440.0158376,290736.151138 L 31431.7735974,290756.39818 L 31419.7358473,290800.794203 L 31402.9047952,290829.827172 L 31381.3007276,290848.399543 L 31362.0849733,290872.982335 L 31354.0156169,290899.684547 L 31345.1295112,290898.009817 L 31327.9741283,290916.026491 L 31346.0301147,290931.063155 L 31338.311253,290970.786634 L 31317.3106872,291008.943015 L 31300.1557635,291026.959791 L 31284.7048916,291025.277944 L 31275.6187882,291016.592462 L 31260.4241947,291026.0421 L 31238.3956458,291028.588633 L 31234.5030522,291046.279019 L 31239.6696631,291075.107887 L 31236.3532183,291114.835079 L 31220.0695071,291163.789616 L 31203.3190936,291197.388485 L 31186.8103547,291237.327577 L 31174.8543718,291286.289475 L 31153.9038037,291326.895917 L 31139.1862508,291353.372851 L 31138.1506965,291395.438208 L 31134.8829784,291437.614868 L 31129.4044697,291477.338601 L 31108.4550927,291517.945259 L 31083.1137669,291560.219809 L 31033.8369286,291614.60976 L 30948.6520578,291725.175844 L 30909.8541308,291759.318876 L 30858.1701086,291807.255665 L 30824.041538,291849.747411 L 30813.9232013,291883.128213 L 30803.5476007,291905.377594 L 30793.6559006,291947.774022 L 30799.2762763,291991.624828 L 30800.3816108,292031.689118 L 30799.8798423,292093.342154 L 30792.6202041,292151.097797 L 30802.635623,292194.840598 L 30794.0756566,292283.308035 L 30784.7046078,292345.069682 L 30773.6094057,292423.076732 L 30747.0651764,292500.852447 L 30726.5807176,292556.594235 L 30709.7327467,292588.082726 L 30689.9220912,292588.626601 L 30677.1853156,292584.470843 L 30669.9103226,292582.15966 L 30640.7357089,292565.452034 L 30607.8397551,292572.779403 L 30599.5294834,292593.031625 L 30605.6571905,292654.465105 L 30617.458642,292683.185001 L 30640.0064121,292700.112145 L 30656.2288223,292726.270884 L 30645.4546566,292737.507798 L 30626.4026373,292766.65501 L 30602.9985387,292798.24867 L 30580.6599527,292867.568576 L 30569.0357238,292927.437585 L 30561.4057993,292971.727761 L 30552.1449603,293035.602135 L 30518.7824936,293105.139214 L 30410.9907595,293280.369926 L 30394.6746358,293326.878086 L 30358.3763267,293371.934171 L 30330.661697,293408.202756 L 30313.9190631,293441.693615 L 30288.7696761,293488.978535 L 30233.198851,293554.1685 L 30177.4978059,293615.242198 L 30112.6082919,293661.062966 L 30058.1678846,293689.198722 L 30034.7453186,293718.790304 L 30011.1782193,293745.491679 L 29985.022333,293757.723589 L 29960.9271884,293764.948802 L 29937.8911208,293809.678007 L 29907.8223224,293839.046025 L 29869.422643,293886.66299 L 29831.0754939,293938.289668 L 29785.0512012,294003.340676 L 29782.1169685,294007.276932 L 29780.1050202,294010.275386 L 29736.8177473,294052.566249 L 29724.2388991,294064.89882 L 29698.969343,294109.629853 L 29698.079557,294155.812907 L 29691.3937954,294233.602861 L 29709.7889336,294265.89099 L 29714.5429281,294274.456749 L 29723.9615728,294294.267447 L 29711.7992759,294334.217696 L 29710.9309342,294337.716058 L 29623.4100232,294345.338339 L 29618.5962852,294392.052699 L 29619.9013827,294453.72813 L 29623.8373172,294515.828797 L 29624.3857833,294525.274163 L 29648.5811765,294597.39149 L 29689.5567985,294666.661054 L 29731.9222781,294726.499691 L 29759.2336652,294789.433936 L 29766.7062536,294849.239746 L 29757.0012505,294887.617993 L 29741.1205618,294929.203625 L 29704.0153311,294974.194419 L 29665.9587811,294998.727222 L 29586.9096747,295063.543457 L 29551.3642637,295102.439068 L 29532.6432653,295139.375881 L 29530.279969,295181.398229 z\" /><path fill-rule=\"evenodd\" fill=\"#66cc99\" stroke=\"#555555\" stroke-width=\"442.098574846\" opacity=\"0.6\" d=\"M 28159.2336158,294014.317772 L 28163.983078,294024.220077 L 28169.7737778,294034.069885 L 28166.6817131,294042.250055 L 28164.722098,294050.707472 L 28169.4476001,294061.61402 L 28176.1031685,294064.956232 L 28190.5008137,294066.570733 L 28198.3967974,294070.853464 L 28208.2998327,294070.577096 L 28222.4946637,294063.731849 L 28230.2352381,294063.453087 L 28244.505504,294061.062015 L 28251.1569473,294062.844246 L 28272.2090595,294063.343389 L 28292.7992201,294051.718067 L 28293.5568347,294038.640478 L 28306.3510626,294020.275463 L 28321.3063194,294003.361853 L 28333.3955709,293991.719311 L 28344.9922499,293980.658858 L 28361.3104633,293962.673665 L 28404.0487445,293922.962548 L 28459.3418251,293839.37778 L 28492.9468698,293772.265619 L 28525.1369697,293733.309733 L 28568.5786799,293701.588907 L 28646.4964478,293634.810416 L 28695.8550044,293578.385982 L 28753.617418,293503.707746 L 28774.839807,293467.534307 L 28776.5914848,293451.955067 L 28740.5596037,293430.921141 L 28708.8729661,293407.328392 L 28692.5677031,293376.720769 L 28646.4815146,293391.522027 L 28591.0732302,293392.973459 L 28551.184676,293391.638035 L 28538.1842027,293402.991483 L 28519.34951,293443.615024 L 28480.5783289,293482.23349 L 28452.3202955,293503.048423 L 28444.7830013,293551.796247 L 28437.3265589,293574.015511 L 28430.5132073,293594.196343 L 28389.4867605,293635.381026 L 28368.3682453,293673.557004 L 28359.8916241,293687.357787 L 28347.6086967,293692.211649 L 28317.5845618,293707.543987 L 28295.2437656,293739.206476 L 28286.8137968,293752.447803 L 28264.8002058,293756.566325 L 28252.940797,293766.860014 L 28239.1327694,293785.833441 L 28228.3651955,293797.075188 L 28228.6968043,293808.091822 L 28222.7597603,293833.80123 L 28219.6883601,293843.874926 L 28210.2719719,293859.729427 L 28205.0462278,293872.920833 L 28205.42681,293886.386859 L 28205.8843282,293902.858103 L 28205.1003527,293913.93098 L 28203.3505259,293929.510471 L 28184.8930227,293942.031598 L 28171.8176418,293950.380745 L 28174.4367224,293962.396538 L 28166.2632964,293988.10736 L 28158.9257583,294002.296895 L 28159.2336158,294014.317772 z\" /><path fill-rule=\"evenodd\" fill=\"#66cc99\" stroke=\"#555555\" stroke-width=\"442.098574846\" opacity=\"0.6\" d=\"M 27944.5825476,295688.294558 L 27956.2323764,295718.243426 L 27977.6321324,295737.558259 L 27985.7702826,295737.816135 L 28031.1957419,295739.869754 L 28106.5100668,295718.23721 L 28168.009827,295676.907507 L 28192.2836642,295652.724624 L 28193.5477288,295578.770502 L 28155.9535281,295539.876739 L 28124.9629988,295531.409823 L 28063.8623524,295531.929488 L 27960.1881622,295595.784247 L 27948.3714146,295614.212622 L 27944.5825476,295688.294558 z\" /><path fill-rule=\"evenodd\" fill=\"#66cc99\" stroke=\"#555555\" stroke-width=\"442.098574846\" opacity=\"0.6\" d=\"M 27626.6938761,295898.497541 L 27645.4371109,295915.38212 L 27676.8002869,295909.116166 L 27713.4774697,295901.801725 L 27842.9534293,295844.217049 L 27867.3543401,295822.589506 L 27919.5084324,295796.997366 L 27915.6894541,295771.556917 L 27884.5705403,295760.534529 L 27733.6587588,295747.984913 L 27664.0422325,295782.039802 L 27628.5414436,295834.766453 L 27621.7273318,295850.379459 L 27626.6938761,295898.497541 z\" /></g></g></svg>"
      ],
      "text/plain": [
       "<shapely.geometry.multipolygon.MultiPolygon at 0xce94a90>"
      ]
     },
     "execution_count": 53,
     "metadata": {},
     "output_type": "execute_result"
    }
   ],
   "source": [
    "hood_polygons"
   ]
  },
  {
   "cell_type": "code",
   "execution_count": null,
   "metadata": {
    "collapsed": true
   },
   "outputs": [],
   "source": [
    "#Associate each block group with its index\n",
    "blockgroups_tup = []\n",
    "for hood in xrange(df_map.shape[0]):\n",
    "    blockgroups_tup.append((MultiPolygon(list(df_map['poly'].values))[hood], df_map['name'][hood]))"
   ]
  },
  {
   "cell_type": "markdown",
   "metadata": {
    "collapsed": true
   },
   "source": [
    "OK, this is not going to work.  I cannot save/process this massive tuple.  I need to clip out/focus on just the relevant block groups."
   ]
  },
  {
   "cell_type": "code",
   "execution_count": null,
   "metadata": {
    "collapsed": true
   },
   "outputs": [],
   "source": []
  }
 ],
 "metadata": {
  "kernelspec": {
   "display_name": "Python 2",
   "language": "python",
   "name": "python2"
  },
  "language_info": {
   "codemirror_mode": {
    "name": "ipython",
    "version": 2
   },
   "file_extension": ".py",
   "mimetype": "text/x-python",
   "name": "python",
   "nbconvert_exporter": "python",
   "pygments_lexer": "ipython2",
   "version": "2.7.10"
  }
 },
 "nbformat": 4,
 "nbformat_minor": 0
}
