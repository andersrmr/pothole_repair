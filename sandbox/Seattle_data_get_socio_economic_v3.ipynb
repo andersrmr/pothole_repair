{
 "cells": [
  {
   "cell_type": "code",
   "execution_count": 1,
   "metadata": {
    "collapsed": true
   },
   "outputs": [],
   "source": [
    "import pandas as pd\n",
    "import numpy as np\n",
    "import fiona\n",
    "from shapely.geometry import shape, Polygon, MultiPolygon, Point, MultiPoint\n",
    "import cPickle as pickle"
   ]
  },
  {
   "cell_type": "code",
   "execution_count": 2,
   "metadata": {
    "collapsed": true
   },
   "outputs": [],
   "source": [
    "pd.set_option('display.max_columns', 500)"
   ]
  },
  {
   "cell_type": "code",
   "execution_count": 3,
   "metadata": {
    "collapsed": true
   },
   "outputs": [],
   "source": [
    "df = pd.read_pickle('df_1to1999_geo_cleaned.pkl')"
   ]
  },
  {
   "cell_type": "code",
   "execution_count": 4,
   "metadata": {
    "collapsed": false
   },
   "outputs": [
    {
     "data": {
      "text/html": [
       "<div>\n",
       "<table border=\"1\" class=\"dataframe\">\n",
       "  <thead>\n",
       "    <tr style=\"text-align: right;\">\n",
       "      <th></th>\n",
       "      <th>OBJECTID</th>\n",
       "      <th>WOKEY</th>\n",
       "      <th>LOCATION</th>\n",
       "      <th>ADDRDESC</th>\n",
       "      <th>INITDT_dt</th>\n",
       "      <th>FLDSTARTDT_dt</th>\n",
       "      <th>FLDENDDT_dt</th>\n",
       "      <th>DURATION</th>\n",
       "      <th>DURATION_td</th>\n",
       "      <th>latitude</th>\n",
       "      <th>longitude</th>\n",
       "      <th>address</th>\n",
       "    </tr>\n",
       "  </thead>\n",
       "  <tbody>\n",
       "    <tr>\n",
       "      <th>0</th>\n",
       "      <td>1</td>\n",
       "      <td>2456</td>\n",
       "      <td>Holden pl SW bt  SW Kenyon Holden             ...</td>\n",
       "      <td>HOLDEN PL SW BETWEEN SW HOLDEN ST AND SW KENYO...</td>\n",
       "      <td>2010-03-29 07:00:00</td>\n",
       "      <td>2010-04-06 07:00:00</td>\n",
       "      <td>2010-04-06 07:00:00</td>\n",
       "      <td>8 days</td>\n",
       "      <td>8</td>\n",
       "      <td>47.531858</td>\n",
       "      <td>-122.363186</td>\n",
       "      <td>SW Kenyon St, Seattle, WA, USA</td>\n",
       "    </tr>\n",
       "    <tr>\n",
       "      <th>1</th>\n",
       "      <td>2</td>\n",
       "      <td>2514</td>\n",
       "      <td>NE Pacific Street, one block west of Montlake ...</td>\n",
       "      <td>MONTLAKE BLVD NE AND NE PACIFIC ST            ...</td>\n",
       "      <td>2010-03-30 07:00:00</td>\n",
       "      <td>2010-04-01 07:00:00</td>\n",
       "      <td>2010-04-01 07:00:00</td>\n",
       "      <td>2 days</td>\n",
       "      <td>2</td>\n",
       "      <td>47.649014</td>\n",
       "      <td>-122.304655</td>\n",
       "      <td>Montlake Blvd NE &amp; NE Pacific St, Seattle, WA ...</td>\n",
       "    </tr>\n",
       "  </tbody>\n",
       "</table>\n",
       "</div>"
      ],
      "text/plain": [
       "   OBJECTID  WOKEY                                           LOCATION  \\\n",
       "0         1   2456  Holden pl SW bt  SW Kenyon Holden             ...   \n",
       "1         2   2514  NE Pacific Street, one block west of Montlake ...   \n",
       "\n",
       "                                            ADDRDESC           INITDT_dt  \\\n",
       "0  HOLDEN PL SW BETWEEN SW HOLDEN ST AND SW KENYO... 2010-03-29 07:00:00   \n",
       "1  MONTLAKE BLVD NE AND NE PACIFIC ST            ... 2010-03-30 07:00:00   \n",
       "\n",
       "        FLDSTARTDT_dt         FLDENDDT_dt  DURATION  DURATION_td   latitude  \\\n",
       "0 2010-04-06 07:00:00 2010-04-06 07:00:00    8 days            8  47.531858   \n",
       "1 2010-04-01 07:00:00 2010-04-01 07:00:00    2 days            2  47.649014   \n",
       "\n",
       "    longitude                                            address  \n",
       "0 -122.363186                     SW Kenyon St, Seattle, WA, USA  \n",
       "1 -122.304655  Montlake Blvd NE & NE Pacific St, Seattle, WA ...  "
      ]
     },
     "execution_count": 4,
     "metadata": {},
     "output_type": "execute_result"
    }
   ],
   "source": [
    "df.head(2)"
   ]
  },
  {
   "cell_type": "code",
   "execution_count": 5,
   "metadata": {
    "collapsed": false
   },
   "outputs": [],
   "source": [
    "# Read in shapefile\n",
    "shapefilename = 'data/tl_2013_53_bg_Seattle'\n",
    "shp = fiona.open(shapefilename+'.shp')"
   ]
  },
  {
   "cell_type": "code",
   "execution_count": 6,
   "metadata": {
    "collapsed": true
   },
   "outputs": [],
   "source": [
    "# Get neighborhood polys and their indices\n",
    "polys = [shape(pol['geometry']) for pol in shp] #This might have been an unnecessary step; \n",
    "                                                #I might have gone straight to MultiPolygon\n",
    "#shp.close()"
   ]
  },
  {
   "cell_type": "code",
   "execution_count": 7,
   "metadata": {
    "collapsed": false
   },
   "outputs": [
    {
     "data": {
      "text/plain": [
       "576"
      ]
     },
     "execution_count": 7,
     "metadata": {},
     "output_type": "execute_result"
    }
   ],
   "source": [
    "len(polys)"
   ]
  },
  {
   "cell_type": "code",
   "execution_count": 8,
   "metadata": {
    "collapsed": false
   },
   "outputs": [
    {
     "name": "stdout",
     "output_type": "stream",
     "text": [
      "POLYGON ((-122.263118 47.504886, -122.263105 47.506122, -122.261288 47.506116, -122.259464 47.506108, -122.259446 47.507681, -122.259439 47.508218, -122.25943 47.509692, -122.258751 47.509697, -122.257075 47.5097, -122.255897 47.509704, -122.255907 47.508198, -122.255917 47.507642, -122.254753 47.506561, -122.254539 47.506351, -122.253306 47.505218, -122.251624 47.503657, -122.251151 47.50321899999999, -122.250865 47.502903, -122.250814 47.502831, -122.251413 47.502801, -122.251642 47.50282499999999, -122.25362 47.502729, -122.259515 47.502537, -122.259529 47.501306, -122.262399 47.501345, -122.262364 47.502523, -122.261325 47.502509, -122.261335 47.502714, -122.262496 47.503313, -122.263137 47.503313, -122.263118 47.504886))\n"
     ]
    }
   ],
   "source": [
    "print polys[0]"
   ]
  },
  {
   "cell_type": "code",
   "execution_count": 9,
   "metadata": {
    "collapsed": false
   },
   "outputs": [
    {
     "data": {
      "image/svg+xml": [
       "<svg xmlns=\"http://www.w3.org/2000/svg\" xmlns:xlink=\"http://www.w3.org/1999/xlink\" width=\"100.0\" height=\"100.0\" viewBox=\"-122.3234626 47.7009944 0.0060622 0.0078732\" preserveAspectRatio=\"xMinYMin meet\"><g transform=\"matrix(1,0,0,-1,0,95.409862)\"><path fill-rule=\"evenodd\" fill=\"#66cc99\" stroke=\"#555555\" stroke-width=\"0.000157464\" opacity=\"0.6\" d=\"M -122.323171,47.704954 L -122.320486,47.704936 L -122.320505,47.705846 L -122.320563,47.708576 L -122.317853,47.708559 L -122.317841,47.707649 L -122.317801,47.704918 L -122.317774,47.70401 L -122.317746,47.703102 L -122.317719,47.702194 L -122.317692,47.701286 L -122.32041,47.701304 L -122.320703,47.701306 L -122.323129,47.701323 L -122.323139,47.702231 L -122.32315,47.703139 L -122.32316,47.70404 L -122.323171,47.704954 z\" /></g></svg>"
      ],
      "text/plain": [
       "<shapely.geometry.polygon.Polygon at 0xa585f28>"
      ]
     },
     "execution_count": 9,
     "metadata": {},
     "output_type": "execute_result"
    }
   ],
   "source": [
    "polys[2]"
   ]
  },
  {
   "cell_type": "code",
   "execution_count": 10,
   "metadata": {
    "collapsed": false
   },
   "outputs": [
    {
     "data": {
      "text/plain": [
       "{'geometry': 'Polygon',\n",
       " 'properties': OrderedDict([(u'STATEFP', 'str:2'), (u'COUNTYFP', 'str:3'), (u'TRACTCE', 'str:6'), (u'BLKGRPCE', 'str:1'), (u'GEOID', 'str:12'), (u'NAMELSAD', 'str:13'), (u'MTFCC', 'str:5'), (u'FUNCSTAT', 'str:1'), (u'ALAND', 'float:14'), (u'AWATER', 'float:14'), (u'INTPTLAT', 'str:11'), (u'INTPTLON', 'str:12')])}"
      ]
     },
     "execution_count": 10,
     "metadata": {},
     "output_type": "execute_result"
    }
   ],
   "source": [
    "shp.schema"
   ]
  },
  {
   "cell_type": "code",
   "execution_count": 11,
   "metadata": {
    "collapsed": false
   },
   "outputs": [
    {
     "name": "stdout",
     "output_type": "stream",
     "text": [
      "1 530330119003 Block Group 3 Polygon\n",
      "2 530330222031 Block Group 1 Polygon\n",
      "3 530330012002 Block Group 2 Polygon\n",
      "4 530330079005 Block Group 5 Polygon\n",
      "5 530330275002 Block Group 2 Polygon\n",
      "6 530330046002 Block Group 2 Polygon\n",
      "7 530330069001 Block Group 1 Polygon\n",
      "8 530330114012 Block Group 2 Polygon\n",
      "9 530330047001 Block Group 1 Polygon\n",
      "10 530330213002 Block Group 2 Polygon\n",
      "11 530330097021 Block Group 1 Polygon\n",
      "12 530330013002 Block Group 2 Polygon\n",
      "13 530330034002 Block Group 2 Polygon\n",
      "14 530330061003 Block Group 3 Polygon\n",
      "15 530330030004 Block Group 4 Polygon\n",
      "16 530330028002 Block Group 2 Polygon\n",
      "17 530330001001 Block Group 1 Polygon\n",
      "18 530330001004 Block Group 4 Polygon\n",
      "19 530330002001 Block Group 1 Polygon\n",
      "20 530330002002 Block Group 2 Polygon\n",
      "21 530330002003 Block Group 3 Polygon\n",
      "22 530330002006 Block Group 6 Polygon\n",
      "23 530330002005 Block Group 5 Polygon\n",
      "24 530330003001 Block Group 1 Polygon\n",
      "25 530330003002 Block Group 2 Polygon\n",
      "26 530330004011 Block Group 1 Polygon\n",
      "27 530330004012 Block Group 2 Polygon\n",
      "28 530330004013 Block Group 3 Polygon\n",
      "29 530330004021 Block Group 1 Polygon\n",
      "30 530330004022 Block Group 2 Polygon\n",
      "31 530330004023 Block Group 3 Polygon\n",
      "32 530330004024 Block Group 4 Polygon\n",
      "33 530330261001 Block Group 1 Polygon\n",
      "34 530330268011 Block Group 1 Polygon\n",
      "35 530330005002 Block Group 2 Polygon\n",
      "36 530330007004 Block Group 4 Polygon\n",
      "37 530330007003 Block Group 3 Polygon\n",
      "38 530330008001 Block Group 1 Polygon\n",
      "39 530330008002 Block Group 2 Polygon\n",
      "40 530330009001 Block Group 1 Polygon\n",
      "41 530330009002 Block Group 2 Polygon\n",
      "42 530330010001 Block Group 1 Polygon\n",
      "43 530330010002 Block Group 2 Polygon\n",
      "44 530330011001 Block Group 1 Polygon\n",
      "45 530330011002 Block Group 2 Polygon\n",
      "46 530330012003 Block Group 3 Polygon\n",
      "47 530330012004 Block Group 4 Polygon\n",
      "48 530330012005 Block Group 5 Polygon\n",
      "49 530330005003 Block Group 3 Polygon\n",
      "50 530330006001 Block Group 1 Polygon\n",
      "51 530330006003 Block Group 3 Polygon\n",
      "52 530330006004 Block Group 4 Polygon\n",
      "53 530330006006 Block Group 6 Polygon\n",
      "54 530330007001 Block Group 1 Polygon\n",
      "55 530330006005 Block Group 5 Polygon\n",
      "56 530330007002 Block Group 2 Polygon\n",
      "57 530330081001 Block Group 1 Polygon\n",
      "58 530330041003 Block Group 3 Polygon\n",
      "59 530330098005 Block Group 5 Polygon\n",
      "60 530330012001 Block Group 1 Polygon\n",
      "61 530330021001 Block Group 1 Polygon\n",
      "62 530330027002 Block Group 2 Polygon\n",
      "63 530330027003 Block Group 3 Polygon\n",
      "64 530330027004 Block Group 4 Polygon\n",
      "65 530330028003 Block Group 3 Polygon\n",
      "66 530330029002 Block Group 2 Polygon\n",
      "67 530330029003 Block Group 3 Polygon\n",
      "68 530330030003 Block Group 3 Polygon\n",
      "69 530330030002 Block Group 2 Polygon\n",
      "70 530330031001 Block Group 1 Polygon\n",
      "71 530330031003 Block Group 3 Polygon\n",
      "72 530330031004 Block Group 4 Polygon\n",
      "73 530330034003 Block Group 3 Polygon\n",
      "74 530330035001 Block Group 1 Polygon\n",
      "75 530330035002 Block Group 2 Polygon\n",
      "76 530330035003 Block Group 3 Polygon\n",
      "77 530330034001 Block Group 1 Polygon\n",
      "78 530330036004 Block Group 4 Polygon\n",
      "79 530330038001 Block Group 1 Polygon\n",
      "80 530330074014 Block Group 4 Polygon\n",
      "81 530330111021 Block Group 1 Polygon\n",
      "82 530330022003 Block Group 3 Polygon\n",
      "83 530330025001 Block Group 1 Polygon\n",
      "84 530330223001 Block Group 1 Polygon\n",
      "85 530330039002 Block Group 2 Polygon\n",
      "86 530330039001 Block Group 1 Polygon\n",
      "87 530330242002 Block Group 2 Polygon\n",
      "88 530330050001 Block Group 1 Polygon\n",
      "89 530330061002 Block Group 2 Polygon\n",
      "90 530330063004 Block Group 4 Polygon\n",
      "91 530330095002 Block Group 2 Polygon\n",
      "92 530330102002 Block Group 2 Polygon\n",
      "93 530330101005 Block Group 5 Polygon\n",
      "94 530330246013 Block Group 3 Polygon\n",
      "95 530330104023 Block Group 3 Polygon\n",
      "96 530330104012 Block Group 2 Polygon\n",
      "97 530330107022 Block Group 2 Polygon\n",
      "98 530330001005 Block Group 5 Polygon\n",
      "99 530330014004 Block Group 4 Polygon\n",
      "100 530330016001 Block Group 1 Polygon\n",
      "101 530330208004 Block Group 4 Polygon\n",
      "102 530330209003 Block Group 3 Polygon\n",
      "103 530330096005 Block Group 5 Polygon\n",
      "104 530330080013 Block Group 3 Polygon\n",
      "105 530330265002 Block Group 2 Polygon\n",
      "106 530330120002 Block Group 2 Polygon\n",
      "107 530330119001 Block Group 1 Polygon\n",
      "108 530330031005 Block Group 5 Polygon\n",
      "109 530330015002 Block Group 2 Polygon\n",
      "110 530330043013 Block Group 3 Polygon\n",
      "111 530330056003 Block Group 3 Polygon\n",
      "112 530330057001 Block Group 1 Polygon\n",
      "113 530330058023 Block Group 3 Polygon\n",
      "114 530330032006 Block Group 6 Polygon\n",
      "115 530330084001 Block Group 1 Polygon\n",
      "116 530330080015 Block Group 5 Polygon\n",
      "117 530330081003 Block Group 3 Polygon\n",
      "118 530330084003 Block Group 3 Polygon\n",
      "119 530330242001 Block Group 1 Polygon\n",
      "120 530330261004 Block Group 4 Polygon\n",
      "121 530330114013 Block Group 3 Polygon\n",
      "122 530330110011 Block Group 1 Polygon\n",
      "123 530330110022 Block Group 2 Polygon\n",
      "124 530330114011 Block Group 1 Polygon\n",
      "125 530330110012 Block Group 2 Polygon\n",
      "126 530330271002 Block Group 2 Polygon\n",
      "127 530330005001 Block Group 1 Polygon\n",
      "128 530330032001 Block Group 1 Polygon\n",
      "129 530330032002 Block Group 2 Polygon\n",
      "130 530330032003 Block Group 3 Polygon\n",
      "131 530330032004 Block Group 4 Polygon\n",
      "132 530330031002 Block Group 2 Polygon\n",
      "133 530330032007 Block Group 7 Polygon\n",
      "134 530330033001 Block Group 1 Polygon\n",
      "135 530330033002 Block Group 2 Polygon\n",
      "136 530330033003 Block Group 3 Polygon\n",
      "137 530330033004 Block Group 4 Polygon\n",
      "138 530330033005 Block Group 5 Polygon\n",
      "139 530330056002 Block Group 2 Polygon\n",
      "140 530330014001 Block Group 1 Polygon\n",
      "141 530330014002 Block Group 2 Polygon\n",
      "142 530330014003 Block Group 3 Polygon\n",
      "143 530330015001 Block Group 1 Polygon\n",
      "144 530330016002 Block Group 2 Polygon\n",
      "145 530330016003 Block Group 3 Polygon\n",
      "146 530330017011 Block Group 1 Polygon\n",
      "147 530330017023 Block Group 3 Polygon\n",
      "148 530330018001 Block Group 1 Polygon\n",
      "149 530330018002 Block Group 2 Polygon\n",
      "150 530330018003 Block Group 3 Polygon\n",
      "151 530330019002 Block Group 2 Polygon\n",
      "152 530330019003 Block Group 3 Polygon\n",
      "153 530330019001 Block Group 1 Polygon\n",
      "154 530330020001 Block Group 1 Polygon\n",
      "155 530330021003 Block Group 3 Polygon\n",
      "156 530330022001 Block Group 1 Polygon\n",
      "157 530330022002 Block Group 2 Polygon\n",
      "158 530330022004 Block Group 4 Polygon\n",
      "159 530330024001 Block Group 1 Polygon\n",
      "160 530330024002 Block Group 2 Polygon\n",
      "161 530330024003 Block Group 3 Polygon\n",
      "162 530330026004 Block Group 4 Polygon\n",
      "163 530330027001 Block Group 1 Polygon\n",
      "164 530330040002 Block Group 2 Polygon\n",
      "165 530330040001 Block Group 1 Polygon\n",
      "166 530330038002 Block Group 2 Polygon\n",
      "167 530330265003 Block Group 3 Polygon\n",
      "168 530330078002 Block Group 2 Polygon\n",
      "169 530330078003 Block Group 3 Polygon\n",
      "170 530330078004 Block Group 4 Polygon\n",
      "171 530330079001 Block Group 1 Polygon\n",
      "172 530330079004 Block Group 4 Polygon\n",
      "173 530330080021 Block Group 1 Polygon\n",
      "174 530330074021 Block Group 1 Polygon\n",
      "175 530330102001 Block Group 1 Polygon\n",
      "176 530330103001 Block Group 1 Polygon\n",
      "177 530330103004 Block Group 4 Polygon\n",
      "178 530330103005 Block Group 5 Polygon\n",
      "179 530330104011 Block Group 1 Polygon\n",
      "180 530330104021 Block Group 1 Polygon\n",
      "181 530330104022 Block Group 2 Polygon\n",
      "182 530330105001 Block Group 1 Polygon\n",
      "183 530330105005 Block Group 5 Polygon\n",
      "184 530330105003 Block Group 3 Polygon\n",
      "185 530330105004 Block Group 4 Polygon\n",
      "186 530330106001 Block Group 1 Polygon\n",
      "187 530330113004 Block Group 4 Polygon\n",
      "188 530330113005 Block Group 5 Polygon\n",
      "189 530330114021 Block Group 1 Polygon\n",
      "190 530330114023 Block Group 3 Polygon\n",
      "191 530330113002 Block Group 2 Polygon\n",
      "192 530330113003 Block Group 3 Polygon\n",
      "193 530330115001 Block Group 1 Polygon\n",
      "194 530330106003 Block Group 3 Polygon\n",
      "195 530330106004 Block Group 4 Polygon\n",
      "196 530330106005 Block Group 5 Polygon\n",
      "197 530330106006 Block Group 6 Polygon\n",
      "198 530330107011 Block Group 1 Polygon\n",
      "199 530330107012 Block Group 2 Polygon\n",
      "200 530330107021 Block Group 1 Polygon\n",
      "201 530330108001 Block Group 1 Polygon\n",
      "202 530330108002 Block Group 2 Polygon\n",
      "203 530330108003 Block Group 3 Polygon\n",
      "204 530330109001 Block Group 1 Polygon\n",
      "205 530330109002 Block Group 2 Polygon\n",
      "206 530330110013 Block Group 3 Polygon\n",
      "207 530330110021 Block Group 1 Polygon\n",
      "208 530330110023 Block Group 3 Polygon\n",
      "209 530330111011 Block Group 1 Polygon\n",
      "210 530330111012 Block Group 2 Polygon\n",
      "211 530330111013 Block Group 3 Polygon\n",
      "212 530330111022 Block Group 2 Polygon\n",
      "213 530330112001 Block Group 1 Polygon\n",
      "214 530330112002 Block Group 2 Polygon\n",
      "215 530330112003 Block Group 3 Polygon\n",
      "216 530330113001 Block Group 1 Polygon\n",
      "217 530330243001 Block Group 1 Polygon\n",
      "218 530330243002 Block Group 2 Polygon\n",
      "219 530330243003 Block Group 3 Polygon\n",
      "220 530330243005 Block Group 5 Polygon\n",
      "221 530330243004 Block Group 4 Polygon\n",
      "222 530330241002 Block Group 2 Polygon\n",
      "223 530330245003 Block Group 3 Polygon\n",
      "224 530330246022 Block Group 2 Polygon\n",
      "225 530330013001 Block Group 1 Polygon\n",
      "226 530330221011 Block Group 1 Polygon\n",
      "227 530330222032 Block Group 2 Polygon\n",
      "228 530330221012 Block Group 2 Polygon\n",
      "229 530330221013 Block Group 3 Polygon\n",
      "230 530330222033 Block Group 3 Polygon\n",
      "231 530330223002 Block Group 2 Polygon\n",
      "232 530330221014 Block Group 4 Polygon\n",
      "233 530330221022 Block Group 2 Polygon\n",
      "234 530330221023 Block Group 3 Polygon\n",
      "235 530330222013 Block Group 3 Polygon\n",
      "236 530330222014 Block Group 4 Polygon\n",
      "237 530330267001 Block Group 1 Polygon\n",
      "238 530330266001 Block Group 1 Polygon\n",
      "239 530330088001 Block Group 1 Polygon\n",
      "240 530330114022 Block Group 2 Polygon\n",
      "241 530330020002 Block Group 2 Polygon\n",
      "242 530330070005 Block Group 5 Polygon\n",
      "243 530330111024 Block Group 4 Polygon\n",
      "244 530330075001 Block Group 1 Polygon\n",
      "245 530330074012 Block Group 2 Polygon\n",
      "246 530330058011 Block Group 1 Polygon\n",
      "247 530330067003 Block Group 3 Polygon\n",
      "248 530330268012 Block Group 2 Polygon\n",
      "249 530330017012 Block Group 2 Polygon\n",
      "250 530330028001 Block Group 1 Polygon\n",
      "251 530330107023 Block Group 3 Polygon\n",
      "252 530330070006 Block Group 6 Polygon\n",
      "253 530330042005 Block Group 5 Polygon\n",
      "254 530330001003 Block Group 3 Polygon\n",
      "255 530330029001 Block Group 1 Polygon\n",
      "256 530330209001 Block Group 1 Polygon\n",
      "257 530330063003 Block Group 3 Polygon\n",
      "258 530330064002 Block Group 2 Polygon\n",
      "259 530330065001 Block Group 1 Polygon\n",
      "260 530330065003 Block Group 3 Polygon\n",
      "261 530330065002 Block Group 2 Polygon\n",
      "262 530330066001 Block Group 1 Polygon\n",
      "263 530330066002 Block Group 2 Polygon\n",
      "264 530330067001 Block Group 1 Polygon\n",
      "265 530330067002 Block Group 2 Polygon\n",
      "266 530330067004 Block Group 4 Polygon\n",
      "267 530330069002 Block Group 2 Polygon\n",
      "268 530330088003 Block Group 3 Polygon\n",
      "269 530330089001 Block Group 1 Polygon\n",
      "270 530330062001 Block Group 1 Polygon\n",
      "271 530330062003 Block Group 3 Polygon\n",
      "272 530330062002 Block Group 2 Polygon\n",
      "273 530330063001 Block Group 1 Polygon\n",
      "274 530330063002 Block Group 2 Polygon\n",
      "275 530330069003 Block Group 3 Polygon\n",
      "276 530330069004 Block Group 4 Polygon\n",
      "277 530330085002 Block Group 2 Polygon\n",
      "278 530330085003 Block Group 3 Polygon\n",
      "279 530330086003 Block Group 3 Polygon\n",
      "280 530330087003 Block Group 3 Polygon\n",
      "281 530330088002 Block Group 2 Polygon\n",
      "282 530330085001 Block Group 1 Polygon\n",
      "283 530330089004 Block Group 4 Polygon\n",
      "284 530330089003 Block Group 3 Polygon\n",
      "285 530330090001 Block Group 1 Polygon\n",
      "286 530330091001 Block Group 1 Polygon\n",
      "287 530330091002 Block Group 2 Polygon\n",
      "288 530330092001 Block Group 1 Polygon\n",
      "289 530330092002 Block Group 2 Polygon\n",
      "290 530330093001 Block Group 1 Polygon\n",
      "291 530330093002 Block Group 2 Polygon\n",
      "292 530330093003 Block Group 3 Polygon\n",
      "293 530330094002 Block Group 2 Polygon\n",
      "294 530330082001 Block Group 1 Polygon\n",
      "295 530330082002 Block Group 2 Polygon\n",
      "296 530330082003 Block Group 3 Polygon\n",
      "297 530330083001 Block Group 1 Polygon\n",
      "298 530330083002 Block Group 2 Polygon\n",
      "299 530330095003 Block Group 3 Polygon\n",
      "300 530330094003 Block Group 3 Polygon\n",
      "301 530330096002 Block Group 2 Polygon\n",
      "302 530330096003 Block Group 3 Polygon\n",
      "303 530330095004 Block Group 4 Polygon\n",
      "304 530330094005 Block Group 5 Polygon\n",
      "305 530330095001 Block Group 1 Polygon\n",
      "306 530330089002 Block Group 2 Polygon\n",
      "307 530330094004 Block Group 4 Polygon\n",
      "308 530330080022 Block Group 2 Polygon\n",
      "309 530330081002 Block Group 2 Polygon\n",
      "310 530330097011 Block Group 1 Polygon\n",
      "311 530330097012 Block Group 2 Polygon\n",
      "312 530330097013 Block Group 3 Polygon\n",
      "313 530330097014 Block Group 4 Polygon\n",
      "314 530330097022 Block Group 2 Polygon\n",
      "315 530330078001 Block Group 1 Polygon\n",
      "316 530330071001 Block Group 1 Polygon\n",
      "317 530330071002 Block Group 2 Polygon\n",
      "318 530330072001 Block Group 1 Polygon\n",
      "319 530330073001 Block Group 1 Polygon\n",
      "320 530330070002 Block Group 2 Polygon\n",
      "321 530330070003 Block Group 3 Polygon\n",
      "322 530330073002 Block Group 2 Polygon\n",
      "323 530330073003 Block Group 3 Polygon\n",
      "324 530330074011 Block Group 1 Polygon\n",
      "325 530330074013 Block Group 3 Polygon\n",
      "326 530330075002 Block Group 2 Polygon\n",
      "327 530330075003 Block Group 3 Polygon\n",
      "328 530330075004 Block Group 4 Polygon\n",
      "329 530330075005 Block Group 5 Polygon\n",
      "330 530330076001 Block Group 1 Polygon\n",
      "331 530330076002 Block Group 2 Polygon\n",
      "332 530330076003 Block Group 3 Polygon\n",
      "333 530330101002 Block Group 2 Polygon\n",
      "334 530330101003 Block Group 3 Polygon\n",
      "335 530330101004 Block Group 4 Polygon\n",
      "336 530330097024 Block Group 4 Polygon\n",
      "337 530330097025 Block Group 5 Polygon\n",
      "338 530330098001 Block Group 1 Polygon\n",
      "339 530330098003 Block Group 3 Polygon\n",
      "340 530330099001 Block Group 1 Polygon\n",
      "341 530330097023 Block Group 3 Polygon\n",
      "342 530330099004 Block Group 4 Polygon\n",
      "343 530330099002 Block Group 2 Polygon\n",
      "344 530330099003 Block Group 3 Polygon\n",
      "345 530330077003 Block Group 3 Polygon\n",
      "346 530330077001 Block Group 1 Polygon\n",
      "347 530330077004 Block Group 4 Polygon\n",
      "348 530330077002 Block Group 2 Polygon\n",
      "349 530330100011 Block Group 1 Polygon\n",
      "350 530330100013 Block Group 3 Polygon\n",
      "351 530330100012 Block Group 2 Polygon\n",
      "352 530330101001 Block Group 1 Polygon\n",
      "353 530330100021 Block Group 1 Polygon\n",
      "354 530330100023 Block Group 3 Polygon\n",
      "355 530330100024 Block Group 4 Polygon\n",
      "356 530330080011 Block Group 1 Polygon\n",
      "357 530330268013 Block Group 3 Polygon\n",
      "358 530330211004 Block Group 4 Polygon\n",
      "359 530330013003 Block Group 3 Polygon\n",
      "360 530330049005 Block Group 5 Polygon\n",
      "361 530330103003 Block Group 3 Polygon\n",
      "362 530330068001 Block Group 1 Polygon\n",
      "363 530330268024 Block Group 4 Polygon\n",
      "364 530330118005 Block Group 5 Polygon\n",
      "365 530330047002 Block Group 2 Polygon\n",
      "366 530330211002 Block Group 2 Polygon\n",
      "367 530330210002 Block Group 2 Polygon\n",
      "368 530330032005 Block Group 5 Polygon\n",
      "369 530330053011 Block Group 1 Polygon\n",
      "370 530330086001 Block Group 1 Polygon\n",
      "371 530330045002 Block Group 2 Polygon\n",
      "372 530330046003 Block Group 3 Polygon\n",
      "373 530330048003 Block Group 3 Polygon\n",
      "374 530330048004 Block Group 4 Polygon\n",
      "375 530330049002 Block Group 2 Polygon\n",
      "376 530330049003 Block Group 3 Polygon\n",
      "377 530330262001 Block Group 1 Polygon\n",
      "378 530330045001 Block Group 1 Polygon\n",
      "379 530330041006 Block Group 6 Polygon\n",
      "380 530330064001 Block Group 1 Polygon\n",
      "381 530330105002 Block Group 2 Polygon\n",
      "382 530330056005 Block Group 5 Polygon\n",
      "383 530330080014 Block Group 4 Polygon\n",
      "384 530330072003 Block Group 3 Polygon\n",
      "385 530330072002 Block Group 2 Polygon\n",
      "386 530330104013 Block Group 3 Polygon\n",
      "387 530330115003 Block Group 3 Polygon\n",
      "388 530330026002 Block Group 2 Polygon\n",
      "389 530330090002 Block Group 2 Polygon\n",
      "390 530330102004 Block Group 4 Polygon\n",
      "391 530330043022 Block Group 2 Polygon\n",
      "392 530330214001 Block Group 1 Polygon\n",
      "393 530330214002 Block Group 2 Polygon\n",
      "394 530330268023 Block Group 3 Polygon\n",
      "395 530330205003 Block Group 3 Polygon\n",
      "396 530330209002 Block Group 2 Polygon\n",
      "397 530330210004 Block Group 4 Polygon\n",
      "398 530330207001 Block Group 1 Polygon\n",
      "399 530330086002 Block Group 2 Polygon\n",
      "400 530330261005 Block Group 5 Polygon\n",
      "401 530330041002 Block Group 2 Polygon\n",
      "402 530330052001 Block Group 1 Polygon\n",
      "403 530330070001 Block Group 1 Polygon\n",
      "404 530330021002 Block Group 2 Polygon\n",
      "405 530330118003 Block Group 3 Polygon\n",
      "406 530330266002 Block Group 2 Polygon\n",
      "407 530330074023 Block Group 3 Polygon\n",
      "408 530330119004 Block Group 4 Polygon\n",
      "409 530330098004 Block Group 4 Polygon\n",
      "410 530330053014 Block Group 4 Polygon\n",
      "411 530330017021 Block Group 1 Polygon\n",
      "412 530330049004 Block Group 4 Polygon\n",
      "413 530330050003 Block Group 3 Polygon\n",
      "414 530330050002 Block Group 2 Polygon\n",
      "415 530330115002 Block Group 2 Polygon\n",
      "416 530330049001 Block Group 1 Polygon\n",
      "417 530330102003 Block Group 3 Polygon\n",
      "418 530330051001 Block Group 1 Polygon\n",
      "419 530330064003 Block Group 3 Polygon\n",
      "420 530330079003 Block Group 3 Polygon\n",
      "421 530330017022 Block Group 2 Polygon\n",
      "422 530330100022 Block Group 2 Polygon\n",
      "423 530330026003 Block Group 3 Polygon\n",
      "424 530330044004 Block Group 4 Polygon\n",
      "425 530330111014 Block Group 4 Polygon\n",
      "426 530330098002 Block Group 2 Polygon\n",
      "427 530330051002 Block Group 2 Polygon\n",
      "428 530330017013 Block Group 3 Polygon\n",
      "429 530330074022 Block Group 2 Polygon\n",
      "430 530330036002 Block Group 2 Polygon\n",
      "431 530330036003 Block Group 3 Polygon\n",
      "432 530330036001 Block Group 1 Polygon\n",
      "433 530330042001 Block Group 1 Polygon\n",
      "434 530330275001 Block Group 1 Polygon\n",
      "435 530330051003 Block Group 3 Polygon\n",
      "436 530330096004 Block Group 4 Polygon\n",
      "437 530330084002 Block Group 2 Polygon\n",
      "438 530330210003 Block Group 3 Polygon\n",
      "439 530330111023 Block Group 3 Polygon\n",
      "440 530330268014 Block Group 4 Polygon\n",
      "441 530330020003 Block Group 3 Polygon\n",
      "442 530330103002 Block Group 2 Polygon\n",
      "443 530330211001 Block Group 1 Polygon\n",
      "444 530330070004 Block Group 4 Polygon\n",
      "445 530330079002 Block Group 2 Polygon\n",
      "446 530330028004 Block Group 4 Polygon\n",
      "447 530330094001 Block Group 1 Polygon\n",
      "448 530330080012 Block Group 2 Polygon\n",
      "449 530330106002 Block Group 2 Polygon\n",
      "450 530330104024 Block Group 4 Polygon\n",
      "451 530330057004 Block Group 4 Polygon\n",
      "452 530330006002 Block Group 2 Polygon\n",
      "453 530330017024 Block Group 4 Polygon\n",
      "454 530330087002 Block Group 2 Polygon\n",
      "455 530330026001 Block Group 1 Polygon\n",
      "456 530330043021 Block Group 1 Polygon\n",
      "457 530330044001 Block Group 1 Polygon\n",
      "458 530330044003 Block Group 3 Polygon\n",
      "459 530330044002 Block Group 2 Polygon\n",
      "460 530330046001 Block Group 1 Polygon\n",
      "461 530330047003 Block Group 3 Polygon\n",
      "462 530330047004 Block Group 4 Polygon\n",
      "463 530330048001 Block Group 1 Polygon\n",
      "464 530330043011 Block Group 1 Polygon\n",
      "465 530330058012 Block Group 2 Polygon\n",
      "466 530330096001 Block Group 1 Polygon\n",
      "467 530330206003 Block Group 3 Polygon\n",
      "468 530330207003 Block Group 3 Polygon\n",
      "469 530330052003 Block Group 3 Polygon\n",
      "470 530330206002 Block Group 2 Polygon\n",
      "471 530330210001 Block Group 1 Polygon\n",
      "472 530330030001 Block Group 1 Polygon\n",
      "473 530330052002 Block Group 2 Polygon\n",
      "474 530330211003 Block Group 3 Polygon\n",
      "475 530330002004 Block Group 4 Polygon\n",
      "476 530330025002 Block Group 2 Polygon\n",
      "477 530330087001 Block Group 1 Polygon\n",
      "478 530330001002 Block Group 2 Polygon\n",
      "479 530330053013 Block Group 3 Polygon\n",
      "480 530330052004 Block Group 4 Polygon\n",
      "481 530330052005 Block Group 5 Polygon\n",
      "482 530330053012 Block Group 2 Polygon\n",
      "483 530330053021 Block Group 1 Polygon\n",
      "484 530330053022 Block Group 2 Polygon\n",
      "485 530330053023 Block Group 3 Polygon\n",
      "486 530330054001 Block Group 1 Polygon\n",
      "487 530330054002 Block Group 2 Polygon\n",
      "488 530330054003 Block Group 3 Polygon\n",
      "489 530330054004 Block Group 4 Polygon\n",
      "490 530330056001 Block Group 1 Polygon\n",
      "491 530330056004 Block Group 4 Polygon\n",
      "492 530330057002 Block Group 2 Polygon\n",
      "493 530330059002 Block Group 2 Polygon\n",
      "494 530330059004 Block Group 4 Polygon\n",
      "495 530330059005 Block Group 5 Polygon\n",
      "496 530330059003 Block Group 3 Polygon\n",
      "497 530330060001 Block Group 1 Polygon\n",
      "498 530330060002 Block Group 2 Polygon\n",
      "499 530330060003 Block Group 3 Polygon\n",
      "500 530330060004 Block Group 4 Polygon\n",
      "501 530330061001 Block Group 1 Polygon\n",
      "502 530330061004 Block Group 4 Polygon\n",
      "503 530330057003 Block Group 3 Polygon\n",
      "504 530330057006 Block Group 6 Polygon\n",
      "505 530330057005 Block Group 5 Polygon\n",
      "506 530330058013 Block Group 3 Polygon\n",
      "507 530330058014 Block Group 4 Polygon\n",
      "508 530330058021 Block Group 1 Polygon\n",
      "509 530330058022 Block Group 2 Polygon\n",
      "510 530330041001 Block Group 1 Polygon\n",
      "511 530330041004 Block Group 4 Polygon\n",
      "512 530330041005 Block Group 5 Polygon\n",
      "513 530330042002 Block Group 2 Polygon\n",
      "514 530330042003 Block Group 3 Polygon\n",
      "515 530330042004 Block Group 4 Polygon\n",
      "516 530330043012 Block Group 2 Polygon\n",
      "517 530330048002 Block Group 2 Polygon\n",
      "518 530330059001 Block Group 1 Polygon\n",
      "519 530330116006 Block Group 6 Polygon\n",
      "520 530330117001 Block Group 1 Polygon\n",
      "521 530330116001 Block Group 1 Polygon\n",
      "522 530330116002 Block Group 2 Polygon\n",
      "523 530330116003 Block Group 3 Polygon\n",
      "524 530330116004 Block Group 4 Polygon\n",
      "525 530330116005 Block Group 5 Polygon\n",
      "526 530330068002 Block Group 2 Polygon\n",
      "527 530330117002 Block Group 2 Polygon\n",
      "528 530330117003 Block Group 3 Polygon\n",
      "529 530330119005 Block Group 5 Polygon\n",
      "530 530330120001 Block Group 1 Polygon\n",
      "531 530330120003 Block Group 3 Polygon\n",
      "532 530330121001 Block Group 1 Polygon\n",
      "533 530330121002 Block Group 2 Polygon\n",
      "534 530330118006 Block Group 6 Polygon\n",
      "535 530330119002 Block Group 2 Polygon\n",
      "536 530330117004 Block Group 4 Polygon\n",
      "537 530330118001 Block Group 1 Polygon\n",
      "538 530330118002 Block Group 2 Polygon\n",
      "539 530330118004 Block Group 4 Polygon\n",
      "540 530330253022 Block Group 2 Polygon\n",
      "541 530330260011 Block Group 1 Polygon\n",
      "542 530330260012 Block Group 2 Polygon\n",
      "543 530330260013 Block Group 3 Polygon\n",
      "544 530330260014 Block Group 4 Polygon\n",
      "545 530330260015 Block Group 5 Polygon\n",
      "546 530330261002 Block Group 2 Polygon\n",
      "547 530330261003 Block Group 3 Polygon\n",
      "548 530330263001 Block Group 1 Polygon\n",
      "549 530330263002 Block Group 2 Polygon\n",
      "550 530330246023 Block Group 3 Polygon\n",
      "551 530330264001 Block Group 1 Polygon\n",
      "552 530330264002 Block Group 2 Polygon\n",
      "553 530330264003 Block Group 3 Polygon\n",
      "554 530330264004 Block Group 4 Polygon\n",
      "555 530330264005 Block Group 5 Polygon\n",
      "556 530330265001 Block Group 1 Polygon\n",
      "557 530330267002 Block Group 2 Polygon\n",
      "558 530330268022 Block Group 2 Polygon\n",
      "559 530330267003 Block Group 3 Polygon\n",
      "560 530330267004 Block Group 4 Polygon\n",
      "561 530330268021 Block Group 1 Polygon\n",
      "562 530330270001 Block Group 1 Polygon\n",
      "563 530330270002 Block Group 2 Polygon\n",
      "564 530330270003 Block Group 3 Polygon\n",
      "565 530330271001 Block Group 1 Polygon\n",
      "566 530330272001 Block Group 1 Polygon\n",
      "567 530330272002 Block Group 2 Polygon\n",
      "568 530330273004 Block Group 4 Polygon\n",
      "569 530330274002 Block Group 2 Polygon\n",
      "570 530330274001 Block Group 1 Polygon\n",
      "571 530330274004 Block Group 4 Polygon\n",
      "572 530330276001 Block Group 1 Polygon\n",
      "573 530330276002 Block Group 2 Polygon\n",
      "574 530330210005 Block Group 5 Polygon\n",
      "575 530330213001 Block Group 1 Polygon\n",
      "576 530330213003 Block Group 3 Polygon\n"
     ]
    }
   ],
   "source": [
    "total=0\n",
    "aList = []\n",
    "for feature in shp:\n",
    "    total +=1\n",
    "    print total, feature['properties']['GEOID'], feature['properties']['NAMELSAD'], feature['geometry']['type']\n",
    "    aList.append(feature['properties']['GEOID'])"
   ]
  },
  {
   "cell_type": "code",
   "execution_count": 12,
   "metadata": {
    "collapsed": false
   },
   "outputs": [
    {
     "name": "stdout",
     "output_type": "stream",
     "text": [
      "POLYGON ((-122.263118 47.504886, -122.263105 47.506122, -122.261288 47.506116, -122.259464 47.506108, -122.259446 47.507681, -122.259439 47.508218, -122.25943 47.509692, -122.258751 47.509697, -122.257075 47.5097, -122.255897 47.509704, -122.255907 47.508198, -122.255917 47.507642, -122.254753 47.506561, -122.254539 47.506351, -122.253306 47.505218, -122.251624 47.503657, -122.251151 47.50321899999999, -122.250865 47.502903, -122.250814 47.502831, -122.251413 47.502801, -122.251642 47.50282499999999, -122.25362 47.502729, -122.259515 47.502537, -122.259529 47.501306, -122.262399 47.501345, -122.262364 47.502523, -122.261325 47.502509, -122.261335 47.502714, -122.262496 47.503313, -122.263137 47.503313, -122.263118 47.504886))\n"
     ]
    }
   ],
   "source": [
    "# Associate each block group polygon with its GEOID\n",
    "block_group_tup = []\n",
    "idx = 0\n",
    "mpolys = MultiPolygon(polys)\n",
    "for feature in shp:\n",
    "    print mpolys[idx] #What is this step doing?  All this is doing is making polys into a GeometryCollection\n",
    "    idx += 1\n",
    "    if idx == 1:\n",
    "        break\n",
    "#     print feature['properties']['GEOID']"
   ]
  },
  {
   "cell_type": "code",
   "execution_count": 13,
   "metadata": {
    "collapsed": false
   },
   "outputs": [
    {
     "data": {
      "text/plain": [
       "shapely.geometry.multipolygon.MultiPolygon"
      ]
     },
     "execution_count": 13,
     "metadata": {},
     "output_type": "execute_result"
    }
   ],
   "source": [
    "type(MultiPolygon(polys))"
   ]
  },
  {
   "cell_type": "code",
   "execution_count": 14,
   "metadata": {
    "collapsed": false
   },
   "outputs": [
    {
     "data": {
      "text/plain": [
       "list"
      ]
     },
     "execution_count": 14,
     "metadata": {},
     "output_type": "execute_result"
    }
   ],
   "source": [
    "type(polys)"
   ]
  },
  {
   "cell_type": "markdown",
   "metadata": {},
   "source": [
    "OK, now I see.  polys is just a list of shapely polygon geometries, while MultiPolygon is itself a shapely geometry.  Other than that, the difference may not be important."
   ]
  },
  {
   "cell_type": "code",
   "execution_count": 15,
   "metadata": {
    "collapsed": false
   },
   "outputs": [
    {
     "data": {
      "text/plain": [
       "576"
      ]
     },
     "execution_count": 15,
     "metadata": {},
     "output_type": "execute_result"
    }
   ],
   "source": [
    "len(MultiPolygon(polys).geoms)"
   ]
  },
  {
   "cell_type": "code",
   "execution_count": 16,
   "metadata": {
    "collapsed": false
   },
   "outputs": [
    {
     "data": {
      "text/plain": [
       "576"
      ]
     },
     "execution_count": 16,
     "metadata": {},
     "output_type": "execute_result"
    }
   ],
   "source": [
    "len(MultiPolygon(polys))"
   ]
  },
  {
   "cell_type": "code",
   "execution_count": 17,
   "metadata": {
    "collapsed": false
   },
   "outputs": [
    {
     "data": {
      "text/plain": [
       "shapely.geometry.polygon.Polygon"
      ]
     },
     "execution_count": 17,
     "metadata": {},
     "output_type": "execute_result"
    }
   ],
   "source": [
    "type(MultiPolygon(polys)[1])"
   ]
  },
  {
   "cell_type": "code",
   "execution_count": 18,
   "metadata": {
    "collapsed": false
   },
   "outputs": [
    {
     "data": {
      "text/plain": [
       "shapely.geometry.multipolygon.MultiPolygon"
      ]
     },
     "execution_count": 18,
     "metadata": {},
     "output_type": "execute_result"
    }
   ],
   "source": [
    "type(MultiPolygon(polys))"
   ]
  },
  {
   "cell_type": "code",
   "execution_count": 19,
   "metadata": {
    "collapsed": false
   },
   "outputs": [
    {
     "data": {
      "image/svg+xml": [
       "<svg xmlns=\"http://www.w3.org/2000/svg\" xmlns:xlink=\"http://www.w3.org/1999/xlink\" width=\"100.0\" height=\"100.0\" viewBox=\"-122.2380834 47.6983296 0.0237168 0.0230698\" preserveAspectRatio=\"xMinYMin meet\"><g transform=\"matrix(1,0,0,-1,0,95.419729)\"><path fill-rule=\"evenodd\" fill=\"#66cc99\" stroke=\"#555555\" stroke-width=\"0.000474336\" opacity=\"0.6\" d=\"M -122.237196,47.705832 L -122.237092,47.706413 L -122.23695,47.70693 L -122.236909,47.707176 L -122.236904,47.707292 L -122.236917,47.707456 L -122.236995,47.707707 L -122.237084,47.707869 L -122.237182,47.708019 L -122.236994,47.708033 L -122.236779,47.708038 L -122.236504,47.708023 L -122.236368,47.708008 L -122.235965,47.70799 L -122.235477,47.707993 L -122.235276,47.707983 L -122.234546,47.70799 L -122.23383,47.707994 L -122.233009,47.707993 L -122.232775,47.707986 L -122.232538,47.707988 L -122.232217,47.707981 L -122.231488,47.707981 L -122.229677,47.707964 L -122.229679,47.708667 L -122.229677,47.708815 L -122.229667,47.709396 L -122.229623,47.710029 L -122.229602,47.710628 L -122.229596,47.711008 L -122.229601,47.71125 L -122.229609,47.711567 L -122.229251,47.711568 L -122.228289,47.71156 L -122.228184,47.71156 L -122.226994,47.711556 L -122.226258,47.711532 L -122.226107,47.711527 L -122.225047,47.711495 L -122.2247,47.711486 L -122.224352,47.711478 L -122.223869,47.711474 L -122.223799,47.713266 L -122.224491,47.713263 L -122.224565,47.713267 L -122.224618,47.713284 L -122.22468,47.713323 L -122.224726,47.713361 L -122.224799,47.713461 L -122.224819,47.713527 L -122.224823,47.713634 L -122.224805,47.713903 L -122.224816,47.713965 L -122.224882,47.714105 L -122.224954,47.714189 L -122.225004,47.714231 L -122.225104,47.714282 L -122.225232,47.714337 L -122.225324,47.714366 L -122.225393,47.714378 L -122.226395,47.714406 L -122.22637,47.71523 L -122.226365,47.715271 L -122.22634,47.715351 L -122.226278,47.715406 L -122.2262,47.715444 L -122.226076,47.715487 L -122.226005,47.715519 L -122.225828,47.715634 L -122.225748,47.715692 L -122.225611,47.71581 L -122.225545,47.715896 L -122.225508,47.715978 L -122.225491,47.716053 L -122.225492,47.716155 L -122.225522,47.716272 L -122.225548,47.716329 L -122.225582,47.716383 L -122.225695,47.716546 L -122.225816,47.716735 L -122.225842,47.716797 L -122.225849,47.716832 L -122.22582,47.717732 L -122.225798,47.717862 L -122.225774,47.717925 L -122.225714,47.71803 L -122.2256,47.718184 L -122.225548,47.718256 L -122.225507,47.718317 L -122.225476,47.718381 L -122.225457,47.718454 L -122.225463,47.718676 L -122.225451,47.719415 L -122.225446,47.719653 L -122.22543,47.720152 L -122.225421,47.720521 L -122.223775,47.720482 L -122.222689,47.720457 L -122.221114,47.720421 L -122.221113,47.720386 L -122.221106,47.719961 L -122.221112,47.71972 L -122.221069,47.719427 L -122.221066,47.719407 L -122.220994,47.719169 L -122.220982,47.719134 L -122.220756,47.718452 L -122.220676,47.718045 L -122.220663,47.717977 L -122.220603,47.717731 L -122.220475,47.717508 L -122.220268,47.717332 L -122.220067,47.717236 L -122.22,47.717206 L -122.219188,47.716917 L -122.218714,47.716748 L -122.218206,47.716572 L -122.218012,47.71652 L -122.217769,47.716474 L -122.217481,47.716458 L -122.217142,47.716483 L -122.216893,47.71653 L -122.216657,47.716602 L -122.216245,47.716818 L -122.215876,47.717115 L -122.215245,47.717612 L -122.215521,47.717219 L -122.215549,47.717172 L -122.215618,47.717058 L -122.215679,47.716936 L -122.215706,47.716822 L -122.215745,47.715848 L -122.215743,47.715519 L -122.215741,47.714934 L -122.215746,47.713922 L -122.215747,47.713583 L -122.215747,47.713537 L -122.215761,47.712898 L -122.215769,47.712519 L -122.215781,47.711797 L -122.215773,47.711337 L -122.21607,47.711343 L -122.216734,47.711357 L -122.217842,47.711379 L -122.217886,47.711166 L -122.217898,47.711046 L -122.217898,47.710949 L -122.2179,47.710508 L -122.217891,47.71039 L -122.217895,47.710141 L -122.217902,47.709805 L -122.217908,47.709499 L -122.217919,47.708921 L -122.21792,47.708867 L -122.217944,47.707768 L -122.218832,47.70777 L -122.218939,47.707764 L -122.219019,47.707744 L -122.21919,47.707702 L -122.219772,47.707689 L -122.219809,47.707577 L -122.219823,47.707575 L -122.219869,47.707564 L -122.219918,47.707539 L -122.219968,47.707386 L -122.219985,47.707357 L -122.220038,47.707317 L -122.220228,47.707264 L -122.220275,47.707237 L -122.22032,47.7072 L -122.220354,47.70707 L -122.220465,47.706999 L -122.220579,47.706935 L -122.220619,47.706809 L -122.220662,47.706457 L -122.220791,47.706357 L -122.220937,47.70623 L -122.22108,47.706118 L -122.221156,47.706072 L -122.221337,47.706005 L -122.221481,47.705929 L -122.22205,47.705569 L -122.222204,47.705478 L -122.222991,47.705006 L -122.223362,47.70477 L -122.223469,47.704697 L -122.224006,47.704403 L -122.224043,47.704368 L -122.224051,47.704341 L -122.224048,47.704317 L -122.223991,47.704311 L -122.22394,47.704313 L -122.223781,47.704337 L -122.223087,47.704559 L -122.222952,47.704597 L -122.22274,47.704641 L -122.222434,47.704685 L -122.22215,47.704739 L -122.221956,47.704789 L -122.221826,47.704811 L -122.221479,47.704807 L -122.22135,47.704818 L -122.221203,47.704858 L -122.221005,47.704961 L -122.220834,47.705106 L -122.220406,47.705293 L -122.220127,47.705401 L -122.220026,47.705409 L -122.219924,47.705416 L -122.219737,47.705414 L -122.219549,47.705413 L -122.219421,47.7054 L -122.219303,47.705357 L -122.219266,47.705326 L -122.219296,47.705191 L -122.219435,47.705134 L -122.219919,47.704904 L -122.220363,47.704695 L -122.220708,47.704549 L -122.22096,47.704459 L -122.221517,47.704273 L -122.221701,47.704205 L -122.221834,47.704149 L -122.222178,47.703975 L -122.223593,47.703193 L -122.223739,47.703128 L -122.223899,47.703064 L -122.224281,47.702945 L -122.225289,47.702683 L -122.225579,47.702607 L -122.226022,47.702463 L -122.226209,47.702392 L -122.226594,47.702219 L -122.226663,47.702183 L -122.227115,47.70253 L -122.227238,47.702608 L -122.227271,47.702617 L -122.227401,47.702625 L -122.227432,47.702624 L -122.227545,47.7026 L -122.227629,47.702566 L -122.227928,47.702399 L -122.22809,47.702288 L -122.228582,47.701893 L -122.228682,47.701801 L -122.228832,47.701625 L -122.228924,47.701484 L -122.229228,47.700892 L -122.229449,47.700564 L -122.229528,47.700424 L -122.229615,47.700243 L -122.229717,47.699996 L -122.229938,47.69952 L -122.229986,47.699453 L -122.230056,47.699376 L -122.230123,47.699322 L -122.230204,47.699275 L -122.230271,47.699244 L -122.230381,47.699208 L -122.230879,47.70026 L -122.230795,47.700286 L -122.230702,47.700331 L -122.230667,47.700355 L -122.230595,47.70044 L -122.230218,47.701225 L -122.230145,47.701393 L -122.230139,47.701476 L -122.230151,47.701529 L -122.230175,47.701573 L -122.230217,47.701624 L -122.230289,47.701684 L -122.230491,47.701804 L -122.230523,47.701839 L -122.230549,47.701877 L -122.230588,47.702006 L -122.230637,47.702215 L -122.23069,47.702403 L -122.230716,47.702458 L -122.230782,47.702562 L -122.230885,47.702697 L -122.231071,47.702642 L -122.231263,47.70261 L -122.231354,47.702602 L -122.231541,47.702602 L -122.231632,47.70261 L -122.231673,47.702617 L -122.231752,47.702632 L -122.231851,47.702665 L -122.232061,47.702755 L -122.232103,47.702786 L -122.232274,47.702933 L -122.232323,47.702989 L -122.232377,47.703066 L -122.23246,47.703208 L -122.232582,47.703449 L -122.232692,47.703597 L -122.23275,47.703661 L -122.232855,47.703764 L -122.232901,47.703803 L -122.232965,47.703848 L -122.233012,47.703873 L -122.233088,47.703906 L -122.233171,47.703933 L -122.233256,47.703954 L -122.233342,47.703967 L -122.233494,47.703973 L -122.233584,47.703968 L -122.233662,47.703956 L -122.233733,47.70394 L -122.233826,47.703911 L -122.233915,47.703876 L -122.234109,47.703767 L -122.234207,47.70383 L -122.234341,47.703891 L -122.234498,47.703939 L -122.234592,47.703956 L -122.234665,47.703963 L -122.234814,47.703967 L -122.235088,47.703926 L -122.235111,47.703044 L -122.23512,47.702695 L -122.235108,47.702526 L -122.235126,47.702079 L -122.235097,47.701398 L -122.235101,47.701325 L -122.23515,47.701022 L -122.235247,47.701031 L -122.235516,47.701275 L -122.235615,47.701366 L -122.235779,47.701527 L -122.23594,47.701704 L -122.236186,47.70201 L -122.236306,47.702177 L -122.236396,47.702313 L -122.236539,47.702552 L -122.23663,47.70273 L -122.236769,47.703016 L -122.2369,47.703348 L -122.236964,47.703546 L -122.237001,47.703695 L -122.237056,47.704043 L -122.237114,47.704413 L -122.237178,47.704823 L -122.237194,47.705004 L -122.237205,47.705702 L -122.237196,47.705832 z\" /></g></svg>"
      ],
      "text/plain": [
       "<shapely.geometry.polygon.Polygon at 0xa61f5f8>"
      ]
     },
     "execution_count": 19,
     "metadata": {},
     "output_type": "execute_result"
    }
   ],
   "source": [
    "mpolys[1]"
   ]
  },
  {
   "cell_type": "code",
   "execution_count": 20,
   "metadata": {
    "collapsed": false
   },
   "outputs": [
    {
     "data": {
      "image/svg+xml": [
       "<svg xmlns=\"http://www.w3.org/2000/svg\" xmlns:xlink=\"http://www.w3.org/1999/xlink\" width=\"100.0\" height=\"100.0\" viewBox=\"-122.2380834 47.6983296 0.0237168 0.0230698\" preserveAspectRatio=\"xMinYMin meet\"><g transform=\"matrix(1,0,0,-1,0,95.419729)\"><path fill-rule=\"evenodd\" fill=\"#66cc99\" stroke=\"#555555\" stroke-width=\"0.000474336\" opacity=\"0.6\" d=\"M -122.237196,47.705832 L -122.237092,47.706413 L -122.23695,47.70693 L -122.236909,47.707176 L -122.236904,47.707292 L -122.236917,47.707456 L -122.236995,47.707707 L -122.237084,47.707869 L -122.237182,47.708019 L -122.236994,47.708033 L -122.236779,47.708038 L -122.236504,47.708023 L -122.236368,47.708008 L -122.235965,47.70799 L -122.235477,47.707993 L -122.235276,47.707983 L -122.234546,47.70799 L -122.23383,47.707994 L -122.233009,47.707993 L -122.232775,47.707986 L -122.232538,47.707988 L -122.232217,47.707981 L -122.231488,47.707981 L -122.229677,47.707964 L -122.229679,47.708667 L -122.229677,47.708815 L -122.229667,47.709396 L -122.229623,47.710029 L -122.229602,47.710628 L -122.229596,47.711008 L -122.229601,47.71125 L -122.229609,47.711567 L -122.229251,47.711568 L -122.228289,47.71156 L -122.228184,47.71156 L -122.226994,47.711556 L -122.226258,47.711532 L -122.226107,47.711527 L -122.225047,47.711495 L -122.2247,47.711486 L -122.224352,47.711478 L -122.223869,47.711474 L -122.223799,47.713266 L -122.224491,47.713263 L -122.224565,47.713267 L -122.224618,47.713284 L -122.22468,47.713323 L -122.224726,47.713361 L -122.224799,47.713461 L -122.224819,47.713527 L -122.224823,47.713634 L -122.224805,47.713903 L -122.224816,47.713965 L -122.224882,47.714105 L -122.224954,47.714189 L -122.225004,47.714231 L -122.225104,47.714282 L -122.225232,47.714337 L -122.225324,47.714366 L -122.225393,47.714378 L -122.226395,47.714406 L -122.22637,47.71523 L -122.226365,47.715271 L -122.22634,47.715351 L -122.226278,47.715406 L -122.2262,47.715444 L -122.226076,47.715487 L -122.226005,47.715519 L -122.225828,47.715634 L -122.225748,47.715692 L -122.225611,47.71581 L -122.225545,47.715896 L -122.225508,47.715978 L -122.225491,47.716053 L -122.225492,47.716155 L -122.225522,47.716272 L -122.225548,47.716329 L -122.225582,47.716383 L -122.225695,47.716546 L -122.225816,47.716735 L -122.225842,47.716797 L -122.225849,47.716832 L -122.22582,47.717732 L -122.225798,47.717862 L -122.225774,47.717925 L -122.225714,47.71803 L -122.2256,47.718184 L -122.225548,47.718256 L -122.225507,47.718317 L -122.225476,47.718381 L -122.225457,47.718454 L -122.225463,47.718676 L -122.225451,47.719415 L -122.225446,47.719653 L -122.22543,47.720152 L -122.225421,47.720521 L -122.223775,47.720482 L -122.222689,47.720457 L -122.221114,47.720421 L -122.221113,47.720386 L -122.221106,47.719961 L -122.221112,47.71972 L -122.221069,47.719427 L -122.221066,47.719407 L -122.220994,47.719169 L -122.220982,47.719134 L -122.220756,47.718452 L -122.220676,47.718045 L -122.220663,47.717977 L -122.220603,47.717731 L -122.220475,47.717508 L -122.220268,47.717332 L -122.220067,47.717236 L -122.22,47.717206 L -122.219188,47.716917 L -122.218714,47.716748 L -122.218206,47.716572 L -122.218012,47.71652 L -122.217769,47.716474 L -122.217481,47.716458 L -122.217142,47.716483 L -122.216893,47.71653 L -122.216657,47.716602 L -122.216245,47.716818 L -122.215876,47.717115 L -122.215245,47.717612 L -122.215521,47.717219 L -122.215549,47.717172 L -122.215618,47.717058 L -122.215679,47.716936 L -122.215706,47.716822 L -122.215745,47.715848 L -122.215743,47.715519 L -122.215741,47.714934 L -122.215746,47.713922 L -122.215747,47.713583 L -122.215747,47.713537 L -122.215761,47.712898 L -122.215769,47.712519 L -122.215781,47.711797 L -122.215773,47.711337 L -122.21607,47.711343 L -122.216734,47.711357 L -122.217842,47.711379 L -122.217886,47.711166 L -122.217898,47.711046 L -122.217898,47.710949 L -122.2179,47.710508 L -122.217891,47.71039 L -122.217895,47.710141 L -122.217902,47.709805 L -122.217908,47.709499 L -122.217919,47.708921 L -122.21792,47.708867 L -122.217944,47.707768 L -122.218832,47.70777 L -122.218939,47.707764 L -122.219019,47.707744 L -122.21919,47.707702 L -122.219772,47.707689 L -122.219809,47.707577 L -122.219823,47.707575 L -122.219869,47.707564 L -122.219918,47.707539 L -122.219968,47.707386 L -122.219985,47.707357 L -122.220038,47.707317 L -122.220228,47.707264 L -122.220275,47.707237 L -122.22032,47.7072 L -122.220354,47.70707 L -122.220465,47.706999 L -122.220579,47.706935 L -122.220619,47.706809 L -122.220662,47.706457 L -122.220791,47.706357 L -122.220937,47.70623 L -122.22108,47.706118 L -122.221156,47.706072 L -122.221337,47.706005 L -122.221481,47.705929 L -122.22205,47.705569 L -122.222204,47.705478 L -122.222991,47.705006 L -122.223362,47.70477 L -122.223469,47.704697 L -122.224006,47.704403 L -122.224043,47.704368 L -122.224051,47.704341 L -122.224048,47.704317 L -122.223991,47.704311 L -122.22394,47.704313 L -122.223781,47.704337 L -122.223087,47.704559 L -122.222952,47.704597 L -122.22274,47.704641 L -122.222434,47.704685 L -122.22215,47.704739 L -122.221956,47.704789 L -122.221826,47.704811 L -122.221479,47.704807 L -122.22135,47.704818 L -122.221203,47.704858 L -122.221005,47.704961 L -122.220834,47.705106 L -122.220406,47.705293 L -122.220127,47.705401 L -122.220026,47.705409 L -122.219924,47.705416 L -122.219737,47.705414 L -122.219549,47.705413 L -122.219421,47.7054 L -122.219303,47.705357 L -122.219266,47.705326 L -122.219296,47.705191 L -122.219435,47.705134 L -122.219919,47.704904 L -122.220363,47.704695 L -122.220708,47.704549 L -122.22096,47.704459 L -122.221517,47.704273 L -122.221701,47.704205 L -122.221834,47.704149 L -122.222178,47.703975 L -122.223593,47.703193 L -122.223739,47.703128 L -122.223899,47.703064 L -122.224281,47.702945 L -122.225289,47.702683 L -122.225579,47.702607 L -122.226022,47.702463 L -122.226209,47.702392 L -122.226594,47.702219 L -122.226663,47.702183 L -122.227115,47.70253 L -122.227238,47.702608 L -122.227271,47.702617 L -122.227401,47.702625 L -122.227432,47.702624 L -122.227545,47.7026 L -122.227629,47.702566 L -122.227928,47.702399 L -122.22809,47.702288 L -122.228582,47.701893 L -122.228682,47.701801 L -122.228832,47.701625 L -122.228924,47.701484 L -122.229228,47.700892 L -122.229449,47.700564 L -122.229528,47.700424 L -122.229615,47.700243 L -122.229717,47.699996 L -122.229938,47.69952 L -122.229986,47.699453 L -122.230056,47.699376 L -122.230123,47.699322 L -122.230204,47.699275 L -122.230271,47.699244 L -122.230381,47.699208 L -122.230879,47.70026 L -122.230795,47.700286 L -122.230702,47.700331 L -122.230667,47.700355 L -122.230595,47.70044 L -122.230218,47.701225 L -122.230145,47.701393 L -122.230139,47.701476 L -122.230151,47.701529 L -122.230175,47.701573 L -122.230217,47.701624 L -122.230289,47.701684 L -122.230491,47.701804 L -122.230523,47.701839 L -122.230549,47.701877 L -122.230588,47.702006 L -122.230637,47.702215 L -122.23069,47.702403 L -122.230716,47.702458 L -122.230782,47.702562 L -122.230885,47.702697 L -122.231071,47.702642 L -122.231263,47.70261 L -122.231354,47.702602 L -122.231541,47.702602 L -122.231632,47.70261 L -122.231673,47.702617 L -122.231752,47.702632 L -122.231851,47.702665 L -122.232061,47.702755 L -122.232103,47.702786 L -122.232274,47.702933 L -122.232323,47.702989 L -122.232377,47.703066 L -122.23246,47.703208 L -122.232582,47.703449 L -122.232692,47.703597 L -122.23275,47.703661 L -122.232855,47.703764 L -122.232901,47.703803 L -122.232965,47.703848 L -122.233012,47.703873 L -122.233088,47.703906 L -122.233171,47.703933 L -122.233256,47.703954 L -122.233342,47.703967 L -122.233494,47.703973 L -122.233584,47.703968 L -122.233662,47.703956 L -122.233733,47.70394 L -122.233826,47.703911 L -122.233915,47.703876 L -122.234109,47.703767 L -122.234207,47.70383 L -122.234341,47.703891 L -122.234498,47.703939 L -122.234592,47.703956 L -122.234665,47.703963 L -122.234814,47.703967 L -122.235088,47.703926 L -122.235111,47.703044 L -122.23512,47.702695 L -122.235108,47.702526 L -122.235126,47.702079 L -122.235097,47.701398 L -122.235101,47.701325 L -122.23515,47.701022 L -122.235247,47.701031 L -122.235516,47.701275 L -122.235615,47.701366 L -122.235779,47.701527 L -122.23594,47.701704 L -122.236186,47.70201 L -122.236306,47.702177 L -122.236396,47.702313 L -122.236539,47.702552 L -122.23663,47.70273 L -122.236769,47.703016 L -122.2369,47.703348 L -122.236964,47.703546 L -122.237001,47.703695 L -122.237056,47.704043 L -122.237114,47.704413 L -122.237178,47.704823 L -122.237194,47.705004 L -122.237205,47.705702 L -122.237196,47.705832 z\" /></g></svg>"
      ],
      "text/plain": [
       "<shapely.geometry.polygon.Polygon at 0xa61f6a0>"
      ]
     },
     "execution_count": 20,
     "metadata": {},
     "output_type": "execute_result"
    }
   ],
   "source": [
    "MultiPolygon(polys)[1]"
   ]
  },
  {
   "cell_type": "code",
   "execution_count": 21,
   "metadata": {
    "collapsed": false
   },
   "outputs": [
    {
     "data": {
      "image/svg+xml": [
       "<svg xmlns=\"http://www.w3.org/2000/svg\" xmlns:xlink=\"http://www.w3.org/1999/xlink\" width=\"100.0\" height=\"100.0\" viewBox=\"-122.2380834 47.6983296 0.0237168 0.0230698\" preserveAspectRatio=\"xMinYMin meet\"><g transform=\"matrix(1,0,0,-1,0,95.419729)\"><path fill-rule=\"evenodd\" fill=\"#66cc99\" stroke=\"#555555\" stroke-width=\"0.000474336\" opacity=\"0.6\" d=\"M -122.237196,47.705832 L -122.237092,47.706413 L -122.23695,47.70693 L -122.236909,47.707176 L -122.236904,47.707292 L -122.236917,47.707456 L -122.236995,47.707707 L -122.237084,47.707869 L -122.237182,47.708019 L -122.236994,47.708033 L -122.236779,47.708038 L -122.236504,47.708023 L -122.236368,47.708008 L -122.235965,47.70799 L -122.235477,47.707993 L -122.235276,47.707983 L -122.234546,47.70799 L -122.23383,47.707994 L -122.233009,47.707993 L -122.232775,47.707986 L -122.232538,47.707988 L -122.232217,47.707981 L -122.231488,47.707981 L -122.229677,47.707964 L -122.229679,47.708667 L -122.229677,47.708815 L -122.229667,47.709396 L -122.229623,47.710029 L -122.229602,47.710628 L -122.229596,47.711008 L -122.229601,47.71125 L -122.229609,47.711567 L -122.229251,47.711568 L -122.228289,47.71156 L -122.228184,47.71156 L -122.226994,47.711556 L -122.226258,47.711532 L -122.226107,47.711527 L -122.225047,47.711495 L -122.2247,47.711486 L -122.224352,47.711478 L -122.223869,47.711474 L -122.223799,47.713266 L -122.224491,47.713263 L -122.224565,47.713267 L -122.224618,47.713284 L -122.22468,47.713323 L -122.224726,47.713361 L -122.224799,47.713461 L -122.224819,47.713527 L -122.224823,47.713634 L -122.224805,47.713903 L -122.224816,47.713965 L -122.224882,47.714105 L -122.224954,47.714189 L -122.225004,47.714231 L -122.225104,47.714282 L -122.225232,47.714337 L -122.225324,47.714366 L -122.225393,47.714378 L -122.226395,47.714406 L -122.22637,47.71523 L -122.226365,47.715271 L -122.22634,47.715351 L -122.226278,47.715406 L -122.2262,47.715444 L -122.226076,47.715487 L -122.226005,47.715519 L -122.225828,47.715634 L -122.225748,47.715692 L -122.225611,47.71581 L -122.225545,47.715896 L -122.225508,47.715978 L -122.225491,47.716053 L -122.225492,47.716155 L -122.225522,47.716272 L -122.225548,47.716329 L -122.225582,47.716383 L -122.225695,47.716546 L -122.225816,47.716735 L -122.225842,47.716797 L -122.225849,47.716832 L -122.22582,47.717732 L -122.225798,47.717862 L -122.225774,47.717925 L -122.225714,47.71803 L -122.2256,47.718184 L -122.225548,47.718256 L -122.225507,47.718317 L -122.225476,47.718381 L -122.225457,47.718454 L -122.225463,47.718676 L -122.225451,47.719415 L -122.225446,47.719653 L -122.22543,47.720152 L -122.225421,47.720521 L -122.223775,47.720482 L -122.222689,47.720457 L -122.221114,47.720421 L -122.221113,47.720386 L -122.221106,47.719961 L -122.221112,47.71972 L -122.221069,47.719427 L -122.221066,47.719407 L -122.220994,47.719169 L -122.220982,47.719134 L -122.220756,47.718452 L -122.220676,47.718045 L -122.220663,47.717977 L -122.220603,47.717731 L -122.220475,47.717508 L -122.220268,47.717332 L -122.220067,47.717236 L -122.22,47.717206 L -122.219188,47.716917 L -122.218714,47.716748 L -122.218206,47.716572 L -122.218012,47.71652 L -122.217769,47.716474 L -122.217481,47.716458 L -122.217142,47.716483 L -122.216893,47.71653 L -122.216657,47.716602 L -122.216245,47.716818 L -122.215876,47.717115 L -122.215245,47.717612 L -122.215521,47.717219 L -122.215549,47.717172 L -122.215618,47.717058 L -122.215679,47.716936 L -122.215706,47.716822 L -122.215745,47.715848 L -122.215743,47.715519 L -122.215741,47.714934 L -122.215746,47.713922 L -122.215747,47.713583 L -122.215747,47.713537 L -122.215761,47.712898 L -122.215769,47.712519 L -122.215781,47.711797 L -122.215773,47.711337 L -122.21607,47.711343 L -122.216734,47.711357 L -122.217842,47.711379 L -122.217886,47.711166 L -122.217898,47.711046 L -122.217898,47.710949 L -122.2179,47.710508 L -122.217891,47.71039 L -122.217895,47.710141 L -122.217902,47.709805 L -122.217908,47.709499 L -122.217919,47.708921 L -122.21792,47.708867 L -122.217944,47.707768 L -122.218832,47.70777 L -122.218939,47.707764 L -122.219019,47.707744 L -122.21919,47.707702 L -122.219772,47.707689 L -122.219809,47.707577 L -122.219823,47.707575 L -122.219869,47.707564 L -122.219918,47.707539 L -122.219968,47.707386 L -122.219985,47.707357 L -122.220038,47.707317 L -122.220228,47.707264 L -122.220275,47.707237 L -122.22032,47.7072 L -122.220354,47.70707 L -122.220465,47.706999 L -122.220579,47.706935 L -122.220619,47.706809 L -122.220662,47.706457 L -122.220791,47.706357 L -122.220937,47.70623 L -122.22108,47.706118 L -122.221156,47.706072 L -122.221337,47.706005 L -122.221481,47.705929 L -122.22205,47.705569 L -122.222204,47.705478 L -122.222991,47.705006 L -122.223362,47.70477 L -122.223469,47.704697 L -122.224006,47.704403 L -122.224043,47.704368 L -122.224051,47.704341 L -122.224048,47.704317 L -122.223991,47.704311 L -122.22394,47.704313 L -122.223781,47.704337 L -122.223087,47.704559 L -122.222952,47.704597 L -122.22274,47.704641 L -122.222434,47.704685 L -122.22215,47.704739 L -122.221956,47.704789 L -122.221826,47.704811 L -122.221479,47.704807 L -122.22135,47.704818 L -122.221203,47.704858 L -122.221005,47.704961 L -122.220834,47.705106 L -122.220406,47.705293 L -122.220127,47.705401 L -122.220026,47.705409 L -122.219924,47.705416 L -122.219737,47.705414 L -122.219549,47.705413 L -122.219421,47.7054 L -122.219303,47.705357 L -122.219266,47.705326 L -122.219296,47.705191 L -122.219435,47.705134 L -122.219919,47.704904 L -122.220363,47.704695 L -122.220708,47.704549 L -122.22096,47.704459 L -122.221517,47.704273 L -122.221701,47.704205 L -122.221834,47.704149 L -122.222178,47.703975 L -122.223593,47.703193 L -122.223739,47.703128 L -122.223899,47.703064 L -122.224281,47.702945 L -122.225289,47.702683 L -122.225579,47.702607 L -122.226022,47.702463 L -122.226209,47.702392 L -122.226594,47.702219 L -122.226663,47.702183 L -122.227115,47.70253 L -122.227238,47.702608 L -122.227271,47.702617 L -122.227401,47.702625 L -122.227432,47.702624 L -122.227545,47.7026 L -122.227629,47.702566 L -122.227928,47.702399 L -122.22809,47.702288 L -122.228582,47.701893 L -122.228682,47.701801 L -122.228832,47.701625 L -122.228924,47.701484 L -122.229228,47.700892 L -122.229449,47.700564 L -122.229528,47.700424 L -122.229615,47.700243 L -122.229717,47.699996 L -122.229938,47.69952 L -122.229986,47.699453 L -122.230056,47.699376 L -122.230123,47.699322 L -122.230204,47.699275 L -122.230271,47.699244 L -122.230381,47.699208 L -122.230879,47.70026 L -122.230795,47.700286 L -122.230702,47.700331 L -122.230667,47.700355 L -122.230595,47.70044 L -122.230218,47.701225 L -122.230145,47.701393 L -122.230139,47.701476 L -122.230151,47.701529 L -122.230175,47.701573 L -122.230217,47.701624 L -122.230289,47.701684 L -122.230491,47.701804 L -122.230523,47.701839 L -122.230549,47.701877 L -122.230588,47.702006 L -122.230637,47.702215 L -122.23069,47.702403 L -122.230716,47.702458 L -122.230782,47.702562 L -122.230885,47.702697 L -122.231071,47.702642 L -122.231263,47.70261 L -122.231354,47.702602 L -122.231541,47.702602 L -122.231632,47.70261 L -122.231673,47.702617 L -122.231752,47.702632 L -122.231851,47.702665 L -122.232061,47.702755 L -122.232103,47.702786 L -122.232274,47.702933 L -122.232323,47.702989 L -122.232377,47.703066 L -122.23246,47.703208 L -122.232582,47.703449 L -122.232692,47.703597 L -122.23275,47.703661 L -122.232855,47.703764 L -122.232901,47.703803 L -122.232965,47.703848 L -122.233012,47.703873 L -122.233088,47.703906 L -122.233171,47.703933 L -122.233256,47.703954 L -122.233342,47.703967 L -122.233494,47.703973 L -122.233584,47.703968 L -122.233662,47.703956 L -122.233733,47.70394 L -122.233826,47.703911 L -122.233915,47.703876 L -122.234109,47.703767 L -122.234207,47.70383 L -122.234341,47.703891 L -122.234498,47.703939 L -122.234592,47.703956 L -122.234665,47.703963 L -122.234814,47.703967 L -122.235088,47.703926 L -122.235111,47.703044 L -122.23512,47.702695 L -122.235108,47.702526 L -122.235126,47.702079 L -122.235097,47.701398 L -122.235101,47.701325 L -122.23515,47.701022 L -122.235247,47.701031 L -122.235516,47.701275 L -122.235615,47.701366 L -122.235779,47.701527 L -122.23594,47.701704 L -122.236186,47.70201 L -122.236306,47.702177 L -122.236396,47.702313 L -122.236539,47.702552 L -122.23663,47.70273 L -122.236769,47.703016 L -122.2369,47.703348 L -122.236964,47.703546 L -122.237001,47.703695 L -122.237056,47.704043 L -122.237114,47.704413 L -122.237178,47.704823 L -122.237194,47.705004 L -122.237205,47.705702 L -122.237196,47.705832 z\" /></g></svg>"
      ],
      "text/plain": [
       "<shapely.geometry.polygon.Polygon at 0xa5ba748>"
      ]
     },
     "execution_count": 21,
     "metadata": {},
     "output_type": "execute_result"
    }
   ],
   "source": [
    "polys[1]"
   ]
  },
  {
   "cell_type": "code",
   "execution_count": 22,
   "metadata": {
    "collapsed": false
   },
   "outputs": [
    {
     "data": {
      "text/plain": [
       "576"
      ]
     },
     "execution_count": 22,
     "metadata": {},
     "output_type": "execute_result"
    }
   ],
   "source": [
    "len(mpolys)"
   ]
  },
  {
   "cell_type": "code",
   "execution_count": 23,
   "metadata": {
    "collapsed": false
   },
   "outputs": [],
   "source": [
    "# Associate each block group polygon with its GEOID\n",
    "block_group_tup = []\n",
    "idx = 0\n",
    "for feature in shp:\n",
    "    block_group_tup.append((mpolys[idx],\\\n",
    "    feature['properties']['GEOID']))\n",
    "    idx += 1"
   ]
  },
  {
   "cell_type": "code",
   "execution_count": 24,
   "metadata": {
    "collapsed": true
   },
   "outputs": [],
   "source": [
    "#shp.close()"
   ]
  },
  {
   "cell_type": "code",
   "execution_count": 25,
   "metadata": {
    "collapsed": false
   },
   "outputs": [],
   "source": [
    "with open('all_potholes.pkl') as f:\n",
    "        all_potholes = pickle.load(f)\n"
   ]
  },
  {
   "cell_type": "code",
   "execution_count": 26,
   "metadata": {
    "collapsed": false
   },
   "outputs": [],
   "source": [
    "# Extract the block group label associated with each pothole\n",
    "block_group_label = []\n",
    "for hole in xrange(len(all_potholes[0])):\n",
    "    found = False\n",
    "    for group in xrange(len(block_group_tup)):\n",
    "        if block_group_tup[group][0].contains(all_potholes[0][hole]):\n",
    "            block_group_label.append(block_group_tup[group][1])\n",
    "            found = True\n",
    "    if not found:   \n",
    "#     if found == False:\n",
    "        block_group_label.append('')\n",
    "            "
   ]
  },
  {
   "cell_type": "code",
   "execution_count": 27,
   "metadata": {
    "collapsed": false
   },
   "outputs": [
    {
     "data": {
      "text/plain": [
       "(1320, 1320)"
      ]
     },
     "execution_count": 27,
     "metadata": {},
     "output_type": "execute_result"
    }
   ],
   "source": [
    "len(block_group_label), len(all_potholes[0]) #Notice different number of potholes, since I have more of them now."
   ]
  },
  {
   "cell_type": "code",
   "execution_count": 28,
   "metadata": {
    "collapsed": false
   },
   "outputs": [],
   "source": [
    "# Add block group to dataframe\n",
    "df['GEOID'] = pd.Series(block_group_label,\\\n",
    "    index = df.index.tolist())"
   ]
  },
  {
   "cell_type": "code",
   "execution_count": 29,
   "metadata": {
    "collapsed": false
   },
   "outputs": [
    {
     "data": {
      "text/plain": [
       "(1320L,)"
      ]
     },
     "execution_count": 29,
     "metadata": {},
     "output_type": "execute_result"
    }
   ],
   "source": [
    "df.GEOID.shape"
   ]
  },
  {
   "cell_type": "code",
   "execution_count": 30,
   "metadata": {
    "collapsed": false
   },
   "outputs": [
    {
     "data": {
      "text/plain": [
       "(1320, 13)"
      ]
     },
     "execution_count": 30,
     "metadata": {},
     "output_type": "execute_result"
    }
   ],
   "source": [
    "df.shape"
   ]
  },
  {
   "cell_type": "code",
   "execution_count": 31,
   "metadata": {
    "collapsed": false
   },
   "outputs": [
    {
     "data": {
      "text/plain": [
       "1320"
      ]
     },
     "execution_count": 31,
     "metadata": {},
     "output_type": "execute_result"
    }
   ],
   "source": [
    "len(all_potholes[1]) #My problem is that this list is shorter because it was created with df_geo_cleaned, a shorter list of potholes"
   ]
  },
  {
   "cell_type": "code",
   "execution_count": 32,
   "metadata": {
    "collapsed": false
   },
   "outputs": [
    {
     "data": {
      "text/html": [
       "<div>\n",
       "<table border=\"1\" class=\"dataframe\">\n",
       "  <thead>\n",
       "    <tr style=\"text-align: right;\">\n",
       "      <th></th>\n",
       "      <th>OBJECTID</th>\n",
       "      <th>WOKEY</th>\n",
       "      <th>LOCATION</th>\n",
       "      <th>ADDRDESC</th>\n",
       "      <th>INITDT_dt</th>\n",
       "      <th>FLDSTARTDT_dt</th>\n",
       "      <th>FLDENDDT_dt</th>\n",
       "      <th>DURATION</th>\n",
       "      <th>DURATION_td</th>\n",
       "      <th>latitude</th>\n",
       "      <th>longitude</th>\n",
       "      <th>address</th>\n",
       "      <th>GEOID</th>\n",
       "    </tr>\n",
       "  </thead>\n",
       "  <tbody>\n",
       "    <tr>\n",
       "      <th>322</th>\n",
       "      <td>323</td>\n",
       "      <td>360163</td>\n",
       "      <td>117 S WASHINGTON ST                           ...</td>\n",
       "      <td>S WASHINGTON ST BETWEEN OCCIDENTAL AVE S AND 2...</td>\n",
       "      <td>2015-06-29 07:00:00</td>\n",
       "      <td>2015-06-30 07:00:00</td>\n",
       "      <td>2015-06-30 07:00:00</td>\n",
       "      <td>1 days</td>\n",
       "      <td>1</td>\n",
       "      <td>47.426947</td>\n",
       "      <td>-122.333367</td>\n",
       "      <td>2nd Ave S, Seattle, WA, USA</td>\n",
       "      <td></td>\n",
       "    </tr>\n",
       "    <tr>\n",
       "      <th>367</th>\n",
       "      <td>368</td>\n",
       "      <td>332082</td>\n",
       "      <td>S KENYON ST BETWEEN 2ND AVE S AND OCCIDENTAL A...</td>\n",
       "      <td>S KENYON ST BETWEEN OCCIDENTAL AVE S AND 2ND A...</td>\n",
       "      <td>2015-02-13 08:00:00</td>\n",
       "      <td>2015-02-18 08:00:00</td>\n",
       "      <td>2015-02-18 08:00:00</td>\n",
       "      <td>5 days</td>\n",
       "      <td>5</td>\n",
       "      <td>47.426947</td>\n",
       "      <td>-122.333367</td>\n",
       "      <td>2nd Ave S, Seattle, WA, USA</td>\n",
       "      <td></td>\n",
       "    </tr>\n",
       "    <tr>\n",
       "      <th>554</th>\n",
       "      <td>555</td>\n",
       "      <td>351330</td>\n",
       "      <td>S KENYON ST BETWEEN OCCIDENTAL AVE S AND 2ND A...</td>\n",
       "      <td>S KENYON ST BETWEEN OCCIDENTAL AVE S AND 2ND A...</td>\n",
       "      <td>2015-05-11 07:00:00</td>\n",
       "      <td>2015-05-13 07:00:00</td>\n",
       "      <td>2015-05-13 07:00:00</td>\n",
       "      <td>2 days</td>\n",
       "      <td>2</td>\n",
       "      <td>47.426947</td>\n",
       "      <td>-122.333367</td>\n",
       "      <td>2nd Ave S, Seattle, WA, USA</td>\n",
       "      <td></td>\n",
       "    </tr>\n",
       "    <tr>\n",
       "      <th>688</th>\n",
       "      <td>689</td>\n",
       "      <td>270417</td>\n",
       "      <td>2035 FEDERAL AVE E                            ...</td>\n",
       "      <td>FEDERAL AVE E BETWEEN E NEWTON ST AND E BOSTON...</td>\n",
       "      <td>2014-04-21 07:00:00</td>\n",
       "      <td>2014-04-23 07:00:00</td>\n",
       "      <td>2014-04-23 07:00:00</td>\n",
       "      <td>2 days</td>\n",
       "      <td>2</td>\n",
       "      <td>47.638712</td>\n",
       "      <td>-122.301795</td>\n",
       "      <td>E Boston St, Seattle, WA, USA</td>\n",
       "      <td></td>\n",
       "    </tr>\n",
       "    <tr>\n",
       "      <th>766</th>\n",
       "      <td>767</td>\n",
       "      <td>267533</td>\n",
       "      <td>Description:\\n\\npothole in E Newton Street bet...</td>\n",
       "      <td>FAIRVIEW AVE E BETWEEN E NEWTON ST AND E BOSTO...</td>\n",
       "      <td>2014-04-03 07:00:00</td>\n",
       "      <td>2014-04-08 07:00:00</td>\n",
       "      <td>2014-04-08 07:00:00</td>\n",
       "      <td>5 days</td>\n",
       "      <td>5</td>\n",
       "      <td>47.638712</td>\n",
       "      <td>-122.301795</td>\n",
       "      <td>E Boston St, Seattle, WA, USA</td>\n",
       "      <td></td>\n",
       "    </tr>\n",
       "    <tr>\n",
       "      <th>782</th>\n",
       "      <td>783</td>\n",
       "      <td>200928</td>\n",
       "      <td>2003 Eastlake E                               ...</td>\n",
       "      <td>EASTLAKE AVE E BETWEEN E NEWTON ST AND E BOSTO...</td>\n",
       "      <td>2013-05-24 07:00:00</td>\n",
       "      <td>2013-05-25 07:00:00</td>\n",
       "      <td>2013-05-25 07:00:00</td>\n",
       "      <td>1 days</td>\n",
       "      <td>1</td>\n",
       "      <td>47.638712</td>\n",
       "      <td>-122.301795</td>\n",
       "      <td>E Boston St, Seattle, WA, USA</td>\n",
       "      <td></td>\n",
       "    </tr>\n",
       "    <tr>\n",
       "      <th>1338</th>\n",
       "      <td>1339</td>\n",
       "      <td>48460</td>\n",
       "      <td>5200-5298 S. Wallace st. seattle              ...</td>\n",
       "      <td>S WALLACE ST BETWEEN 56TH PL S AND 53RD AVE S ...</td>\n",
       "      <td>2011-01-13 08:00:00</td>\n",
       "      <td>2011-03-04 08:00:00</td>\n",
       "      <td>2011-03-04 08:00:00</td>\n",
       "      <td>50 days</td>\n",
       "      <td>50</td>\n",
       "      <td>47.481400</td>\n",
       "      <td>-122.268409</td>\n",
       "      <td>53rd Ave S, Seattle, WA, USA</td>\n",
       "      <td></td>\n",
       "    </tr>\n",
       "    <tr>\n",
       "      <th>1600</th>\n",
       "      <td>1601</td>\n",
       "      <td>77960</td>\n",
       "      <td>51st Ave S from Rainier Ave S to S Hazel St.  ...</td>\n",
       "      <td>S HAZEL ST BETWEEN 51ST AVE S AND 53RD AVE S  ...</td>\n",
       "      <td>2011-08-25 07:00:00</td>\n",
       "      <td>2011-08-31 07:00:00</td>\n",
       "      <td>2011-08-31 07:00:00</td>\n",
       "      <td>6 days</td>\n",
       "      <td>6</td>\n",
       "      <td>47.481400</td>\n",
       "      <td>-122.268409</td>\n",
       "      <td>53rd Ave S, Seattle, WA, USA</td>\n",
       "      <td></td>\n",
       "    </tr>\n",
       "    <tr>\n",
       "      <th>1717</th>\n",
       "      <td>1718</td>\n",
       "      <td>49509</td>\n",
       "      <td>Webster Ave S and 44th Ave S                  ...</td>\n",
       "      <td>S WEBSTER ST BETWEEN 44TH AVE S AND 45TH AVE S...</td>\n",
       "      <td>2011-01-19 08:00:00</td>\n",
       "      <td>2011-02-01 08:00:00</td>\n",
       "      <td>2011-02-01 08:00:00</td>\n",
       "      <td>13 days</td>\n",
       "      <td>13</td>\n",
       "      <td>47.458872</td>\n",
       "      <td>-122.276804</td>\n",
       "      <td>45th Ave S, Seattle, WA, USA</td>\n",
       "      <td></td>\n",
       "    </tr>\n",
       "  </tbody>\n",
       "</table>\n",
       "</div>"
      ],
      "text/plain": [
       "      OBJECTID   WOKEY                                           LOCATION  \\\n",
       "322        323  360163  117 S WASHINGTON ST                           ...   \n",
       "367        368  332082  S KENYON ST BETWEEN 2ND AVE S AND OCCIDENTAL A...   \n",
       "554        555  351330  S KENYON ST BETWEEN OCCIDENTAL AVE S AND 2ND A...   \n",
       "688        689  270417  2035 FEDERAL AVE E                            ...   \n",
       "766        767  267533  Description:\\n\\npothole in E Newton Street bet...   \n",
       "782        783  200928  2003 Eastlake E                               ...   \n",
       "1338      1339   48460  5200-5298 S. Wallace st. seattle              ...   \n",
       "1600      1601   77960  51st Ave S from Rainier Ave S to S Hazel St.  ...   \n",
       "1717      1718   49509  Webster Ave S and 44th Ave S                  ...   \n",
       "\n",
       "                                               ADDRDESC           INITDT_dt  \\\n",
       "322   S WASHINGTON ST BETWEEN OCCIDENTAL AVE S AND 2... 2015-06-29 07:00:00   \n",
       "367   S KENYON ST BETWEEN OCCIDENTAL AVE S AND 2ND A... 2015-02-13 08:00:00   \n",
       "554   S KENYON ST BETWEEN OCCIDENTAL AVE S AND 2ND A... 2015-05-11 07:00:00   \n",
       "688   FEDERAL AVE E BETWEEN E NEWTON ST AND E BOSTON... 2014-04-21 07:00:00   \n",
       "766   FAIRVIEW AVE E BETWEEN E NEWTON ST AND E BOSTO... 2014-04-03 07:00:00   \n",
       "782   EASTLAKE AVE E BETWEEN E NEWTON ST AND E BOSTO... 2013-05-24 07:00:00   \n",
       "1338  S WALLACE ST BETWEEN 56TH PL S AND 53RD AVE S ... 2011-01-13 08:00:00   \n",
       "1600  S HAZEL ST BETWEEN 51ST AVE S AND 53RD AVE S  ... 2011-08-25 07:00:00   \n",
       "1717  S WEBSTER ST BETWEEN 44TH AVE S AND 45TH AVE S... 2011-01-19 08:00:00   \n",
       "\n",
       "           FLDSTARTDT_dt         FLDENDDT_dt  DURATION  DURATION_td  \\\n",
       "322  2015-06-30 07:00:00 2015-06-30 07:00:00    1 days            1   \n",
       "367  2015-02-18 08:00:00 2015-02-18 08:00:00    5 days            5   \n",
       "554  2015-05-13 07:00:00 2015-05-13 07:00:00    2 days            2   \n",
       "688  2014-04-23 07:00:00 2014-04-23 07:00:00    2 days            2   \n",
       "766  2014-04-08 07:00:00 2014-04-08 07:00:00    5 days            5   \n",
       "782  2013-05-25 07:00:00 2013-05-25 07:00:00    1 days            1   \n",
       "1338 2011-03-04 08:00:00 2011-03-04 08:00:00   50 days           50   \n",
       "1600 2011-08-31 07:00:00 2011-08-31 07:00:00    6 days            6   \n",
       "1717 2011-02-01 08:00:00 2011-02-01 08:00:00   13 days           13   \n",
       "\n",
       "       latitude   longitude                        address GEOID  \n",
       "322   47.426947 -122.333367    2nd Ave S, Seattle, WA, USA        \n",
       "367   47.426947 -122.333367    2nd Ave S, Seattle, WA, USA        \n",
       "554   47.426947 -122.333367    2nd Ave S, Seattle, WA, USA        \n",
       "688   47.638712 -122.301795  E Boston St, Seattle, WA, USA        \n",
       "766   47.638712 -122.301795  E Boston St, Seattle, WA, USA        \n",
       "782   47.638712 -122.301795  E Boston St, Seattle, WA, USA        \n",
       "1338  47.481400 -122.268409   53rd Ave S, Seattle, WA, USA        \n",
       "1600  47.481400 -122.268409   53rd Ave S, Seattle, WA, USA        \n",
       "1717  47.458872 -122.276804   45th Ave S, Seattle, WA, USA        "
      ]
     },
     "execution_count": 32,
     "metadata": {},
     "output_type": "execute_result"
    }
   ],
   "source": [
    "df[df.GEOID=='']"
   ]
  },
  {
   "cell_type": "code",
   "execution_count": 33,
   "metadata": {
    "collapsed": false
   },
   "outputs": [
    {
     "data": {
      "text/html": [
       "<div>\n",
       "<table border=\"1\" class=\"dataframe\">\n",
       "  <thead>\n",
       "    <tr style=\"text-align: right;\">\n",
       "      <th></th>\n",
       "      <th>OBJECTID</th>\n",
       "      <th>WOKEY</th>\n",
       "      <th>LOCATION</th>\n",
       "      <th>ADDRDESC</th>\n",
       "      <th>INITDT_dt</th>\n",
       "      <th>FLDSTARTDT_dt</th>\n",
       "      <th>FLDENDDT_dt</th>\n",
       "      <th>DURATION</th>\n",
       "      <th>DURATION_td</th>\n",
       "      <th>latitude</th>\n",
       "      <th>longitude</th>\n",
       "      <th>address</th>\n",
       "      <th>GEOID</th>\n",
       "    </tr>\n",
       "  </thead>\n",
       "  <tbody>\n",
       "    <tr>\n",
       "      <th>0</th>\n",
       "      <td>1</td>\n",
       "      <td>2456</td>\n",
       "      <td>Holden pl SW bt  SW Kenyon Holden             ...</td>\n",
       "      <td>HOLDEN PL SW BETWEEN SW HOLDEN ST AND SW KENYO...</td>\n",
       "      <td>2010-03-29 07:00:00</td>\n",
       "      <td>2010-04-06 07:00:00</td>\n",
       "      <td>2010-04-06 07:00:00</td>\n",
       "      <td>8 days</td>\n",
       "      <td>8</td>\n",
       "      <td>47.531858</td>\n",
       "      <td>-122.363186</td>\n",
       "      <td>SW Kenyon St, Seattle, WA, USA</td>\n",
       "      <td>530330114011</td>\n",
       "    </tr>\n",
       "    <tr>\n",
       "      <th>1</th>\n",
       "      <td>2</td>\n",
       "      <td>2514</td>\n",
       "      <td>NE Pacific Street, one block west of Montlake ...</td>\n",
       "      <td>MONTLAKE BLVD NE AND NE PACIFIC ST            ...</td>\n",
       "      <td>2010-03-30 07:00:00</td>\n",
       "      <td>2010-04-01 07:00:00</td>\n",
       "      <td>2010-04-01 07:00:00</td>\n",
       "      <td>2 days</td>\n",
       "      <td>2</td>\n",
       "      <td>47.649014</td>\n",
       "      <td>-122.304655</td>\n",
       "      <td>Montlake Blvd NE &amp; NE Pacific St, Seattle, WA ...</td>\n",
       "      <td>530330053022</td>\n",
       "    </tr>\n",
       "  </tbody>\n",
       "</table>\n",
       "</div>"
      ],
      "text/plain": [
       "   OBJECTID  WOKEY                                           LOCATION  \\\n",
       "0         1   2456  Holden pl SW bt  SW Kenyon Holden             ...   \n",
       "1         2   2514  NE Pacific Street, one block west of Montlake ...   \n",
       "\n",
       "                                            ADDRDESC           INITDT_dt  \\\n",
       "0  HOLDEN PL SW BETWEEN SW HOLDEN ST AND SW KENYO... 2010-03-29 07:00:00   \n",
       "1  MONTLAKE BLVD NE AND NE PACIFIC ST            ... 2010-03-30 07:00:00   \n",
       "\n",
       "        FLDSTARTDT_dt         FLDENDDT_dt  DURATION  DURATION_td   latitude  \\\n",
       "0 2010-04-06 07:00:00 2010-04-06 07:00:00    8 days            8  47.531858   \n",
       "1 2010-04-01 07:00:00 2010-04-01 07:00:00    2 days            2  47.649014   \n",
       "\n",
       "    longitude                                            address         GEOID  \n",
       "0 -122.363186                     SW Kenyon St, Seattle, WA, USA  530330114011  \n",
       "1 -122.304655  Montlake Blvd NE & NE Pacific St, Seattle, WA ...  530330053022  "
      ]
     },
     "execution_count": 33,
     "metadata": {},
     "output_type": "execute_result"
    }
   ],
   "source": [
    "df.head(2)"
   ]
  },
  {
   "cell_type": "code",
   "execution_count": 34,
   "metadata": {
    "collapsed": false
   },
   "outputs": [
    {
     "data": {
      "text/plain": [
       "0       530330114011\n",
       "1       530330053022\n",
       "2       530330011001\n",
       "3       530330091002\n",
       "5       530330042005\n",
       "6       530330005002\n",
       "9       530330073001\n",
       "10      530330058012\n",
       "12      530330081002\n",
       "13      530330026003\n",
       "14      530330078001\n",
       "15      530330100011\n",
       "16      530330012004\n",
       "18      530330003002\n",
       "19      530330003002\n",
       "20      530330016002\n",
       "21      530330093003\n",
       "23      530330033003\n",
       "24      530330118004\n",
       "25      530330093003\n",
       "26      530330062002\n",
       "28      530330090002\n",
       "32      530330007004\n",
       "37      530330094004\n",
       "38      530330005002\n",
       "39      530330062001\n",
       "41      530330073003\n",
       "43      530330068002\n",
       "44      530330110021\n",
       "45      530330031002\n",
       "            ...     \n",
       "1957    530330006004\n",
       "1958    530330014002\n",
       "1959    530330107012\n",
       "1960    530330094005\n",
       "1962    530330065001\n",
       "1963    530330104012\n",
       "1965    530330118003\n",
       "1966    530330062003\n",
       "1967    530330006003\n",
       "1968    530330100013\n",
       "1970    530330011002\n",
       "1972    530330012005\n",
       "1973    530330012005\n",
       "1974    530330077002\n",
       "1977    530330085003\n",
       "1979    530330064001\n",
       "1980    530330002006\n",
       "1981    530330107012\n",
       "1982    530330021003\n",
       "1984    530330012003\n",
       "1986    530330094002\n",
       "1987    530330015001\n",
       "1988    530330097021\n",
       "1989    530330043011\n",
       "1990    530330058021\n",
       "1991    530330006003\n",
       "1992    530330053022\n",
       "1995    530330114011\n",
       "1997    530330264001\n",
       "1998    530330067001\n",
       "Name: GEOID, dtype: object"
      ]
     },
     "execution_count": 34,
     "metadata": {},
     "output_type": "execute_result"
    }
   ],
   "source": [
    "df['GEOID']"
   ]
  },
  {
   "cell_type": "code",
   "execution_count": 35,
   "metadata": {
    "collapsed": false
   },
   "outputs": [
    {
     "data": {
      "text/plain": [
       "322"
      ]
     },
     "execution_count": 35,
     "metadata": {},
     "output_type": "execute_result"
    }
   ],
   "source": [
    "len(set(block_group_label))"
   ]
  },
  {
   "cell_type": "markdown",
   "metadata": {},
   "source": [
    "Now read in and join the csv file"
   ]
  },
  {
   "cell_type": "code",
   "execution_count": 36,
   "metadata": {
    "collapsed": false
   },
   "outputs": [],
   "source": [
    "df_econ = pd.read_csv('data/ACS_13_5YR_B25077_with_ann.csv', skiprows=range(1,2))"
   ]
  },
  {
   "cell_type": "code",
   "execution_count": 37,
   "metadata": {
    "collapsed": false
   },
   "outputs": [
    {
     "data": {
      "text/html": [
       "<div>\n",
       "<table border=\"1\" class=\"dataframe\">\n",
       "  <thead>\n",
       "    <tr style=\"text-align: right;\">\n",
       "      <th></th>\n",
       "      <th>GEO.id</th>\n",
       "      <th>GEO.id2</th>\n",
       "      <th>GEO.display-label</th>\n",
       "      <th>HD01_VD01</th>\n",
       "      <th>HD02_VD01</th>\n",
       "    </tr>\n",
       "  </thead>\n",
       "  <tbody>\n",
       "    <tr>\n",
       "      <th>0</th>\n",
       "      <td>1500000US530330001001</td>\n",
       "      <td>530330001001</td>\n",
       "      <td>Block Group 1, Census Tract 1, King County, Wa...</td>\n",
       "      <td>527700</td>\n",
       "      <td>93650</td>\n",
       "    </tr>\n",
       "    <tr>\n",
       "      <th>1</th>\n",
       "      <td>1500000US530330001002</td>\n",
       "      <td>530330001002</td>\n",
       "      <td>Block Group 2, Census Tract 1, King County, Wa...</td>\n",
       "      <td>321200</td>\n",
       "      <td>44352</td>\n",
       "    </tr>\n",
       "    <tr>\n",
       "      <th>2</th>\n",
       "      <td>1500000US530330001003</td>\n",
       "      <td>530330001003</td>\n",
       "      <td>Block Group 3, Census Tract 1, King County, Wa...</td>\n",
       "      <td>400700</td>\n",
       "      <td>56335</td>\n",
       "    </tr>\n",
       "  </tbody>\n",
       "</table>\n",
       "</div>"
      ],
      "text/plain": [
       "                  GEO.id       GEO.id2  \\\n",
       "0  1500000US530330001001  530330001001   \n",
       "1  1500000US530330001002  530330001002   \n",
       "2  1500000US530330001003  530330001003   \n",
       "\n",
       "                                   GEO.display-label HD01_VD01 HD02_VD01  \n",
       "0  Block Group 1, Census Tract 1, King County, Wa...    527700     93650  \n",
       "1  Block Group 2, Census Tract 1, King County, Wa...    321200     44352  \n",
       "2  Block Group 3, Census Tract 1, King County, Wa...    400700     56335  "
      ]
     },
     "execution_count": 37,
     "metadata": {},
     "output_type": "execute_result"
    }
   ],
   "source": [
    "df_econ.head(3)"
   ]
  },
  {
   "cell_type": "code",
   "execution_count": 38,
   "metadata": {
    "collapsed": false
   },
   "outputs": [
    {
     "name": "stdout",
     "output_type": "stream",
     "text": [
      "<class 'pandas.core.frame.DataFrame'>\n",
      "Int64Index: 1422 entries, 0 to 1421\n",
      "Data columns (total 5 columns):\n",
      "GEO.id               1422 non-null object\n",
      "GEO.id2              1422 non-null int64\n",
      "GEO.display-label    1422 non-null object\n",
      "HD01_VD01            1422 non-null object\n",
      "HD02_VD01            1422 non-null object\n",
      "dtypes: int64(1), object(4)\n",
      "memory usage: 66.7+ KB\n"
     ]
    }
   ],
   "source": [
    "df_econ.info()"
   ]
  },
  {
   "cell_type": "code",
   "execution_count": 39,
   "metadata": {
    "collapsed": false
   },
   "outputs": [
    {
     "data": {
      "text/plain": [
       "Index([u'GEO.id', u'GEO.id2', u'GEO.display-label', u'HD01_VD01',\n",
       "       u'HD02_VD01'],\n",
       "      dtype='object')"
      ]
     },
     "execution_count": 39,
     "metadata": {},
     "output_type": "execute_result"
    }
   ],
   "source": [
    "df_econ.columns"
   ]
  },
  {
   "cell_type": "code",
   "execution_count": 40,
   "metadata": {
    "collapsed": false
   },
   "outputs": [
    {
     "data": {
      "text/plain": [
       "(1422, 5)"
      ]
     },
     "execution_count": 40,
     "metadata": {},
     "output_type": "execute_result"
    }
   ],
   "source": [
    "df_econ.shape"
   ]
  },
  {
   "cell_type": "code",
   "execution_count": 41,
   "metadata": {
    "collapsed": false
   },
   "outputs": [
    {
     "data": {
      "text/plain": [
       "(1320, 13)"
      ]
     },
     "execution_count": 41,
     "metadata": {},
     "output_type": "execute_result"
    }
   ],
   "source": [
    "df.shape"
   ]
  },
  {
   "cell_type": "code",
   "execution_count": 42,
   "metadata": {
    "collapsed": true
   },
   "outputs": [],
   "source": [
    "df_econ.rename(columns={'GEO.id2':'GEOID'}, inplace=True)"
   ]
  },
  {
   "cell_type": "code",
   "execution_count": 43,
   "metadata": {
    "collapsed": false
   },
   "outputs": [
    {
     "data": {
      "text/plain": [
       "Index([u'GEO.id', u'GEOID', u'GEO.display-label', u'HD01_VD01', u'HD02_VD01'], dtype='object')"
      ]
     },
     "execution_count": 43,
     "metadata": {},
     "output_type": "execute_result"
    }
   ],
   "source": [
    "df_econ.columns"
   ]
  },
  {
   "cell_type": "code",
   "execution_count": 44,
   "metadata": {
    "collapsed": false
   },
   "outputs": [
    {
     "data": {
      "text/html": [
       "<div>\n",
       "<table border=\"1\" class=\"dataframe\">\n",
       "  <thead>\n",
       "    <tr style=\"text-align: right;\">\n",
       "      <th></th>\n",
       "      <th>GEO.id</th>\n",
       "      <th>GEOID</th>\n",
       "      <th>GEO.display-label</th>\n",
       "      <th>HD01_VD01</th>\n",
       "      <th>HD02_VD01</th>\n",
       "    </tr>\n",
       "  </thead>\n",
       "  <tbody>\n",
       "    <tr>\n",
       "      <th>0</th>\n",
       "      <td>1500000US530330001001</td>\n",
       "      <td>530330001001</td>\n",
       "      <td>Block Group 1, Census Tract 1, King County, Wa...</td>\n",
       "      <td>527700</td>\n",
       "      <td>93650</td>\n",
       "    </tr>\n",
       "    <tr>\n",
       "      <th>1</th>\n",
       "      <td>1500000US530330001002</td>\n",
       "      <td>530330001002</td>\n",
       "      <td>Block Group 2, Census Tract 1, King County, Wa...</td>\n",
       "      <td>321200</td>\n",
       "      <td>44352</td>\n",
       "    </tr>\n",
       "  </tbody>\n",
       "</table>\n",
       "</div>"
      ],
      "text/plain": [
       "                  GEO.id         GEOID  \\\n",
       "0  1500000US530330001001  530330001001   \n",
       "1  1500000US530330001002  530330001002   \n",
       "\n",
       "                                   GEO.display-label HD01_VD01 HD02_VD01  \n",
       "0  Block Group 1, Census Tract 1, King County, Wa...    527700     93650  \n",
       "1  Block Group 2, Census Tract 1, King County, Wa...    321200     44352  "
      ]
     },
     "execution_count": 44,
     "metadata": {},
     "output_type": "execute_result"
    }
   ],
   "source": [
    "df_econ.head(2)"
   ]
  },
  {
   "cell_type": "code",
   "execution_count": 45,
   "metadata": {
    "collapsed": false
   },
   "outputs": [
    {
     "data": {
      "text/html": [
       "<div>\n",
       "<table border=\"1\" class=\"dataframe\">\n",
       "  <thead>\n",
       "    <tr style=\"text-align: right;\">\n",
       "      <th></th>\n",
       "      <th>GEO.id</th>\n",
       "      <th>GEOID</th>\n",
       "      <th>GEO.display-label</th>\n",
       "      <th>HD01_VD01</th>\n",
       "      <th>HD02_VD01</th>\n",
       "    </tr>\n",
       "  </thead>\n",
       "  <tbody>\n",
       "    <tr>\n",
       "      <th>442</th>\n",
       "      <td>1500000US530330114011</td>\n",
       "      <td>530330114011</td>\n",
       "      <td>Block Group 1, Census Tract 114.01, King Count...</td>\n",
       "      <td>307500</td>\n",
       "      <td>53269</td>\n",
       "    </tr>\n",
       "  </tbody>\n",
       "</table>\n",
       "</div>"
      ],
      "text/plain": [
       "                    GEO.id         GEOID  \\\n",
       "442  1500000US530330114011  530330114011   \n",
       "\n",
       "                                     GEO.display-label HD01_VD01 HD02_VD01  \n",
       "442  Block Group 1, Census Tract 114.01, King Count...    307500     53269  "
      ]
     },
     "execution_count": 45,
     "metadata": {},
     "output_type": "execute_result"
    }
   ],
   "source": [
    "df_econ[df_econ['GEOID'] == 530330114011]"
   ]
  },
  {
   "cell_type": "code",
   "execution_count": 46,
   "metadata": {
    "collapsed": false
   },
   "outputs": [
    {
     "name": "stdout",
     "output_type": "stream",
     "text": [
      "<class 'pandas.core.frame.DataFrame'>\n",
      "Int64Index: 1422 entries, 0 to 1421\n",
      "Data columns (total 5 columns):\n",
      "GEO.id               1422 non-null object\n",
      "GEOID                1422 non-null int64\n",
      "GEO.display-label    1422 non-null object\n",
      "HD01_VD01            1422 non-null object\n",
      "HD02_VD01            1422 non-null object\n",
      "dtypes: int64(1), object(4)\n",
      "memory usage: 66.7+ KB\n"
     ]
    }
   ],
   "source": [
    "df_econ.info()"
   ]
  },
  {
   "cell_type": "code",
   "execution_count": 47,
   "metadata": {
    "collapsed": false
   },
   "outputs": [
    {
     "name": "stdout",
     "output_type": "stream",
     "text": [
      "<class 'pandas.core.frame.DataFrame'>\n",
      "Int64Index: 1320 entries, 0 to 1998\n",
      "Data columns (total 13 columns):\n",
      "OBJECTID         1320 non-null int64\n",
      "WOKEY            1320 non-null int64\n",
      "LOCATION         1320 non-null object\n",
      "ADDRDESC         1320 non-null object\n",
      "INITDT_dt        1320 non-null datetime64[ns]\n",
      "FLDSTARTDT_dt    1320 non-null datetime64[ns]\n",
      "FLDENDDT_dt      1320 non-null datetime64[ns]\n",
      "DURATION         1320 non-null timedelta64[ns]\n",
      "DURATION_td      1320 non-null float64\n",
      "latitude         1320 non-null float64\n",
      "longitude        1320 non-null float64\n",
      "address          1320 non-null object\n",
      "GEOID            1320 non-null object\n",
      "dtypes: datetime64[ns](3), float64(3), int64(2), object(4), timedelta64[ns](1)\n",
      "memory usage: 144.4+ KB\n"
     ]
    }
   ],
   "source": [
    "df.info()"
   ]
  },
  {
   "cell_type": "code",
   "execution_count": 48,
   "metadata": {
    "collapsed": false
   },
   "outputs": [
    {
     "data": {
      "text/plain": [
       "unicode"
      ]
     },
     "execution_count": 48,
     "metadata": {},
     "output_type": "execute_result"
    }
   ],
   "source": [
    "type(df['GEOID'][0])"
   ]
  },
  {
   "cell_type": "code",
   "execution_count": 49,
   "metadata": {
    "collapsed": false
   },
   "outputs": [
    {
     "data": {
      "text/plain": [
       "u'530330114011'"
      ]
     },
     "execution_count": 49,
     "metadata": {},
     "output_type": "execute_result"
    }
   ],
   "source": [
    "df['GEOID'][0]"
   ]
  },
  {
   "cell_type": "code",
   "execution_count": 50,
   "metadata": {
    "collapsed": false
   },
   "outputs": [
    {
     "data": {
      "text/plain": [
       "numpy.unicode_"
      ]
     },
     "execution_count": 50,
     "metadata": {},
     "output_type": "execute_result"
    }
   ],
   "source": [
    "type(df_econ['GEOID'][0].astype('unicode'))"
   ]
  },
  {
   "cell_type": "code",
   "execution_count": 51,
   "metadata": {
    "collapsed": false
   },
   "outputs": [
    {
     "data": {
      "text/plain": [
       "u'530330001001'"
      ]
     },
     "execution_count": 51,
     "metadata": {},
     "output_type": "execute_result"
    }
   ],
   "source": [
    "df_econ['GEOID'][0].astype('unicode')"
   ]
  },
  {
   "cell_type": "code",
   "execution_count": 52,
   "metadata": {
    "collapsed": false
   },
   "outputs": [],
   "source": [
    "df_econ['GEOID'] = df_econ['GEOID'].astype('unicode')"
   ]
  },
  {
   "cell_type": "code",
   "execution_count": 53,
   "metadata": {
    "collapsed": false
   },
   "outputs": [
    {
     "data": {
      "text/html": [
       "<div>\n",
       "<table border=\"1\" class=\"dataframe\">\n",
       "  <thead>\n",
       "    <tr style=\"text-align: right;\">\n",
       "      <th></th>\n",
       "      <th>OBJECTID</th>\n",
       "      <th>WOKEY</th>\n",
       "      <th>LOCATION</th>\n",
       "      <th>ADDRDESC</th>\n",
       "      <th>INITDT_dt</th>\n",
       "      <th>FLDSTARTDT_dt</th>\n",
       "      <th>FLDENDDT_dt</th>\n",
       "      <th>DURATION</th>\n",
       "      <th>DURATION_td</th>\n",
       "      <th>latitude</th>\n",
       "      <th>longitude</th>\n",
       "      <th>address</th>\n",
       "      <th>GEOID</th>\n",
       "    </tr>\n",
       "  </thead>\n",
       "  <tbody>\n",
       "    <tr>\n",
       "      <th>0</th>\n",
       "      <td>1</td>\n",
       "      <td>2456</td>\n",
       "      <td>Holden pl SW bt  SW Kenyon Holden             ...</td>\n",
       "      <td>HOLDEN PL SW BETWEEN SW HOLDEN ST AND SW KENYO...</td>\n",
       "      <td>2010-03-29 07:00:00</td>\n",
       "      <td>2010-04-06 07:00:00</td>\n",
       "      <td>2010-04-06 07:00:00</td>\n",
       "      <td>8 days</td>\n",
       "      <td>8</td>\n",
       "      <td>47.531858</td>\n",
       "      <td>-122.363186</td>\n",
       "      <td>SW Kenyon St, Seattle, WA, USA</td>\n",
       "      <td>530330114011</td>\n",
       "    </tr>\n",
       "    <tr>\n",
       "      <th>1</th>\n",
       "      <td>2</td>\n",
       "      <td>2514</td>\n",
       "      <td>NE Pacific Street, one block west of Montlake ...</td>\n",
       "      <td>MONTLAKE BLVD NE AND NE PACIFIC ST            ...</td>\n",
       "      <td>2010-03-30 07:00:00</td>\n",
       "      <td>2010-04-01 07:00:00</td>\n",
       "      <td>2010-04-01 07:00:00</td>\n",
       "      <td>2 days</td>\n",
       "      <td>2</td>\n",
       "      <td>47.649014</td>\n",
       "      <td>-122.304655</td>\n",
       "      <td>Montlake Blvd NE &amp; NE Pacific St, Seattle, WA ...</td>\n",
       "      <td>530330053022</td>\n",
       "    </tr>\n",
       "  </tbody>\n",
       "</table>\n",
       "</div>"
      ],
      "text/plain": [
       "   OBJECTID  WOKEY                                           LOCATION  \\\n",
       "0         1   2456  Holden pl SW bt  SW Kenyon Holden             ...   \n",
       "1         2   2514  NE Pacific Street, one block west of Montlake ...   \n",
       "\n",
       "                                            ADDRDESC           INITDT_dt  \\\n",
       "0  HOLDEN PL SW BETWEEN SW HOLDEN ST AND SW KENYO... 2010-03-29 07:00:00   \n",
       "1  MONTLAKE BLVD NE AND NE PACIFIC ST            ... 2010-03-30 07:00:00   \n",
       "\n",
       "        FLDSTARTDT_dt         FLDENDDT_dt  DURATION  DURATION_td   latitude  \\\n",
       "0 2010-04-06 07:00:00 2010-04-06 07:00:00    8 days            8  47.531858   \n",
       "1 2010-04-01 07:00:00 2010-04-01 07:00:00    2 days            2  47.649014   \n",
       "\n",
       "    longitude                                            address         GEOID  \n",
       "0 -122.363186                     SW Kenyon St, Seattle, WA, USA  530330114011  \n",
       "1 -122.304655  Montlake Blvd NE & NE Pacific St, Seattle, WA ...  530330053022  "
      ]
     },
     "execution_count": 53,
     "metadata": {},
     "output_type": "execute_result"
    }
   ],
   "source": [
    "df.head(2)"
   ]
  },
  {
   "cell_type": "code",
   "execution_count": 54,
   "metadata": {
    "collapsed": false
   },
   "outputs": [],
   "source": [
    "df_both = pd.merge(df, df_econ, how='left', on='GEOID')"
   ]
  },
  {
   "cell_type": "code",
   "execution_count": 55,
   "metadata": {
    "collapsed": false
   },
   "outputs": [
    {
     "data": {
      "text/html": [
       "<div>\n",
       "<table border=\"1\" class=\"dataframe\">\n",
       "  <thead>\n",
       "    <tr style=\"text-align: right;\">\n",
       "      <th></th>\n",
       "      <th>OBJECTID</th>\n",
       "      <th>WOKEY</th>\n",
       "      <th>LOCATION</th>\n",
       "      <th>ADDRDESC</th>\n",
       "      <th>INITDT_dt</th>\n",
       "      <th>FLDSTARTDT_dt</th>\n",
       "      <th>FLDENDDT_dt</th>\n",
       "      <th>DURATION</th>\n",
       "      <th>DURATION_td</th>\n",
       "      <th>latitude</th>\n",
       "      <th>longitude</th>\n",
       "      <th>address</th>\n",
       "      <th>GEOID</th>\n",
       "      <th>GEO.id</th>\n",
       "      <th>GEO.display-label</th>\n",
       "      <th>HD01_VD01</th>\n",
       "      <th>HD02_VD01</th>\n",
       "    </tr>\n",
       "  </thead>\n",
       "  <tbody>\n",
       "    <tr>\n",
       "      <th>0</th>\n",
       "      <td>1</td>\n",
       "      <td>2456</td>\n",
       "      <td>Holden pl SW bt  SW Kenyon Holden             ...</td>\n",
       "      <td>HOLDEN PL SW BETWEEN SW HOLDEN ST AND SW KENYO...</td>\n",
       "      <td>2010-03-29 07:00:00</td>\n",
       "      <td>2010-04-06 07:00:00</td>\n",
       "      <td>2010-04-06 07:00:00</td>\n",
       "      <td>8 days</td>\n",
       "      <td>8</td>\n",
       "      <td>47.531858</td>\n",
       "      <td>-122.363186</td>\n",
       "      <td>SW Kenyon St, Seattle, WA, USA</td>\n",
       "      <td>530330114011</td>\n",
       "      <td>1500000US530330114011</td>\n",
       "      <td>Block Group 1, Census Tract 114.01, King Count...</td>\n",
       "      <td>307500</td>\n",
       "      <td>53269</td>\n",
       "    </tr>\n",
       "    <tr>\n",
       "      <th>1</th>\n",
       "      <td>2</td>\n",
       "      <td>2514</td>\n",
       "      <td>NE Pacific Street, one block west of Montlake ...</td>\n",
       "      <td>MONTLAKE BLVD NE AND NE PACIFIC ST            ...</td>\n",
       "      <td>2010-03-30 07:00:00</td>\n",
       "      <td>2010-04-01 07:00:00</td>\n",
       "      <td>2010-04-01 07:00:00</td>\n",
       "      <td>2 days</td>\n",
       "      <td>2</td>\n",
       "      <td>47.649014</td>\n",
       "      <td>-122.304655</td>\n",
       "      <td>Montlake Blvd NE &amp; NE Pacific St, Seattle, WA ...</td>\n",
       "      <td>530330053022</td>\n",
       "      <td>1500000US530330053022</td>\n",
       "      <td>Block Group 2, Census Tract 53.02, King County...</td>\n",
       "      <td>-</td>\n",
       "      <td>**</td>\n",
       "    </tr>\n",
       "    <tr>\n",
       "      <th>2</th>\n",
       "      <td>3</td>\n",
       "      <td>2649</td>\n",
       "      <td>32nd Ave NE and  NE 135th                     ...</td>\n",
       "      <td>NE 135TH ST BETWEEN 32ND AVE NE AND LAKE CITY ...</td>\n",
       "      <td>2010-03-31 07:00:00</td>\n",
       "      <td>2010-04-01 07:00:00</td>\n",
       "      <td>2010-04-01 07:00:00</td>\n",
       "      <td>1 days</td>\n",
       "      <td>1</td>\n",
       "      <td>47.707446</td>\n",
       "      <td>-122.301566</td>\n",
       "      <td>Lake City Way NE, Seattle, WA, USA</td>\n",
       "      <td>530330011001</td>\n",
       "      <td>1500000US530330011001</td>\n",
       "      <td>Block Group 1, Census Tract 11, King County, W...</td>\n",
       "      <td>416900</td>\n",
       "      <td>62441</td>\n",
       "    </tr>\n",
       "    <tr>\n",
       "      <th>3</th>\n",
       "      <td>4</td>\n",
       "      <td>1591</td>\n",
       "      <td>Charles st &amp; 6 Ave S pothole next to traffic l...</td>\n",
       "      <td>S CHARLES ST BETWEEN 6TH AVE S AND MAYNARD AVE...</td>\n",
       "      <td>2010-03-15 07:00:00</td>\n",
       "      <td>2010-03-16 07:00:00</td>\n",
       "      <td>2010-03-16 07:00:00</td>\n",
       "      <td>1 days</td>\n",
       "      <td>1</td>\n",
       "      <td>47.597085</td>\n",
       "      <td>-122.325065</td>\n",
       "      <td>Maynard Ave S, Seattle, WA, USA</td>\n",
       "      <td>530330091002</td>\n",
       "      <td>1500000US530330091002</td>\n",
       "      <td>Block Group 2, Census Tract 91, King County, W...</td>\n",
       "      <td>328900</td>\n",
       "      <td>145688</td>\n",
       "    </tr>\n",
       "    <tr>\n",
       "      <th>4</th>\n",
       "      <td>6</td>\n",
       "      <td>5642</td>\n",
       "      <td>52nd St. &amp; 18th Ave. NE                       ...</td>\n",
       "      <td>18TH AVE NE BETWEEN NE 52ND ST AND NE 55TH ST ...</td>\n",
       "      <td>2010-04-19 07:00:00</td>\n",
       "      <td>2010-04-22 07:00:00</td>\n",
       "      <td>2010-04-22 07:00:00</td>\n",
       "      <td>3 days</td>\n",
       "      <td>3</td>\n",
       "      <td>47.668522</td>\n",
       "      <td>-122.295630</td>\n",
       "      <td>NE 55th St, Seattle, WA 98105, USA</td>\n",
       "      <td>530330042005</td>\n",
       "      <td>1500000US530330042005</td>\n",
       "      <td>Block Group 5, Census Tract 42, King County, W...</td>\n",
       "      <td>637000</td>\n",
       "      <td>56463</td>\n",
       "    </tr>\n",
       "    <tr>\n",
       "      <th>5</th>\n",
       "      <td>7</td>\n",
       "      <td>7585</td>\n",
       "      <td>...</td>\n",
       "      <td>3RD AVE NW BETWEEN NW 125TH ST AND NW 127TH ST...</td>\n",
       "      <td>2010-05-03 07:00:00</td>\n",
       "      <td>2010-05-04 07:00:00</td>\n",
       "      <td>2010-05-04 07:00:00</td>\n",
       "      <td>1 days</td>\n",
       "      <td>1</td>\n",
       "      <td>47.721476</td>\n",
       "      <td>-122.364984</td>\n",
       "      <td>NW 127th St, Seattle, WA 98177, USA</td>\n",
       "      <td>530330005002</td>\n",
       "      <td>1500000US530330005002</td>\n",
       "      <td>Block Group 2, Census Tract 5, King County, Wa...</td>\n",
       "      <td>565200</td>\n",
       "      <td>53534</td>\n",
       "    </tr>\n",
       "    <tr>\n",
       "      <th>6</th>\n",
       "      <td>10</td>\n",
       "      <td>7211</td>\n",
       "      <td>Republican and Minor Ave N                    ...</td>\n",
       "      <td>MINOR AVE N AND REPUBLICAN ST                 ...</td>\n",
       "      <td>2010-04-29 07:00:00</td>\n",
       "      <td>2010-05-03 07:00:00</td>\n",
       "      <td>2010-05-03 07:00:00</td>\n",
       "      <td>4 days</td>\n",
       "      <td>4</td>\n",
       "      <td>47.623131</td>\n",
       "      <td>-122.333003</td>\n",
       "      <td>Republican St &amp; Minor Ave N, Seattle, WA 98109...</td>\n",
       "      <td>530330073001</td>\n",
       "      <td>1500000US530330073001</td>\n",
       "      <td>Block Group 1, Census Tract 73, King County, W...</td>\n",
       "      <td>-</td>\n",
       "      <td>**</td>\n",
       "    </tr>\n",
       "    <tr>\n",
       "      <th>7</th>\n",
       "      <td>11</td>\n",
       "      <td>3168</td>\n",
       "      <td>...</td>\n",
       "      <td>17TH AVE W BETWEEN W DRAVUS ST AND W BERTONA S...</td>\n",
       "      <td>2010-04-02 07:00:00</td>\n",
       "      <td>2010-04-06 07:00:00</td>\n",
       "      <td>2010-04-06 07:00:00</td>\n",
       "      <td>4 days</td>\n",
       "      <td>4</td>\n",
       "      <td>47.650311</td>\n",
       "      <td>-122.388604</td>\n",
       "      <td>W Bertona St, Seattle, WA, USA</td>\n",
       "      <td>530330058012</td>\n",
       "      <td>1500000US530330058012</td>\n",
       "      <td>Block Group 2, Census Tract 58.01, King County...</td>\n",
       "      <td>255200</td>\n",
       "      <td>50905</td>\n",
       "    </tr>\n",
       "    <tr>\n",
       "      <th>8</th>\n",
       "      <td>13</td>\n",
       "      <td>6967</td>\n",
       "      <td>B/T Pike and Pine B/t 211 and 215             ...</td>\n",
       "      <td>PIKE ST BETWEEN 2ND AVE AND 3RD AVE           ...</td>\n",
       "      <td>2010-04-28 07:00:00</td>\n",
       "      <td>2010-05-03 07:00:00</td>\n",
       "      <td>2010-05-03 07:00:00</td>\n",
       "      <td>5 days</td>\n",
       "      <td>5</td>\n",
       "      <td>47.610741</td>\n",
       "      <td>-122.338703</td>\n",
       "      <td>3rd Ave, Seattle, WA, USA</td>\n",
       "      <td>530330081002</td>\n",
       "      <td>1500000US530330081002</td>\n",
       "      <td>Block Group 2, Census Tract 81, King County, W...</td>\n",
       "      <td>384400</td>\n",
       "      <td>224247</td>\n",
       "    </tr>\n",
       "    <tr>\n",
       "      <th>9</th>\n",
       "      <td>14</td>\n",
       "      <td>7107</td>\n",
       "      <td>17th Ave NE Exit of University of Washington  ...</td>\n",
       "      <td>NE 45TH ST BETWEEN 15TH AVE NE AND 16TH AVE NE...</td>\n",
       "      <td>2010-04-29 07:00:00</td>\n",
       "      <td>2010-05-03 07:00:00</td>\n",
       "      <td>2010-05-03 07:00:00</td>\n",
       "      <td>4 days</td>\n",
       "      <td>4</td>\n",
       "      <td>47.675800</td>\n",
       "      <td>-122.310849</td>\n",
       "      <td>16th Ave NE, Seattle, WA, USA</td>\n",
       "      <td>530330026003</td>\n",
       "      <td>1500000US530330026003</td>\n",
       "      <td>Block Group 3, Census Tract 26, King County, W...</td>\n",
       "      <td>450600</td>\n",
       "      <td>59449</td>\n",
       "    </tr>\n",
       "  </tbody>\n",
       "</table>\n",
       "</div>"
      ],
      "text/plain": [
       "   OBJECTID  WOKEY                                           LOCATION  \\\n",
       "0         1   2456  Holden pl SW bt  SW Kenyon Holden             ...   \n",
       "1         2   2514  NE Pacific Street, one block west of Montlake ...   \n",
       "2         3   2649  32nd Ave NE and  NE 135th                     ...   \n",
       "3         4   1591  Charles st & 6 Ave S pothole next to traffic l...   \n",
       "4         6   5642  52nd St. & 18th Ave. NE                       ...   \n",
       "5         7   7585                                                ...   \n",
       "6        10   7211  Republican and Minor Ave N                    ...   \n",
       "7        11   3168                                                ...   \n",
       "8        13   6967  B/T Pike and Pine B/t 211 and 215             ...   \n",
       "9        14   7107  17th Ave NE Exit of University of Washington  ...   \n",
       "\n",
       "                                            ADDRDESC           INITDT_dt  \\\n",
       "0  HOLDEN PL SW BETWEEN SW HOLDEN ST AND SW KENYO... 2010-03-29 07:00:00   \n",
       "1  MONTLAKE BLVD NE AND NE PACIFIC ST            ... 2010-03-30 07:00:00   \n",
       "2  NE 135TH ST BETWEEN 32ND AVE NE AND LAKE CITY ... 2010-03-31 07:00:00   \n",
       "3  S CHARLES ST BETWEEN 6TH AVE S AND MAYNARD AVE... 2010-03-15 07:00:00   \n",
       "4  18TH AVE NE BETWEEN NE 52ND ST AND NE 55TH ST ... 2010-04-19 07:00:00   \n",
       "5  3RD AVE NW BETWEEN NW 125TH ST AND NW 127TH ST... 2010-05-03 07:00:00   \n",
       "6  MINOR AVE N AND REPUBLICAN ST                 ... 2010-04-29 07:00:00   \n",
       "7  17TH AVE W BETWEEN W DRAVUS ST AND W BERTONA S... 2010-04-02 07:00:00   \n",
       "8  PIKE ST BETWEEN 2ND AVE AND 3RD AVE           ... 2010-04-28 07:00:00   \n",
       "9  NE 45TH ST BETWEEN 15TH AVE NE AND 16TH AVE NE... 2010-04-29 07:00:00   \n",
       "\n",
       "        FLDSTARTDT_dt         FLDENDDT_dt  DURATION  DURATION_td   latitude  \\\n",
       "0 2010-04-06 07:00:00 2010-04-06 07:00:00    8 days            8  47.531858   \n",
       "1 2010-04-01 07:00:00 2010-04-01 07:00:00    2 days            2  47.649014   \n",
       "2 2010-04-01 07:00:00 2010-04-01 07:00:00    1 days            1  47.707446   \n",
       "3 2010-03-16 07:00:00 2010-03-16 07:00:00    1 days            1  47.597085   \n",
       "4 2010-04-22 07:00:00 2010-04-22 07:00:00    3 days            3  47.668522   \n",
       "5 2010-05-04 07:00:00 2010-05-04 07:00:00    1 days            1  47.721476   \n",
       "6 2010-05-03 07:00:00 2010-05-03 07:00:00    4 days            4  47.623131   \n",
       "7 2010-04-06 07:00:00 2010-04-06 07:00:00    4 days            4  47.650311   \n",
       "8 2010-05-03 07:00:00 2010-05-03 07:00:00    5 days            5  47.610741   \n",
       "9 2010-05-03 07:00:00 2010-05-03 07:00:00    4 days            4  47.675800   \n",
       "\n",
       "    longitude                                            address  \\\n",
       "0 -122.363186                     SW Kenyon St, Seattle, WA, USA   \n",
       "1 -122.304655  Montlake Blvd NE & NE Pacific St, Seattle, WA ...   \n",
       "2 -122.301566                 Lake City Way NE, Seattle, WA, USA   \n",
       "3 -122.325065                    Maynard Ave S, Seattle, WA, USA   \n",
       "4 -122.295630                 NE 55th St, Seattle, WA 98105, USA   \n",
       "5 -122.364984                NW 127th St, Seattle, WA 98177, USA   \n",
       "6 -122.333003  Republican St & Minor Ave N, Seattle, WA 98109...   \n",
       "7 -122.388604                     W Bertona St, Seattle, WA, USA   \n",
       "8 -122.338703                          3rd Ave, Seattle, WA, USA   \n",
       "9 -122.310849                      16th Ave NE, Seattle, WA, USA   \n",
       "\n",
       "          GEOID                 GEO.id  \\\n",
       "0  530330114011  1500000US530330114011   \n",
       "1  530330053022  1500000US530330053022   \n",
       "2  530330011001  1500000US530330011001   \n",
       "3  530330091002  1500000US530330091002   \n",
       "4  530330042005  1500000US530330042005   \n",
       "5  530330005002  1500000US530330005002   \n",
       "6  530330073001  1500000US530330073001   \n",
       "7  530330058012  1500000US530330058012   \n",
       "8  530330081002  1500000US530330081002   \n",
       "9  530330026003  1500000US530330026003   \n",
       "\n",
       "                                   GEO.display-label HD01_VD01 HD02_VD01  \n",
       "0  Block Group 1, Census Tract 114.01, King Count...    307500     53269  \n",
       "1  Block Group 2, Census Tract 53.02, King County...         -        **  \n",
       "2  Block Group 1, Census Tract 11, King County, W...    416900     62441  \n",
       "3  Block Group 2, Census Tract 91, King County, W...    328900    145688  \n",
       "4  Block Group 5, Census Tract 42, King County, W...    637000     56463  \n",
       "5  Block Group 2, Census Tract 5, King County, Wa...    565200     53534  \n",
       "6  Block Group 1, Census Tract 73, King County, W...         -        **  \n",
       "7  Block Group 2, Census Tract 58.01, King County...    255200     50905  \n",
       "8  Block Group 2, Census Tract 81, King County, W...    384400    224247  \n",
       "9  Block Group 3, Census Tract 26, King County, W...    450600     59449  "
      ]
     },
     "execution_count": 55,
     "metadata": {},
     "output_type": "execute_result"
    }
   ],
   "source": [
    "df_both.head(10)"
   ]
  },
  {
   "cell_type": "code",
   "execution_count": 56,
   "metadata": {
    "collapsed": false
   },
   "outputs": [
    {
     "name": "stdout",
     "output_type": "stream",
     "text": [
      "<class 'pandas.core.frame.DataFrame'>\n",
      "Int64Index: 1320 entries, 0 to 1319\n",
      "Data columns (total 17 columns):\n",
      "OBJECTID             1320 non-null int64\n",
      "WOKEY                1320 non-null int64\n",
      "LOCATION             1320 non-null object\n",
      "ADDRDESC             1320 non-null object\n",
      "INITDT_dt            1320 non-null datetime64[ns]\n",
      "FLDSTARTDT_dt        1320 non-null datetime64[ns]\n",
      "FLDENDDT_dt          1320 non-null datetime64[ns]\n",
      "DURATION             1320 non-null timedelta64[ns]\n",
      "DURATION_td          1320 non-null float64\n",
      "latitude             1320 non-null float64\n",
      "longitude            1320 non-null float64\n",
      "address              1320 non-null object\n",
      "GEOID                1320 non-null object\n",
      "GEO.id               1311 non-null object\n",
      "GEO.display-label    1311 non-null object\n",
      "HD01_VD01            1311 non-null object\n",
      "HD02_VD01            1311 non-null object\n",
      "dtypes: datetime64[ns](3), float64(3), int64(2), object(8), timedelta64[ns](1)\n",
      "memory usage: 185.6+ KB\n"
     ]
    }
   ],
   "source": [
    "df_both.info()"
   ]
  },
  {
   "cell_type": "code",
   "execution_count": 57,
   "metadata": {
    "collapsed": true
   },
   "outputs": [],
   "source": [
    "#df_both.drop(['GEO.display-label'],inplace=True,axis=1)"
   ]
  },
  {
   "cell_type": "markdown",
   "metadata": {},
   "source": [
    "It worked.  Finally, I have some economic values.  I had to cast the econ GEOID column from np.int64 to unicode to match the potholes df.  Still some missing values."
   ]
  },
  {
   "cell_type": "code",
   "execution_count": 58,
   "metadata": {
    "collapsed": false
   },
   "outputs": [
    {
     "data": {
      "text/plain": [
       "float"
      ]
     },
     "execution_count": 58,
     "metadata": {},
     "output_type": "execute_result"
    }
   ],
   "source": [
    "type(float(df_both['HD01_VD01'][0]))"
   ]
  },
  {
   "cell_type": "code",
   "execution_count": 59,
   "metadata": {
    "collapsed": false
   },
   "outputs": [
    {
     "data": {
      "text/plain": [
       "307500.0"
      ]
     },
     "execution_count": 59,
     "metadata": {},
     "output_type": "execute_result"
    }
   ],
   "source": [
    "float(df_both['HD01_VD01'][0])"
   ]
  },
  {
   "cell_type": "code",
   "execution_count": 60,
   "metadata": {
    "collapsed": true
   },
   "outputs": [],
   "source": [
    "#d = d.applymap(lambda x: np.nan if isinstance(x, basestring) and x.isspace() else x)"
   ]
  },
  {
   "cell_type": "code",
   "execution_count": 61,
   "metadata": {
    "collapsed": false
   },
   "outputs": [],
   "source": [
    "df_both['HD01_VD01'] = df_both['HD01_VD01'].convert_objects(convert_numeric=True)"
   ]
  },
  {
   "cell_type": "code",
   "execution_count": 62,
   "metadata": {
    "collapsed": false
   },
   "outputs": [],
   "source": [
    "df_both['HD02_VD01'] = df_both['HD02_VD01'].convert_objects(convert_numeric=True)"
   ]
  },
  {
   "cell_type": "code",
   "execution_count": 63,
   "metadata": {
    "collapsed": false
   },
   "outputs": [
    {
     "name": "stdout",
     "output_type": "stream",
     "text": [
      "<class 'pandas.core.frame.DataFrame'>\n",
      "Int64Index: 1320 entries, 0 to 1319\n",
      "Data columns (total 17 columns):\n",
      "OBJECTID             1320 non-null int64\n",
      "WOKEY                1320 non-null int64\n",
      "LOCATION             1320 non-null object\n",
      "ADDRDESC             1320 non-null object\n",
      "INITDT_dt            1320 non-null datetime64[ns]\n",
      "FLDSTARTDT_dt        1320 non-null datetime64[ns]\n",
      "FLDENDDT_dt          1320 non-null datetime64[ns]\n",
      "DURATION             1320 non-null timedelta64[ns]\n",
      "DURATION_td          1320 non-null float64\n",
      "latitude             1320 non-null float64\n",
      "longitude            1320 non-null float64\n",
      "address              1320 non-null object\n",
      "GEOID                1320 non-null object\n",
      "GEO.id               1311 non-null object\n",
      "GEO.display-label    1311 non-null object\n",
      "HD01_VD01            1239 non-null float64\n",
      "HD02_VD01            1239 non-null float64\n",
      "dtypes: datetime64[ns](3), float64(5), int64(2), object(6), timedelta64[ns](1)\n",
      "memory usage: 185.6+ KB\n"
     ]
    }
   ],
   "source": [
    "df_both.info()"
   ]
  },
  {
   "cell_type": "code",
   "execution_count": 64,
   "metadata": {
    "collapsed": false
   },
   "outputs": [
    {
     "data": {
      "text/html": [
       "<div>\n",
       "<table border=\"1\" class=\"dataframe\">\n",
       "  <thead>\n",
       "    <tr style=\"text-align: right;\">\n",
       "      <th></th>\n",
       "      <th>OBJECTID</th>\n",
       "      <th>WOKEY</th>\n",
       "      <th>LOCATION</th>\n",
       "      <th>ADDRDESC</th>\n",
       "      <th>INITDT_dt</th>\n",
       "      <th>FLDSTARTDT_dt</th>\n",
       "      <th>FLDENDDT_dt</th>\n",
       "      <th>DURATION</th>\n",
       "      <th>DURATION_td</th>\n",
       "      <th>latitude</th>\n",
       "      <th>longitude</th>\n",
       "      <th>address</th>\n",
       "      <th>GEOID</th>\n",
       "      <th>GEO.id</th>\n",
       "      <th>GEO.display-label</th>\n",
       "      <th>HD01_VD01</th>\n",
       "      <th>HD02_VD01</th>\n",
       "    </tr>\n",
       "  </thead>\n",
       "  <tbody>\n",
       "    <tr>\n",
       "      <th>0</th>\n",
       "      <td>1</td>\n",
       "      <td>2456</td>\n",
       "      <td>Holden pl SW bt  SW Kenyon Holden             ...</td>\n",
       "      <td>HOLDEN PL SW BETWEEN SW HOLDEN ST AND SW KENYO...</td>\n",
       "      <td>2010-03-29 07:00:00</td>\n",
       "      <td>2010-04-06 07:00:00</td>\n",
       "      <td>2010-04-06 07:00:00</td>\n",
       "      <td>8 days</td>\n",
       "      <td>8</td>\n",
       "      <td>47.531858</td>\n",
       "      <td>-122.363186</td>\n",
       "      <td>SW Kenyon St, Seattle, WA, USA</td>\n",
       "      <td>530330114011</td>\n",
       "      <td>1500000US530330114011</td>\n",
       "      <td>Block Group 1, Census Tract 114.01, King Count...</td>\n",
       "      <td>307500</td>\n",
       "      <td>53269</td>\n",
       "    </tr>\n",
       "    <tr>\n",
       "      <th>1</th>\n",
       "      <td>2</td>\n",
       "      <td>2514</td>\n",
       "      <td>NE Pacific Street, one block west of Montlake ...</td>\n",
       "      <td>MONTLAKE BLVD NE AND NE PACIFIC ST            ...</td>\n",
       "      <td>2010-03-30 07:00:00</td>\n",
       "      <td>2010-04-01 07:00:00</td>\n",
       "      <td>2010-04-01 07:00:00</td>\n",
       "      <td>2 days</td>\n",
       "      <td>2</td>\n",
       "      <td>47.649014</td>\n",
       "      <td>-122.304655</td>\n",
       "      <td>Montlake Blvd NE &amp; NE Pacific St, Seattle, WA ...</td>\n",
       "      <td>530330053022</td>\n",
       "      <td>1500000US530330053022</td>\n",
       "      <td>Block Group 2, Census Tract 53.02, King County...</td>\n",
       "      <td>NaN</td>\n",
       "      <td>NaN</td>\n",
       "    </tr>\n",
       "    <tr>\n",
       "      <th>2</th>\n",
       "      <td>3</td>\n",
       "      <td>2649</td>\n",
       "      <td>32nd Ave NE and  NE 135th                     ...</td>\n",
       "      <td>NE 135TH ST BETWEEN 32ND AVE NE AND LAKE CITY ...</td>\n",
       "      <td>2010-03-31 07:00:00</td>\n",
       "      <td>2010-04-01 07:00:00</td>\n",
       "      <td>2010-04-01 07:00:00</td>\n",
       "      <td>1 days</td>\n",
       "      <td>1</td>\n",
       "      <td>47.707446</td>\n",
       "      <td>-122.301566</td>\n",
       "      <td>Lake City Way NE, Seattle, WA, USA</td>\n",
       "      <td>530330011001</td>\n",
       "      <td>1500000US530330011001</td>\n",
       "      <td>Block Group 1, Census Tract 11, King County, W...</td>\n",
       "      <td>416900</td>\n",
       "      <td>62441</td>\n",
       "    </tr>\n",
       "    <tr>\n",
       "      <th>3</th>\n",
       "      <td>4</td>\n",
       "      <td>1591</td>\n",
       "      <td>Charles st &amp; 6 Ave S pothole next to traffic l...</td>\n",
       "      <td>S CHARLES ST BETWEEN 6TH AVE S AND MAYNARD AVE...</td>\n",
       "      <td>2010-03-15 07:00:00</td>\n",
       "      <td>2010-03-16 07:00:00</td>\n",
       "      <td>2010-03-16 07:00:00</td>\n",
       "      <td>1 days</td>\n",
       "      <td>1</td>\n",
       "      <td>47.597085</td>\n",
       "      <td>-122.325065</td>\n",
       "      <td>Maynard Ave S, Seattle, WA, USA</td>\n",
       "      <td>530330091002</td>\n",
       "      <td>1500000US530330091002</td>\n",
       "      <td>Block Group 2, Census Tract 91, King County, W...</td>\n",
       "      <td>328900</td>\n",
       "      <td>145688</td>\n",
       "    </tr>\n",
       "    <tr>\n",
       "      <th>4</th>\n",
       "      <td>6</td>\n",
       "      <td>5642</td>\n",
       "      <td>52nd St. &amp; 18th Ave. NE                       ...</td>\n",
       "      <td>18TH AVE NE BETWEEN NE 52ND ST AND NE 55TH ST ...</td>\n",
       "      <td>2010-04-19 07:00:00</td>\n",
       "      <td>2010-04-22 07:00:00</td>\n",
       "      <td>2010-04-22 07:00:00</td>\n",
       "      <td>3 days</td>\n",
       "      <td>3</td>\n",
       "      <td>47.668522</td>\n",
       "      <td>-122.295630</td>\n",
       "      <td>NE 55th St, Seattle, WA 98105, USA</td>\n",
       "      <td>530330042005</td>\n",
       "      <td>1500000US530330042005</td>\n",
       "      <td>Block Group 5, Census Tract 42, King County, W...</td>\n",
       "      <td>637000</td>\n",
       "      <td>56463</td>\n",
       "    </tr>\n",
       "    <tr>\n",
       "      <th>5</th>\n",
       "      <td>7</td>\n",
       "      <td>7585</td>\n",
       "      <td>...</td>\n",
       "      <td>3RD AVE NW BETWEEN NW 125TH ST AND NW 127TH ST...</td>\n",
       "      <td>2010-05-03 07:00:00</td>\n",
       "      <td>2010-05-04 07:00:00</td>\n",
       "      <td>2010-05-04 07:00:00</td>\n",
       "      <td>1 days</td>\n",
       "      <td>1</td>\n",
       "      <td>47.721476</td>\n",
       "      <td>-122.364984</td>\n",
       "      <td>NW 127th St, Seattle, WA 98177, USA</td>\n",
       "      <td>530330005002</td>\n",
       "      <td>1500000US530330005002</td>\n",
       "      <td>Block Group 2, Census Tract 5, King County, Wa...</td>\n",
       "      <td>565200</td>\n",
       "      <td>53534</td>\n",
       "    </tr>\n",
       "    <tr>\n",
       "      <th>6</th>\n",
       "      <td>10</td>\n",
       "      <td>7211</td>\n",
       "      <td>Republican and Minor Ave N                    ...</td>\n",
       "      <td>MINOR AVE N AND REPUBLICAN ST                 ...</td>\n",
       "      <td>2010-04-29 07:00:00</td>\n",
       "      <td>2010-05-03 07:00:00</td>\n",
       "      <td>2010-05-03 07:00:00</td>\n",
       "      <td>4 days</td>\n",
       "      <td>4</td>\n",
       "      <td>47.623131</td>\n",
       "      <td>-122.333003</td>\n",
       "      <td>Republican St &amp; Minor Ave N, Seattle, WA 98109...</td>\n",
       "      <td>530330073001</td>\n",
       "      <td>1500000US530330073001</td>\n",
       "      <td>Block Group 1, Census Tract 73, King County, W...</td>\n",
       "      <td>NaN</td>\n",
       "      <td>NaN</td>\n",
       "    </tr>\n",
       "    <tr>\n",
       "      <th>7</th>\n",
       "      <td>11</td>\n",
       "      <td>3168</td>\n",
       "      <td>...</td>\n",
       "      <td>17TH AVE W BETWEEN W DRAVUS ST AND W BERTONA S...</td>\n",
       "      <td>2010-04-02 07:00:00</td>\n",
       "      <td>2010-04-06 07:00:00</td>\n",
       "      <td>2010-04-06 07:00:00</td>\n",
       "      <td>4 days</td>\n",
       "      <td>4</td>\n",
       "      <td>47.650311</td>\n",
       "      <td>-122.388604</td>\n",
       "      <td>W Bertona St, Seattle, WA, USA</td>\n",
       "      <td>530330058012</td>\n",
       "      <td>1500000US530330058012</td>\n",
       "      <td>Block Group 2, Census Tract 58.01, King County...</td>\n",
       "      <td>255200</td>\n",
       "      <td>50905</td>\n",
       "    </tr>\n",
       "    <tr>\n",
       "      <th>8</th>\n",
       "      <td>13</td>\n",
       "      <td>6967</td>\n",
       "      <td>B/T Pike and Pine B/t 211 and 215             ...</td>\n",
       "      <td>PIKE ST BETWEEN 2ND AVE AND 3RD AVE           ...</td>\n",
       "      <td>2010-04-28 07:00:00</td>\n",
       "      <td>2010-05-03 07:00:00</td>\n",
       "      <td>2010-05-03 07:00:00</td>\n",
       "      <td>5 days</td>\n",
       "      <td>5</td>\n",
       "      <td>47.610741</td>\n",
       "      <td>-122.338703</td>\n",
       "      <td>3rd Ave, Seattle, WA, USA</td>\n",
       "      <td>530330081002</td>\n",
       "      <td>1500000US530330081002</td>\n",
       "      <td>Block Group 2, Census Tract 81, King County, W...</td>\n",
       "      <td>384400</td>\n",
       "      <td>224247</td>\n",
       "    </tr>\n",
       "    <tr>\n",
       "      <th>9</th>\n",
       "      <td>14</td>\n",
       "      <td>7107</td>\n",
       "      <td>17th Ave NE Exit of University of Washington  ...</td>\n",
       "      <td>NE 45TH ST BETWEEN 15TH AVE NE AND 16TH AVE NE...</td>\n",
       "      <td>2010-04-29 07:00:00</td>\n",
       "      <td>2010-05-03 07:00:00</td>\n",
       "      <td>2010-05-03 07:00:00</td>\n",
       "      <td>4 days</td>\n",
       "      <td>4</td>\n",
       "      <td>47.675800</td>\n",
       "      <td>-122.310849</td>\n",
       "      <td>16th Ave NE, Seattle, WA, USA</td>\n",
       "      <td>530330026003</td>\n",
       "      <td>1500000US530330026003</td>\n",
       "      <td>Block Group 3, Census Tract 26, King County, W...</td>\n",
       "      <td>450600</td>\n",
       "      <td>59449</td>\n",
       "    </tr>\n",
       "    <tr>\n",
       "      <th>10</th>\n",
       "      <td>15</td>\n",
       "      <td>6242</td>\n",
       "      <td>51ST S &amp; S Ryan                               ...</td>\n",
       "      <td>HILLSIDE DR E AND LAKE WASHINGTON BLVD E      ...</td>\n",
       "      <td>2010-04-22 07:00:00</td>\n",
       "      <td>2010-04-22 07:00:00</td>\n",
       "      <td>2010-04-26 07:00:00</td>\n",
       "      <td>4 days</td>\n",
       "      <td>4</td>\n",
       "      <td>47.622480</td>\n",
       "      <td>-122.284664</td>\n",
       "      <td>Lake Washington Blvd E &amp; Hillside Dr E, Seattl...</td>\n",
       "      <td>530330078001</td>\n",
       "      <td>1500000US530330078001</td>\n",
       "      <td>Block Group 1, Census Tract 78, King County, W...</td>\n",
       "      <td>NaN</td>\n",
       "      <td>NaN</td>\n",
       "    </tr>\n",
       "    <tr>\n",
       "      <th>11</th>\n",
       "      <td>16</td>\n",
       "      <td>5239</td>\n",
       "      <td>3708 2nd Ave S                                ...</td>\n",
       "      <td>2ND AVE S BETWEEN S SPOKANE (S RD) ST AND S AN...</td>\n",
       "      <td>2010-04-15 07:00:00</td>\n",
       "      <td>2010-04-16 07:00:00</td>\n",
       "      <td>2010-04-16 07:00:00</td>\n",
       "      <td>1 days</td>\n",
       "      <td>1</td>\n",
       "      <td>47.568293</td>\n",
       "      <td>-122.301841</td>\n",
       "      <td>S Andover St, Seattle, WA, USA</td>\n",
       "      <td>530330100011</td>\n",
       "      <td>1500000US530330100011</td>\n",
       "      <td>Block Group 1, Census Tract 100.01, King Count...</td>\n",
       "      <td>358200</td>\n",
       "      <td>39966</td>\n",
       "    </tr>\n",
       "    <tr>\n",
       "      <th>12</th>\n",
       "      <td>17</td>\n",
       "      <td>4589</td>\n",
       "      <td>112 NE 92nd                                   ...</td>\n",
       "      <td>NE 92ND ST BETWEEN 1ST AVE NE AND 2ND AVE NE  ...</td>\n",
       "      <td>2010-04-12 07:00:00</td>\n",
       "      <td>2010-04-14 07:00:00</td>\n",
       "      <td>2010-04-14 07:00:00</td>\n",
       "      <td>2 days</td>\n",
       "      <td>2</td>\n",
       "      <td>47.708664</td>\n",
       "      <td>-122.327308</td>\n",
       "      <td>2nd Ave NE, Seattle, WA, USA</td>\n",
       "      <td>530330012004</td>\n",
       "      <td>1500000US530330012004</td>\n",
       "      <td>Block Group 4, Census Tract 12, King County, W...</td>\n",
       "      <td>172000</td>\n",
       "      <td>22250</td>\n",
       "    </tr>\n",
       "    <tr>\n",
       "      <th>13</th>\n",
       "      <td>19</td>\n",
       "      <td>4582</td>\n",
       "      <td>N 85th St between Stone &amp; Nesbitt Ave         ...</td>\n",
       "      <td>N 85TH ST BETWEEN NESBIT AVE N AND MIDVALE AVE...</td>\n",
       "      <td>2010-04-12 07:00:00</td>\n",
       "      <td>2010-04-15 07:00:00</td>\n",
       "      <td>2010-04-15 07:00:00</td>\n",
       "      <td>3 days</td>\n",
       "      <td>3</td>\n",
       "      <td>47.729026</td>\n",
       "      <td>-122.343668</td>\n",
       "      <td>Midvale Ave N, Seattle, WA, USA</td>\n",
       "      <td>530330003002</td>\n",
       "      <td>1500000US530330003002</td>\n",
       "      <td>Block Group 2, Census Tract 3, King County, Wa...</td>\n",
       "      <td>307800</td>\n",
       "      <td>27440</td>\n",
       "    </tr>\n",
       "    <tr>\n",
       "      <th>14</th>\n",
       "      <td>20</td>\n",
       "      <td>4298</td>\n",
       "      <td>N 105th &amp; Aurora N                            ...</td>\n",
       "      <td>N 105TH ST BETWEEN N NORTHGATE (E LEG) WAY AND...</td>\n",
       "      <td>2010-04-08 07:00:00</td>\n",
       "      <td>2010-04-12 07:00:00</td>\n",
       "      <td>2010-04-12 07:00:00</td>\n",
       "      <td>4 days</td>\n",
       "      <td>4</td>\n",
       "      <td>47.730551</td>\n",
       "      <td>-122.338184</td>\n",
       "      <td>Densmore Ave N, Seattle, WA, USA</td>\n",
       "      <td>530330003002</td>\n",
       "      <td>1500000US530330003002</td>\n",
       "      <td>Block Group 2, Census Tract 3, King County, Wa...</td>\n",
       "      <td>307800</td>\n",
       "      <td>27440</td>\n",
       "    </tr>\n",
       "  </tbody>\n",
       "</table>\n",
       "</div>"
      ],
      "text/plain": [
       "    OBJECTID  WOKEY                                           LOCATION  \\\n",
       "0          1   2456  Holden pl SW bt  SW Kenyon Holden             ...   \n",
       "1          2   2514  NE Pacific Street, one block west of Montlake ...   \n",
       "2          3   2649  32nd Ave NE and  NE 135th                     ...   \n",
       "3          4   1591  Charles st & 6 Ave S pothole next to traffic l...   \n",
       "4          6   5642  52nd St. & 18th Ave. NE                       ...   \n",
       "5          7   7585                                                ...   \n",
       "6         10   7211  Republican and Minor Ave N                    ...   \n",
       "7         11   3168                                                ...   \n",
       "8         13   6967  B/T Pike and Pine B/t 211 and 215             ...   \n",
       "9         14   7107  17th Ave NE Exit of University of Washington  ...   \n",
       "10        15   6242  51ST S & S Ryan                               ...   \n",
       "11        16   5239  3708 2nd Ave S                                ...   \n",
       "12        17   4589  112 NE 92nd                                   ...   \n",
       "13        19   4582  N 85th St between Stone & Nesbitt Ave         ...   \n",
       "14        20   4298  N 105th & Aurora N                            ...   \n",
       "\n",
       "                                             ADDRDESC           INITDT_dt  \\\n",
       "0   HOLDEN PL SW BETWEEN SW HOLDEN ST AND SW KENYO... 2010-03-29 07:00:00   \n",
       "1   MONTLAKE BLVD NE AND NE PACIFIC ST            ... 2010-03-30 07:00:00   \n",
       "2   NE 135TH ST BETWEEN 32ND AVE NE AND LAKE CITY ... 2010-03-31 07:00:00   \n",
       "3   S CHARLES ST BETWEEN 6TH AVE S AND MAYNARD AVE... 2010-03-15 07:00:00   \n",
       "4   18TH AVE NE BETWEEN NE 52ND ST AND NE 55TH ST ... 2010-04-19 07:00:00   \n",
       "5   3RD AVE NW BETWEEN NW 125TH ST AND NW 127TH ST... 2010-05-03 07:00:00   \n",
       "6   MINOR AVE N AND REPUBLICAN ST                 ... 2010-04-29 07:00:00   \n",
       "7   17TH AVE W BETWEEN W DRAVUS ST AND W BERTONA S... 2010-04-02 07:00:00   \n",
       "8   PIKE ST BETWEEN 2ND AVE AND 3RD AVE           ... 2010-04-28 07:00:00   \n",
       "9   NE 45TH ST BETWEEN 15TH AVE NE AND 16TH AVE NE... 2010-04-29 07:00:00   \n",
       "10  HILLSIDE DR E AND LAKE WASHINGTON BLVD E      ... 2010-04-22 07:00:00   \n",
       "11  2ND AVE S BETWEEN S SPOKANE (S RD) ST AND S AN... 2010-04-15 07:00:00   \n",
       "12  NE 92ND ST BETWEEN 1ST AVE NE AND 2ND AVE NE  ... 2010-04-12 07:00:00   \n",
       "13  N 85TH ST BETWEEN NESBIT AVE N AND MIDVALE AVE... 2010-04-12 07:00:00   \n",
       "14  N 105TH ST BETWEEN N NORTHGATE (E LEG) WAY AND... 2010-04-08 07:00:00   \n",
       "\n",
       "         FLDSTARTDT_dt         FLDENDDT_dt  DURATION  DURATION_td   latitude  \\\n",
       "0  2010-04-06 07:00:00 2010-04-06 07:00:00    8 days            8  47.531858   \n",
       "1  2010-04-01 07:00:00 2010-04-01 07:00:00    2 days            2  47.649014   \n",
       "2  2010-04-01 07:00:00 2010-04-01 07:00:00    1 days            1  47.707446   \n",
       "3  2010-03-16 07:00:00 2010-03-16 07:00:00    1 days            1  47.597085   \n",
       "4  2010-04-22 07:00:00 2010-04-22 07:00:00    3 days            3  47.668522   \n",
       "5  2010-05-04 07:00:00 2010-05-04 07:00:00    1 days            1  47.721476   \n",
       "6  2010-05-03 07:00:00 2010-05-03 07:00:00    4 days            4  47.623131   \n",
       "7  2010-04-06 07:00:00 2010-04-06 07:00:00    4 days            4  47.650311   \n",
       "8  2010-05-03 07:00:00 2010-05-03 07:00:00    5 days            5  47.610741   \n",
       "9  2010-05-03 07:00:00 2010-05-03 07:00:00    4 days            4  47.675800   \n",
       "10 2010-04-22 07:00:00 2010-04-26 07:00:00    4 days            4  47.622480   \n",
       "11 2010-04-16 07:00:00 2010-04-16 07:00:00    1 days            1  47.568293   \n",
       "12 2010-04-14 07:00:00 2010-04-14 07:00:00    2 days            2  47.708664   \n",
       "13 2010-04-15 07:00:00 2010-04-15 07:00:00    3 days            3  47.729026   \n",
       "14 2010-04-12 07:00:00 2010-04-12 07:00:00    4 days            4  47.730551   \n",
       "\n",
       "     longitude                                            address  \\\n",
       "0  -122.363186                     SW Kenyon St, Seattle, WA, USA   \n",
       "1  -122.304655  Montlake Blvd NE & NE Pacific St, Seattle, WA ...   \n",
       "2  -122.301566                 Lake City Way NE, Seattle, WA, USA   \n",
       "3  -122.325065                    Maynard Ave S, Seattle, WA, USA   \n",
       "4  -122.295630                 NE 55th St, Seattle, WA 98105, USA   \n",
       "5  -122.364984                NW 127th St, Seattle, WA 98177, USA   \n",
       "6  -122.333003  Republican St & Minor Ave N, Seattle, WA 98109...   \n",
       "7  -122.388604                     W Bertona St, Seattle, WA, USA   \n",
       "8  -122.338703                          3rd Ave, Seattle, WA, USA   \n",
       "9  -122.310849                      16th Ave NE, Seattle, WA, USA   \n",
       "10 -122.284664  Lake Washington Blvd E & Hillside Dr E, Seattl...   \n",
       "11 -122.301841                     S Andover St, Seattle, WA, USA   \n",
       "12 -122.327308                       2nd Ave NE, Seattle, WA, USA   \n",
       "13 -122.343668                    Midvale Ave N, Seattle, WA, USA   \n",
       "14 -122.338184                   Densmore Ave N, Seattle, WA, USA   \n",
       "\n",
       "           GEOID                 GEO.id  \\\n",
       "0   530330114011  1500000US530330114011   \n",
       "1   530330053022  1500000US530330053022   \n",
       "2   530330011001  1500000US530330011001   \n",
       "3   530330091002  1500000US530330091002   \n",
       "4   530330042005  1500000US530330042005   \n",
       "5   530330005002  1500000US530330005002   \n",
       "6   530330073001  1500000US530330073001   \n",
       "7   530330058012  1500000US530330058012   \n",
       "8   530330081002  1500000US530330081002   \n",
       "9   530330026003  1500000US530330026003   \n",
       "10  530330078001  1500000US530330078001   \n",
       "11  530330100011  1500000US530330100011   \n",
       "12  530330012004  1500000US530330012004   \n",
       "13  530330003002  1500000US530330003002   \n",
       "14  530330003002  1500000US530330003002   \n",
       "\n",
       "                                    GEO.display-label  HD01_VD01  HD02_VD01  \n",
       "0   Block Group 1, Census Tract 114.01, King Count...     307500      53269  \n",
       "1   Block Group 2, Census Tract 53.02, King County...        NaN        NaN  \n",
       "2   Block Group 1, Census Tract 11, King County, W...     416900      62441  \n",
       "3   Block Group 2, Census Tract 91, King County, W...     328900     145688  \n",
       "4   Block Group 5, Census Tract 42, King County, W...     637000      56463  \n",
       "5   Block Group 2, Census Tract 5, King County, Wa...     565200      53534  \n",
       "6   Block Group 1, Census Tract 73, King County, W...        NaN        NaN  \n",
       "7   Block Group 2, Census Tract 58.01, King County...     255200      50905  \n",
       "8   Block Group 2, Census Tract 81, King County, W...     384400     224247  \n",
       "9   Block Group 3, Census Tract 26, King County, W...     450600      59449  \n",
       "10  Block Group 1, Census Tract 78, King County, W...        NaN        NaN  \n",
       "11  Block Group 1, Census Tract 100.01, King Count...     358200      39966  \n",
       "12  Block Group 4, Census Tract 12, King County, W...     172000      22250  \n",
       "13  Block Group 2, Census Tract 3, King County, Wa...     307800      27440  \n",
       "14  Block Group 2, Census Tract 3, King County, Wa...     307800      27440  "
      ]
     },
     "execution_count": 64,
     "metadata": {},
     "output_type": "execute_result"
    }
   ],
   "source": [
    "df_both.head(15)"
   ]
  },
  {
   "cell_type": "code",
   "execution_count": 65,
   "metadata": {
    "collapsed": true
   },
   "outputs": [],
   "source": [
    "#view the NaNs"
   ]
  },
  {
   "cell_type": "code",
   "execution_count": 66,
   "metadata": {
    "collapsed": false
   },
   "outputs": [
    {
     "data": {
      "text/plain": [
       "(81, 17)"
      ]
     },
     "execution_count": 66,
     "metadata": {},
     "output_type": "execute_result"
    }
   ],
   "source": [
    "df_both[pd.isnull(df_both.HD01_VD01 )].shape"
   ]
  },
  {
   "cell_type": "markdown",
   "metadata": {},
   "source": [
    "Clearly, there are going to be NaNs for economic data."
   ]
  },
  {
   "cell_type": "code",
   "execution_count": 67,
   "metadata": {
    "collapsed": false
   },
   "outputs": [],
   "source": [
    "shp.close()"
   ]
  },
  {
   "cell_type": "code",
   "execution_count": null,
   "metadata": {
    "collapsed": true
   },
   "outputs": [],
   "source": []
  }
 ],
 "metadata": {
  "kernelspec": {
   "display_name": "Python 2",
   "language": "python",
   "name": "python2"
  },
  "language_info": {
   "codemirror_mode": {
    "name": "ipython",
    "version": 2
   },
   "file_extension": ".py",
   "mimetype": "text/x-python",
   "name": "python",
   "nbconvert_exporter": "python",
   "pygments_lexer": "ipython2",
   "version": "2.7.10"
  }
 },
 "nbformat": 4,
 "nbformat_minor": 0
}
