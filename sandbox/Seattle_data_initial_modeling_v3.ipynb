{
 "cells": [
  {
   "cell_type": "code",
   "execution_count": 1,
   "metadata": {
    "collapsed": true
   },
   "outputs": [],
   "source": [
    "import pandas as pd\n",
    "import numpy as np\n",
    "import matplotlib.pyplot as plt\n",
    "from sklearn.linear_model import LinearRegression\n",
    "from sklearn.cross_validation import KFold\n",
    "from sklearn.cross_validation import train_test_split\n",
    "from sklearn.cross_validation import cross_val_score\n",
    "import cPickle as pickle"
   ]
  },
  {
   "cell_type": "code",
   "execution_count": 2,
   "metadata": {
    "collapsed": true
   },
   "outputs": [],
   "source": [
    "%matplotlib inline"
   ]
  },
  {
   "cell_type": "code",
   "execution_count": 3,
   "metadata": {
    "collapsed": true
   },
   "outputs": [],
   "source": [
    "pd.set_option('display.max_columns', 500)"
   ]
  },
  {
   "cell_type": "markdown",
   "metadata": {},
   "source": [
    "#### Clean before model"
   ]
  },
  {
   "cell_type": "code",
   "execution_count": 4,
   "metadata": {
    "collapsed": true
   },
   "outputs": [],
   "source": [
    "df = pd.read_pickle('df_1to7499_features.pkl')"
   ]
  },
  {
   "cell_type": "code",
   "execution_count": 5,
   "metadata": {
    "collapsed": false
   },
   "outputs": [
    {
     "data": {
      "text/html": [
       "<div>\n",
       "<table border=\"1\" class=\"dataframe\">\n",
       "  <thead>\n",
       "    <tr style=\"text-align: right;\">\n",
       "      <th></th>\n",
       "      <th>OBJECTID</th>\n",
       "      <th>WOKEY</th>\n",
       "      <th>LOCATION</th>\n",
       "      <th>ADDRDESC</th>\n",
       "      <th>INITDT_dt</th>\n",
       "      <th>FLDSTARTDT_dt</th>\n",
       "      <th>FLDENDDT_dt</th>\n",
       "      <th>DURATION</th>\n",
       "      <th>DURATION_td</th>\n",
       "      <th>latitude</th>\n",
       "      <th>longitude</th>\n",
       "      <th>address</th>\n",
       "      <th>Seattle_dist</th>\n",
       "      <th>Space_Needle_dist</th>\n",
       "      <th>Pike_Place_dist</th>\n",
       "      <th>Convention_Center_dist</th>\n",
       "      <th>Woodland_Park_dist</th>\n",
       "      <th>Queene_Anne_dist</th>\n",
       "      <th>INIT_Quarter</th>\n",
       "      <th>days_end_FY</th>\n",
       "      <th>INIT_month</th>\n",
       "      <th>neighborhood_label</th>\n",
       "      <th>GEOID</th>\n",
       "      <th>GEO.id</th>\n",
       "      <th>GEO.display-label</th>\n",
       "      <th>Median_Value</th>\n",
       "      <th>Margin_of_Error</th>\n",
       "      <th>SND_FEACOD</th>\n",
       "      <th>ST_CODE</th>\n",
       "      <th>SEGMENT_TY</th>\n",
       "      <th>DIVIDED_CO</th>\n",
       "      <th>VEHICLE_US</th>\n",
       "    </tr>\n",
       "  </thead>\n",
       "  <tbody>\n",
       "    <tr>\n",
       "      <th>0</th>\n",
       "      <td>1</td>\n",
       "      <td>2456</td>\n",
       "      <td>Holden pl SW bt  SW Kenyon Holden             ...</td>\n",
       "      <td>HOLDEN PL SW BETWEEN SW HOLDEN ST AND SW KENYO...</td>\n",
       "      <td>2010-03-29 07:00:00</td>\n",
       "      <td>2010-04-06 07:00:00</td>\n",
       "      <td>2010-04-06 07:00:00</td>\n",
       "      <td>8 days</td>\n",
       "      <td>8</td>\n",
       "      <td>47.531858</td>\n",
       "      <td>-122.363186</td>\n",
       "      <td>SW Kenyon St, Seattle, WA, USA</td>\n",
       "      <td>5.338641</td>\n",
       "      <td>6.158729</td>\n",
       "      <td>5.467939</td>\n",
       "      <td>5.688451</td>\n",
       "      <td>9.453253</td>\n",
       "      <td>7.300465</td>\n",
       "      <td>1</td>\n",
       "      <td>3</td>\n",
       "      <td>3</td>\n",
       "      <td>93</td>\n",
       "      <td>530330114011</td>\n",
       "      <td>1500000US530330114011</td>\n",
       "      <td>Block Group 1, Census Tract 114.01, King Count...</td>\n",
       "      <td>307500</td>\n",
       "      <td>53269</td>\n",
       "      <td>1</td>\n",
       "      <td>0</td>\n",
       "      <td>1</td>\n",
       "      <td>1</td>\n",
       "      <td>1</td>\n",
       "    </tr>\n",
       "    <tr>\n",
       "      <th>1</th>\n",
       "      <td>2</td>\n",
       "      <td>2514</td>\n",
       "      <td>NE Pacific Street, one block west of Montlake ...</td>\n",
       "      <td>MONTLAKE BLVD NE AND NE PACIFIC ST            ...</td>\n",
       "      <td>2010-03-30 07:00:00</td>\n",
       "      <td>2010-04-01 07:00:00</td>\n",
       "      <td>2010-04-01 07:00:00</td>\n",
       "      <td>2 days</td>\n",
       "      <td>2</td>\n",
       "      <td>47.649014</td>\n",
       "      <td>-122.304655</td>\n",
       "      <td>Montlake Blvd NE &amp; NE Pacific St, Seattle, WA ...</td>\n",
       "      <td>3.222458</td>\n",
       "      <td>2.867154</td>\n",
       "      <td>3.231487</td>\n",
       "      <td>2.889531</td>\n",
       "      <td>2.654837</td>\n",
       "      <td>2.610214</td>\n",
       "      <td>1</td>\n",
       "      <td>3</td>\n",
       "      <td>3</td>\n",
       "      <td>42</td>\n",
       "      <td>530330053022</td>\n",
       "      <td>1500000US530330053022</td>\n",
       "      <td>Block Group 2, Census Tract 53.02, King County...</td>\n",
       "      <td>NaN</td>\n",
       "      <td>NaN</td>\n",
       "      <td>5</td>\n",
       "      <td>0</td>\n",
       "      <td>1</td>\n",
       "      <td>1</td>\n",
       "      <td>1</td>\n",
       "    </tr>\n",
       "  </tbody>\n",
       "</table>\n",
       "</div>"
      ],
      "text/plain": [
       "   OBJECTID  WOKEY                                           LOCATION  \\\n",
       "0         1   2456  Holden pl SW bt  SW Kenyon Holden             ...   \n",
       "1         2   2514  NE Pacific Street, one block west of Montlake ...   \n",
       "\n",
       "                                            ADDRDESC           INITDT_dt  \\\n",
       "0  HOLDEN PL SW BETWEEN SW HOLDEN ST AND SW KENYO... 2010-03-29 07:00:00   \n",
       "1  MONTLAKE BLVD NE AND NE PACIFIC ST            ... 2010-03-30 07:00:00   \n",
       "\n",
       "        FLDSTARTDT_dt         FLDENDDT_dt  DURATION  DURATION_td   latitude  \\\n",
       "0 2010-04-06 07:00:00 2010-04-06 07:00:00    8 days            8  47.531858   \n",
       "1 2010-04-01 07:00:00 2010-04-01 07:00:00    2 days            2  47.649014   \n",
       "\n",
       "    longitude                                            address  \\\n",
       "0 -122.363186                     SW Kenyon St, Seattle, WA, USA   \n",
       "1 -122.304655  Montlake Blvd NE & NE Pacific St, Seattle, WA ...   \n",
       "\n",
       "   Seattle_dist  Space_Needle_dist  Pike_Place_dist  Convention_Center_dist  \\\n",
       "0      5.338641           6.158729         5.467939                5.688451   \n",
       "1      3.222458           2.867154         3.231487                2.889531   \n",
       "\n",
       "   Woodland_Park_dist  Queene_Anne_dist  INIT_Quarter  days_end_FY  \\\n",
       "0            9.453253          7.300465             1            3   \n",
       "1            2.654837          2.610214             1            3   \n",
       "\n",
       "   INIT_month neighborhood_label         GEOID                 GEO.id  \\\n",
       "0           3                 93  530330114011  1500000US530330114011   \n",
       "1           3                 42  530330053022  1500000US530330053022   \n",
       "\n",
       "                                   GEO.display-label  Median_Value  \\\n",
       "0  Block Group 1, Census Tract 114.01, King Count...        307500   \n",
       "1  Block Group 2, Census Tract 53.02, King County...           NaN   \n",
       "\n",
       "   Margin_of_Error  SND_FEACOD  ST_CODE  SEGMENT_TY  DIVIDED_CO  VEHICLE_US  \n",
       "0            53269           1        0           1           1           1  \n",
       "1              NaN           5        0           1           1           1  "
      ]
     },
     "execution_count": 5,
     "metadata": {},
     "output_type": "execute_result"
    }
   ],
   "source": [
    "df.head(2)"
   ]
  },
  {
   "cell_type": "code",
   "execution_count": 6,
   "metadata": {
    "collapsed": false
   },
   "outputs": [
    {
     "data": {
      "text/html": [
       "<div>\n",
       "<table border=\"1\" class=\"dataframe\">\n",
       "  <thead>\n",
       "    <tr style=\"text-align: right;\">\n",
       "      <th></th>\n",
       "      <th>OBJECTID</th>\n",
       "      <th>WOKEY</th>\n",
       "      <th>LOCATION</th>\n",
       "      <th>ADDRDESC</th>\n",
       "      <th>INITDT_dt</th>\n",
       "      <th>FLDSTARTDT_dt</th>\n",
       "      <th>FLDENDDT_dt</th>\n",
       "      <th>DURATION</th>\n",
       "      <th>DURATION_td</th>\n",
       "      <th>latitude</th>\n",
       "      <th>longitude</th>\n",
       "      <th>address</th>\n",
       "      <th>Seattle_dist</th>\n",
       "      <th>Space_Needle_dist</th>\n",
       "      <th>Pike_Place_dist</th>\n",
       "      <th>Convention_Center_dist</th>\n",
       "      <th>Woodland_Park_dist</th>\n",
       "      <th>Queene_Anne_dist</th>\n",
       "      <th>INIT_Quarter</th>\n",
       "      <th>days_end_FY</th>\n",
       "      <th>INIT_month</th>\n",
       "      <th>neighborhood_label</th>\n",
       "      <th>GEOID</th>\n",
       "      <th>GEO.id</th>\n",
       "      <th>GEO.display-label</th>\n",
       "      <th>Median_Value</th>\n",
       "      <th>Margin_of_Error</th>\n",
       "      <th>SND_FEACOD</th>\n",
       "      <th>ST_CODE</th>\n",
       "      <th>SEGMENT_TY</th>\n",
       "      <th>DIVIDED_CO</th>\n",
       "      <th>VEHICLE_US</th>\n",
       "    </tr>\n",
       "  </thead>\n",
       "  <tbody>\n",
       "    <tr>\n",
       "      <th>4755</th>\n",
       "      <td>7499</td>\n",
       "      <td>225583</td>\n",
       "      <td>NE 130TH ST BETWEEN LAKE CITY WAY NE AND 33RD ...</td>\n",
       "      <td>NE 130TH ST BETWEEN LAKE CITY WAY NE AND 33RD ...</td>\n",
       "      <td>2013-10-01 07:00:00</td>\n",
       "      <td>2013-10-01 07:00:00</td>\n",
       "      <td>2013-10-02 07:00:00</td>\n",
       "      <td>1 days</td>\n",
       "      <td>1</td>\n",
       "      <td>47.744614</td>\n",
       "      <td>-122.294066</td>\n",
       "      <td>33rd Ave NE, Seattle, WA, USA</td>\n",
       "      <td>9.724967</td>\n",
       "      <td>8.952767</td>\n",
       "      <td>9.586114</td>\n",
       "      <td>9.369915</td>\n",
       "      <td>5.944939</td>\n",
       "      <td>7.978499</td>\n",
       "      <td>4</td>\n",
       "      <td>-4</td>\n",
       "      <td>10</td>\n",
       "      <td></td>\n",
       "      <td>530330214002</td>\n",
       "      <td>1500000US530330214002</td>\n",
       "      <td>Block Group 2, Census Tract 214, King County, ...</td>\n",
       "      <td>428400</td>\n",
       "      <td>54553</td>\n",
       "      <td>1</td>\n",
       "      <td>0</td>\n",
       "      <td>1</td>\n",
       "      <td>1</td>\n",
       "      <td>1</td>\n",
       "    </tr>\n",
       "    <tr>\n",
       "      <th>4756</th>\n",
       "      <td>7500</td>\n",
       "      <td>210335</td>\n",
       "      <td>EB bike lane between 14th and 16th Ave        ...</td>\n",
       "      <td>E UNION ST BETWEEN 15TH AVE AND 16TH AVE      ...</td>\n",
       "      <td>2013-07-10 07:00:00</td>\n",
       "      <td>2013-07-12 07:00:00</td>\n",
       "      <td>2013-07-12 07:00:00</td>\n",
       "      <td>2 days</td>\n",
       "      <td>2</td>\n",
       "      <td>47.610378</td>\n",
       "      <td>-122.311513</td>\n",
       "      <td>16th Ave, Seattle, WA 98122, USA</td>\n",
       "      <td>1.002700</td>\n",
       "      <td>1.897800</td>\n",
       "      <td>1.434032</td>\n",
       "      <td>0.944730</td>\n",
       "      <td>4.473846</td>\n",
       "      <td>2.862636</td>\n",
       "      <td>3</td>\n",
       "      <td>-1</td>\n",
       "      <td>7</td>\n",
       "      <td>55</td>\n",
       "      <td>530330079003</td>\n",
       "      <td>1500000US530330079003</td>\n",
       "      <td>Block Group 3, Census Tract 79, King County, W...</td>\n",
       "      <td>245000</td>\n",
       "      <td>35437</td>\n",
       "      <td>NaN</td>\n",
       "      <td>NaN</td>\n",
       "      <td>NaN</td>\n",
       "      <td>NaN</td>\n",
       "      <td>NaN</td>\n",
       "    </tr>\n",
       "  </tbody>\n",
       "</table>\n",
       "</div>"
      ],
      "text/plain": [
       "      OBJECTID   WOKEY                                           LOCATION  \\\n",
       "4755      7499  225583  NE 130TH ST BETWEEN LAKE CITY WAY NE AND 33RD ...   \n",
       "4756      7500  210335  EB bike lane between 14th and 16th Ave        ...   \n",
       "\n",
       "                                               ADDRDESC           INITDT_dt  \\\n",
       "4755  NE 130TH ST BETWEEN LAKE CITY WAY NE AND 33RD ... 2013-10-01 07:00:00   \n",
       "4756  E UNION ST BETWEEN 15TH AVE AND 16TH AVE      ... 2013-07-10 07:00:00   \n",
       "\n",
       "           FLDSTARTDT_dt         FLDENDDT_dt  DURATION  DURATION_td  \\\n",
       "4755 2013-10-01 07:00:00 2013-10-02 07:00:00    1 days            1   \n",
       "4756 2013-07-12 07:00:00 2013-07-12 07:00:00    2 days            2   \n",
       "\n",
       "       latitude   longitude                           address  Seattle_dist  \\\n",
       "4755  47.744614 -122.294066     33rd Ave NE, Seattle, WA, USA      9.724967   \n",
       "4756  47.610378 -122.311513  16th Ave, Seattle, WA 98122, USA      1.002700   \n",
       "\n",
       "      Space_Needle_dist  Pike_Place_dist  Convention_Center_dist  \\\n",
       "4755           8.952767         9.586114                9.369915   \n",
       "4756           1.897800         1.434032                0.944730   \n",
       "\n",
       "      Woodland_Park_dist  Queene_Anne_dist  INIT_Quarter  days_end_FY  \\\n",
       "4755            5.944939          7.978499             4           -4   \n",
       "4756            4.473846          2.862636             3           -1   \n",
       "\n",
       "      INIT_month neighborhood_label         GEOID                 GEO.id  \\\n",
       "4755          10                     530330214002  1500000US530330214002   \n",
       "4756           7                 55  530330079003  1500000US530330079003   \n",
       "\n",
       "                                      GEO.display-label  Median_Value  \\\n",
       "4755  Block Group 2, Census Tract 214, King County, ...        428400   \n",
       "4756  Block Group 3, Census Tract 79, King County, W...        245000   \n",
       "\n",
       "      Margin_of_Error  SND_FEACOD  ST_CODE  SEGMENT_TY  DIVIDED_CO  VEHICLE_US  \n",
       "4755            54553           1        0           1           1           1  \n",
       "4756            35437         NaN      NaN         NaN         NaN         NaN  "
      ]
     },
     "execution_count": 6,
     "metadata": {},
     "output_type": "execute_result"
    }
   ],
   "source": [
    "df.tail(2)"
   ]
  },
  {
   "cell_type": "code",
   "execution_count": 9,
   "metadata": {
    "collapsed": false
   },
   "outputs": [
    {
     "name": "stdout",
     "output_type": "stream",
     "text": [
      "<class 'pandas.core.frame.DataFrame'>\n",
      "Int64Index: 4757 entries, 0 to 4756\n",
      "Data columns (total 32 columns):\n",
      "OBJECTID                  4757 non-null int64\n",
      "WOKEY                     4757 non-null int64\n",
      "LOCATION                  4757 non-null object\n",
      "ADDRDESC                  4757 non-null object\n",
      "INITDT_dt                 4757 non-null datetime64[ns]\n",
      "FLDSTARTDT_dt             4757 non-null datetime64[ns]\n",
      "FLDENDDT_dt               4757 non-null datetime64[ns]\n",
      "DURATION                  4757 non-null timedelta64[ns]\n",
      "DURATION_td               4757 non-null float64\n",
      "latitude                  4757 non-null float64\n",
      "longitude                 4757 non-null float64\n",
      "address                   4757 non-null object\n",
      "Seattle_dist              4757 non-null float64\n",
      "Space_Needle_dist         4757 non-null float64\n",
      "Pike_Place_dist           4757 non-null float64\n",
      "Convention_Center_dist    4757 non-null float64\n",
      "Woodland_Park_dist        4757 non-null float64\n",
      "Queene_Anne_dist          4757 non-null float64\n",
      "INIT_Quarter              4757 non-null int64\n",
      "days_end_FY               4757 non-null int64\n",
      "INIT_month                4757 non-null int64\n",
      "neighborhood_label        4757 non-null object\n",
      "GEOID                     4757 non-null object\n",
      "GEO.id                    4718 non-null object\n",
      "GEO.display-label         4718 non-null object\n",
      "Median_Value              4450 non-null float64\n",
      "Margin_of_Error           4450 non-null float64\n",
      "SND_FEACOD                3038 non-null float64\n",
      "ST_CODE                   3038 non-null float64\n",
      "SEGMENT_TY                3038 non-null float64\n",
      "DIVIDED_CO                3038 non-null float64\n",
      "VEHICLE_US                3038 non-null float64\n",
      "dtypes: datetime64[ns](3), float64(16), int64(5), object(7), timedelta64[ns](1)\n",
      "memory usage: 1.2+ MB\n"
     ]
    }
   ],
   "source": [
    "df.info()"
   ]
  },
  {
   "cell_type": "markdown",
   "metadata": {},
   "source": [
    "####Remember:  No. of potholes could be more predictive of repair time, so I DO need to include this as a predictor."
   ]
  },
  {
   "cell_type": "code",
   "execution_count": 10,
   "metadata": {
    "collapsed": false
   },
   "outputs": [
    {
     "data": {
      "text/plain": [
       "(172, 32)"
      ]
     },
     "execution_count": 10,
     "metadata": {},
     "output_type": "execute_result"
    }
   ],
   "source": [
    "df[df['neighborhood_label'] == ''].shape"
   ]
  },
  {
   "cell_type": "code",
   "execution_count": 11,
   "metadata": {
    "collapsed": true
   },
   "outputs": [],
   "source": [
    "df = df[df['neighborhood_label'] != '']"
   ]
  },
  {
   "cell_type": "code",
   "execution_count": 12,
   "metadata": {
    "collapsed": false
   },
   "outputs": [
    {
     "data": {
      "text/plain": [
       "False"
      ]
     },
     "execution_count": 12,
     "metadata": {},
     "output_type": "execute_result"
    }
   ],
   "source": [
    "np.any(df.neighborhood_label == '')"
   ]
  },
  {
   "cell_type": "code",
   "execution_count": 13,
   "metadata": {
    "collapsed": false
   },
   "outputs": [
    {
     "data": {
      "text/plain": [
       "4"
      ]
     },
     "execution_count": 13,
     "metadata": {},
     "output_type": "execute_result"
    }
   ],
   "source": [
    "sum(df.DURATION_td == 0.0)"
   ]
  },
  {
   "cell_type": "code",
   "execution_count": 14,
   "metadata": {
    "collapsed": false
   },
   "outputs": [
    {
     "data": {
      "text/html": [
       "<div>\n",
       "<table border=\"1\" class=\"dataframe\">\n",
       "  <thead>\n",
       "    <tr style=\"text-align: right;\">\n",
       "      <th></th>\n",
       "      <th>OBJECTID</th>\n",
       "      <th>WOKEY</th>\n",
       "      <th>LOCATION</th>\n",
       "      <th>ADDRDESC</th>\n",
       "      <th>INITDT_dt</th>\n",
       "      <th>FLDSTARTDT_dt</th>\n",
       "      <th>FLDENDDT_dt</th>\n",
       "      <th>DURATION</th>\n",
       "      <th>DURATION_td</th>\n",
       "      <th>latitude</th>\n",
       "      <th>longitude</th>\n",
       "      <th>address</th>\n",
       "      <th>Seattle_dist</th>\n",
       "      <th>Space_Needle_dist</th>\n",
       "      <th>Pike_Place_dist</th>\n",
       "      <th>Convention_Center_dist</th>\n",
       "      <th>Woodland_Park_dist</th>\n",
       "      <th>Queene_Anne_dist</th>\n",
       "      <th>INIT_Quarter</th>\n",
       "      <th>days_end_FY</th>\n",
       "      <th>INIT_month</th>\n",
       "      <th>neighborhood_label</th>\n",
       "      <th>GEOID</th>\n",
       "      <th>GEO.id</th>\n",
       "      <th>GEO.display-label</th>\n",
       "      <th>Median_Value</th>\n",
       "      <th>Margin_of_Error</th>\n",
       "      <th>SND_FEACOD</th>\n",
       "      <th>ST_CODE</th>\n",
       "      <th>SEGMENT_TY</th>\n",
       "      <th>DIVIDED_CO</th>\n",
       "      <th>VEHICLE_US</th>\n",
       "    </tr>\n",
       "  </thead>\n",
       "  <tbody>\n",
       "    <tr>\n",
       "      <th>295</th>\n",
       "      <td>448</td>\n",
       "      <td>338004</td>\n",
       "      <td>Shallow Pothole                               ...</td>\n",
       "      <td>15TH AVE E BETWEEN E GALER ST AND E GARFIELD S...</td>\n",
       "      <td>2015-03-08 08:00:00</td>\n",
       "      <td>2015-03-09 07:00:00</td>\n",
       "      <td>2015-03-09 07:00:00</td>\n",
       "      <td>23:00:00</td>\n",
       "      <td>0</td>\n",
       "      <td>47.632692</td>\n",
       "      <td>-122.299830</td>\n",
       "      <td>E Garfield St, Seattle, WA, USA</td>\n",
       "      <td>2.369669</td>\n",
       "      <td>2.458049</td>\n",
       "      <td>2.536548</td>\n",
       "      <td>2.092643</td>\n",
       "      <td>3.527669</td>\n",
       "      <td>2.731130</td>\n",
       "      <td>1</td>\n",
       "      <td>3</td>\n",
       "      <td>3</td>\n",
       "      <td>98</td>\n",
       "      <td>530330062001</td>\n",
       "      <td>1500000US530330062001</td>\n",
       "      <td>Block Group 1, Census Tract 62, King County, W...</td>\n",
       "      <td>721400</td>\n",
       "      <td>61113</td>\n",
       "      <td>1</td>\n",
       "      <td>0</td>\n",
       "      <td>1</td>\n",
       "      <td>1</td>\n",
       "      <td>1</td>\n",
       "    </tr>\n",
       "    <tr>\n",
       "      <th>2718</th>\n",
       "      <td>4256</td>\n",
       "      <td>190832</td>\n",
       "      <td>698 W MERCER PL, SEATTLE, WA 98119            ...</td>\n",
       "      <td>W MERCER PL BETWEEN 6TH AVE W AND ELLIOTT AVE ...</td>\n",
       "      <td>2013-03-10 08:00:00</td>\n",
       "      <td>2013-03-11 07:00:00</td>\n",
       "      <td>2013-03-11 07:00:00</td>\n",
       "      <td>23:00:00</td>\n",
       "      <td>0</td>\n",
       "      <td>47.625639</td>\n",
       "      <td>-122.367027</td>\n",
       "      <td>Elliott Ave W, Seattle, WA 98119, USA</td>\n",
       "      <td>2.113811</td>\n",
       "      <td>0.901674</td>\n",
       "      <td>1.598502</td>\n",
       "      <td>1.922310</td>\n",
       "      <td>3.028934</td>\n",
       "      <td>0.922038</td>\n",
       "      <td>1</td>\n",
       "      <td>3</td>\n",
       "      <td>3</td>\n",
       "      <td>45</td>\n",
       "      <td>530330071001</td>\n",
       "      <td>1500000US530330071001</td>\n",
       "      <td>Block Group 1, Census Tract 71, King County, W...</td>\n",
       "      <td>367000</td>\n",
       "      <td>57656</td>\n",
       "      <td>1</td>\n",
       "      <td>0</td>\n",
       "      <td>1</td>\n",
       "      <td>1</td>\n",
       "      <td>1</td>\n",
       "    </tr>\n",
       "    <tr>\n",
       "      <th>4367</th>\n",
       "      <td>6922</td>\n",
       "      <td>338017</td>\n",
       "      <td>Rainier Ave S south of Thistle SB on street ne...</td>\n",
       "      <td>RAINIER AVE S BETWEEN S THISTLE ST AND S CLOVE...</td>\n",
       "      <td>2015-03-08 08:00:00</td>\n",
       "      <td>2015-03-09 07:00:00</td>\n",
       "      <td>2015-03-09 07:00:00</td>\n",
       "      <td>23:00:00</td>\n",
       "      <td>0</td>\n",
       "      <td>47.526137</td>\n",
       "      <td>-122.289320</td>\n",
       "      <td>S Cloverdale St, Seattle, WA, USA</td>\n",
       "      <td>5.881881</td>\n",
       "      <td>7.096565</td>\n",
       "      <td>6.281264</td>\n",
       "      <td>6.213722</td>\n",
       "      <td>10.286892</td>\n",
       "      <td>8.332554</td>\n",
       "      <td>1</td>\n",
       "      <td>3</td>\n",
       "      <td>3</td>\n",
       "      <td>81</td>\n",
       "      <td>530330117002</td>\n",
       "      <td>1500000US530330117002</td>\n",
       "      <td>Block Group 2, Census Tract 117, King County, ...</td>\n",
       "      <td>296300</td>\n",
       "      <td>34980</td>\n",
       "      <td>NaN</td>\n",
       "      <td>NaN</td>\n",
       "      <td>NaN</td>\n",
       "      <td>NaN</td>\n",
       "      <td>NaN</td>\n",
       "    </tr>\n",
       "    <tr>\n",
       "      <th>4375</th>\n",
       "      <td>6933</td>\n",
       "      <td>338001</td>\n",
       "      <td>Pothole in front of group health between 15th ...</td>\n",
       "      <td>E THOMAS ST BETWEEN 15TH (S LEG) AVE E AND 16T...</td>\n",
       "      <td>2015-03-08 08:00:00</td>\n",
       "      <td>2015-03-09 07:00:00</td>\n",
       "      <td>2015-03-09 07:00:00</td>\n",
       "      <td>23:00:00</td>\n",
       "      <td>0</td>\n",
       "      <td>47.630397</td>\n",
       "      <td>-122.311242</td>\n",
       "      <td>16th Ave E, Seattle, WA 98112, USA</td>\n",
       "      <td>1.933600</td>\n",
       "      <td>1.903295</td>\n",
       "      <td>2.032375</td>\n",
       "      <td>1.623486</td>\n",
       "      <td>3.295791</td>\n",
       "      <td>2.232374</td>\n",
       "      <td>1</td>\n",
       "      <td>3</td>\n",
       "      <td>3</td>\n",
       "      <td>101</td>\n",
       "      <td>530330064002</td>\n",
       "      <td>1500000US530330064002</td>\n",
       "      <td>Block Group 2, Census Tract 64, King County, W...</td>\n",
       "      <td>NaN</td>\n",
       "      <td>NaN</td>\n",
       "      <td>NaN</td>\n",
       "      <td>NaN</td>\n",
       "      <td>NaN</td>\n",
       "      <td>NaN</td>\n",
       "      <td>NaN</td>\n",
       "    </tr>\n",
       "  </tbody>\n",
       "</table>\n",
       "</div>"
      ],
      "text/plain": [
       "      OBJECTID   WOKEY                                           LOCATION  \\\n",
       "295        448  338004  Shallow Pothole                               ...   \n",
       "2718      4256  190832  698 W MERCER PL, SEATTLE, WA 98119            ...   \n",
       "4367      6922  338017  Rainier Ave S south of Thistle SB on street ne...   \n",
       "4375      6933  338001  Pothole in front of group health between 15th ...   \n",
       "\n",
       "                                               ADDRDESC           INITDT_dt  \\\n",
       "295   15TH AVE E BETWEEN E GALER ST AND E GARFIELD S... 2015-03-08 08:00:00   \n",
       "2718  W MERCER PL BETWEEN 6TH AVE W AND ELLIOTT AVE ... 2013-03-10 08:00:00   \n",
       "4367  RAINIER AVE S BETWEEN S THISTLE ST AND S CLOVE... 2015-03-08 08:00:00   \n",
       "4375  E THOMAS ST BETWEEN 15TH (S LEG) AVE E AND 16T... 2015-03-08 08:00:00   \n",
       "\n",
       "           FLDSTARTDT_dt         FLDENDDT_dt  DURATION  DURATION_td  \\\n",
       "295  2015-03-09 07:00:00 2015-03-09 07:00:00  23:00:00            0   \n",
       "2718 2013-03-11 07:00:00 2013-03-11 07:00:00  23:00:00            0   \n",
       "4367 2015-03-09 07:00:00 2015-03-09 07:00:00  23:00:00            0   \n",
       "4375 2015-03-09 07:00:00 2015-03-09 07:00:00  23:00:00            0   \n",
       "\n",
       "       latitude   longitude                                address  \\\n",
       "295   47.632692 -122.299830        E Garfield St, Seattle, WA, USA   \n",
       "2718  47.625639 -122.367027  Elliott Ave W, Seattle, WA 98119, USA   \n",
       "4367  47.526137 -122.289320      S Cloverdale St, Seattle, WA, USA   \n",
       "4375  47.630397 -122.311242     16th Ave E, Seattle, WA 98112, USA   \n",
       "\n",
       "      Seattle_dist  Space_Needle_dist  Pike_Place_dist  \\\n",
       "295       2.369669           2.458049         2.536548   \n",
       "2718      2.113811           0.901674         1.598502   \n",
       "4367      5.881881           7.096565         6.281264   \n",
       "4375      1.933600           1.903295         2.032375   \n",
       "\n",
       "      Convention_Center_dist  Woodland_Park_dist  Queene_Anne_dist  \\\n",
       "295                 2.092643            3.527669          2.731130   \n",
       "2718                1.922310            3.028934          0.922038   \n",
       "4367                6.213722           10.286892          8.332554   \n",
       "4375                1.623486            3.295791          2.232374   \n",
       "\n",
       "      INIT_Quarter  days_end_FY  INIT_month neighborhood_label         GEOID  \\\n",
       "295              1            3           3                 98  530330062001   \n",
       "2718             1            3           3                 45  530330071001   \n",
       "4367             1            3           3                 81  530330117002   \n",
       "4375             1            3           3                101  530330064002   \n",
       "\n",
       "                     GEO.id  \\\n",
       "295   1500000US530330062001   \n",
       "2718  1500000US530330071001   \n",
       "4367  1500000US530330117002   \n",
       "4375  1500000US530330064002   \n",
       "\n",
       "                                      GEO.display-label  Median_Value  \\\n",
       "295   Block Group 1, Census Tract 62, King County, W...        721400   \n",
       "2718  Block Group 1, Census Tract 71, King County, W...        367000   \n",
       "4367  Block Group 2, Census Tract 117, King County, ...        296300   \n",
       "4375  Block Group 2, Census Tract 64, King County, W...           NaN   \n",
       "\n",
       "      Margin_of_Error  SND_FEACOD  ST_CODE  SEGMENT_TY  DIVIDED_CO  VEHICLE_US  \n",
       "295             61113           1        0           1           1           1  \n",
       "2718            57656           1        0           1           1           1  \n",
       "4367            34980         NaN      NaN         NaN         NaN         NaN  \n",
       "4375              NaN         NaN      NaN         NaN         NaN         NaN  "
      ]
     },
     "execution_count": 14,
     "metadata": {},
     "output_type": "execute_result"
    }
   ],
   "source": [
    "df[df.DURATION_td == 0.0]"
   ]
  },
  {
   "cell_type": "code",
   "execution_count": 15,
   "metadata": {
    "collapsed": false
   },
   "outputs": [
    {
     "data": {
      "text/plain": [
       "(4581, 32)"
      ]
     },
     "execution_count": 15,
     "metadata": {},
     "output_type": "execute_result"
    }
   ],
   "source": [
    "df[df.DURATION_td != 0.0].shape"
   ]
  },
  {
   "cell_type": "code",
   "execution_count": 16,
   "metadata": {
    "collapsed": false
   },
   "outputs": [
    {
     "data": {
      "text/plain": [
       "(4585, 32)"
      ]
     },
     "execution_count": 16,
     "metadata": {},
     "output_type": "execute_result"
    }
   ],
   "source": [
    "df.shape"
   ]
  },
  {
   "cell_type": "code",
   "execution_count": 17,
   "metadata": {
    "collapsed": true
   },
   "outputs": [],
   "source": [
    "df = df[df.DURATION_td != 0.0]"
   ]
  },
  {
   "cell_type": "code",
   "execution_count": 19,
   "metadata": {
    "collapsed": false
   },
   "outputs": [
    {
     "data": {
      "text/plain": [
       "(4581, 32)"
      ]
     },
     "execution_count": 19,
     "metadata": {},
     "output_type": "execute_result"
    }
   ],
   "source": [
    "df.shape"
   ]
  },
  {
   "cell_type": "code",
   "execution_count": 20,
   "metadata": {
    "collapsed": false
   },
   "outputs": [
    {
     "data": {
      "text/plain": [
       "(285, 32)"
      ]
     },
     "execution_count": 20,
     "metadata": {},
     "output_type": "execute_result"
    }
   ],
   "source": [
    "df[pd.isnull(df.Median_Value)].shape"
   ]
  },
  {
   "cell_type": "code",
   "execution_count": 22,
   "metadata": {
    "collapsed": false
   },
   "outputs": [
    {
     "data": {
      "text/plain": [
       "(285, 32)"
      ]
     },
     "execution_count": 22,
     "metadata": {},
     "output_type": "execute_result"
    }
   ],
   "source": [
    "df[pd.isnull(df.Margin_of_Error)].shape"
   ]
  },
  {
   "cell_type": "code",
   "execution_count": 23,
   "metadata": {
    "collapsed": false
   },
   "outputs": [
    {
     "data": {
      "text/plain": [
       "0.06221349050425671"
      ]
     },
     "execution_count": 23,
     "metadata": {},
     "output_type": "execute_result"
    }
   ],
   "source": [
    "df[pd.isnull(df.Margin_of_Error)].shape[0]/float(df.shape[0])"
   ]
  },
  {
   "cell_type": "markdown",
   "metadata": {},
   "source": [
    "####6% of Median Value are NaN.  285/4581.  Ignore and remove for now."
   ]
  },
  {
   "cell_type": "code",
   "execution_count": 24,
   "metadata": {
    "collapsed": true
   },
   "outputs": [],
   "source": [
    "df = df[np.isfinite(df['Median_Value'])]"
   ]
  },
  {
   "cell_type": "code",
   "execution_count": 25,
   "metadata": {
    "collapsed": false
   },
   "outputs": [
    {
     "data": {
      "text/plain": [
       "(4296, 32)"
      ]
     },
     "execution_count": 25,
     "metadata": {},
     "output_type": "execute_result"
    }
   ],
   "source": [
    "df.shape"
   ]
  },
  {
   "cell_type": "markdown",
   "metadata": {},
   "source": [
    "####Now it's time to deal with the street features.  I also want to use this notebook to develop some EDA of the duration variable for tomorrow."
   ]
  },
  {
   "cell_type": "code",
   "execution_count": null,
   "metadata": {
    "collapsed": true
   },
   "outputs": [],
   "source": []
  }
 ],
 "metadata": {
  "kernelspec": {
   "display_name": "Python 2",
   "language": "python",
   "name": "python2"
  },
  "language_info": {
   "codemirror_mode": {
    "name": "ipython",
    "version": 2
   },
   "file_extension": ".py",
   "mimetype": "text/x-python",
   "name": "python",
   "nbconvert_exporter": "python",
   "pygments_lexer": "ipython2",
   "version": "2.7.10"
  }
 },
 "nbformat": 4,
 "nbformat_minor": 0
}
