{
 "cells": [
  {
   "cell_type": "code",
   "execution_count": 1,
   "metadata": {
    "collapsed": true
   },
   "outputs": [],
   "source": [
    "import pandas as pd\n",
    "import numpy as np\n",
    "import matplotlib.pyplot as plt\n",
    "from sklearn.linear_model import LinearRegression\n",
    "from sklearn.cross_validation import KFold\n",
    "from sklearn.cross_validation import train_test_split\n",
    "from sklearn.cross_validation import cross_val_score\n",
    "import cPickle as pickle"
   ]
  },
  {
   "cell_type": "code",
   "execution_count": 2,
   "metadata": {
    "collapsed": true
   },
   "outputs": [],
   "source": [
    "%matplotlib inline"
   ]
  },
  {
   "cell_type": "code",
   "execution_count": 3,
   "metadata": {
    "collapsed": true
   },
   "outputs": [],
   "source": [
    "pd.set_option('display.max_columns', 500)"
   ]
  },
  {
   "cell_type": "markdown",
   "metadata": {},
   "source": [
    "#### Clean before model"
   ]
  },
  {
   "cell_type": "code",
   "execution_count": 4,
   "metadata": {
    "collapsed": true
   },
   "outputs": [],
   "source": [
    "df = pd.read_pickle('df_1to7499_features.pkl')"
   ]
  },
  {
   "cell_type": "code",
   "execution_count": 5,
   "metadata": {
    "collapsed": false
   },
   "outputs": [
    {
     "data": {
      "text/html": [
       "<div>\n",
       "<table border=\"1\" class=\"dataframe\">\n",
       "  <thead>\n",
       "    <tr style=\"text-align: right;\">\n",
       "      <th></th>\n",
       "      <th>OBJECTID</th>\n",
       "      <th>WOKEY</th>\n",
       "      <th>LOCATION</th>\n",
       "      <th>ADDRDESC</th>\n",
       "      <th>INITDT_dt</th>\n",
       "      <th>FLDSTARTDT_dt</th>\n",
       "      <th>FLDENDDT_dt</th>\n",
       "      <th>DURATION</th>\n",
       "      <th>DURATION_td</th>\n",
       "      <th>latitude</th>\n",
       "      <th>longitude</th>\n",
       "      <th>address</th>\n",
       "      <th>Seattle_dist</th>\n",
       "      <th>Space_Needle_dist</th>\n",
       "      <th>Pike_Place_dist</th>\n",
       "      <th>Convention_Center_dist</th>\n",
       "      <th>Woodland_Park_dist</th>\n",
       "      <th>Queene_Anne_dist</th>\n",
       "      <th>INIT_Quarter</th>\n",
       "      <th>days_end_FY</th>\n",
       "      <th>INIT_month</th>\n",
       "      <th>neighborhood_label</th>\n",
       "      <th>GEOID</th>\n",
       "      <th>GEO.id</th>\n",
       "      <th>GEO.display-label</th>\n",
       "      <th>Median_Value</th>\n",
       "      <th>Margin_of_Error</th>\n",
       "      <th>SND_FEACOD</th>\n",
       "      <th>ST_CODE</th>\n",
       "      <th>SEGMENT_TY</th>\n",
       "      <th>DIVIDED_CO</th>\n",
       "      <th>VEHICLE_US</th>\n",
       "    </tr>\n",
       "  </thead>\n",
       "  <tbody>\n",
       "    <tr>\n",
       "      <th>0</th>\n",
       "      <td>1</td>\n",
       "      <td>2456</td>\n",
       "      <td>Holden pl SW bt  SW Kenyon Holden             ...</td>\n",
       "      <td>HOLDEN PL SW BETWEEN SW HOLDEN ST AND SW KENYO...</td>\n",
       "      <td>2010-03-29 07:00:00</td>\n",
       "      <td>2010-04-06 07:00:00</td>\n",
       "      <td>2010-04-06 07:00:00</td>\n",
       "      <td>8 days</td>\n",
       "      <td>8</td>\n",
       "      <td>47.531858</td>\n",
       "      <td>-122.363186</td>\n",
       "      <td>SW Kenyon St, Seattle, WA, USA</td>\n",
       "      <td>5.338641</td>\n",
       "      <td>6.158729</td>\n",
       "      <td>5.467939</td>\n",
       "      <td>5.688451</td>\n",
       "      <td>9.453253</td>\n",
       "      <td>7.300465</td>\n",
       "      <td>1</td>\n",
       "      <td>3</td>\n",
       "      <td>3</td>\n",
       "      <td>93</td>\n",
       "      <td>530330114011</td>\n",
       "      <td>1500000US530330114011</td>\n",
       "      <td>Block Group 1, Census Tract 114.01, King Count...</td>\n",
       "      <td>307500</td>\n",
       "      <td>53269</td>\n",
       "      <td>1</td>\n",
       "      <td>0</td>\n",
       "      <td>1</td>\n",
       "      <td>1</td>\n",
       "      <td>1</td>\n",
       "    </tr>\n",
       "    <tr>\n",
       "      <th>1</th>\n",
       "      <td>2</td>\n",
       "      <td>2514</td>\n",
       "      <td>NE Pacific Street, one block west of Montlake ...</td>\n",
       "      <td>MONTLAKE BLVD NE AND NE PACIFIC ST            ...</td>\n",
       "      <td>2010-03-30 07:00:00</td>\n",
       "      <td>2010-04-01 07:00:00</td>\n",
       "      <td>2010-04-01 07:00:00</td>\n",
       "      <td>2 days</td>\n",
       "      <td>2</td>\n",
       "      <td>47.649014</td>\n",
       "      <td>-122.304655</td>\n",
       "      <td>Montlake Blvd NE &amp; NE Pacific St, Seattle, WA ...</td>\n",
       "      <td>3.222458</td>\n",
       "      <td>2.867154</td>\n",
       "      <td>3.231487</td>\n",
       "      <td>2.889531</td>\n",
       "      <td>2.654837</td>\n",
       "      <td>2.610214</td>\n",
       "      <td>1</td>\n",
       "      <td>3</td>\n",
       "      <td>3</td>\n",
       "      <td>42</td>\n",
       "      <td>530330053022</td>\n",
       "      <td>1500000US530330053022</td>\n",
       "      <td>Block Group 2, Census Tract 53.02, King County...</td>\n",
       "      <td>NaN</td>\n",
       "      <td>NaN</td>\n",
       "      <td>5</td>\n",
       "      <td>0</td>\n",
       "      <td>1</td>\n",
       "      <td>1</td>\n",
       "      <td>1</td>\n",
       "    </tr>\n",
       "  </tbody>\n",
       "</table>\n",
       "</div>"
      ],
      "text/plain": [
       "   OBJECTID  WOKEY                                           LOCATION  \\\n",
       "0         1   2456  Holden pl SW bt  SW Kenyon Holden             ...   \n",
       "1         2   2514  NE Pacific Street, one block west of Montlake ...   \n",
       "\n",
       "                                            ADDRDESC           INITDT_dt  \\\n",
       "0  HOLDEN PL SW BETWEEN SW HOLDEN ST AND SW KENYO... 2010-03-29 07:00:00   \n",
       "1  MONTLAKE BLVD NE AND NE PACIFIC ST            ... 2010-03-30 07:00:00   \n",
       "\n",
       "        FLDSTARTDT_dt         FLDENDDT_dt  DURATION  DURATION_td   latitude  \\\n",
       "0 2010-04-06 07:00:00 2010-04-06 07:00:00    8 days            8  47.531858   \n",
       "1 2010-04-01 07:00:00 2010-04-01 07:00:00    2 days            2  47.649014   \n",
       "\n",
       "    longitude                                            address  \\\n",
       "0 -122.363186                     SW Kenyon St, Seattle, WA, USA   \n",
       "1 -122.304655  Montlake Blvd NE & NE Pacific St, Seattle, WA ...   \n",
       "\n",
       "   Seattle_dist  Space_Needle_dist  Pike_Place_dist  Convention_Center_dist  \\\n",
       "0      5.338641           6.158729         5.467939                5.688451   \n",
       "1      3.222458           2.867154         3.231487                2.889531   \n",
       "\n",
       "   Woodland_Park_dist  Queene_Anne_dist  INIT_Quarter  days_end_FY  \\\n",
       "0            9.453253          7.300465             1            3   \n",
       "1            2.654837          2.610214             1            3   \n",
       "\n",
       "   INIT_month neighborhood_label         GEOID                 GEO.id  \\\n",
       "0           3                 93  530330114011  1500000US530330114011   \n",
       "1           3                 42  530330053022  1500000US530330053022   \n",
       "\n",
       "                                   GEO.display-label  Median_Value  \\\n",
       "0  Block Group 1, Census Tract 114.01, King Count...        307500   \n",
       "1  Block Group 2, Census Tract 53.02, King County...           NaN   \n",
       "\n",
       "   Margin_of_Error  SND_FEACOD  ST_CODE  SEGMENT_TY  DIVIDED_CO  VEHICLE_US  \n",
       "0            53269           1        0           1           1           1  \n",
       "1              NaN           5        0           1           1           1  "
      ]
     },
     "execution_count": 5,
     "metadata": {},
     "output_type": "execute_result"
    }
   ],
   "source": [
    "df.head(2)"
   ]
  },
  {
   "cell_type": "code",
   "execution_count": 6,
   "metadata": {
    "collapsed": false
   },
   "outputs": [
    {
     "data": {
      "text/html": [
       "<div>\n",
       "<table border=\"1\" class=\"dataframe\">\n",
       "  <thead>\n",
       "    <tr style=\"text-align: right;\">\n",
       "      <th></th>\n",
       "      <th>OBJECTID</th>\n",
       "      <th>WOKEY</th>\n",
       "      <th>LOCATION</th>\n",
       "      <th>ADDRDESC</th>\n",
       "      <th>INITDT_dt</th>\n",
       "      <th>FLDSTARTDT_dt</th>\n",
       "      <th>FLDENDDT_dt</th>\n",
       "      <th>DURATION</th>\n",
       "      <th>DURATION_td</th>\n",
       "      <th>latitude</th>\n",
       "      <th>longitude</th>\n",
       "      <th>address</th>\n",
       "      <th>Seattle_dist</th>\n",
       "      <th>Space_Needle_dist</th>\n",
       "      <th>Pike_Place_dist</th>\n",
       "      <th>Convention_Center_dist</th>\n",
       "      <th>Woodland_Park_dist</th>\n",
       "      <th>Queene_Anne_dist</th>\n",
       "      <th>INIT_Quarter</th>\n",
       "      <th>days_end_FY</th>\n",
       "      <th>INIT_month</th>\n",
       "      <th>neighborhood_label</th>\n",
       "      <th>GEOID</th>\n",
       "      <th>GEO.id</th>\n",
       "      <th>GEO.display-label</th>\n",
       "      <th>Median_Value</th>\n",
       "      <th>Margin_of_Error</th>\n",
       "      <th>SND_FEACOD</th>\n",
       "      <th>ST_CODE</th>\n",
       "      <th>SEGMENT_TY</th>\n",
       "      <th>DIVIDED_CO</th>\n",
       "      <th>VEHICLE_US</th>\n",
       "    </tr>\n",
       "  </thead>\n",
       "  <tbody>\n",
       "    <tr>\n",
       "      <th>4755</th>\n",
       "      <td>7499</td>\n",
       "      <td>225583</td>\n",
       "      <td>NE 130TH ST BETWEEN LAKE CITY WAY NE AND 33RD ...</td>\n",
       "      <td>NE 130TH ST BETWEEN LAKE CITY WAY NE AND 33RD ...</td>\n",
       "      <td>2013-10-01 07:00:00</td>\n",
       "      <td>2013-10-01 07:00:00</td>\n",
       "      <td>2013-10-02 07:00:00</td>\n",
       "      <td>1 days</td>\n",
       "      <td>1</td>\n",
       "      <td>47.744614</td>\n",
       "      <td>-122.294066</td>\n",
       "      <td>33rd Ave NE, Seattle, WA, USA</td>\n",
       "      <td>9.724967</td>\n",
       "      <td>8.952767</td>\n",
       "      <td>9.586114</td>\n",
       "      <td>9.369915</td>\n",
       "      <td>5.944939</td>\n",
       "      <td>7.978499</td>\n",
       "      <td>4</td>\n",
       "      <td>-4</td>\n",
       "      <td>10</td>\n",
       "      <td></td>\n",
       "      <td>530330214002</td>\n",
       "      <td>1500000US530330214002</td>\n",
       "      <td>Block Group 2, Census Tract 214, King County, ...</td>\n",
       "      <td>428400</td>\n",
       "      <td>54553</td>\n",
       "      <td>1</td>\n",
       "      <td>0</td>\n",
       "      <td>1</td>\n",
       "      <td>1</td>\n",
       "      <td>1</td>\n",
       "    </tr>\n",
       "    <tr>\n",
       "      <th>4756</th>\n",
       "      <td>7500</td>\n",
       "      <td>210335</td>\n",
       "      <td>EB bike lane between 14th and 16th Ave        ...</td>\n",
       "      <td>E UNION ST BETWEEN 15TH AVE AND 16TH AVE      ...</td>\n",
       "      <td>2013-07-10 07:00:00</td>\n",
       "      <td>2013-07-12 07:00:00</td>\n",
       "      <td>2013-07-12 07:00:00</td>\n",
       "      <td>2 days</td>\n",
       "      <td>2</td>\n",
       "      <td>47.610378</td>\n",
       "      <td>-122.311513</td>\n",
       "      <td>16th Ave, Seattle, WA 98122, USA</td>\n",
       "      <td>1.002700</td>\n",
       "      <td>1.897800</td>\n",
       "      <td>1.434032</td>\n",
       "      <td>0.944730</td>\n",
       "      <td>4.473846</td>\n",
       "      <td>2.862636</td>\n",
       "      <td>3</td>\n",
       "      <td>-1</td>\n",
       "      <td>7</td>\n",
       "      <td>55</td>\n",
       "      <td>530330079003</td>\n",
       "      <td>1500000US530330079003</td>\n",
       "      <td>Block Group 3, Census Tract 79, King County, W...</td>\n",
       "      <td>245000</td>\n",
       "      <td>35437</td>\n",
       "      <td>NaN</td>\n",
       "      <td>NaN</td>\n",
       "      <td>NaN</td>\n",
       "      <td>NaN</td>\n",
       "      <td>NaN</td>\n",
       "    </tr>\n",
       "  </tbody>\n",
       "</table>\n",
       "</div>"
      ],
      "text/plain": [
       "      OBJECTID   WOKEY                                           LOCATION  \\\n",
       "4755      7499  225583  NE 130TH ST BETWEEN LAKE CITY WAY NE AND 33RD ...   \n",
       "4756      7500  210335  EB bike lane between 14th and 16th Ave        ...   \n",
       "\n",
       "                                               ADDRDESC           INITDT_dt  \\\n",
       "4755  NE 130TH ST BETWEEN LAKE CITY WAY NE AND 33RD ... 2013-10-01 07:00:00   \n",
       "4756  E UNION ST BETWEEN 15TH AVE AND 16TH AVE      ... 2013-07-10 07:00:00   \n",
       "\n",
       "           FLDSTARTDT_dt         FLDENDDT_dt  DURATION  DURATION_td  \\\n",
       "4755 2013-10-01 07:00:00 2013-10-02 07:00:00    1 days            1   \n",
       "4756 2013-07-12 07:00:00 2013-07-12 07:00:00    2 days            2   \n",
       "\n",
       "       latitude   longitude                           address  Seattle_dist  \\\n",
       "4755  47.744614 -122.294066     33rd Ave NE, Seattle, WA, USA      9.724967   \n",
       "4756  47.610378 -122.311513  16th Ave, Seattle, WA 98122, USA      1.002700   \n",
       "\n",
       "      Space_Needle_dist  Pike_Place_dist  Convention_Center_dist  \\\n",
       "4755           8.952767         9.586114                9.369915   \n",
       "4756           1.897800         1.434032                0.944730   \n",
       "\n",
       "      Woodland_Park_dist  Queene_Anne_dist  INIT_Quarter  days_end_FY  \\\n",
       "4755            5.944939          7.978499             4           -4   \n",
       "4756            4.473846          2.862636             3           -1   \n",
       "\n",
       "      INIT_month neighborhood_label         GEOID                 GEO.id  \\\n",
       "4755          10                     530330214002  1500000US530330214002   \n",
       "4756           7                 55  530330079003  1500000US530330079003   \n",
       "\n",
       "                                      GEO.display-label  Median_Value  \\\n",
       "4755  Block Group 2, Census Tract 214, King County, ...        428400   \n",
       "4756  Block Group 3, Census Tract 79, King County, W...        245000   \n",
       "\n",
       "      Margin_of_Error  SND_FEACOD  ST_CODE  SEGMENT_TY  DIVIDED_CO  VEHICLE_US  \n",
       "4755            54553           1        0           1           1           1  \n",
       "4756            35437         NaN      NaN         NaN         NaN         NaN  "
      ]
     },
     "execution_count": 6,
     "metadata": {},
     "output_type": "execute_result"
    }
   ],
   "source": [
    "df.tail(2)"
   ]
  },
  {
   "cell_type": "code",
   "execution_count": 7,
   "metadata": {
    "collapsed": false
   },
   "outputs": [
    {
     "name": "stdout",
     "output_type": "stream",
     "text": [
      "<class 'pandas.core.frame.DataFrame'>\n",
      "Int64Index: 4757 entries, 0 to 4756\n",
      "Data columns (total 32 columns):\n",
      "OBJECTID                  4757 non-null int64\n",
      "WOKEY                     4757 non-null int64\n",
      "LOCATION                  4757 non-null object\n",
      "ADDRDESC                  4757 non-null object\n",
      "INITDT_dt                 4757 non-null datetime64[ns]\n",
      "FLDSTARTDT_dt             4757 non-null datetime64[ns]\n",
      "FLDENDDT_dt               4757 non-null datetime64[ns]\n",
      "DURATION                  4757 non-null timedelta64[ns]\n",
      "DURATION_td               4757 non-null float64\n",
      "latitude                  4757 non-null float64\n",
      "longitude                 4757 non-null float64\n",
      "address                   4757 non-null object\n",
      "Seattle_dist              4757 non-null float64\n",
      "Space_Needle_dist         4757 non-null float64\n",
      "Pike_Place_dist           4757 non-null float64\n",
      "Convention_Center_dist    4757 non-null float64\n",
      "Woodland_Park_dist        4757 non-null float64\n",
      "Queene_Anne_dist          4757 non-null float64\n",
      "INIT_Quarter              4757 non-null int64\n",
      "days_end_FY               4757 non-null int64\n",
      "INIT_month                4757 non-null int64\n",
      "neighborhood_label        4757 non-null object\n",
      "GEOID                     4757 non-null object\n",
      "GEO.id                    4718 non-null object\n",
      "GEO.display-label         4718 non-null object\n",
      "Median_Value              4450 non-null float64\n",
      "Margin_of_Error           4450 non-null float64\n",
      "SND_FEACOD                3038 non-null float64\n",
      "ST_CODE                   3038 non-null float64\n",
      "SEGMENT_TY                3038 non-null float64\n",
      "DIVIDED_CO                3038 non-null float64\n",
      "VEHICLE_US                3038 non-null float64\n",
      "dtypes: datetime64[ns](3), float64(16), int64(5), object(7), timedelta64[ns](1)\n",
      "memory usage: 1.2+ MB\n"
     ]
    }
   ],
   "source": [
    "df.info()"
   ]
  },
  {
   "cell_type": "code",
   "execution_count": 138,
   "metadata": {
    "collapsed": false
   },
   "outputs": [
    {
     "data": {
      "text/plain": [
       "numpy.int64"
      ]
     },
     "execution_count": 138,
     "metadata": {},
     "output_type": "execute_result"
    }
   ],
   "source": [
    "type(df.ix[0,'neighborhood_label'])"
   ]
  },
  {
   "cell_type": "markdown",
   "metadata": {},
   "source": [
    "####Remember:  No. of potholes could be more predictive of repair time, so I DO need to include this as a predictor."
   ]
  },
  {
   "cell_type": "code",
   "execution_count": 8,
   "metadata": {
    "collapsed": false
   },
   "outputs": [
    {
     "data": {
      "text/plain": [
       "(172, 32)"
      ]
     },
     "execution_count": 8,
     "metadata": {},
     "output_type": "execute_result"
    }
   ],
   "source": [
    "df[df['neighborhood_label'] == ''].shape"
   ]
  },
  {
   "cell_type": "code",
   "execution_count": 9,
   "metadata": {
    "collapsed": true
   },
   "outputs": [],
   "source": [
    "df = df[df['neighborhood_label'] != '']"
   ]
  },
  {
   "cell_type": "code",
   "execution_count": 10,
   "metadata": {
    "collapsed": false
   },
   "outputs": [
    {
     "data": {
      "text/plain": [
       "False"
      ]
     },
     "execution_count": 10,
     "metadata": {},
     "output_type": "execute_result"
    }
   ],
   "source": [
    "np.any(df.neighborhood_label == '')"
   ]
  },
  {
   "cell_type": "code",
   "execution_count": 11,
   "metadata": {
    "collapsed": false
   },
   "outputs": [
    {
     "data": {
      "text/plain": [
       "4"
      ]
     },
     "execution_count": 11,
     "metadata": {},
     "output_type": "execute_result"
    }
   ],
   "source": [
    "sum(df.DURATION_td == 0.0)"
   ]
  },
  {
   "cell_type": "code",
   "execution_count": 12,
   "metadata": {
    "collapsed": false
   },
   "outputs": [
    {
     "data": {
      "text/html": [
       "<div>\n",
       "<table border=\"1\" class=\"dataframe\">\n",
       "  <thead>\n",
       "    <tr style=\"text-align: right;\">\n",
       "      <th></th>\n",
       "      <th>OBJECTID</th>\n",
       "      <th>WOKEY</th>\n",
       "      <th>LOCATION</th>\n",
       "      <th>ADDRDESC</th>\n",
       "      <th>INITDT_dt</th>\n",
       "      <th>FLDSTARTDT_dt</th>\n",
       "      <th>FLDENDDT_dt</th>\n",
       "      <th>DURATION</th>\n",
       "      <th>DURATION_td</th>\n",
       "      <th>latitude</th>\n",
       "      <th>longitude</th>\n",
       "      <th>address</th>\n",
       "      <th>Seattle_dist</th>\n",
       "      <th>Space_Needle_dist</th>\n",
       "      <th>Pike_Place_dist</th>\n",
       "      <th>Convention_Center_dist</th>\n",
       "      <th>Woodland_Park_dist</th>\n",
       "      <th>Queene_Anne_dist</th>\n",
       "      <th>INIT_Quarter</th>\n",
       "      <th>days_end_FY</th>\n",
       "      <th>INIT_month</th>\n",
       "      <th>neighborhood_label</th>\n",
       "      <th>GEOID</th>\n",
       "      <th>GEO.id</th>\n",
       "      <th>GEO.display-label</th>\n",
       "      <th>Median_Value</th>\n",
       "      <th>Margin_of_Error</th>\n",
       "      <th>SND_FEACOD</th>\n",
       "      <th>ST_CODE</th>\n",
       "      <th>SEGMENT_TY</th>\n",
       "      <th>DIVIDED_CO</th>\n",
       "      <th>VEHICLE_US</th>\n",
       "    </tr>\n",
       "  </thead>\n",
       "  <tbody>\n",
       "    <tr>\n",
       "      <th>295</th>\n",
       "      <td>448</td>\n",
       "      <td>338004</td>\n",
       "      <td>Shallow Pothole                               ...</td>\n",
       "      <td>15TH AVE E BETWEEN E GALER ST AND E GARFIELD S...</td>\n",
       "      <td>2015-03-08 08:00:00</td>\n",
       "      <td>2015-03-09 07:00:00</td>\n",
       "      <td>2015-03-09 07:00:00</td>\n",
       "      <td>23:00:00</td>\n",
       "      <td>0</td>\n",
       "      <td>47.632692</td>\n",
       "      <td>-122.299830</td>\n",
       "      <td>E Garfield St, Seattle, WA, USA</td>\n",
       "      <td>2.369669</td>\n",
       "      <td>2.458049</td>\n",
       "      <td>2.536548</td>\n",
       "      <td>2.092643</td>\n",
       "      <td>3.527669</td>\n",
       "      <td>2.731130</td>\n",
       "      <td>1</td>\n",
       "      <td>3</td>\n",
       "      <td>3</td>\n",
       "      <td>98</td>\n",
       "      <td>530330062001</td>\n",
       "      <td>1500000US530330062001</td>\n",
       "      <td>Block Group 1, Census Tract 62, King County, W...</td>\n",
       "      <td>721400</td>\n",
       "      <td>61113</td>\n",
       "      <td>1</td>\n",
       "      <td>0</td>\n",
       "      <td>1</td>\n",
       "      <td>1</td>\n",
       "      <td>1</td>\n",
       "    </tr>\n",
       "    <tr>\n",
       "      <th>2718</th>\n",
       "      <td>4256</td>\n",
       "      <td>190832</td>\n",
       "      <td>698 W MERCER PL, SEATTLE, WA 98119            ...</td>\n",
       "      <td>W MERCER PL BETWEEN 6TH AVE W AND ELLIOTT AVE ...</td>\n",
       "      <td>2013-03-10 08:00:00</td>\n",
       "      <td>2013-03-11 07:00:00</td>\n",
       "      <td>2013-03-11 07:00:00</td>\n",
       "      <td>23:00:00</td>\n",
       "      <td>0</td>\n",
       "      <td>47.625639</td>\n",
       "      <td>-122.367027</td>\n",
       "      <td>Elliott Ave W, Seattle, WA 98119, USA</td>\n",
       "      <td>2.113811</td>\n",
       "      <td>0.901674</td>\n",
       "      <td>1.598502</td>\n",
       "      <td>1.922310</td>\n",
       "      <td>3.028934</td>\n",
       "      <td>0.922038</td>\n",
       "      <td>1</td>\n",
       "      <td>3</td>\n",
       "      <td>3</td>\n",
       "      <td>45</td>\n",
       "      <td>530330071001</td>\n",
       "      <td>1500000US530330071001</td>\n",
       "      <td>Block Group 1, Census Tract 71, King County, W...</td>\n",
       "      <td>367000</td>\n",
       "      <td>57656</td>\n",
       "      <td>1</td>\n",
       "      <td>0</td>\n",
       "      <td>1</td>\n",
       "      <td>1</td>\n",
       "      <td>1</td>\n",
       "    </tr>\n",
       "    <tr>\n",
       "      <th>4367</th>\n",
       "      <td>6922</td>\n",
       "      <td>338017</td>\n",
       "      <td>Rainier Ave S south of Thistle SB on street ne...</td>\n",
       "      <td>RAINIER AVE S BETWEEN S THISTLE ST AND S CLOVE...</td>\n",
       "      <td>2015-03-08 08:00:00</td>\n",
       "      <td>2015-03-09 07:00:00</td>\n",
       "      <td>2015-03-09 07:00:00</td>\n",
       "      <td>23:00:00</td>\n",
       "      <td>0</td>\n",
       "      <td>47.526137</td>\n",
       "      <td>-122.289320</td>\n",
       "      <td>S Cloverdale St, Seattle, WA, USA</td>\n",
       "      <td>5.881881</td>\n",
       "      <td>7.096565</td>\n",
       "      <td>6.281264</td>\n",
       "      <td>6.213722</td>\n",
       "      <td>10.286892</td>\n",
       "      <td>8.332554</td>\n",
       "      <td>1</td>\n",
       "      <td>3</td>\n",
       "      <td>3</td>\n",
       "      <td>81</td>\n",
       "      <td>530330117002</td>\n",
       "      <td>1500000US530330117002</td>\n",
       "      <td>Block Group 2, Census Tract 117, King County, ...</td>\n",
       "      <td>296300</td>\n",
       "      <td>34980</td>\n",
       "      <td>NaN</td>\n",
       "      <td>NaN</td>\n",
       "      <td>NaN</td>\n",
       "      <td>NaN</td>\n",
       "      <td>NaN</td>\n",
       "    </tr>\n",
       "    <tr>\n",
       "      <th>4375</th>\n",
       "      <td>6933</td>\n",
       "      <td>338001</td>\n",
       "      <td>Pothole in front of group health between 15th ...</td>\n",
       "      <td>E THOMAS ST BETWEEN 15TH (S LEG) AVE E AND 16T...</td>\n",
       "      <td>2015-03-08 08:00:00</td>\n",
       "      <td>2015-03-09 07:00:00</td>\n",
       "      <td>2015-03-09 07:00:00</td>\n",
       "      <td>23:00:00</td>\n",
       "      <td>0</td>\n",
       "      <td>47.630397</td>\n",
       "      <td>-122.311242</td>\n",
       "      <td>16th Ave E, Seattle, WA 98112, USA</td>\n",
       "      <td>1.933600</td>\n",
       "      <td>1.903295</td>\n",
       "      <td>2.032375</td>\n",
       "      <td>1.623486</td>\n",
       "      <td>3.295791</td>\n",
       "      <td>2.232374</td>\n",
       "      <td>1</td>\n",
       "      <td>3</td>\n",
       "      <td>3</td>\n",
       "      <td>101</td>\n",
       "      <td>530330064002</td>\n",
       "      <td>1500000US530330064002</td>\n",
       "      <td>Block Group 2, Census Tract 64, King County, W...</td>\n",
       "      <td>NaN</td>\n",
       "      <td>NaN</td>\n",
       "      <td>NaN</td>\n",
       "      <td>NaN</td>\n",
       "      <td>NaN</td>\n",
       "      <td>NaN</td>\n",
       "      <td>NaN</td>\n",
       "    </tr>\n",
       "  </tbody>\n",
       "</table>\n",
       "</div>"
      ],
      "text/plain": [
       "      OBJECTID   WOKEY                                           LOCATION  \\\n",
       "295        448  338004  Shallow Pothole                               ...   \n",
       "2718      4256  190832  698 W MERCER PL, SEATTLE, WA 98119            ...   \n",
       "4367      6922  338017  Rainier Ave S south of Thistle SB on street ne...   \n",
       "4375      6933  338001  Pothole in front of group health between 15th ...   \n",
       "\n",
       "                                               ADDRDESC           INITDT_dt  \\\n",
       "295   15TH AVE E BETWEEN E GALER ST AND E GARFIELD S... 2015-03-08 08:00:00   \n",
       "2718  W MERCER PL BETWEEN 6TH AVE W AND ELLIOTT AVE ... 2013-03-10 08:00:00   \n",
       "4367  RAINIER AVE S BETWEEN S THISTLE ST AND S CLOVE... 2015-03-08 08:00:00   \n",
       "4375  E THOMAS ST BETWEEN 15TH (S LEG) AVE E AND 16T... 2015-03-08 08:00:00   \n",
       "\n",
       "           FLDSTARTDT_dt         FLDENDDT_dt  DURATION  DURATION_td  \\\n",
       "295  2015-03-09 07:00:00 2015-03-09 07:00:00  23:00:00            0   \n",
       "2718 2013-03-11 07:00:00 2013-03-11 07:00:00  23:00:00            0   \n",
       "4367 2015-03-09 07:00:00 2015-03-09 07:00:00  23:00:00            0   \n",
       "4375 2015-03-09 07:00:00 2015-03-09 07:00:00  23:00:00            0   \n",
       "\n",
       "       latitude   longitude                                address  \\\n",
       "295   47.632692 -122.299830        E Garfield St, Seattle, WA, USA   \n",
       "2718  47.625639 -122.367027  Elliott Ave W, Seattle, WA 98119, USA   \n",
       "4367  47.526137 -122.289320      S Cloverdale St, Seattle, WA, USA   \n",
       "4375  47.630397 -122.311242     16th Ave E, Seattle, WA 98112, USA   \n",
       "\n",
       "      Seattle_dist  Space_Needle_dist  Pike_Place_dist  \\\n",
       "295       2.369669           2.458049         2.536548   \n",
       "2718      2.113811           0.901674         1.598502   \n",
       "4367      5.881881           7.096565         6.281264   \n",
       "4375      1.933600           1.903295         2.032375   \n",
       "\n",
       "      Convention_Center_dist  Woodland_Park_dist  Queene_Anne_dist  \\\n",
       "295                 2.092643            3.527669          2.731130   \n",
       "2718                1.922310            3.028934          0.922038   \n",
       "4367                6.213722           10.286892          8.332554   \n",
       "4375                1.623486            3.295791          2.232374   \n",
       "\n",
       "      INIT_Quarter  days_end_FY  INIT_month neighborhood_label         GEOID  \\\n",
       "295              1            3           3                 98  530330062001   \n",
       "2718             1            3           3                 45  530330071001   \n",
       "4367             1            3           3                 81  530330117002   \n",
       "4375             1            3           3                101  530330064002   \n",
       "\n",
       "                     GEO.id  \\\n",
       "295   1500000US530330062001   \n",
       "2718  1500000US530330071001   \n",
       "4367  1500000US530330117002   \n",
       "4375  1500000US530330064002   \n",
       "\n",
       "                                      GEO.display-label  Median_Value  \\\n",
       "295   Block Group 1, Census Tract 62, King County, W...        721400   \n",
       "2718  Block Group 1, Census Tract 71, King County, W...        367000   \n",
       "4367  Block Group 2, Census Tract 117, King County, ...        296300   \n",
       "4375  Block Group 2, Census Tract 64, King County, W...           NaN   \n",
       "\n",
       "      Margin_of_Error  SND_FEACOD  ST_CODE  SEGMENT_TY  DIVIDED_CO  VEHICLE_US  \n",
       "295             61113           1        0           1           1           1  \n",
       "2718            57656           1        0           1           1           1  \n",
       "4367            34980         NaN      NaN         NaN         NaN         NaN  \n",
       "4375              NaN         NaN      NaN         NaN         NaN         NaN  "
      ]
     },
     "execution_count": 12,
     "metadata": {},
     "output_type": "execute_result"
    }
   ],
   "source": [
    "df[df.DURATION_td == 0.0]"
   ]
  },
  {
   "cell_type": "code",
   "execution_count": 13,
   "metadata": {
    "collapsed": false
   },
   "outputs": [
    {
     "data": {
      "text/plain": [
       "(4581, 32)"
      ]
     },
     "execution_count": 13,
     "metadata": {},
     "output_type": "execute_result"
    }
   ],
   "source": [
    "df[df.DURATION_td != 0.0].shape"
   ]
  },
  {
   "cell_type": "code",
   "execution_count": 14,
   "metadata": {
    "collapsed": false
   },
   "outputs": [
    {
     "data": {
      "text/plain": [
       "(4585, 32)"
      ]
     },
     "execution_count": 14,
     "metadata": {},
     "output_type": "execute_result"
    }
   ],
   "source": [
    "df.shape"
   ]
  },
  {
   "cell_type": "code",
   "execution_count": 15,
   "metadata": {
    "collapsed": true
   },
   "outputs": [],
   "source": [
    "df = df[df.DURATION_td != 0.0]"
   ]
  },
  {
   "cell_type": "code",
   "execution_count": 16,
   "metadata": {
    "collapsed": false
   },
   "outputs": [
    {
     "data": {
      "text/plain": [
       "(4581, 32)"
      ]
     },
     "execution_count": 16,
     "metadata": {},
     "output_type": "execute_result"
    }
   ],
   "source": [
    "df.shape"
   ]
  },
  {
   "cell_type": "code",
   "execution_count": 17,
   "metadata": {
    "collapsed": false
   },
   "outputs": [
    {
     "data": {
      "text/plain": [
       "(285, 32)"
      ]
     },
     "execution_count": 17,
     "metadata": {},
     "output_type": "execute_result"
    }
   ],
   "source": [
    "df[pd.isnull(df.Median_Value)].shape"
   ]
  },
  {
   "cell_type": "code",
   "execution_count": 18,
   "metadata": {
    "collapsed": false
   },
   "outputs": [
    {
     "data": {
      "text/plain": [
       "(285, 32)"
      ]
     },
     "execution_count": 18,
     "metadata": {},
     "output_type": "execute_result"
    }
   ],
   "source": [
    "df[pd.isnull(df.Margin_of_Error)].shape"
   ]
  },
  {
   "cell_type": "code",
   "execution_count": 19,
   "metadata": {
    "collapsed": false
   },
   "outputs": [
    {
     "data": {
      "text/plain": [
       "0.06221349050425671"
      ]
     },
     "execution_count": 19,
     "metadata": {},
     "output_type": "execute_result"
    }
   ],
   "source": [
    "df[pd.isnull(df.Margin_of_Error)].shape[0]/float(df.shape[0])"
   ]
  },
  {
   "cell_type": "markdown",
   "metadata": {},
   "source": [
    "####6% of Median Value are NaN.  285/4581.  Ignore and remove for now."
   ]
  },
  {
   "cell_type": "code",
   "execution_count": 20,
   "metadata": {
    "collapsed": true
   },
   "outputs": [],
   "source": [
    "df = df[np.isfinite(df['Median_Value'])]"
   ]
  },
  {
   "cell_type": "code",
   "execution_count": 21,
   "metadata": {
    "collapsed": false
   },
   "outputs": [
    {
     "data": {
      "text/plain": [
       "(4296, 32)"
      ]
     },
     "execution_count": 21,
     "metadata": {},
     "output_type": "execute_result"
    }
   ],
   "source": [
    "df.shape"
   ]
  },
  {
   "cell_type": "markdown",
   "metadata": {},
   "source": [
    "####Now it's time to deal with the street features.  I also want to use this notebook to develop some EDA of the duration variable for tomorrow."
   ]
  },
  {
   "cell_type": "code",
   "execution_count": 22,
   "metadata": {
    "collapsed": false
   },
   "outputs": [
    {
     "name": "stdout",
     "output_type": "stream",
     "text": [
      "<class 'pandas.core.frame.DataFrame'>\n",
      "Int64Index: 4296 entries, 0 to 4756\n",
      "Data columns (total 32 columns):\n",
      "OBJECTID                  4296 non-null int64\n",
      "WOKEY                     4296 non-null int64\n",
      "LOCATION                  4296 non-null object\n",
      "ADDRDESC                  4296 non-null object\n",
      "INITDT_dt                 4296 non-null datetime64[ns]\n",
      "FLDSTARTDT_dt             4296 non-null datetime64[ns]\n",
      "FLDENDDT_dt               4296 non-null datetime64[ns]\n",
      "DURATION                  4296 non-null timedelta64[ns]\n",
      "DURATION_td               4296 non-null float64\n",
      "latitude                  4296 non-null float64\n",
      "longitude                 4296 non-null float64\n",
      "address                   4296 non-null object\n",
      "Seattle_dist              4296 non-null float64\n",
      "Space_Needle_dist         4296 non-null float64\n",
      "Pike_Place_dist           4296 non-null float64\n",
      "Convention_Center_dist    4296 non-null float64\n",
      "Woodland_Park_dist        4296 non-null float64\n",
      "Queene_Anne_dist          4296 non-null float64\n",
      "INIT_Quarter              4296 non-null int64\n",
      "days_end_FY               4296 non-null int64\n",
      "INIT_month                4296 non-null int64\n",
      "neighborhood_label        4296 non-null object\n",
      "GEOID                     4296 non-null object\n",
      "GEO.id                    4296 non-null object\n",
      "GEO.display-label         4296 non-null object\n",
      "Median_Value              4296 non-null float64\n",
      "Margin_of_Error           4296 non-null float64\n",
      "SND_FEACOD                2748 non-null float64\n",
      "ST_CODE                   2748 non-null float64\n",
      "SEGMENT_TY                2748 non-null float64\n",
      "DIVIDED_CO                2748 non-null float64\n",
      "VEHICLE_US                2748 non-null float64\n",
      "dtypes: datetime64[ns](3), float64(16), int64(5), object(7), timedelta64[ns](1)\n",
      "memory usage: 1.1+ MB\n"
     ]
    }
   ],
   "source": [
    "df.info()"
   ]
  },
  {
   "cell_type": "code",
   "execution_count": 23,
   "metadata": {
    "collapsed": false
   },
   "outputs": [
    {
     "data": {
      "text/plain": [
       "0.36033519553072624"
      ]
     },
     "execution_count": 23,
     "metadata": {},
     "output_type": "execute_result"
    }
   ],
   "source": [
    "df[pd.isnull(df.SND_FEACOD)].shape[0]/float(df.shape[0])"
   ]
  },
  {
   "cell_type": "markdown",
   "metadata": {},
   "source": [
    "####36% !!"
   ]
  },
  {
   "cell_type": "code",
   "execution_count": 25,
   "metadata": {
    "collapsed": false
   },
   "outputs": [],
   "source": [
    "df.SND_FEACOD = df.SND_FEACOD.fillna('NO SND_FEACOD')\n",
    "df.ST_CODE = df.ST_CODE.fillna('NO ST_CODE')\n",
    "df.SEGMENT_TY = df.SEGMENT_TY.fillna('NO SEGMENT_TY')\n",
    "df.DIVIDED_CO = df.DIVIDED_CO.fillna('NO DIVIDED_CO')\n",
    "df.VEHICLE_US = df.VEHICLE_US.fillna('NO VEHICLE_US')"
   ]
  },
  {
   "cell_type": "code",
   "execution_count": 26,
   "metadata": {
    "collapsed": false
   },
   "outputs": [
    {
     "data": {
      "text/plain": [
       "1.0              1749\n",
       "NO SND_FEACOD    1548\n",
       "5.0               940\n",
       "77.0               31\n",
       "0.0                17\n",
       "13.0                7\n",
       "85.0                3\n",
       "9.0                 1\n",
       "dtype: int64"
      ]
     },
     "execution_count": 26,
     "metadata": {},
     "output_type": "execute_result"
    }
   ],
   "source": [
    "df.SND_FEACOD.value_counts()"
   ]
  },
  {
   "cell_type": "markdown",
   "metadata": {},
   "source": [
    "####Interesting that they are floats.  Should be cast as ints."
   ]
  },
  {
   "cell_type": "code",
   "execution_count": 27,
   "metadata": {
    "collapsed": false
   },
   "outputs": [
    {
     "data": {
      "text/plain": [
       "0.0           2607\n",
       "NO ST_CODE    1548\n",
       "40.0            45\n",
       "1.0             22\n",
       "2.0             21\n",
       "22.0            17\n",
       "21.0             7\n",
       "20.0             7\n",
       "8.0              7\n",
       "4.0              7\n",
       "50.0             3\n",
       "7.0              3\n",
       "6.0              2\n",
       "dtype: int64"
      ]
     },
     "execution_count": 27,
     "metadata": {},
     "output_type": "execute_result"
    }
   ],
   "source": [
    "df.ST_CODE.value_counts()"
   ]
  },
  {
   "cell_type": "code",
   "execution_count": 28,
   "metadata": {
    "collapsed": false
   },
   "outputs": [
    {
     "data": {
      "text/plain": [
       "1.0              2703\n",
       "NO SEGMENT_TY    1548\n",
       "8.0                17\n",
       "7.0                 7\n",
       "6.0                 7\n",
       "4.0                 7\n",
       "9.0                 2\n",
       "5.0                 2\n",
       "2.0                 2\n",
       "13.0                1\n",
       "dtype: int64"
      ]
     },
     "execution_count": 28,
     "metadata": {},
     "output_type": "execute_result"
    }
   ],
   "source": [
    "df.SEGMENT_TY.value_counts()"
   ]
  },
  {
   "cell_type": "code",
   "execution_count": 29,
   "metadata": {
    "collapsed": false
   },
   "outputs": [
    {
     "data": {
      "text/plain": [
       "1.0              2719\n",
       "NO DIVIDED_CO    1548\n",
       "2.0                14\n",
       "6.0                 7\n",
       "4.0                 6\n",
       "5.0                 2\n",
       "dtype: int64"
      ]
     },
     "execution_count": 29,
     "metadata": {},
     "output_type": "execute_result"
    }
   ],
   "source": [
    "df.DIVIDED_CO.value_counts()"
   ]
  },
  {
   "cell_type": "code",
   "execution_count": 30,
   "metadata": {
    "collapsed": false
   },
   "outputs": [
    {
     "data": {
      "text/plain": [
       "1.0              2717\n",
       "NO VEHICLE_US    1548\n",
       "2.0                24\n",
       "3.0                 7\n",
       "dtype: int64"
      ]
     },
     "execution_count": 30,
     "metadata": {},
     "output_type": "execute_result"
    }
   ],
   "source": [
    "df.VEHICLE_US.value_counts()"
   ]
  },
  {
   "cell_type": "code",
   "execution_count": 31,
   "metadata": {
    "collapsed": false
   },
   "outputs": [
    {
     "data": {
      "text/plain": [
       "False"
      ]
     },
     "execution_count": 31,
     "metadata": {},
     "output_type": "execute_result"
    }
   ],
   "source": [
    "df.isnull().values.any()"
   ]
  },
  {
   "cell_type": "markdown",
   "metadata": {},
   "source": [
    "####No NaNs left."
   ]
  },
  {
   "cell_type": "code",
   "execution_count": 32,
   "metadata": {
    "collapsed": false
   },
   "outputs": [
    {
     "name": "stdout",
     "output_type": "stream",
     "text": [
      "<class 'pandas.core.frame.DataFrame'>\n",
      "Int64Index: 4296 entries, 0 to 4756\n",
      "Data columns (total 32 columns):\n",
      "OBJECTID                  4296 non-null int64\n",
      "WOKEY                     4296 non-null int64\n",
      "LOCATION                  4296 non-null object\n",
      "ADDRDESC                  4296 non-null object\n",
      "INITDT_dt                 4296 non-null datetime64[ns]\n",
      "FLDSTARTDT_dt             4296 non-null datetime64[ns]\n",
      "FLDENDDT_dt               4296 non-null datetime64[ns]\n",
      "DURATION                  4296 non-null timedelta64[ns]\n",
      "DURATION_td               4296 non-null float64\n",
      "latitude                  4296 non-null float64\n",
      "longitude                 4296 non-null float64\n",
      "address                   4296 non-null object\n",
      "Seattle_dist              4296 non-null float64\n",
      "Space_Needle_dist         4296 non-null float64\n",
      "Pike_Place_dist           4296 non-null float64\n",
      "Convention_Center_dist    4296 non-null float64\n",
      "Woodland_Park_dist        4296 non-null float64\n",
      "Queene_Anne_dist          4296 non-null float64\n",
      "INIT_Quarter              4296 non-null int64\n",
      "days_end_FY               4296 non-null int64\n",
      "INIT_month                4296 non-null int64\n",
      "neighborhood_label        4296 non-null object\n",
      "GEOID                     4296 non-null object\n",
      "GEO.id                    4296 non-null object\n",
      "GEO.display-label         4296 non-null object\n",
      "Median_Value              4296 non-null float64\n",
      "Margin_of_Error           4296 non-null float64\n",
      "SND_FEACOD                4296 non-null object\n",
      "ST_CODE                   4296 non-null object\n",
      "SEGMENT_TY                4296 non-null object\n",
      "DIVIDED_CO                4296 non-null object\n",
      "VEHICLE_US                4296 non-null object\n",
      "dtypes: datetime64[ns](3), float64(11), int64(5), object(12), timedelta64[ns](1)\n",
      "memory usage: 1.1+ MB\n"
     ]
    }
   ],
   "source": [
    "df.info()"
   ]
  },
  {
   "cell_type": "code",
   "execution_count": 33,
   "metadata": {
    "collapsed": true
   },
   "outputs": [],
   "source": [
    "df.SND_FEACOD = df.SND_FEACOD.astype('category')\n",
    "df.ST_CODE = df.ST_CODE.astype('category')\n",
    "df.SEGMENT_TY = df.SEGMENT_TY.astype('category')\n",
    "df.DIVIDED_CO = df.DIVIDED_CO.astype('category')\n",
    "df.VEHICLE_US = df.VEHICLE_US.astype('category')"
   ]
  },
  {
   "cell_type": "code",
   "execution_count": 34,
   "metadata": {
    "collapsed": false
   },
   "outputs": [
    {
     "name": "stdout",
     "output_type": "stream",
     "text": [
      "<class 'pandas.core.frame.DataFrame'>\n",
      "Int64Index: 4296 entries, 0 to 4756\n",
      "Data columns (total 32 columns):\n",
      "OBJECTID                  4296 non-null int64\n",
      "WOKEY                     4296 non-null int64\n",
      "LOCATION                  4296 non-null object\n",
      "ADDRDESC                  4296 non-null object\n",
      "INITDT_dt                 4296 non-null datetime64[ns]\n",
      "FLDSTARTDT_dt             4296 non-null datetime64[ns]\n",
      "FLDENDDT_dt               4296 non-null datetime64[ns]\n",
      "DURATION                  4296 non-null timedelta64[ns]\n",
      "DURATION_td               4296 non-null float64\n",
      "latitude                  4296 non-null float64\n",
      "longitude                 4296 non-null float64\n",
      "address                   4296 non-null object\n",
      "Seattle_dist              4296 non-null float64\n",
      "Space_Needle_dist         4296 non-null float64\n",
      "Pike_Place_dist           4296 non-null float64\n",
      "Convention_Center_dist    4296 non-null float64\n",
      "Woodland_Park_dist        4296 non-null float64\n",
      "Queene_Anne_dist          4296 non-null float64\n",
      "INIT_Quarter              4296 non-null int64\n",
      "days_end_FY               4296 non-null int64\n",
      "INIT_month                4296 non-null int64\n",
      "neighborhood_label        4296 non-null object\n",
      "GEOID                     4296 non-null object\n",
      "GEO.id                    4296 non-null object\n",
      "GEO.display-label         4296 non-null object\n",
      "Median_Value              4296 non-null float64\n",
      "Margin_of_Error           4296 non-null float64\n",
      "SND_FEACOD                4296 non-null category\n",
      "ST_CODE                   4296 non-null category\n",
      "SEGMENT_TY                4296 non-null category\n",
      "DIVIDED_CO                4296 non-null category\n",
      "VEHICLE_US                4296 non-null category\n",
      "dtypes: category(5), datetime64[ns](3), float64(11), int64(5), object(7), timedelta64[ns](1)\n",
      "memory usage: 961.0+ KB\n"
     ]
    }
   ],
   "source": [
    "df.info()"
   ]
  },
  {
   "cell_type": "code",
   "execution_count": 35,
   "metadata": {
    "collapsed": true
   },
   "outputs": [],
   "source": [
    "df.neighborhood_label = df.neighborhood_label.astype('category')"
   ]
  },
  {
   "cell_type": "code",
   "execution_count": 36,
   "metadata": {
    "collapsed": false
   },
   "outputs": [
    {
     "name": "stdout",
     "output_type": "stream",
     "text": [
      "<class 'pandas.core.frame.DataFrame'>\n",
      "Int64Index: 4296 entries, 0 to 4756\n",
      "Data columns (total 32 columns):\n",
      "OBJECTID                  4296 non-null int64\n",
      "WOKEY                     4296 non-null int64\n",
      "LOCATION                  4296 non-null object\n",
      "ADDRDESC                  4296 non-null object\n",
      "INITDT_dt                 4296 non-null datetime64[ns]\n",
      "FLDSTARTDT_dt             4296 non-null datetime64[ns]\n",
      "FLDENDDT_dt               4296 non-null datetime64[ns]\n",
      "DURATION                  4296 non-null timedelta64[ns]\n",
      "DURATION_td               4296 non-null float64\n",
      "latitude                  4296 non-null float64\n",
      "longitude                 4296 non-null float64\n",
      "address                   4296 non-null object\n",
      "Seattle_dist              4296 non-null float64\n",
      "Space_Needle_dist         4296 non-null float64\n",
      "Pike_Place_dist           4296 non-null float64\n",
      "Convention_Center_dist    4296 non-null float64\n",
      "Woodland_Park_dist        4296 non-null float64\n",
      "Queene_Anne_dist          4296 non-null float64\n",
      "INIT_Quarter              4296 non-null int64\n",
      "days_end_FY               4296 non-null int64\n",
      "INIT_month                4296 non-null int64\n",
      "neighborhood_label        4296 non-null category\n",
      "GEOID                     4296 non-null object\n",
      "GEO.id                    4296 non-null object\n",
      "GEO.display-label         4296 non-null object\n",
      "Median_Value              4296 non-null float64\n",
      "Margin_of_Error           4296 non-null float64\n",
      "SND_FEACOD                4296 non-null category\n",
      "ST_CODE                   4296 non-null category\n",
      "SEGMENT_TY                4296 non-null category\n",
      "DIVIDED_CO                4296 non-null category\n",
      "VEHICLE_US                4296 non-null category\n",
      "dtypes: category(6), datetime64[ns](3), float64(11), int64(5), object(6), timedelta64[ns](1)\n",
      "memory usage: 932.4+ KB\n"
     ]
    }
   ],
   "source": [
    "df.info()"
   ]
  },
  {
   "cell_type": "markdown",
   "metadata": {},
   "source": [
    "####Number of potholes could be more predictive of repair time.  Need to compute this."
   ]
  },
  {
   "cell_type": "code",
   "execution_count": 42,
   "metadata": {
    "collapsed": false
   },
   "outputs": [
    {
     "data": {
      "text/plain": [
       "INITDT_dt\n",
       "2010-03-15 07:00:00    2\n",
       "2010-03-16 07:00:00    2\n",
       "2010-03-19 07:00:00    1\n",
       "2010-03-22 07:00:00    3\n",
       "2010-03-24 07:00:00    5\n",
       "2010-03-26 07:00:00    2\n",
       "2010-03-27 07:00:00    2\n",
       "2010-03-29 07:00:00    2\n",
       "2010-03-30 07:00:00    1\n",
       "2010-03-31 07:00:00    1\n",
       "2010-04-02 07:00:00    1\n",
       "2010-04-05 07:00:00    1\n",
       "2010-04-06 07:00:00    2\n",
       "2010-04-08 07:00:00    2\n",
       "2010-04-12 07:00:00    5\n",
       "2010-04-14 07:00:00    1\n",
       "2010-04-15 07:00:00    1\n",
       "2010-04-16 07:00:00    1\n",
       "2010-04-17 07:00:00    1\n",
       "2010-04-19 07:00:00    7\n",
       "2010-04-20 07:00:00    2\n",
       "2010-04-21 07:00:00    2\n",
       "2010-04-22 07:00:00    3\n",
       "2010-04-23 07:00:00    2\n",
       "2010-04-26 07:00:00    4\n",
       "2010-04-27 07:00:00    3\n",
       "2010-04-28 07:00:00    2\n",
       "2010-04-29 07:00:00    2\n",
       "2010-04-30 07:00:00    2\n",
       "2010-05-03 07:00:00    3\n",
       "                      ..\n",
       "2015-07-18 07:00:00    1\n",
       "2015-07-20 07:00:00    1\n",
       "2015-07-21 07:00:00    1\n",
       "2015-07-22 07:00:00    1\n",
       "2015-07-23 07:00:00    1\n",
       "2015-07-24 07:00:00    4\n",
       "2015-07-27 07:00:00    2\n",
       "2015-07-28 07:00:00    1\n",
       "2015-07-29 07:00:00    5\n",
       "2015-07-30 07:00:00    1\n",
       "2015-07-31 07:00:00    2\n",
       "2015-08-01 07:00:00    1\n",
       "2015-08-02 07:00:00    1\n",
       "2015-08-03 07:00:00    1\n",
       "2015-08-05 07:00:00    1\n",
       "2015-08-06 07:00:00    2\n",
       "2015-08-07 07:00:00    4\n",
       "2015-08-11 07:00:00    2\n",
       "2015-08-12 07:00:00    3\n",
       "2015-08-13 07:00:00    1\n",
       "2015-08-14 07:00:00    2\n",
       "2015-08-16 07:00:00    1\n",
       "2015-08-17 07:00:00    1\n",
       "2015-08-18 07:00:00    2\n",
       "2015-08-19 07:00:00    1\n",
       "2015-08-20 07:00:00    2\n",
       "2015-08-21 07:00:00    2\n",
       "2015-08-22 07:00:00    2\n",
       "2015-08-23 07:00:00    1\n",
       "2015-08-24 07:00:00    1\n",
       "Name: OBJECTID, dtype: int64"
      ]
     },
     "execution_count": 42,
     "metadata": {},
     "output_type": "execute_result"
    }
   ],
   "source": [
    "df.groupby('INITDT_dt')['OBJECTID'].count()"
   ]
  },
  {
   "cell_type": "code",
   "execution_count": 46,
   "metadata": {
    "collapsed": false
   },
   "outputs": [],
   "source": [
    "df_number_potholes = pd.DataFrame(df.groupby('INITDT_dt')['OBJECTID'].count()).reset_index()"
   ]
  },
  {
   "cell_type": "code",
   "execution_count": 47,
   "metadata": {
    "collapsed": false
   },
   "outputs": [
    {
     "data": {
      "text/html": [
       "<div>\n",
       "<table border=\"1\" class=\"dataframe\">\n",
       "  <thead>\n",
       "    <tr style=\"text-align: right;\">\n",
       "      <th></th>\n",
       "      <th>INITDT_dt</th>\n",
       "      <th>OBJECTID</th>\n",
       "    </tr>\n",
       "  </thead>\n",
       "  <tbody>\n",
       "    <tr>\n",
       "      <th>0</th>\n",
       "      <td>2010-03-15 07:00:00</td>\n",
       "      <td>2</td>\n",
       "    </tr>\n",
       "    <tr>\n",
       "      <th>1</th>\n",
       "      <td>2010-03-16 07:00:00</td>\n",
       "      <td>2</td>\n",
       "    </tr>\n",
       "  </tbody>\n",
       "</table>\n",
       "</div>"
      ],
      "text/plain": [
       "            INITDT_dt  OBJECTID\n",
       "0 2010-03-15 07:00:00         2\n",
       "1 2010-03-16 07:00:00         2"
      ]
     },
     "execution_count": 47,
     "metadata": {},
     "output_type": "execute_result"
    }
   ],
   "source": [
    "df_number_potholes.head(2)"
   ]
  },
  {
   "cell_type": "code",
   "execution_count": 48,
   "metadata": {
    "collapsed": true
   },
   "outputs": [],
   "source": [
    "df_number_potholes.rename(columns={'OBJECTID': 'Number_potholes'}, inplace=True)"
   ]
  },
  {
   "cell_type": "code",
   "execution_count": 49,
   "metadata": {
    "collapsed": false
   },
   "outputs": [
    {
     "data": {
      "text/html": [
       "<div>\n",
       "<table border=\"1\" class=\"dataframe\">\n",
       "  <thead>\n",
       "    <tr style=\"text-align: right;\">\n",
       "      <th></th>\n",
       "      <th>INITDT_dt</th>\n",
       "      <th>Number_potholes</th>\n",
       "    </tr>\n",
       "  </thead>\n",
       "  <tbody>\n",
       "    <tr>\n",
       "      <th>0</th>\n",
       "      <td>2010-03-15 07:00:00</td>\n",
       "      <td>2</td>\n",
       "    </tr>\n",
       "    <tr>\n",
       "      <th>1</th>\n",
       "      <td>2010-03-16 07:00:00</td>\n",
       "      <td>2</td>\n",
       "    </tr>\n",
       "    <tr>\n",
       "      <th>2</th>\n",
       "      <td>2010-03-19 07:00:00</td>\n",
       "      <td>1</td>\n",
       "    </tr>\n",
       "    <tr>\n",
       "      <th>3</th>\n",
       "      <td>2010-03-22 07:00:00</td>\n",
       "      <td>3</td>\n",
       "    </tr>\n",
       "    <tr>\n",
       "      <th>4</th>\n",
       "      <td>2010-03-24 07:00:00</td>\n",
       "      <td>5</td>\n",
       "    </tr>\n",
       "  </tbody>\n",
       "</table>\n",
       "</div>"
      ],
      "text/plain": [
       "            INITDT_dt  Number_potholes\n",
       "0 2010-03-15 07:00:00                2\n",
       "1 2010-03-16 07:00:00                2\n",
       "2 2010-03-19 07:00:00                1\n",
       "3 2010-03-22 07:00:00                3\n",
       "4 2010-03-24 07:00:00                5"
      ]
     },
     "execution_count": 49,
     "metadata": {},
     "output_type": "execute_result"
    }
   ],
   "source": [
    "df_number_potholes.head()"
   ]
  },
  {
   "cell_type": "code",
   "execution_count": 50,
   "metadata": {
    "collapsed": false
   },
   "outputs": [
    {
     "name": "stdout",
     "output_type": "stream",
     "text": [
      "<class 'pandas.core.frame.DataFrame'>\n",
      "Int64Index: 1388 entries, 0 to 1387\n",
      "Data columns (total 2 columns):\n",
      "INITDT_dt          1388 non-null datetime64[ns]\n",
      "Number_potholes    1388 non-null int64\n",
      "dtypes: datetime64[ns](1), int64(1)\n",
      "memory usage: 32.5 KB\n"
     ]
    }
   ],
   "source": [
    "df_number_potholes.info()"
   ]
  },
  {
   "cell_type": "code",
   "execution_count": 52,
   "metadata": {
    "collapsed": false
   },
   "outputs": [],
   "source": [
    "df = pd.merge(df, df_number_potholes, how='left', on='INITDT_dt')"
   ]
  },
  {
   "cell_type": "markdown",
   "metadata": {},
   "source": [
    "I can do this with a join on a date column"
   ]
  },
  {
   "cell_type": "code",
   "execution_count": 53,
   "metadata": {
    "collapsed": false
   },
   "outputs": [
    {
     "name": "stdout",
     "output_type": "stream",
     "text": [
      "<class 'pandas.core.frame.DataFrame'>\n",
      "Int64Index: 4296 entries, 0 to 4295\n",
      "Data columns (total 33 columns):\n",
      "OBJECTID                  4296 non-null int64\n",
      "WOKEY                     4296 non-null int64\n",
      "LOCATION                  4296 non-null object\n",
      "ADDRDESC                  4296 non-null object\n",
      "INITDT_dt                 4296 non-null datetime64[ns]\n",
      "FLDSTARTDT_dt             4296 non-null datetime64[ns]\n",
      "FLDENDDT_dt               4296 non-null datetime64[ns]\n",
      "DURATION                  4296 non-null timedelta64[ns]\n",
      "DURATION_td               4296 non-null float64\n",
      "latitude                  4296 non-null float64\n",
      "longitude                 4296 non-null float64\n",
      "address                   4296 non-null object\n",
      "Seattle_dist              4296 non-null float64\n",
      "Space_Needle_dist         4296 non-null float64\n",
      "Pike_Place_dist           4296 non-null float64\n",
      "Convention_Center_dist    4296 non-null float64\n",
      "Woodland_Park_dist        4296 non-null float64\n",
      "Queene_Anne_dist          4296 non-null float64\n",
      "INIT_Quarter              4296 non-null int64\n",
      "days_end_FY               4296 non-null int64\n",
      "INIT_month                4296 non-null int64\n",
      "neighborhood_label        4296 non-null int64\n",
      "GEOID                     4296 non-null object\n",
      "GEO.id                    4296 non-null object\n",
      "GEO.display-label         4296 non-null object\n",
      "Median_Value              4296 non-null float64\n",
      "Margin_of_Error           4296 non-null float64\n",
      "SND_FEACOD                4296 non-null object\n",
      "ST_CODE                   4296 non-null object\n",
      "SEGMENT_TY                4296 non-null object\n",
      "DIVIDED_CO                4296 non-null object\n",
      "VEHICLE_US                4296 non-null object\n",
      "Number_potholes           4296 non-null int64\n",
      "dtypes: datetime64[ns](3), float64(11), int64(7), object(11), timedelta64[ns](1)\n",
      "memory usage: 1.1+ MB\n"
     ]
    }
   ],
   "source": [
    "df.info()"
   ]
  },
  {
   "cell_type": "markdown",
   "metadata": {},
   "source": [
    "####OK, now we want to produce a histogram of duration that I can use in presentation tomorrow"
   ]
  },
  {
   "cell_type": "code",
   "execution_count": 54,
   "metadata": {
    "collapsed": false
   },
   "outputs": [
    {
     "data": {
      "text/plain": [
       "<matplotlib.axes._subplots.AxesSubplot at 0x181a4cf8>"
      ]
     },
     "execution_count": 54,
     "metadata": {},
     "output_type": "execute_result"
    },
    {
     "data": {
      "image/png": "[encoded data removed]",
      "text/plain": [
       "<matplotlib.figure.Figure at 0x181b0dd8>"
      ]
     },
     "metadata": {},
     "output_type": "display_data"
    }
   ],
   "source": [
    "df.DURATION_td.plot(kind='hist', alpha=0.5, bins=50)"
   ]
  },
  {
   "cell_type": "code",
   "execution_count": 56,
   "metadata": {
    "collapsed": false
   },
   "outputs": [
    {
     "data": {
      "text/plain": [
       "pandas.core.series.Series"
      ]
     },
     "execution_count": 56,
     "metadata": {},
     "output_type": "execute_result"
    }
   ],
   "source": [
    "type(df.DURATION.value_counts())"
   ]
  },
  {
   "cell_type": "code",
   "execution_count": 57,
   "metadata": {
    "collapsed": false
   },
   "outputs": [
    {
     "data": {
      "text/plain": [
       "100"
      ]
     },
     "execution_count": 57,
     "metadata": {},
     "output_type": "execute_result"
    }
   ],
   "source": [
    "len(df.DURATION.value_counts())"
   ]
  },
  {
   "cell_type": "code",
   "execution_count": 59,
   "metadata": {
    "collapsed": false
   },
   "outputs": [
    {
     "data": {
      "text/plain": [
       "100L"
      ]
     },
     "execution_count": 59,
     "metadata": {},
     "output_type": "execute_result"
    }
   ],
   "source": [
    "df.DURATION.value_counts().shape[0]"
   ]
  },
  {
   "cell_type": "code",
   "execution_count": 61,
   "metadata": {
    "collapsed": false
   },
   "outputs": [
    {
     "data": {
      "text/plain": [
       "count     100.000000\n",
       "mean       42.960000\n",
       "std       160.328887\n",
       "min         1.000000\n",
       "25%         1.000000\n",
       "50%         4.000000\n",
       "75%        13.000000\n",
       "max      1344.000000\n",
       "dtype: float64"
      ]
     },
     "execution_count": 61,
     "metadata": {},
     "output_type": "execute_result"
    }
   ],
   "source": [
    "df.DURATION.value_counts().describe()"
   ]
  },
  {
   "cell_type": "code",
   "execution_count": 63,
   "metadata": {
    "collapsed": false
   },
   "outputs": [
    {
     "data": {
      "text/plain": [
       "TimedeltaIndex([  '1 days 00:00:00',   '2 days 00:00:00',   '3 days 00:00:00',\n",
       "                  '4 days 00:00:00',   '5 days 00:00:00',   '6 days 00:00:00',\n",
       "                  '7 days 00:00:00',   '8 days 00:00:00',   '9 days 00:00:00',\n",
       "                 '10 days 00:00:00',  '11 days 00:00:00',  '13 days 00:00:00',\n",
       "                 '12 days 00:00:00',  '14 days 00:00:00',  '17 days 00:00:00',\n",
       "                 '16 days 00:00:00',  '20 days 00:00:00',  '15 days 00:00:00',\n",
       "                 '21 days 00:00:00',  '18 days 00:00:00',  '19 days 00:00:00',\n",
       "                 '22 days 00:00:00',  '23 days 00:00:00',  '32 days 00:00:00',\n",
       "                 '26 days 00:00:00',  '28 days 00:00:00',   '2 days 23:00:00',\n",
       "                 '30 days 00:00:00',  '27 days 00:00:00',  '24 days 00:00:00',\n",
       "                 '31 days 00:00:00',   '3 days 23:00:00',  '29 days 00:00:00',\n",
       "                 '25 days 00:00:00',  '36 days 00:00:00',   '5 days 23:00:00',\n",
       "                 '38 days 00:00:00',  '45 days 00:00:00',  '35 days 00:00:00',\n",
       "                  '6 days 01:00:00',   '1 days 23:00:00',  '49 days 00:00:00',\n",
       "                  '4 days 23:00:00',  '44 days 00:00:00',  '40 days 00:00:00',\n",
       "                 '56 days 00:00:00',  '43 days 00:00:00',  '39 days 00:00:00',\n",
       "                 '42 days 00:00:00',  '52 days 00:00:00',  '50 days 00:00:00',\n",
       "                 '34 days 00:00:00',  '33 days 00:00:00',   '3 days 01:00:00',\n",
       "                 '12 days 23:00:00',  '37 days 00:00:00',  '48 days 00:00:00',\n",
       "                  '4 days 01:00:00',  '54 days 00:00:00',  '83 days 23:00:00',\n",
       "                 '58 days 00:00:00',  '14 days 23:00:00',  '13 days 01:00:00',\n",
       "                  '9 days 23:00:00',  '19 days 23:00:00',  '60 days 00:00:00',\n",
       "                  '7 days 01:00:00',  '34 days 23:00:00',  '59 days 00:00:00',\n",
       "                 '10 days 23:00:00',  '47 days 00:00:00',  '20 days 23:00:00',\n",
       "                 '55 days 00:00:00',  '47 days 23:00:00',  '33 days 23:00:00',\n",
       "                 '26 days 23:00:00',  '74 days 00:00:00',  '63 days 01:00:00',\n",
       "                 '53 days 00:00:00',  '11 days 23:00:00',  '61 days 00:00:00',\n",
       "                 '39 days 23:00:00',  '17 days 01:00:00', '307 days 00:00:00',\n",
       "                 '61 days 23:00:00',   '5 days 01:00:00',  '23 days 23:00:00',\n",
       "                '103 days 23:00:00',  '51 days 00:00:00',  '64 days 00:00:00',\n",
       "                 '33 days 01:00:00',  '50 days 23:00:00',  '53 days 23:00:00',\n",
       "                  '6 days 23:00:00',  '90 days 00:00:00',  '46 days 00:00:00',\n",
       "                 '10 days 01:00:00',  '41 days 00:00:00',  '63 days 00:00:00',\n",
       "                 '57 days 00:00:00'],\n",
       "               dtype='timedelta64[ns]', freq=None)"
      ]
     },
     "execution_count": 63,
     "metadata": {},
     "output_type": "execute_result"
    }
   ],
   "source": [
    "df.DURATION.value_counts().index"
   ]
  },
  {
   "cell_type": "code",
   "execution_count": 77,
   "metadata": {
    "collapsed": false
   },
   "outputs": [
    {
     "data": {
      "text/plain": [
       "Timedelta('307 days 00:00:00')"
      ]
     },
     "execution_count": 77,
     "metadata": {},
     "output_type": "execute_result"
    }
   ],
   "source": [
    "df.DURATION.value_counts().index.max()"
   ]
  },
  {
   "cell_type": "code",
   "execution_count": 79,
   "metadata": {
    "collapsed": false
   },
   "outputs": [
    {
     "data": {
      "text/plain": [
       "TimedeltaIndex([  '1 days 00:00:00',   '1 days 23:00:00',   '2 days 00:00:00',\n",
       "                  '2 days 23:00:00',   '3 days 00:00:00',   '3 days 01:00:00',\n",
       "                  '3 days 23:00:00',   '4 days 00:00:00',   '4 days 01:00:00',\n",
       "                  '4 days 23:00:00',   '5 days 00:00:00',   '5 days 01:00:00',\n",
       "                  '5 days 23:00:00',   '6 days 00:00:00',   '6 days 01:00:00',\n",
       "                  '6 days 23:00:00',   '7 days 00:00:00',   '7 days 01:00:00',\n",
       "                  '8 days 00:00:00',   '9 days 00:00:00',   '9 days 23:00:00',\n",
       "                 '10 days 00:00:00',  '10 days 01:00:00',  '10 days 23:00:00',\n",
       "                 '11 days 00:00:00',  '11 days 23:00:00',  '12 days 00:00:00',\n",
       "                 '12 days 23:00:00',  '13 days 00:00:00',  '13 days 01:00:00',\n",
       "                 '14 days 00:00:00',  '14 days 23:00:00',  '15 days 00:00:00',\n",
       "                 '16 days 00:00:00',  '17 days 00:00:00',  '17 days 01:00:00',\n",
       "                 '18 days 00:00:00',  '19 days 00:00:00',  '19 days 23:00:00',\n",
       "                 '20 days 00:00:00',  '20 days 23:00:00',  '21 days 00:00:00',\n",
       "                 '22 days 00:00:00',  '23 days 00:00:00',  '23 days 23:00:00',\n",
       "                 '24 days 00:00:00',  '25 days 00:00:00',  '26 days 00:00:00',\n",
       "                 '26 days 23:00:00',  '27 days 00:00:00',  '28 days 00:00:00',\n",
       "                 '29 days 00:00:00',  '30 days 00:00:00',  '31 days 00:00:00',\n",
       "                 '32 days 00:00:00',  '33 days 00:00:00',  '33 days 01:00:00',\n",
       "                 '33 days 23:00:00',  '34 days 00:00:00',  '34 days 23:00:00',\n",
       "                 '35 days 00:00:00',  '36 days 00:00:00',  '37 days 00:00:00',\n",
       "                 '38 days 00:00:00',  '39 days 00:00:00',  '39 days 23:00:00',\n",
       "                 '40 days 00:00:00',  '41 days 00:00:00',  '42 days 00:00:00',\n",
       "                 '43 days 00:00:00',  '44 days 00:00:00',  '45 days 00:00:00',\n",
       "                 '46 days 00:00:00',  '47 days 00:00:00',  '47 days 23:00:00',\n",
       "                 '48 days 00:00:00',  '49 days 00:00:00',  '50 days 00:00:00',\n",
       "                 '50 days 23:00:00',  '51 days 00:00:00',  '52 days 00:00:00',\n",
       "                 '53 days 00:00:00',  '53 days 23:00:00',  '54 days 00:00:00',\n",
       "                 '55 days 00:00:00',  '56 days 00:00:00',  '57 days 00:00:00',\n",
       "                 '58 days 00:00:00',  '59 days 00:00:00',  '60 days 00:00:00',\n",
       "                 '61 days 00:00:00',  '61 days 23:00:00',  '63 days 00:00:00',\n",
       "                 '63 days 01:00:00',  '64 days 00:00:00',  '74 days 00:00:00',\n",
       "                 '83 days 23:00:00',  '90 days 00:00:00', '103 days 23:00:00',\n",
       "                '307 days 00:00:00'],\n",
       "               dtype='timedelta64[ns]', freq=None)"
      ]
     },
     "execution_count": 79,
     "metadata": {},
     "output_type": "execute_result"
    }
   ],
   "source": [
    "df.DURATION.value_counts().index.order()"
   ]
  },
  {
   "cell_type": "markdown",
   "metadata": {},
   "source": [
    "1. Very outlier heavy data.  How many do I remove?  What is the impact of different removal thresholds?  Compute some percentiles and cut off the top 5%.\n",
    "2. Real data."
   ]
  },
  {
   "cell_type": "code",
   "execution_count": 80,
   "metadata": {
    "collapsed": false
   },
   "outputs": [
    {
     "data": {
      "text/plain": [
       "count                       4296\n",
       "mean      5 days 21:11:27.150837\n",
       "std      10 days 00:54:19.206920\n",
       "min              1 days 00:00:00\n",
       "25%              1 days 00:00:00\n",
       "50%              3 days 00:00:00\n",
       "75%              6 days 00:00:00\n",
       "max            307 days 00:00:00\n",
       "Name: DURATION, dtype: object"
      ]
     },
     "execution_count": 80,
     "metadata": {},
     "output_type": "execute_result"
    }
   ],
   "source": [
    "df.DURATION.describe()"
   ]
  },
  {
   "cell_type": "code",
   "execution_count": 81,
   "metadata": {
    "collapsed": false
   },
   "outputs": [
    {
     "data": {
      "text/plain": [
       "count    4296.000000\n",
       "mean        5.868482\n",
       "std        10.023752\n",
       "min         1.000000\n",
       "25%         1.000000\n",
       "50%         3.000000\n",
       "75%         6.000000\n",
       "max       307.000000\n",
       "Name: DURATION_td, dtype: float64"
      ]
     },
     "execution_count": 81,
     "metadata": {},
     "output_type": "execute_result"
    }
   ],
   "source": [
    "df.DURATION_td.describe()"
   ]
  },
  {
   "cell_type": "code",
   "execution_count": 83,
   "metadata": {
    "collapsed": false
   },
   "outputs": [
    {
     "data": {
      "text/plain": [
       "(23.0, Timedelta('23 days 00:00:00'))"
      ]
     },
     "execution_count": 83,
     "metadata": {},
     "output_type": "execute_result"
    }
   ],
   "source": [
    "df.DURATION_td.quantile(0.95), df.DURATION.quantile(0.95)"
   ]
  },
  {
   "cell_type": "code",
   "execution_count": 84,
   "metadata": {
    "collapsed": false
   },
   "outputs": [
    {
     "data": {
      "text/plain": [
       "(49.0, Timedelta('49 days 00:00:00'))"
      ]
     },
     "execution_count": 84,
     "metadata": {},
     "output_type": "execute_result"
    }
   ],
   "source": [
    "df.DURATION_td.quantile(0.99), df.DURATION.quantile(0.99)"
   ]
  },
  {
   "cell_type": "markdown",
   "metadata": {},
   "source": [
    "Predict several target variables because of the extreme skewness of the data:\n",
    "1. 95% quantile and below\n",
    "2. Interquartile (25% - 75%)\n",
    "3. all the data\n",
    "4. Short \n",
    "5. Long repairs \n",
    "6. classification of short vs. long"
   ]
  },
  {
   "cell_type": "code",
   "execution_count": 89,
   "metadata": {
    "collapsed": false
   },
   "outputs": [],
   "source": [
    "df['b_DURATION_td_95'] = df.DURATION_td < df.DURATION_td.quantile(.95)"
   ]
  },
  {
   "cell_type": "code",
   "execution_count": 95,
   "metadata": {
    "collapsed": false
   },
   "outputs": [],
   "source": [
    "df['b_DURATION_td_IQuart'] = (df.DURATION_td < df.DURATION_td.quantile(.75)) & (df.DURATION_td > df.DURATION_td.quantile(.25))"
   ]
  },
  {
   "cell_type": "code",
   "execution_count": 85,
   "metadata": {
    "collapsed": false
   },
   "outputs": [
    {
     "data": {
      "text/plain": [
       "(80.345000000007531, Timedelta('81 days 00:29:42.000000'))"
      ]
     },
     "execution_count": 85,
     "metadata": {},
     "output_type": "execute_result"
    }
   ],
   "source": [
    "df.DURATION_td.quantile(0.999), df.DURATION.quantile(0.999)"
   ]
  },
  {
   "cell_type": "code",
   "execution_count": 67,
   "metadata": {
    "collapsed": false
   },
   "outputs": [
    {
     "data": {
      "text/plain": [
       "(1856, 33)"
      ]
     },
     "execution_count": 67,
     "metadata": {},
     "output_type": "execute_result"
    }
   ],
   "source": [
    "df[df.DURATION > '3 days'].shape"
   ]
  },
  {
   "cell_type": "code",
   "execution_count": 68,
   "metadata": {
    "collapsed": false
   },
   "outputs": [
    {
     "data": {
      "text/plain": [
       "(1950, 33)"
      ]
     },
     "execution_count": 68,
     "metadata": {},
     "output_type": "execute_result"
    }
   ],
   "source": [
    "df[df.DURATION < '3 days'].shape"
   ]
  },
  {
   "cell_type": "code",
   "execution_count": 69,
   "metadata": {
    "collapsed": false
   },
   "outputs": [
    {
     "data": {
      "text/plain": [
       "(4296, 33)"
      ]
     },
     "execution_count": 69,
     "metadata": {},
     "output_type": "execute_result"
    }
   ],
   "source": [
    "df.shape"
   ]
  },
  {
   "cell_type": "code",
   "execution_count": 70,
   "metadata": {
    "collapsed": false
   },
   "outputs": [
    {
     "data": {
      "text/plain": [
       "3806"
      ]
     },
     "execution_count": 70,
     "metadata": {},
     "output_type": "execute_result"
    }
   ],
   "source": [
    "1856+1950"
   ]
  },
  {
   "cell_type": "code",
   "execution_count": 71,
   "metadata": {
    "collapsed": false
   },
   "outputs": [
    {
     "data": {
      "text/plain": [
       "(1845, 33)"
      ]
     },
     "execution_count": 71,
     "metadata": {},
     "output_type": "execute_result"
    }
   ],
   "source": [
    "df[df.DURATION_td > 3].shape"
   ]
  },
  {
   "cell_type": "code",
   "execution_count": 72,
   "metadata": {
    "collapsed": false
   },
   "outputs": [
    {
     "data": {
      "text/plain": [
       "(2451, 33)"
      ]
     },
     "execution_count": 72,
     "metadata": {},
     "output_type": "execute_result"
    }
   ],
   "source": [
    "df[df.DURATION_td <= 3].shape"
   ]
  },
  {
   "cell_type": "code",
   "execution_count": 73,
   "metadata": {
    "collapsed": false
   },
   "outputs": [
    {
     "data": {
      "text/plain": [
       "(2440, 33)"
      ]
     },
     "execution_count": 73,
     "metadata": {},
     "output_type": "execute_result"
    }
   ],
   "source": [
    "df[df.DURATION <= '3 days'].shape"
   ]
  },
  {
   "cell_type": "code",
   "execution_count": 74,
   "metadata": {
    "collapsed": true
   },
   "outputs": [],
   "source": [
    "df['b_long_repair'] = df.DURATION_td > 3"
   ]
  },
  {
   "cell_type": "code",
   "execution_count": 75,
   "metadata": {
    "collapsed": false
   },
   "outputs": [
    {
     "data": {
      "text/plain": [
       "False    2451\n",
       "True     1845\n",
       "dtype: int64"
      ]
     },
     "execution_count": 75,
     "metadata": {},
     "output_type": "execute_result"
    }
   ],
   "source": [
    "df.b_long_repair.value_counts()"
   ]
  },
  {
   "cell_type": "code",
   "execution_count": 76,
   "metadata": {
    "collapsed": false
   },
   "outputs": [
    {
     "data": {
      "text/plain": [
       "<matplotlib.axes._subplots.AxesSubplot at 0x181b0a58>"
      ]
     },
     "execution_count": 76,
     "metadata": {},
     "output_type": "execute_result"
    },
    {
     "data": {
      "image/png": "[encoded data removed]",
      "text/plain": [
       "<matplotlib.figure.Figure at 0x181b0908>"
      ]
     },
     "metadata": {},
     "output_type": "display_data"
    }
   ],
   "source": [
    "df.boxplot('DURATION_td', by = 'b_long_repair')"
   ]
  },
  {
   "cell_type": "markdown",
   "metadata": {},
   "source": [
    "####Permanently get rid of the values above the 95% percentile"
   ]
  },
  {
   "cell_type": "code",
   "execution_count": 114,
   "metadata": {
    "collapsed": true
   },
   "outputs": [],
   "source": [
    "df = df[df.DURATION_td < df.DURATION_td.quantile(.95)]"
   ]
  },
  {
   "cell_type": "code",
   "execution_count": 116,
   "metadata": {
    "collapsed": false
   },
   "outputs": [
    {
     "data": {
      "text/plain": [
       "(4074, 36)"
      ]
     },
     "execution_count": 116,
     "metadata": {},
     "output_type": "execute_result"
    }
   ],
   "source": [
    "df.shape"
   ]
  },
  {
   "cell_type": "code",
   "execution_count": 115,
   "metadata": {
    "collapsed": false
   },
   "outputs": [
    {
     "data": {
      "text/plain": [
       "b_long_repair       \n",
       "False          count    2451.000000\n",
       "               mean        1.654019\n",
       "               std         0.797089\n",
       "               min         1.000000\n",
       "               25%         1.000000\n",
       "               50%         1.000000\n",
       "               75%         2.000000\n",
       "               max         3.000000\n",
       "True           count    1623.000000\n",
       "               mean        7.770179\n",
       "               std         4.546192\n",
       "               min         4.000000\n",
       "               25%         5.000000\n",
       "               50%         6.000000\n",
       "               75%         9.000000\n",
       "               max        22.000000\n",
       "dtype: float64"
      ]
     },
     "execution_count": 115,
     "metadata": {},
     "output_type": "execute_result"
    }
   ],
   "source": [
    "df.groupby('b_long_repair')['DURATION_td'].describe()"
   ]
  },
  {
   "cell_type": "code",
   "execution_count": 117,
   "metadata": {
    "collapsed": false
   },
   "outputs": [
    {
     "data": {
      "text/plain": [
       "<matplotlib.axes._subplots.AxesSubplot at 0x19694208>"
      ]
     },
     "execution_count": 117,
     "metadata": {},
     "output_type": "execute_result"
    },
    {
     "data": {
      "image/png": "[encoded data removed]",
      "text/plain": [
       "<matplotlib.figure.Figure at 0x192321d0>"
      ]
     },
     "metadata": {},
     "output_type": "display_data"
    }
   ],
   "source": [
    "df.boxplot('DURATION_td', by = 'b_long_repair')"
   ]
  },
  {
   "cell_type": "code",
   "execution_count": 143,
   "metadata": {
    "collapsed": false
   },
   "outputs": [
    {
     "data": {
      "image/png": "[encoded data removed]",
      "text/plain": [
       "<matplotlib.figure.Figure at 0x1ee3dd68>"
      ]
     },
     "metadata": {},
     "output_type": "display_data"
    }
   ],
   "source": [
    "fig = plt.figure()\n",
    "ax = fig.add_subplot(111)\n",
    "plt.boxplot([df['DURATION_td'][df['b_long_repair'] == True], df['DURATION_td'][df['b_long_repair'] == False]])\n",
    "plt.savefig('bar_long_repair.png')"
   ]
  },
  {
   "cell_type": "code",
   "execution_count": null,
   "metadata": {
    "collapsed": true
   },
   "outputs": [],
   "source": []
  },
  {
   "cell_type": "code",
   "execution_count": 118,
   "metadata": {
    "collapsed": false
   },
   "outputs": [
    {
     "data": {
      "text/html": [
       "<div>\n",
       "<table border=\"1\" class=\"dataframe\">\n",
       "  <thead>\n",
       "    <tr>\n",
       "      <th>b_long_repair</th>\n",
       "      <th colspan=\"8\" halign=\"left\">False</th>\n",
       "      <th colspan=\"8\" halign=\"left\">True</th>\n",
       "    </tr>\n",
       "    <tr>\n",
       "      <th></th>\n",
       "      <th>count</th>\n",
       "      <th>mean</th>\n",
       "      <th>std</th>\n",
       "      <th>min</th>\n",
       "      <th>25%</th>\n",
       "      <th>50%</th>\n",
       "      <th>75%</th>\n",
       "      <th>max</th>\n",
       "      <th>count</th>\n",
       "      <th>mean</th>\n",
       "      <th>std</th>\n",
       "      <th>min</th>\n",
       "      <th>25%</th>\n",
       "      <th>50%</th>\n",
       "      <th>75%</th>\n",
       "      <th>max</th>\n",
       "    </tr>\n",
       "  </thead>\n",
       "  <tbody>\n",
       "    <tr>\n",
       "      <th>Convention_Center_dist</th>\n",
       "      <td>2451</td>\n",
       "      <td>4.082763</td>\n",
       "      <td>2.259029</td>\n",
       "      <td>0.05907421</td>\n",
       "      <td>1.984571</td>\n",
       "      <td>4.180978</td>\n",
       "      <td>5.87906</td>\n",
       "      <td>8.584342</td>\n",
       "      <td>1623</td>\n",
       "      <td>4.199786</td>\n",
       "      <td>2.234456</td>\n",
       "      <td>0.07096169</td>\n",
       "      <td>2.113485</td>\n",
       "      <td>4.308802</td>\n",
       "      <td>6.03614</td>\n",
       "      <td>8.586268</td>\n",
       "    </tr>\n",
       "    <tr>\n",
       "      <th>DURATION</th>\n",
       "      <td>2451</td>\n",
       "      <td>1 days 15:55:56.181150</td>\n",
       "      <td>0 days 19:24:25.397507</td>\n",
       "      <td>1 days 00:00:00</td>\n",
       "      <td>1 days 00:00:00</td>\n",
       "      <td>1 days 00:00:00</td>\n",
       "      <td>2 days 00:00:00</td>\n",
       "      <td>3 days 23:00:00</td>\n",
       "      <td>1623</td>\n",
       "      <td>7 days 18:51:43.142329</td>\n",
       "      <td>4 days 13:17:11.955375</td>\n",
       "      <td>4 days 00:00:00</td>\n",
       "      <td>5 days 00:00:00</td>\n",
       "      <td>6 days 00:00:00</td>\n",
       "      <td>9 days 00:00:00</td>\n",
       "      <td>22 days 00:00:00</td>\n",
       "    </tr>\n",
       "    <tr>\n",
       "      <th>DURATION_td</th>\n",
       "      <td>2451</td>\n",
       "      <td>1.654019</td>\n",
       "      <td>0.7970886</td>\n",
       "      <td>1</td>\n",
       "      <td>1</td>\n",
       "      <td>1</td>\n",
       "      <td>2</td>\n",
       "      <td>3</td>\n",
       "      <td>1623</td>\n",
       "      <td>7.770179</td>\n",
       "      <td>4.546192</td>\n",
       "      <td>4</td>\n",
       "      <td>5</td>\n",
       "      <td>6</td>\n",
       "      <td>9</td>\n",
       "      <td>22</td>\n",
       "    </tr>\n",
       "    <tr>\n",
       "      <th>INIT_Quarter</th>\n",
       "      <td>2451</td>\n",
       "      <td>2.099959</td>\n",
       "      <td>1.137579</td>\n",
       "      <td>1</td>\n",
       "      <td>1</td>\n",
       "      <td>2</td>\n",
       "      <td>3</td>\n",
       "      <td>4</td>\n",
       "      <td>1623</td>\n",
       "      <td>2.067776</td>\n",
       "      <td>1.113349</td>\n",
       "      <td>1</td>\n",
       "      <td>1</td>\n",
       "      <td>2</td>\n",
       "      <td>3</td>\n",
       "      <td>4</td>\n",
       "    </tr>\n",
       "    <tr>\n",
       "      <th>INIT_month</th>\n",
       "      <td>2451</td>\n",
       "      <td>5.312118</td>\n",
       "      <td>3.543101</td>\n",
       "      <td>1</td>\n",
       "      <td>3</td>\n",
       "      <td>4</td>\n",
       "      <td>8</td>\n",
       "      <td>12</td>\n",
       "      <td>1623</td>\n",
       "      <td>5.144177</td>\n",
       "      <td>3.593927</td>\n",
       "      <td>1</td>\n",
       "      <td>2</td>\n",
       "      <td>4</td>\n",
       "      <td>8</td>\n",
       "      <td>12</td>\n",
       "    </tr>\n",
       "    <tr>\n",
       "      <th>Margin_of_Error</th>\n",
       "      <td>2451</td>\n",
       "      <td>71709.56</td>\n",
       "      <td>67251.3</td>\n",
       "      <td>7920</td>\n",
       "      <td>32637</td>\n",
       "      <td>50586</td>\n",
       "      <td>83015</td>\n",
       "      <td>649096</td>\n",
       "      <td>1623</td>\n",
       "      <td>73387.04</td>\n",
       "      <td>72737.61</td>\n",
       "      <td>7920</td>\n",
       "      <td>34911</td>\n",
       "      <td>52281</td>\n",
       "      <td>80982.5</td>\n",
       "      <td>726639</td>\n",
       "    </tr>\n",
       "    <tr>\n",
       "      <th>Median_Value</th>\n",
       "      <td>2451</td>\n",
       "      <td>422868.7</td>\n",
       "      <td>151042.7</td>\n",
       "      <td>162800</td>\n",
       "      <td>327700</td>\n",
       "      <td>378400</td>\n",
       "      <td>477100</td>\n",
       "      <td>984200</td>\n",
       "      <td>1623</td>\n",
       "      <td>434650.6</td>\n",
       "      <td>152145.3</td>\n",
       "      <td>162800</td>\n",
       "      <td>328800</td>\n",
       "      <td>384200</td>\n",
       "      <td>497800</td>\n",
       "      <td>984200</td>\n",
       "    </tr>\n",
       "    <tr>\n",
       "      <th>Number_potholes</th>\n",
       "      <td>2451</td>\n",
       "      <td>5.082415</td>\n",
       "      <td>4.482499</td>\n",
       "      <td>1</td>\n",
       "      <td>2</td>\n",
       "      <td>4</td>\n",
       "      <td>6</td>\n",
       "      <td>44</td>\n",
       "      <td>1623</td>\n",
       "      <td>6.701171</td>\n",
       "      <td>7.311717</td>\n",
       "      <td>1</td>\n",
       "      <td>3</td>\n",
       "      <td>5</td>\n",
       "      <td>8</td>\n",
       "      <td>44</td>\n",
       "    </tr>\n",
       "    <tr>\n",
       "      <th>OBJECTID</th>\n",
       "      <td>2451</td>\n",
       "      <td>3714.835</td>\n",
       "      <td>2228.891</td>\n",
       "      <td>3</td>\n",
       "      <td>1742.5</td>\n",
       "      <td>3772</td>\n",
       "      <td>5586.5</td>\n",
       "      <td>7500</td>\n",
       "      <td>1623</td>\n",
       "      <td>3707.005</td>\n",
       "      <td>2162.779</td>\n",
       "      <td>1</td>\n",
       "      <td>1783.5</td>\n",
       "      <td>3620</td>\n",
       "      <td>5691.5</td>\n",
       "      <td>7498</td>\n",
       "    </tr>\n",
       "    <tr>\n",
       "      <th>Pike_Place_dist</th>\n",
       "      <td>2451</td>\n",
       "      <td>4.161072</td>\n",
       "      <td>2.203337</td>\n",
       "      <td>0.1344163</td>\n",
       "      <td>2.316505</td>\n",
       "      <td>4.089365</td>\n",
       "      <td>5.868099</td>\n",
       "      <td>8.73122</td>\n",
       "      <td>1623</td>\n",
       "      <td>4.295862</td>\n",
       "      <td>2.18353</td>\n",
       "      <td>0.1178035</td>\n",
       "      <td>2.392454</td>\n",
       "      <td>4.300737</td>\n",
       "      <td>6.091023</td>\n",
       "      <td>8.746878</td>\n",
       "    </tr>\n",
       "    <tr>\n",
       "      <th>Queene_Anne_dist</th>\n",
       "      <td>2451</td>\n",
       "      <td>4.329218</td>\n",
       "      <td>2.075875</td>\n",
       "      <td>0.1769855</td>\n",
       "      <td>2.632563</td>\n",
       "      <td>4.278025</td>\n",
       "      <td>5.821701</td>\n",
       "      <td>10.50264</td>\n",
       "      <td>1623</td>\n",
       "      <td>4.129372</td>\n",
       "      <td>2.026015</td>\n",
       "      <td>0.1769855</td>\n",
       "      <td>2.573505</td>\n",
       "      <td>3.963687</td>\n",
       "      <td>5.584768</td>\n",
       "      <td>10.46154</td>\n",
       "    </tr>\n",
       "    <tr>\n",
       "      <th>Seattle_dist</th>\n",
       "      <td>2451</td>\n",
       "      <td>4.147149</td>\n",
       "      <td>2.313797</td>\n",
       "      <td>0.1331334</td>\n",
       "      <td>2.135162</td>\n",
       "      <td>4.093667</td>\n",
       "      <td>6.072053</td>\n",
       "      <td>8.935073</td>\n",
       "      <td>1623</td>\n",
       "      <td>4.320204</td>\n",
       "      <td>2.302678</td>\n",
       "      <td>0.1331334</td>\n",
       "      <td>2.250195</td>\n",
       "      <td>4.36761</td>\n",
       "      <td>6.240234</td>\n",
       "      <td>8.937087</td>\n",
       "    </tr>\n",
       "    <tr>\n",
       "      <th>Space_Needle_dist</th>\n",
       "      <td>2451</td>\n",
       "      <td>4.159927</td>\n",
       "      <td>2.067156</td>\n",
       "      <td>0.07832898</td>\n",
       "      <td>2.341944</td>\n",
       "      <td>4.240454</td>\n",
       "      <td>5.853173</td>\n",
       "      <td>9.270861</td>\n",
       "      <td>1623</td>\n",
       "      <td>4.166374</td>\n",
       "      <td>2.031751</td>\n",
       "      <td>0.1361682</td>\n",
       "      <td>2.379359</td>\n",
       "      <td>4.220832</td>\n",
       "      <td>5.923532</td>\n",
       "      <td>9.228337</td>\n",
       "    </tr>\n",
       "    <tr>\n",
       "      <th>WOKEY</th>\n",
       "      <td>2451</td>\n",
       "      <td>202370</td>\n",
       "      <td>108304</td>\n",
       "      <td>1591</td>\n",
       "      <td>101472.5</td>\n",
       "      <td>198283</td>\n",
       "      <td>308774.5</td>\n",
       "      <td>379593</td>\n",
       "      <td>1623</td>\n",
       "      <td>165290.4</td>\n",
       "      <td>114218.3</td>\n",
       "      <td>1959</td>\n",
       "      <td>54098.5</td>\n",
       "      <td>119289</td>\n",
       "      <td>273479.5</td>\n",
       "      <td>379227</td>\n",
       "    </tr>\n",
       "    <tr>\n",
       "      <th>Woodland_Park_dist</th>\n",
       "      <td>2451</td>\n",
       "      <td>4.87295</td>\n",
       "      <td>2.702797</td>\n",
       "      <td>0.1887608</td>\n",
       "      <td>2.846609</td>\n",
       "      <td>4.081696</td>\n",
       "      <td>7.033245</td>\n",
       "      <td>12.41568</td>\n",
       "      <td>1623</td>\n",
       "      <td>4.36747</td>\n",
       "      <td>2.597894</td>\n",
       "      <td>0.339532</td>\n",
       "      <td>2.476448</td>\n",
       "      <td>3.623119</td>\n",
       "      <td>5.821933</td>\n",
       "      <td>12.38429</td>\n",
       "    </tr>\n",
       "    <tr>\n",
       "      <th>b_DURATION_td_95</th>\n",
       "      <td>2451</td>\n",
       "      <td>1</td>\n",
       "      <td>0</td>\n",
       "      <td>True</td>\n",
       "      <td>1</td>\n",
       "      <td>1</td>\n",
       "      <td>1</td>\n",
       "      <td>True</td>\n",
       "      <td>1623</td>\n",
       "      <td>1</td>\n",
       "      <td>0</td>\n",
       "      <td>True</td>\n",
       "      <td>1</td>\n",
       "      <td>1</td>\n",
       "      <td>1</td>\n",
       "      <td>True</td>\n",
       "    </tr>\n",
       "    <tr>\n",
       "      <th>b_DURATION_td_IQuart</th>\n",
       "      <td>2451</td>\n",
       "      <td>0.4496124</td>\n",
       "      <td>0.4975561</td>\n",
       "      <td>False</td>\n",
       "      <td>0</td>\n",
       "      <td>0</td>\n",
       "      <td>1</td>\n",
       "      <td>True</td>\n",
       "      <td>1623</td>\n",
       "      <td>0.4226741</td>\n",
       "      <td>0.4941368</td>\n",
       "      <td>False</td>\n",
       "      <td>0</td>\n",
       "      <td>0</td>\n",
       "      <td>1</td>\n",
       "      <td>True</td>\n",
       "    </tr>\n",
       "    <tr>\n",
       "      <th>days_end_FY</th>\n",
       "      <td>2451</td>\n",
       "      <td>0.6878825</td>\n",
       "      <td>3.543101</td>\n",
       "      <td>-6</td>\n",
       "      <td>-2</td>\n",
       "      <td>2</td>\n",
       "      <td>3</td>\n",
       "      <td>5</td>\n",
       "      <td>1623</td>\n",
       "      <td>0.8558226</td>\n",
       "      <td>3.593927</td>\n",
       "      <td>-6</td>\n",
       "      <td>-2</td>\n",
       "      <td>2</td>\n",
       "      <td>4</td>\n",
       "      <td>5</td>\n",
       "    </tr>\n",
       "    <tr>\n",
       "      <th>latitude</th>\n",
       "      <td>2451</td>\n",
       "      <td>47.62462</td>\n",
       "      <td>0.06190514</td>\n",
       "      <td>47.49939</td>\n",
       "      <td>47.57027</td>\n",
       "      <td>47.62286</td>\n",
       "      <td>47.68356</td>\n",
       "      <td>47.73412</td>\n",
       "      <td>1623</td>\n",
       "      <td>47.63583</td>\n",
       "      <td>0.0601644</td>\n",
       "      <td>47.49927</td>\n",
       "      <td>47.58782</td>\n",
       "      <td>47.636</td>\n",
       "      <td>47.69115</td>\n",
       "      <td>47.73412</td>\n",
       "    </tr>\n",
       "    <tr>\n",
       "      <th>longitude</th>\n",
       "      <td>2451</td>\n",
       "      <td>-122.3332</td>\n",
       "      <td>0.03482849</td>\n",
       "      <td>-122.4181</td>\n",
       "      <td>-122.3647</td>\n",
       "      <td>-122.3289</td>\n",
       "      <td>-122.3044</td>\n",
       "      <td>-122.249</td>\n",
       "      <td>1623</td>\n",
       "      <td>-122.3328</td>\n",
       "      <td>0.03390615</td>\n",
       "      <td>-122.4163</td>\n",
       "      <td>-122.362</td>\n",
       "      <td>-122.3296</td>\n",
       "      <td>-122.3041</td>\n",
       "      <td>-122.249</td>\n",
       "    </tr>\n",
       "    <tr>\n",
       "      <th>neighborhood_label</th>\n",
       "      <td>2451</td>\n",
       "      <td>78.17544</td>\n",
       "      <td>26.11565</td>\n",
       "      <td>27</td>\n",
       "      <td>57</td>\n",
       "      <td>80</td>\n",
       "      <td>101</td>\n",
       "      <td>119</td>\n",
       "      <td>1623</td>\n",
       "      <td>78.09304</td>\n",
       "      <td>28.38379</td>\n",
       "      <td>27</td>\n",
       "      <td>54</td>\n",
       "      <td>80</td>\n",
       "      <td>102</td>\n",
       "      <td>119</td>\n",
       "    </tr>\n",
       "  </tbody>\n",
       "</table>\n",
       "</div>"
      ],
      "text/plain": [
       "b_long_repair          False                                                  \\\n",
       "                       count                    mean                     std   \n",
       "Convention_Center_dist  2451                4.082763                2.259029   \n",
       "DURATION                2451  1 days 15:55:56.181150  0 days 19:24:25.397507   \n",
       "DURATION_td             2451                1.654019               0.7970886   \n",
       "INIT_Quarter            2451                2.099959                1.137579   \n",
       "INIT_month              2451                5.312118                3.543101   \n",
       "Margin_of_Error         2451                71709.56                 67251.3   \n",
       "Median_Value            2451                422868.7                151042.7   \n",
       "Number_potholes         2451                5.082415                4.482499   \n",
       "OBJECTID                2451                3714.835                2228.891   \n",
       "Pike_Place_dist         2451                4.161072                2.203337   \n",
       "Queene_Anne_dist        2451                4.329218                2.075875   \n",
       "Seattle_dist            2451                4.147149                2.313797   \n",
       "Space_Needle_dist       2451                4.159927                2.067156   \n",
       "WOKEY                   2451                  202370                  108304   \n",
       "Woodland_Park_dist      2451                 4.87295                2.702797   \n",
       "b_DURATION_td_95        2451                       1                       0   \n",
       "b_DURATION_td_IQuart    2451               0.4496124               0.4975561   \n",
       "days_end_FY             2451               0.6878825                3.543101   \n",
       "latitude                2451                47.62462              0.06190514   \n",
       "longitude               2451               -122.3332              0.03482849   \n",
       "neighborhood_label      2451                78.17544                26.11565   \n",
       "\n",
       "b_long_repair                                                              \\\n",
       "                                    min              25%              50%   \n",
       "Convention_Center_dist       0.05907421         1.984571         4.180978   \n",
       "DURATION                1 days 00:00:00  1 days 00:00:00  1 days 00:00:00   \n",
       "DURATION_td                           1                1                1   \n",
       "INIT_Quarter                          1                1                2   \n",
       "INIT_month                            1                3                4   \n",
       "Margin_of_Error                    7920            32637            50586   \n",
       "Median_Value                     162800           327700           378400   \n",
       "Number_potholes                       1                2                4   \n",
       "OBJECTID                              3           1742.5             3772   \n",
       "Pike_Place_dist               0.1344163         2.316505         4.089365   \n",
       "Queene_Anne_dist              0.1769855         2.632563         4.278025   \n",
       "Seattle_dist                  0.1331334         2.135162         4.093667   \n",
       "Space_Needle_dist            0.07832898         2.341944         4.240454   \n",
       "WOKEY                              1591         101472.5           198283   \n",
       "Woodland_Park_dist            0.1887608         2.846609         4.081696   \n",
       "b_DURATION_td_95                   True                1                1   \n",
       "b_DURATION_td_IQuart              False                0                0   \n",
       "days_end_FY                          -6               -2                2   \n",
       "latitude                       47.49939         47.57027         47.62286   \n",
       "longitude                     -122.4181        -122.3647        -122.3289   \n",
       "neighborhood_label                   27               57               80   \n",
       "\n",
       "b_long_repair                                            True   \\\n",
       "                                    75%              max count   \n",
       "Convention_Center_dist          5.87906         8.584342  1623   \n",
       "DURATION                2 days 00:00:00  3 days 23:00:00  1623   \n",
       "DURATION_td                           2                3  1623   \n",
       "INIT_Quarter                          3                4  1623   \n",
       "INIT_month                            8               12  1623   \n",
       "Margin_of_Error                   83015           649096  1623   \n",
       "Median_Value                     477100           984200  1623   \n",
       "Number_potholes                       6               44  1623   \n",
       "OBJECTID                         5586.5             7500  1623   \n",
       "Pike_Place_dist                5.868099          8.73122  1623   \n",
       "Queene_Anne_dist               5.821701         10.50264  1623   \n",
       "Seattle_dist                   6.072053         8.935073  1623   \n",
       "Space_Needle_dist              5.853173         9.270861  1623   \n",
       "WOKEY                          308774.5           379593  1623   \n",
       "Woodland_Park_dist             7.033245         12.41568  1623   \n",
       "b_DURATION_td_95                      1             True  1623   \n",
       "b_DURATION_td_IQuart                  1             True  1623   \n",
       "days_end_FY                           3                5  1623   \n",
       "latitude                       47.68356         47.73412  1623   \n",
       "longitude                     -122.3044         -122.249  1623   \n",
       "neighborhood_label                  101              119  1623   \n",
       "\n",
       "b_long_repair                                                           \\\n",
       "                                          mean                     std   \n",
       "Convention_Center_dist                4.199786                2.234456   \n",
       "DURATION                7 days 18:51:43.142329  4 days 13:17:11.955375   \n",
       "DURATION_td                           7.770179                4.546192   \n",
       "INIT_Quarter                          2.067776                1.113349   \n",
       "INIT_month                            5.144177                3.593927   \n",
       "Margin_of_Error                       73387.04                72737.61   \n",
       "Median_Value                          434650.6                152145.3   \n",
       "Number_potholes                       6.701171                7.311717   \n",
       "OBJECTID                              3707.005                2162.779   \n",
       "Pike_Place_dist                       4.295862                 2.18353   \n",
       "Queene_Anne_dist                      4.129372                2.026015   \n",
       "Seattle_dist                          4.320204                2.302678   \n",
       "Space_Needle_dist                     4.166374                2.031751   \n",
       "WOKEY                                 165290.4                114218.3   \n",
       "Woodland_Park_dist                     4.36747                2.597894   \n",
       "b_DURATION_td_95                             1                       0   \n",
       "b_DURATION_td_IQuart                 0.4226741               0.4941368   \n",
       "days_end_FY                          0.8558226                3.593927   \n",
       "latitude                              47.63583               0.0601644   \n",
       "longitude                            -122.3328              0.03390615   \n",
       "neighborhood_label                    78.09304                28.38379   \n",
       "\n",
       "b_long_repair                                                              \\\n",
       "                                    min              25%              50%   \n",
       "Convention_Center_dist       0.07096169         2.113485         4.308802   \n",
       "DURATION                4 days 00:00:00  5 days 00:00:00  6 days 00:00:00   \n",
       "DURATION_td                           4                5                6   \n",
       "INIT_Quarter                          1                1                2   \n",
       "INIT_month                            1                2                4   \n",
       "Margin_of_Error                    7920            34911            52281   \n",
       "Median_Value                     162800           328800           384200   \n",
       "Number_potholes                       1                3                5   \n",
       "OBJECTID                              1           1783.5             3620   \n",
       "Pike_Place_dist               0.1178035         2.392454         4.300737   \n",
       "Queene_Anne_dist              0.1769855         2.573505         3.963687   \n",
       "Seattle_dist                  0.1331334         2.250195          4.36761   \n",
       "Space_Needle_dist             0.1361682         2.379359         4.220832   \n",
       "WOKEY                              1959          54098.5           119289   \n",
       "Woodland_Park_dist             0.339532         2.476448         3.623119   \n",
       "b_DURATION_td_95                   True                1                1   \n",
       "b_DURATION_td_IQuart              False                0                0   \n",
       "days_end_FY                          -6               -2                2   \n",
       "latitude                       47.49927         47.58782           47.636   \n",
       "longitude                     -122.4163         -122.362        -122.3296   \n",
       "neighborhood_label                   27               54               80   \n",
       "\n",
       "b_long_repair                                              \n",
       "                                    75%               max  \n",
       "Convention_Center_dist          6.03614          8.586268  \n",
       "DURATION                9 days 00:00:00  22 days 00:00:00  \n",
       "DURATION_td                           9                22  \n",
       "INIT_Quarter                          3                 4  \n",
       "INIT_month                            8                12  \n",
       "Margin_of_Error                 80982.5            726639  \n",
       "Median_Value                     497800            984200  \n",
       "Number_potholes                       8                44  \n",
       "OBJECTID                         5691.5              7498  \n",
       "Pike_Place_dist                6.091023          8.746878  \n",
       "Queene_Anne_dist               5.584768          10.46154  \n",
       "Seattle_dist                   6.240234          8.937087  \n",
       "Space_Needle_dist              5.923532          9.228337  \n",
       "WOKEY                          273479.5            379227  \n",
       "Woodland_Park_dist             5.821933          12.38429  \n",
       "b_DURATION_td_95                      1              True  \n",
       "b_DURATION_td_IQuart                  1              True  \n",
       "days_end_FY                           4                 5  \n",
       "latitude                       47.69115          47.73412  \n",
       "longitude                     -122.3041          -122.249  \n",
       "neighborhood_label                  102               119  "
      ]
     },
     "execution_count": 118,
     "metadata": {},
     "output_type": "execute_result"
    }
   ],
   "source": [
    "df.groupby('b_long_repair').describe().T"
   ]
  },
  {
   "cell_type": "code",
   "execution_count": 119,
   "metadata": {
    "collapsed": false
   },
   "outputs": [
    {
     "name": "stdout",
     "output_type": "stream",
     "text": [
      "<class 'pandas.core.frame.DataFrame'>\n",
      "Int64Index: 4074 entries, 0 to 4295\n",
      "Data columns (total 36 columns):\n",
      "OBJECTID                  4074 non-null int64\n",
      "WOKEY                     4074 non-null int64\n",
      "LOCATION                  4074 non-null object\n",
      "ADDRDESC                  4074 non-null object\n",
      "INITDT_dt                 4074 non-null datetime64[ns]\n",
      "FLDSTARTDT_dt             4074 non-null datetime64[ns]\n",
      "FLDENDDT_dt               4074 non-null datetime64[ns]\n",
      "DURATION                  4074 non-null timedelta64[ns]\n",
      "DURATION_td               4074 non-null float64\n",
      "latitude                  4074 non-null float64\n",
      "longitude                 4074 non-null float64\n",
      "address                   4074 non-null object\n",
      "Seattle_dist              4074 non-null float64\n",
      "Space_Needle_dist         4074 non-null float64\n",
      "Pike_Place_dist           4074 non-null float64\n",
      "Convention_Center_dist    4074 non-null float64\n",
      "Woodland_Park_dist        4074 non-null float64\n",
      "Queene_Anne_dist          4074 non-null float64\n",
      "INIT_Quarter              4074 non-null int64\n",
      "days_end_FY               4074 non-null int64\n",
      "INIT_month                4074 non-null int64\n",
      "neighborhood_label        4074 non-null int64\n",
      "GEOID                     4074 non-null object\n",
      "GEO.id                    4074 non-null object\n",
      "GEO.display-label         4074 non-null object\n",
      "Median_Value              4074 non-null float64\n",
      "Margin_of_Error           4074 non-null float64\n",
      "SND_FEACOD                4074 non-null object\n",
      "ST_CODE                   4074 non-null object\n",
      "SEGMENT_TY                4074 non-null object\n",
      "DIVIDED_CO                4074 non-null object\n",
      "VEHICLE_US                4074 non-null object\n",
      "Number_potholes           4074 non-null int64\n",
      "b_long_repair             4074 non-null bool\n",
      "b_DURATION_td_95          4074 non-null bool\n",
      "b_DURATION_td_IQuart      4074 non-null bool\n",
      "dtypes: bool(3), datetime64[ns](3), float64(11), int64(7), object(11), timedelta64[ns](1)\n",
      "memory usage: 1.1+ MB\n"
     ]
    }
   ],
   "source": [
    "df.info()"
   ]
  },
  {
   "cell_type": "markdown",
   "metadata": {},
   "source": [
    "####I'm going to have to scale the predictors; the magnitudes/differences have different meanings."
   ]
  },
  {
   "cell_type": "markdown",
   "metadata": {},
   "source": [
    "1. Scatterplot of number of potholes vs. time to repair\n",
    "2. double histogram of long vs. short repair times."
   ]
  },
  {
   "cell_type": "code",
   "execution_count": 121,
   "metadata": {
    "collapsed": false
   },
   "outputs": [
    {
     "data": {
      "text/plain": [
       "array([<matplotlib.axes._subplots.AxesSubplot object at 0x00000000186C86D8>,\n",
       "       <matplotlib.axes._subplots.AxesSubplot object at 0x0000000019DF4978>], dtype=object)"
      ]
     },
     "execution_count": 121,
     "metadata": {},
     "output_type": "execute_result"
    },
    {
     "data": {
      "image/png": "[encoded data removed]",
      "text/plain": [
       "<matplotlib.figure.Figure at 0x19727940>"
      ]
     },
     "metadata": {},
     "output_type": "display_data"
    }
   ],
   "source": [
    "df.DURATION_td.hist(bins=50, histtype='bar', by=df.b_long_repair, stacked=True) "
   ]
  },
  {
   "cell_type": "code",
   "execution_count": 122,
   "metadata": {
    "collapsed": false
   },
   "outputs": [
    {
     "data": {
      "text/plain": [
       "<matplotlib.axes._subplots.AxesSubplot at 0x1ab55588>"
      ]
     },
     "execution_count": 122,
     "metadata": {},
     "output_type": "execute_result"
    },
    {
     "data": {
      "image/png": "[encoded data removed]",
      "text/plain": [
       "<matplotlib.figure.Figure at 0x1930b9b0>"
      ]
     },
     "metadata": {},
     "output_type": "display_data"
    }
   ],
   "source": [
    "df.DURATION_td.hist(bins=50)"
   ]
  },
  {
   "cell_type": "code",
   "execution_count": 124,
   "metadata": {
    "collapsed": false
   },
   "outputs": [
    {
     "data": {
      "text/plain": [
       "<matplotlib.axes._subplots.AxesSubplot at 0x1b32cdd8>"
      ]
     },
     "execution_count": 124,
     "metadata": {},
     "output_type": "execute_result"
    },
    {
     "data": {
      "image/png": "[encoded data removed]",
      "text/plain": [
       "<matplotlib.figure.Figure at 0x1b2e1198>"
      ]
     },
     "metadata": {},
     "output_type": "display_data"
    }
   ],
   "source": [
    "df.DURATION_td.hist(bins=50, alpha=0.5)"
   ]
  },
  {
   "cell_type": "code",
   "execution_count": 125,
   "metadata": {
    "collapsed": false,
    "scrolled": true
   },
   "outputs": [
    {
     "data": {
      "image/png": "[encoded data removed]",
      "text/plain": [
       "<matplotlib.figure.Figure at 0x1b691e48>"
      ]
     },
     "metadata": {},
     "output_type": "display_data"
    }
   ],
   "source": [
    "df.plot(kind='scatter', x='DURATION_td', y='Number_potholes');"
   ]
  },
  {
   "cell_type": "code",
   "execution_count": 136,
   "metadata": {
    "collapsed": false
   },
   "outputs": [
    {
     "data": {
      "image/png": "[encoded data removed]",
      "text/plain": [
       "<matplotlib.figure.Figure at 0x1ba7f080>"
      ]
     },
     "metadata": {},
     "output_type": "display_data"
    }
   ],
   "source": [
    "df.plot(kind='scatter', x='DURATION_td', y='Number_potholes', alpha=0.5, s=0.0001*df['Median_Value']**1.02);"
   ]
  },
  {
   "cell_type": "code",
   "execution_count": 137,
   "metadata": {
    "collapsed": false
   },
   "outputs": [
    {
     "data": {
      "image/png": "[encoded data removed]",
      "text/plain": [
       "<matplotlib.figure.Figure at 0x1b9a0080>"
      ]
     },
     "metadata": {},
     "output_type": "display_data"
    }
   ],
   "source": [
    "df.plot(kind='scatter', x='DURATION_td', y='Number_potholes', alpha=0.5, c=0.0001*df['Median_Value']**1.02);"
   ]
  },
  {
   "cell_type": "markdown",
   "metadata": {},
   "source": [
    "####OK, let's move toward modeling"
   ]
  },
  {
   "cell_type": "code",
   "execution_count": 145,
   "metadata": {
    "collapsed": true
   },
   "outputs": [],
   "source": [
    "df['long_repair'] = df['b_long_repair'].apply(lambda x: 1 if x == True else 0) "
   ]
  },
  {
   "cell_type": "code",
   "execution_count": 146,
   "metadata": {
    "collapsed": false
   },
   "outputs": [
    {
     "name": "stdout",
     "output_type": "stream",
     "text": [
      "<class 'pandas.core.frame.DataFrame'>\n",
      "Int64Index: 4074 entries, 0 to 4295\n",
      "Data columns (total 37 columns):\n",
      "OBJECTID                  4074 non-null int64\n",
      "WOKEY                     4074 non-null int64\n",
      "LOCATION                  4074 non-null object\n",
      "ADDRDESC                  4074 non-null object\n",
      "INITDT_dt                 4074 non-null datetime64[ns]\n",
      "FLDSTARTDT_dt             4074 non-null datetime64[ns]\n",
      "FLDENDDT_dt               4074 non-null datetime64[ns]\n",
      "DURATION                  4074 non-null timedelta64[ns]\n",
      "DURATION_td               4074 non-null float64\n",
      "latitude                  4074 non-null float64\n",
      "longitude                 4074 non-null float64\n",
      "address                   4074 non-null object\n",
      "Seattle_dist              4074 non-null float64\n",
      "Space_Needle_dist         4074 non-null float64\n",
      "Pike_Place_dist           4074 non-null float64\n",
      "Convention_Center_dist    4074 non-null float64\n",
      "Woodland_Park_dist        4074 non-null float64\n",
      "Queene_Anne_dist          4074 non-null float64\n",
      "INIT_Quarter              4074 non-null int64\n",
      "days_end_FY               4074 non-null int64\n",
      "INIT_month                4074 non-null int64\n",
      "neighborhood_label        4074 non-null int64\n",
      "GEOID                     4074 non-null object\n",
      "GEO.id                    4074 non-null object\n",
      "GEO.display-label         4074 non-null object\n",
      "Median_Value              4074 non-null float64\n",
      "Margin_of_Error           4074 non-null float64\n",
      "SND_FEACOD                4074 non-null object\n",
      "ST_CODE                   4074 non-null object\n",
      "SEGMENT_TY                4074 non-null object\n",
      "DIVIDED_CO                4074 non-null object\n",
      "VEHICLE_US                4074 non-null object\n",
      "Number_potholes           4074 non-null int64\n",
      "b_long_repair             4074 non-null bool\n",
      "b_DURATION_td_95          4074 non-null bool\n",
      "b_DURATION_td_IQuart      4074 non-null bool\n",
      "long_repair               4074 non-null int64\n",
      "dtypes: bool(3), datetime64[ns](3), float64(11), int64(8), object(11), timedelta64[ns](1)\n",
      "memory usage: 1.1+ MB\n"
     ]
    }
   ],
   "source": [
    "df.info()"
   ]
  },
  {
   "cell_type": "markdown",
   "metadata": {},
   "source": [
    "I've got to do my dummies."
   ]
  },
  {
   "cell_type": "code",
   "execution_count": null,
   "metadata": {
    "collapsed": true
   },
   "outputs": [],
   "source": [
    "df_dum_neighborhood_label = pd.get_dummies(df.neighborhood_label)"
   ]
  },
  {
   "cell_type": "code",
   "execution_count": 149,
   "metadata": {
    "collapsed": true
   },
   "outputs": [],
   "source": [
    "df_dum_INIT_Quarter = pd.get_dummies(df.INIT_Quarter)\n",
    "df_dum_SND_FEACOD = pd.get_dummies(df.SND_FEACOD)\n",
    "df_dum_ST_CODE = pd.get_dummies(df.ST_CODE)\n",
    "df_dum_SEGMENT_TY = pd.get_dummies(df.SEGMENT_TY)\n",
    "df_dum_DIVIDED_CO = pd.get_dummies(df.DIVIDED_CO)\n",
    "df_dum_VEHICLE_US = pd.get_dummies(df.VEHICLE_US)"
   ]
  },
  {
   "cell_type": "markdown",
   "metadata": {},
   "source": [
    "####OK, make complete dataframe"
   ]
  },
  {
   "cell_type": "code",
   "execution_count": 152,
   "metadata": {
    "collapsed": true
   },
   "outputs": [],
   "source": [
    "df_all = pd.concat([df.ix[:, ['Queene_Anne_dist','Woodland_Park_dist','DURATION_td',\n",
    "        'b_DURATION_td_IQuart','b_long_repair','long_repair', \n",
    "        'Space_Needle_dist','Convention_Center_dist','Pike_Place_dist','Number_potholes',\n",
    "        'Seattle_dist','latitude','longitude','Median_Value','Margin_of_Error','days_end_FY',]],\n",
    "        df_dum_neighborhood_label, df_dum_INIT_Quarter, df_dum_ST_CODE, df_dum_SEGMENT_TY,\n",
    "        df_dum_DIVIDED_CO, df_dum_VEHICLE_US, df_dum_SND_FEACOD], axis=1)"
   ]
  },
  {
   "cell_type": "code",
   "execution_count": 153,
   "metadata": {
    "collapsed": false
   },
   "outputs": [
    {
     "name": "stdout",
     "output_type": "stream",
     "text": [
      "<class 'pandas.core.frame.DataFrame'>\n",
      "Int64Index: 4074 entries, 0 to 4295\n",
      "Columns: 150 entries, Queene_Anne_dist to NO SND_FEACOD\n",
      "dtypes: bool(2), float64(145), int64(3)\n",
      "memory usage: 4.6 MB\n"
     ]
    }
   ],
   "source": [
    "df_all.info()"
   ]
  },
  {
   "cell_type": "code",
   "execution_count": 154,
   "metadata": {
    "collapsed": true
   },
   "outputs": [],
   "source": [
    "df_data = pd.concat([df.ix[:, ['Queene_Anne_dist','Woodland_Park_dist',\n",
    "        'Space_Needle_dist','Convention_Center_dist','Pike_Place_dist','Number_potholes',\n",
    "        'Seattle_dist','latitude','longitude','Median_Value','Margin_of_Error','days_end_FY',]],\n",
    "        df_dum_neighborhood_label, df_dum_INIT_Quarter, df_dum_ST_CODE, df_dum_SEGMENT_TY,\n",
    "        df_dum_DIVIDED_CO, df_dum_VEHICLE_US, df_dum_SND_FEACOD], axis=1)"
   ]
  },
  {
   "cell_type": "code",
   "execution_count": 155,
   "metadata": {
    "collapsed": false
   },
   "outputs": [
    {
     "name": "stdout",
     "output_type": "stream",
     "text": [
      "<class 'pandas.core.frame.DataFrame'>\n",
      "Int64Index: 4074 entries, 0 to 4295\n",
      "Columns: 146 entries, Queene_Anne_dist to NO SND_FEACOD\n",
      "dtypes: float64(144), int64(2)\n",
      "memory usage: 4.6 MB\n"
     ]
    }
   ],
   "source": [
    "df_data.info()"
   ]
  },
  {
   "cell_type": "markdown",
   "metadata": {},
   "source": [
    "####OK, continue to modeling"
   ]
  },
  {
   "cell_type": "code",
   "execution_count": 156,
   "metadata": {
    "collapsed": true
   },
   "outputs": [],
   "source": [
    "from sklearn.linear_model import LogisticRegression"
   ]
  },
  {
   "cell_type": "code",
   "execution_count": 157,
   "metadata": {
    "collapsed": true
   },
   "outputs": [],
   "source": [
    "X = df_data\n",
    "y = df['b_long_repair']"
   ]
  },
  {
   "cell_type": "code",
   "execution_count": 158,
   "metadata": {
    "collapsed": true
   },
   "outputs": [],
   "source": [
    "X_train, X_test, y_train, y_test = train_test_split(X, y, test_size=0.20, random_state=67)"
   ]
  },
  {
   "cell_type": "code",
   "execution_count": 160,
   "metadata": {
    "collapsed": false
   },
   "outputs": [
    {
     "data": {
      "text/plain": [
       "LogisticRegression(C=1.0, class_weight='auto', dual=False, fit_intercept=True,\n",
       "          intercept_scaling=1, max_iter=100, multi_class='ovr',\n",
       "          penalty='l2', random_state=None, solver='liblinear', tol=0.0001,\n",
       "          verbose=0)"
      ]
     },
     "execution_count": 160,
     "metadata": {},
     "output_type": "execute_result"
    }
   ],
   "source": [
    "lr = LogisticRegression(class_weight='auto')\n",
    "lr.fit(X_train, y_train)"
   ]
  },
  {
   "cell_type": "code",
   "execution_count": 161,
   "metadata": {
    "collapsed": false
   },
   "outputs": [
    {
     "data": {
      "text/plain": [
       "0.5447852760736196"
      ]
     },
     "execution_count": 161,
     "metadata": {},
     "output_type": "execute_result"
    }
   ],
   "source": [
    "lr.score(X_test,y_test)"
   ]
  },
  {
   "cell_type": "code",
   "execution_count": 162,
   "metadata": {
    "collapsed": false
   },
   "outputs": [
    {
     "data": {
      "text/plain": [
       "0.52505243314773664"
      ]
     },
     "execution_count": 162,
     "metadata": {},
     "output_type": "execute_result"
    }
   ],
   "source": [
    "import sklearn.metrics as skm\n",
    "skm.roc_auc_score(y_test, lr.predict(X_test))"
   ]
  },
  {
   "cell_type": "code",
   "execution_count": 163,
   "metadata": {
    "collapsed": false
   },
   "outputs": [
    {
     "data": {
      "text/plain": [
       "array([[305, 179],\n",
       "       [192, 139]])"
      ]
     },
     "execution_count": 163,
     "metadata": {},
     "output_type": "execute_result"
    }
   ],
   "source": [
    "from sklearn.metrics import confusion_matrix \n",
    "confusion_matrix(y_test, lr.predict(X_test)) #To understand this, I either read the documentation or create my own."
   ]
  },
  {
   "cell_type": "code",
   "execution_count": 164,
   "metadata": {
    "collapsed": true
   },
   "outputs": [],
   "source": [
    "from sklearn.ensemble import GradientBoostingClassifier"
   ]
  },
  {
   "cell_type": "code",
   "execution_count": 165,
   "metadata": {
    "collapsed": false
   },
   "outputs": [
    {
     "data": {
      "text/plain": [
       "GradientBoostingClassifier(init=None, learning_rate=0.05, loss='deviance',\n",
       "              max_depth=8, max_features='auto', max_leaf_nodes=None,\n",
       "              min_samples_leaf=1, min_samples_split=2,\n",
       "              min_weight_fraction_leaf=0.0, n_estimators=500,\n",
       "              random_state=None, subsample=0.5, verbose=0,\n",
       "              warm_start=False)"
      ]
     },
     "execution_count": 165,
     "metadata": {},
     "output_type": "execute_result"
    }
   ],
   "source": [
    "gbc = GradientBoostingClassifier(n_estimators=500, max_depth=8, subsample=0.5, \n",
    "                                 max_features='auto', learning_rate=0.05)\n",
    "gbc.fit(X_train, y_train)"
   ]
  },
  {
   "cell_type": "code",
   "execution_count": 166,
   "metadata": {
    "collapsed": false
   },
   "outputs": [
    {
     "data": {
      "text/plain": [
       "0.5680981595092025"
      ]
     },
     "execution_count": 166,
     "metadata": {},
     "output_type": "execute_result"
    }
   ],
   "source": [
    "gbc.score(X_test,y_test)"
   ]
  },
  {
   "cell_type": "code",
   "execution_count": 167,
   "metadata": {
    "collapsed": false
   },
   "outputs": [
    {
     "data": {
      "text/plain": [
       "0.53799530598486933"
      ]
     },
     "execution_count": 167,
     "metadata": {},
     "output_type": "execute_result"
    }
   ],
   "source": [
    "skm.roc_auc_score(y_test, gbc.predict(X_test)) #Notice the quick, convenient way to get y_predict on X_test"
   ]
  },
  {
   "cell_type": "code",
   "execution_count": 168,
   "metadata": {
    "collapsed": false
   },
   "outputs": [
    {
     "data": {
      "text/plain": [
       "array([[338, 146],\n",
       "       [206, 125]])"
      ]
     },
     "execution_count": 168,
     "metadata": {},
     "output_type": "execute_result"
    }
   ],
   "source": [
    "confusion_matrix(y_test, gbc.predict(X_test))"
   ]
  },
  {
   "cell_type": "code",
   "execution_count": 169,
   "metadata": {
    "collapsed": true
   },
   "outputs": [],
   "source": [
    "from sklearn.ensemble import RandomForestClassifier"
   ]
  },
  {
   "cell_type": "code",
   "execution_count": 170,
   "metadata": {
    "collapsed": false
   },
   "outputs": [
    {
     "data": {
      "text/plain": [
       "RandomForestClassifier(bootstrap=True, class_weight=None, criterion='gini',\n",
       "            max_depth=None, max_features='auto', max_leaf_nodes=None,\n",
       "            min_samples_leaf=1, min_samples_split=2,\n",
       "            min_weight_fraction_leaf=0.0, n_estimators=500, n_jobs=-1,\n",
       "            oob_score=False, random_state=None, verbose=0,\n",
       "            warm_start=False)"
      ]
     },
     "execution_count": 170,
     "metadata": {},
     "output_type": "execute_result"
    }
   ],
   "source": [
    "rfc = RandomForestClassifier(n_estimators=500, n_jobs=-1) #Wouldn't take the class_weight = 'auto' option)\n",
    "rfc.fit(X_train, y_train)"
   ]
  },
  {
   "cell_type": "code",
   "execution_count": 171,
   "metadata": {
    "collapsed": false
   },
   "outputs": [
    {
     "data": {
      "text/plain": [
       "0.58036809815950918"
      ]
     },
     "execution_count": 171,
     "metadata": {},
     "output_type": "execute_result"
    }
   ],
   "source": [
    "rfc.score(X_test, y_test)"
   ]
  },
  {
   "cell_type": "code",
   "execution_count": 172,
   "metadata": {
    "collapsed": false
   },
   "outputs": [
    {
     "data": {
      "text/plain": [
       "0.54737085216349146"
      ]
     },
     "execution_count": 172,
     "metadata": {},
     "output_type": "execute_result"
    }
   ],
   "source": [
    "skm.roc_auc_score(y_test, rfc.predict(X_test))"
   ]
  },
  {
   "cell_type": "markdown",
   "metadata": {},
   "source": [
    "Tomorrow Morning:\n",
    "1. Run RandomForest Regression\n",
    "2. Run DecisionTree, see if you can get the tree plot\n",
    "3. Do feature importances and plot\n",
    "4. scale/normalize and rerun.\n",
    "Tomorrow Afternoon:\n",
    "1. Add precip, temp"
   ]
  },
  {
   "cell_type": "code",
   "execution_count": null,
   "metadata": {
    "collapsed": true
   },
   "outputs": [],
   "source": []
  }
 ],
 "metadata": {
  "kernelspec": {
   "display_name": "Python 2",
   "language": "python",
   "name": "python2"
  },
  "language_info": {
   "codemirror_mode": {
    "name": "ipython",
    "version": 2
   },
   "file_extension": ".py",
   "mimetype": "text/x-python",
   "name": "python",
   "nbconvert_exporter": "python",
   "pygments_lexer": "ipython2",
   "version": "2.7.10"
  }
 },
 "nbformat": 4,
 "nbformat_minor": 0
}
