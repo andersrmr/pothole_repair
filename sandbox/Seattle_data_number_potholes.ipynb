{
 "cells": [
  {
   "cell_type": "code",
   "execution_count": 1,
   "metadata": {
    "collapsed": true
   },
   "outputs": [],
   "source": [
    "import pandas as pd\n",
    "import numpy as np\n",
    "import cPickle as pickle\n",
    "import datetime"
   ]
  },
  {
   "cell_type": "code",
   "execution_count": 2,
   "metadata": {
    "collapsed": true
   },
   "outputs": [],
   "source": [
    "pd.set_option('display.max_columns', 500)"
   ]
  },
  {
   "cell_type": "code",
   "execution_count": 3,
   "metadata": {
    "collapsed": true
   },
   "outputs": [],
   "source": [
    "df = pd.read_pickle('df_1to10999_geo_cleaned.pkl')"
   ]
  },
  {
   "cell_type": "markdown",
   "metadata": {},
   "source": [
    "Use INITdT_dt, days to repair, and total initialized on a day to keep a running cumulative total of all the potholes unrepaired in the system on the day each potholes is initiated.  So each row should have a cumulative total associated with its INITDT_dt."
   ]
  },
  {
   "cell_type": "code",
   "execution_count": 4,
   "metadata": {
    "collapsed": true
   },
   "outputs": [],
   "source": [
    "df['INITDT_date_only'] = df['INITDT_dt'].apply( lambda x: x.date())\n",
    "df['INITDT_date_only'] = pd.to_datetime(df.INITDT_date_only)"
   ]
  },
  {
   "cell_type": "code",
   "execution_count": 5,
   "metadata": {
    "collapsed": false
   },
   "outputs": [
    {
     "name": "stdout",
     "output_type": "stream",
     "text": [
      "<class 'pandas.core.frame.DataFrame'>\n",
      "Int64Index: 6996 entries, 0 to 10999\n",
      "Data columns (total 13 columns):\n",
      "OBJECTID            6996 non-null int64\n",
      "WOKEY               6996 non-null int64\n",
      "LOCATION            6996 non-null object\n",
      "ADDRDESC            6996 non-null object\n",
      "INITDT_dt           6996 non-null datetime64[ns]\n",
      "FLDSTARTDT_dt       6996 non-null datetime64[ns]\n",
      "FLDENDDT_dt         6996 non-null datetime64[ns]\n",
      "DURATION            6996 non-null timedelta64[ns]\n",
      "DURATION_td         6996 non-null float64\n",
      "latitude            6996 non-null float64\n",
      "longitude           6996 non-null float64\n",
      "address             6996 non-null object\n",
      "INITDT_date_only    6996 non-null datetime64[ns]\n",
      "dtypes: datetime64[ns](4), float64(3), int64(2), object(3), timedelta64[ns](1)\n",
      "memory usage: 765.2+ KB\n"
     ]
    }
   ],
   "source": [
    "df.info()"
   ]
  },
  {
   "cell_type": "code",
   "execution_count": 6,
   "metadata": {
    "collapsed": false
   },
   "outputs": [
    {
     "data": {
      "text/html": [
       "<div>\n",
       "<table border=\"1\" class=\"dataframe\">\n",
       "  <thead>\n",
       "    <tr style=\"text-align: right;\">\n",
       "      <th></th>\n",
       "      <th>OBJECTID</th>\n",
       "      <th>WOKEY</th>\n",
       "      <th>LOCATION</th>\n",
       "      <th>ADDRDESC</th>\n",
       "      <th>INITDT_dt</th>\n",
       "      <th>FLDSTARTDT_dt</th>\n",
       "      <th>FLDENDDT_dt</th>\n",
       "      <th>DURATION</th>\n",
       "      <th>DURATION_td</th>\n",
       "      <th>latitude</th>\n",
       "      <th>longitude</th>\n",
       "      <th>address</th>\n",
       "      <th>INITDT_date_only</th>\n",
       "    </tr>\n",
       "  </thead>\n",
       "  <tbody>\n",
       "    <tr>\n",
       "      <th>0</th>\n",
       "      <td>1</td>\n",
       "      <td>2456</td>\n",
       "      <td>Holden pl SW bt  SW Kenyon Holden             ...</td>\n",
       "      <td>HOLDEN PL SW BETWEEN SW HOLDEN ST AND SW KENYO...</td>\n",
       "      <td>2010-03-29 07:00:00</td>\n",
       "      <td>2010-04-06 07:00:00</td>\n",
       "      <td>2010-04-06 07:00:00</td>\n",
       "      <td>8 days</td>\n",
       "      <td>8</td>\n",
       "      <td>47.531858</td>\n",
       "      <td>-122.363186</td>\n",
       "      <td>SW Kenyon St, Seattle, WA, USA</td>\n",
       "      <td>2010-03-29</td>\n",
       "    </tr>\n",
       "    <tr>\n",
       "      <th>1</th>\n",
       "      <td>2</td>\n",
       "      <td>2514</td>\n",
       "      <td>NE Pacific Street, one block west of Montlake ...</td>\n",
       "      <td>MONTLAKE BLVD NE AND NE PACIFIC ST            ...</td>\n",
       "      <td>2010-03-30 07:00:00</td>\n",
       "      <td>2010-04-01 07:00:00</td>\n",
       "      <td>2010-04-01 07:00:00</td>\n",
       "      <td>2 days</td>\n",
       "      <td>2</td>\n",
       "      <td>47.649014</td>\n",
       "      <td>-122.304655</td>\n",
       "      <td>Montlake Blvd NE &amp; NE Pacific St, Seattle, WA ...</td>\n",
       "      <td>2010-03-30</td>\n",
       "    </tr>\n",
       "  </tbody>\n",
       "</table>\n",
       "</div>"
      ],
      "text/plain": [
       "   OBJECTID  WOKEY                                           LOCATION  \\\n",
       "0         1   2456  Holden pl SW bt  SW Kenyon Holden             ...   \n",
       "1         2   2514  NE Pacific Street, one block west of Montlake ...   \n",
       "\n",
       "                                            ADDRDESC           INITDT_dt  \\\n",
       "0  HOLDEN PL SW BETWEEN SW HOLDEN ST AND SW KENYO... 2010-03-29 07:00:00   \n",
       "1  MONTLAKE BLVD NE AND NE PACIFIC ST            ... 2010-03-30 07:00:00   \n",
       "\n",
       "        FLDSTARTDT_dt         FLDENDDT_dt  DURATION  DURATION_td   latitude  \\\n",
       "0 2010-04-06 07:00:00 2010-04-06 07:00:00    8 days            8  47.531858   \n",
       "1 2010-04-01 07:00:00 2010-04-01 07:00:00    2 days            2  47.649014   \n",
       "\n",
       "    longitude                                            address  \\\n",
       "0 -122.363186                     SW Kenyon St, Seattle, WA, USA   \n",
       "1 -122.304655  Montlake Blvd NE & NE Pacific St, Seattle, WA ...   \n",
       "\n",
       "  INITDT_date_only  \n",
       "0       2010-03-29  \n",
       "1       2010-03-30  "
      ]
     },
     "execution_count": 6,
     "metadata": {},
     "output_type": "execute_result"
    }
   ],
   "source": [
    "df.head(2)"
   ]
  },
  {
   "cell_type": "markdown",
   "metadata": {},
   "source": [
    "Easy: Just groupby on dates, ultimately you want the total that are live on each date.  this table could then be joined to the main dataframe to get the total live on the day each pothole was initiated.  Loop through each row: For a given row associated with a given day, the live potholes will be: 1).  All those intiated on that day, + 2). all the other potholes for which their initiation day + duration is greater than that day."
   ]
  },
  {
   "cell_type": "code",
   "execution_count": 7,
   "metadata": {
    "collapsed": false
   },
   "outputs": [],
   "source": [
    "df_number_potholes = pd.DataFrame(df.groupby('INITDT_date_only')['OBJECTID'].count()).reset_index()"
   ]
  },
  {
   "cell_type": "code",
   "execution_count": 8,
   "metadata": {
    "collapsed": true
   },
   "outputs": [],
   "source": [
    "df_number_potholes.rename(columns={'OBJECTID': 'Number_potholes'}, inplace=True)"
   ]
  },
  {
   "cell_type": "code",
   "execution_count": 24,
   "metadata": {
    "collapsed": false
   },
   "outputs": [
    {
     "data": {
      "text/html": [
       "<div>\n",
       "<table border=\"1\" class=\"dataframe\">\n",
       "  <thead>\n",
       "    <tr style=\"text-align: right;\">\n",
       "      <th></th>\n",
       "      <th>INITDT_date_only</th>\n",
       "      <th>Number_potholes</th>\n",
       "    </tr>\n",
       "  </thead>\n",
       "  <tbody>\n",
       "    <tr>\n",
       "      <th>0</th>\n",
       "      <td>2010-03-11</td>\n",
       "      <td>1</td>\n",
       "    </tr>\n",
       "    <tr>\n",
       "      <th>1</th>\n",
       "      <td>2010-03-15</td>\n",
       "      <td>3</td>\n",
       "    </tr>\n",
       "    <tr>\n",
       "      <th>2</th>\n",
       "      <td>2010-03-16</td>\n",
       "      <td>5</td>\n",
       "    </tr>\n",
       "    <tr>\n",
       "      <th>3</th>\n",
       "      <td>2010-03-19</td>\n",
       "      <td>1</td>\n",
       "    </tr>\n",
       "    <tr>\n",
       "      <th>4</th>\n",
       "      <td>2010-03-22</td>\n",
       "      <td>5</td>\n",
       "    </tr>\n",
       "    <tr>\n",
       "      <th>5</th>\n",
       "      <td>2010-03-24</td>\n",
       "      <td>9</td>\n",
       "    </tr>\n",
       "    <tr>\n",
       "      <th>6</th>\n",
       "      <td>2010-03-26</td>\n",
       "      <td>4</td>\n",
       "    </tr>\n",
       "    <tr>\n",
       "      <th>7</th>\n",
       "      <td>2010-03-27</td>\n",
       "      <td>2</td>\n",
       "    </tr>\n",
       "    <tr>\n",
       "      <th>8</th>\n",
       "      <td>2010-03-28</td>\n",
       "      <td>1</td>\n",
       "    </tr>\n",
       "    <tr>\n",
       "      <th>9</th>\n",
       "      <td>2010-03-29</td>\n",
       "      <td>3</td>\n",
       "    </tr>\n",
       "  </tbody>\n",
       "</table>\n",
       "</div>"
      ],
      "text/plain": [
       "  INITDT_date_only  Number_potholes\n",
       "0       2010-03-11                1\n",
       "1       2010-03-15                3\n",
       "2       2010-03-16                5\n",
       "3       2010-03-19                1\n",
       "4       2010-03-22                5\n",
       "5       2010-03-24                9\n",
       "6       2010-03-26                4\n",
       "7       2010-03-27                2\n",
       "8       2010-03-28                1\n",
       "9       2010-03-29                3"
      ]
     },
     "execution_count": 24,
     "metadata": {},
     "output_type": "execute_result"
    }
   ],
   "source": [
    "df_number_potholes.head(10)"
   ]
  },
  {
   "cell_type": "code",
   "execution_count": 33,
   "metadata": {
    "collapsed": false
   },
   "outputs": [
    {
     "data": {
      "text/html": [
       "<div>\n",
       "<table border=\"1\" class=\"dataframe\">\n",
       "  <thead>\n",
       "    <tr style=\"text-align: right;\">\n",
       "      <th></th>\n",
       "      <th>INITDT_date_only</th>\n",
       "      <th>Number_potholes</th>\n",
       "    </tr>\n",
       "  </thead>\n",
       "  <tbody>\n",
       "    <tr>\n",
       "      <th>1588</th>\n",
       "      <td>2015-08-20</td>\n",
       "      <td>3</td>\n",
       "    </tr>\n",
       "    <tr>\n",
       "      <th>1589</th>\n",
       "      <td>2015-08-21</td>\n",
       "      <td>3</td>\n",
       "    </tr>\n",
       "    <tr>\n",
       "      <th>1590</th>\n",
       "      <td>2015-08-22</td>\n",
       "      <td>2</td>\n",
       "    </tr>\n",
       "    <tr>\n",
       "      <th>1591</th>\n",
       "      <td>2015-08-23</td>\n",
       "      <td>1</td>\n",
       "    </tr>\n",
       "    <tr>\n",
       "      <th>1592</th>\n",
       "      <td>2015-08-24</td>\n",
       "      <td>1</td>\n",
       "    </tr>\n",
       "  </tbody>\n",
       "</table>\n",
       "</div>"
      ],
      "text/plain": [
       "     INITDT_date_only  Number_potholes\n",
       "1588       2015-08-20                3\n",
       "1589       2015-08-21                3\n",
       "1590       2015-08-22                2\n",
       "1591       2015-08-23                1\n",
       "1592       2015-08-24                1"
      ]
     },
     "execution_count": 33,
     "metadata": {},
     "output_type": "execute_result"
    }
   ],
   "source": [
    "df_number_potholes.tail()"
   ]
  },
  {
   "cell_type": "code",
   "execution_count": 10,
   "metadata": {
    "collapsed": false
   },
   "outputs": [
    {
     "name": "stdout",
     "output_type": "stream",
     "text": [
      "<class 'pandas.core.frame.DataFrame'>\n",
      "Int64Index: 1593 entries, 0 to 1592\n",
      "Data columns (total 2 columns):\n",
      "INITDT_date_only    1593 non-null datetime64[ns]\n",
      "Number_potholes     1593 non-null int64\n",
      "dtypes: datetime64[ns](1), int64(1)\n",
      "memory usage: 37.3 KB\n"
     ]
    }
   ],
   "source": [
    "df_number_potholes.info()"
   ]
  },
  {
   "cell_type": "code",
   "execution_count": 11,
   "metadata": {
    "collapsed": false
   },
   "outputs": [
    {
     "data": {
      "text/plain": [
       "(Timestamp('2010-03-29 00:00:00'),\n",
       " Timedelta('8 days 00:00:00'),\n",
       " Timestamp('2010-03-11 00:00:00'))"
      ]
     },
     "execution_count": 11,
     "metadata": {},
     "output_type": "execute_result"
    }
   ],
   "source": [
    "df.ix[0, 'INITDT_date_only'], df.ix[0, 'DURATION'], df_number_potholes.ix[0, 'INITDT_date_only']"
   ]
  },
  {
   "cell_type": "code",
   "execution_count": 12,
   "metadata": {
    "collapsed": false
   },
   "outputs": [
    {
     "data": {
      "text/plain": [
       "True"
      ]
     },
     "execution_count": 12,
     "metadata": {},
     "output_type": "execute_result"
    }
   ],
   "source": [
    "df.ix[0, 'INITDT_date_only'] + df.ix[0, 'DURATION'] > df_number_potholes.ix[0, 'INITDT_date_only']"
   ]
  },
  {
   "cell_type": "code",
   "execution_count": 13,
   "metadata": {
    "collapsed": false
   },
   "outputs": [
    {
     "data": {
      "text/plain": [
       "False"
      ]
     },
     "execution_count": 13,
     "metadata": {},
     "output_type": "execute_result"
    }
   ],
   "source": [
    "(df.ix[0, 'INITDT_date_only'] + df.ix[0, 'DURATION'] > df_number_potholes.ix[0, 'INITDT_date_only']) \\\n",
    "and (df_number_potholes.ix[0, 'INITDT_date_only'] > df.ix[0, 'INITDT_date_only']) "
   ]
  },
  {
   "cell_type": "code",
   "execution_count": 34,
   "metadata": {
    "collapsed": false
   },
   "outputs": [
    {
     "name": "stdout",
     "output_type": "stream",
     "text": [
      "[1, 4, 6, 1, 6, 9, 7, 9, 10, 8, 8, 5, 5, 3, 4, 4, 5, 4, 8, 2, 1, 1, 3, 13, 11, 15, 15, 9, 8, 8, 8, 7, 9, 7, 10, 8, 3, 4, 5, 6, 6, 7, 3, 3, 2, 2, 3, 7, 8, 7, 10, 11, 12, 11, 11, 13, 14, 17, 15, 13, 10, 10, 10, 8, 8, 7, 5, 8, 9, 7, 8, 4, 4, 2, 4, 3, 2, 2, 2, 3, 2, 3, 2, 3, 3, 2, 1, 4, 2, 1, 2, 2, 2, 3, 4, 4, 2, 1, 1, 2, 3, 1, 2, 1, 2, 1, 2, 1, 1, 2, 1, 1, 2, 3, 4, 4, 4, 5, 2, 3, 3, 5, 7, 10, 9, 7, 10, 11, 12, 8, 8, 8, 7, 4, 5, 1, 4, 5, 6, 9, 8, 8, 10, 13, 10, 11, 13, 14, 15, 18, 19, 19, 14, 14, 12, 13, 14, 15, 14, 14, 21, 23, 25, 31, 32, 33, 32, 39, 44, 55, 54, 57, 63, 92, 102, 126, 144, 145, 147, 152, 164, 189, 198, 215, 219, 221, 222, 228, 230, 225, 235, 237, 243, 249, 285, 269, 271, 275, 275, 277, 280, 275, 264, 308, 346, 332, 332, 336, 345, 351, 355, 331, 311, 312, 319, 290, 289, 267, 255, 248, 247, 253, 240, 221, 231, 248, 226, 228, 230, 235, 232, 225, 225, 211, 212, 216, 190, 168, 159, 160, 149, 151, 152, 154, 131, 132, 136, 118, 119, 124, 106, 102, 95, 84, 75, 78, 80, 79, 70, 57, 46, 49, 53, 56, 59, 60, 63, 71, 65, 66, 76, 68, 63, 65, 69, 67, 70, 73, 71, 70, 48, 43, 43, 46, 50, 47, 51, 55, 57, 60, 61, 56, 51, 48, 47, 42, 44, 50, 39, 39, 33, 36, 39, 40, 25, 27, 27, 27, 28, 24, 29, 28, 24, 20, 20, 25, 26, 27, 30, 30, 32, 34, 37, 36, 33, 31, 33, 33, 36, 33, 31, 26, 22, 23, 25, 26, 29, 28, 31, 30, 30, 35, 40, 36, 31, 30, 27, 27, 21, 18, 19, 18, 19, 17, 18, 16, 17, 10, 9, 9, 7, 8, 8, 13, 14, 15, 13, 18, 13, 16, 17, 14, 13, 13, 11, 11, 12, 10, 5, 6, 3, 4, 4, 1, 2, 5, 4, 6, 7, 10, 8, 6, 4, 5, 6, 4, 4, 4, 4, 4, 2, 3, 5, 5, 2, 4, 2, 3, 5, 3, 5, 3, 4, 6, 5, 2, 4, 3, 4, 3, 6, 5, 3, 4, 3, 5, 11, 6, 4, 6, 7, 9, 5, 4, 4, 2, 2, 3, 4, 4, 4, 5, 3, 6, 8, 10, 11, 9, 7, 3, 4, 5, 5, 4, 10, 4, 4, 3, 2, 2, 1, 3, 4, 2, 2, 2, 1, 7, 3, 5, 6, 3, 11, 9, 9, 6, 7, 7, 8, 7, 10, 19, 29, 34, 45, 27, 28, 32, 40, 36, 42, 31, 26, 27, 28, 24, 27, 25, 25, 25, 27, 28, 23, 17, 10, 20, 17, 18, 19, 20, 11, 16, 17, 19, 20, 23, 14, 23, 21, 17, 12, 13, 7, 5, 8, 15, 9, 9, 13, 13, 16, 15, 17, 19, 26, 27, 28, 30, 21, 22, 21, 28, 28, 24, 28, 30, 31, 30, 25, 26, 31, 27, 28, 23, 24, 23, 25, 20, 21, 22, 18, 15, 14, 14, 14, 14, 20, 13, 13, 11, 9, 12, 10, 13, 13, 14, 14, 18, 15, 21, 20, 16, 17, 17, 20, 17, 14, 13, 10, 12, 21, 16, 14, 16, 15, 17, 20, 17, 13, 13, 16, 17, 17, 14, 15, 16, 17, 22, 16, 10, 12, 8, 9, 12, 12, 8, 10, 10, 11, 13, 8, 7, 3, 6, 10, 11, 15, 18, 18, 16, 8, 10, 12, 8, 6, 5, 8, 9, 12, 8, 7, 7, 5, 6, 10, 10, 6, 6, 5, 4, 4, 5, 5, 5, 8, 9, 11, 4, 4, 8, 9, 12, 13, 15, 15, 13, 13, 16, 15, 14, 12, 9, 12, 11, 11, 9, 7, 8, 10, 9, 10, 9, 11, 7, 12, 10, 9, 10, 11, 11, 12, 11, 10, 12, 16, 11, 6, 9, 7, 10, 4, 5, 6, 4, 6, 7, 8, 7, 10, 8, 6, 5, 9, 3, 4, 5, 2, 4, 4, 4, 5, 8, 10, 14, 12, 15, 19, 19, 11, 7, 7, 8, 9, 11, 12, 12, 13, 11, 12, 14, 14, 3, 5, 10, 15, 16, 14, 15, 16, 11, 15, 16, 18, 27, 29, 29, 27, 13, 14, 12, 8, 10, 9, 11, 12, 13, 19, 17, 8, 8, 10, 14, 10, 11, 9, 14, 9, 11, 11, 13, 9, 9, 7, 4, 8, 7, 5, 6, 8, 10, 5, 10, 12, 6, 7, 8, 9, 10, 8, 10, 6, 7, 7, 5, 6, 6, 8, 7, 8, 11, 10, 10, 12, 4, 6, 7, 9, 10, 9, 7, 11, 12, 14, 15, 19, 11, 9, 21, 22, 23, 24, 19, 13, 8, 9, 9, 11, 10, 7, 8, 3, 6, 3, 5, 7, 10, 10, 12, 10, 11, 8, 6, 9, 10, 12, 11, 13, 14, 12, 13, 20, 12, 14, 7, 3, 4, 8, 9, 8, 8, 4, 6, 11, 10, 11, 8, 5, 6, 8, 11, 11, 8, 5, 9, 12, 13, 11, 12, 14, 12, 16, 12, 10, 10, 12, 13, 16, 15, 11, 10, 7, 7, 8, 10, 7, 7, 9, 8, 9, 4, 5, 8, 8, 16, 8, 4, 4, 7, 5, 8, 3, 5, 7, 5, 7, 7, 6, 7, 7, 3, 6, 5, 7, 10, 5, 5, 4, 6, 11, 11, 2, 3, 3, 3, 5, 6, 10, 11, 14, 7, 5, 2, 3, 5, 4, 7, 8, 9, 8, 2, 4, 2, 5, 5, 5, 10, 8, 9, 10, 7, 11, 7, 6, 9, 8, 5, 1, 2, 3, 10, 10, 5, 4, 5, 7, 6, 7, 6, 6, 7, 8, 10, 6, 8, 7, 8, 6, 8, 3, 1, 2, 5, 7, 9, 8, 4, 4, 6, 7, 4, 3, 3, 8, 8, 10, 7, 8, 6, 8, 10, 10, 3, 6, 4, 5, 7, 6, 6, 6, 7, 8, 7, 5, 5, 5, 5, 5, 9, 3, 3, 8, 5, 7, 6, 4, 5, 3, 5, 4, 7, 2, 3, 2, 4, 5, 3, 2, 2, 3, 3, 5, 4, 5, 6, 7, 7, 7, 7, 7, 3, 3, 2, 4, 5, 6, 6, 11, 11, 18, 22, 20, 18, 13, 11, 9, 9, 11, 11, 12, 7, 8, 13, 8, 9, 9, 7, 6, 4, 7, 7, 5, 4, 6, 8, 9, 14, 20, 24, 16, 20, 21, 21, 25, 19, 20, 21, 22, 21, 13, 24, 27, 21, 23, 46, 33, 37, 16, 30, 29, 33, 29, 28, 24, 23, 23, 18, 21, 27, 22, 23, 15, 16, 14, 28, 18, 19, 16, 17, 19, 20, 30, 34, 30, 30, 37, 40, 40, 33, 21, 14, 13, 13, 14, 35, 32, 24, 14, 13, 16, 17, 23, 20, 12, 11, 8, 15, 17, 12, 10, 9, 12, 16, 8, 6, 5, 2, 3, 9, 13, 15, 9, 12, 13, 15, 19, 15, 11, 11, 12, 14, 14, 11, 11, 8, 10, 14, 16, 12, 18, 19, 10, 11, 14, 15, 14, 6, 4, 2, 3, 6, 5, 7, 4, 7, 8, 10, 6, 7, 3, 6, 7, 10, 11, 9, 8, 9, 8, 9, 12, 6, 4, 5, 6, 9, 6, 2, 4, 6, 6, 4, 8, 6, 16, 21, 19, 3, 4, 5, 7, 5, 4, 3, 4, 6, 9, 7, 4, 7, 9, 8, 4, 5, 6, 7, 8, 13, 12, 3, 9, 10, 7, 4, 4, 4, 5, 8, 12, 5, 5, 6, 5, 3, 4, 4, 5, 6, 8, 6, 3, 1, 3, 5, 3, 4, 2, 4, 5, 5, 7, 6, 4, 4, 6, 6, 6, 8, 8, 9, 11, 16, 9, 12, 10, 11, 14, 16, 24, 36, 37, 29, 22, 22, 25, 22, 24, 11, 10, 10, 6, 4, 9, 6, 11, 14, 18, 16, 10, 13, 15, 17, 19, 16, 14, 12, 13, 17, 18, 20, 18, 21, 20, 17, 22, 24, 25, 31, 33, 27, 23, 26, 35, 29, 20, 18, 20, 19, 21, 27, 32, 32, 34, 32, 32, 33, 31, 39, 40, 44, 46, 46, 48, 42, 27, 20, 18, 12, 13, 17, 23, 26, 19, 15, 16, 16, 18, 17, 13, 11, 13, 20, 21, 20, 11, 8, 11, 11, 14, 21, 25, 21, 28, 31, 30, 31, 33, 40, 35, 20, 14, 10, 11, 14, 15, 14, 20, 9, 15, 17, 11, 7, 3, 3, 17, 19, 27, 11, 8, 4, 10, 8, 10, 8, 15, 16, 32, 14, 15, 17, 14, 16, 19, 21, 18, 14, 12, 10, 11, 14, 20, 20, 13, 11, 8, 10, 13, 14, 8, 9, 10, 16, 21, 29, 27, 20, 11, 11, 18, 21, 23, 24, 15, 11, 10, 11, 12, 14, 17, 12, 9, 7, 19, 23, 24, 15, 7, 8, 11, 12, 14, 18, 10, 10, 8, 9, 13, 17, 16, 13, 13, 9, 9, 3, 7, 4, 8, 11, 4, 7, 8, 10, 11, 10, 3, 2, 3, 6, 7, 4, 6, 4, 7, 6, 7, 7, 5, 8, 7, 9, 7, 4, 3, 2, 5, 8, 8, 5, 4, 4, 3, 5, 6, 7, 5, 3, 4, 2, 7, 9, 3, 7, 3, 6, 5, 5, 4, 3, 4, 2, 6, 5, 5, 4, 2, 3, 3, 2, 3, 3, 3, 5, 7, 7, 3]\n"
     ]
    }
   ],
   "source": [
    "cum_potholes = []\n",
    "# for date_item in df_number_potholes.index.tolist():\n",
    "for date_item in xrange(1593):\n",
    "    total = 0\n",
    "    for each_item in df.index.tolist():\n",
    "        if (df.ix[each_item, 'INITDT_date_only'] + df.ix[each_item, 'DURATION'] > df_number_potholes.ix[date_item, 'INITDT_date_only'])\\\n",
    "        and (df_number_potholes.ix[date_item, 'INITDT_date_only'] >= df.ix[each_item, 'INITDT_date_only']):\n",
    "            total += 1\n",
    "    cum_potholes.append(total)\n",
    "print cum_potholes"
   ]
  },
  {
   "cell_type": "markdown",
   "metadata": {},
   "source": [
    "####The first 50: [1, 4, 6, 1, 6, 9, 7, 9, 10, 8, 8, 5, 5, 3, 4, 4, 5, 4, 8, 2, 1, 1, 3, 13, 11, 15, 15, 9, 8, 8, 8, 7, 9, 7, 10, 8, 3, 4, 5, 6, 6, 7, 3, 3, 2, 2, 3, 7, 8, 7]"
   ]
  },
  {
   "cell_type": "markdown",
   "metadata": {},
   "source": [
    "At 6.5 min per 50, it should take about 3.5 hrs to do the whole run.  Why didn't it finish last night?"
   ]
  },
  {
   "cell_type": "code",
   "execution_count": 35,
   "metadata": {
    "collapsed": false
   },
   "outputs": [
    {
     "data": {
      "text/plain": [
       "1593"
      ]
     },
     "execution_count": 35,
     "metadata": {},
     "output_type": "execute_result"
    }
   ],
   "source": [
    "len(cum_potholes)"
   ]
  },
  {
   "cell_type": "code",
   "execution_count": 36,
   "metadata": {
    "collapsed": true
   },
   "outputs": [],
   "source": [
    "df_number_potholes['cumul_potholes'] = cum_potholes"
   ]
  },
  {
   "cell_type": "code",
   "execution_count": 37,
   "metadata": {
    "collapsed": false
   },
   "outputs": [
    {
     "data": {
      "text/html": [
       "<div>\n",
       "<table border=\"1\" class=\"dataframe\">\n",
       "  <thead>\n",
       "    <tr style=\"text-align: right;\">\n",
       "      <th></th>\n",
       "      <th>INITDT_date_only</th>\n",
       "      <th>Number_potholes</th>\n",
       "      <th>cumul_potholes</th>\n",
       "    </tr>\n",
       "  </thead>\n",
       "  <tbody>\n",
       "    <tr>\n",
       "      <th>0</th>\n",
       "      <td>2010-03-11</td>\n",
       "      <td>1</td>\n",
       "      <td>1</td>\n",
       "    </tr>\n",
       "    <tr>\n",
       "      <th>1</th>\n",
       "      <td>2010-03-15</td>\n",
       "      <td>3</td>\n",
       "      <td>4</td>\n",
       "    </tr>\n",
       "    <tr>\n",
       "      <th>2</th>\n",
       "      <td>2010-03-16</td>\n",
       "      <td>5</td>\n",
       "      <td>6</td>\n",
       "    </tr>\n",
       "    <tr>\n",
       "      <th>3</th>\n",
       "      <td>2010-03-19</td>\n",
       "      <td>1</td>\n",
       "      <td>1</td>\n",
       "    </tr>\n",
       "    <tr>\n",
       "      <th>4</th>\n",
       "      <td>2010-03-22</td>\n",
       "      <td>5</td>\n",
       "      <td>6</td>\n",
       "    </tr>\n",
       "  </tbody>\n",
       "</table>\n",
       "</div>"
      ],
      "text/plain": [
       "  INITDT_date_only  Number_potholes  cumul_potholes\n",
       "0       2010-03-11                1               1\n",
       "1       2010-03-15                3               4\n",
       "2       2010-03-16                5               6\n",
       "3       2010-03-19                1               1\n",
       "4       2010-03-22                5               6"
      ]
     },
     "execution_count": 37,
     "metadata": {},
     "output_type": "execute_result"
    }
   ],
   "source": [
    "df_number_potholes.head(5)"
   ]
  },
  {
   "cell_type": "code",
   "execution_count": 38,
   "metadata": {
    "collapsed": false
   },
   "outputs": [
    {
     "data": {
      "text/html": [
       "<div>\n",
       "<table border=\"1\" class=\"dataframe\">\n",
       "  <thead>\n",
       "    <tr style=\"text-align: right;\">\n",
       "      <th></th>\n",
       "      <th>INITDT_date_only</th>\n",
       "      <th>Number_potholes</th>\n",
       "      <th>cumul_potholes</th>\n",
       "    </tr>\n",
       "  </thead>\n",
       "  <tbody>\n",
       "    <tr>\n",
       "      <th>1588</th>\n",
       "      <td>2015-08-20</td>\n",
       "      <td>3</td>\n",
       "      <td>3</td>\n",
       "    </tr>\n",
       "    <tr>\n",
       "      <th>1589</th>\n",
       "      <td>2015-08-21</td>\n",
       "      <td>3</td>\n",
       "      <td>5</td>\n",
       "    </tr>\n",
       "    <tr>\n",
       "      <th>1590</th>\n",
       "      <td>2015-08-22</td>\n",
       "      <td>2</td>\n",
       "      <td>7</td>\n",
       "    </tr>\n",
       "    <tr>\n",
       "      <th>1591</th>\n",
       "      <td>2015-08-23</td>\n",
       "      <td>1</td>\n",
       "      <td>7</td>\n",
       "    </tr>\n",
       "    <tr>\n",
       "      <th>1592</th>\n",
       "      <td>2015-08-24</td>\n",
       "      <td>1</td>\n",
       "      <td>3</td>\n",
       "    </tr>\n",
       "  </tbody>\n",
       "</table>\n",
       "</div>"
      ],
      "text/plain": [
       "     INITDT_date_only  Number_potholes  cumul_potholes\n",
       "1588       2015-08-20                3               3\n",
       "1589       2015-08-21                3               5\n",
       "1590       2015-08-22                2               7\n",
       "1591       2015-08-23                1               7\n",
       "1592       2015-08-24                1               3"
      ]
     },
     "execution_count": 38,
     "metadata": {},
     "output_type": "execute_result"
    }
   ],
   "source": [
    "df_number_potholes.tail()"
   ]
  },
  {
   "cell_type": "code",
   "execution_count": 39,
   "metadata": {
    "collapsed": true
   },
   "outputs": [],
   "source": [
    "df_number_potholes.to_pickle('df_number_potholes.pkl')"
   ]
  },
  {
   "cell_type": "code",
   "execution_count": 40,
   "metadata": {
    "collapsed": true
   },
   "outputs": [],
   "source": [
    "df = df.reset_index()\n",
    "df = pd.merge(df, df_number_potholes, how='left', on='INITDT_date_only')\n",
    "df = df.set_index('index')\n"
   ]
  },
  {
   "cell_type": "code",
   "execution_count": 41,
   "metadata": {
    "collapsed": false
   },
   "outputs": [
    {
     "data": {
      "text/html": [
       "<div>\n",
       "<table border=\"1\" class=\"dataframe\">\n",
       "  <thead>\n",
       "    <tr style=\"text-align: right;\">\n",
       "      <th></th>\n",
       "      <th>OBJECTID</th>\n",
       "      <th>WOKEY</th>\n",
       "      <th>LOCATION</th>\n",
       "      <th>ADDRDESC</th>\n",
       "      <th>INITDT_dt</th>\n",
       "      <th>FLDSTARTDT_dt</th>\n",
       "      <th>FLDENDDT_dt</th>\n",
       "      <th>DURATION</th>\n",
       "      <th>DURATION_td</th>\n",
       "      <th>latitude</th>\n",
       "      <th>longitude</th>\n",
       "      <th>address</th>\n",
       "      <th>INITDT_date_only</th>\n",
       "      <th>Number_potholes</th>\n",
       "      <th>cumul_potholes</th>\n",
       "    </tr>\n",
       "    <tr>\n",
       "      <th>index</th>\n",
       "      <th></th>\n",
       "      <th></th>\n",
       "      <th></th>\n",
       "      <th></th>\n",
       "      <th></th>\n",
       "      <th></th>\n",
       "      <th></th>\n",
       "      <th></th>\n",
       "      <th></th>\n",
       "      <th></th>\n",
       "      <th></th>\n",
       "      <th></th>\n",
       "      <th></th>\n",
       "      <th></th>\n",
       "      <th></th>\n",
       "    </tr>\n",
       "  </thead>\n",
       "  <tbody>\n",
       "    <tr>\n",
       "      <th>0</th>\n",
       "      <td>1</td>\n",
       "      <td>2456</td>\n",
       "      <td>Holden pl SW bt  SW Kenyon Holden             ...</td>\n",
       "      <td>HOLDEN PL SW BETWEEN SW HOLDEN ST AND SW KENYO...</td>\n",
       "      <td>2010-03-29 07:00:00</td>\n",
       "      <td>2010-04-06 07:00:00</td>\n",
       "      <td>2010-04-06 07:00:00</td>\n",
       "      <td>8 days</td>\n",
       "      <td>8</td>\n",
       "      <td>47.531858</td>\n",
       "      <td>-122.363186</td>\n",
       "      <td>SW Kenyon St, Seattle, WA, USA</td>\n",
       "      <td>2010-03-29</td>\n",
       "      <td>3</td>\n",
       "      <td>8</td>\n",
       "    </tr>\n",
       "    <tr>\n",
       "      <th>1</th>\n",
       "      <td>2</td>\n",
       "      <td>2514</td>\n",
       "      <td>NE Pacific Street, one block west of Montlake ...</td>\n",
       "      <td>MONTLAKE BLVD NE AND NE PACIFIC ST            ...</td>\n",
       "      <td>2010-03-30 07:00:00</td>\n",
       "      <td>2010-04-01 07:00:00</td>\n",
       "      <td>2010-04-01 07:00:00</td>\n",
       "      <td>2 days</td>\n",
       "      <td>2</td>\n",
       "      <td>47.649014</td>\n",
       "      <td>-122.304655</td>\n",
       "      <td>Montlake Blvd NE &amp; NE Pacific St, Seattle, WA ...</td>\n",
       "      <td>2010-03-30</td>\n",
       "      <td>2</td>\n",
       "      <td>8</td>\n",
       "    </tr>\n",
       "  </tbody>\n",
       "</table>\n",
       "</div>"
      ],
      "text/plain": [
       "       OBJECTID  WOKEY                                           LOCATION  \\\n",
       "index                                                                       \n",
       "0             1   2456  Holden pl SW bt  SW Kenyon Holden             ...   \n",
       "1             2   2514  NE Pacific Street, one block west of Montlake ...   \n",
       "\n",
       "                                                ADDRDESC           INITDT_dt  \\\n",
       "index                                                                          \n",
       "0      HOLDEN PL SW BETWEEN SW HOLDEN ST AND SW KENYO... 2010-03-29 07:00:00   \n",
       "1      MONTLAKE BLVD NE AND NE PACIFIC ST            ... 2010-03-30 07:00:00   \n",
       "\n",
       "            FLDSTARTDT_dt         FLDENDDT_dt  DURATION  DURATION_td  \\\n",
       "index                                                                  \n",
       "0     2010-04-06 07:00:00 2010-04-06 07:00:00    8 days            8   \n",
       "1     2010-04-01 07:00:00 2010-04-01 07:00:00    2 days            2   \n",
       "\n",
       "        latitude   longitude  \\\n",
       "index                          \n",
       "0      47.531858 -122.363186   \n",
       "1      47.649014 -122.304655   \n",
       "\n",
       "                                                 address INITDT_date_only  \\\n",
       "index                                                                       \n",
       "0                         SW Kenyon St, Seattle, WA, USA       2010-03-29   \n",
       "1      Montlake Blvd NE & NE Pacific St, Seattle, WA ...       2010-03-30   \n",
       "\n",
       "       Number_potholes  cumul_potholes  \n",
       "index                                   \n",
       "0                    3               8  \n",
       "1                    2               8  "
      ]
     },
     "execution_count": 41,
     "metadata": {},
     "output_type": "execute_result"
    }
   ],
   "source": [
    "df.head(2)"
   ]
  },
  {
   "cell_type": "code",
   "execution_count": 42,
   "metadata": {
    "collapsed": false
   },
   "outputs": [
    {
     "data": {
      "text/html": [
       "<div>\n",
       "<table border=\"1\" class=\"dataframe\">\n",
       "  <thead>\n",
       "    <tr style=\"text-align: right;\">\n",
       "      <th></th>\n",
       "      <th>OBJECTID</th>\n",
       "      <th>WOKEY</th>\n",
       "      <th>LOCATION</th>\n",
       "      <th>ADDRDESC</th>\n",
       "      <th>INITDT_dt</th>\n",
       "      <th>FLDSTARTDT_dt</th>\n",
       "      <th>FLDENDDT_dt</th>\n",
       "      <th>DURATION</th>\n",
       "      <th>DURATION_td</th>\n",
       "      <th>latitude</th>\n",
       "      <th>longitude</th>\n",
       "      <th>address</th>\n",
       "      <th>INITDT_date_only</th>\n",
       "      <th>Number_potholes</th>\n",
       "      <th>cumul_potholes</th>\n",
       "    </tr>\n",
       "    <tr>\n",
       "      <th>index</th>\n",
       "      <th></th>\n",
       "      <th></th>\n",
       "      <th></th>\n",
       "      <th></th>\n",
       "      <th></th>\n",
       "      <th></th>\n",
       "      <th></th>\n",
       "      <th></th>\n",
       "      <th></th>\n",
       "      <th></th>\n",
       "      <th></th>\n",
       "      <th></th>\n",
       "      <th></th>\n",
       "      <th></th>\n",
       "      <th></th>\n",
       "    </tr>\n",
       "  </thead>\n",
       "  <tbody>\n",
       "    <tr>\n",
       "      <th>10998</th>\n",
       "      <td>10999</td>\n",
       "      <td>96785</td>\n",
       "      <td>9719 3rd Ave NW                               ...</td>\n",
       "      <td>3RD AVE NW BETWEEN NW 97TH ST AND NW 100TH ST ...</td>\n",
       "      <td>2011-12-28 08:00:00</td>\n",
       "      <td>2011-12-30 08:00:00</td>\n",
       "      <td>2011-12-30 08:00:00</td>\n",
       "      <td>2 days</td>\n",
       "      <td>2</td>\n",
       "      <td>47.701542</td>\n",
       "      <td>-122.374093</td>\n",
       "      <td>NW 100th St, Seattle, WA 98177, USA</td>\n",
       "      <td>2011-12-28</td>\n",
       "      <td>1</td>\n",
       "      <td>2</td>\n",
       "    </tr>\n",
       "    <tr>\n",
       "      <th>10999</th>\n",
       "      <td>11000</td>\n",
       "      <td>107829</td>\n",
       "      <td>Rainier Ave S to S Massachusetts              ...</td>\n",
       "      <td>RAINIER AVE S BETWEEN RAINIER NB (I90 EB ON RP...</td>\n",
       "      <td>2012-03-19 07:00:00</td>\n",
       "      <td>2012-03-20 07:00:00</td>\n",
       "      <td>2012-03-20 07:00:00</td>\n",
       "      <td>1 days</td>\n",
       "      <td>1</td>\n",
       "      <td>47.588483</td>\n",
       "      <td>-122.313814</td>\n",
       "      <td>S Massachusetts St, Seattle, WA, USA</td>\n",
       "      <td>2012-03-19</td>\n",
       "      <td>16</td>\n",
       "      <td>26</td>\n",
       "    </tr>\n",
       "  </tbody>\n",
       "</table>\n",
       "</div>"
      ],
      "text/plain": [
       "       OBJECTID   WOKEY                                           LOCATION  \\\n",
       "index                                                                        \n",
       "10998     10999   96785  9719 3rd Ave NW                               ...   \n",
       "10999     11000  107829  Rainier Ave S to S Massachusetts              ...   \n",
       "\n",
       "                                                ADDRDESC           INITDT_dt  \\\n",
       "index                                                                          \n",
       "10998  3RD AVE NW BETWEEN NW 97TH ST AND NW 100TH ST ... 2011-12-28 08:00:00   \n",
       "10999  RAINIER AVE S BETWEEN RAINIER NB (I90 EB ON RP... 2012-03-19 07:00:00   \n",
       "\n",
       "            FLDSTARTDT_dt         FLDENDDT_dt  DURATION  DURATION_td  \\\n",
       "index                                                                  \n",
       "10998 2011-12-30 08:00:00 2011-12-30 08:00:00    2 days            2   \n",
       "10999 2012-03-20 07:00:00 2012-03-20 07:00:00    1 days            1   \n",
       "\n",
       "        latitude   longitude                               address  \\\n",
       "index                                                                \n",
       "10998  47.701542 -122.374093   NW 100th St, Seattle, WA 98177, USA   \n",
       "10999  47.588483 -122.313814  S Massachusetts St, Seattle, WA, USA   \n",
       "\n",
       "      INITDT_date_only  Number_potholes  cumul_potholes  \n",
       "index                                                    \n",
       "10998       2011-12-28                1               2  \n",
       "10999       2012-03-19               16              26  "
      ]
     },
     "execution_count": 42,
     "metadata": {},
     "output_type": "execute_result"
    }
   ],
   "source": [
    "df.tail(2)"
   ]
  },
  {
   "cell_type": "markdown",
   "metadata": {},
   "source": [
    "####Produce time series plots of cumul potholes before I go any further.  Move the code to the mapping py file."
   ]
  },
  {
   "cell_type": "code",
   "execution_count": 43,
   "metadata": {
    "collapsed": false
   },
   "outputs": [
    {
     "name": "stdout",
     "output_type": "stream",
     "text": [
      "<class 'pandas.core.frame.DataFrame'>\n",
      "Int64Index: 1593 entries, 0 to 1592\n",
      "Data columns (total 3 columns):\n",
      "INITDT_date_only    1593 non-null datetime64[ns]\n",
      "Number_potholes     1593 non-null int64\n",
      "cumul_potholes      1593 non-null int64\n",
      "dtypes: datetime64[ns](1), int64(2)\n",
      "memory usage: 49.8 KB\n"
     ]
    }
   ],
   "source": [
    "df_number_potholes.info()"
   ]
  },
  {
   "cell_type": "code",
   "execution_count": 44,
   "metadata": {
    "collapsed": true
   },
   "outputs": [],
   "source": [
    "import matplotlib.pyplot as plt"
   ]
  },
  {
   "cell_type": "code",
   "execution_count": 66,
   "metadata": {
    "collapsed": false
   },
   "outputs": [],
   "source": [
    "import matplotlib\n",
    "matplotlib.style.use('ggplot')"
   ]
  },
  {
   "cell_type": "code",
   "execution_count": 45,
   "metadata": {
    "collapsed": true
   },
   "outputs": [],
   "source": [
    "%matplotlib inline"
   ]
  },
  {
   "cell_type": "code",
   "execution_count": 57,
   "metadata": {
    "collapsed": false
   },
   "outputs": [],
   "source": [
    "df_number_potholes = df_number_potholes.set_index('INITDT_date_only')"
   ]
  },
  {
   "cell_type": "code",
   "execution_count": 79,
   "metadata": {
    "collapsed": true
   },
   "outputs": [],
   "source": [
    "df_number_potholes.index.name=''"
   ]
  },
  {
   "cell_type": "code",
   "execution_count": 83,
   "metadata": {
    "collapsed": false
   },
   "outputs": [
    {
     "data": {
      "image/png": "[encoded data removed]",
      "text/plain": [
       "<matplotlib.figure.Figure at 0xfbdc400>"
      ]
     },
     "metadata": {},
     "output_type": "display_data"
    }
   ],
   "source": [
    "ax = fig.add_subplot(111)\n",
    "df_number_potholes.plot(figsize=(10,8),fontsize=20)\n",
    "plt.savefig('Number_of_Potholes.png')"
   ]
  },
  {
   "cell_type": "code",
   "execution_count": 60,
   "metadata": {
    "collapsed": false
   },
   "outputs": [
    {
     "data": {
      "text/plain": [
       "<matplotlib.axes._subplots.AxesSubplot at 0xe37eb00>"
      ]
     },
     "execution_count": 60,
     "metadata": {},
     "output_type": "execute_result"
    },
    {
     "data": {
      "image/png": "[encoded data removed]",
      "text/plain": [
       "<matplotlib.figure.Figure at 0xe389978>"
      ]
     },
     "metadata": {},
     "output_type": "display_data"
    }
   ],
   "source": [
    "df_number_potholes['cumul_potholes'].plot()"
   ]
  },
  {
   "cell_type": "code",
   "execution_count": 51,
   "metadata": {
    "collapsed": false
   },
   "outputs": [
    {
     "data": {
      "text/plain": [
       "[<matplotlib.lines.Line2D at 0xd6e0b00>]"
      ]
     },
     "execution_count": 51,
     "metadata": {},
     "output_type": "execute_result"
    },
    {
     "data": {
      "image/png": "[encoded data removed]",
      "text/plain": [
       "<matplotlib.figure.Figure at 0xd3f9588>"
      ]
     },
     "metadata": {},
     "output_type": "display_data"
    }
   ],
   "source": [
    "plt.plot(df_number_potholes.index, df_number_potholes['cumul_potholes'])"
   ]
  },
  {
   "cell_type": "code",
   "execution_count": null,
   "metadata": {
    "collapsed": true
   },
   "outputs": [],
   "source": [
    "df_number_potholes['cumul_potholes']"
   ]
  },
  {
   "cell_type": "code",
   "execution_count": 61,
   "metadata": {
    "collapsed": true
   },
   "outputs": [],
   "source": [
    "ts = pd.Series(df_number_potholes['cumul_potholes'], index=df_number_potholes.index)"
   ]
  },
  {
   "cell_type": "code",
   "execution_count": 62,
   "metadata": {
    "collapsed": false
   },
   "outputs": [
    {
     "data": {
      "text/plain": [
       "INITDT_date_only\n",
       "2010-03-11     1\n",
       "2010-03-15     4\n",
       "2010-03-16     6\n",
       "2010-03-19     1\n",
       "2010-03-22     6\n",
       "2010-03-24     9\n",
       "2010-03-26     7\n",
       "2010-03-27     9\n",
       "2010-03-28    10\n",
       "2010-03-29     8\n",
       "2010-03-30     8\n",
       "2010-03-31     5\n",
       "2010-04-01     5\n",
       "2010-04-02     3\n",
       "2010-04-04     4\n",
       "2010-04-05     4\n",
       "2010-04-06     5\n",
       "2010-04-08     4\n",
       "2010-04-12     8\n",
       "2010-04-14     2\n",
       "2010-04-15     1\n",
       "2010-04-16     1\n",
       "2010-04-17     3\n",
       "2010-04-19    13\n",
       "2010-04-20    11\n",
       "2010-04-21    15\n",
       "2010-04-22    15\n",
       "2010-04-23     9\n",
       "2010-04-26     8\n",
       "2010-04-27     8\n",
       "              ..\n",
       "2015-07-21     3\n",
       "2015-07-22     4\n",
       "2015-07-23     2\n",
       "2015-07-24     7\n",
       "2015-07-27     9\n",
       "2015-07-28     3\n",
       "2015-07-29     7\n",
       "2015-07-30     3\n",
       "2015-07-31     6\n",
       "2015-08-01     5\n",
       "2015-08-02     5\n",
       "2015-08-03     4\n",
       "2015-08-04     3\n",
       "2015-08-05     4\n",
       "2015-08-06     2\n",
       "2015-08-07     6\n",
       "2015-08-10     5\n",
       "2015-08-11     5\n",
       "2015-08-12     4\n",
       "2015-08-13     2\n",
       "2015-08-14     3\n",
       "2015-08-16     3\n",
       "2015-08-17     2\n",
       "2015-08-18     3\n",
       "2015-08-19     3\n",
       "2015-08-20     3\n",
       "2015-08-21     5\n",
       "2015-08-22     7\n",
       "2015-08-23     7\n",
       "2015-08-24     3\n",
       "Name: cumul_potholes, dtype: int64"
      ]
     },
     "execution_count": 62,
     "metadata": {},
     "output_type": "execute_result"
    }
   ],
   "source": [
    "ts"
   ]
  },
  {
   "cell_type": "code",
   "execution_count": 64,
   "metadata": {
    "collapsed": false
   },
   "outputs": [
    {
     "ename": "TypeError",
     "evalue": "There is no line property \"name\"",
     "output_type": "error",
     "traceback": [
      "\u001b[1;31m---------------------------------------------------------------------------\u001b[0m",
      "\u001b[1;31mTypeError\u001b[0m                                 Traceback (most recent call last)",
      "\u001b[1;32m<ipython-input-64-9afc12aa3d56>\u001b[0m in \u001b[0;36m<module>\u001b[1;34m()\u001b[0m\n\u001b[1;32m----> 1\u001b[1;33m \u001b[0mts\u001b[0m\u001b[1;33m.\u001b[0m\u001b[0mplot\u001b[0m\u001b[1;33m(\u001b[0m\u001b[0mname\u001b[0m\u001b[1;33m=\u001b[0m\u001b[0mFalse\u001b[0m\u001b[1;33m)\u001b[0m\u001b[1;33m\u001b[0m\u001b[0m\n\u001b[0m",
      "\u001b[1;32mC:\\Users\\andersrmr\\Anaconda\\lib\\site-packages\\pandas\\tools\\plotting.pyc\u001b[0m in \u001b[0;36mplot_series\u001b[1;34m(data, kind, ax, figsize, use_index, title, grid, legend, style, logx, logy, loglog, xticks, yticks, xlim, ylim, rot, fontsize, colormap, table, yerr, xerr, label, secondary_y, **kwds)\u001b[0m\n\u001b[0;32m   2517\u001b[0m                  \u001b[0myerr\u001b[0m\u001b[1;33m=\u001b[0m\u001b[0myerr\u001b[0m\u001b[1;33m,\u001b[0m \u001b[0mxerr\u001b[0m\u001b[1;33m=\u001b[0m\u001b[0mxerr\u001b[0m\u001b[1;33m,\u001b[0m\u001b[1;33m\u001b[0m\u001b[0m\n\u001b[0;32m   2518\u001b[0m                  \u001b[0mlabel\u001b[0m\u001b[1;33m=\u001b[0m\u001b[0mlabel\u001b[0m\u001b[1;33m,\u001b[0m \u001b[0msecondary_y\u001b[0m\u001b[1;33m=\u001b[0m\u001b[0msecondary_y\u001b[0m\u001b[1;33m,\u001b[0m\u001b[1;33m\u001b[0m\u001b[0m\n\u001b[1;32m-> 2519\u001b[1;33m                  **kwds)\n\u001b[0m\u001b[0;32m   2520\u001b[0m \u001b[1;33m\u001b[0m\u001b[0m\n\u001b[0;32m   2521\u001b[0m \u001b[1;33m\u001b[0m\u001b[0m\n",
      "\u001b[1;32mC:\\Users\\andersrmr\\Anaconda\\lib\\site-packages\\pandas\\tools\\plotting.pyc\u001b[0m in \u001b[0;36m_plot\u001b[1;34m(data, x, y, subplots, ax, kind, **kwds)\u001b[0m\n\u001b[0;32m   2322\u001b[0m         \u001b[0mplot_obj\u001b[0m \u001b[1;33m=\u001b[0m \u001b[0mklass\u001b[0m\u001b[1;33m(\u001b[0m\u001b[0mdata\u001b[0m\u001b[1;33m,\u001b[0m \u001b[0msubplots\u001b[0m\u001b[1;33m=\u001b[0m\u001b[0msubplots\u001b[0m\u001b[1;33m,\u001b[0m \u001b[0max\u001b[0m\u001b[1;33m=\u001b[0m\u001b[0max\u001b[0m\u001b[1;33m,\u001b[0m \u001b[0mkind\u001b[0m\u001b[1;33m=\u001b[0m\u001b[0mkind\u001b[0m\u001b[1;33m,\u001b[0m \u001b[1;33m**\u001b[0m\u001b[0mkwds\u001b[0m\u001b[1;33m)\u001b[0m\u001b[1;33m\u001b[0m\u001b[0m\n\u001b[0;32m   2323\u001b[0m \u001b[1;33m\u001b[0m\u001b[0m\n\u001b[1;32m-> 2324\u001b[1;33m     \u001b[0mplot_obj\u001b[0m\u001b[1;33m.\u001b[0m\u001b[0mgenerate\u001b[0m\u001b[1;33m(\u001b[0m\u001b[1;33m)\u001b[0m\u001b[1;33m\u001b[0m\u001b[0m\n\u001b[0m\u001b[0;32m   2325\u001b[0m     \u001b[0mplot_obj\u001b[0m\u001b[1;33m.\u001b[0m\u001b[0mdraw\u001b[0m\u001b[1;33m(\u001b[0m\u001b[1;33m)\u001b[0m\u001b[1;33m\u001b[0m\u001b[0m\n\u001b[0;32m   2326\u001b[0m     \u001b[1;32mreturn\u001b[0m \u001b[0mplot_obj\u001b[0m\u001b[1;33m.\u001b[0m\u001b[0mresult\u001b[0m\u001b[1;33m\u001b[0m\u001b[0m\n",
      "\u001b[1;32mC:\\Users\\andersrmr\\Anaconda\\lib\\site-packages\\pandas\\tools\\plotting.pyc\u001b[0m in \u001b[0;36mgenerate\u001b[1;34m(self)\u001b[0m\n\u001b[0;32m    912\u001b[0m         \u001b[0mself\u001b[0m\u001b[1;33m.\u001b[0m\u001b[0m_compute_plot_data\u001b[0m\u001b[1;33m(\u001b[0m\u001b[1;33m)\u001b[0m\u001b[1;33m\u001b[0m\u001b[0m\n\u001b[0;32m    913\u001b[0m         \u001b[0mself\u001b[0m\u001b[1;33m.\u001b[0m\u001b[0m_setup_subplots\u001b[0m\u001b[1;33m(\u001b[0m\u001b[1;33m)\u001b[0m\u001b[1;33m\u001b[0m\u001b[0m\n\u001b[1;32m--> 914\u001b[1;33m         \u001b[0mself\u001b[0m\u001b[1;33m.\u001b[0m\u001b[0m_make_plot\u001b[0m\u001b[1;33m(\u001b[0m\u001b[1;33m)\u001b[0m\u001b[1;33m\u001b[0m\u001b[0m\n\u001b[0m\u001b[0;32m    915\u001b[0m         \u001b[0mself\u001b[0m\u001b[1;33m.\u001b[0m\u001b[0m_add_table\u001b[0m\u001b[1;33m(\u001b[0m\u001b[1;33m)\u001b[0m\u001b[1;33m\u001b[0m\u001b[0m\n\u001b[0;32m    916\u001b[0m         \u001b[0mself\u001b[0m\u001b[1;33m.\u001b[0m\u001b[0m_make_legend\u001b[0m\u001b[1;33m(\u001b[0m\u001b[1;33m)\u001b[0m\u001b[1;33m\u001b[0m\u001b[0m\n",
      "\u001b[1;32mC:\\Users\\andersrmr\\Anaconda\\lib\\site-packages\\pandas\\tools\\plotting.pyc\u001b[0m in \u001b[0;36m_make_plot\u001b[1;34m(self)\u001b[0m\n\u001b[0;32m   1623\u001b[0m             \u001b[0mkwds\u001b[0m\u001b[1;33m[\u001b[0m\u001b[1;34m'label'\u001b[0m\u001b[1;33m]\u001b[0m \u001b[1;33m=\u001b[0m \u001b[0mlabel\u001b[0m\u001b[1;33m\u001b[0m\u001b[0m\n\u001b[0;32m   1624\u001b[0m \u001b[1;33m\u001b[0m\u001b[0m\n\u001b[1;32m-> 1625\u001b[1;33m             \u001b[0mnewlines\u001b[0m \u001b[1;33m=\u001b[0m \u001b[0mplotf\u001b[0m\u001b[1;33m(\u001b[0m\u001b[0max\u001b[0m\u001b[1;33m,\u001b[0m \u001b[0mx\u001b[0m\u001b[1;33m,\u001b[0m \u001b[0my\u001b[0m\u001b[1;33m,\u001b[0m \u001b[0mstyle\u001b[0m\u001b[1;33m=\u001b[0m\u001b[0mstyle\u001b[0m\u001b[1;33m,\u001b[0m \u001b[0mcolumn_num\u001b[0m\u001b[1;33m=\u001b[0m\u001b[0mi\u001b[0m\u001b[1;33m,\u001b[0m \u001b[1;33m**\u001b[0m\u001b[0mkwds\u001b[0m\u001b[1;33m)\u001b[0m\u001b[1;33m\u001b[0m\u001b[0m\n\u001b[0m\u001b[0;32m   1626\u001b[0m             \u001b[0mself\u001b[0m\u001b[1;33m.\u001b[0m\u001b[0m_add_legend_handle\u001b[0m\u001b[1;33m(\u001b[0m\u001b[0mnewlines\u001b[0m\u001b[1;33m[\u001b[0m\u001b[1;36m0\u001b[0m\u001b[1;33m]\u001b[0m\u001b[1;33m,\u001b[0m \u001b[0mlabel\u001b[0m\u001b[1;33m,\u001b[0m \u001b[0mindex\u001b[0m\u001b[1;33m=\u001b[0m\u001b[0mi\u001b[0m\u001b[1;33m)\u001b[0m\u001b[1;33m\u001b[0m\u001b[0m\n\u001b[0;32m   1627\u001b[0m \u001b[1;33m\u001b[0m\u001b[0m\n",
      "\u001b[1;32mC:\\Users\\andersrmr\\Anaconda\\lib\\site-packages\\pandas\\tools\\plotting.pyc\u001b[0m in \u001b[0;36mplotf\u001b[1;34m(ax, x, y, style, column_num, **kwds)\u001b[0m\n\u001b[0;32m   1649\u001b[0m                 \u001b[0mself\u001b[0m\u001b[1;33m.\u001b[0m\u001b[0m_initialize_prior\u001b[0m\u001b[1;33m(\u001b[0m\u001b[0mlen\u001b[0m\u001b[1;33m(\u001b[0m\u001b[0mself\u001b[0m\u001b[1;33m.\u001b[0m\u001b[0mdata\u001b[0m\u001b[1;33m)\u001b[0m\u001b[1;33m)\u001b[0m\u001b[1;33m\u001b[0m\u001b[0m\n\u001b[0;32m   1650\u001b[0m             \u001b[0my_values\u001b[0m \u001b[1;33m=\u001b[0m \u001b[0mself\u001b[0m\u001b[1;33m.\u001b[0m\u001b[0m_get_stacked_values\u001b[0m\u001b[1;33m(\u001b[0m\u001b[0my\u001b[0m\u001b[1;33m,\u001b[0m \u001b[0mkwds\u001b[0m\u001b[1;33m[\u001b[0m\u001b[1;34m'label'\u001b[0m\u001b[1;33m]\u001b[0m\u001b[1;33m)\u001b[0m\u001b[1;33m\u001b[0m\u001b[0m\n\u001b[1;32m-> 1651\u001b[1;33m             \u001b[0mlines\u001b[0m \u001b[1;33m=\u001b[0m \u001b[0mf\u001b[0m\u001b[1;33m(\u001b[0m\u001b[0max\u001b[0m\u001b[1;33m,\u001b[0m \u001b[0mx\u001b[0m\u001b[1;33m,\u001b[0m \u001b[0my_values\u001b[0m\u001b[1;33m,\u001b[0m \u001b[0mstyle\u001b[0m\u001b[1;33m=\u001b[0m\u001b[0mstyle\u001b[0m\u001b[1;33m,\u001b[0m \u001b[1;33m**\u001b[0m\u001b[0mkwds\u001b[0m\u001b[1;33m)\u001b[0m\u001b[1;33m\u001b[0m\u001b[0m\n\u001b[0m\u001b[0;32m   1652\u001b[0m             \u001b[0mself\u001b[0m\u001b[1;33m.\u001b[0m\u001b[0m_update_prior\u001b[0m\u001b[1;33m(\u001b[0m\u001b[0my\u001b[0m\u001b[1;33m)\u001b[0m\u001b[1;33m\u001b[0m\u001b[0m\n\u001b[0;32m   1653\u001b[0m             \u001b[1;32mreturn\u001b[0m \u001b[0mlines\u001b[0m\u001b[1;33m\u001b[0m\u001b[0m\n",
      "\u001b[1;32mC:\\Users\\andersrmr\\Anaconda\\lib\\site-packages\\pandas\\tools\\plotting.pyc\u001b[0m in \u001b[0;36mplotf\u001b[1;34m(ax, x, y, style, **kwds)\u001b[0m\n\u001b[0;32m   1218\u001b[0m                 \u001b[1;32melse\u001b[0m\u001b[1;33m:\u001b[0m\u001b[1;33m\u001b[0m\u001b[0m\n\u001b[0;32m   1219\u001b[0m                     \u001b[0margs\u001b[0m \u001b[1;33m=\u001b[0m \u001b[1;33m(\u001b[0m\u001b[0max\u001b[0m\u001b[1;33m,\u001b[0m \u001b[0mx\u001b[0m\u001b[1;33m,\u001b[0m \u001b[0my\u001b[0m\u001b[1;33m)\u001b[0m\u001b[1;33m\u001b[0m\u001b[0m\n\u001b[1;32m-> 1220\u001b[1;33m                 \u001b[1;32mreturn\u001b[0m \u001b[0mself\u001b[0m\u001b[1;33m.\u001b[0m\u001b[0mplt\u001b[0m\u001b[1;33m.\u001b[0m\u001b[0mAxes\u001b[0m\u001b[1;33m.\u001b[0m\u001b[0mplot\u001b[0m\u001b[1;33m(\u001b[0m\u001b[1;33m*\u001b[0m\u001b[0margs\u001b[0m\u001b[1;33m,\u001b[0m \u001b[1;33m**\u001b[0m\u001b[0mkwds\u001b[0m\u001b[1;33m)\u001b[0m\u001b[1;33m\u001b[0m\u001b[0m\n\u001b[0m\u001b[0;32m   1221\u001b[0m         \u001b[1;32mreturn\u001b[0m \u001b[0mplotf\u001b[0m\u001b[1;33m\u001b[0m\u001b[0m\n\u001b[0;32m   1222\u001b[0m \u001b[1;33m\u001b[0m\u001b[0m\n",
      "\u001b[1;32mC:\\Users\\andersrmr\\Anaconda\\lib\\site-packages\\matplotlib\\axes\\_axes.pyc\u001b[0m in \u001b[0;36mplot\u001b[1;34m(self, *args, **kwargs)\u001b[0m\n\u001b[0;32m   1371\u001b[0m         \u001b[0mlines\u001b[0m \u001b[1;33m=\u001b[0m \u001b[1;33m[\u001b[0m\u001b[1;33m]\u001b[0m\u001b[1;33m\u001b[0m\u001b[0m\n\u001b[0;32m   1372\u001b[0m \u001b[1;33m\u001b[0m\u001b[0m\n\u001b[1;32m-> 1373\u001b[1;33m         \u001b[1;32mfor\u001b[0m \u001b[0mline\u001b[0m \u001b[1;32min\u001b[0m \u001b[0mself\u001b[0m\u001b[1;33m.\u001b[0m\u001b[0m_get_lines\u001b[0m\u001b[1;33m(\u001b[0m\u001b[1;33m*\u001b[0m\u001b[0margs\u001b[0m\u001b[1;33m,\u001b[0m \u001b[1;33m**\u001b[0m\u001b[0mkwargs\u001b[0m\u001b[1;33m)\u001b[0m\u001b[1;33m:\u001b[0m\u001b[1;33m\u001b[0m\u001b[0m\n\u001b[0m\u001b[0;32m   1374\u001b[0m             \u001b[0mself\u001b[0m\u001b[1;33m.\u001b[0m\u001b[0madd_line\u001b[0m\u001b[1;33m(\u001b[0m\u001b[0mline\u001b[0m\u001b[1;33m)\u001b[0m\u001b[1;33m\u001b[0m\u001b[0m\n\u001b[0;32m   1375\u001b[0m             \u001b[0mlines\u001b[0m\u001b[1;33m.\u001b[0m\u001b[0mappend\u001b[0m\u001b[1;33m(\u001b[0m\u001b[0mline\u001b[0m\u001b[1;33m)\u001b[0m\u001b[1;33m\u001b[0m\u001b[0m\n",
      "\u001b[1;32mC:\\Users\\andersrmr\\Anaconda\\lib\\site-packages\\matplotlib\\axes\\_base.pyc\u001b[0m in \u001b[0;36m_grab_next_args\u001b[1;34m(self, *args, **kwargs)\u001b[0m\n\u001b[0;32m    302\u001b[0m                 \u001b[1;32mreturn\u001b[0m\u001b[1;33m\u001b[0m\u001b[0m\n\u001b[0;32m    303\u001b[0m             \u001b[1;32mif\u001b[0m \u001b[0mlen\u001b[0m\u001b[1;33m(\u001b[0m\u001b[0mremaining\u001b[0m\u001b[1;33m)\u001b[0m \u001b[1;33m<=\u001b[0m \u001b[1;36m3\u001b[0m\u001b[1;33m:\u001b[0m\u001b[1;33m\u001b[0m\u001b[0m\n\u001b[1;32m--> 304\u001b[1;33m                 \u001b[1;32mfor\u001b[0m \u001b[0mseg\u001b[0m \u001b[1;32min\u001b[0m \u001b[0mself\u001b[0m\u001b[1;33m.\u001b[0m\u001b[0m_plot_args\u001b[0m\u001b[1;33m(\u001b[0m\u001b[0mremaining\u001b[0m\u001b[1;33m,\u001b[0m \u001b[0mkwargs\u001b[0m\u001b[1;33m)\u001b[0m\u001b[1;33m:\u001b[0m\u001b[1;33m\u001b[0m\u001b[0m\n\u001b[0m\u001b[0;32m    305\u001b[0m                     \u001b[1;32myield\u001b[0m \u001b[0mseg\u001b[0m\u001b[1;33m\u001b[0m\u001b[0m\n\u001b[0;32m    306\u001b[0m                 \u001b[1;32mreturn\u001b[0m\u001b[1;33m\u001b[0m\u001b[0m\n",
      "\u001b[1;32mC:\\Users\\andersrmr\\Anaconda\\lib\\site-packages\\matplotlib\\axes\\_base.pyc\u001b[0m in \u001b[0;36m_plot_args\u001b[1;34m(self, tup, kwargs)\u001b[0m\n\u001b[0;32m    290\u001b[0m         \u001b[0mncx\u001b[0m\u001b[1;33m,\u001b[0m \u001b[0mncy\u001b[0m \u001b[1;33m=\u001b[0m \u001b[0mx\u001b[0m\u001b[1;33m.\u001b[0m\u001b[0mshape\u001b[0m\u001b[1;33m[\u001b[0m\u001b[1;36m1\u001b[0m\u001b[1;33m]\u001b[0m\u001b[1;33m,\u001b[0m \u001b[0my\u001b[0m\u001b[1;33m.\u001b[0m\u001b[0mshape\u001b[0m\u001b[1;33m[\u001b[0m\u001b[1;36m1\u001b[0m\u001b[1;33m]\u001b[0m\u001b[1;33m\u001b[0m\u001b[0m\n\u001b[0;32m    291\u001b[0m         \u001b[1;32mfor\u001b[0m \u001b[0mj\u001b[0m \u001b[1;32min\u001b[0m \u001b[0mxrange\u001b[0m\u001b[1;33m(\u001b[0m\u001b[0mmax\u001b[0m\u001b[1;33m(\u001b[0m\u001b[0mncx\u001b[0m\u001b[1;33m,\u001b[0m \u001b[0mncy\u001b[0m\u001b[1;33m)\u001b[0m\u001b[1;33m)\u001b[0m\u001b[1;33m:\u001b[0m\u001b[1;33m\u001b[0m\u001b[0m\n\u001b[1;32m--> 292\u001b[1;33m             \u001b[0mseg\u001b[0m \u001b[1;33m=\u001b[0m \u001b[0mfunc\u001b[0m\u001b[1;33m(\u001b[0m\u001b[0mx\u001b[0m\u001b[1;33m[\u001b[0m\u001b[1;33m:\u001b[0m\u001b[1;33m,\u001b[0m \u001b[0mj\u001b[0m \u001b[1;33m%\u001b[0m \u001b[0mncx\u001b[0m\u001b[1;33m]\u001b[0m\u001b[1;33m,\u001b[0m \u001b[0my\u001b[0m\u001b[1;33m[\u001b[0m\u001b[1;33m:\u001b[0m\u001b[1;33m,\u001b[0m \u001b[0mj\u001b[0m \u001b[1;33m%\u001b[0m \u001b[0mncy\u001b[0m\u001b[1;33m]\u001b[0m\u001b[1;33m,\u001b[0m \u001b[0mkw\u001b[0m\u001b[1;33m,\u001b[0m \u001b[0mkwargs\u001b[0m\u001b[1;33m)\u001b[0m\u001b[1;33m\u001b[0m\u001b[0m\n\u001b[0m\u001b[0;32m    293\u001b[0m             \u001b[0mret\u001b[0m\u001b[1;33m.\u001b[0m\u001b[0mappend\u001b[0m\u001b[1;33m(\u001b[0m\u001b[0mseg\u001b[0m\u001b[1;33m)\u001b[0m\u001b[1;33m\u001b[0m\u001b[0m\n\u001b[0;32m    294\u001b[0m         \u001b[1;32mreturn\u001b[0m \u001b[0mret\u001b[0m\u001b[1;33m\u001b[0m\u001b[0m\n",
      "\u001b[1;32mC:\\Users\\andersrmr\\Anaconda\\lib\\site-packages\\matplotlib\\axes\\_base.pyc\u001b[0m in \u001b[0;36m_makeline\u001b[1;34m(self, x, y, kw, kwargs)\u001b[0m\n\u001b[0;32m    242\u001b[0m                             \u001b[1;33m**\u001b[0m\u001b[0mkw\u001b[0m\u001b[1;33m\u001b[0m\u001b[0m\n\u001b[0;32m    243\u001b[0m                             )\n\u001b[1;32m--> 244\u001b[1;33m         \u001b[0mself\u001b[0m\u001b[1;33m.\u001b[0m\u001b[0mset_lineprops\u001b[0m\u001b[1;33m(\u001b[0m\u001b[0mseg\u001b[0m\u001b[1;33m,\u001b[0m \u001b[1;33m**\u001b[0m\u001b[0mkwargs\u001b[0m\u001b[1;33m)\u001b[0m\u001b[1;33m\u001b[0m\u001b[0m\n\u001b[0m\u001b[0;32m    245\u001b[0m         \u001b[1;32mreturn\u001b[0m \u001b[0mseg\u001b[0m\u001b[1;33m\u001b[0m\u001b[0m\n\u001b[0;32m    246\u001b[0m \u001b[1;33m\u001b[0m\u001b[0m\n",
      "\u001b[1;32mC:\\Users\\andersrmr\\Anaconda\\lib\\site-packages\\matplotlib\\axes\\_base.pyc\u001b[0m in \u001b[0;36mset_lineprops\u001b[1;34m(self, line, **kwargs)\u001b[0m\n\u001b[0;32m    182\u001b[0m             \u001b[0mfuncName\u001b[0m \u001b[1;33m=\u001b[0m \u001b[1;34m\"set_%s\"\u001b[0m \u001b[1;33m%\u001b[0m \u001b[0mkey\u001b[0m\u001b[1;33m\u001b[0m\u001b[0m\n\u001b[0;32m    183\u001b[0m             \u001b[1;32mif\u001b[0m \u001b[1;32mnot\u001b[0m \u001b[0mhasattr\u001b[0m\u001b[1;33m(\u001b[0m\u001b[0mline\u001b[0m\u001b[1;33m,\u001b[0m \u001b[0mfuncName\u001b[0m\u001b[1;33m)\u001b[0m\u001b[1;33m:\u001b[0m\u001b[1;33m\u001b[0m\u001b[0m\n\u001b[1;32m--> 184\u001b[1;33m                 \u001b[1;32mraise\u001b[0m \u001b[0mTypeError\u001b[0m\u001b[1;33m(\u001b[0m\u001b[1;34m'There is no line property \"%s\"'\u001b[0m \u001b[1;33m%\u001b[0m \u001b[0mkey\u001b[0m\u001b[1;33m)\u001b[0m\u001b[1;33m\u001b[0m\u001b[0m\n\u001b[0m\u001b[0;32m    185\u001b[0m             \u001b[0mfunc\u001b[0m \u001b[1;33m=\u001b[0m \u001b[0mgetattr\u001b[0m\u001b[1;33m(\u001b[0m\u001b[0mline\u001b[0m\u001b[1;33m,\u001b[0m \u001b[0mfuncName\u001b[0m\u001b[1;33m)\u001b[0m\u001b[1;33m\u001b[0m\u001b[0m\n\u001b[0;32m    186\u001b[0m             \u001b[0mfunc\u001b[0m\u001b[1;33m(\u001b[0m\u001b[0mval\u001b[0m\u001b[1;33m)\u001b[0m\u001b[1;33m\u001b[0m\u001b[0m\n",
      "\u001b[1;31mTypeError\u001b[0m: There is no line property \"name\""
     ]
    },
    {
     "data": {
      "image/png": "[encoded data removed]",
      "text/plain": [
       "<matplotlib.figure.Figure at 0xea3f400>"
      ]
     },
     "metadata": {},
     "output_type": "display_data"
    }
   ],
   "source": [
    "ts.plot(name=False)"
   ]
  },
  {
   "cell_type": "code",
   "execution_count": null,
   "metadata": {
    "collapsed": true
   },
   "outputs": [],
   "source": []
  }
 ],
 "metadata": {
  "kernelspec": {
   "display_name": "Python 2",
   "language": "python",
   "name": "python2"
  },
  "language_info": {
   "codemirror_mode": {
    "name": "ipython",
    "version": 2
   },
   "file_extension": ".py",
   "mimetype": "text/x-python",
   "name": "python",
   "nbconvert_exporter": "python",
   "pygments_lexer": "ipython2",
   "version": "2.7.10"
  }
 },
 "nbformat": 4,
 "nbformat_minor": 0
}
